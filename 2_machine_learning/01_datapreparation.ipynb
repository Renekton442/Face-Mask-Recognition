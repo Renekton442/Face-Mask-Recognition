{
 "cells": [
  {
   "cell_type": "code",
   "execution_count": 1,
   "id": "6945ad44",
   "metadata": {},
   "outputs": [],
   "source": [
    "# import libraries\n",
    "import os\n",
    "import numpy as np\n",
    "import pandas as pd\n",
    "import cv2\n",
    "import gc\n",
    "from tqdm import tqdm\n",
    "from glob import glob"
   ]
  },
  {
   "cell_type": "markdown",
   "id": "8971db7d",
   "metadata": {},
   "source": [
    "#### Step-1 and -2\n",
    "- Collect all data\n",
    "- labelling"
   ]
  },
  {
   "cell_type": "code",
   "execution_count": 2,
   "id": "8486fae3",
   "metadata": {},
   "outputs": [],
   "source": [
    "dirs = os.listdir('data')\n",
    "images_path = []\n",
    "labels = []\n",
    "for folder in dirs:\n",
    "    path = glob('./data/{}/*.jpg'.format(folder))\n",
    "    label = ['{}'.format(folder)]*len(path)\n",
    "    ## append\n",
    "    images_path.extend(path)\n",
    "    labels.extend(label)"
   ]
  },
  {
   "cell_type": "code",
   "execution_count": 3,
   "id": "fd28621b",
   "metadata": {
    "scrolled": true
   },
   "outputs": [
    {
     "data": {
      "text/plain": [
       "['./data/Mask\\\\00000.jpg',\n",
       " './data/Mask\\\\00001.jpg',\n",
       " './data/Mask\\\\00002.jpg',\n",
       " './data/Mask\\\\00003.jpg',\n",
       " './data/Mask\\\\00004.jpg',\n",
       " './data/Mask\\\\00005.jpg',\n",
       " './data/Mask\\\\00006.jpg',\n",
       " './data/Mask\\\\00007.jpg',\n",
       " './data/Mask\\\\00008.jpg',\n",
       " './data/Mask\\\\00009.jpg',\n",
       " './data/Mask\\\\00010.jpg',\n",
       " './data/Mask\\\\00011.jpg',\n",
       " './data/Mask\\\\00012.jpg',\n",
       " './data/Mask\\\\00013.jpg',\n",
       " './data/Mask\\\\00014.jpg',\n",
       " './data/Mask\\\\00015.jpg',\n",
       " './data/Mask\\\\00016.jpg',\n",
       " './data/Mask\\\\00017.jpg',\n",
       " './data/Mask\\\\00018.jpg',\n",
       " './data/Mask\\\\00019.jpg',\n",
       " './data/Mask\\\\00020.jpg',\n",
       " './data/Mask\\\\00021.jpg',\n",
       " './data/Mask\\\\00022.jpg',\n",
       " './data/Mask\\\\00023.jpg',\n",
       " './data/Mask\\\\00024.jpg',\n",
       " './data/Mask\\\\00025.jpg',\n",
       " './data/Mask\\\\00026.jpg',\n",
       " './data/Mask\\\\00027.jpg',\n",
       " './data/Mask\\\\00028.jpg',\n",
       " './data/Mask\\\\00029.jpg',\n",
       " './data/Mask\\\\00030.jpg',\n",
       " './data/Mask\\\\00031.jpg',\n",
       " './data/Mask\\\\00032.jpg',\n",
       " './data/Mask\\\\00033.jpg',\n",
       " './data/Mask\\\\00034.jpg',\n",
       " './data/Mask\\\\00035.jpg',\n",
       " './data/Mask\\\\00036.jpg',\n",
       " './data/Mask\\\\00037.jpg',\n",
       " './data/Mask\\\\00038.jpg',\n",
       " './data/Mask\\\\00039.jpg',\n",
       " './data/Mask\\\\00040.jpg',\n",
       " './data/Mask\\\\00041.jpg',\n",
       " './data/Mask\\\\00042.jpg',\n",
       " './data/Mask\\\\00043.jpg',\n",
       " './data/Mask\\\\00044.jpg',\n",
       " './data/Mask\\\\00045.jpg',\n",
       " './data/Mask\\\\00046.jpg',\n",
       " './data/Mask\\\\00047.jpg',\n",
       " './data/Mask\\\\00048.jpg',\n",
       " './data/Mask\\\\00049.jpg',\n",
       " './data/Mask\\\\00050.jpg',\n",
       " './data/Mask\\\\00051.jpg',\n",
       " './data/Mask\\\\00052.jpg',\n",
       " './data/Mask\\\\00053.jpg',\n",
       " './data/Mask\\\\00054.jpg',\n",
       " './data/Mask\\\\00055.jpg',\n",
       " './data/Mask\\\\00056.jpg',\n",
       " './data/Mask\\\\00057.jpg',\n",
       " './data/Mask\\\\00058.jpg',\n",
       " './data/Mask\\\\00059.jpg',\n",
       " './data/Mask\\\\00060.jpg',\n",
       " './data/Mask\\\\00061.jpg',\n",
       " './data/Mask\\\\00062.jpg',\n",
       " './data/Mask\\\\00063.jpg',\n",
       " './data/Mask\\\\00064.jpg',\n",
       " './data/Mask\\\\00065.jpg',\n",
       " './data/Mask\\\\00066.jpg',\n",
       " './data/Mask\\\\00067.jpg',\n",
       " './data/Mask\\\\00068.jpg',\n",
       " './data/Mask\\\\00069.jpg',\n",
       " './data/Mask\\\\00070.jpg',\n",
       " './data/Mask\\\\00071.jpg',\n",
       " './data/Mask\\\\00072.jpg',\n",
       " './data/Mask\\\\00073.jpg',\n",
       " './data/Mask\\\\00074.jpg',\n",
       " './data/Mask\\\\00075.jpg',\n",
       " './data/Mask\\\\00076.jpg',\n",
       " './data/Mask\\\\00077.jpg',\n",
       " './data/Mask\\\\00078.jpg',\n",
       " './data/Mask\\\\00079.jpg',\n",
       " './data/Mask\\\\00080.jpg',\n",
       " './data/Mask\\\\00081.jpg',\n",
       " './data/Mask\\\\00082.jpg',\n",
       " './data/Mask\\\\00083.jpg',\n",
       " './data/Mask\\\\00084.jpg',\n",
       " './data/Mask\\\\00085.jpg',\n",
       " './data/Mask\\\\00086.jpg',\n",
       " './data/Mask\\\\00087.jpg',\n",
       " './data/Mask\\\\00088.jpg',\n",
       " './data/Mask\\\\00089.jpg',\n",
       " './data/Mask\\\\00090.jpg',\n",
       " './data/Mask\\\\00091.jpg',\n",
       " './data/Mask\\\\00092.jpg',\n",
       " './data/Mask\\\\00093.jpg',\n",
       " './data/Mask\\\\00094.jpg',\n",
       " './data/Mask\\\\00095.jpg',\n",
       " './data/Mask\\\\00096.jpg',\n",
       " './data/Mask\\\\00097.jpg',\n",
       " './data/Mask\\\\00098.jpg',\n",
       " './data/Mask\\\\00099.jpg',\n",
       " './data/Mask\\\\00100.jpg',\n",
       " './data/Mask\\\\00101.jpg',\n",
       " './data/Mask\\\\00102.jpg',\n",
       " './data/Mask\\\\00103.jpg',\n",
       " './data/Mask\\\\00104.jpg',\n",
       " './data/Mask\\\\00105.jpg',\n",
       " './data/Mask\\\\00106.jpg',\n",
       " './data/Mask\\\\00107.jpg',\n",
       " './data/Mask\\\\00108.jpg',\n",
       " './data/Mask\\\\00109.jpg',\n",
       " './data/Mask\\\\00110.jpg',\n",
       " './data/Mask\\\\00111.jpg',\n",
       " './data/Mask\\\\00112.jpg',\n",
       " './data/Mask\\\\00113.jpg',\n",
       " './data/Mask\\\\00114.jpg',\n",
       " './data/Mask\\\\00115.jpg',\n",
       " './data/Mask\\\\00116.jpg',\n",
       " './data/Mask\\\\00117.jpg',\n",
       " './data/Mask\\\\00118.jpg',\n",
       " './data/Mask\\\\00119.jpg',\n",
       " './data/Mask\\\\00120.jpg',\n",
       " './data/Mask\\\\00121.jpg',\n",
       " './data/Mask\\\\00122.jpg',\n",
       " './data/Mask\\\\00123.jpg',\n",
       " './data/Mask\\\\00124.jpg',\n",
       " './data/Mask\\\\00125.jpg',\n",
       " './data/Mask\\\\00126.jpg',\n",
       " './data/Mask\\\\00127.jpg',\n",
       " './data/Mask\\\\00128.jpg',\n",
       " './data/Mask\\\\00129.jpg',\n",
       " './data/Mask\\\\00130.jpg',\n",
       " './data/Mask\\\\00131.jpg',\n",
       " './data/Mask\\\\00132.jpg',\n",
       " './data/Mask\\\\00133.jpg',\n",
       " './data/Mask\\\\00134.jpg',\n",
       " './data/Mask\\\\00135.jpg',\n",
       " './data/Mask\\\\00136.jpg',\n",
       " './data/Mask\\\\00137.jpg',\n",
       " './data/Mask\\\\00138.jpg',\n",
       " './data/Mask\\\\00139.jpg',\n",
       " './data/Mask\\\\00140.jpg',\n",
       " './data/Mask\\\\00141.jpg',\n",
       " './data/Mask\\\\00142.jpg',\n",
       " './data/Mask\\\\00143.jpg',\n",
       " './data/Mask\\\\00144.jpg',\n",
       " './data/Mask\\\\00145.jpg',\n",
       " './data/Mask\\\\00146.jpg',\n",
       " './data/Mask\\\\00147.jpg',\n",
       " './data/Mask\\\\00148.jpg',\n",
       " './data/Mask\\\\00149.jpg',\n",
       " './data/Mask\\\\00150.jpg',\n",
       " './data/Mask\\\\00151.jpg',\n",
       " './data/Mask\\\\00152.jpg',\n",
       " './data/Mask\\\\00153.jpg',\n",
       " './data/Mask\\\\00154.jpg',\n",
       " './data/Mask\\\\00155.jpg',\n",
       " './data/Mask\\\\00156.jpg',\n",
       " './data/Mask\\\\00157.jpg',\n",
       " './data/Mask\\\\00158.jpg',\n",
       " './data/Mask\\\\00159.jpg',\n",
       " './data/Mask\\\\00160.jpg',\n",
       " './data/Mask\\\\00161.jpg',\n",
       " './data/Mask\\\\00162.jpg',\n",
       " './data/Mask\\\\00163.jpg',\n",
       " './data/Mask\\\\00164.jpg',\n",
       " './data/Mask\\\\00165.jpg',\n",
       " './data/Mask\\\\00166.jpg',\n",
       " './data/Mask\\\\00167.jpg',\n",
       " './data/Mask\\\\00168.jpg',\n",
       " './data/Mask\\\\00169.jpg',\n",
       " './data/Mask\\\\00170.jpg',\n",
       " './data/Mask\\\\00171.jpg',\n",
       " './data/Mask\\\\00172.jpg',\n",
       " './data/Mask\\\\00173.jpg',\n",
       " './data/Mask\\\\00174.jpg',\n",
       " './data/Mask\\\\00175.jpg',\n",
       " './data/Mask\\\\00176.jpg',\n",
       " './data/Mask\\\\00177.jpg',\n",
       " './data/Mask\\\\00178.jpg',\n",
       " './data/Mask\\\\00179.jpg',\n",
       " './data/Mask\\\\00180.jpg',\n",
       " './data/Mask\\\\00181.jpg',\n",
       " './data/Mask\\\\00182.jpg',\n",
       " './data/Mask\\\\00183.jpg',\n",
       " './data/Mask\\\\00184.jpg',\n",
       " './data/Mask\\\\00185.jpg',\n",
       " './data/Mask\\\\00186.jpg',\n",
       " './data/Mask\\\\00187.jpg',\n",
       " './data/Mask\\\\00188.jpg',\n",
       " './data/Mask\\\\00189.jpg',\n",
       " './data/Mask\\\\00190.jpg',\n",
       " './data/Mask\\\\00191.jpg',\n",
       " './data/Mask\\\\00192.jpg',\n",
       " './data/Mask\\\\00193.jpg',\n",
       " './data/Mask\\\\00194.jpg',\n",
       " './data/Mask\\\\00195.jpg',\n",
       " './data/Mask\\\\00196.jpg',\n",
       " './data/Mask\\\\00197.jpg',\n",
       " './data/Mask\\\\00198.jpg',\n",
       " './data/Mask\\\\00199.jpg',\n",
       " './data/Mask\\\\00200.jpg',\n",
       " './data/Mask\\\\00201.jpg',\n",
       " './data/Mask\\\\00202.jpg',\n",
       " './data/Mask\\\\00203.jpg',\n",
       " './data/Mask\\\\00204.jpg',\n",
       " './data/Mask\\\\00205.jpg',\n",
       " './data/Mask\\\\00206.jpg',\n",
       " './data/Mask\\\\00207.jpg',\n",
       " './data/Mask\\\\00208.jpg',\n",
       " './data/Mask\\\\00209.jpg',\n",
       " './data/Mask\\\\00210.jpg',\n",
       " './data/Mask\\\\00211.jpg',\n",
       " './data/Mask\\\\00212.jpg',\n",
       " './data/Mask\\\\00213.jpg',\n",
       " './data/Mask\\\\00214.jpg',\n",
       " './data/Mask\\\\00215.jpg',\n",
       " './data/Mask\\\\00216.jpg',\n",
       " './data/Mask\\\\00217.jpg',\n",
       " './data/Mask\\\\00218.jpg',\n",
       " './data/Mask\\\\00219.jpg',\n",
       " './data/Mask\\\\00220.jpg',\n",
       " './data/Mask\\\\00221.jpg',\n",
       " './data/Mask\\\\00222.jpg',\n",
       " './data/Mask\\\\00223.jpg',\n",
       " './data/Mask\\\\00224.jpg',\n",
       " './data/Mask\\\\00225.jpg',\n",
       " './data/Mask\\\\00226.jpg',\n",
       " './data/Mask\\\\00227.jpg',\n",
       " './data/Mask\\\\00228.jpg',\n",
       " './data/Mask\\\\00229.jpg',\n",
       " './data/Mask\\\\00230.jpg',\n",
       " './data/Mask\\\\00231.jpg',\n",
       " './data/Mask\\\\00232.jpg',\n",
       " './data/Mask\\\\00233.jpg',\n",
       " './data/Mask\\\\00234.jpg',\n",
       " './data/Mask\\\\00235.jpg',\n",
       " './data/Mask\\\\00236.jpg',\n",
       " './data/Mask\\\\00237.jpg',\n",
       " './data/Mask\\\\00238.jpg',\n",
       " './data/Mask\\\\00239.jpg',\n",
       " './data/Mask\\\\00240.jpg',\n",
       " './data/Mask\\\\00241.jpg',\n",
       " './data/Mask\\\\00242.jpg',\n",
       " './data/Mask\\\\00243.jpg',\n",
       " './data/Mask\\\\00244.jpg',\n",
       " './data/Mask\\\\00245.jpg',\n",
       " './data/Mask\\\\00246.jpg',\n",
       " './data/Mask\\\\00247.jpg',\n",
       " './data/Mask\\\\00248.jpg',\n",
       " './data/Mask\\\\00249.jpg',\n",
       " './data/Mask\\\\00250.jpg',\n",
       " './data/Mask\\\\00251.jpg',\n",
       " './data/Mask\\\\00252.jpg',\n",
       " './data/Mask\\\\00253.jpg',\n",
       " './data/Mask\\\\00254.jpg',\n",
       " './data/Mask\\\\00255.jpg',\n",
       " './data/Mask\\\\00256.jpg',\n",
       " './data/Mask\\\\00257.jpg',\n",
       " './data/Mask\\\\00258.jpg',\n",
       " './data/Mask\\\\00259.jpg',\n",
       " './data/Mask\\\\00260.jpg',\n",
       " './data/Mask\\\\00261.jpg',\n",
       " './data/Mask\\\\00262.jpg',\n",
       " './data/Mask\\\\00263.jpg',\n",
       " './data/Mask\\\\00264.jpg',\n",
       " './data/Mask\\\\00265.jpg',\n",
       " './data/Mask\\\\00266.jpg',\n",
       " './data/Mask\\\\00267.jpg',\n",
       " './data/Mask\\\\00268.jpg',\n",
       " './data/Mask\\\\00269.jpg',\n",
       " './data/Mask\\\\00270.jpg',\n",
       " './data/Mask\\\\00271.jpg',\n",
       " './data/Mask\\\\00272.jpg',\n",
       " './data/Mask\\\\00273.jpg',\n",
       " './data/Mask\\\\00274.jpg',\n",
       " './data/Mask\\\\00275.jpg',\n",
       " './data/Mask\\\\00276.jpg',\n",
       " './data/Mask\\\\00277.jpg',\n",
       " './data/Mask\\\\00278.jpg',\n",
       " './data/Mask\\\\00279.jpg',\n",
       " './data/Mask\\\\00280.jpg',\n",
       " './data/Mask\\\\00281.jpg',\n",
       " './data/Mask\\\\00282.jpg',\n",
       " './data/Mask\\\\00283.jpg',\n",
       " './data/Mask\\\\00284.jpg',\n",
       " './data/Mask\\\\00285.jpg',\n",
       " './data/Mask\\\\00286.jpg',\n",
       " './data/Mask\\\\00287.jpg',\n",
       " './data/Mask\\\\00288.jpg',\n",
       " './data/Mask\\\\00289.jpg',\n",
       " './data/Mask\\\\00290.jpg',\n",
       " './data/Mask\\\\00291.jpg',\n",
       " './data/Mask\\\\00292.jpg',\n",
       " './data/Mask\\\\00293.jpg',\n",
       " './data/Mask\\\\00294.jpg',\n",
       " './data/Mask\\\\00295.jpg',\n",
       " './data/Mask\\\\00296.jpg',\n",
       " './data/Mask\\\\00297.jpg',\n",
       " './data/Mask\\\\00298.jpg',\n",
       " './data/Mask\\\\00299.jpg',\n",
       " './data/Mask\\\\00300.jpg',\n",
       " './data/Mask\\\\00301.jpg',\n",
       " './data/Mask\\\\00302.jpg',\n",
       " './data/Mask\\\\00303.jpg',\n",
       " './data/Mask\\\\00304.jpg',\n",
       " './data/Mask\\\\00305.jpg',\n",
       " './data/Mask\\\\00306.jpg',\n",
       " './data/Mask\\\\00307.jpg',\n",
       " './data/Mask\\\\00308.jpg',\n",
       " './data/Mask\\\\00309.jpg',\n",
       " './data/Mask\\\\00310.jpg',\n",
       " './data/Mask\\\\00311.jpg',\n",
       " './data/Mask\\\\00312.jpg',\n",
       " './data/Mask\\\\00313.jpg',\n",
       " './data/Mask\\\\00314.jpg',\n",
       " './data/Mask\\\\00315.jpg',\n",
       " './data/Mask\\\\00316.jpg',\n",
       " './data/Mask\\\\00317.jpg',\n",
       " './data/Mask\\\\00318.jpg',\n",
       " './data/Mask\\\\00319.jpg',\n",
       " './data/Mask\\\\00320.jpg',\n",
       " './data/Mask\\\\00321.jpg',\n",
       " './data/Mask\\\\00322.jpg',\n",
       " './data/Mask\\\\00323.jpg',\n",
       " './data/Mask\\\\00324.jpg',\n",
       " './data/Mask\\\\00325.jpg',\n",
       " './data/Mask\\\\00326.jpg',\n",
       " './data/Mask\\\\00327.jpg',\n",
       " './data/Mask\\\\00328.jpg',\n",
       " './data/Mask\\\\00329.jpg',\n",
       " './data/Mask\\\\00330.jpg',\n",
       " './data/Mask\\\\00331.jpg',\n",
       " './data/Mask\\\\00332.jpg',\n",
       " './data/Mask\\\\00333.jpg',\n",
       " './data/Mask\\\\00334.jpg',\n",
       " './data/Mask\\\\00335.jpg',\n",
       " './data/Mask\\\\00336.jpg',\n",
       " './data/Mask\\\\00337.jpg',\n",
       " './data/Mask\\\\00338.jpg',\n",
       " './data/Mask\\\\00339.jpg',\n",
       " './data/Mask\\\\00340.jpg',\n",
       " './data/Mask\\\\00341.jpg',\n",
       " './data/Mask\\\\00342.jpg',\n",
       " './data/Mask\\\\00343.jpg',\n",
       " './data/Mask\\\\00344.jpg',\n",
       " './data/Mask\\\\00345.jpg',\n",
       " './data/Mask\\\\00346.jpg',\n",
       " './data/Mask\\\\00347.jpg',\n",
       " './data/Mask\\\\00348.jpg',\n",
       " './data/Mask\\\\00349.jpg',\n",
       " './data/Mask\\\\00350.jpg',\n",
       " './data/Mask\\\\00351.jpg',\n",
       " './data/Mask\\\\00352.jpg',\n",
       " './data/Mask\\\\00353.jpg',\n",
       " './data/Mask\\\\00354.jpg',\n",
       " './data/Mask\\\\00355.jpg',\n",
       " './data/Mask\\\\00356.jpg',\n",
       " './data/Mask\\\\00357.jpg',\n",
       " './data/Mask\\\\00358.jpg',\n",
       " './data/Mask\\\\00359.jpg',\n",
       " './data/Mask\\\\00360.jpg',\n",
       " './data/Mask\\\\00361.jpg',\n",
       " './data/Mask\\\\00362.jpg',\n",
       " './data/Mask\\\\00363.jpg',\n",
       " './data/Mask\\\\00364.jpg',\n",
       " './data/Mask\\\\00365.jpg',\n",
       " './data/Mask\\\\00366.jpg',\n",
       " './data/Mask\\\\00367.jpg',\n",
       " './data/Mask\\\\00368.jpg',\n",
       " './data/Mask\\\\00369.jpg',\n",
       " './data/Mask\\\\00370.jpg',\n",
       " './data/Mask\\\\00371.jpg',\n",
       " './data/Mask\\\\00372.jpg',\n",
       " './data/Mask\\\\00373.jpg',\n",
       " './data/Mask\\\\00374.jpg',\n",
       " './data/Mask\\\\00375.jpg',\n",
       " './data/Mask\\\\00376.jpg',\n",
       " './data/Mask\\\\00377.jpg',\n",
       " './data/Mask\\\\00378.jpg',\n",
       " './data/Mask\\\\00379.jpg',\n",
       " './data/Mask\\\\00380.jpg',\n",
       " './data/Mask\\\\00381.jpg',\n",
       " './data/Mask\\\\00382.jpg',\n",
       " './data/Mask\\\\00383.jpg',\n",
       " './data/Mask\\\\00384.jpg',\n",
       " './data/Mask\\\\00385.jpg',\n",
       " './data/Mask\\\\00386.jpg',\n",
       " './data/Mask\\\\00387.jpg',\n",
       " './data/Mask\\\\00388.jpg',\n",
       " './data/Mask\\\\00389.jpg',\n",
       " './data/Mask\\\\00390.jpg',\n",
       " './data/Mask\\\\00391.jpg',\n",
       " './data/Mask\\\\00392.jpg',\n",
       " './data/Mask\\\\00393.jpg',\n",
       " './data/Mask\\\\00394.jpg',\n",
       " './data/Mask\\\\00395.jpg',\n",
       " './data/Mask\\\\00396.jpg',\n",
       " './data/Mask\\\\00397.jpg',\n",
       " './data/Mask\\\\00398.jpg',\n",
       " './data/Mask\\\\00399.jpg',\n",
       " './data/Mask\\\\00400.jpg',\n",
       " './data/Mask\\\\00401.jpg',\n",
       " './data/Mask\\\\00402.jpg',\n",
       " './data/Mask\\\\00403.jpg',\n",
       " './data/Mask\\\\00404.jpg',\n",
       " './data/Mask\\\\00405.jpg',\n",
       " './data/Mask\\\\00406.jpg',\n",
       " './data/Mask\\\\00407.jpg',\n",
       " './data/Mask\\\\00408.jpg',\n",
       " './data/Mask\\\\00409.jpg',\n",
       " './data/Mask\\\\00410.jpg',\n",
       " './data/Mask\\\\00411.jpg',\n",
       " './data/Mask\\\\00412.jpg',\n",
       " './data/Mask\\\\00413.jpg',\n",
       " './data/Mask\\\\00414.jpg',\n",
       " './data/Mask\\\\00415.jpg',\n",
       " './data/Mask\\\\00416.jpg',\n",
       " './data/Mask\\\\00417.jpg',\n",
       " './data/Mask\\\\00418.jpg',\n",
       " './data/Mask\\\\00419.jpg',\n",
       " './data/Mask\\\\00420.jpg',\n",
       " './data/Mask\\\\00421.jpg',\n",
       " './data/Mask\\\\00422.jpg',\n",
       " './data/Mask\\\\00423.jpg',\n",
       " './data/Mask\\\\00424.jpg',\n",
       " './data/Mask\\\\00425.jpg',\n",
       " './data/Mask\\\\00426.jpg',\n",
       " './data/Mask\\\\00427.jpg',\n",
       " './data/Mask\\\\00428.jpg',\n",
       " './data/Mask\\\\00429.jpg',\n",
       " './data/Mask\\\\00430.jpg',\n",
       " './data/Mask\\\\00431.jpg',\n",
       " './data/Mask\\\\00432.jpg',\n",
       " './data/Mask\\\\00433.jpg',\n",
       " './data/Mask\\\\00434.jpg',\n",
       " './data/Mask\\\\00435.jpg',\n",
       " './data/Mask\\\\00436.jpg',\n",
       " './data/Mask\\\\00437.jpg',\n",
       " './data/Mask\\\\00438.jpg',\n",
       " './data/Mask\\\\00439.jpg',\n",
       " './data/Mask\\\\00440.jpg',\n",
       " './data/Mask\\\\00441.jpg',\n",
       " './data/Mask\\\\00442.jpg',\n",
       " './data/Mask\\\\00443.jpg',\n",
       " './data/Mask\\\\00444.jpg',\n",
       " './data/Mask\\\\00445.jpg',\n",
       " './data/Mask\\\\00446.jpg',\n",
       " './data/Mask\\\\00447.jpg',\n",
       " './data/Mask\\\\00448.jpg',\n",
       " './data/Mask\\\\00449.jpg',\n",
       " './data/Mask\\\\00450.jpg',\n",
       " './data/Mask\\\\00451.jpg',\n",
       " './data/Mask\\\\00452.jpg',\n",
       " './data/Mask\\\\00453.jpg',\n",
       " './data/Mask\\\\00454.jpg',\n",
       " './data/Mask\\\\00455.jpg',\n",
       " './data/Mask\\\\00456.jpg',\n",
       " './data/Mask\\\\00457.jpg',\n",
       " './data/Mask\\\\00458.jpg',\n",
       " './data/Mask\\\\00459.jpg',\n",
       " './data/Mask\\\\00460.jpg',\n",
       " './data/Mask\\\\00461.jpg',\n",
       " './data/Mask\\\\00462.jpg',\n",
       " './data/Mask\\\\00463.jpg',\n",
       " './data/Mask\\\\00464.jpg',\n",
       " './data/Mask\\\\00465.jpg',\n",
       " './data/Mask\\\\00466.jpg',\n",
       " './data/Mask\\\\00467.jpg',\n",
       " './data/Mask\\\\00468.jpg',\n",
       " './data/Mask\\\\00469.jpg',\n",
       " './data/Mask\\\\00470.jpg',\n",
       " './data/Mask\\\\00471.jpg',\n",
       " './data/Mask\\\\00472.jpg',\n",
       " './data/Mask\\\\00473.jpg',\n",
       " './data/Mask\\\\00474.jpg',\n",
       " './data/Mask\\\\00475.jpg',\n",
       " './data/Mask\\\\00476.jpg',\n",
       " './data/Mask\\\\00477.jpg',\n",
       " './data/Mask\\\\00478.jpg',\n",
       " './data/Mask\\\\00479.jpg',\n",
       " './data/Mask\\\\00480.jpg',\n",
       " './data/Mask\\\\00481.jpg',\n",
       " './data/Mask\\\\00482.jpg',\n",
       " './data/Mask\\\\00483.jpg',\n",
       " './data/Mask\\\\00484.jpg',\n",
       " './data/Mask\\\\00485.jpg',\n",
       " './data/Mask\\\\00486.jpg',\n",
       " './data/Mask\\\\00487.jpg',\n",
       " './data/Mask\\\\00488.jpg',\n",
       " './data/Mask\\\\00489.jpg',\n",
       " './data/Mask\\\\00490.jpg',\n",
       " './data/Mask\\\\00491.jpg',\n",
       " './data/Mask\\\\00492.jpg',\n",
       " './data/Mask\\\\00493.jpg',\n",
       " './data/Mask\\\\00494.jpg',\n",
       " './data/Mask\\\\00495.jpg',\n",
       " './data/Mask\\\\00496.jpg',\n",
       " './data/Mask\\\\00497.jpg',\n",
       " './data/Mask\\\\00498.jpg',\n",
       " './data/Mask\\\\00499.jpg',\n",
       " './data/Mask\\\\00500.jpg',\n",
       " './data/Mask\\\\00501.jpg',\n",
       " './data/Mask\\\\00502.jpg',\n",
       " './data/Mask\\\\00503.jpg',\n",
       " './data/Mask\\\\00504.jpg',\n",
       " './data/Mask\\\\00505.jpg',\n",
       " './data/Mask\\\\00506.jpg',\n",
       " './data/Mask\\\\00507.jpg',\n",
       " './data/Mask\\\\00508.jpg',\n",
       " './data/Mask\\\\00509.jpg',\n",
       " './data/Mask\\\\00510.jpg',\n",
       " './data/Mask\\\\00511.jpg',\n",
       " './data/Mask\\\\00512.jpg',\n",
       " './data/Mask\\\\00513.jpg',\n",
       " './data/Mask\\\\00514.jpg',\n",
       " './data/Mask\\\\00515.jpg',\n",
       " './data/Mask\\\\00516.jpg',\n",
       " './data/Mask\\\\00517.jpg',\n",
       " './data/Mask\\\\00518.jpg',\n",
       " './data/Mask\\\\00519.jpg',\n",
       " './data/Mask\\\\00520.jpg',\n",
       " './data/Mask\\\\00521.jpg',\n",
       " './data/Mask\\\\00522.jpg',\n",
       " './data/Mask\\\\00523.jpg',\n",
       " './data/Mask\\\\00524.jpg',\n",
       " './data/Mask\\\\00525.jpg',\n",
       " './data/Mask\\\\00526.jpg',\n",
       " './data/Mask\\\\00527.jpg',\n",
       " './data/Mask\\\\00528.jpg',\n",
       " './data/Mask\\\\00529.jpg',\n",
       " './data/Mask\\\\00530.jpg',\n",
       " './data/Mask\\\\00531.jpg',\n",
       " './data/Mask\\\\00532.jpg',\n",
       " './data/Mask\\\\00533.jpg',\n",
       " './data/Mask\\\\00534.jpg',\n",
       " './data/Mask\\\\00535.jpg',\n",
       " './data/Mask\\\\00536.jpg',\n",
       " './data/Mask\\\\00537.jpg',\n",
       " './data/Mask\\\\00538.jpg',\n",
       " './data/Mask\\\\00539.jpg',\n",
       " './data/Mask\\\\00540.jpg',\n",
       " './data/Mask\\\\00541.jpg',\n",
       " './data/Mask\\\\00542.jpg',\n",
       " './data/Mask\\\\00543.jpg',\n",
       " './data/Mask\\\\00544.jpg',\n",
       " './data/Mask\\\\00545.jpg',\n",
       " './data/Mask\\\\00546.jpg',\n",
       " './data/Mask\\\\00547.jpg',\n",
       " './data/Mask\\\\00548.jpg',\n",
       " './data/Mask\\\\00549.jpg',\n",
       " './data/Mask\\\\00550.jpg',\n",
       " './data/Mask\\\\00551.jpg',\n",
       " './data/Mask\\\\00552.jpg',\n",
       " './data/Mask\\\\00553.jpg',\n",
       " './data/Mask\\\\00554.jpg',\n",
       " './data/Mask\\\\00555.jpg',\n",
       " './data/Mask\\\\00556.jpg',\n",
       " './data/Mask\\\\00557.jpg',\n",
       " './data/Mask\\\\00558.jpg',\n",
       " './data/Mask\\\\00559.jpg',\n",
       " './data/Mask\\\\00560.jpg',\n",
       " './data/Mask\\\\00561.jpg',\n",
       " './data/Mask\\\\00562.jpg',\n",
       " './data/Mask\\\\00563.jpg',\n",
       " './data/Mask\\\\00564.jpg',\n",
       " './data/Mask\\\\00565.jpg',\n",
       " './data/Mask\\\\00566.jpg',\n",
       " './data/Mask\\\\00567.jpg',\n",
       " './data/Mask\\\\00568.jpg',\n",
       " './data/Mask\\\\00569.jpg',\n",
       " './data/Mask\\\\00570.jpg',\n",
       " './data/Mask\\\\00571.jpg',\n",
       " './data/Mask\\\\00572.jpg',\n",
       " './data/Mask\\\\00573.jpg',\n",
       " './data/Mask\\\\00574.jpg',\n",
       " './data/Mask\\\\00575.jpg',\n",
       " './data/Mask\\\\00576.jpg',\n",
       " './data/Mask\\\\00577.jpg',\n",
       " './data/Mask\\\\00578.jpg',\n",
       " './data/Mask\\\\00579.jpg',\n",
       " './data/Mask\\\\00580.jpg',\n",
       " './data/Mask\\\\00581.jpg',\n",
       " './data/Mask\\\\00582.jpg',\n",
       " './data/Mask\\\\00583.jpg',\n",
       " './data/Mask\\\\00584.jpg',\n",
       " './data/Mask\\\\00585.jpg',\n",
       " './data/Mask\\\\00586.jpg',\n",
       " './data/Mask\\\\00587.jpg',\n",
       " './data/Mask\\\\00588.jpg',\n",
       " './data/Mask\\\\00589.jpg',\n",
       " './data/Mask\\\\00590.jpg',\n",
       " './data/Mask\\\\00591.jpg',\n",
       " './data/Mask\\\\00592.jpg',\n",
       " './data/Mask\\\\00593.jpg',\n",
       " './data/Mask\\\\00594.jpg',\n",
       " './data/Mask\\\\00595.jpg',\n",
       " './data/Mask\\\\00596.jpg',\n",
       " './data/Mask\\\\00597.jpg',\n",
       " './data/Mask\\\\00598.jpg',\n",
       " './data/Mask\\\\00599.jpg',\n",
       " './data/Mask\\\\00600.jpg',\n",
       " './data/Mask\\\\00601.jpg',\n",
       " './data/Mask\\\\00602.jpg',\n",
       " './data/Mask\\\\00603.jpg',\n",
       " './data/Mask\\\\00604.jpg',\n",
       " './data/Mask\\\\00605.jpg',\n",
       " './data/Mask\\\\00606.jpg',\n",
       " './data/Mask\\\\00607.jpg',\n",
       " './data/Mask\\\\00608.jpg',\n",
       " './data/Mask\\\\00609.jpg',\n",
       " './data/Mask\\\\00610.jpg',\n",
       " './data/Mask\\\\00611.jpg',\n",
       " './data/Mask\\\\00612.jpg',\n",
       " './data/Mask\\\\00613.jpg',\n",
       " './data/Mask\\\\00614.jpg',\n",
       " './data/Mask\\\\00615.jpg',\n",
       " './data/Mask\\\\00616.jpg',\n",
       " './data/Mask\\\\00617.jpg',\n",
       " './data/Mask\\\\00618.jpg',\n",
       " './data/Mask\\\\00619.jpg',\n",
       " './data/Mask\\\\00620.jpg',\n",
       " './data/Mask\\\\00621.jpg',\n",
       " './data/Mask\\\\00622.jpg',\n",
       " './data/Mask\\\\00623.jpg',\n",
       " './data/Mask\\\\00624.jpg',\n",
       " './data/Mask\\\\00625.jpg',\n",
       " './data/Mask\\\\00626.jpg',\n",
       " './data/Mask\\\\00627.jpg',\n",
       " './data/Mask\\\\00628.jpg',\n",
       " './data/Mask\\\\00629.jpg',\n",
       " './data/Mask\\\\00630.jpg',\n",
       " './data/Mask\\\\00631.jpg',\n",
       " './data/Mask\\\\00632.jpg',\n",
       " './data/Mask\\\\00633.jpg',\n",
       " './data/Mask\\\\00634.jpg',\n",
       " './data/Mask\\\\00635.jpg',\n",
       " './data/Mask\\\\00636.jpg',\n",
       " './data/Mask\\\\00637.jpg',\n",
       " './data/Mask\\\\00638.jpg',\n",
       " './data/Mask\\\\00639.jpg',\n",
       " './data/Mask\\\\00640.jpg',\n",
       " './data/Mask\\\\00641.jpg',\n",
       " './data/Mask\\\\00642.jpg',\n",
       " './data/Mask\\\\00643.jpg',\n",
       " './data/Mask\\\\00644.jpg',\n",
       " './data/Mask\\\\00645.jpg',\n",
       " './data/Mask\\\\00646.jpg',\n",
       " './data/Mask\\\\00647.jpg',\n",
       " './data/Mask\\\\00648.jpg',\n",
       " './data/Mask\\\\00649.jpg',\n",
       " './data/Mask\\\\00650.jpg',\n",
       " './data/Mask\\\\00651.jpg',\n",
       " './data/Mask\\\\00652.jpg',\n",
       " './data/Mask\\\\00653.jpg',\n",
       " './data/Mask\\\\00654.jpg',\n",
       " './data/Mask\\\\00655.jpg',\n",
       " './data/Mask\\\\00656.jpg',\n",
       " './data/Mask\\\\00657.jpg',\n",
       " './data/Mask\\\\00658.jpg',\n",
       " './data/Mask\\\\00659.jpg',\n",
       " './data/Mask\\\\00660.jpg',\n",
       " './data/Mask\\\\00661.jpg',\n",
       " './data/Mask\\\\00662.jpg',\n",
       " './data/Mask\\\\00663.jpg',\n",
       " './data/Mask\\\\00664.jpg',\n",
       " './data/Mask\\\\00665.jpg',\n",
       " './data/Mask\\\\00666.jpg',\n",
       " './data/Mask\\\\00667.jpg',\n",
       " './data/Mask\\\\00668.jpg',\n",
       " './data/Mask\\\\00669.jpg',\n",
       " './data/Mask\\\\00670.jpg',\n",
       " './data/Mask\\\\00671.jpg',\n",
       " './data/Mask\\\\00672.jpg',\n",
       " './data/Mask\\\\00673.jpg',\n",
       " './data/Mask\\\\00674.jpg',\n",
       " './data/Mask\\\\00675.jpg',\n",
       " './data/Mask\\\\00676.jpg',\n",
       " './data/Mask\\\\00677.jpg',\n",
       " './data/Mask\\\\00678.jpg',\n",
       " './data/Mask\\\\00679.jpg',\n",
       " './data/Mask\\\\00680.jpg',\n",
       " './data/Mask\\\\00681.jpg',\n",
       " './data/Mask\\\\00682.jpg',\n",
       " './data/Mask\\\\00683.jpg',\n",
       " './data/Mask\\\\00684.jpg',\n",
       " './data/Mask\\\\00685.jpg',\n",
       " './data/Mask\\\\00686.jpg',\n",
       " './data/Mask\\\\00687.jpg',\n",
       " './data/Mask\\\\00688.jpg',\n",
       " './data/Mask\\\\00689.jpg',\n",
       " './data/Mask\\\\00690.jpg',\n",
       " './data/Mask\\\\00691.jpg',\n",
       " './data/Mask\\\\00692.jpg',\n",
       " './data/Mask\\\\00693.jpg',\n",
       " './data/Mask\\\\00694.jpg',\n",
       " './data/Mask\\\\00695.jpg',\n",
       " './data/Mask\\\\00696.jpg',\n",
       " './data/Mask\\\\00697.jpg',\n",
       " './data/Mask\\\\00698.jpg',\n",
       " './data/Mask\\\\00699.jpg',\n",
       " './data/Mask\\\\00700.jpg',\n",
       " './data/Mask\\\\00701.jpg',\n",
       " './data/Mask\\\\00702.jpg',\n",
       " './data/Mask\\\\00703.jpg',\n",
       " './data/Mask\\\\00704.jpg',\n",
       " './data/Mask\\\\00705.jpg',\n",
       " './data/Mask\\\\00706.jpg',\n",
       " './data/Mask\\\\00707.jpg',\n",
       " './data/Mask\\\\00708.jpg',\n",
       " './data/Mask\\\\00709.jpg',\n",
       " './data/Mask\\\\00710.jpg',\n",
       " './data/Mask\\\\00711.jpg',\n",
       " './data/Mask\\\\00712.jpg',\n",
       " './data/Mask\\\\00713.jpg',\n",
       " './data/Mask\\\\00714.jpg',\n",
       " './data/Mask\\\\00715.jpg',\n",
       " './data/Mask\\\\00716.jpg',\n",
       " './data/Mask\\\\00717.jpg',\n",
       " './data/Mask\\\\00718.jpg',\n",
       " './data/Mask\\\\00719.jpg',\n",
       " './data/Mask\\\\00720.jpg',\n",
       " './data/Mask\\\\00721.jpg',\n",
       " './data/Mask\\\\00722.jpg',\n",
       " './data/Mask\\\\00723.jpg',\n",
       " './data/Mask\\\\00724.jpg',\n",
       " './data/Mask\\\\00725.jpg',\n",
       " './data/Mask\\\\00726.jpg',\n",
       " './data/Mask\\\\00727.jpg',\n",
       " './data/Mask\\\\00728.jpg',\n",
       " './data/Mask\\\\00729.jpg',\n",
       " './data/Mask\\\\00730.jpg',\n",
       " './data/Mask\\\\00731.jpg',\n",
       " './data/Mask\\\\00732.jpg',\n",
       " './data/Mask\\\\00733.jpg',\n",
       " './data/Mask\\\\00734.jpg',\n",
       " './data/Mask\\\\00735.jpg',\n",
       " './data/Mask\\\\00736.jpg',\n",
       " './data/Mask\\\\00737.jpg',\n",
       " './data/Mask\\\\00738.jpg',\n",
       " './data/Mask\\\\00739.jpg',\n",
       " './data/Mask\\\\00740.jpg',\n",
       " './data/Mask\\\\00741.jpg',\n",
       " './data/Mask\\\\00742.jpg',\n",
       " './data/Mask\\\\00743.jpg',\n",
       " './data/Mask\\\\00744.jpg',\n",
       " './data/Mask\\\\00745.jpg',\n",
       " './data/Mask\\\\00746.jpg',\n",
       " './data/Mask\\\\00747.jpg',\n",
       " './data/Mask\\\\00748.jpg',\n",
       " './data/Mask\\\\00749.jpg',\n",
       " './data/Mask\\\\00750.jpg',\n",
       " './data/Mask\\\\00751.jpg',\n",
       " './data/Mask\\\\00752.jpg',\n",
       " './data/Mask\\\\00753.jpg',\n",
       " './data/Mask\\\\00754.jpg',\n",
       " './data/Mask\\\\00755.jpg',\n",
       " './data/Mask\\\\00756.jpg',\n",
       " './data/Mask\\\\00757.jpg',\n",
       " './data/Mask\\\\00758.jpg',\n",
       " './data/Mask\\\\00759.jpg',\n",
       " './data/Mask\\\\00760.jpg',\n",
       " './data/Mask\\\\00761.jpg',\n",
       " './data/Mask\\\\00762.jpg',\n",
       " './data/Mask\\\\00763.jpg',\n",
       " './data/Mask\\\\00764.jpg',\n",
       " './data/Mask\\\\00765.jpg',\n",
       " './data/Mask\\\\00766.jpg',\n",
       " './data/Mask\\\\00767.jpg',\n",
       " './data/Mask\\\\00768.jpg',\n",
       " './data/Mask\\\\00769.jpg',\n",
       " './data/Mask\\\\00770.jpg',\n",
       " './data/Mask\\\\00771.jpg',\n",
       " './data/Mask\\\\00772.jpg',\n",
       " './data/Mask\\\\00773.jpg',\n",
       " './data/Mask\\\\00774.jpg',\n",
       " './data/Mask\\\\00775.jpg',\n",
       " './data/Mask\\\\00776.jpg',\n",
       " './data/Mask\\\\00777.jpg',\n",
       " './data/Mask\\\\00778.jpg',\n",
       " './data/Mask\\\\00779.jpg',\n",
       " './data/Mask\\\\00780.jpg',\n",
       " './data/Mask\\\\00781.jpg',\n",
       " './data/Mask\\\\00782.jpg',\n",
       " './data/Mask\\\\00783.jpg',\n",
       " './data/Mask\\\\00784.jpg',\n",
       " './data/Mask\\\\00785.jpg',\n",
       " './data/Mask\\\\00786.jpg',\n",
       " './data/Mask\\\\00787.jpg',\n",
       " './data/Mask\\\\00788.jpg',\n",
       " './data/Mask\\\\00789.jpg',\n",
       " './data/Mask\\\\00790.jpg',\n",
       " './data/Mask\\\\00791.jpg',\n",
       " './data/Mask\\\\00792.jpg',\n",
       " './data/Mask\\\\00793.jpg',\n",
       " './data/Mask\\\\00794.jpg',\n",
       " './data/Mask\\\\00795.jpg',\n",
       " './data/Mask\\\\00796.jpg',\n",
       " './data/Mask\\\\00797.jpg',\n",
       " './data/Mask\\\\00798.jpg',\n",
       " './data/Mask\\\\00799.jpg',\n",
       " './data/Mask\\\\00800.jpg',\n",
       " './data/Mask\\\\00801.jpg',\n",
       " './data/Mask\\\\00802.jpg',\n",
       " './data/Mask\\\\00803.jpg',\n",
       " './data/Mask\\\\00804.jpg',\n",
       " './data/Mask\\\\00805.jpg',\n",
       " './data/Mask\\\\00806.jpg',\n",
       " './data/Mask\\\\00807.jpg',\n",
       " './data/Mask\\\\00808.jpg',\n",
       " './data/Mask\\\\00809.jpg',\n",
       " './data/Mask\\\\00810.jpg',\n",
       " './data/Mask\\\\00811.jpg',\n",
       " './data/Mask\\\\00812.jpg',\n",
       " './data/Mask\\\\00813.jpg',\n",
       " './data/Mask\\\\00814.jpg',\n",
       " './data/Mask\\\\00815.jpg',\n",
       " './data/Mask\\\\00816.jpg',\n",
       " './data/Mask\\\\00817.jpg',\n",
       " './data/Mask\\\\00818.jpg',\n",
       " './data/Mask\\\\00819.jpg',\n",
       " './data/Mask\\\\00820.jpg',\n",
       " './data/Mask\\\\00821.jpg',\n",
       " './data/Mask\\\\00822.jpg',\n",
       " './data/Mask\\\\00823.jpg',\n",
       " './data/Mask\\\\00824.jpg',\n",
       " './data/Mask\\\\00825.jpg',\n",
       " './data/Mask\\\\00826.jpg',\n",
       " './data/Mask\\\\00827.jpg',\n",
       " './data/Mask\\\\00828.jpg',\n",
       " './data/Mask\\\\00829.jpg',\n",
       " './data/Mask\\\\00830.jpg',\n",
       " './data/Mask\\\\00831.jpg',\n",
       " './data/Mask\\\\00832.jpg',\n",
       " './data/Mask\\\\00833.jpg',\n",
       " './data/Mask\\\\00834.jpg',\n",
       " './data/Mask\\\\00835.jpg',\n",
       " './data/Mask\\\\00836.jpg',\n",
       " './data/Mask\\\\00837.jpg',\n",
       " './data/Mask\\\\00838.jpg',\n",
       " './data/Mask\\\\00839.jpg',\n",
       " './data/Mask\\\\00840.jpg',\n",
       " './data/Mask\\\\00841.jpg',\n",
       " './data/Mask\\\\00842.jpg',\n",
       " './data/Mask\\\\00843.jpg',\n",
       " './data/Mask\\\\00844.jpg',\n",
       " './data/Mask\\\\00845.jpg',\n",
       " './data/Mask\\\\00846.jpg',\n",
       " './data/Mask\\\\00847.jpg',\n",
       " './data/Mask\\\\00848.jpg',\n",
       " './data/Mask\\\\00849.jpg',\n",
       " './data/Mask\\\\00850.jpg',\n",
       " './data/Mask\\\\00851.jpg',\n",
       " './data/Mask\\\\00852.jpg',\n",
       " './data/Mask\\\\00853.jpg',\n",
       " './data/Mask\\\\00854.jpg',\n",
       " './data/Mask\\\\00855.jpg',\n",
       " './data/Mask\\\\00856.jpg',\n",
       " './data/Mask\\\\00857.jpg',\n",
       " './data/Mask\\\\00858.jpg',\n",
       " './data/Mask\\\\00859.jpg',\n",
       " './data/Mask\\\\00860.jpg',\n",
       " './data/Mask\\\\00861.jpg',\n",
       " './data/Mask\\\\00862.jpg',\n",
       " './data/Mask\\\\00863.jpg',\n",
       " './data/Mask\\\\00864.jpg',\n",
       " './data/Mask\\\\00865.jpg',\n",
       " './data/Mask\\\\00866.jpg',\n",
       " './data/Mask\\\\00867.jpg',\n",
       " './data/Mask\\\\00868.jpg',\n",
       " './data/Mask\\\\00869.jpg',\n",
       " './data/Mask\\\\00870.jpg',\n",
       " './data/Mask\\\\00871.jpg',\n",
       " './data/Mask\\\\00872.jpg',\n",
       " './data/Mask\\\\00873.jpg',\n",
       " './data/Mask\\\\00874.jpg',\n",
       " './data/Mask\\\\00875.jpg',\n",
       " './data/Mask\\\\00876.jpg',\n",
       " './data/Mask\\\\00877.jpg',\n",
       " './data/Mask\\\\00878.jpg',\n",
       " './data/Mask\\\\00879.jpg',\n",
       " './data/Mask\\\\00880.jpg',\n",
       " './data/Mask\\\\00881.jpg',\n",
       " './data/Mask\\\\00882.jpg',\n",
       " './data/Mask\\\\00883.jpg',\n",
       " './data/Mask\\\\00884.jpg',\n",
       " './data/Mask\\\\00885.jpg',\n",
       " './data/Mask\\\\00886.jpg',\n",
       " './data/Mask\\\\00887.jpg',\n",
       " './data/Mask\\\\00888.jpg',\n",
       " './data/Mask\\\\00889.jpg',\n",
       " './data/Mask\\\\00890.jpg',\n",
       " './data/Mask\\\\00891.jpg',\n",
       " './data/Mask\\\\00892.jpg',\n",
       " './data/Mask\\\\00893.jpg',\n",
       " './data/Mask\\\\00894.jpg',\n",
       " './data/Mask\\\\00895.jpg',\n",
       " './data/Mask\\\\00896.jpg',\n",
       " './data/Mask\\\\00897.jpg',\n",
       " './data/Mask\\\\00898.jpg',\n",
       " './data/Mask\\\\00899.jpg',\n",
       " './data/Mask\\\\00900.jpg',\n",
       " './data/Mask\\\\00901.jpg',\n",
       " './data/Mask\\\\00902.jpg',\n",
       " './data/Mask\\\\00903.jpg',\n",
       " './data/Mask\\\\00904.jpg',\n",
       " './data/Mask\\\\00905.jpg',\n",
       " './data/Mask\\\\00906.jpg',\n",
       " './data/Mask\\\\00907.jpg',\n",
       " './data/Mask\\\\00908.jpg',\n",
       " './data/Mask\\\\00909.jpg',\n",
       " './data/Mask\\\\00910.jpg',\n",
       " './data/Mask\\\\00911.jpg',\n",
       " './data/Mask\\\\00912.jpg',\n",
       " './data/Mask\\\\00913.jpg',\n",
       " './data/Mask\\\\00914.jpg',\n",
       " './data/Mask\\\\00915.jpg',\n",
       " './data/Mask\\\\00916.jpg',\n",
       " './data/Mask\\\\00917.jpg',\n",
       " './data/Mask\\\\00918.jpg',\n",
       " './data/Mask\\\\00919.jpg',\n",
       " './data/Mask\\\\00920.jpg',\n",
       " './data/Mask\\\\00921.jpg',\n",
       " './data/Mask\\\\00922.jpg',\n",
       " './data/Mask\\\\00923.jpg',\n",
       " './data/Mask\\\\00924.jpg',\n",
       " './data/Mask\\\\00925.jpg',\n",
       " './data/Mask\\\\00926.jpg',\n",
       " './data/Mask\\\\00927.jpg',\n",
       " './data/Mask\\\\00928.jpg',\n",
       " './data/Mask\\\\00929.jpg',\n",
       " './data/Mask\\\\00930.jpg',\n",
       " './data/Mask\\\\00931.jpg',\n",
       " './data/Mask\\\\00932.jpg',\n",
       " './data/Mask\\\\00933.jpg',\n",
       " './data/Mask\\\\00934.jpg',\n",
       " './data/Mask\\\\00935.jpg',\n",
       " './data/Mask\\\\00936.jpg',\n",
       " './data/Mask\\\\00937.jpg',\n",
       " './data/Mask\\\\00938.jpg',\n",
       " './data/Mask\\\\00939.jpg',\n",
       " './data/Mask\\\\00940.jpg',\n",
       " './data/Mask\\\\00941.jpg',\n",
       " './data/Mask\\\\00942.jpg',\n",
       " './data/Mask\\\\00943.jpg',\n",
       " './data/Mask\\\\00944.jpg',\n",
       " './data/Mask\\\\00945.jpg',\n",
       " './data/Mask\\\\00946.jpg',\n",
       " './data/Mask\\\\00947.jpg',\n",
       " './data/Mask\\\\00948.jpg',\n",
       " './data/Mask\\\\00949.jpg',\n",
       " './data/Mask\\\\00950.jpg',\n",
       " './data/Mask\\\\00951.jpg',\n",
       " './data/Mask\\\\00952.jpg',\n",
       " './data/Mask\\\\00953.jpg',\n",
       " './data/Mask\\\\00954.jpg',\n",
       " './data/Mask\\\\00955.jpg',\n",
       " './data/Mask\\\\00956.jpg',\n",
       " './data/Mask\\\\00957.jpg',\n",
       " './data/Mask\\\\00958.jpg',\n",
       " './data/Mask\\\\00959.jpg',\n",
       " './data/Mask\\\\00960.jpg',\n",
       " './data/Mask\\\\00961.jpg',\n",
       " './data/Mask\\\\00962.jpg',\n",
       " './data/Mask\\\\00963.jpg',\n",
       " './data/Mask\\\\00964.jpg',\n",
       " './data/Mask\\\\00965.jpg',\n",
       " './data/Mask\\\\00966.jpg',\n",
       " './data/Mask\\\\00967.jpg',\n",
       " './data/Mask\\\\00968.jpg',\n",
       " './data/Mask\\\\00969.jpg',\n",
       " './data/Mask\\\\00970.jpg',\n",
       " './data/Mask\\\\00971.jpg',\n",
       " './data/Mask\\\\00972.jpg',\n",
       " './data/Mask\\\\00973.jpg',\n",
       " './data/Mask\\\\00974.jpg',\n",
       " './data/Mask\\\\00975.jpg',\n",
       " './data/Mask\\\\00976.jpg',\n",
       " './data/Mask\\\\00977.jpg',\n",
       " './data/Mask\\\\00978.jpg',\n",
       " './data/Mask\\\\00979.jpg',\n",
       " './data/Mask\\\\00980.jpg',\n",
       " './data/Mask\\\\00981.jpg',\n",
       " './data/Mask\\\\00982.jpg',\n",
       " './data/Mask\\\\00983.jpg',\n",
       " './data/Mask\\\\00984.jpg',\n",
       " './data/Mask\\\\00985.jpg',\n",
       " './data/Mask\\\\00986.jpg',\n",
       " './data/Mask\\\\00987.jpg',\n",
       " './data/Mask\\\\00988.jpg',\n",
       " './data/Mask\\\\00989.jpg',\n",
       " './data/Mask\\\\00990.jpg',\n",
       " './data/Mask\\\\00991.jpg',\n",
       " './data/Mask\\\\00992.jpg',\n",
       " './data/Mask\\\\00993.jpg',\n",
       " './data/Mask\\\\00994.jpg',\n",
       " './data/Mask\\\\00995.jpg',\n",
       " './data/Mask\\\\00996.jpg',\n",
       " './data/Mask\\\\00997.jpg',\n",
       " './data/Mask\\\\00998.jpg',\n",
       " './data/Mask\\\\00999.jpg',\n",
       " ...]"
      ]
     },
     "execution_count": 3,
     "metadata": {},
     "output_type": "execute_result"
    }
   ],
   "source": [
    "images_path"
   ]
  },
  {
   "cell_type": "markdown",
   "id": "639cfe25",
   "metadata": {},
   "source": [
    "#### Step-3\n",
    "- Face Detection"
   ]
  },
  {
   "cell_type": "code",
   "execution_count": 4,
   "id": "69ff4430",
   "metadata": {},
   "outputs": [],
   "source": [
    "img_path = images_path[1]\n",
    "img = cv2.imread(img_path)"
   ]
  },
  {
   "cell_type": "code",
   "execution_count": 5,
   "id": "5d599cfe",
   "metadata": {},
   "outputs": [],
   "source": [
    "cv2.imshow('original', img)\n",
    "cv2.waitKey()\n",
    "cv2.destroyAllWindows()"
   ]
  },
  {
   "cell_type": "code",
   "execution_count": 6,
   "id": "f394f8bd",
   "metadata": {},
   "outputs": [],
   "source": [
    "# face detection\n",
    "face_detection_model = cv2.dnn.readNetFromCaffe('./models/deploy.prototxt.txt', \n",
    "                                               './models/res10_300x300_ssd_iter_140000_fp16.caffemodel')"
   ]
  },
  {
   "cell_type": "code",
   "execution_count": 7,
   "id": "1cabaa26",
   "metadata": {},
   "outputs": [],
   "source": [
    "def face_detection_dnn(img):\n",
    "    # blob from image (rgb mean subtraction image) \n",
    "    image = img.copy()\n",
    "    h,w = image.shape[:2]\n",
    "    blob = cv2.dnn.blobFromImage(image, 1, (300,300), (104,117,123), swapRB=True)\n",
    "    # get the detection\n",
    "    face_detection_model.setInput(blob)\n",
    "    detections = face_detection_model.forward()\n",
    "    for i in range(0, detections.shape[2]):\n",
    "        confidence = detections[0, 0, i, 2] # confidence score\n",
    "        if confidence > 0.5:\n",
    "            box = detections[0, 0, i, 3:7]*np.array([w,h,w,h])\n",
    "            box = box.astype(int)\n",
    "            print(box)\n",
    "            pt1 = (box[0], box[1])\n",
    "            pt2 = (box[2], box[3])\n",
    "            #cv2.rectangle(image, pt1, pt2, (0,255,0), 2)\n",
    "            roi = image[box[1]:box[3], box[0]:box[2]]\n",
    "\n",
    "            return roi\n",
    "    return None\n"
   ]
  },
  {
   "cell_type": "code",
   "execution_count": 8,
   "id": "7985b53e",
   "metadata": {},
   "outputs": [
    {
     "name": "stdout",
     "output_type": "stream",
     "text": [
      "[216 142 802 801]\n"
     ]
    }
   ],
   "source": [
    "img_roi = face_detection_dnn(img)"
   ]
  },
  {
   "cell_type": "code",
   "execution_count": 9,
   "id": "1838ccd6",
   "metadata": {},
   "outputs": [],
   "source": [
    "cv2.imshow('roi', img_roi)\n",
    "cv2.imshow('original', img)\n",
    "cv2.waitKey()\n",
    "cv2.destroyAllWindows()"
   ]
  },
  {
   "cell_type": "markdown",
   "id": "9ffd0673",
   "metadata": {},
   "source": [
    "#### Step 5\n",
    "- Blob from image"
   ]
  },
  {
   "cell_type": "code",
   "execution_count": 15,
   "id": "b09ece12",
   "metadata": {},
   "outputs": [],
   "source": [
    "def datapreprocess(img):\n",
    "    # blob from image (rgb mean subtraction image)\n",
    "    face = face_detection_dnn(img)\n",
    "    if face is not None:\n",
    "        # computing blob from image\n",
    "        blob = cv2.dnn.blobFromImage(face, 1, (100,100), (104,117,123), swapRB=True)\n",
    "        blob_squeeze = np.squeeze(blob).T\n",
    "        blob_rotate = cv2.rotate(blob_squeeze, cv2.ROTATE_90_CLOCKWISE)\n",
    "        blob_flip = cv2.flip(blob_rotate, 1)\n",
    "        # remove negative values and normalize\n",
    "        img_norm = np.maximum(blob_flip, 0)/blob_flip.max()\n",
    "\n",
    "        return img_norm\n",
    "    else:\n",
    "        return None\n"
   ]
  },
  {
   "cell_type": "markdown",
   "id": "28c58939",
   "metadata": {},
   "source": [
    "#### Apply to all images and Append in a List"
   ]
  },
  {
   "cell_type": "code",
   "execution_count": 18,
   "id": "5bc4b7b1",
   "metadata": {},
   "outputs": [
    {
     "name": "stderr",
     "output_type": "stream",
     "text": [
      "preprocessing: 3it [00:00, 26.30it/s]"
     ]
    },
    {
     "name": "stdout",
     "output_type": "stream",
     "text": [
      "[110 139 757 825]\n",
      "[216 142 802 801]\n",
      "[203 168 771 860]\n",
      "[205 132 836 830]\n",
      "[273 189 805 825]\n"
     ]
    },
    {
     "name": "stderr",
     "output_type": "stream",
     "text": [
      "preprocessing: 9it [00:00, 24.07it/s]"
     ]
    },
    {
     "name": "stdout",
     "output_type": "stream",
     "text": [
      "[252 182 758 859]\n",
      "[314 157 930 849]\n",
      "[126 175 788 804]\n",
      "[184 117 785 818]\n",
      "[ 51 127 771 875]\n"
     ]
    },
    {
     "name": "stderr",
     "output_type": "stream",
     "text": [
      "preprocessing: 15it [00:00, 24.80it/s]"
     ]
    },
    {
     "name": "stdout",
     "output_type": "stream",
     "text": [
      "[168 125 807 798]\n",
      "[205 170 810 894]\n",
      "[243 160 813 943]\n",
      "[196 159 810 772]\n",
      "[250 191 805 804]\n"
     ]
    },
    {
     "name": "stderr",
     "output_type": "stream",
     "text": [
      "preprocessing: 21it [00:00, 24.56it/s]"
     ]
    },
    {
     "name": "stdout",
     "output_type": "stream",
     "text": [
      "[200 177 818 936]\n",
      "[153 181 755 932]\n",
      "[236 203 784 957]\n",
      "[161 160 755 826]\n",
      "[176 181 777 840]\n"
     ]
    },
    {
     "name": "stderr",
     "output_type": "stream",
     "text": [
      "\r",
      "preprocessing: 24it [00:00, 24.32it/s]"
     ]
    },
    {
     "name": "stdout",
     "output_type": "stream",
     "text": [
      "[190 104 786 854]\n",
      "[248 124 836 814]\n",
      "[211 185 808 899]\n",
      "[193 177 828 947]\n",
      "[203 191 831 864]\n",
      "[158 170 752 916]\n"
     ]
    },
    {
     "name": "stderr",
     "output_type": "stream",
     "text": [
      "preprocessing: 30it [00:01, 24.80it/s]"
     ]
    },
    {
     "name": "stdout",
     "output_type": "stream",
     "text": [
      "[284 193 845 901]\n",
      "[207 165 838 922]\n",
      "[156 198 770 948]\n",
      "[266 158 925 887]\n",
      "[ 67  39 767 882]\n"
     ]
    },
    {
     "name": "stderr",
     "output_type": "stream",
     "text": [
      "preprocessing: 36it [00:01, 23.99it/s]"
     ]
    },
    {
     "name": "stdout",
     "output_type": "stream",
     "text": [
      "[283  78 953 811]\n",
      "[193 157 807 860]\n",
      "[244 138 805 823]\n",
      "[ 83 145 737 916]\n",
      "[269 143 890 874]\n"
     ]
    },
    {
     "name": "stderr",
     "output_type": "stream",
     "text": [
      "preprocessing: 42it [00:01, 22.93it/s]"
     ]
    },
    {
     "name": "stdout",
     "output_type": "stream",
     "text": [
      "[221 165 823 901]\n",
      "[247 161 788 794]\n",
      "[222 150 803 929]\n",
      "[110 169 730 793]\n",
      "[187 176 805 933]\n"
     ]
    },
    {
     "name": "stderr",
     "output_type": "stream",
     "text": [
      "\r",
      "preprocessing: 45it [00:01, 21.86it/s]"
     ]
    },
    {
     "name": "stdout",
     "output_type": "stream",
     "text": [
      "[170 201 802 982]\n",
      "[224 169 866 841]\n",
      "[289 184 787 855]\n",
      "[195 136 780 808]\n"
     ]
    },
    {
     "name": "stderr",
     "output_type": "stream",
     "text": [
      "\r",
      "preprocessing: 48it [00:02, 20.44it/s]"
     ]
    },
    {
     "name": "stdout",
     "output_type": "stream",
     "text": [
      "[236 182 876 847]\n",
      "[175 149 837 873]\n",
      "[298 196 909 830]\n",
      "[187 165 758 840]\n"
     ]
    },
    {
     "name": "stderr",
     "output_type": "stream",
     "text": [
      "preprocessing: 54it [00:02, 21.07it/s]"
     ]
    },
    {
     "name": "stdout",
     "output_type": "stream",
     "text": [
      "[203 189 730 783]\n",
      "[183 153 810 867]\n",
      "[208 175 792 853]\n",
      "[207 224 796 880]\n",
      "[147 143 788 944]\n"
     ]
    },
    {
     "name": "stderr",
     "output_type": "stream",
     "text": [
      "preprocessing: 60it [00:02, 22.54it/s]"
     ]
    },
    {
     "name": "stdout",
     "output_type": "stream",
     "text": [
      "[164 184 710 868]\n",
      "[235 199 798 964]\n",
      "[ 77 218 749 932]\n",
      "[326 205 845 824]\n",
      "[222 125 811 944]\n"
     ]
    },
    {
     "name": "stderr",
     "output_type": "stream",
     "text": [
      "\r",
      "preprocessing: 63it [00:02, 22.80it/s]"
     ]
    },
    {
     "name": "stdout",
     "output_type": "stream",
     "text": [
      "[140 192 756 809]\n",
      "[225 117 844 838]\n",
      "[179 241 735 847]\n",
      "[228 214 784 911]\n",
      "[250 165 797 774]\n"
     ]
    },
    {
     "name": "stderr",
     "output_type": "stream",
     "text": [
      "preprocessing: 69it [00:02, 22.70it/s]"
     ]
    },
    {
     "name": "stdout",
     "output_type": "stream",
     "text": [
      "[235 130 981 881]\n",
      "[240 192 768 916]\n",
      "[182 129 803 808]\n",
      "[174 191 761 835]\n",
      "[255 173 893 821]\n"
     ]
    },
    {
     "name": "stderr",
     "output_type": "stream",
     "text": [
      "preprocessing: 75it [00:03, 22.65it/s]"
     ]
    },
    {
     "name": "stdout",
     "output_type": "stream",
     "text": [
      "[104 159 737 876]\n",
      "[307 157 913 915]\n",
      "[218 182 760 796]\n",
      "[267 127 906 893]\n",
      "[178 186 846 851]\n"
     ]
    },
    {
     "name": "stderr",
     "output_type": "stream",
     "text": [
      "\r",
      "preprocessing: 78it [00:03, 22.88it/s]"
     ]
    },
    {
     "name": "stdout",
     "output_type": "stream",
     "text": [
      "[116 159 719 892]\n",
      "[236 137 820 872]\n",
      "[251 192 814 910]\n",
      "[229 189 838 786]\n",
      "[142 181 774 943]\n"
     ]
    },
    {
     "name": "stderr",
     "output_type": "stream",
     "text": [
      "preprocessing: 84it [00:03, 22.77it/s]"
     ]
    },
    {
     "name": "stdout",
     "output_type": "stream",
     "text": [
      "[212 102 901 891]\n",
      "[251 181 802 920]\n",
      "[255 109 909 944]\n",
      "[ 903  108 1024  475]\n",
      "[316 177 949 892]\n"
     ]
    },
    {
     "name": "stderr",
     "output_type": "stream",
     "text": [
      "preprocessing: 90it [00:03, 23.24it/s]"
     ]
    },
    {
     "name": "stdout",
     "output_type": "stream",
     "text": [
      "[269 216 852 796]\n",
      "[325 158 922 940]\n",
      "[266 117 933 899]\n",
      "[164 123 907 943]\n",
      "[131 206 752 890]\n",
      "[173 239 748 767]\n"
     ]
    },
    {
     "name": "stderr",
     "output_type": "stream",
     "text": [
      "preprocessing: 96it [00:04, 23.59it/s]"
     ]
    },
    {
     "name": "stdout",
     "output_type": "stream",
     "text": [
      "[188 127 766 840]\n",
      "[193 112 822 880]\n",
      "[113 198 799 927]\n",
      "[241 201 785 785]\n",
      "[256 187 801 791]\n"
     ]
    },
    {
     "name": "stderr",
     "output_type": "stream",
     "text": [
      "\r",
      "preprocessing: 99it [00:04, 23.11it/s]"
     ]
    },
    {
     "name": "stdout",
     "output_type": "stream",
     "text": [
      "[223 145 830 948]\n",
      "[237 125 892 863]\n",
      "[234 175 800 929]\n",
      "[167 215 767 844]\n"
     ]
    },
    {
     "name": "stderr",
     "output_type": "stream",
     "text": [
      "\r",
      "preprocessing: 102it [00:04, 18.85it/s]"
     ]
    },
    {
     "name": "stdout",
     "output_type": "stream",
     "text": [
      "[229 190 834 967]\n",
      "[122 142 786 871]\n",
      "[190 140 855 944]\n",
      "[199 121 785 880]\n"
     ]
    },
    {
     "name": "stderr",
     "output_type": "stream",
     "text": [
      "preprocessing: 107it [00:04, 18.25it/s]"
     ]
    },
    {
     "name": "stdout",
     "output_type": "stream",
     "text": [
      "[101 223 696 822]\n",
      "[265 148 842 860]\n",
      "[354 185 924 848]\n",
      "[254 173 957 935]\n",
      "[180 201 755 858]\n"
     ]
    },
    {
     "name": "stderr",
     "output_type": "stream",
     "text": [
      "preprocessing: 113it [00:05, 20.56it/s]"
     ]
    },
    {
     "name": "stdout",
     "output_type": "stream",
     "text": [
      "[305 206 830 795]\n",
      "[235 190 809 838]\n",
      "[261 183 808 814]\n",
      "[ 77 120 737 818]\n",
      "[352 218 889 778]\n"
     ]
    },
    {
     "name": "stderr",
     "output_type": "stream",
     "text": [
      "preprocessing: 119it [00:05, 22.79it/s]"
     ]
    },
    {
     "name": "stdout",
     "output_type": "stream",
     "text": [
      "[276 190 869 844]\n",
      "[157 157 701 847]\n",
      "[152 142 732 807]\n",
      "[118 106 788 828]\n",
      "[257 196 855 848]\n",
      "[196 153 758 868]\n"
     ]
    },
    {
     "name": "stderr",
     "output_type": "stream",
     "text": [
      "preprocessing: 125it [00:05, 24.55it/s]"
     ]
    },
    {
     "name": "stdout",
     "output_type": "stream",
     "text": [
      "[202 161 762 920]\n",
      "[143 106 760 828]\n",
      "[117 183 740 850]\n",
      "[222 213 786 752]\n",
      "[233 113 795 972]\n"
     ]
    },
    {
     "name": "stderr",
     "output_type": "stream",
     "text": [
      "\r",
      "preprocessing: 128it [00:05, 24.20it/s]"
     ]
    },
    {
     "name": "stdout",
     "output_type": "stream",
     "text": [
      "[254 178 849 857]\n",
      "[156 158 755 889]\n",
      "[290 207 830 766]\n",
      "[303 179 907 896]\n",
      "[200 147 791 811]\n",
      "[290 163 896 808]\n"
     ]
    },
    {
     "name": "stderr",
     "output_type": "stream",
     "text": [
      "preprocessing: 134it [00:05, 23.23it/s]"
     ]
    },
    {
     "name": "stdout",
     "output_type": "stream",
     "text": [
      "[311 170 890 777]\n",
      "[279 184 872 828]\n",
      "[262 186 838 759]\n",
      "[194 123 808 896]\n",
      "[196 130 784 844]\n"
     ]
    },
    {
     "name": "stderr",
     "output_type": "stream",
     "text": [
      "preprocessing: 140it [00:06, 23.35it/s]"
     ]
    },
    {
     "name": "stdout",
     "output_type": "stream",
     "text": [
      "[184 108 806 880]\n",
      "[237 180 806 814]\n",
      "[288 159 881 833]\n",
      "[163 100 865 892]\n",
      "[208 186 749 852]\n"
     ]
    },
    {
     "name": "stderr",
     "output_type": "stream",
     "text": [
      "preprocessing: 146it [00:06, 22.39it/s]"
     ]
    },
    {
     "name": "stdout",
     "output_type": "stream",
     "text": [
      "[210 179 833 880]\n",
      "[187 125 939 905]\n",
      "[241 165 909 853]\n",
      "[284 128 905 848]\n",
      "[235  66 834 888]\n"
     ]
    },
    {
     "name": "stderr",
     "output_type": "stream",
     "text": [
      "\r",
      "preprocessing: 149it [00:06, 22.73it/s]"
     ]
    },
    {
     "name": "stdout",
     "output_type": "stream",
     "text": [
      "[160 171 813 921]\n",
      "[255 141 908 888]\n",
      "[147 198 758 870]\n",
      "[237 141 871 806]\n",
      "[275 145 869 834]\n"
     ]
    },
    {
     "name": "stderr",
     "output_type": "stream",
     "text": [
      "preprocessing: 155it [00:06, 23.69it/s]"
     ]
    },
    {
     "name": "stdout",
     "output_type": "stream",
     "text": [
      "[122 168 721 845]\n",
      "[153 149 749 811]\n",
      "[226 179 856 897]\n",
      "[241 214 833 904]\n",
      "[251 141 862 893]\n"
     ]
    },
    {
     "name": "stderr",
     "output_type": "stream",
     "text": [
      "\r",
      "preprocessing: 158it [00:06, 23.00it/s]"
     ]
    },
    {
     "name": "stdout",
     "output_type": "stream",
     "text": [
      "[241 244 883 776]\n",
      "[208 149 955 855]\n",
      "[249 214 845 863]\n",
      "[140 165 780 918]\n"
     ]
    },
    {
     "name": "stderr",
     "output_type": "stream",
     "text": [
      "preprocessing: 164it [00:07, 21.86it/s]"
     ]
    },
    {
     "name": "stdout",
     "output_type": "stream",
     "text": [
      "[208 157 803 909]\n",
      "[280 193 927 924]\n",
      "[240 230 784 806]\n",
      "[285 107 956 794]\n",
      "[132 190 756 874]\n"
     ]
    },
    {
     "name": "stderr",
     "output_type": "stream",
     "text": [
      "preprocessing: 170it [00:07, 22.92it/s]"
     ]
    },
    {
     "name": "stdout",
     "output_type": "stream",
     "text": [
      "[200 157 861 799]\n",
      "[269 142 890 823]\n",
      "[302 144 878 813]\n",
      "[153 111 851 951]\n",
      "[208 148 794 921]\n"
     ]
    },
    {
     "name": "stderr",
     "output_type": "stream",
     "text": [
      "\r",
      "preprocessing: 173it [00:07, 23.76it/s]"
     ]
    },
    {
     "name": "stdout",
     "output_type": "stream",
     "text": [
      "[240 151 798 890]\n",
      "[140 125 751 800]\n",
      "[233 162 802 931]\n",
      "[205 156 773 796]\n",
      "[167 110 724 831]\n",
      "[102 158 697 872]\n"
     ]
    },
    {
     "name": "stderr",
     "output_type": "stream",
     "text": [
      "preprocessing: 180it [00:07, 24.88it/s]"
     ]
    },
    {
     "name": "stdout",
     "output_type": "stream",
     "text": [
      "[106 177 734 898]\n",
      "[142 197 781 944]\n",
      "[241 111 778 820]\n",
      "[231 194 781 801]\n",
      "[141 155 755 881]\n",
      "[285 103 952 791]\n"
     ]
    },
    {
     "name": "stderr",
     "output_type": "stream",
     "text": [
      "preprocessing: 186it [00:08, 22.66it/s]"
     ]
    },
    {
     "name": "stdout",
     "output_type": "stream",
     "text": [
      "[209  92 849 942]\n",
      "[ 90 126 700 895]\n",
      "[122 156 740 922]\n",
      "[264 168 844 807]\n",
      "[253 197 772 856]\n"
     ]
    },
    {
     "name": "stderr",
     "output_type": "stream",
     "text": [
      "preprocessing: 192it [00:08, 24.20it/s]"
     ]
    },
    {
     "name": "stdout",
     "output_type": "stream",
     "text": [
      "[229 198 830 891]\n",
      "[214 189 813 920]\n",
      "[251 180 845 926]\n",
      "[304 196 889 838]\n",
      "[248 187 783 929]\n",
      "[152 134 765 938]\n"
     ]
    },
    {
     "name": "stderr",
     "output_type": "stream",
     "text": [
      "preprocessing: 198it [00:08, 24.66it/s]"
     ]
    },
    {
     "name": "stdout",
     "output_type": "stream",
     "text": [
      "[205 131 834 788]\n",
      "[207  80 842 828]\n",
      "[219 131 827 958]\n",
      "[254 202 884 932]\n",
      "[245 188 850 847]\n",
      "[114  68 756 861]\n"
     ]
    },
    {
     "name": "stderr",
     "output_type": "stream",
     "text": [
      "\r",
      "preprocessing: 201it [00:08, 21.40it/s]"
     ]
    },
    {
     "name": "stdout",
     "output_type": "stream",
     "text": [
      "[239 218 836 897]\n",
      "[242 153 881 803]\n",
      "[215 168 890 938]\n"
     ]
    },
    {
     "name": "stderr",
     "output_type": "stream",
     "text": [
      "preprocessing: 207it [00:09, 21.47it/s]"
     ]
    },
    {
     "name": "stdout",
     "output_type": "stream",
     "text": [
      "[169 133 929 912]\n",
      "[313 168 946 884]\n",
      "[263 123 956 827]\n",
      "[162 141 773 947]\n",
      "[104 143 743 918]\n"
     ]
    },
    {
     "name": "stderr",
     "output_type": "stream",
     "text": [
      "\r",
      "preprocessing: 210it [00:09, 23.17it/s]"
     ]
    },
    {
     "name": "stdout",
     "output_type": "stream",
     "text": [
      "[179 151 832 914]\n",
      "[244 164 859 888]\n",
      "[263 167 861 802]\n",
      "[232  47 868 907]\n",
      "[218 224 802 798]\n",
      "[263 190 797 852]\n"
     ]
    },
    {
     "name": "stderr",
     "output_type": "stream",
     "text": [
      "preprocessing: 216it [00:09, 24.88it/s]"
     ]
    },
    {
     "name": "stdout",
     "output_type": "stream",
     "text": [
      "[237 138 882 825]\n",
      "[118 140 747 895]\n",
      "[241 131 949 896]\n",
      "[192  57 906 770]\n",
      "[225 186 784 958]\n",
      "[237 189 785 800]\n"
     ]
    },
    {
     "name": "stderr",
     "output_type": "stream",
     "text": [
      "preprocessing: 222it [00:09, 24.38it/s]"
     ]
    },
    {
     "name": "stdout",
     "output_type": "stream",
     "text": [
      "[268 199 782 828]\n",
      "[146  92 815 864]\n",
      "[104 149 754 896]\n",
      "[294 186 782 790]\n",
      "[301 206 878 874]\n",
      "[237 185 866 890]\n"
     ]
    },
    {
     "name": "stderr",
     "output_type": "stream",
     "text": [
      "preprocessing: 228it [00:09, 24.34it/s]"
     ]
    },
    {
     "name": "stdout",
     "output_type": "stream",
     "text": [
      "[322 203 835 884]\n",
      "[295 192 867 808]\n",
      "[303 214 894 926]\n",
      "[286 217 898 911]\n",
      "[199 125 901 870]\n"
     ]
    },
    {
     "name": "stderr",
     "output_type": "stream",
     "text": [
      "preprocessing: 234it [00:10, 24.08it/s]"
     ]
    },
    {
     "name": "stdout",
     "output_type": "stream",
     "text": [
      "[177 167 785 845]\n",
      "[232 211 819 795]\n",
      "[205 159 812 907]\n",
      "[128 189 728 821]\n"
     ]
    },
    {
     "name": "stderr",
     "output_type": "stream",
     "text": [
      "\r",
      "preprocessing: 237it [00:10, 21.96it/s]"
     ]
    },
    {
     "name": "stdout",
     "output_type": "stream",
     "text": [
      "[143 141 768 806]\n",
      "[253 208 874 934]\n",
      "[227 152 820 899]\n",
      "[161 173 771 851]\n",
      "[242 185 778 875]\n"
     ]
    },
    {
     "name": "stderr",
     "output_type": "stream",
     "text": [
      "preprocessing: 243it [00:10, 23.26it/s]"
     ]
    },
    {
     "name": "stdout",
     "output_type": "stream",
     "text": [
      "[214 205 893 896]\n",
      "[251 181 811 799]\n",
      "[184 179 790 882]\n",
      "[259 135 943 843]\n",
      "[118 148 758 892]\n",
      "[236 184 812 929]\n"
     ]
    },
    {
     "name": "stderr",
     "output_type": "stream",
     "text": [
      "preprocessing: 249it [00:10, 24.12it/s]"
     ]
    },
    {
     "name": "stdout",
     "output_type": "stream",
     "text": [
      "[175 147 824 941]\n",
      "[187 162 822 906]\n",
      "[263 184 857 830]\n",
      "[169 126 804 959]\n",
      "[158 127 790 877]\n"
     ]
    },
    {
     "name": "stderr",
     "output_type": "stream",
     "text": [
      "preprocessing: 255it [00:11, 22.52it/s]"
     ]
    },
    {
     "name": "stdout",
     "output_type": "stream",
     "text": [
      "[227 110 820 916]\n",
      "[152 167 757 801]\n",
      "[236 140 849 807]\n",
      "[307 177 973 836]\n",
      "[248 169 814 892]\n"
     ]
    },
    {
     "name": "stderr",
     "output_type": "stream",
     "text": [
      "preprocessing: 261it [00:11, 22.90it/s]"
     ]
    },
    {
     "name": "stdout",
     "output_type": "stream",
     "text": [
      "[188 183 784 934]\n",
      "[232 137 837 843]\n",
      "[ 92 158 684 823]\n",
      "[264 185 913 882]\n",
      "[211 142 813 878]\n"
     ]
    },
    {
     "name": "stderr",
     "output_type": "stream",
     "text": [
      "\r",
      "preprocessing: 264it [00:11, 22.20it/s]"
     ]
    },
    {
     "name": "stdout",
     "output_type": "stream",
     "text": [
      "[262 197 850 875]\n",
      "[321 117 921 793]\n",
      "[254 161 897 880]\n",
      "[275 128 911 905]\n",
      "[231 183 832 808]\n",
      "[152 162 753 927]\n"
     ]
    },
    {
     "name": "stderr",
     "output_type": "stream",
     "text": [
      "preprocessing: 270it [00:11, 22.94it/s]"
     ]
    },
    {
     "name": "stdout",
     "output_type": "stream",
     "text": [
      "[124 165 765 824]\n",
      "[171 137 768 874]\n",
      "[316 119 926 857]\n",
      "[274 192 855 888]\n",
      "[222 157 801 853]\n"
     ]
    },
    {
     "name": "stderr",
     "output_type": "stream",
     "text": [
      "preprocessing: 276it [00:12, 23.50it/s]"
     ]
    },
    {
     "name": "stdout",
     "output_type": "stream",
     "text": [
      "[236 120 929 943]\n",
      "[205 162 914 801]\n",
      "[225 183 808 958]\n",
      "[191 134 877 895]\n",
      "[207 132 856 812]\n",
      "[257 210 885 838]\n"
     ]
    },
    {
     "name": "stderr",
     "output_type": "stream",
     "text": [
      "preprocessing: 282it [00:12, 23.78it/s]"
     ]
    },
    {
     "name": "stdout",
     "output_type": "stream",
     "text": [
      "[329 164 924 799]\n",
      "[312 118 867 851]\n",
      "[196 145 765 840]\n",
      "[305 157 904 798]\n",
      "[167 144 741 895]\n"
     ]
    },
    {
     "name": "stderr",
     "output_type": "stream",
     "text": [
      "\r",
      "preprocessing: 285it [00:12, 23.14it/s]"
     ]
    },
    {
     "name": "stdout",
     "output_type": "stream",
     "text": [
      "[229 156 830 893]\n",
      "[136 200 781 927]\n",
      "[271 162 846 779]\n",
      "[161 146 754 814]\n",
      "[233 231 817 797]\n"
     ]
    },
    {
     "name": "stderr",
     "output_type": "stream",
     "text": [
      "preprocessing: 291it [00:12, 23.55it/s]"
     ]
    },
    {
     "name": "stdout",
     "output_type": "stream",
     "text": [
      "[258 212 801 776]\n",
      "[205 137 797 912]\n",
      "[253 191 903 870]\n",
      "[280 158 815 798]\n",
      "[286 151 877 819]\n",
      "[113 122 706 847]\n"
     ]
    },
    {
     "name": "stderr",
     "output_type": "stream",
     "text": [
      "preprocessing: 297it [00:12, 24.07it/s]"
     ]
    },
    {
     "name": "stdout",
     "output_type": "stream",
     "text": [
      "[247 126 895 906]\n",
      "[138 158 753 847]\n",
      "[183 217 746 856]\n",
      "[343 167 950 822]\n",
      "[273 218 840 788]\n",
      "[153  98 831 775]\n"
     ]
    },
    {
     "name": "stderr",
     "output_type": "stream",
     "text": [
      "preprocessing: 303it [00:13, 19.90it/s]"
     ]
    },
    {
     "name": "stdout",
     "output_type": "stream",
     "text": [
      "[187 172 799 858]\n",
      "[223 201 819 783]\n",
      "[170 166 759 928]\n",
      "[141 169 794 892]\n",
      "[239 227 862 920]\n"
     ]
    },
    {
     "name": "stderr",
     "output_type": "stream",
     "text": [
      "preprocessing: 309it [00:13, 21.79it/s]"
     ]
    },
    {
     "name": "stdout",
     "output_type": "stream",
     "text": [
      "[247 209 836 922]\n",
      "[103 180 762 879]\n",
      "[178 112 811 949]\n",
      "[244 156 874 925]\n",
      "[217 214 722 824]\n"
     ]
    },
    {
     "name": "stderr",
     "output_type": "stream",
     "text": [
      "preprocessing: 315it [00:13, 23.73it/s]"
     ]
    },
    {
     "name": "stdout",
     "output_type": "stream",
     "text": [
      "[201 190 853 963]\n",
      "[146 145 769 899]\n",
      "[185 175 802 944]\n",
      "[269 187 859 840]\n",
      "[188 222 695 756]\n"
     ]
    },
    {
     "name": "stderr",
     "output_type": "stream",
     "text": [
      "preprocessing: 321it [00:13, 23.60it/s]"
     ]
    },
    {
     "name": "stdout",
     "output_type": "stream",
     "text": [
      "[139 150 754 851]\n",
      "[177 185 764 885]\n",
      "[207 198 864 903]\n",
      "[ 93  78 730 890]\n",
      "[242 176 788 824]\n"
     ]
    },
    {
     "name": "stderr",
     "output_type": "stream",
     "text": [
      "\r",
      "preprocessing: 324it [00:14, 23.43it/s]"
     ]
    },
    {
     "name": "stdout",
     "output_type": "stream",
     "text": [
      "[271 192 811 817]\n",
      "[ 83 163 728 902]\n",
      "[153 143 715 829]\n",
      "[176 136 804 830]\n",
      "[234 182 829 975]\n"
     ]
    },
    {
     "name": "stderr",
     "output_type": "stream",
     "text": [
      "preprocessing: 330it [00:14, 23.59it/s]"
     ]
    },
    {
     "name": "stdout",
     "output_type": "stream",
     "text": [
      "[300 175 810 837]\n",
      "[306 169 922 799]\n",
      "[280 213 899 797]\n",
      "[302 210 830 828]\n",
      "[210 207 840 886]\n"
     ]
    },
    {
     "name": "stderr",
     "output_type": "stream",
     "text": [
      "preprocessing: 336it [00:14, 23.96it/s]"
     ]
    },
    {
     "name": "stdout",
     "output_type": "stream",
     "text": [
      "[125 157 767 862]\n",
      "[ 97 139 731 891]\n",
      "[211 170 814 837]\n",
      "[113 131 792 852]\n",
      "[242 228 791 967]\n",
      "[261 185 803 808]\n"
     ]
    },
    {
     "name": "stderr",
     "output_type": "stream",
     "text": [
      "preprocessing: 342it [00:14, 24.03it/s]"
     ]
    },
    {
     "name": "stdout",
     "output_type": "stream",
     "text": [
      "[292 187 806 868]\n",
      "[ 98 120 734 854]\n",
      "[238 158 867 938]\n",
      "[206 131 815 978]\n",
      "[270 188 825 790]\n",
      "[235 209 814 922]\n"
     ]
    },
    {
     "name": "stderr",
     "output_type": "stream",
     "text": [
      "\r",
      "preprocessing: 345it [00:15, 22.84it/s]"
     ]
    },
    {
     "name": "stdout",
     "output_type": "stream",
     "text": [
      "[161 106 816 843]\n",
      "[158 159 770 839]\n",
      "[136 106 816 886]\n",
      "[252 216 789 925]\n",
      "[225 152 805 877]\n"
     ]
    },
    {
     "name": "stderr",
     "output_type": "stream",
     "text": [
      "preprocessing: 351it [00:15, 21.74it/s]"
     ]
    },
    {
     "name": "stdout",
     "output_type": "stream",
     "text": [
      "[228 178 883 879]\n",
      "[304 180 876 806]\n",
      "[143 146 778 850]\n",
      "[282 217 819 800]\n",
      "[276 105 818 813]\n"
     ]
    },
    {
     "name": "stderr",
     "output_type": "stream",
     "text": [
      "preprocessing: 357it [00:15, 21.31it/s]"
     ]
    },
    {
     "name": "stdout",
     "output_type": "stream",
     "text": [
      "[259 128 901 880]\n",
      "[215 104 970 839]\n",
      "[140 113 789 915]\n",
      "[216 142 822 875]\n",
      "[190 257 779 848]\n"
     ]
    },
    {
     "name": "stderr",
     "output_type": "stream",
     "text": [
      "\r",
      "preprocessing: 360it [00:15, 21.66it/s]"
     ]
    },
    {
     "name": "stdout",
     "output_type": "stream",
     "text": [
      "[219 214 799 937]\n",
      "[138 150 747 816]\n",
      "[218 126 801 802]\n",
      "[180 128 865 834]\n",
      "[196 122 882 902]\n"
     ]
    },
    {
     "name": "stderr",
     "output_type": "stream",
     "text": [
      "preprocessing: 366it [00:15, 21.91it/s]"
     ]
    },
    {
     "name": "stdout",
     "output_type": "stream",
     "text": [
      "[172 139 776 855]\n",
      "[179 151 790 914]\n",
      "[231 185 849 818]\n",
      "[260 159 843 779]\n",
      "[186 178 810 900]\n"
     ]
    },
    {
     "name": "stderr",
     "output_type": "stream",
     "text": [
      "preprocessing: 372it [00:16, 23.06it/s]"
     ]
    },
    {
     "name": "stdout",
     "output_type": "stream",
     "text": [
      "[224 212 800 878]\n",
      "[237 111 828 947]\n",
      "[181 193 747 941]\n",
      "[187 152 791 854]\n",
      "[205 194 819 898]\n"
     ]
    },
    {
     "name": "stderr",
     "output_type": "stream",
     "text": [
      "preprocessing: 378it [00:16, 23.78it/s]"
     ]
    },
    {
     "name": "stdout",
     "output_type": "stream",
     "text": [
      "[194 198 771 942]\n",
      "[ 276  129 1009  853]\n",
      "[260 127 961 872]\n",
      "[189 111 795 820]\n",
      "[179 194 760 914]\n"
     ]
    },
    {
     "name": "stderr",
     "output_type": "stream",
     "text": [
      "\r",
      "preprocessing: 381it [00:16, 23.94it/s]"
     ]
    },
    {
     "name": "stdout",
     "output_type": "stream",
     "text": [
      "[167 120 839 943]\n",
      "[239 174 866 928]\n",
      "[127 151 751 926]\n",
      "[187 129 750 804]\n",
      "[108 215 756 848]\n",
      "[350 182 897 891]\n"
     ]
    },
    {
     "name": "stderr",
     "output_type": "stream",
     "text": [
      "preprocessing: 387it [00:16, 24.58it/s]"
     ]
    },
    {
     "name": "stdout",
     "output_type": "stream",
     "text": [
      "[277 156 906 925]\n",
      "[215 149 805 933]\n",
      "[233 121 946 818]\n",
      "[327 171 918 801]\n",
      "[157 196 780 885]\n",
      "[211 169 800 895]\n"
     ]
    },
    {
     "name": "stderr",
     "output_type": "stream",
     "text": [
      "preprocessing: 393it [00:17, 23.92it/s]"
     ]
    },
    {
     "name": "stdout",
     "output_type": "stream",
     "text": [
      "[235 161 823 886]\n",
      "[415 160 957 910]\n",
      "[ 59  68 739 863]\n",
      "[214 216 800 799]\n",
      "[194 142 829 917]\n"
     ]
    },
    {
     "name": "stderr",
     "output_type": "stream",
     "text": [
      "preprocessing: 399it [00:17, 24.11it/s]"
     ]
    },
    {
     "name": "stdout",
     "output_type": "stream",
     "text": [
      "[288  27 978 922]\n",
      "[186 162 783 919]\n",
      "[215 140 822 929]\n",
      "[118 173 760 924]\n",
      "[263 205 850 948]\n"
     ]
    },
    {
     "name": "stderr",
     "output_type": "stream",
     "text": [
      "\r",
      "preprocessing: 402it [00:17, 20.17it/s]"
     ]
    },
    {
     "name": "stdout",
     "output_type": "stream",
     "text": [
      "[254 148 852 894]\n",
      "[209 215 759 873]\n",
      "[251 140 767 786]\n",
      "[215 189 739 807]\n",
      "[249 139 866 817]\n"
     ]
    },
    {
     "name": "stderr",
     "output_type": "stream",
     "text": [
      "preprocessing: 408it [00:17, 21.93it/s]"
     ]
    },
    {
     "name": "stdout",
     "output_type": "stream",
     "text": [
      "[228 176 788 786]\n",
      "[201 230 797 865]\n",
      "[250 201 829 780]\n",
      "[188 155 796 916]\n",
      "[252  66 905 884]\n",
      "[107 150 740 875]\n"
     ]
    },
    {
     "name": "stderr",
     "output_type": "stream",
     "text": [
      "preprocessing: 414it [00:18, 24.17it/s]"
     ]
    },
    {
     "name": "stdout",
     "output_type": "stream",
     "text": [
      "[193 161 816 831]\n",
      "[260 157 886 926]\n",
      "[217 158 848 965]\n",
      "[277 153 971 855]\n",
      "[271 162 837 920]\n",
      "[204 224 726 783]\n"
     ]
    },
    {
     "name": "stderr",
     "output_type": "stream",
     "text": [
      "preprocessing: 420it [00:18, 23.77it/s]"
     ]
    },
    {
     "name": "stdout",
     "output_type": "stream",
     "text": [
      "[275 177 837 778]\n",
      "[188  86 824 926]\n",
      "[183 168 763 828]\n",
      "[264 181 778 838]\n",
      "[191 183 793 866]\n"
     ]
    },
    {
     "name": "stderr",
     "output_type": "stream",
     "text": [
      "preprocessing: 426it [00:18, 23.14it/s]"
     ]
    },
    {
     "name": "stdout",
     "output_type": "stream",
     "text": [
      "[197 137 845 875]\n",
      "[291 201 917 808]\n",
      "[339 154 926 852]\n",
      "[296 136 910 864]\n",
      "[223 171 841 806]\n",
      "[322 120 896 802]\n"
     ]
    },
    {
     "name": "stderr",
     "output_type": "stream",
     "text": [
      "preprocessing: 432it [00:18, 23.84it/s]"
     ]
    },
    {
     "name": "stdout",
     "output_type": "stream",
     "text": [
      "[184 155 845 802]\n",
      "[164 194 756 832]\n",
      "[198 177 768 906]\n",
      "[271 186 872 831]\n",
      "[204 122 763 822]\n"
     ]
    },
    {
     "name": "stderr",
     "output_type": "stream",
     "text": [
      "preprocessing: 438it [00:19, 24.13it/s]"
     ]
    },
    {
     "name": "stdout",
     "output_type": "stream",
     "text": [
      "[185 170 808 930]\n",
      "[210 222 749 895]\n",
      "[219 107 858 917]\n",
      "[200 130 825 879]\n",
      "[185 138 756 924]\n",
      "[154 181 753 813]\n"
     ]
    },
    {
     "name": "stderr",
     "output_type": "stream",
     "text": [
      "preprocessing: 444it [00:19, 24.34it/s]"
     ]
    },
    {
     "name": "stdout",
     "output_type": "stream",
     "text": [
      "[194 169 760 929]\n",
      "[110  92 746 923]\n",
      "[224 150 812 900]\n",
      "[ 63 110 718 890]\n",
      "[263 203 914 828]\n"
     ]
    },
    {
     "name": "stderr",
     "output_type": "stream",
     "text": [
      "\r",
      "preprocessing: 447it [00:19, 24.19it/s]"
     ]
    },
    {
     "name": "stdout",
     "output_type": "stream",
     "text": [
      "[219 133 853 902]\n",
      "[156 166 752 874]\n",
      "[221 127 806 868]\n",
      "[118 191 756 879]\n",
      "[ 92 174 745 874]\n"
     ]
    },
    {
     "name": "stderr",
     "output_type": "stream",
     "text": [
      "preprocessing: 453it [00:19, 24.39it/s]"
     ]
    },
    {
     "name": "stdout",
     "output_type": "stream",
     "text": [
      "[137 178 756 911]\n",
      "[243  83 896 774]\n",
      "[221 199 795 876]\n",
      "[180 168 783 865]\n",
      "[190 184 848 878]\n"
     ]
    },
    {
     "name": "stderr",
     "output_type": "stream",
     "text": [
      "preprocessing: 459it [00:19, 24.34it/s]"
     ]
    },
    {
     "name": "stdout",
     "output_type": "stream",
     "text": [
      "[145 177 750 939]\n",
      "[ 69 179 614 844]\n",
      "[317 136 911 884]\n",
      "[186 173 766 830]\n",
      "[200 142 838 956]\n",
      "[281  64 916 758]\n"
     ]
    },
    {
     "name": "stderr",
     "output_type": "stream",
     "text": [
      "preprocessing: 465it [00:20, 24.52it/s]"
     ]
    },
    {
     "name": "stdout",
     "output_type": "stream",
     "text": [
      "[291 167 889 893]\n",
      "[ 51 180 714 861]\n",
      "[267 118 895 892]\n",
      "[263 157 851 871]\n",
      "[131 308 791 770]\n",
      "[189 121 842 952]\n"
     ]
    },
    {
     "name": "stderr",
     "output_type": "stream",
     "text": [
      "preprocessing: 471it [00:20, 24.31it/s]"
     ]
    },
    {
     "name": "stdout",
     "output_type": "stream",
     "text": [
      "[310 113 950 830]\n",
      "[214 189 785 804]\n",
      "[254 116 926 922]\n",
      "[249  90 922 919]\n",
      "[265 170 852 850]\n"
     ]
    },
    {
     "name": "stderr",
     "output_type": "stream",
     "text": [
      "\r",
      "preprocessing: 474it [00:20, 24.90it/s]"
     ]
    },
    {
     "name": "stdout",
     "output_type": "stream",
     "text": [
      "[232 205 777 809]\n",
      "[286 201 892 850]\n",
      "[252 158 882 952]\n",
      "[178 153 802 856]\n",
      "[376 169 902 822]\n",
      "[ 67 115 692 893]\n"
     ]
    },
    {
     "name": "stderr",
     "output_type": "stream",
     "text": [
      "preprocessing: 480it [00:20, 24.86it/s]"
     ]
    },
    {
     "name": "stdout",
     "output_type": "stream",
     "text": [
      "[282 164 840 821]\n",
      "[221 133 845 841]\n",
      "[236 180 726 870]\n",
      "[179 174 788 949]\n",
      "[153 145 769 893]\n"
     ]
    },
    {
     "name": "stderr",
     "output_type": "stream",
     "text": [
      "preprocessing: 486it [00:21, 24.44it/s]"
     ]
    },
    {
     "name": "stdout",
     "output_type": "stream",
     "text": [
      "[ 90 146 719 930]\n",
      "[255 187 796 810]\n",
      "[162 170 763 918]\n",
      "[225 141 839 905]\n",
      "[363 160 957 903]\n",
      "[139 212 698 905]\n"
     ]
    },
    {
     "name": "stderr",
     "output_type": "stream",
     "text": [
      "preprocessing: 492it [00:21, 25.01it/s]"
     ]
    },
    {
     "name": "stdout",
     "output_type": "stream",
     "text": [
      "[213 149 773 832]\n",
      "[193 184 835 895]\n",
      "[263 212 809 814]\n",
      "[213  57 800 801]\n",
      "[246 132 852 837]\n"
     ]
    },
    {
     "name": "stderr",
     "output_type": "stream",
     "text": [
      "preprocessing: 498it [00:21, 23.78it/s]"
     ]
    },
    {
     "name": "stdout",
     "output_type": "stream",
     "text": [
      "[ 97 146 757 820]\n",
      "[251 110 861 871]\n",
      "[295 149 878 795]\n",
      "[220 158 846 805]\n",
      "[189 165 829 915]\n"
     ]
    },
    {
     "name": "stderr",
     "output_type": "stream",
     "text": [
      "\r",
      "preprocessing: 501it [00:21, 20.40it/s]"
     ]
    },
    {
     "name": "stdout",
     "output_type": "stream",
     "text": [
      "[140 126 780 907]\n",
      "[262 249 835 805]\n",
      "[ 80 140 713 830]\n"
     ]
    },
    {
     "name": "stderr",
     "output_type": "stream",
     "text": [
      "preprocessing: 507it [00:21, 21.36it/s]"
     ]
    },
    {
     "name": "stdout",
     "output_type": "stream",
     "text": [
      "[160 146 810 932]\n",
      "[277 188 935 858]\n",
      "[197 237 758 840]\n",
      "[ 67 130 743 873]\n",
      "[129 123 772 893]\n"
     ]
    },
    {
     "name": "stderr",
     "output_type": "stream",
     "text": [
      "\r",
      "preprocessing: 510it [00:22, 22.53it/s]"
     ]
    },
    {
     "name": "stdout",
     "output_type": "stream",
     "text": [
      "[294 229 897 836]\n",
      "[231 203 799 791]\n",
      "[222 130 830 943]\n",
      "[225 107 942 910]\n",
      "[256 208 805 923]\n",
      "[156 153 753 814]\n"
     ]
    },
    {
     "name": "stderr",
     "output_type": "stream",
     "text": [
      "preprocessing: 516it [00:22, 23.79it/s]"
     ]
    },
    {
     "name": "stdout",
     "output_type": "stream",
     "text": [
      "[228 180 789 819]\n",
      "[279 106 911 850]\n",
      "[235 142 812 836]\n",
      "[160  92 770 912]\n",
      "[287 140 865 864]\n"
     ]
    },
    {
     "name": "stderr",
     "output_type": "stream",
     "text": [
      "preprocessing: 522it [00:22, 23.43it/s]"
     ]
    },
    {
     "name": "stdout",
     "output_type": "stream",
     "text": [
      "[116 187 733 929]\n",
      "[292 158 871 902]\n",
      "[276 185 896 818]\n",
      "[139 171 788 948]\n",
      "[238 189 803 912]\n"
     ]
    },
    {
     "name": "stderr",
     "output_type": "stream",
     "text": [
      "preprocessing: 528it [00:22, 23.94it/s]"
     ]
    },
    {
     "name": "stdout",
     "output_type": "stream",
     "text": [
      "[226 128 828 946]\n",
      "[265 144 810 821]\n",
      "[134 186 787 822]\n",
      "[202 165 864 871]\n",
      "[ 39  77 710 837]\n",
      "[170 154 778 826]\n"
     ]
    },
    {
     "name": "stderr",
     "output_type": "stream",
     "text": [
      "preprocessing: 534it [00:23, 24.75it/s]"
     ]
    },
    {
     "name": "stdout",
     "output_type": "stream",
     "text": [
      "[282 186 836 795]\n",
      "[ 94 140 683 817]\n",
      "[243 195 815 944]\n",
      "[ 90 173 746 885]\n",
      "[242 176 816 943]\n",
      "[218 180 819 950]\n"
     ]
    },
    {
     "name": "stderr",
     "output_type": "stream",
     "text": [
      "preprocessing: 540it [00:23, 24.16it/s]"
     ]
    },
    {
     "name": "stdout",
     "output_type": "stream",
     "text": [
      "[240 167 836 917]\n",
      "[162 138 792 906]\n",
      "[254 208 807 885]\n",
      "[273 174 905 899]\n",
      "[239 172 834 926]\n"
     ]
    },
    {
     "name": "stderr",
     "output_type": "stream",
     "text": [
      "\r",
      "preprocessing: 543it [00:23, 24.13it/s]"
     ]
    },
    {
     "name": "stdout",
     "output_type": "stream",
     "text": [
      "[195 170 790 971]\n",
      "[230  93 863 837]\n",
      "[216 150 812 812]\n",
      "[293 257 835 791]\n",
      "[191 118 778 903]\n"
     ]
    },
    {
     "name": "stderr",
     "output_type": "stream",
     "text": [
      "preprocessing: 549it [00:23, 23.63it/s]"
     ]
    },
    {
     "name": "stdout",
     "output_type": "stream",
     "text": [
      "[299 176 915 821]\n",
      "[205 161 796 951]\n",
      "[175 176 752 879]\n",
      "[167 142 842 966]\n",
      "[271  58 923 904]\n"
     ]
    },
    {
     "name": "stderr",
     "output_type": "stream",
     "text": [
      "preprocessing: 555it [00:23, 23.75it/s]"
     ]
    },
    {
     "name": "stdout",
     "output_type": "stream",
     "text": [
      "[216 178 848 951]\n",
      "[222 173 822 951]\n",
      "[243  83 899 826]\n",
      "[206 147 781 859]\n",
      "[129 178 758 932]\n",
      "[295 195 904 885]\n"
     ]
    },
    {
     "name": "stderr",
     "output_type": "stream",
     "text": [
      "preprocessing: 561it [00:24, 23.98it/s]"
     ]
    },
    {
     "name": "stdout",
     "output_type": "stream",
     "text": [
      "[213 155 823 871]\n",
      "[187 145 809 846]\n",
      "[259 142 939 915]\n",
      "[141 189 822 939]\n",
      "[272 150 856 812]\n"
     ]
    },
    {
     "name": "stderr",
     "output_type": "stream",
     "text": [
      "\r",
      "preprocessing: 564it [00:24, 24.07it/s]"
     ]
    },
    {
     "name": "stdout",
     "output_type": "stream",
     "text": [
      "[255 260 865 901]\n",
      "[228 197 829 804]\n",
      "[276 108 971 929]\n",
      "[135 137 776 890]\n",
      "[255 211 793 891]\n"
     ]
    },
    {
     "name": "stderr",
     "output_type": "stream",
     "text": [
      "preprocessing: 570it [00:24, 24.40it/s]"
     ]
    },
    {
     "name": "stdout",
     "output_type": "stream",
     "text": [
      "[213 152 752 866]\n",
      "[272 187 828 830]\n",
      "[302 155 948 826]\n",
      "[204 161 864 795]\n",
      "[301 167 895 891]\n",
      "[224 191 792 950]\n"
     ]
    },
    {
     "name": "stderr",
     "output_type": "stream",
     "text": [
      "preprocessing: 576it [00:24, 23.93it/s]"
     ]
    },
    {
     "name": "stdout",
     "output_type": "stream",
     "text": [
      "[267 121 937 850]\n",
      "[330 189 919 856]\n",
      "[343 158 953 843]\n",
      "[256 138 890 914]\n",
      "[260 227 841 883]\n"
     ]
    },
    {
     "name": "stderr",
     "output_type": "stream",
     "text": [
      "preprocessing: 582it [00:25, 25.02it/s]"
     ]
    },
    {
     "name": "stdout",
     "output_type": "stream",
     "text": [
      "[257 212 825 860]\n",
      "[220 160 835 917]\n",
      "[252 203 847 906]\n",
      "[175 166 799 909]\n",
      "[148 160 787 944]\n",
      "[155 178 748 862]\n"
     ]
    },
    {
     "name": "stderr",
     "output_type": "stream",
     "text": [
      "preprocessing: 588it [00:25, 24.34it/s]"
     ]
    },
    {
     "name": "stdout",
     "output_type": "stream",
     "text": [
      "[224 257 762 809]\n",
      "[243 196 828 790]\n",
      "[151 165 755 933]\n",
      "[260 228 874 778]\n",
      "[250 206 775 939]\n",
      "[315 124 896 855]\n"
     ]
    },
    {
     "name": "stderr",
     "output_type": "stream",
     "text": [
      "preprocessing: 594it [00:25, 23.75it/s]"
     ]
    },
    {
     "name": "stdout",
     "output_type": "stream",
     "text": [
      "[126 120 770 854]\n",
      "[ 72 126 729 882]\n",
      "[213 206 854 961]\n",
      "[153 151 818 926]\n",
      "[126 143 745 857]\n"
     ]
    },
    {
     "name": "stderr",
     "output_type": "stream",
     "text": [
      "\r",
      "preprocessing: 597it [00:25, 23.89it/s]"
     ]
    },
    {
     "name": "stdout",
     "output_type": "stream",
     "text": [
      "[246 140 873 898]\n",
      "[307 146 911 845]\n",
      "[229 176 801 797]\n",
      "[305 172 930 802]\n",
      "[209 192 769 911]\n",
      "[289 192 851 790]\n"
     ]
    },
    {
     "name": "stderr",
     "output_type": "stream",
     "text": [
      "preprocessing: 603it [00:26, 20.32it/s]"
     ]
    },
    {
     "name": "stdout",
     "output_type": "stream",
     "text": [
      "[252 196 788 806]\n",
      "[190 158 811 893]\n",
      "[206 153 826 802]\n",
      "[215 170 795 945]\n",
      "[109 153 749 792]\n"
     ]
    },
    {
     "name": "stderr",
     "output_type": "stream",
     "text": [
      "preprocessing: 609it [00:26, 22.40it/s]"
     ]
    },
    {
     "name": "stdout",
     "output_type": "stream",
     "text": [
      "[162 182 775 901]\n",
      "[199 150 823 915]\n",
      "[189 187 826 829]\n",
      "[281 127 934 926]\n",
      "[136 199 797 913]\n",
      "[ 62  77 747 818]\n"
     ]
    },
    {
     "name": "stderr",
     "output_type": "stream",
     "text": [
      "preprocessing: 615it [00:26, 24.56it/s]"
     ]
    },
    {
     "name": "stdout",
     "output_type": "stream",
     "text": [
      "[172 140 743 845]\n",
      "[211 214 923 953]\n",
      "[219 129 799 878]\n",
      "[338 190 950 894]\n",
      "[307 210 912 780]\n",
      "[145 142 730 838]\n"
     ]
    },
    {
     "name": "stderr",
     "output_type": "stream",
     "text": [
      "preprocessing: 621it [00:26, 24.26it/s]"
     ]
    },
    {
     "name": "stdout",
     "output_type": "stream",
     "text": [
      "[205 168 877 958]\n",
      "[112 127 726 862]\n",
      "[ 68  92 781 830]\n",
      "[124 122 768 870]\n",
      "[237 171 808 773]\n"
     ]
    },
    {
     "name": "stderr",
     "output_type": "stream",
     "text": [
      "preprocessing: 627it [00:26, 24.33it/s]"
     ]
    },
    {
     "name": "stdout",
     "output_type": "stream",
     "text": [
      "[188 234 706 788]\n",
      "[147 166 736 868]\n",
      "[249 171 814 830]\n",
      "[199 158 784 843]\n",
      "[303 178 930 838]\n",
      "[219 141 802 911]\n"
     ]
    },
    {
     "name": "stderr",
     "output_type": "stream",
     "text": [
      "preprocessing: 633it [00:27, 24.09it/s]"
     ]
    },
    {
     "name": "stdout",
     "output_type": "stream",
     "text": [
      "[189  90 743 918]\n",
      "[194 157 831 819]\n",
      "[271 223 837 962]\n",
      "[275 253 821 818]\n",
      "[209 125 874 909]\n"
     ]
    },
    {
     "name": "stderr",
     "output_type": "stream",
     "text": [
      "\r",
      "preprocessing: 636it [00:27, 23.76it/s]"
     ]
    },
    {
     "name": "stdout",
     "output_type": "stream",
     "text": [
      "[258 148 926 912]\n",
      "[111 157 762 781]\n",
      "[193 155 839 824]\n",
      "[164 187 779 915]\n",
      "[141 174 749 860]\n"
     ]
    },
    {
     "name": "stderr",
     "output_type": "stream",
     "text": [
      "preprocessing: 642it [00:27, 24.04it/s]"
     ]
    },
    {
     "name": "stdout",
     "output_type": "stream",
     "text": [
      "[275 140 881 915]\n",
      "[230 208 781 863]\n",
      "[124 174 767 917]\n",
      "[119 158 833 977]\n",
      "[206 203 817 940]\n"
     ]
    },
    {
     "name": "stderr",
     "output_type": "stream",
     "text": [
      "preprocessing: 648it [00:27, 24.08it/s]"
     ]
    },
    {
     "name": "stdout",
     "output_type": "stream",
     "text": [
      "[288 180 863 910]\n",
      "[192 209 773 797]\n",
      "[218 195 815 787]\n",
      "[180 165 806 978]\n",
      "[262 205 796 826]\n"
     ]
    },
    {
     "name": "stderr",
     "output_type": "stream",
     "text": [
      "\r",
      "preprocessing: 651it [00:27, 24.05it/s]"
     ]
    },
    {
     "name": "stdout",
     "output_type": "stream",
     "text": [
      "[207 169 861 949]\n",
      "[210 134 866 970]\n",
      "[218 209 795 910]\n",
      "[180 120 877 920]\n",
      "[115 159 744 906]\n"
     ]
    },
    {
     "name": "stderr",
     "output_type": "stream",
     "text": [
      "preprocessing: 657it [00:28, 23.95it/s]"
     ]
    },
    {
     "name": "stdout",
     "output_type": "stream",
     "text": [
      "[184 214 760 842]\n",
      "[210 206 760 930]\n",
      "[325 178 929 829]\n",
      "[204 129 794 828]\n",
      "[147 134 768 930]\n"
     ]
    },
    {
     "name": "stderr",
     "output_type": "stream",
     "text": [
      "preprocessing: 663it [00:28, 24.03it/s]"
     ]
    },
    {
     "name": "stdout",
     "output_type": "stream",
     "text": [
      "[312 188 896 837]\n",
      "[210 141 837 935]\n",
      "[ 94 171 685 881]\n",
      "[169 224 747 800]\n",
      "[198 180 777 869]\n",
      "[225 167 790 918]\n"
     ]
    },
    {
     "name": "stderr",
     "output_type": "stream",
     "text": [
      "preprocessing: 669it [00:28, 23.92it/s]"
     ]
    },
    {
     "name": "stdout",
     "output_type": "stream",
     "text": [
      "[135 171 751 868]\n",
      "[212 161 792 840]\n",
      "[241 202 806 852]\n",
      "[225 202 808 936]\n",
      "[126 140 743 839]\n"
     ]
    },
    {
     "name": "stderr",
     "output_type": "stream",
     "text": [
      "\r",
      "preprocessing: 672it [00:28, 23.48it/s]"
     ]
    },
    {
     "name": "stdout",
     "output_type": "stream",
     "text": [
      "[205 172 886 947]\n",
      "[230 109 787 835]\n",
      "[219 160 864 958]\n",
      "[112 126 759 876]\n",
      "[ 96 146 717 855]\n"
     ]
    },
    {
     "name": "stderr",
     "output_type": "stream",
     "text": [
      "preprocessing: 678it [00:29, 23.93it/s]"
     ]
    },
    {
     "name": "stdout",
     "output_type": "stream",
     "text": [
      "[227 244 797 784]\n",
      "[159 187 769 961]\n",
      "[219 146 813 891]\n",
      "[128 130 835 803]\n",
      "[284 125 921 931]\n"
     ]
    },
    {
     "name": "stderr",
     "output_type": "stream",
     "text": [
      "preprocessing: 684it [00:29, 23.52it/s]"
     ]
    },
    {
     "name": "stdout",
     "output_type": "stream",
     "text": [
      "[228 152 814 927]\n",
      "[237 204 813 958]\n",
      "[220 208 844 837]\n",
      "[132 148 769 949]\n",
      "[221 212 767 920]\n"
     ]
    },
    {
     "name": "stderr",
     "output_type": "stream",
     "text": [
      "\r",
      "preprocessing: 687it [00:29, 23.39it/s]"
     ]
    },
    {
     "name": "stdout",
     "output_type": "stream",
     "text": [
      "[307 187 894 849]\n",
      "[113 101 742 877]\n",
      "[296 158 871 811]\n",
      "[129 137 772 842]\n",
      "[119  58 755 853]\n"
     ]
    },
    {
     "name": "stderr",
     "output_type": "stream",
     "text": [
      "preprocessing: 693it [00:29, 23.90it/s]"
     ]
    },
    {
     "name": "stdout",
     "output_type": "stream",
     "text": [
      "[222 173 783 984]\n",
      "[191 145 784 962]\n",
      "[253 183 906 949]\n",
      "[293 185 889 784]\n",
      "[223 117 865 847]\n"
     ]
    },
    {
     "name": "stderr",
     "output_type": "stream",
     "text": [
      "preprocessing: 699it [00:30, 24.01it/s]"
     ]
    },
    {
     "name": "stdout",
     "output_type": "stream",
     "text": [
      "[256 190 867 782]\n",
      "[279 144 941 819]\n",
      "[229 130 866 866]\n",
      "[209 130 878 804]\n",
      "[180 123 770 818]\n",
      "[275 155 883 885]\n"
     ]
    },
    {
     "name": "stderr",
     "output_type": "stream",
     "text": [
      "\r",
      "preprocessing: 702it [00:30, 19.79it/s]"
     ]
    },
    {
     "name": "stdout",
     "output_type": "stream",
     "text": [
      "[202 205 770 799]\n",
      "[338 172 862 867]\n",
      "[280 109 875 917]\n",
      "[266 162 833 920]\n",
      "[209 161 783 851]\n"
     ]
    },
    {
     "name": "stderr",
     "output_type": "stream",
     "text": [
      "preprocessing: 708it [00:30, 21.49it/s]"
     ]
    },
    {
     "name": "stdout",
     "output_type": "stream",
     "text": [
      "[190 121 780 800]\n",
      "[284 181 889 882]\n",
      "[267 196 833 996]\n",
      "[176 170 776 904]\n",
      "[257 118 946 804]\n"
     ]
    },
    {
     "name": "stderr",
     "output_type": "stream",
     "text": [
      "preprocessing: 714it [00:30, 23.62it/s]"
     ]
    },
    {
     "name": "stdout",
     "output_type": "stream",
     "text": [
      "[249 183 840 826]\n",
      "[226 162 857 866]\n",
      "[183 201 731 722]\n",
      "[311 135 808 799]\n",
      "[298 251 770 801]\n",
      "[172 146 768 848]\n"
     ]
    },
    {
     "name": "stderr",
     "output_type": "stream",
     "text": [
      "preprocessing: 720it [00:30, 23.91it/s]"
     ]
    },
    {
     "name": "stdout",
     "output_type": "stream",
     "text": [
      "[244 162 785 818]\n",
      "[233 166 883 879]\n",
      "[274 248 868 889]\n",
      "[128 154 803 914]\n",
      "[ 83 150 706 847]\n"
     ]
    },
    {
     "name": "stderr",
     "output_type": "stream",
     "text": [
      "preprocessing: 726it [00:31, 23.29it/s]"
     ]
    },
    {
     "name": "stdout",
     "output_type": "stream",
     "text": [
      "[ 96 121 718 863]\n",
      "[358 174 896 845]\n",
      "[191 174 752 850]\n",
      "[240 195 789 818]\n",
      "[ 84 159 671 838]\n",
      "[189 159 834 966]\n"
     ]
    },
    {
     "name": "stderr",
     "output_type": "stream",
     "text": [
      "preprocessing: 732it [00:31, 23.32it/s]"
     ]
    },
    {
     "name": "stdout",
     "output_type": "stream",
     "text": [
      "[ 98 142 723 887]\n",
      "[257 108 928 818]\n",
      "[145 156 831 935]\n",
      "[203 186 790 884]\n",
      "[332 191 968 809]\n"
     ]
    },
    {
     "name": "stderr",
     "output_type": "stream",
     "text": [
      "\r",
      "preprocessing: 735it [00:31, 23.75it/s]"
     ]
    },
    {
     "name": "stdout",
     "output_type": "stream",
     "text": [
      "[218 176 859 846]\n",
      "[227 208 820 799]\n",
      "[277 157 848 794]\n",
      "[310 148 938 849]\n",
      "[251 150 848 870]\n"
     ]
    },
    {
     "name": "stderr",
     "output_type": "stream",
     "text": [
      "preprocessing: 741it [00:31, 24.23it/s]"
     ]
    },
    {
     "name": "stdout",
     "output_type": "stream",
     "text": [
      "[121 185 737 900]\n",
      "[220 150 786 879]\n",
      "[230 200 814 957]\n",
      "[277 218 927 845]\n",
      "[315 107 790 836]\n"
     ]
    },
    {
     "name": "stderr",
     "output_type": "stream",
     "text": [
      "preprocessing: 747it [00:32, 24.65it/s]"
     ]
    },
    {
     "name": "stdout",
     "output_type": "stream",
     "text": [
      "[166 183 759 816]\n",
      "[236 177 846 916]\n",
      "[250 178 798 772]\n",
      "[228 213 787 927]\n",
      "[215 151 794 952]\n",
      "[ 27  72 727 939]\n"
     ]
    },
    {
     "name": "stderr",
     "output_type": "stream",
     "text": [
      "preprocessing: 753it [00:32, 23.93it/s]"
     ]
    },
    {
     "name": "stdout",
     "output_type": "stream",
     "text": [
      "[176 180 754 895]\n",
      "[271 145 829 823]\n",
      "[174 168 822 890]\n",
      "[197 182 860 917]\n",
      "[194 161 840 913]\n"
     ]
    },
    {
     "name": "stderr",
     "output_type": "stream",
     "text": [
      "\r",
      "preprocessing: 756it [00:32, 23.15it/s]"
     ]
    },
    {
     "name": "stdout",
     "output_type": "stream",
     "text": [
      "[207 144 770 870]\n",
      "[195 169 761 935]\n",
      "[119 131 763 948]\n",
      "[166 141 797 856]\n"
     ]
    },
    {
     "name": "stderr",
     "output_type": "stream",
     "text": [
      "preprocessing: 762it [00:32, 22.13it/s]"
     ]
    },
    {
     "name": "stdout",
     "output_type": "stream",
     "text": [
      "[285 194 858 896]\n",
      "[240 205 858 944]\n",
      "[207 155 784 893]\n",
      "[269 194 817 937]\n",
      "[347 196 933 811]\n"
     ]
    },
    {
     "name": "stderr",
     "output_type": "stream",
     "text": [
      "\r",
      "preprocessing: 765it [00:32, 21.70it/s]"
     ]
    },
    {
     "name": "stdout",
     "output_type": "stream",
     "text": [
      "[348 226 823 836]\n",
      "[208 132 900 893]\n",
      "[131 172 752 869]\n",
      "[345 168 933 890]\n",
      "[141 164 782 810]\n"
     ]
    },
    {
     "name": "stderr",
     "output_type": "stream",
     "text": [
      "preprocessing: 771it [00:33, 21.43it/s]"
     ]
    },
    {
     "name": "stdout",
     "output_type": "stream",
     "text": [
      "[251 206 794 953]\n",
      "[232 149 842 915]\n",
      "[257 173 817 937]\n",
      "[154 162 829 888]\n"
     ]
    },
    {
     "name": "stderr",
     "output_type": "stream",
     "text": [
      "\r",
      "preprocessing: 774it [00:33, 19.99it/s]"
     ]
    },
    {
     "name": "stdout",
     "output_type": "stream",
     "text": [
      "[350 204 874 833]\n",
      "[258 220 769 855]\n",
      "[234 149 871 946]\n",
      "[135 104 762 894]\n",
      "[127 158 772 962]\n"
     ]
    },
    {
     "name": "stderr",
     "output_type": "stream",
     "text": [
      "preprocessing: 780it [00:33, 21.24it/s]"
     ]
    },
    {
     "name": "stdout",
     "output_type": "stream",
     "text": [
      "[142 129 798 886]\n",
      "[199 209 770 804]\n",
      "[187 185 797 963]\n",
      "[223 134 816 932]\n",
      "[289 135 988 912]\n",
      "[178 149 766 833]\n"
     ]
    },
    {
     "name": "stderr",
     "output_type": "stream",
     "text": [
      "preprocessing: 786it [00:33, 23.09it/s]"
     ]
    },
    {
     "name": "stdout",
     "output_type": "stream",
     "text": [
      "[211 101 812 801]\n",
      "[205 180 777 940]\n",
      "[167 137 789 859]\n",
      "[236 196 899 916]\n",
      "[285 192 868 909]\n"
     ]
    },
    {
     "name": "stderr",
     "output_type": "stream",
     "text": [
      "preprocessing: 792it [00:34, 23.26it/s]"
     ]
    },
    {
     "name": "stdout",
     "output_type": "stream",
     "text": [
      "[232 165 848 978]\n",
      "[169 134 781 869]\n",
      "[122 119 738 875]\n",
      "[207 164 844 828]\n",
      "[172 172 772 837]\n"
     ]
    },
    {
     "name": "stderr",
     "output_type": "stream",
     "text": [
      "preprocessing: 798it [00:34, 23.93it/s]"
     ]
    },
    {
     "name": "stdout",
     "output_type": "stream",
     "text": [
      "[306 189 861 790]\n",
      "[219 137 810 773]\n",
      "[180 211 782 804]\n",
      "[203 203 768 811]\n",
      "[146 112 797 834]\n"
     ]
    },
    {
     "name": "stderr",
     "output_type": "stream",
     "text": [
      "\r",
      "preprocessing: 801it [00:34, 20.31it/s]"
     ]
    },
    {
     "name": "stdout",
     "output_type": "stream",
     "text": [
      "[212 201 794 936]\n",
      "[198 163 829 901]\n",
      "[191 108 801 962]\n",
      "[250 195 821 915]\n"
     ]
    },
    {
     "name": "stderr",
     "output_type": "stream",
     "text": [
      "preprocessing: 807it [00:34, 21.30it/s]"
     ]
    },
    {
     "name": "stdout",
     "output_type": "stream",
     "text": [
      "[338 183 849 837]\n",
      "[112 100 763 829]\n",
      "[206 138 937 862]\n",
      "[159 169 725 906]\n",
      "[208 195 789 908]\n"
     ]
    },
    {
     "name": "stderr",
     "output_type": "stream",
     "text": [
      "\r",
      "preprocessing: 810it [00:34, 21.96it/s]"
     ]
    },
    {
     "name": "stdout",
     "output_type": "stream",
     "text": [
      "[196 176 806 798]\n",
      "[244 195 820 818]\n",
      "[248 185 877 939]\n",
      "[196 196 790 877]\n",
      "[266 191 860 886]\n",
      "[236 127 855 856]\n"
     ]
    },
    {
     "name": "stderr",
     "output_type": "stream",
     "text": [
      "preprocessing: 816it [00:35, 23.02it/s]"
     ]
    },
    {
     "name": "stdout",
     "output_type": "stream",
     "text": [
      "[140 190 674 876]\n",
      "[117 186 697 887]\n",
      "[168 168 762 827]\n",
      "[169 160 766 830]\n",
      "[215  80 911 820]\n"
     ]
    },
    {
     "name": "stderr",
     "output_type": "stream",
     "text": [
      "preprocessing: 822it [00:35, 22.52it/s]"
     ]
    },
    {
     "name": "stdout",
     "output_type": "stream",
     "text": [
      "[210 175 846 929]\n",
      "[217 140 859 909]\n",
      "[234 228 751 726]\n",
      "[109 143 783 928]\n",
      "[154 144 786 891]\n"
     ]
    },
    {
     "name": "stderr",
     "output_type": "stream",
     "text": [
      "preprocessing: 828it [00:35, 23.72it/s]"
     ]
    },
    {
     "name": "stdout",
     "output_type": "stream",
     "text": [
      "[285 198 899 865]\n",
      "[249 153 877 889]\n",
      "[209 176 839 911]\n",
      "[201 174 799 852]\n",
      "[206 103 854 803]\n",
      "[230 163 880 929]\n"
     ]
    },
    {
     "name": "stderr",
     "output_type": "stream",
     "text": [
      "preprocessing: 834it [00:35, 23.86it/s]"
     ]
    },
    {
     "name": "stdout",
     "output_type": "stream",
     "text": [
      "[178 152 779 843]\n",
      "[335 185 900 837]\n",
      "[181 144 804 924]\n",
      "[157 172 791 966]\n",
      "[127 102 773 805]\n",
      "[297 147 879 831]\n"
     ]
    },
    {
     "name": "stderr",
     "output_type": "stream",
     "text": [
      "preprocessing: 840it [00:36, 23.93it/s]"
     ]
    },
    {
     "name": "stdout",
     "output_type": "stream",
     "text": [
      "[121 157 740 873]\n",
      "[243 124 893 932]\n",
      "[231 194 830 869]\n",
      "[193 139 841 902]\n",
      "[ 58  74 752 872]\n"
     ]
    },
    {
     "name": "stderr",
     "output_type": "stream",
     "text": [
      "\r",
      "preprocessing: 843it [00:36, 23.62it/s]"
     ]
    },
    {
     "name": "stdout",
     "output_type": "stream",
     "text": [
      "[287 190 893 812]\n",
      "[324 186 864 793]\n",
      "[227 215 765 736]\n",
      "[182 111 792 939]\n",
      "[189 112 853 818]\n"
     ]
    },
    {
     "name": "stderr",
     "output_type": "stream",
     "text": [
      "preprocessing: 849it [00:36, 23.66it/s]"
     ]
    },
    {
     "name": "stdout",
     "output_type": "stream",
     "text": [
      "[112 171 778 840]\n",
      "[137 160 749 825]\n",
      "[211 233 767 898]\n",
      "[290 178 834 958]\n",
      "[155 180 738 807]\n",
      "[109 147 770 836]\n"
     ]
    },
    {
     "name": "stderr",
     "output_type": "stream",
     "text": [
      "preprocessing: 855it [00:36, 23.43it/s]"
     ]
    },
    {
     "name": "stdout",
     "output_type": "stream",
     "text": [
      "[216 126 781 824]\n",
      "[137 199 825 966]\n",
      "[139 178 768 918]\n",
      "[234 135 862 955]\n",
      "[259 208 860 763]\n",
      "[226 191 800 933]\n"
     ]
    },
    {
     "name": "stderr",
     "output_type": "stream",
     "text": [
      "preprocessing: 861it [00:37, 24.07it/s]"
     ]
    },
    {
     "name": "stdout",
     "output_type": "stream",
     "text": [
      "[168 185 807 940]\n",
      "[171 159 839 902]\n",
      "[199 123 786 930]\n",
      "[198 169 794 853]\n",
      "[189 169 825 945]\n"
     ]
    },
    {
     "name": "stderr",
     "output_type": "stream",
     "text": [
      "preprocessing: 867it [00:37, 23.80it/s]"
     ]
    },
    {
     "name": "stdout",
     "output_type": "stream",
     "text": [
      "[195 134 817 967]\n",
      "[218 209 855 937]\n",
      "[308 151 955 873]\n",
      "[218 128 814 966]\n",
      "[205 195 800 934]\n"
     ]
    },
    {
     "name": "stderr",
     "output_type": "stream",
     "text": [
      "\r",
      "preprocessing: 870it [00:37, 23.14it/s]"
     ]
    },
    {
     "name": "stdout",
     "output_type": "stream",
     "text": [
      "[122 164 684 877]\n",
      "[343 172 903 845]\n",
      "[294 159 864 903]\n",
      "[126 115 737 831]\n",
      "[276 238 932 746]\n"
     ]
    },
    {
     "name": "stderr",
     "output_type": "stream",
     "text": [
      "preprocessing: 876it [00:37, 22.04it/s]"
     ]
    },
    {
     "name": "stdout",
     "output_type": "stream",
     "text": [
      "[290 108 851 765]\n",
      "[253 207 896 887]\n",
      "[122 144 739 934]\n",
      "[235 159 852 851]\n"
     ]
    },
    {
     "name": "stderr",
     "output_type": "stream",
     "text": [
      "\r",
      "preprocessing: 879it [00:37, 21.45it/s]"
     ]
    },
    {
     "name": "stdout",
     "output_type": "stream",
     "text": [
      "[309 170 954 805]\n",
      "[140 150 741 840]\n",
      "[205 133 798 802]\n",
      "[124 131 783 830]\n",
      "[106 143 737 842]\n"
     ]
    },
    {
     "name": "stderr",
     "output_type": "stream",
     "text": [
      "preprocessing: 885it [00:38, 20.79it/s]"
     ]
    },
    {
     "name": "stdout",
     "output_type": "stream",
     "text": [
      "[352 194 933 896]\n",
      "[176 151 755 854]\n",
      "[300 197 914 916]\n",
      "[258 186 843 935]\n"
     ]
    },
    {
     "name": "stderr",
     "output_type": "stream",
     "text": [
      "\r",
      "preprocessing: 888it [00:38, 20.70it/s]"
     ]
    },
    {
     "name": "stdout",
     "output_type": "stream",
     "text": [
      "[ 91 127 742 836]\n",
      "[232 186 785 870]\n",
      "[224 127 858 945]\n",
      "[111 114 712 917]\n",
      "[209 169 809 803]\n"
     ]
    },
    {
     "name": "stderr",
     "output_type": "stream",
     "text": [
      "preprocessing: 894it [00:38, 21.14it/s]"
     ]
    },
    {
     "name": "stdout",
     "output_type": "stream",
     "text": [
      "[305 168 853 851]\n",
      "[230 210 779 930]\n",
      "[265 190 864 824]\n",
      "[ 88 120 748 895]\n",
      "[206 132 815 863]\n"
     ]
    },
    {
     "name": "stderr",
     "output_type": "stream",
     "text": [
      "preprocessing: 900it [00:38, 20.21it/s]"
     ]
    },
    {
     "name": "stdout",
     "output_type": "stream",
     "text": [
      "[221 238 780 781]\n",
      "[188 150 774 861]\n",
      "[341 182 855 942]\n",
      "[195 147 787 913]\n"
     ]
    },
    {
     "name": "stderr",
     "output_type": "stream",
     "text": [
      "\r",
      "preprocessing: 903it [00:39, 19.16it/s]"
     ]
    },
    {
     "name": "stdout",
     "output_type": "stream",
     "text": [
      "[209 125 818 861]\n",
      "[253 184 849 771]\n",
      "[191 175 780 860]\n",
      "[190 185 742 765]\n",
      "[230 203 798 885]\n"
     ]
    },
    {
     "name": "stderr",
     "output_type": "stream",
     "text": [
      "preprocessing: 909it [00:39, 21.71it/s]"
     ]
    },
    {
     "name": "stdout",
     "output_type": "stream",
     "text": [
      "[255 247 855 782]\n",
      "[157 148 808 974]\n",
      "[205 204 764 888]\n",
      "[207 154 789 821]\n",
      "[263  90 960 812]\n",
      "[152 121 821 894]\n"
     ]
    },
    {
     "name": "stderr",
     "output_type": "stream",
     "text": [
      "preprocessing: 915it [00:39, 23.71it/s]"
     ]
    },
    {
     "name": "stdout",
     "output_type": "stream",
     "text": [
      "[354 183 927 812]\n",
      "[207 142 781 858]\n",
      "[133 144 835 893]\n",
      "[281 152 822 802]\n",
      "[270 186 874 947]\n",
      "[284 182 888 926]\n"
     ]
    },
    {
     "name": "stderr",
     "output_type": "stream",
     "text": [
      "preprocessing: 921it [00:39, 23.78it/s]"
     ]
    },
    {
     "name": "stdout",
     "output_type": "stream",
     "text": [
      "[135 152 753 810]\n",
      "[ 62 119 758 814]\n",
      "[101 169 679 835]\n",
      "[197 184 831 808]\n",
      "[ 85 114 750 837]\n",
      "[295 152 830 830]\n"
     ]
    },
    {
     "name": "stderr",
     "output_type": "stream",
     "text": [
      "preprocessing: 927it [00:40, 23.42it/s]"
     ]
    },
    {
     "name": "stdout",
     "output_type": "stream",
     "text": [
      "[202 168 813 824]\n",
      "[119 167 761 802]\n",
      "[246 183 759 784]\n",
      "[277 206 829 807]\n",
      "[306 211 826 788]\n"
     ]
    },
    {
     "name": "stderr",
     "output_type": "stream",
     "text": [
      "preprocessing: 933it [00:40, 23.65it/s]"
     ]
    },
    {
     "name": "stdout",
     "output_type": "stream",
     "text": [
      "[218 167 795 801]\n",
      "[211 169 815 836]\n",
      "[263 169 869 874]\n",
      "[153 207 750 825]\n",
      "[213 157 804 900]\n"
     ]
    },
    {
     "name": "stderr",
     "output_type": "stream",
     "text": [
      "\r",
      "preprocessing: 936it [00:40, 23.52it/s]"
     ]
    },
    {
     "name": "stdout",
     "output_type": "stream",
     "text": [
      "[220 162 790 863]\n",
      "[257 209 817 880]\n",
      "[143 156 784 897]\n",
      "[214 138 829 935]\n",
      "[299 191 850 903]\n"
     ]
    },
    {
     "name": "stderr",
     "output_type": "stream",
     "text": [
      "preprocessing: 942it [00:40, 23.77it/s]"
     ]
    },
    {
     "name": "stdout",
     "output_type": "stream",
     "text": [
      "[286 197 866 812]\n",
      "[305 106 920 862]\n",
      "[169 158 797 771]\n",
      "[267 191 843 933]\n",
      "[280 232 826 796]\n"
     ]
    },
    {
     "name": "stderr",
     "output_type": "stream",
     "text": [
      "preprocessing: 948it [00:41, 23.63it/s]"
     ]
    },
    {
     "name": "stdout",
     "output_type": "stream",
     "text": [
      "[167  97 796 813]\n",
      "[329 192 781 841]\n",
      "[222 135 831 943]\n",
      "[252 160 867 834]\n",
      "[188 146 813 845]\n",
      "[229 182 759 884]\n"
     ]
    },
    {
     "name": "stderr",
     "output_type": "stream",
     "text": [
      "preprocessing: 954it [00:41, 24.28it/s]"
     ]
    },
    {
     "name": "stdout",
     "output_type": "stream",
     "text": [
      "[211 165 813 898]\n",
      "[308 173 879 816]\n",
      "[200 157 782 807]\n",
      "[ 79 129 733 897]\n",
      "[210 162 827 894]\n",
      "[305 197 902 881]\n"
     ]
    },
    {
     "name": "stderr",
     "output_type": "stream",
     "text": [
      "preprocessing: 960it [00:41, 23.64it/s]"
     ]
    },
    {
     "name": "stdout",
     "output_type": "stream",
     "text": [
      "[206 158 931 926]\n",
      "[122 148 772 888]\n",
      "[307 208 887 866]\n",
      "[310 200 950 870]\n",
      "[182  99 828 906]\n",
      "[258 191 806 789]\n"
     ]
    },
    {
     "name": "stderr",
     "output_type": "stream",
     "text": [
      "preprocessing: 966it [00:41, 24.09it/s]"
     ]
    },
    {
     "name": "stdout",
     "output_type": "stream",
     "text": [
      "[260  46 886 844]\n",
      "[220 104 847 792]\n",
      "[297  84 888 796]\n",
      "[217 195 781 780]\n",
      "[168 182 854 925]\n",
      "[173 126 767 868]\n"
     ]
    },
    {
     "name": "stderr",
     "output_type": "stream",
     "text": [
      "preprocessing: 972it [00:42, 23.56it/s]"
     ]
    },
    {
     "name": "stdout",
     "output_type": "stream",
     "text": [
      "[358 214 917 851]\n",
      "[246 132 834 812]\n",
      "[256 206 795 864]\n",
      "[261 186 798 921]\n",
      "[136 146 754 877]\n"
     ]
    },
    {
     "name": "stderr",
     "output_type": "stream",
     "text": [
      "\r",
      "preprocessing: 975it [00:42, 23.56it/s]"
     ]
    },
    {
     "name": "stdout",
     "output_type": "stream",
     "text": [
      "[182 183 788 943]\n",
      "[142 131 743 872]\n",
      "[184 158 797 912]\n",
      "[154 133 780 849]\n",
      "[264 155 781 727]\n"
     ]
    },
    {
     "name": "stderr",
     "output_type": "stream",
     "text": [
      "preprocessing: 981it [00:42, 23.52it/s]"
     ]
    },
    {
     "name": "stdout",
     "output_type": "stream",
     "text": [
      "[252 194 785 894]\n",
      "[150 171 804 951]\n",
      "[220 154 866 948]\n",
      "[176 117 788 801]\n",
      "[ 83 152 792 816]\n"
     ]
    },
    {
     "name": "stderr",
     "output_type": "stream",
     "text": [
      "preprocessing: 987it [00:42, 23.53it/s]"
     ]
    },
    {
     "name": "stdout",
     "output_type": "stream",
     "text": [
      "[289 160 957 934]\n",
      "[226 203 804 809]\n",
      "[289  91 872 803]\n",
      "[159 134 740 865]\n",
      "[158 143 756 833]\n"
     ]
    },
    {
     "name": "stderr",
     "output_type": "stream",
     "text": [
      "\r",
      "preprocessing: 990it [00:42, 23.89it/s]"
     ]
    },
    {
     "name": "stdout",
     "output_type": "stream",
     "text": [
      "[123 160 727 960]\n",
      "[215 213 796 958]\n",
      "[241 198 807 828]\n",
      "[223 223 700 727]\n",
      "[209 158 792 863]\n"
     ]
    },
    {
     "name": "stderr",
     "output_type": "stream",
     "text": [
      "preprocessing: 996it [00:43, 23.84it/s]"
     ]
    },
    {
     "name": "stdout",
     "output_type": "stream",
     "text": [
      "[236 183 810 801]\n",
      "[200 125 793 944]\n",
      "[222 125 840 890]\n",
      "[278  97 862 822]\n",
      "[184 102 757 802]\n"
     ]
    },
    {
     "name": "stderr",
     "output_type": "stream",
     "text": [
      "\r",
      "preprocessing: 999it [00:43, 23.84it/s]"
     ]
    },
    {
     "name": "stdout",
     "output_type": "stream",
     "text": [
      "[ 83 172 756 886]\n",
      "[250 145 874 952]\n",
      "[ 82  53 759 810]\n"
     ]
    },
    {
     "name": "stderr",
     "output_type": "stream",
     "text": [
      "\r",
      "preprocessing: 1002it [00:43, 19.87it/s]"
     ]
    },
    {
     "name": "stdout",
     "output_type": "stream",
     "text": [
      "[148 139 781 924]\n",
      "[247 197 848 888]\n",
      "[226 189 814 960]\n",
      "[240 133 849 906]\n",
      "[107 162 746 911]\n"
     ]
    },
    {
     "name": "stderr",
     "output_type": "stream",
     "text": [
      "preprocessing: 1008it [00:43, 21.39it/s]"
     ]
    },
    {
     "name": "stdout",
     "output_type": "stream",
     "text": [
      "[257 213 770 810]\n",
      "[277  87 897 831]\n",
      "[118 147 763 898]\n",
      "[115 144 767 906]\n",
      "[169 151 764 849]\n",
      "[190 145 792 910]\n"
     ]
    },
    {
     "name": "stderr",
     "output_type": "stream",
     "text": [
      "preprocessing: 1014it [00:43, 23.83it/s]"
     ]
    },
    {
     "name": "stdout",
     "output_type": "stream",
     "text": [
      "[208 192 784 772]\n",
      "[108 195 754 950]\n",
      "[224 194 798 898]\n",
      "[294 165 897 828]\n",
      "[279 199 853 824]\n",
      "[190 177 782 853]\n"
     ]
    },
    {
     "name": "stderr",
     "output_type": "stream",
     "text": [
      "preprocessing: 1020it [00:44, 23.16it/s]"
     ]
    },
    {
     "name": "stdout",
     "output_type": "stream",
     "text": [
      "[248 221 819 940]\n",
      "[274 221 888 773]\n",
      "[265 198 806 765]\n",
      "[221 172 808 862]\n",
      "[ 48  72 746 828]\n"
     ]
    },
    {
     "name": "stderr",
     "output_type": "stream",
     "text": [
      "preprocessing: 1026it [00:44, 22.92it/s]"
     ]
    },
    {
     "name": "stdout",
     "output_type": "stream",
     "text": [
      "[211 108 869 916]\n",
      "[172 148 784 909]\n",
      "[165 156 731 890]\n",
      "[174  80 783 799]\n",
      "[191 185 814 877]\n"
     ]
    },
    {
     "name": "stderr",
     "output_type": "stream",
     "text": [
      "preprocessing: 1032it [00:44, 22.99it/s]"
     ]
    },
    {
     "name": "stdout",
     "output_type": "stream",
     "text": [
      "[396 249 897 747]\n",
      "[200 150 811 833]\n",
      "[228 164 882 879]\n",
      "[299 176 881 818]\n",
      "[265 144 824 783]\n"
     ]
    },
    {
     "name": "stderr",
     "output_type": "stream",
     "text": [
      "preprocessing: 1038it [00:44, 23.59it/s]"
     ]
    },
    {
     "name": "stdout",
     "output_type": "stream",
     "text": [
      "[206 148 809 954]\n",
      "[281 174 856 815]\n",
      "[213 137 837 902]\n",
      "[187 142 802 808]\n",
      "[279 210 844 970]\n"
     ]
    },
    {
     "name": "stderr",
     "output_type": "stream",
     "text": [
      "\r",
      "preprocessing: 1041it [00:45, 23.41it/s]"
     ]
    },
    {
     "name": "stdout",
     "output_type": "stream",
     "text": [
      "[288 143 981 858]\n",
      "[187 141 809 989]\n",
      "[241  64 922 794]\n",
      "[208 149 793 922]\n",
      "[195 165 764 853]\n"
     ]
    },
    {
     "name": "stderr",
     "output_type": "stream",
     "text": [
      "preprocessing: 1047it [00:45, 23.50it/s]"
     ]
    },
    {
     "name": "stdout",
     "output_type": "stream",
     "text": [
      "[232 143 840 924]\n",
      "[214 145 811 834]\n",
      "[210 179 854 911]\n",
      "[193 113 795 842]\n"
     ]
    },
    {
     "name": "stderr",
     "output_type": "stream",
     "text": [
      "preprocessing: 1053it [00:45, 23.03it/s]"
     ]
    },
    {
     "name": "stdout",
     "output_type": "stream",
     "text": [
      "[274 152 866 892]\n",
      "[238 169 825 786]\n",
      "[215 163 905 879]\n",
      "[183 205 813 945]\n"
     ]
    },
    {
     "name": "stderr",
     "output_type": "stream",
     "text": [
      "\r",
      "preprocessing: 1056it [00:45, 22.98it/s]"
     ]
    },
    {
     "name": "stdout",
     "output_type": "stream",
     "text": [
      "[171 182 762 920]\n",
      "[291 122 969 846]\n",
      "[187 124 811 889]\n",
      "[248 149 884 907]\n",
      "[263  46 886 764]\n"
     ]
    },
    {
     "name": "stderr",
     "output_type": "stream",
     "text": [
      "preprocessing: 1062it [00:45, 23.31it/s]"
     ]
    },
    {
     "name": "stdout",
     "output_type": "stream",
     "text": [
      "[243 163 858 896]\n",
      "[261 177 853 787]\n",
      "[221 163 776 923]\n",
      "[159 160 754 866]\n",
      "[136 153 764 769]\n"
     ]
    },
    {
     "name": "stderr",
     "output_type": "stream",
     "text": [
      "preprocessing: 1068it [00:46, 23.48it/s]"
     ]
    },
    {
     "name": "stdout",
     "output_type": "stream",
     "text": [
      "[178 170 760 844]\n",
      "[202 181 844 899]\n",
      "[205  90 788 845]\n",
      "[295 231 806 937]\n",
      "[212 174 849 905]\n"
     ]
    },
    {
     "name": "stderr",
     "output_type": "stream",
     "text": [
      "\r",
      "preprocessing: 1071it [00:46, 23.26it/s]"
     ]
    },
    {
     "name": "stdout",
     "output_type": "stream",
     "text": [
      "[196 179 774 848]\n",
      "[256 204 852 790]\n",
      "[303 217 877 820]\n",
      "[231 170 753 765]\n",
      "[262 118 880 855]\n"
     ]
    },
    {
     "name": "stderr",
     "output_type": "stream",
     "text": [
      "preprocessing: 1077it [00:46, 23.64it/s]"
     ]
    },
    {
     "name": "stdout",
     "output_type": "stream",
     "text": [
      "[233 156 821 839]\n",
      "[148 170 751 905]\n",
      "[220 153 937 855]\n",
      "[169 198 745 879]\n",
      "[292 167 958 839]\n"
     ]
    },
    {
     "name": "stderr",
     "output_type": "stream",
     "text": [
      "preprocessing: 1083it [00:46, 23.90it/s]"
     ]
    },
    {
     "name": "stdout",
     "output_type": "stream",
     "text": [
      "[289 148 825 804]\n",
      "[272 179 833 777]\n",
      "[223 180 819 848]\n",
      "[287 199 862 811]\n",
      "[252 141 914 828]\n"
     ]
    },
    {
     "name": "stderr",
     "output_type": "stream",
     "text": [
      "\r",
      "preprocessing: 1086it [00:46, 23.55it/s]"
     ]
    },
    {
     "name": "stdout",
     "output_type": "stream",
     "text": [
      "[229 135 880 915]\n",
      "[304 176 890 943]\n",
      "[152 168 750 875]\n",
      "[238  81 929 900]\n",
      "[158 128 822 887]\n"
     ]
    },
    {
     "name": "stderr",
     "output_type": "stream",
     "text": [
      "preprocessing: 1092it [00:47, 23.01it/s]"
     ]
    },
    {
     "name": "stdout",
     "output_type": "stream",
     "text": [
      "[267 185 874 871]\n",
      "[151 175 738 832]\n",
      "[345 168 832 923]\n",
      "[135  59 751 793]\n",
      "[ 52  66 707 930]\n",
      "[122 139 738 798]\n"
     ]
    },
    {
     "name": "stderr",
     "output_type": "stream",
     "text": [
      "preprocessing: 1098it [00:47, 22.87it/s]"
     ]
    },
    {
     "name": "stdout",
     "output_type": "stream",
     "text": [
      "[357 249 921 802]\n",
      "[203 147 826 904]\n",
      "[221 105 863 836]\n",
      "[282 182 843 885]\n",
      "[217 147 844 943]\n"
     ]
    },
    {
     "name": "stderr",
     "output_type": "stream",
     "text": [
      "\r",
      "preprocessing: 1101it [00:47, 19.92it/s]"
     ]
    },
    {
     "name": "stdout",
     "output_type": "stream",
     "text": [
      "[287 208 919 840]\n",
      "[141 175 743 825]\n",
      "[200 116 935 812]\n"
     ]
    },
    {
     "name": "stderr",
     "output_type": "stream",
     "text": [
      "preprocessing: 1107it [00:47, 21.42it/s]"
     ]
    },
    {
     "name": "stdout",
     "output_type": "stream",
     "text": [
      "[223 138 871 786]\n",
      "[119 156 779 782]\n",
      "[152 157 769 852]\n",
      "[187 121 839 826]\n",
      "[319 224 951 860]\n"
     ]
    },
    {
     "name": "stderr",
     "output_type": "stream",
     "text": [
      "preprocessing: 1113it [00:48, 23.51it/s]"
     ]
    },
    {
     "name": "stdout",
     "output_type": "stream",
     "text": [
      "[271 223 796 782]\n",
      "[287 216 854 968]\n",
      "[237 183 785 835]\n",
      "[212 154 814 824]\n",
      "[300 215 907 814]\n",
      "[272 196 792 834]\n"
     ]
    },
    {
     "name": "stderr",
     "output_type": "stream",
     "text": [
      "preprocessing: 1119it [00:48, 23.66it/s]"
     ]
    },
    {
     "name": "stdout",
     "output_type": "stream",
     "text": [
      "[307 208 903 815]\n",
      "[136 205 732 825]\n",
      "[ 91 107 732 893]\n",
      "[220 117 914 944]\n",
      "[273 192 809 858]\n"
     ]
    },
    {
     "name": "stderr",
     "output_type": "stream",
     "text": [
      "\r",
      "preprocessing: 1122it [00:48, 23.51it/s]"
     ]
    },
    {
     "name": "stdout",
     "output_type": "stream",
     "text": [
      "[187 140 804 808]\n",
      "[198 172 811 914]\n",
      "[242 172 775 735]\n",
      "[358 181 973 829]\n",
      "[172 122 807 898]\n",
      "[142 119 786 953]\n"
     ]
    },
    {
     "name": "stderr",
     "output_type": "stream",
     "text": [
      "preprocessing: 1128it [00:48, 23.96it/s]"
     ]
    },
    {
     "name": "stdout",
     "output_type": "stream",
     "text": [
      "[101 142 801 912]\n",
      "[175 183 762 818]\n",
      "[212 223 759 908]\n",
      "[178 152 783 916]\n",
      "[242 170 839 795]\n"
     ]
    },
    {
     "name": "stderr",
     "output_type": "stream",
     "text": [
      "preprocessing: 1134it [00:49, 23.75it/s]"
     ]
    },
    {
     "name": "stdout",
     "output_type": "stream",
     "text": [
      "[225 164 874 843]\n",
      "[213 108 911 885]\n",
      "[ 96 183 735 853]\n",
      "[272 176 826 893]\n",
      "[227 215 779 938]\n"
     ]
    },
    {
     "name": "stderr",
     "output_type": "stream",
     "text": [
      "preprocessing: 1140it [00:49, 24.25it/s]"
     ]
    },
    {
     "name": "stdout",
     "output_type": "stream",
     "text": [
      "[223 209 818 955]\n",
      "[263 220 808 899]\n",
      "[220 239 820 790]\n",
      "[165 199 793 879]\n",
      "[225 204 830 948]\n",
      "[295 180 883 803]\n"
     ]
    },
    {
     "name": "stderr",
     "output_type": "stream",
     "text": [
      "preprocessing: 1146it [00:49, 23.52it/s]"
     ]
    },
    {
     "name": "stdout",
     "output_type": "stream",
     "text": [
      "[275 194 871 809]\n",
      "[140 232 756 965]\n",
      "[249 182 924 866]\n",
      "[200 143 807 923]\n",
      "[215 136 869 913]\n"
     ]
    },
    {
     "name": "stderr",
     "output_type": "stream",
     "text": [
      "\r",
      "preprocessing: 1149it [00:49, 23.56it/s]"
     ]
    },
    {
     "name": "stdout",
     "output_type": "stream",
     "text": [
      "[209 153 788 829]\n",
      "[276 199 878 808]\n",
      "[252 134 889 799]\n",
      "[218 172 836 911]\n",
      "[207  77 898 832]\n"
     ]
    },
    {
     "name": "stderr",
     "output_type": "stream",
     "text": [
      "preprocessing: 1155it [00:49, 23.08it/s]"
     ]
    },
    {
     "name": "stdout",
     "output_type": "stream",
     "text": [
      "[ 79 110 730 883]\n",
      "[229 138 868 916]\n",
      "[226 154 839 944]\n",
      "[323 169 909 803]\n",
      "[309 150 879 813]\n"
     ]
    },
    {
     "name": "stderr",
     "output_type": "stream",
     "text": [
      "preprocessing: 1161it [00:50, 23.34it/s]"
     ]
    },
    {
     "name": "stdout",
     "output_type": "stream",
     "text": [
      "[153 136 747 847]\n",
      "[169 178 780 917]\n",
      "[130 150 718 898]\n",
      "[220 136 782 874]\n",
      "[184 164 738 869]\n"
     ]
    },
    {
     "name": "stderr",
     "output_type": "stream",
     "text": [
      "\r",
      "preprocessing: 1164it [00:50, 23.27it/s]"
     ]
    },
    {
     "name": "stdout",
     "output_type": "stream",
     "text": [
      "[276 168 868 808]\n",
      "[133 130 780 826]\n",
      "[208 140 806 847]\n",
      "[293 204 850 918]\n",
      "[215 204 750 925]\n"
     ]
    },
    {
     "name": "stderr",
     "output_type": "stream",
     "text": [
      "preprocessing: 1170it [00:50, 22.83it/s]"
     ]
    },
    {
     "name": "stdout",
     "output_type": "stream",
     "text": [
      "[270 213 826 942]\n",
      "[245 192 791 806]\n",
      "[261 174 833 802]\n",
      "[110 134 769 863]\n",
      "[234 194 828 903]\n"
     ]
    },
    {
     "name": "stderr",
     "output_type": "stream",
     "text": [
      "preprocessing: 1176it [00:50, 23.18it/s]"
     ]
    },
    {
     "name": "stdout",
     "output_type": "stream",
     "text": [
      "[184 177 771 906]\n",
      "[167 168 851 910]\n",
      "[285 228 841 798]\n",
      "[289  91 917 837]\n",
      "[241 182 981 922]\n"
     ]
    },
    {
     "name": "stderr",
     "output_type": "stream",
     "text": [
      "\r",
      "preprocessing: 1179it [00:50, 23.78it/s]"
     ]
    },
    {
     "name": "stdout",
     "output_type": "stream",
     "text": [
      "[161 170 764 816]\n",
      "[164 131 742 818]\n",
      "[219 155 811 822]\n",
      "[121 167 751 945]\n",
      "[146 155 751 827]\n",
      "[163 151 800 861]\n"
     ]
    },
    {
     "name": "stderr",
     "output_type": "stream",
     "text": [
      "preprocessing: 1185it [00:51, 23.23it/s]"
     ]
    },
    {
     "name": "stdout",
     "output_type": "stream",
     "text": [
      "[330 117 978 842]\n",
      "[253 216 773 882]\n",
      "[259 206 809 936]\n",
      "[191 156 810 886]\n",
      "[252 209 826 923]\n",
      "[ 97 136 739 888]\n"
     ]
    },
    {
     "name": "stderr",
     "output_type": "stream",
     "text": [
      "preprocessing: 1191it [00:51, 23.28it/s]"
     ]
    },
    {
     "name": "stdout",
     "output_type": "stream",
     "text": [
      "[189 191 822 907]\n",
      "[217 132 877 935]\n",
      "[273 126 898 823]\n",
      "[225 137 893 785]\n",
      "[202  97 834 784]\n"
     ]
    },
    {
     "name": "stderr",
     "output_type": "stream",
     "text": [
      "preprocessing: 1197it [00:51, 23.06it/s]"
     ]
    },
    {
     "name": "stdout",
     "output_type": "stream",
     "text": [
      "[254 189 834 855]\n",
      "[139 162 766 935]\n",
      "[231 150 813 889]\n",
      "[269 186 831 917]\n",
      "[270 144 939 896]\n"
     ]
    },
    {
     "name": "stderr",
     "output_type": "stream",
     "text": [
      "\r",
      "preprocessing: 1200it [00:51, 21.08it/s]"
     ]
    },
    {
     "name": "stdout",
     "output_type": "stream",
     "text": [
      "[189 111 860 901]\n",
      "[298 154 872 850]\n",
      "[231 212 799 811]\n"
     ]
    },
    {
     "name": "stderr",
     "output_type": "stream",
     "text": [
      "\r",
      "preprocessing: 1203it [00:52, 19.61it/s]"
     ]
    },
    {
     "name": "stdout",
     "output_type": "stream",
     "text": [
      "[238 232 848 931]\n",
      "[167 162 780 756]\n",
      "[181 150 811 829]\n",
      "[193 134 837 843]\n",
      "[216 188 847 858]\n"
     ]
    },
    {
     "name": "stderr",
     "output_type": "stream",
     "text": [
      "preprocessing: 1209it [00:52, 21.73it/s]"
     ]
    },
    {
     "name": "stdout",
     "output_type": "stream",
     "text": [
      "[104 152 753 889]\n",
      "[196 151 807 938]\n",
      "[282 124 967 872]\n",
      "[ 94 156 758 867]\n",
      "[263 198 830 790]\n",
      "[198 157 785 851]\n"
     ]
    },
    {
     "name": "stderr",
     "output_type": "stream",
     "text": [
      "preprocessing: 1215it [00:52, 23.18it/s]"
     ]
    },
    {
     "name": "stdout",
     "output_type": "stream",
     "text": [
      "[291 159 830 858]\n",
      "[359 193 939 787]\n",
      "[283 191 842 813]\n",
      "[210 104 866 926]\n",
      "[265 208 825 903]\n"
     ]
    },
    {
     "name": "stderr",
     "output_type": "stream",
     "text": [
      "preprocessing: 1221it [00:52, 23.12it/s]"
     ]
    },
    {
     "name": "stdout",
     "output_type": "stream",
     "text": [
      "[234 165 863 902]\n",
      "[ 97 128 745 918]\n",
      "[174 134 820 973]\n",
      "[120 191 690 911]\n",
      "[  1   0 313 315]\n"
     ]
    },
    {
     "name": "stderr",
     "output_type": "stream",
     "text": [
      "preprocessing: 1227it [00:53, 23.04it/s]"
     ]
    },
    {
     "name": "stdout",
     "output_type": "stream",
     "text": [
      "[273 132 915 818]\n",
      "[234 188 815 955]\n",
      "[104 128 738 899]\n",
      "[175 128 761 928]\n",
      "[109 114 763 887]\n"
     ]
    },
    {
     "name": "stderr",
     "output_type": "stream",
     "text": [
      "\r",
      "preprocessing: 1230it [00:53, 23.08it/s]"
     ]
    },
    {
     "name": "stdout",
     "output_type": "stream",
     "text": [
      "[336 218 843 760]\n",
      "[178 155 851 909]\n",
      "[280 196 817 800]\n",
      "[236 170 804 820]\n",
      "[319 176 938 840]\n",
      "[225 163 816 842]\n"
     ]
    },
    {
     "name": "stderr",
     "output_type": "stream",
     "text": [
      "preprocessing: 1236it [00:53, 23.42it/s]"
     ]
    },
    {
     "name": "stdout",
     "output_type": "stream",
     "text": [
      "[195 156 778 862]\n",
      "[218 169 818 968]\n",
      "[279 106 923 945]\n",
      "[262 159 848 910]\n",
      "[166 192 755 849]\n"
     ]
    },
    {
     "name": "stderr",
     "output_type": "stream",
     "text": [
      "preprocessing: 1242it [00:53, 23.67it/s]"
     ]
    },
    {
     "name": "stdout",
     "output_type": "stream",
     "text": [
      "[218 161 865 908]\n",
      "[239 128 924 909]\n",
      "[235  38 868 845]\n",
      "[157 176 747 818]\n",
      "[208 190 776 806]\n"
     ]
    },
    {
     "name": "stderr",
     "output_type": "stream",
     "text": [
      "preprocessing: 1248it [00:53, 24.28it/s]"
     ]
    },
    {
     "name": "stdout",
     "output_type": "stream",
     "text": [
      "[211 191 862 972]\n",
      "[188 176 839 904]\n",
      "[219 155 913 940]\n",
      "[246 205 768 741]\n",
      "[289 144 853 800]\n",
      "[223 180 821 866]\n"
     ]
    },
    {
     "name": "stderr",
     "output_type": "stream",
     "text": [
      "preprocessing: 1254it [00:54, 23.62it/s]"
     ]
    },
    {
     "name": "stdout",
     "output_type": "stream",
     "text": [
      "[317 133 914 821]\n",
      "[332 191 930 880]\n",
      "[258 129 988 819]\n",
      "[169 170 825 958]\n",
      "[205 187 781 901]\n"
     ]
    },
    {
     "name": "stderr",
     "output_type": "stream",
     "text": [
      "\r",
      "preprocessing: 1257it [00:54, 23.85it/s]"
     ]
    },
    {
     "name": "stdout",
     "output_type": "stream",
     "text": [
      "[112 101 747 920]\n",
      "[227 204 805 959]\n",
      "[144 170 809 966]\n",
      "[191 224 745 826]\n",
      "[183 157 785 948]\n"
     ]
    },
    {
     "name": "stderr",
     "output_type": "stream",
     "text": [
      "preprocessing: 1263it [00:54, 23.01it/s]"
     ]
    },
    {
     "name": "stdout",
     "output_type": "stream",
     "text": [
      "[200 144 804 932]\n",
      "[221 160 838 827]\n",
      "[281 137 760 855]\n",
      "[258 198 793 948]\n",
      "[253 163 840 823]\n"
     ]
    },
    {
     "name": "stderr",
     "output_type": "stream",
     "text": [
      "preprocessing: 1269it [00:54, 22.92it/s]"
     ]
    },
    {
     "name": "stdout",
     "output_type": "stream",
     "text": [
      "[173 123 788 823]\n",
      "[217 162 845 935]\n",
      "[267 208 794 818]\n",
      "[309 170 924 865]\n",
      "[235 203 817 862]\n"
     ]
    },
    {
     "name": "stderr",
     "output_type": "stream",
     "text": [
      "\r",
      "preprocessing: 1272it [00:55, 23.13it/s]"
     ]
    },
    {
     "name": "stdout",
     "output_type": "stream",
     "text": [
      "[167 174 864 897]\n",
      "[322 188 890 821]\n",
      "[152 141 748 884]\n",
      "[295 146 911 811]\n",
      "[135 185 780 872]\n"
     ]
    },
    {
     "name": "stderr",
     "output_type": "stream",
     "text": [
      "preprocessing: 1278it [00:55, 23.19it/s]"
     ]
    },
    {
     "name": "stdout",
     "output_type": "stream",
     "text": [
      "[234 162 896 847]\n",
      "[144 157 787 944]\n",
      "[278 119 919 865]\n",
      "[253 107 967 843]\n",
      "[224 166 864 846]\n"
     ]
    },
    {
     "name": "stderr",
     "output_type": "stream",
     "text": [
      "preprocessing: 1284it [00:55, 23.25it/s]"
     ]
    },
    {
     "name": "stdout",
     "output_type": "stream",
     "text": [
      "[271 180 827 815]\n",
      "[312 182 875 851]\n",
      "[280 146 916 933]\n",
      "[296 225 823 884]\n",
      "[206 139 817 919]\n"
     ]
    },
    {
     "name": "stderr",
     "output_type": "stream",
     "text": [
      "\r",
      "preprocessing: 1287it [00:55, 23.32it/s]"
     ]
    },
    {
     "name": "stdout",
     "output_type": "stream",
     "text": [
      "[193 195 770 771]\n",
      "[154 108 817 906]\n",
      "[129 171 751 921]\n",
      "[168 154 853 970]\n",
      "[152 156 809 811]\n"
     ]
    },
    {
     "name": "stderr",
     "output_type": "stream",
     "text": [
      "preprocessing: 1293it [00:55, 23.31it/s]"
     ]
    },
    {
     "name": "stdout",
     "output_type": "stream",
     "text": [
      "[344 198 954 888]\n",
      "[278 194 948 874]\n",
      "[230 190 763 821]\n",
      "[218 163 795 779]\n",
      "[ 92 198 764 956]\n"
     ]
    },
    {
     "name": "stderr",
     "output_type": "stream",
     "text": [
      "preprocessing: 1299it [00:56, 23.29it/s]"
     ]
    },
    {
     "name": "stdout",
     "output_type": "stream",
     "text": [
      "[250 169 882 957]\n",
      "[144 165 693 814]\n",
      "[236 139 823 823]\n",
      "[238 135 808 864]\n",
      "[214 166 792 882]\n"
     ]
    },
    {
     "name": "stderr",
     "output_type": "stream",
     "text": [
      "\r",
      "preprocessing: 1302it [00:56, 19.38it/s]"
     ]
    },
    {
     "name": "stdout",
     "output_type": "stream",
     "text": [
      "[159 134 854 866]\n",
      "[290 116 972 876]\n",
      "[126 170 749 889]\n"
     ]
    },
    {
     "name": "stderr",
     "output_type": "stream",
     "text": [
      "\r",
      "preprocessing: 1305it [00:56, 19.83it/s]"
     ]
    },
    {
     "name": "stdout",
     "output_type": "stream",
     "text": [
      "[274 187 799 809]\n",
      "[ 79 118 720 865]\n",
      "[278 126 932 872]\n",
      "[199 204 769 844]\n",
      "[197 132 819 950]\n",
      "[196 162 834 841]\n"
     ]
    },
    {
     "name": "stderr",
     "output_type": "stream",
     "text": [
      "preprocessing: 1311it [00:56, 22.56it/s]"
     ]
    },
    {
     "name": "stdout",
     "output_type": "stream",
     "text": [
      "[201 150 817 905]\n",
      "[157 169 819 797]\n",
      "[166 190 783 933]\n",
      "[ 84 130 723 878]\n",
      "[240 125 886 877]\n",
      "[121 152 748 893]\n"
     ]
    },
    {
     "name": "stderr",
     "output_type": "stream",
     "text": [
      "preprocessing: 1317it [00:57, 24.02it/s]"
     ]
    },
    {
     "name": "stdout",
     "output_type": "stream",
     "text": [
      "[229 178 906 930]\n",
      "[273 185 868 822]\n",
      "[247 147 797 859]\n",
      "[237 134 828 945]\n",
      "[187 164 760 872]\n"
     ]
    },
    {
     "name": "stderr",
     "output_type": "stream",
     "text": [
      "preprocessing: 1323it [00:57, 23.14it/s]"
     ]
    },
    {
     "name": "stdout",
     "output_type": "stream",
     "text": [
      "[159 109 785 932]\n",
      "[205 225 754 931]\n",
      "[142 142 790 969]\n",
      "[133 162 727 864]\n",
      "[273 227 874 774]\n"
     ]
    },
    {
     "name": "stderr",
     "output_type": "stream",
     "text": [
      "preprocessing: 1329it [00:57, 23.14it/s]"
     ]
    },
    {
     "name": "stdout",
     "output_type": "stream",
     "text": [
      "[243 135 872 891]\n",
      "[208 182 786 941]\n",
      "[314 163 921 818]\n",
      "[259 163 885 841]\n",
      "[220 156 920 967]\n"
     ]
    },
    {
     "name": "stderr",
     "output_type": "stream",
     "text": [
      "\r",
      "preprocessing: 1332it [00:57, 23.13it/s]"
     ]
    },
    {
     "name": "stdout",
     "output_type": "stream",
     "text": [
      "[208 157 840 902]\n",
      "[174 170 790 931]\n",
      "[191 173 921 806]\n",
      "[ 91 117 759 895]\n",
      "[238 144 825 909]\n"
     ]
    },
    {
     "name": "stderr",
     "output_type": "stream",
     "text": [
      "preprocessing: 1338it [00:57, 23.10it/s]"
     ]
    },
    {
     "name": "stdout",
     "output_type": "stream",
     "text": [
      "[213 139 851 864]\n",
      "[304 195 867 887]\n",
      "[256 140 840 924]\n",
      "[211 180 773 786]\n"
     ]
    },
    {
     "name": "stderr",
     "output_type": "stream",
     "text": [
      "preprocessing: 1344it [00:58, 23.08it/s]"
     ]
    },
    {
     "name": "stdout",
     "output_type": "stream",
     "text": [
      "[295 282 847 758]\n",
      "[214 156 786 940]\n",
      "[328 205 867 864]\n",
      "[166 171 789 880]\n",
      "[294 116 954 893]\n"
     ]
    },
    {
     "name": "stderr",
     "output_type": "stream",
     "text": [
      "\r",
      "preprocessing: 1347it [00:58, 22.56it/s]"
     ]
    },
    {
     "name": "stdout",
     "output_type": "stream",
     "text": [
      "[169 157 787 941]\n",
      "[172 132 822 807]\n",
      "[140 181 754 818]\n",
      "[250 144 899 881]\n",
      "[294 203 894 893]\n"
     ]
    },
    {
     "name": "stderr",
     "output_type": "stream",
     "text": [
      "preprocessing: 1353it [00:58, 23.12it/s]"
     ]
    },
    {
     "name": "stdout",
     "output_type": "stream",
     "text": [
      "[112 119 715 890]\n",
      "[205 151 845 796]\n",
      "[163 183 802 914]\n",
      "[239 187 841 857]\n",
      "[312 146 869 837]\n"
     ]
    },
    {
     "name": "stderr",
     "output_type": "stream",
     "text": [
      "preprocessing: 1359it [00:58, 23.27it/s]"
     ]
    },
    {
     "name": "stdout",
     "output_type": "stream",
     "text": [
      "[136 163 749 825]\n",
      "[181 204 747 767]\n",
      "[291 189 894 894]\n",
      "[144  84 745 883]\n",
      "[331 219 884 833]\n"
     ]
    },
    {
     "name": "stderr",
     "output_type": "stream",
     "text": [
      "\r",
      "preprocessing: 1362it [00:58, 23.16it/s]"
     ]
    },
    {
     "name": "stdout",
     "output_type": "stream",
     "text": [
      "[187 199 699 855]\n",
      "[246 164 878 830]\n",
      "[281 173 851 795]\n",
      "[181 158 773 815]\n",
      "[264 205 786 876]\n"
     ]
    },
    {
     "name": "stderr",
     "output_type": "stream",
     "text": [
      "preprocessing: 1368it [00:59, 22.69it/s]"
     ]
    },
    {
     "name": "stdout",
     "output_type": "stream",
     "text": [
      "[331 120 935 864]\n",
      "[191 157 818 958]\n",
      "[266 204 835 786]\n",
      "[ 70 115 767 889]\n",
      "[350 186 989 979]\n"
     ]
    },
    {
     "name": "stderr",
     "output_type": "stream",
     "text": [
      "preprocessing: 1374it [00:59, 23.06it/s]"
     ]
    },
    {
     "name": "stdout",
     "output_type": "stream",
     "text": [
      "[200 138 818 835]\n",
      "[233 180 854 841]\n",
      "[142 130 812 871]\n",
      "[ 56 127 766 859]\n",
      "[322 221 849 818]\n"
     ]
    },
    {
     "name": "stderr",
     "output_type": "stream",
     "text": [
      "\r",
      "preprocessing: 1377it [00:59, 23.06it/s]"
     ]
    },
    {
     "name": "stdout",
     "output_type": "stream",
     "text": [
      "[ 56 126 734 813]\n",
      "[154 158 774 848]\n",
      "[131 165 764 856]\n",
      "[336 181 970 958]\n",
      "[280 300 903 774]\n"
     ]
    },
    {
     "name": "stderr",
     "output_type": "stream",
     "text": [
      "preprocessing: 1383it [00:59, 23.29it/s]"
     ]
    },
    {
     "name": "stdout",
     "output_type": "stream",
     "text": [
      "[289 194 844 915]\n",
      "[212 130 950 829]\n",
      "[218  89 935 847]\n",
      "[215 150 870 922]\n",
      "[ 90 138 718 876]\n",
      "[130 154 721 920]\n"
     ]
    },
    {
     "name": "stderr",
     "output_type": "stream",
     "text": [
      "preprocessing: 1389it [01:00, 22.86it/s]"
     ]
    },
    {
     "name": "stdout",
     "output_type": "stream",
     "text": [
      "[197 150 824 843]\n",
      "[ 62 117 740 813]\n",
      "[199 137 785 902]\n",
      "[121  90 762 853]\n",
      "[283 189 766 867]\n"
     ]
    },
    {
     "name": "stderr",
     "output_type": "stream",
     "text": [
      "preprocessing: 1395it [01:00, 22.88it/s]"
     ]
    },
    {
     "name": "stdout",
     "output_type": "stream",
     "text": [
      "[111 146 710 826]\n",
      "[250 215 765 854]\n",
      "[201 160 833 901]\n",
      "[122 139 744 870]\n",
      "[263 167 908 870]\n"
     ]
    },
    {
     "name": "stderr",
     "output_type": "stream",
     "text": [
      "\r",
      "preprocessing: 1398it [01:00, 23.02it/s]"
     ]
    },
    {
     "name": "stdout",
     "output_type": "stream",
     "text": [
      "[216 194 802 796]\n",
      "[162 111 852 861]\n",
      "[121 114 841 854]\n",
      "[215 214 772 896]\n",
      "[209 105 822 906]\n"
     ]
    },
    {
     "name": "stderr",
     "output_type": "stream",
     "text": [
      "preprocessing: 1404it [01:00, 20.02it/s]"
     ]
    },
    {
     "name": "stdout",
     "output_type": "stream",
     "text": [
      "[241 187 802 767]\n",
      "[241 151 899 826]\n",
      "[220 185 792 935]\n",
      "[309 185 853 825]\n",
      "[104 148 753 798]\n"
     ]
    },
    {
     "name": "stderr",
     "output_type": "stream",
     "text": [
      "preprocessing: 1410it [01:01, 22.41it/s]"
     ]
    },
    {
     "name": "stdout",
     "output_type": "stream",
     "text": [
      "[186 137 740 817]\n",
      "[216 184 809 924]\n",
      "[179 292 748 794]\n",
      "[143 158 766 847]\n",
      "[128 141 748 864]\n",
      "[331 190 921 811]\n"
     ]
    },
    {
     "name": "stderr",
     "output_type": "stream",
     "text": [
      "preprocessing: 1416it [01:01, 23.66it/s]"
     ]
    },
    {
     "name": "stdout",
     "output_type": "stream",
     "text": [
      "[237 153 828 941]\n",
      "[191 176 788 924]\n",
      "[304 162 869 838]\n",
      "[201 126 840 891]\n",
      "[130 192 789 911]\n"
     ]
    },
    {
     "name": "stderr",
     "output_type": "stream",
     "text": [
      "\r",
      "preprocessing: 1419it [01:01, 20.60it/s]"
     ]
    },
    {
     "name": "stdout",
     "output_type": "stream",
     "text": [
      "[249 211 894 839]\n",
      "[176 161 785 874]\n",
      "[ 95 139 754 899]\n",
      "[212 278 796 790]\n"
     ]
    },
    {
     "name": "stderr",
     "output_type": "stream",
     "text": [
      "preprocessing: 1425it [01:01, 21.91it/s]"
     ]
    },
    {
     "name": "stdout",
     "output_type": "stream",
     "text": [
      "[227 158 804 904]\n",
      "[318 187 852 796]\n",
      "[235 209 780 813]\n",
      "[278 137 929 900]\n",
      "[156 195 803 863]\n"
     ]
    },
    {
     "name": "stderr",
     "output_type": "stream",
     "text": [
      "preprocessing: 1431it [01:02, 22.64it/s]"
     ]
    },
    {
     "name": "stdout",
     "output_type": "stream",
     "text": [
      "[232 177 844 908]\n",
      "[134 125 750 859]\n",
      "[222 138 897 887]\n",
      "[145 128 757 885]\n",
      "[219 129 909 948]\n"
     ]
    },
    {
     "name": "stderr",
     "output_type": "stream",
     "text": [
      "\r",
      "preprocessing: 1434it [01:02, 21.76it/s]"
     ]
    },
    {
     "name": "stdout",
     "output_type": "stream",
     "text": [
      "[186 131 746 870]\n",
      "[259 154 857 790]\n",
      "[319 186 911 811]\n",
      "[260 177 787 854]\n",
      "[205 178 771 922]\n"
     ]
    },
    {
     "name": "stderr",
     "output_type": "stream",
     "text": [
      "preprocessing: 1440it [01:02, 21.05it/s]"
     ]
    },
    {
     "name": "stdout",
     "output_type": "stream",
     "text": [
      "[309 165 953 890]\n",
      "[233 172 822 964]\n",
      "[225 184 852 936]\n",
      "[257 226 842 776]\n",
      "[200 189 786 900]\n"
     ]
    },
    {
     "name": "stderr",
     "output_type": "stream",
     "text": [
      "\r",
      "preprocessing: 1443it [01:02, 21.38it/s]"
     ]
    },
    {
     "name": "stdout",
     "output_type": "stream",
     "text": [
      "[207 132 944 907]\n",
      "[205 145 791 962]\n",
      "[144 143 823 926]\n",
      "[208 216 791 937]\n",
      "[ 48 170 784 903]\n"
     ]
    },
    {
     "name": "stderr",
     "output_type": "stream",
     "text": [
      "preprocessing: 1449it [01:02, 22.17it/s]"
     ]
    },
    {
     "name": "stdout",
     "output_type": "stream",
     "text": [
      "[176 143 753 809]\n",
      "[137 139 805 900]\n",
      "[208 172 873 954]\n",
      "[138 174 823 910]\n",
      "[123  95 743 910]\n"
     ]
    },
    {
     "name": "stderr",
     "output_type": "stream",
     "text": [
      "preprocessing: 1455it [01:03, 21.59it/s]"
     ]
    },
    {
     "name": "stdout",
     "output_type": "stream",
     "text": [
      "[237 138 830 870]\n",
      "[208 211 770 800]\n",
      "[155 199 775 856]\n",
      "[133 220 663 917]\n",
      "[269 178 835 810]\n"
     ]
    },
    {
     "name": "stderr",
     "output_type": "stream",
     "text": [
      "\r",
      "preprocessing: 1458it [01:03, 21.54it/s]"
     ]
    },
    {
     "name": "stdout",
     "output_type": "stream",
     "text": [
      "[204 107 807 847]\n",
      "[181 141 810 955]\n",
      "[231 202 775 923]\n",
      "[214 172 776 901]\n",
      "[198 148 814 814]\n"
     ]
    },
    {
     "name": "stderr",
     "output_type": "stream",
     "text": [
      "preprocessing: 1464it [01:03, 21.73it/s]"
     ]
    },
    {
     "name": "stdout",
     "output_type": "stream",
     "text": [
      "[291 202 776 849]\n",
      "[141 181 785 941]\n",
      "[174 161 749 860]\n",
      "[161 134 822 952]\n"
     ]
    },
    {
     "name": "stderr",
     "output_type": "stream",
     "text": [
      "preprocessing: 1470it [01:03, 21.57it/s]"
     ]
    },
    {
     "name": "stdout",
     "output_type": "stream",
     "text": [
      "[230 193 806 794]\n",
      "[242 175 775 800]\n",
      "[187 198 816 844]\n",
      "[233 178 830 802]\n",
      "[211 151 801 934]\n"
     ]
    },
    {
     "name": "stderr",
     "output_type": "stream",
     "text": [
      "preprocessing: 1476it [01:04, 21.91it/s]"
     ]
    },
    {
     "name": "stdout",
     "output_type": "stream",
     "text": [
      "[244 179 817 861]\n",
      "[291 194 808 824]\n",
      "[274 143 928 854]\n",
      "[212 135 793 864]\n",
      "[  0 192 135 520]\n"
     ]
    },
    {
     "name": "stderr",
     "output_type": "stream",
     "text": [
      "\r",
      "preprocessing: 1479it [01:04, 22.74it/s]"
     ]
    },
    {
     "name": "stdout",
     "output_type": "stream",
     "text": [
      "[174 186 857 815]\n",
      "[225 145 866 866]\n",
      "[243 147 924 876]\n",
      "[131 149 762 869]\n",
      "[340 180 935 833]\n",
      "[160 135 765 842]\n"
     ]
    },
    {
     "name": "stderr",
     "output_type": "stream",
     "text": [
      "preprocessing: 1485it [01:04, 23.04it/s]"
     ]
    },
    {
     "name": "stdout",
     "output_type": "stream",
     "text": [
      "[142 171 757 886]\n",
      "[301 185 871 897]\n",
      "[115  94 718 861]\n",
      "[221 203 783 799]\n",
      "[256 208 850 903]\n"
     ]
    },
    {
     "name": "stderr",
     "output_type": "stream",
     "text": [
      "preprocessing: 1491it [01:04, 23.22it/s]"
     ]
    },
    {
     "name": "stdout",
     "output_type": "stream",
     "text": [
      "[338 192 859 782]\n",
      "[259 144 898 901]\n",
      "[168 155 804 848]\n",
      "[249 157 852 885]\n",
      "[234 174 773 914]\n",
      "[208 196 870 939]\n",
      "[192 169 765 934]\n"
     ]
    },
    {
     "name": "stderr",
     "output_type": "stream",
     "text": [
      "preprocessing: 1497it [01:05, 22.84it/s]"
     ]
    },
    {
     "name": "stdout",
     "output_type": "stream",
     "text": [
      "[176 165 853 827]\n",
      "[277 176 856 829]\n",
      "[289 193 829 800]\n",
      "[297 215 931 831]\n",
      "[164 159 800 864]\n"
     ]
    },
    {
     "name": "stderr",
     "output_type": "stream",
     "text": [
      "\r",
      "preprocessing: 1500it [01:05, 20.42it/s]"
     ]
    },
    {
     "name": "stdout",
     "output_type": "stream",
     "text": [
      "[325 153 830 815]\n",
      "[152 193 758 868]\n"
     ]
    },
    {
     "name": "stderr",
     "output_type": "stream",
     "text": [
      "\r",
      "preprocessing: 1503it [01:05, 17.88it/s]"
     ]
    },
    {
     "name": "stdout",
     "output_type": "stream",
     "text": [
      "[201 162 838 888]\n",
      "[197 121 787 962]\n",
      "[183 125 808 961]\n",
      "[372 189 939 905]\n",
      "[315 152 995 812]\n"
     ]
    },
    {
     "name": "stderr",
     "output_type": "stream",
     "text": [
      "preprocessing: 1509it [01:05, 20.41it/s]"
     ]
    },
    {
     "name": "stdout",
     "output_type": "stream",
     "text": [
      "[328 182 918 883]\n",
      "[262  82 926 804]\n",
      "[278 103 873 919]\n",
      "[ 74  73 758 887]\n",
      "[238 218 774 834]\n",
      "[212 173 840 913]\n"
     ]
    },
    {
     "name": "stderr",
     "output_type": "stream",
     "text": [
      "preprocessing: 1515it [01:05, 22.69it/s]"
     ]
    },
    {
     "name": "stdout",
     "output_type": "stream",
     "text": [
      "[211 172 888 827]\n",
      "[178 170 750 826]\n",
      "[147 157 773 864]\n",
      "[199 135 811 918]\n",
      "[147 177 839 906]\n"
     ]
    },
    {
     "name": "stderr",
     "output_type": "stream",
     "text": [
      "preprocessing: 1521it [01:06, 22.80it/s]"
     ]
    },
    {
     "name": "stdout",
     "output_type": "stream",
     "text": [
      "[288 180 790 889]\n",
      "[297 123 888 791]\n",
      "[162 168 771 807]\n",
      "[290 237 844 758]\n",
      "[288 188 910 796]\n"
     ]
    },
    {
     "name": "stderr",
     "output_type": "stream",
     "text": [
      "\r",
      "preprocessing: 1524it [01:06, 22.38it/s]"
     ]
    },
    {
     "name": "stdout",
     "output_type": "stream",
     "text": [
      "[301 160 827 807]\n",
      "[165 182 789 959]\n",
      "[ 62 204 723 881]\n",
      "[247 225 804 865]\n",
      "[197 187 791 829]\n"
     ]
    },
    {
     "name": "stderr",
     "output_type": "stream",
     "text": [
      "preprocessing: 1530it [01:06, 22.20it/s]"
     ]
    },
    {
     "name": "stdout",
     "output_type": "stream",
     "text": [
      "[202 186 821 949]\n",
      "[296  72 932 853]\n",
      "[211 142 831 932]\n",
      "[272 143 813 760]\n",
      "[177 159 765 868]\n"
     ]
    },
    {
     "name": "stderr",
     "output_type": "stream",
     "text": [
      "preprocessing: 1536it [01:06, 22.48it/s]"
     ]
    },
    {
     "name": "stdout",
     "output_type": "stream",
     "text": [
      "[147 168 753 957]\n",
      "[188 143 764 880]\n",
      "[210 236 786 812]\n",
      "[127 145 799 952]\n",
      "[130 136 797 847]\n"
     ]
    },
    {
     "name": "stderr",
     "output_type": "stream",
     "text": [
      "\r",
      "preprocessing: 1539it [01:07, 22.65it/s]"
     ]
    },
    {
     "name": "stdout",
     "output_type": "stream",
     "text": [
      "[306 197 907 887]\n",
      "[160 166 861 886]\n",
      "[299 164 931 823]\n",
      "[131 183 741 834]\n",
      "[283 207 838 785]\n"
     ]
    },
    {
     "name": "stderr",
     "output_type": "stream",
     "text": [
      "preprocessing: 1548it [01:07, 23.19it/s]"
     ]
    },
    {
     "name": "stdout",
     "output_type": "stream",
     "text": [
      "[262 185 827 906]\n",
      "[334 195 923 836]\n",
      "[254 204 797 857]\n",
      "[200 166 753 888]\n",
      "[214 166 806 963]\n"
     ]
    },
    {
     "name": "stderr",
     "output_type": "stream",
     "text": [
      "\r",
      "preprocessing: 1551it [01:07, 23.72it/s]"
     ]
    },
    {
     "name": "stdout",
     "output_type": "stream",
     "text": [
      "[ 99 181 758 941]\n",
      "[110 114 783 790]\n",
      "[216 164 771 836]\n",
      "[185 161 811 922]\n",
      "[152 168 752 906]\n",
      "[294 282 872 777]\n"
     ]
    },
    {
     "name": "stderr",
     "output_type": "stream",
     "text": [
      "preprocessing: 1557it [01:07, 22.01it/s]"
     ]
    },
    {
     "name": "stdout",
     "output_type": "stream",
     "text": [
      "[123 168 765 825]\n",
      "[237 226 802 932]\n",
      "[238 195 815 864]\n",
      "[235 146 872 913]\n",
      "[217 169 807 800]\n"
     ]
    },
    {
     "name": "stderr",
     "output_type": "stream",
     "text": [
      "preprocessing: 1563it [01:08, 21.71it/s]"
     ]
    },
    {
     "name": "stdout",
     "output_type": "stream",
     "text": [
      "[187 164 843 862]\n",
      "[343 161 888 795]\n",
      "[224 152 894 803]\n",
      "[179 135 774 801]\n",
      "[233 146 873 849]\n"
     ]
    },
    {
     "name": "stderr",
     "output_type": "stream",
     "text": [
      "preprocessing: 1569it [01:08, 22.01it/s]"
     ]
    },
    {
     "name": "stdout",
     "output_type": "stream",
     "text": [
      "[217 223 797 835]\n",
      "[286 113 911 919]\n",
      "[203 153 816 925]\n",
      "[230 121 843 945]\n",
      "[229 141 819 883]\n"
     ]
    },
    {
     "name": "stderr",
     "output_type": "stream",
     "text": [
      "\r",
      "preprocessing: 1572it [01:08, 21.83it/s]"
     ]
    },
    {
     "name": "stdout",
     "output_type": "stream",
     "text": [
      "[217 124 740 827]\n",
      "[265 192 829 922]\n",
      "[220 171 807 944]\n",
      "[185 141 821 878]\n",
      "[236 172 899 898]\n"
     ]
    },
    {
     "name": "stderr",
     "output_type": "stream",
     "text": [
      "preprocessing: 1578it [01:08, 22.09it/s]"
     ]
    },
    {
     "name": "stdout",
     "output_type": "stream",
     "text": [
      "[222  89 843 931]\n",
      "[195 227 776 859]\n",
      "[222 146 833 926]\n",
      "[ 84  80 722 813]\n",
      "[259 150 852 803]\n"
     ]
    },
    {
     "name": "stderr",
     "output_type": "stream",
     "text": [
      "preprocessing: 1584it [01:09, 21.96it/s]"
     ]
    },
    {
     "name": "stdout",
     "output_type": "stream",
     "text": [
      "[297 150 827 790]\n",
      "[150 109 831 957]\n",
      "[153 148 774 846]\n",
      "[283 190 795 813]\n",
      "[188 245 773 780]\n"
     ]
    },
    {
     "name": "stderr",
     "output_type": "stream",
     "text": [
      "\r",
      "preprocessing: 1587it [01:09, 22.08it/s]"
     ]
    },
    {
     "name": "stdout",
     "output_type": "stream",
     "text": [
      "[257 189 827 792]\n",
      "[215 167 872 892]\n",
      "[240 172 770 854]\n",
      "[199 102 791 936]\n",
      "[197 199 789 899]\n"
     ]
    },
    {
     "name": "stderr",
     "output_type": "stream",
     "text": [
      "preprocessing: 1593it [01:09, 21.73it/s]"
     ]
    },
    {
     "name": "stdout",
     "output_type": "stream",
     "text": [
      "[287 270 815 836]\n",
      "[215 166 771 768]\n",
      "[276 212 882 826]\n",
      "[ 279   97 1000  916]\n",
      "[236 173 895 887]\n"
     ]
    },
    {
     "name": "stderr",
     "output_type": "stream",
     "text": [
      "\r",
      "preprocessing: 1596it [01:09, 21.35it/s]"
     ]
    },
    {
     "name": "stdout",
     "output_type": "stream",
     "text": [
      "[304 166 928 820]\n",
      "[239 266 793 867]\n",
      "[240 148 910 903]\n",
      "[299 165 907 846]\n",
      "[143 163 817 889]\n"
     ]
    },
    {
     "name": "stderr",
     "output_type": "stream",
     "text": [
      "preprocessing: 1602it [01:09, 19.49it/s]"
     ]
    },
    {
     "name": "stdout",
     "output_type": "stream",
     "text": [
      "[210 114 866 949]\n",
      "[269 160 956 886]\n",
      "[130 129 797 903]\n",
      "[193 153 739 883]\n"
     ]
    },
    {
     "name": "stderr",
     "output_type": "stream",
     "text": [
      "preprocessing: 1608it [01:10, 21.15it/s]"
     ]
    },
    {
     "name": "stdout",
     "output_type": "stream",
     "text": [
      "[195 161 820 882]\n",
      "[140 155 746 925]\n",
      "[205 178 796 897]\n",
      "[355 192 896 758]\n",
      "[306 127 918 957]\n"
     ]
    },
    {
     "name": "stderr",
     "output_type": "stream",
     "text": [
      "\r",
      "preprocessing: 1611it [01:10, 21.69it/s]"
     ]
    },
    {
     "name": "stdout",
     "output_type": "stream",
     "text": [
      "[133 118 731 784]\n",
      "[182 134 799 953]\n",
      "[202 148 796 901]\n",
      "[202 233 750 941]\n"
     ]
    },
    {
     "name": "stderr",
     "output_type": "stream",
     "text": [
      "preprocessing: 1617it [01:10, 21.69it/s]"
     ]
    },
    {
     "name": "stdout",
     "output_type": "stream",
     "text": [
      "[162 164 758 803]\n",
      "[266 271 826 975]\n",
      "[201 132 817 873]\n",
      "[192  72 858 849]\n",
      "[241 217 808 941]\n"
     ]
    },
    {
     "name": "stderr",
     "output_type": "stream",
     "text": [
      "\r",
      "preprocessing: 1620it [01:10, 21.95it/s]"
     ]
    },
    {
     "name": "stdout",
     "output_type": "stream",
     "text": [
      "[243 144 950 861]\n",
      "[236 177 833 930]\n",
      "[ 62 111 700 825]\n",
      "[191 150 831 882]\n",
      "[219  89 888 913]\n"
     ]
    },
    {
     "name": "stderr",
     "output_type": "stream",
     "text": [
      "preprocessing: 1626it [01:11, 21.69it/s]"
     ]
    },
    {
     "name": "stdout",
     "output_type": "stream",
     "text": [
      "[263 154 980 880]\n",
      "[188 143 755 855]\n",
      "[184 163 778 866]\n",
      "[248 245 768 802]\n",
      "[262 154 923 888]\n"
     ]
    },
    {
     "name": "stderr",
     "output_type": "stream",
     "text": [
      "\r",
      "preprocessing: 1629it [01:11, 21.61it/s]"
     ]
    },
    {
     "name": "stdout",
     "output_type": "stream",
     "text": [
      "[259 123 877 909]\n",
      "[209 154 749 861]\n",
      "[238 198 815 790]\n",
      "[205  56 811 867]\n",
      "[239 156 957 850]\n"
     ]
    },
    {
     "name": "stderr",
     "output_type": "stream",
     "text": [
      "preprocessing: 1635it [01:11, 22.10it/s]"
     ]
    },
    {
     "name": "stdout",
     "output_type": "stream",
     "text": [
      "[152 131 800 891]\n",
      "[199 170 827 942]\n",
      "[260 203 888 945]\n",
      "[126 154 709 907]\n",
      "[246  95 877 771]\n"
     ]
    },
    {
     "name": "stderr",
     "output_type": "stream",
     "text": [
      "preprocessing: 1641it [01:11, 21.69it/s]"
     ]
    },
    {
     "name": "stdout",
     "output_type": "stream",
     "text": [
      "[138 160 729 904]\n",
      "[246 219 818 807]\n",
      "[270 203 805 832]\n",
      "[284 190 887 833]\n",
      "[306 185 899 824]\n"
     ]
    },
    {
     "name": "stderr",
     "output_type": "stream",
     "text": [
      "\r",
      "preprocessing: 1644it [01:11, 22.02it/s]"
     ]
    },
    {
     "name": "stdout",
     "output_type": "stream",
     "text": [
      "[228 194 973 882]\n",
      "[188 185 838 968]\n",
      "[160 173 755 892]\n",
      "[200 161 818 862]\n",
      "[129 122 722 864]\n"
     ]
    },
    {
     "name": "stderr",
     "output_type": "stream",
     "text": [
      "preprocessing: 1650it [01:12, 22.17it/s]"
     ]
    },
    {
     "name": "stdout",
     "output_type": "stream",
     "text": [
      "[258 178 809 822]\n",
      "[196 154 857 931]\n",
      "[227 115 865 867]\n",
      "[219 105 855 853]\n",
      "[157 149 803 796]\n"
     ]
    },
    {
     "name": "stderr",
     "output_type": "stream",
     "text": [
      "preprocessing: 1656it [01:12, 22.20it/s]"
     ]
    },
    {
     "name": "stdout",
     "output_type": "stream",
     "text": [
      "[260 159 849 778]\n",
      "[197 154 794 944]\n",
      "[111  94 805 860]\n",
      "[129 106 749 869]\n",
      "[276 108 956 968]\n"
     ]
    },
    {
     "name": "stderr",
     "output_type": "stream",
     "text": [
      "\r",
      "preprocessing: 1659it [01:12, 21.84it/s]"
     ]
    },
    {
     "name": "stdout",
     "output_type": "stream",
     "text": [
      "[297 186 893 943]\n",
      "[271 175 869 902]\n",
      "[315 154 947 808]\n",
      "[175 159 887 972]\n",
      "[212 205 729 773]\n"
     ]
    },
    {
     "name": "stderr",
     "output_type": "stream",
     "text": [
      "preprocessing: 1665it [01:12, 22.12it/s]"
     ]
    },
    {
     "name": "stdout",
     "output_type": "stream",
     "text": [
      "[153 157 797 961]\n",
      "[214 203 755 804]\n",
      "[123 156 768 898]\n",
      "[ 91 165 733 907]\n"
     ]
    },
    {
     "name": "stderr",
     "output_type": "stream",
     "text": [
      "preprocessing: 1671it [01:13, 22.61it/s]"
     ]
    },
    {
     "name": "stdout",
     "output_type": "stream",
     "text": [
      "[192 153 762 924]\n",
      "[276 226 854 784]\n",
      "[165 143 783 926]\n",
      "[333 157 844 896]\n",
      "[215 147 852 930]\n"
     ]
    },
    {
     "name": "stderr",
     "output_type": "stream",
     "text": [
      "preprocessing: 1677it [01:13, 22.48it/s]"
     ]
    },
    {
     "name": "stdout",
     "output_type": "stream",
     "text": [
      "[ 83 122 758 901]\n",
      "[255 297 765 854]\n",
      "[269 168 889 936]\n",
      "[166 235 752 814]\n",
      "[142 185 768 873]\n"
     ]
    },
    {
     "name": "stderr",
     "output_type": "stream",
     "text": [
      "\r",
      "preprocessing: 1680it [01:13, 22.11it/s]"
     ]
    },
    {
     "name": "stdout",
     "output_type": "stream",
     "text": [
      "[323 150 914 836]\n",
      "[167 167 778 850]\n",
      "[230 148 850 901]\n",
      "[238 123 859 797]\n",
      "[103 139 788 932]\n"
     ]
    },
    {
     "name": "stderr",
     "output_type": "stream",
     "text": [
      "preprocessing: 1686it [01:13, 22.12it/s]"
     ]
    },
    {
     "name": "stdout",
     "output_type": "stream",
     "text": [
      "[106 177 746 934]\n",
      "[153 182 755 793]\n",
      "[217 177 783 914]\n",
      "[231 161 838 937]\n",
      "[245 151 796 846]\n"
     ]
    },
    {
     "name": "stderr",
     "output_type": "stream",
     "text": [
      "preprocessing: 1692it [01:14, 21.76it/s]"
     ]
    },
    {
     "name": "stdout",
     "output_type": "stream",
     "text": [
      "[210 122 880 970]\n",
      "[328 144 859 792]\n",
      "[155 153 742 867]\n",
      "[284 182 814 828]\n",
      "[142 174 766 937]\n"
     ]
    },
    {
     "name": "stderr",
     "output_type": "stream",
     "text": [
      "\r",
      "preprocessing: 1695it [01:14, 22.10it/s]"
     ]
    },
    {
     "name": "stdout",
     "output_type": "stream",
     "text": [
      "[167 141 711 803]\n",
      "[171 164 804 891]\n",
      "[320 172 884 842]\n",
      "[211 182 776 894]\n",
      "[228 197 831 847]\n"
     ]
    },
    {
     "name": "stderr",
     "output_type": "stream",
     "text": [
      "\r",
      "preprocessing: 1698it [01:14, 21.89it/s]"
     ]
    },
    {
     "name": "stdout",
     "output_type": "stream",
     "text": [
      "[226 193 810 859]\n",
      "[201 166 844 955]\n",
      "[185  80 891 887]\n"
     ]
    },
    {
     "name": "stderr",
     "output_type": "stream",
     "text": [
      "preprocessing: 1704it [01:14, 19.92it/s]"
     ]
    },
    {
     "name": "stdout",
     "output_type": "stream",
     "text": [
      "[ 87 157 724 835]\n",
      "[128 177 746 913]\n",
      "[134 173 758 916]\n",
      "[308 175 914 791]\n",
      "[194 135 757 814]\n"
     ]
    },
    {
     "name": "stderr",
     "output_type": "stream",
     "text": [
      "\r",
      "preprocessing: 1707it [01:14, 20.69it/s]"
     ]
    },
    {
     "name": "stdout",
     "output_type": "stream",
     "text": [
      "[ 68 141 778 932]\n",
      "[257 186 807 857]\n",
      "[195  99 799 818]\n",
      "[215 114 919 902]\n",
      "[289 163 948 889]\n"
     ]
    },
    {
     "name": "stderr",
     "output_type": "stream",
     "text": [
      "preprocessing: 1713it [01:15, 21.08it/s]"
     ]
    },
    {
     "name": "stdout",
     "output_type": "stream",
     "text": [
      "[229 175 762 826]\n",
      "[279 260 810 789]\n",
      "[252 179 793 775]\n",
      "[249 154 897 857]\n",
      "[325 145 930 881]\n"
     ]
    },
    {
     "name": "stderr",
     "output_type": "stream",
     "text": [
      "preprocessing: 1719it [01:15, 20.87it/s]"
     ]
    },
    {
     "name": "stdout",
     "output_type": "stream",
     "text": [
      "[220 147 780 870]\n",
      "[178 186 756 900]\n",
      "[163 112 838 781]\n",
      "[332 135 952 828]\n",
      "[163 178 755 870]\n"
     ]
    },
    {
     "name": "stderr",
     "output_type": "stream",
     "text": [
      "preprocessing: 1725it [01:15, 21.09it/s]"
     ]
    },
    {
     "name": "stdout",
     "output_type": "stream",
     "text": [
      "[125 169 771 851]\n",
      "[236 172 870 814]\n",
      "[285 203 848 800]\n",
      "[194 141 786 882]\n",
      "[301 213 835 957]\n"
     ]
    },
    {
     "name": "stderr",
     "output_type": "stream",
     "text": [
      "\r",
      "preprocessing: 1728it [01:15, 20.55it/s]"
     ]
    },
    {
     "name": "stdout",
     "output_type": "stream",
     "text": [
      "[194 169 776 814]\n",
      "[222 137 860 799]\n",
      "[193 138 843 791]\n",
      "[250 191 822 806]\n",
      "[239 182 883 965]\n"
     ]
    },
    {
     "name": "stderr",
     "output_type": "stream",
     "text": [
      "preprocessing: 1734it [01:16, 21.07it/s]"
     ]
    },
    {
     "name": "stdout",
     "output_type": "stream",
     "text": [
      "[163 102 820 902]\n",
      "[317 185 947 862]\n",
      "[277 195 918 808]\n",
      "[160 116 737 875]\n",
      "[ 76 152 734 896]\n"
     ]
    },
    {
     "name": "stderr",
     "output_type": "stream",
     "text": [
      "\r",
      "preprocessing: 1737it [01:16, 21.41it/s]"
     ]
    },
    {
     "name": "stdout",
     "output_type": "stream",
     "text": [
      "[361 185 955 881]\n",
      "[155  88 775 889]\n",
      "[141 138 716 851]\n",
      "[325 191 888 829]\n",
      "[214 271 758 775]\n"
     ]
    },
    {
     "name": "stderr",
     "output_type": "stream",
     "text": [
      "preprocessing: 1743it [01:16, 21.79it/s]"
     ]
    },
    {
     "name": "stdout",
     "output_type": "stream",
     "text": [
      "[222 141 871 802]\n",
      "[275 220 861 770]\n",
      "[104 126 734 795]\n",
      "[292 186 852 816]\n",
      "[211  60 834 763]\n"
     ]
    },
    {
     "name": "stderr",
     "output_type": "stream",
     "text": [
      "preprocessing: 1749it [01:16, 22.40it/s]"
     ]
    },
    {
     "name": "stdout",
     "output_type": "stream",
     "text": [
      "[236 152 820 974]\n",
      "[272 138 912 909]\n",
      "[308 166 998 875]\n",
      "[137 180 716 812]\n",
      "[ 95 134 704 825]\n"
     ]
    },
    {
     "name": "stderr",
     "output_type": "stream",
     "text": [
      "preprocessing: 1755it [01:16, 23.69it/s]"
     ]
    },
    {
     "name": "stdout",
     "output_type": "stream",
     "text": [
      "[179 165 790 917]\n",
      "[155 147 761 931]\n",
      "[263 193 796 788]\n",
      "[168 168 725 907]\n",
      "[164 148 755 908]\n",
      "[292 194 873 804]\n"
     ]
    },
    {
     "name": "stderr",
     "output_type": "stream",
     "text": [
      "preprocessing: 1761it [01:17, 23.17it/s]"
     ]
    },
    {
     "name": "stdout",
     "output_type": "stream",
     "text": [
      "[ 60 128 750 882]\n",
      "[228 215 762 818]\n",
      "[335 147 995 854]\n",
      "[240 101 849 860]\n",
      "[259 138 902 892]\n"
     ]
    },
    {
     "name": "stderr",
     "output_type": "stream",
     "text": [
      "\r",
      "preprocessing: 1764it [01:17, 22.89it/s]"
     ]
    },
    {
     "name": "stdout",
     "output_type": "stream",
     "text": [
      "[226 221 840 882]\n",
      "[155 156 723 807]\n",
      "[ 96 125 729 914]\n",
      "[203 153 819 831]\n",
      "[280 161 875 832]\n"
     ]
    },
    {
     "name": "stderr",
     "output_type": "stream",
     "text": [
      "preprocessing: 1770it [01:17, 22.22it/s]"
     ]
    },
    {
     "name": "stdout",
     "output_type": "stream",
     "text": [
      "[260 139 890 911]\n",
      "[174 175 814 824]\n",
      "[219 149 836 799]\n",
      "[127 161 769 908]\n",
      "[160 160 774 873]\n"
     ]
    },
    {
     "name": "stderr",
     "output_type": "stream",
     "text": [
      "preprocessing: 1776it [01:17, 22.86it/s]"
     ]
    },
    {
     "name": "stdout",
     "output_type": "stream",
     "text": [
      "[141 148 753 840]\n",
      "[183 184 800 969]\n",
      "[223 167 801 793]\n",
      "[ 94 131 748 872]\n",
      "[235 204 830 754]\n"
     ]
    },
    {
     "name": "stderr",
     "output_type": "stream",
     "text": [
      "\r",
      "preprocessing: 1779it [01:18, 22.80it/s]"
     ]
    },
    {
     "name": "stdout",
     "output_type": "stream",
     "text": [
      "[270 194 811 841]\n",
      "[257 171 922 867]\n",
      "[115 172 736 899]\n",
      "[207 102 802 782]\n",
      "[186 119 748 823]\n"
     ]
    },
    {
     "name": "stderr",
     "output_type": "stream",
     "text": [
      "preprocessing: 1785it [01:18, 22.19it/s]"
     ]
    },
    {
     "name": "stdout",
     "output_type": "stream",
     "text": [
      "[152 154 782 849]\n",
      "[284 186 915 904]\n",
      "[216 119 850 948]\n",
      "[286 196 833 824]\n",
      "[360 198 883 924]\n"
     ]
    },
    {
     "name": "stderr",
     "output_type": "stream",
     "text": [
      "\r",
      "preprocessing: 1788it [01:18, 22.44it/s]"
     ]
    },
    {
     "name": "stdout",
     "output_type": "stream",
     "text": [
      "[255 176 820 913]\n",
      "[208 113 824 795]\n",
      "[164  82 860 909]\n",
      "[209 196 818 759]\n",
      "[171 139 782 820]\n"
     ]
    },
    {
     "name": "stderr",
     "output_type": "stream",
     "text": [
      "preprocessing: 1794it [01:18, 22.14it/s]"
     ]
    },
    {
     "name": "stdout",
     "output_type": "stream",
     "text": [
      "[261 116 922 877]\n",
      "[271 193 865 864]\n",
      "[174 146 781 827]\n",
      "[238 160 884 915]\n",
      "[295 232 896 861]\n"
     ]
    },
    {
     "name": "stderr",
     "output_type": "stream",
     "text": [
      "preprocessing: 1800it [01:19, 19.83it/s]"
     ]
    },
    {
     "name": "stdout",
     "output_type": "stream",
     "text": [
      "[268 168 862 767]\n",
      "[219 177 792 769]\n",
      "[179 158 761 915]\n",
      "[272 184 848 856]\n"
     ]
    },
    {
     "name": "stderr",
     "output_type": "stream",
     "text": [
      "\r",
      "preprocessing: 1803it [01:19, 19.20it/s]"
     ]
    },
    {
     "name": "stdout",
     "output_type": "stream",
     "text": [
      "[281 108 933 812]\n",
      "[229 170 903 950]\n",
      "[211 170 818 803]\n",
      "[173 204 787 867]\n",
      "[255 151 865 953]\n"
     ]
    },
    {
     "name": "stderr",
     "output_type": "stream",
     "text": [
      "preprocessing: 1809it [01:19, 21.73it/s]"
     ]
    },
    {
     "name": "stdout",
     "output_type": "stream",
     "text": [
      "[214 204 708 793]\n",
      "[ 56 136 728 919]\n",
      "[199 174 811 870]\n",
      "[228 177 739 797]\n",
      "[223 151 925 952]\n",
      "[ 69 143 701 879]\n"
     ]
    },
    {
     "name": "stderr",
     "output_type": "stream",
     "text": [
      "preprocessing: 1815it [01:19, 22.77it/s]"
     ]
    },
    {
     "name": "stdout",
     "output_type": "stream",
     "text": [
      "[225 126 874 875]\n",
      "[269 198 829 805]\n",
      "[273 161 956 912]\n",
      "[ 92 118 744 892]\n",
      "[264 150 918 929]\n"
     ]
    },
    {
     "name": "stderr",
     "output_type": "stream",
     "text": [
      "preprocessing: 1821it [01:19, 23.86it/s]"
     ]
    },
    {
     "name": "stdout",
     "output_type": "stream",
     "text": [
      "[190 194 773 936]\n",
      "[149 136 788 961]\n",
      "[209 147 778 896]\n",
      "[153 174 727 896]\n",
      "[231 177 794 947]\n",
      "[186 163 839 941]\n"
     ]
    },
    {
     "name": "stderr",
     "output_type": "stream",
     "text": [
      "preprocessing: 1827it [01:20, 23.92it/s]"
     ]
    },
    {
     "name": "stdout",
     "output_type": "stream",
     "text": [
      "[264  75 822 784]\n",
      "[241 177 844 826]\n",
      "[184 194 827 826]\n",
      "[210 152 805 883]\n",
      "[227 121 877 846]\n"
     ]
    },
    {
     "name": "stderr",
     "output_type": "stream",
     "text": [
      "\r",
      "preprocessing: 1830it [01:20, 23.68it/s]"
     ]
    },
    {
     "name": "stdout",
     "output_type": "stream",
     "text": [
      "[231 181 752 791]\n",
      "[204 156 811 759]\n",
      "[200 152 770 942]\n",
      "[ 88 148 739 830]\n",
      "[119 169 761 886]\n"
     ]
    },
    {
     "name": "stderr",
     "output_type": "stream",
     "text": [
      "preprocessing: 1836it [01:20, 21.70it/s]"
     ]
    },
    {
     "name": "stdout",
     "output_type": "stream",
     "text": [
      "[155 133 721 872]\n",
      "[207 122 796 857]\n",
      "[ 62 100 735 814]\n",
      "[264 165 830 823]\n",
      "[282 169 892 877]\n"
     ]
    },
    {
     "name": "stderr",
     "output_type": "stream",
     "text": [
      "preprocessing: 1842it [01:20, 22.05it/s]"
     ]
    },
    {
     "name": "stdout",
     "output_type": "stream",
     "text": [
      "[310 160 915 795]\n",
      "[ 97 127 708 918]\n",
      "[113 145 720 830]\n",
      "[196 188 823 899]\n",
      "[269 162 762 820]\n"
     ]
    },
    {
     "name": "stderr",
     "output_type": "stream",
     "text": [
      "\r",
      "preprocessing: 1845it [01:20, 22.36it/s]"
     ]
    },
    {
     "name": "stdout",
     "output_type": "stream",
     "text": [
      "[197 171 776 841]\n",
      "[255 244 817 783]\n",
      "[183  80 801 819]\n",
      "[354 182 923 889]\n",
      "[200 182 851 936]\n"
     ]
    },
    {
     "name": "stderr",
     "output_type": "stream",
     "text": [
      "preprocessing: 1851it [01:21, 22.84it/s]"
     ]
    },
    {
     "name": "stdout",
     "output_type": "stream",
     "text": [
      "[180  96 798 811]\n",
      "[227 157 867 920]\n",
      "[276 183 856 789]\n",
      "[139 141 765 912]\n",
      "[ 47 133 769 908]\n"
     ]
    },
    {
     "name": "stderr",
     "output_type": "stream",
     "text": [
      "preprocessing: 1857it [01:21, 23.22it/s]"
     ]
    },
    {
     "name": "stdout",
     "output_type": "stream",
     "text": [
      "[157 142 778 830]\n",
      "[181  89 768 789]\n",
      "[242 197 777 859]\n",
      "[251 189 881 808]\n",
      "[252 226 805 925]\n"
     ]
    },
    {
     "name": "stderr",
     "output_type": "stream",
     "text": [
      "\r",
      "preprocessing: 1860it [01:21, 23.76it/s]"
     ]
    },
    {
     "name": "stdout",
     "output_type": "stream",
     "text": [
      "[120 165 798 821]\n",
      "[133 144 751 845]\n",
      "[119  95 766 855]\n",
      "[293 137 817 786]\n",
      "[138 173 802 876]\n"
     ]
    },
    {
     "name": "stderr",
     "output_type": "stream",
     "text": [
      "preprocessing: 1866it [01:21, 23.77it/s]"
     ]
    },
    {
     "name": "stdout",
     "output_type": "stream",
     "text": [
      "[263 176 879 931]\n",
      "[236 151 804 919]\n",
      "[189 141 766 800]\n",
      "[ 306  107 1005  849]\n",
      "[163 194 797 839]\n"
     ]
    },
    {
     "name": "stderr",
     "output_type": "stream",
     "text": [
      "\r",
      "preprocessing: 1869it [01:22, 23.03it/s]"
     ]
    },
    {
     "name": "stdout",
     "output_type": "stream",
     "text": [
      "[165 174 799 897]\n",
      "[241 197 756 747]\n",
      "[218 132 839 783]\n",
      "[222 203 784 843]\n",
      "[148 120 794 871]\n"
     ]
    },
    {
     "name": "stderr",
     "output_type": "stream",
     "text": [
      "preprocessing: 1875it [01:22, 22.27it/s]"
     ]
    },
    {
     "name": "stdout",
     "output_type": "stream",
     "text": [
      "[128 168 718 859]\n",
      "[264 186 871 888]\n",
      "[199 152 784 947]\n",
      "[144  56 911 778]\n",
      "[173 111 778 820]\n"
     ]
    },
    {
     "name": "stderr",
     "output_type": "stream",
     "text": [
      "preprocessing: 1881it [01:22, 22.34it/s]"
     ]
    },
    {
     "name": "stdout",
     "output_type": "stream",
     "text": [
      "[285 184 804 796]\n",
      "[ 394   68 1002  781]\n",
      "[215 183 800 840]\n",
      "[348 187 899 857]\n",
      "[213 166 831 962]\n"
     ]
    },
    {
     "name": "stderr",
     "output_type": "stream",
     "text": [
      "preprocessing: 1887it [01:22, 23.17it/s]"
     ]
    },
    {
     "name": "stdout",
     "output_type": "stream",
     "text": [
      "[296 157 832 793]\n",
      "[212 184 819 863]\n",
      "[245 230 826 807]\n",
      "[210 101 802 891]\n",
      "[102 119 712 879]\n"
     ]
    },
    {
     "name": "stderr",
     "output_type": "stream",
     "text": [
      "preprocessing: 1893it [01:23, 24.22it/s]"
     ]
    },
    {
     "name": "stdout",
     "output_type": "stream",
     "text": [
      "[176 170 786 871]\n",
      "[214 165 841 936]\n",
      "[281 201 862 798]\n",
      "[219 171 862 943]\n",
      "[131 167 740 860]\n",
      "[237 158 889 909]\n"
     ]
    },
    {
     "name": "stderr",
     "output_type": "stream",
     "text": [
      "preprocessing: 1899it [01:23, 24.02it/s]"
     ]
    },
    {
     "name": "stdout",
     "output_type": "stream",
     "text": [
      "[220  89 823 761]\n",
      "[293 195 932 911]\n",
      "[205 161 808 801]\n",
      "[276  76 935 818]\n",
      "[ 51 161 725 800]\n",
      "[121 191 710 820]\n"
     ]
    },
    {
     "name": "stderr",
     "output_type": "stream",
     "text": [
      "\r",
      "preprocessing: 1902it [01:23, 20.23it/s]"
     ]
    },
    {
     "name": "stdout",
     "output_type": "stream",
     "text": [
      "[154 202 787 853]\n",
      "[154 148 750 816]\n",
      "[243 199 887 958]\n",
      "[279 156 894 806]\n",
      "[304 197 914 864]\n"
     ]
    },
    {
     "name": "stderr",
     "output_type": "stream",
     "text": [
      "preprocessing: 1908it [01:23, 21.80it/s]"
     ]
    },
    {
     "name": "stdout",
     "output_type": "stream",
     "text": [
      "[235 217 810 957]\n",
      "[177 145 819 944]\n",
      "[273 175 848 945]\n",
      "[319 173 928 889]\n",
      "[283 186 739 869]\n",
      "[163 174 735 914]\n"
     ]
    },
    {
     "name": "stderr",
     "output_type": "stream",
     "text": [
      "preprocessing: 1914it [01:23, 23.76it/s]"
     ]
    },
    {
     "name": "stdout",
     "output_type": "stream",
     "text": [
      "[250 217 807 919]\n",
      "[227 180 826 882]\n",
      "[183 159 868 817]\n",
      "[275 164 878 895]\n",
      "[205  87 895 857]\n"
     ]
    },
    {
     "name": "stderr",
     "output_type": "stream",
     "text": [
      "preprocessing: 1920it [01:24, 23.90it/s]"
     ]
    },
    {
     "name": "stdout",
     "output_type": "stream",
     "text": [
      "[285 155 820 805]\n",
      "[205 161 811 942]\n",
      "[295 183 878 859]\n",
      "[152  69 800 826]\n",
      "[262 205 794 942]\n"
     ]
    },
    {
     "name": "stderr",
     "output_type": "stream",
     "text": [
      "preprocessing: 1926it [01:24, 23.86it/s]"
     ]
    },
    {
     "name": "stdout",
     "output_type": "stream",
     "text": [
      "[349 208 918 901]\n",
      "[237 175 834 973]\n",
      "[179 174 770 924]\n",
      "[211 174 912 790]\n",
      "[204 151 765 870]\n",
      "[185  86 888 904]\n"
     ]
    },
    {
     "name": "stderr",
     "output_type": "stream",
     "text": [
      "preprocessing: 1932it [01:24, 23.96it/s]"
     ]
    },
    {
     "name": "stdout",
     "output_type": "stream",
     "text": [
      "[218 157 796 927]\n",
      "[221 150 938 910]\n",
      "[158 138 778 896]\n",
      "[133 125 762 893]\n",
      "[180 131 779 902]\n"
     ]
    },
    {
     "name": "stderr",
     "output_type": "stream",
     "text": [
      "\r",
      "preprocessing: 1935it [01:24, 24.14it/s]"
     ]
    },
    {
     "name": "stdout",
     "output_type": "stream",
     "text": [
      "[235 164 940 892]\n",
      "[205 150 830 920]\n",
      "[214 131 855 888]\n",
      "[159 132 769 864]\n",
      "[131 163 711 827]\n",
      "[309 193 882 812]\n"
     ]
    },
    {
     "name": "stderr",
     "output_type": "stream",
     "text": [
      "preprocessing: 1941it [01:25, 23.72it/s]"
     ]
    },
    {
     "name": "stdout",
     "output_type": "stream",
     "text": [
      "[246 156 846 863]\n",
      "[ 97 151 761 907]\n",
      "[267 119 924 912]\n",
      "[160 166 767 856]\n"
     ]
    },
    {
     "name": "stderr",
     "output_type": "stream",
     "text": [
      "preprocessing: 1947it [01:25, 24.18it/s]"
     ]
    },
    {
     "name": "stdout",
     "output_type": "stream",
     "text": [
      "[299 181 917 781]\n",
      "[223 155 855 891]\n",
      "[197 153 805 861]\n",
      "[214 202 765 933]\n",
      "[ 88 125 739 895]\n",
      "[180 172 766 882]\n"
     ]
    },
    {
     "name": "stderr",
     "output_type": "stream",
     "text": [
      "preprocessing: 1953it [01:25, 24.41it/s]"
     ]
    },
    {
     "name": "stdout",
     "output_type": "stream",
     "text": [
      "[275 177 927 823]\n",
      "[244 270 794 899]\n",
      "[234 136 847 901]\n",
      "[226 220 772 887]\n"
     ]
    },
    {
     "name": "stderr",
     "output_type": "stream",
     "text": [
      "\r",
      "preprocessing: 1956it [01:25, 24.89it/s]"
     ]
    },
    {
     "name": "stdout",
     "output_type": "stream",
     "text": [
      "[219 170 814 970]\n",
      "[224 174 861 866]\n",
      "[275 103 936 879]\n",
      "[290 140 977 916]\n",
      "[120 131 779 799]\n",
      "[266 192 846 773]\n"
     ]
    },
    {
     "name": "stderr",
     "output_type": "stream",
     "text": [
      "preprocessing: 1962it [01:25, 24.50it/s]"
     ]
    },
    {
     "name": "stdout",
     "output_type": "stream",
     "text": [
      "[256 184 852 894]\n",
      "[123 156 775 864]\n",
      "[236 208 785 931]\n",
      "[186 116 790 953]\n",
      "[289 161 847 852]\n",
      "[130 138 759 839]\n"
     ]
    },
    {
     "name": "stderr",
     "output_type": "stream",
     "text": [
      "preprocessing: 1968it [01:26, 24.12it/s]"
     ]
    },
    {
     "name": "stdout",
     "output_type": "stream",
     "text": [
      "[154 136 756 809]\n",
      "[119 179 741 794]\n",
      "[294 196 863 777]\n",
      "[128 191 765 914]\n",
      "[242 154 860 818]\n"
     ]
    },
    {
     "name": "stderr",
     "output_type": "stream",
     "text": [
      "preprocessing: 1974it [01:26, 23.63it/s]"
     ]
    },
    {
     "name": "stdout",
     "output_type": "stream",
     "text": [
      "[216 183 891 808]\n",
      "[230 137 820 958]\n",
      "[177 119 747 822]\n",
      "[256 100 828 872]\n",
      "[187 184 810 969]\n",
      "[305 161 870 798]\n"
     ]
    },
    {
     "name": "stderr",
     "output_type": "stream",
     "text": [
      "preprocessing: 1980it [01:26, 23.78it/s]"
     ]
    },
    {
     "name": "stdout",
     "output_type": "stream",
     "text": [
      "[217 189 866 922]\n",
      "[231 162 840 890]\n",
      "[168 121 782 910]\n",
      "[138 184 755 834]\n",
      "[245 224 787 950]\n"
     ]
    },
    {
     "name": "stderr",
     "output_type": "stream",
     "text": [
      "preprocessing: 1986it [01:26, 23.80it/s]"
     ]
    },
    {
     "name": "stdout",
     "output_type": "stream",
     "text": [
      "[175 128 807 773]\n",
      "[241 119 923 806]\n",
      "[195 158 841 881]\n",
      "[139 191 829 816]\n",
      "[276  80 958 893]\n"
     ]
    },
    {
     "name": "stderr",
     "output_type": "stream",
     "text": [
      "\r",
      "preprocessing: 1989it [01:27, 23.58it/s]"
     ]
    },
    {
     "name": "stdout",
     "output_type": "stream",
     "text": [
      "[241 210 818 797]\n",
      "[167 112 861 918]\n",
      "[184 103 814 822]\n",
      "[213 170 759 923]\n",
      "[281 116 902 951]\n"
     ]
    },
    {
     "name": "stderr",
     "output_type": "stream",
     "text": [
      "preprocessing: 1995it [01:27, 23.06it/s]"
     ]
    },
    {
     "name": "stdout",
     "output_type": "stream",
     "text": [
      "[110 151 755 787]\n",
      "[171 150 819 905]\n",
      "[166 148 756 869]\n",
      "[335 186 912 823]\n",
      "[239 192 815 797]\n"
     ]
    },
    {
     "name": "stderr",
     "output_type": "stream",
     "text": [
      "\r",
      "preprocessing: 1998it [01:27, 22.92it/s]"
     ]
    },
    {
     "name": "stdout",
     "output_type": "stream",
     "text": [
      "[240 151 883 808]\n",
      "[297 210 852 873]\n",
      "[329 202 894 899]\n",
      "[308 182 868 790]\n"
     ]
    },
    {
     "name": "stderr",
     "output_type": "stream",
     "text": [
      "preprocessing: 2003it [01:27, 17.69it/s]"
     ]
    },
    {
     "name": "stdout",
     "output_type": "stream",
     "text": [
      "[183 200 776 824]\n",
      "[236 191 859 804]\n",
      "[296 174 867 853]\n",
      "[201 114 888 818]\n"
     ]
    },
    {
     "name": "stderr",
     "output_type": "stream",
     "text": [
      "preprocessing: 2009it [01:28, 19.87it/s]"
     ]
    },
    {
     "name": "stdout",
     "output_type": "stream",
     "text": [
      "[214 141 816 888]\n",
      "[254 201 862 796]\n",
      "[351 232 903 796]\n",
      "[277 140 785 775]\n"
     ]
    },
    {
     "name": "stderr",
     "output_type": "stream",
     "text": [
      "\r",
      "preprocessing: 2012it [01:28, 21.10it/s]"
     ]
    },
    {
     "name": "stdout",
     "output_type": "stream",
     "text": [
      "[166 182 800 965]\n",
      "[163 167 795 920]\n",
      "[252 199 852 859]\n",
      "[278 233 862 827]\n",
      "[226 171 883 846]\n"
     ]
    },
    {
     "name": "stderr",
     "output_type": "stream",
     "text": [
      "preprocessing: 2018it [01:28, 21.19it/s]"
     ]
    },
    {
     "name": "stdout",
     "output_type": "stream",
     "text": [
      "[308 181 840 852]\n",
      "[186 106 781 844]\n",
      "[248 126 832 843]\n",
      "[218 181 841 834]\n",
      "[181 143 799 959]\n"
     ]
    },
    {
     "name": "stderr",
     "output_type": "stream",
     "text": [
      "\r",
      "preprocessing: 2021it [01:28, 21.26it/s]"
     ]
    },
    {
     "name": "stdout",
     "output_type": "stream",
     "text": [
      "[170 149 789 892]\n",
      "[202 160 814 900]\n",
      "[150 152 811 899]\n",
      "[107 165 726 880]\n",
      "[221 226 749 820]\n"
     ]
    },
    {
     "name": "stderr",
     "output_type": "stream",
     "text": [
      "preprocessing: 2027it [01:28, 20.92it/s]"
     ]
    },
    {
     "name": "stdout",
     "output_type": "stream",
     "text": [
      "[234 216 811 938]\n",
      "[226 129 978 881]\n",
      "[240 162 851 831]\n",
      "[260 105 986 909]\n",
      "[144 140 730 827]\n"
     ]
    },
    {
     "name": "stderr",
     "output_type": "stream",
     "text": [
      "preprocessing: 2033it [01:29, 21.18it/s]"
     ]
    },
    {
     "name": "stdout",
     "output_type": "stream",
     "text": [
      "[164 194 694 821]\n",
      "[140 171 740 814]\n",
      "[230 236 804 778]\n",
      "[261 191 799 911]\n",
      "[269 195 796 924]\n"
     ]
    },
    {
     "name": "stderr",
     "output_type": "stream",
     "text": [
      "preprocessing: 2039it [01:29, 21.31it/s]"
     ]
    },
    {
     "name": "stdout",
     "output_type": "stream",
     "text": [
      "[130 186 786 882]\n",
      "[294 216 846 841]\n",
      "[278 175 801 859]\n",
      "[219 197 810 801]\n",
      "[300 101 977 859]\n"
     ]
    },
    {
     "name": "stderr",
     "output_type": "stream",
     "text": [
      "\r",
      "preprocessing: 2042it [01:29, 22.03it/s]"
     ]
    },
    {
     "name": "stdout",
     "output_type": "stream",
     "text": [
      "[291 198 865 863]\n",
      "[209 156 819 869]\n",
      "[ 73 110 767 862]\n",
      "[197 166 786 926]\n",
      "[245 135 844 807]\n",
      "[244 205 810 941]\n"
     ]
    },
    {
     "name": "stderr",
     "output_type": "stream",
     "text": [
      "preprocessing: 2048it [01:29, 23.21it/s]"
     ]
    },
    {
     "name": "stdout",
     "output_type": "stream",
     "text": [
      "[281 202 786 871]\n",
      "[325 187 960 921]\n",
      "[ 89 123 718 811]\n",
      "[171 202 795 946]\n",
      "[232 189 748 821]\n",
      "[166 160 786 873]\n"
     ]
    },
    {
     "name": "stderr",
     "output_type": "stream",
     "text": [
      "preprocessing: 2054it [01:30, 23.85it/s]"
     ]
    },
    {
     "name": "stdout",
     "output_type": "stream",
     "text": [
      "[211 177 804 780]\n",
      "[128 122 731 870]\n",
      "[196 122 822 790]\n",
      "[178 158 770 873]\n",
      "[153 127 739 808]\n",
      "[206 196 784 933]\n"
     ]
    },
    {
     "name": "stderr",
     "output_type": "stream",
     "text": [
      "preprocessing: 2060it [01:30, 24.14it/s]"
     ]
    },
    {
     "name": "stdout",
     "output_type": "stream",
     "text": [
      "[251 213 878 784]\n",
      "[194 165 836 810]\n",
      "[227 108 831 876]\n",
      "[243 129 863 835]\n",
      "[217 219 765 902]\n",
      "[199 101 779 889]\n"
     ]
    },
    {
     "name": "stderr",
     "output_type": "stream",
     "text": [
      "preprocessing: 2066it [01:30, 24.21it/s]"
     ]
    },
    {
     "name": "stdout",
     "output_type": "stream",
     "text": [
      "[242 200 763 890]\n",
      "[174 172 820 973]\n",
      "[278 191 908 920]\n",
      "[202 168 825 861]\n",
      "[122 128 778 852]\n",
      "[218 233 803 844]\n"
     ]
    },
    {
     "name": "stderr",
     "output_type": "stream",
     "text": [
      "preprocessing: 2072it [01:30, 23.93it/s]"
     ]
    },
    {
     "name": "stdout",
     "output_type": "stream",
     "text": [
      "[157 152 749 902]\n",
      "[330 282 886 788]\n",
      "[127 208 817 910]\n",
      "[218 214 791 923]\n",
      "[291 171 876 793]\n",
      "[184 189 783 904]\n"
     ]
    },
    {
     "name": "stderr",
     "output_type": "stream",
     "text": [
      "preprocessing: 2078it [01:31, 23.45it/s]"
     ]
    },
    {
     "name": "stdout",
     "output_type": "stream",
     "text": [
      "[244 202 833 851]\n",
      "[229 216 782 919]\n",
      "[126 174 688 833]\n",
      "[198 185 814 792]\n",
      "[295 161 920 815]\n"
     ]
    },
    {
     "name": "stderr",
     "output_type": "stream",
     "text": [
      "preprocessing: 2084it [01:31, 23.85it/s]"
     ]
    },
    {
     "name": "stdout",
     "output_type": "stream",
     "text": [
      "[220 148 780 861]\n",
      "[200 217 812 733]\n",
      "[121 159 744 883]\n",
      "[263 152 960 937]\n",
      "[235 152 853 803]\n",
      "[205 156 785 806]\n"
     ]
    },
    {
     "name": "stderr",
     "output_type": "stream",
     "text": [
      "preprocessing: 2090it [01:31, 23.99it/s]"
     ]
    },
    {
     "name": "stdout",
     "output_type": "stream",
     "text": [
      "[313 165 956 822]\n",
      "[186 148 798 927]\n",
      "[214 163 856 943]\n",
      "[227 112 822 931]\n",
      "[331 201 940 896]\n",
      "[262 183 831 818]\n"
     ]
    },
    {
     "name": "stderr",
     "output_type": "stream",
     "text": [
      "preprocessing: 2096it [01:31, 24.36it/s]"
     ]
    },
    {
     "name": "stdout",
     "output_type": "stream",
     "text": [
      "[242  97 944 880]\n",
      "[295 158 917 859]\n",
      "[214 192 812 945]\n",
      "[324 195 881 792]\n",
      "[155 224 764 829]\n",
      "[256 194 846 823]\n"
     ]
    },
    {
     "name": "stderr",
     "output_type": "stream",
     "text": [
      "\r",
      "preprocessing: 2099it [01:32, 24.45it/s]"
     ]
    },
    {
     "name": "stdout",
     "output_type": "stream",
     "text": [
      "[110 197 706 874]\n",
      "[288  84 868 750]\n",
      "[377 151 941 850]\n"
     ]
    },
    {
     "name": "stderr",
     "output_type": "stream",
     "text": [
      "preprocessing: 2105it [01:32, 20.51it/s]"
     ]
    },
    {
     "name": "stdout",
     "output_type": "stream",
     "text": [
      "[181 167 827 902]\n",
      "[135 160 765 881]\n",
      "[104 159 778 941]\n",
      "[107 221 764 886]\n",
      "[285 239 825 849]\n"
     ]
    },
    {
     "name": "stderr",
     "output_type": "stream",
     "text": [
      "preprocessing: 2111it [01:32, 23.12it/s]"
     ]
    },
    {
     "name": "stdout",
     "output_type": "stream",
     "text": [
      "[115 133 771 925]\n",
      "[163 165 789 951]\n",
      "[276 169 878 810]\n",
      "[140 133 743 809]\n",
      "[208 191 837 942]\n"
     ]
    },
    {
     "name": "stderr",
     "output_type": "stream",
     "text": [
      "preprocessing: 2117it [01:32, 23.90it/s]"
     ]
    },
    {
     "name": "stdout",
     "output_type": "stream",
     "text": [
      "[186 206 843 816]\n",
      "[254 224 872 788]\n",
      "[112 200 676 860]\n",
      "[139 182 749 831]\n"
     ]
    },
    {
     "name": "stderr",
     "output_type": "stream",
     "text": [
      "\r",
      "preprocessing: 2120it [01:32, 23.62it/s]"
     ]
    },
    {
     "name": "stdout",
     "output_type": "stream",
     "text": [
      "[289 208 870 904]\n",
      "[113 178 739 959]\n",
      "[155 167 796 949]\n",
      "[340 160 913 774]\n",
      "[234 181 821 792]\n"
     ]
    },
    {
     "name": "stderr",
     "output_type": "stream",
     "text": [
      "preprocessing: 2126it [01:33, 23.85it/s]"
     ]
    },
    {
     "name": "stdout",
     "output_type": "stream",
     "text": [
      "[194 108 825 811]\n",
      "[208 102 816 937]\n",
      "[214 123 803 945]\n",
      "[294 172 865 828]\n",
      "[223 170 824 924]\n"
     ]
    },
    {
     "name": "stderr",
     "output_type": "stream",
     "text": [
      "preprocessing: 2132it [01:33, 24.11it/s]"
     ]
    },
    {
     "name": "stdout",
     "output_type": "stream",
     "text": [
      "[179 189 810 953]\n",
      "[184 135 881 823]\n",
      "[103 183 698 842]\n",
      "[258 118 949 894]\n",
      "[241 116 821 934]\n"
     ]
    },
    {
     "name": "stderr",
     "output_type": "stream",
     "text": [
      "\r",
      "preprocessing: 2135it [01:33, 24.38it/s]"
     ]
    },
    {
     "name": "stdout",
     "output_type": "stream",
     "text": [
      "[268 190 894 828]\n",
      "[163 147 840 928]\n",
      "[103 160 784 814]\n",
      "[215 128 893 926]\n",
      "[107 178 761 899]\n"
     ]
    },
    {
     "name": "stderr",
     "output_type": "stream",
     "text": [
      "preprocessing: 2141it [01:33, 24.56it/s]"
     ]
    },
    {
     "name": "stdout",
     "output_type": "stream",
     "text": [
      "[238 163 891 940]\n",
      "[186 143 793 785]\n",
      "[285 262 882 801]\n",
      "[201 154 796 907]\n",
      "[228 166 856 968]\n"
     ]
    },
    {
     "name": "stderr",
     "output_type": "stream",
     "text": [
      "\r",
      "preprocessing: 2144it [01:33, 23.95it/s]"
     ]
    },
    {
     "name": "stdout",
     "output_type": "stream",
     "text": [
      "[185 133 855 911]\n",
      "[239 185 832 793]\n",
      "[170 149 772 912]\n",
      "[218 218 750 858]\n",
      "[220 154 868 848]\n"
     ]
    },
    {
     "name": "stderr",
     "output_type": "stream",
     "text": [
      "preprocessing: 2150it [01:34, 22.95it/s]"
     ]
    },
    {
     "name": "stdout",
     "output_type": "stream",
     "text": [
      "[192 144 859 943]\n",
      "[201 121 787 843]\n",
      "[263 199 815 788]\n",
      "[165 151 791 954]\n",
      "[157 163 747 927]\n"
     ]
    },
    {
     "name": "stderr",
     "output_type": "stream",
     "text": [
      "preprocessing: 2156it [01:34, 22.66it/s]"
     ]
    },
    {
     "name": "stdout",
     "output_type": "stream",
     "text": [
      "[262 152 904 917]\n",
      "[231 176 866 885]\n",
      "[130 155 767 856]\n",
      "[301 186 918 822]\n",
      "[205 165 799 790]\n"
     ]
    },
    {
     "name": "stderr",
     "output_type": "stream",
     "text": [
      "preprocessing: 2162it [01:34, 22.01it/s]"
     ]
    },
    {
     "name": "stdout",
     "output_type": "stream",
     "text": [
      "[217 183 765 797]\n",
      "[212 202 718 759]\n",
      "[230 192 772 782]\n",
      "[270 150 854 824]\n",
      "[136 171 772 843]\n"
     ]
    },
    {
     "name": "stderr",
     "output_type": "stream",
     "text": [
      "\r",
      "preprocessing: 2165it [01:34, 21.83it/s]"
     ]
    },
    {
     "name": "stdout",
     "output_type": "stream",
     "text": [
      "[201 129 775 928]\n",
      "[307 174 912 893]\n",
      "[320 218 881 912]\n",
      "[192 131 794 926]\n",
      "[319 205 881 856]\n"
     ]
    },
    {
     "name": "stderr",
     "output_type": "stream",
     "text": [
      "preprocessing: 2171it [01:35, 22.10it/s]"
     ]
    },
    {
     "name": "stdout",
     "output_type": "stream",
     "text": [
      "[107 219 801 887]\n",
      "[229 207 761 946]\n",
      "[342 182 957 856]\n",
      "[278 170 872 825]\n",
      "[159 165 778 849]\n"
     ]
    },
    {
     "name": "stderr",
     "output_type": "stream",
     "text": [
      "preprocessing: 2177it [01:35, 22.78it/s]"
     ]
    },
    {
     "name": "stdout",
     "output_type": "stream",
     "text": [
      "[152  95 752 868]\n",
      "[166 188 778 958]\n",
      "[224 173 820 935]\n",
      "[293 194 900 911]\n",
      "[220 157 843 926]\n"
     ]
    },
    {
     "name": "stderr",
     "output_type": "stream",
     "text": [
      "\r",
      "preprocessing: 2180it [01:35, 21.47it/s]"
     ]
    },
    {
     "name": "stdout",
     "output_type": "stream",
     "text": [
      "[216 212 744 899]\n",
      "[218 168 809 929]\n",
      "[201 135 860 890]\n",
      "[145 134 770 823]\n"
     ]
    },
    {
     "name": "stderr",
     "output_type": "stream",
     "text": [
      "\r",
      "preprocessing: 2183it [01:35, 20.10it/s]"
     ]
    },
    {
     "name": "stdout",
     "output_type": "stream",
     "text": [
      "[261 154 797 748]\n",
      "[266 194 817 891]\n",
      "[129 134 740 809]\n",
      "[177 120 802 924]\n"
     ]
    },
    {
     "name": "stderr",
     "output_type": "stream",
     "text": [
      "preprocessing: 2189it [01:36, 21.68it/s]"
     ]
    },
    {
     "name": "stdout",
     "output_type": "stream",
     "text": [
      "[204 118 855 955]\n",
      "[124 103 779 876]\n",
      "[258 212 814 847]\n",
      "[210 169 828 895]\n",
      "[141 100 782 868]\n",
      "[281 169 854 784]\n"
     ]
    },
    {
     "name": "stderr",
     "output_type": "stream",
     "text": [
      "preprocessing: 2195it [01:36, 22.70it/s]"
     ]
    },
    {
     "name": "stdout",
     "output_type": "stream",
     "text": [
      "[243 162 685 761]\n",
      "[296 136 905 854]\n",
      "[113 187 685 897]\n",
      "[215 140 895 866]\n",
      "[228 163 792 802]\n"
     ]
    },
    {
     "name": "stderr",
     "output_type": "stream",
     "text": [
      "\r",
      "preprocessing: 2198it [01:36, 22.83it/s]"
     ]
    },
    {
     "name": "stdout",
     "output_type": "stream",
     "text": [
      "[242 197 790 922]\n",
      "[304 179 902 882]\n",
      "[217 159 848 870]\n",
      "[247 212 813 895]\n"
     ]
    },
    {
     "name": "stderr",
     "output_type": "stream",
     "text": [
      "preprocessing: 2204it [01:36, 19.79it/s]"
     ]
    },
    {
     "name": "stdout",
     "output_type": "stream",
     "text": [
      "[277 122 956 921]\n",
      "[103 173 746 858]\n",
      "[179 157 746 861]\n",
      "[169 178 748 897]\n"
     ]
    },
    {
     "name": "stderr",
     "output_type": "stream",
     "text": [
      "\r",
      "preprocessing: 2207it [01:36, 20.46it/s]"
     ]
    },
    {
     "name": "stdout",
     "output_type": "stream",
     "text": [
      "[196 157 789 801]\n",
      "[227 113 844 934]\n",
      "[176 167 805 914]\n",
      "[222 215 766 927]\n",
      "[299 181 808 821]\n"
     ]
    },
    {
     "name": "stderr",
     "output_type": "stream",
     "text": [
      "preprocessing: 2213it [01:37, 22.05it/s]"
     ]
    },
    {
     "name": "stdout",
     "output_type": "stream",
     "text": [
      "[163 156 817 930]\n",
      "[174 124 767 867]\n",
      "[232 174 823 914]\n",
      "[124 134 744 901]\n",
      "[150  83 854 901]\n"
     ]
    },
    {
     "name": "stderr",
     "output_type": "stream",
     "text": [
      "\r",
      "preprocessing: 2216it [01:37, 22.23it/s]"
     ]
    },
    {
     "name": "stdout",
     "output_type": "stream",
     "text": [
      "[263 211 853 921]\n",
      "[163 120 801 904]\n",
      "[249 159 825 903]\n",
      "[243 217 790 887]\n",
      "[200 111 859 878]\n"
     ]
    },
    {
     "name": "stderr",
     "output_type": "stream",
     "text": [
      "preprocessing: 2222it [01:37, 21.66it/s]"
     ]
    },
    {
     "name": "stdout",
     "output_type": "stream",
     "text": [
      "[266 163 810 911]\n",
      "[114 155 761 867]\n",
      "[171 164 750 814]\n",
      "[282 199 897 913]\n",
      "[271 155 739 803]\n"
     ]
    },
    {
     "name": "stderr",
     "output_type": "stream",
     "text": [
      "preprocessing: 2228it [01:37, 19.78it/s]"
     ]
    },
    {
     "name": "stdout",
     "output_type": "stream",
     "text": [
      "[247  85 903 773]\n",
      "[271 181 825 798]\n",
      "[ 80 122 733 856]\n",
      "[234 165 825 954]\n"
     ]
    },
    {
     "name": "stderr",
     "output_type": "stream",
     "text": [
      "\r",
      "preprocessing: 2231it [01:38, 20.26it/s]"
     ]
    },
    {
     "name": "stdout",
     "output_type": "stream",
     "text": [
      "[180 124 839 878]\n",
      "[156 185 771 826]\n",
      "[ 95  98 742 828]\n",
      "[112 128 780 816]\n",
      "[213 141 808 941]\n"
     ]
    },
    {
     "name": "stderr",
     "output_type": "stream",
     "text": [
      "preprocessing: 2237it [01:38, 22.07it/s]"
     ]
    },
    {
     "name": "stdout",
     "output_type": "stream",
     "text": [
      "[314 164 982 902]\n",
      "[103 172 757 923]\n",
      "[301 187 929 816]\n",
      "[169 164 781 914]\n",
      "[134 176 751 865]\n"
     ]
    },
    {
     "name": "stderr",
     "output_type": "stream",
     "text": [
      "\r",
      "preprocessing: 2240it [01:38, 21.90it/s]"
     ]
    },
    {
     "name": "stdout",
     "output_type": "stream",
     "text": [
      "[ 74  81 745 833]\n",
      "[264 187 937 787]\n",
      "[253 206 875 875]\n",
      "[243 211 767 833]\n",
      "[154 185 812 889]\n"
     ]
    },
    {
     "name": "stderr",
     "output_type": "stream",
     "text": [
      "preprocessing: 2246it [01:38, 20.53it/s]"
     ]
    },
    {
     "name": "stdout",
     "output_type": "stream",
     "text": [
      "[231 175 811 823]\n",
      "[245 179 880 766]\n",
      "[171 179 790 877]\n",
      "[232 165 853 922]\n",
      "[162 171 763 843]\n"
     ]
    },
    {
     "name": "stderr",
     "output_type": "stream",
     "text": [
      "preprocessing: 2252it [01:38, 21.95it/s]"
     ]
    },
    {
     "name": "stdout",
     "output_type": "stream",
     "text": [
      "[314 197 910 807]\n",
      "[142 136 760 805]\n",
      "[351 126 984 880]\n",
      "[124 145 753 929]\n"
     ]
    },
    {
     "name": "stderr",
     "output_type": "stream",
     "text": [
      "\r",
      "preprocessing: 2255it [01:39, 23.14it/s]"
     ]
    },
    {
     "name": "stdout",
     "output_type": "stream",
     "text": [
      "[269 176 855 899]\n",
      "[278 154 782 796]\n",
      "[216 140 888 845]\n",
      "[209 324 797 851]\n",
      "[168 138 830 964]\n",
      "[240 199 824 951]\n"
     ]
    },
    {
     "name": "stderr",
     "output_type": "stream",
     "text": [
      "preprocessing: 2261it [01:39, 23.69it/s]"
     ]
    },
    {
     "name": "stdout",
     "output_type": "stream",
     "text": [
      "[153 140 715 830]\n",
      "[205 171 879 875]\n",
      "[254 211 805 833]\n",
      "[323 194 912 877]\n",
      "[275 200 796 808]\n"
     ]
    },
    {
     "name": "stderr",
     "output_type": "stream",
     "text": [
      "preprocessing: 2267it [01:39, 22.87it/s]"
     ]
    },
    {
     "name": "stdout",
     "output_type": "stream",
     "text": [
      "[249 170 826 792]\n",
      "[ 90 162 727 875]\n",
      "[183 140 780 915]\n",
      "[ 84 198 751 866]\n",
      "[150  95 872 838]\n"
     ]
    },
    {
     "name": "stderr",
     "output_type": "stream",
     "text": [
      "\r",
      "preprocessing: 2270it [01:39, 22.64it/s]"
     ]
    },
    {
     "name": "stdout",
     "output_type": "stream",
     "text": [
      "[279 149 854 849]\n",
      "[271 103 891 813]\n",
      "[199 170 822 940]\n",
      "[231 142 853 793]\n",
      "[235 170 817 839]\n"
     ]
    },
    {
     "name": "stderr",
     "output_type": "stream",
     "text": [
      "preprocessing: 2276it [01:40, 21.85it/s]"
     ]
    },
    {
     "name": "stdout",
     "output_type": "stream",
     "text": [
      "[144 194 810 928]\n",
      "[300 202 853 880]\n",
      "[219 173 835 955]\n",
      "[197 121 818 941]\n",
      "[230 101 894 827]\n"
     ]
    },
    {
     "name": "stderr",
     "output_type": "stream",
     "text": [
      "preprocessing: 2282it [01:40, 21.95it/s]"
     ]
    },
    {
     "name": "stdout",
     "output_type": "stream",
     "text": [
      "[210 189 803 914]\n",
      "[243 189 798 904]\n",
      "[284 176 855 841]\n",
      "[211 158 777 916]\n",
      "[245 127 939 837]\n"
     ]
    },
    {
     "name": "stderr",
     "output_type": "stream",
     "text": [
      "preprocessing: 2288it [01:40, 22.30it/s]"
     ]
    },
    {
     "name": "stdout",
     "output_type": "stream",
     "text": [
      "[211 169 795 928]\n",
      "[203  91 821 963]\n",
      "[239 182 813 835]\n",
      "[197 206 824 932]\n",
      "[274 184 911 947]\n"
     ]
    },
    {
     "name": "stderr",
     "output_type": "stream",
     "text": [
      "\r",
      "preprocessing: 2291it [01:40, 21.09it/s]"
     ]
    },
    {
     "name": "stdout",
     "output_type": "stream",
     "text": [
      "[285 133 858 808]\n",
      "[196 163 769 897]\n",
      "[212 184 804 764]\n",
      "[200 178 782 948]\n"
     ]
    },
    {
     "name": "stderr",
     "output_type": "stream",
     "text": [
      "\r",
      "preprocessing: 2294it [01:40, 21.20it/s]"
     ]
    },
    {
     "name": "stdout",
     "output_type": "stream",
     "text": [
      "[172 186 756 926]\n",
      "[114 131 717 844]\n",
      "[328 167 856 872]\n",
      "[299 159 919 880]\n",
      "[278 139 862 782]\n"
     ]
    },
    {
     "name": "stderr",
     "output_type": "stream",
     "text": [
      "preprocessing: 2300it [01:41, 19.00it/s]"
     ]
    },
    {
     "name": "stdout",
     "output_type": "stream",
     "text": [
      "[229 208 800 810]\n",
      "[209 215 780 871]\n",
      "[ 88 113 745 830]\n"
     ]
    },
    {
     "name": "stderr",
     "output_type": "stream",
     "text": [
      "\r",
      "preprocessing: 2302it [01:41, 18.29it/s]"
     ]
    },
    {
     "name": "stdout",
     "output_type": "stream",
     "text": [
      "[174 121 779 892]\n",
      "[ 72 133 754 907]\n",
      "[228 183 829 784]\n",
      "[253  50 920 739]\n"
     ]
    },
    {
     "name": "stderr",
     "output_type": "stream",
     "text": [
      "preprocessing: 2308it [01:41, 20.08it/s]"
     ]
    },
    {
     "name": "stdout",
     "output_type": "stream",
     "text": [
      "[254 184 843 859]\n",
      "[204 185 826 815]\n",
      "[238 119 827 809]\n",
      "[188 169 823 907]\n",
      "[245 152 915 877]\n"
     ]
    },
    {
     "name": "stderr",
     "output_type": "stream",
     "text": [
      "preprocessing: 2314it [01:41, 20.78it/s]"
     ]
    },
    {
     "name": "stdout",
     "output_type": "stream",
     "text": [
      "[142 140 755 812]\n",
      "[210 171 790 816]\n",
      "[ 52  85 728 821]\n",
      "[127 153 766 941]\n",
      "[273 193 908 876]\n"
     ]
    },
    {
     "name": "stderr",
     "output_type": "stream",
     "text": [
      "\r",
      "preprocessing: 2317it [01:42, 21.15it/s]"
     ]
    },
    {
     "name": "stdout",
     "output_type": "stream",
     "text": [
      "[260 161 813 856]\n",
      "[103 167 810 807]\n",
      "[115 157 759 847]\n",
      "[228 111 859 967]\n",
      "[212 154 880 780]\n"
     ]
    },
    {
     "name": "stderr",
     "output_type": "stream",
     "text": [
      "preprocessing: 2323it [01:42, 22.40it/s]"
     ]
    },
    {
     "name": "stdout",
     "output_type": "stream",
     "text": [
      "[334 198 918 853]\n",
      "[298 102 951 854]\n",
      "[255 168 870 948]\n",
      "[239 137 896 919]\n",
      "[308 187 907 863]\n"
     ]
    },
    {
     "name": "stderr",
     "output_type": "stream",
     "text": [
      "preprocessing: 2329it [01:42, 24.29it/s]"
     ]
    },
    {
     "name": "stdout",
     "output_type": "stream",
     "text": [
      "[233 164 883 913]\n",
      "[144 136 776 857]\n",
      "[216 172 789 930]\n",
      "[222 268 795 762]\n",
      "[118 132 785 906]\n",
      "[297 163 813 823]\n"
     ]
    },
    {
     "name": "stderr",
     "output_type": "stream",
     "text": [
      "preprocessing: 2335it [01:42, 25.14it/s]"
     ]
    },
    {
     "name": "stdout",
     "output_type": "stream",
     "text": [
      "[156 172 787 915]\n",
      "[263 155 877 868]\n",
      "[306  90 844 777]\n",
      "[218 204 755 799]\n",
      "[132 104 772 839]\n"
     ]
    },
    {
     "name": "stderr",
     "output_type": "stream",
     "text": [
      "preprocessing: 2341it [01:42, 25.79it/s]"
     ]
    },
    {
     "name": "stdout",
     "output_type": "stream",
     "text": [
      "[144 146 832 935]\n",
      "[259 122 807 811]\n",
      "[266 158 880 848]\n",
      "[171 141 825 951]\n",
      "[279 165 817 803]\n",
      "[178 158 785 944]\n"
     ]
    },
    {
     "name": "stderr",
     "output_type": "stream",
     "text": [
      "preprocessing: 2347it [01:43, 26.29it/s]"
     ]
    },
    {
     "name": "stdout",
     "output_type": "stream",
     "text": [
      "[333 220 981 810]\n",
      "[285 114 892 810]\n",
      "[265 217 842 936]\n",
      "[292 161 939 811]\n",
      "[173 167 746 801]\n",
      "[235 189 896 960]\n"
     ]
    },
    {
     "name": "stderr",
     "output_type": "stream",
     "text": [
      "preprocessing: 2353it [01:43, 26.28it/s]"
     ]
    },
    {
     "name": "stdout",
     "output_type": "stream",
     "text": [
      "[265 197 819 816]\n",
      "[214 151 845 903]\n",
      "[265 178 703 843]\n",
      "[125 194 738 829]\n",
      "[124 149 737 937]\n",
      "[138 114 771 870]\n"
     ]
    },
    {
     "name": "stderr",
     "output_type": "stream",
     "text": [
      "preprocessing: 2359it [01:43, 26.15it/s]"
     ]
    },
    {
     "name": "stdout",
     "output_type": "stream",
     "text": [
      "[261 164 885 956]\n",
      "[247 144 854 845]\n",
      "[156 102 805 764]\n",
      "[314 254 886 779]\n",
      "[ 91 112 726 944]\n",
      "[100 105 762 932]\n"
     ]
    },
    {
     "name": "stderr",
     "output_type": "stream",
     "text": [
      "preprocessing: 2365it [01:43, 26.69it/s]"
     ]
    },
    {
     "name": "stdout",
     "output_type": "stream",
     "text": [
      "[231 193 811 783]\n",
      "[207 134 823 870]\n",
      "[190 182 766 849]\n",
      "[129 128 800 884]\n",
      "[284 224 866 803]\n",
      "[171 128 785 868]\n"
     ]
    },
    {
     "name": "stderr",
     "output_type": "stream",
     "text": [
      "preprocessing: 2371it [01:44, 26.27it/s]"
     ]
    },
    {
     "name": "stdout",
     "output_type": "stream",
     "text": [
      "[217 126 807 830]\n",
      "[157 135 840 800]\n",
      "[291 189 824 836]\n",
      "[224 188 747 821]\n",
      "[179 194 772 796]\n",
      "[242 180 805 897]\n"
     ]
    },
    {
     "name": "stderr",
     "output_type": "stream",
     "text": [
      "preprocessing: 2377it [01:44, 25.66it/s]"
     ]
    },
    {
     "name": "stdout",
     "output_type": "stream",
     "text": [
      "[126 124 836 955]\n",
      "[363 159 930 899]\n",
      "[176 153 798 847]\n",
      "[244  91 953 853]\n",
      "[223 146 860 807]\n"
     ]
    },
    {
     "name": "stderr",
     "output_type": "stream",
     "text": [
      "\r",
      "preprocessing: 2380it [01:44, 25.25it/s]"
     ]
    },
    {
     "name": "stdout",
     "output_type": "stream",
     "text": [
      "[279 203 944 896]\n",
      "[228 172 822 757]\n",
      "[276 131 851 784]\n",
      "[172 157 756 879]\n"
     ]
    },
    {
     "name": "stderr",
     "output_type": "stream",
     "text": [
      "preprocessing: 2386it [01:44, 24.97it/s]"
     ]
    },
    {
     "name": "stdout",
     "output_type": "stream",
     "text": [
      "[188 225 770 792]\n",
      "[233 143 898 819]\n",
      "[269 158 871 899]\n",
      "[113 191 771 909]\n",
      "[235 183 840 819]\n",
      "[242 115 933 931]\n"
     ]
    },
    {
     "name": "stderr",
     "output_type": "stream",
     "text": [
      "preprocessing: 2392it [01:44, 24.85it/s]"
     ]
    },
    {
     "name": "stdout",
     "output_type": "stream",
     "text": [
      "[119 149 806 902]\n",
      "[102  71 768 801]\n",
      "[206 159 793 854]\n",
      "[ 85 150 730 910]\n",
      "[246 147 712 798]\n"
     ]
    },
    {
     "name": "stderr",
     "output_type": "stream",
     "text": [
      "preprocessing: 2398it [01:45, 24.79it/s]"
     ]
    },
    {
     "name": "stdout",
     "output_type": "stream",
     "text": [
      "[255 181 888 896]\n",
      "[116  63 766 899]\n",
      "[248  88 905 784]\n",
      "[191 184 771 940]\n",
      "[263 126 908 862]\n",
      "[353 175 990 874]\n"
     ]
    },
    {
     "name": "stderr",
     "output_type": "stream",
     "text": [
      "\r",
      "preprocessing: 2401it [01:45, 22.47it/s]"
     ]
    },
    {
     "name": "stdout",
     "output_type": "stream",
     "text": [
      "[215 209 829 941]\n",
      "[238 203 853 835]\n",
      "[198 120 845 937]\n",
      "[282 134 921 811]\n"
     ]
    },
    {
     "name": "stderr",
     "output_type": "stream",
     "text": [
      "preprocessing: 2407it [01:45, 23.13it/s]"
     ]
    },
    {
     "name": "stdout",
     "output_type": "stream",
     "text": [
      "[174  56 764 799]\n",
      "[145 145 768 934]\n",
      "[101 120 748 848]\n",
      "[131 197 747 898]\n",
      "[210 165 796 915]\n",
      "[257 155 830 827]\n"
     ]
    },
    {
     "name": "stderr",
     "output_type": "stream",
     "text": [
      "preprocessing: 2413it [01:45, 25.15it/s]"
     ]
    },
    {
     "name": "stdout",
     "output_type": "stream",
     "text": [
      "[293 188 852 890]\n",
      "[115 190 696 862]\n",
      "[295  81 924 799]\n",
      "[147 125 796 930]\n",
      "[296 220 874 799]\n",
      "[220 235 784 837]\n"
     ]
    },
    {
     "name": "stderr",
     "output_type": "stream",
     "text": [
      "preprocessing: 2419it [01:46, 24.80it/s]"
     ]
    },
    {
     "name": "stdout",
     "output_type": "stream",
     "text": [
      "[304 150 853 812]\n",
      "[235 152 899 885]\n",
      "[336 214 938 896]\n",
      "[258 151 999 849]\n",
      "[108 155 751 814]\n",
      "[227 219 828 898]\n"
     ]
    },
    {
     "name": "stderr",
     "output_type": "stream",
     "text": [
      "preprocessing: 2425it [01:46, 24.28it/s]"
     ]
    },
    {
     "name": "stdout",
     "output_type": "stream",
     "text": [
      "[305 185 862 856]\n",
      "[112 189 762 805]\n",
      "[307 159 933 881]\n",
      "[255 193 764 831]\n",
      "[144 145 815 909]\n",
      "[157 134 757 810]\n"
     ]
    },
    {
     "name": "stderr",
     "output_type": "stream",
     "text": [
      "preprocessing: 2431it [01:46, 24.76it/s]"
     ]
    },
    {
     "name": "stdout",
     "output_type": "stream",
     "text": [
      "[174 186 822 936]\n",
      "[201 172 818 942]\n",
      "[226 148 875 868]\n",
      "[ 63 208 728 944]\n",
      "[126 153 721 903]\n"
     ]
    },
    {
     "name": "stderr",
     "output_type": "stream",
     "text": [
      "preprocessing: 2437it [01:46, 24.71it/s]"
     ]
    },
    {
     "name": "stdout",
     "output_type": "stream",
     "text": [
      "[239 116 828 859]\n",
      "[322 203 892 836]\n",
      "[276 200 809 835]\n",
      "[140 131 757 914]\n",
      "[275 199 807 769]\n",
      "[151 193 740 874]\n"
     ]
    },
    {
     "name": "stderr",
     "output_type": "stream",
     "text": [
      "preprocessing: 2443it [01:47, 24.47it/s]"
     ]
    },
    {
     "name": "stdout",
     "output_type": "stream",
     "text": [
      "[210  67 861 877]\n",
      "[276 186 881 883]\n",
      "[241 125 884 930]\n",
      "[308 140 901 816]\n",
      "[164 107 771 913]\n",
      "[201 158 796 880]\n"
     ]
    },
    {
     "name": "stderr",
     "output_type": "stream",
     "text": [
      "preprocessing: 2449it [01:47, 24.76it/s]"
     ]
    },
    {
     "name": "stdout",
     "output_type": "stream",
     "text": [
      "[269 181 864 894]\n",
      "[242 105 885 805]\n",
      "[155 146 757 893]\n",
      "[250 204 806 909]\n",
      "[322 163 910 799]\n"
     ]
    },
    {
     "name": "stderr",
     "output_type": "stream",
     "text": [
      "preprocessing: 2455it [01:47, 24.41it/s]"
     ]
    },
    {
     "name": "stdout",
     "output_type": "stream",
     "text": [
      "[245 160 819 855]\n",
      "[146 177 783 904]\n",
      "[204 203 754 824]\n",
      "[303 189 903 791]\n",
      "[139 170 767 943]\n"
     ]
    },
    {
     "name": "stderr",
     "output_type": "stream",
     "text": [
      "\r",
      "preprocessing: 2458it [01:47, 24.88it/s]"
     ]
    },
    {
     "name": "stdout",
     "output_type": "stream",
     "text": [
      "[336 199 966 819]\n",
      "[122 116 744 908]\n",
      "[184 164 804 919]\n",
      "[169 153 794 819]\n",
      "[203 145 801 860]\n",
      "[189 160 784 865]\n"
     ]
    },
    {
     "name": "stderr",
     "output_type": "stream",
     "text": [
      "preprocessing: 2464it [01:47, 24.75it/s]"
     ]
    },
    {
     "name": "stdout",
     "output_type": "stream",
     "text": [
      "[220 134 757 878]\n",
      "[312 204 934 811]\n",
      "[257 219 810 944]\n",
      "[ 93 123 774 837]\n",
      "[243 214 850 859]\n",
      "[192 191 790 886]\n"
     ]
    },
    {
     "name": "stderr",
     "output_type": "stream",
     "text": [
      "preprocessing: 2470it [01:48, 24.35it/s]"
     ]
    },
    {
     "name": "stdout",
     "output_type": "stream",
     "text": [
      "[296 199 841 822]\n",
      "[ 82 131 756 862]\n",
      "[186 164 784 945]\n",
      "[125 136 758 908]\n"
     ]
    },
    {
     "name": "stderr",
     "output_type": "stream",
     "text": [
      "preprocessing: 2476it [01:48, 24.69it/s]"
     ]
    },
    {
     "name": "stdout",
     "output_type": "stream",
     "text": [
      "[268 121 912 914]\n",
      "[235 191 797 866]\n",
      "[322 187 895 819]\n",
      "[ 97 195 730 841]\n",
      "[245 189 789 765]\n"
     ]
    },
    {
     "name": "stderr",
     "output_type": "stream",
     "text": [
      "\r",
      "preprocessing: 2479it [01:48, 24.31it/s]"
     ]
    },
    {
     "name": "stdout",
     "output_type": "stream",
     "text": [
      "[218 177 852 957]\n",
      "[231 202 774 973]\n",
      "[320 185 872 804]\n",
      "[284 190 861 849]\n",
      "[228 168 801 925]\n"
     ]
    },
    {
     "name": "stderr",
     "output_type": "stream",
     "text": [
      "preprocessing: 2485it [01:48, 24.10it/s]"
     ]
    },
    {
     "name": "stdout",
     "output_type": "stream",
     "text": [
      "[208 213 781 930]\n",
      "[218 212 778 937]\n",
      "[185 204 798 954]\n",
      "[223 135 840 910]\n",
      "[220 192 726 762]\n"
     ]
    },
    {
     "name": "stderr",
     "output_type": "stream",
     "text": [
      "preprocessing: 2491it [01:49, 24.25it/s]"
     ]
    },
    {
     "name": "stdout",
     "output_type": "stream",
     "text": [
      "[348 188 900 797]\n",
      "[182 166 763 821]\n",
      "[253 210 787 862]\n",
      "[151 113 837 878]\n",
      "[294 230 941 841]\n"
     ]
    },
    {
     "name": "stderr",
     "output_type": "stream",
     "text": [
      "\r",
      "preprocessing: 2494it [01:49, 24.77it/s]"
     ]
    },
    {
     "name": "stdout",
     "output_type": "stream",
     "text": [
      "[206 132 777 826]\n",
      "[159 159 773 839]\n",
      "[246 221 812 941]\n",
      "[251 209 864 861]\n",
      "[168 141 785 932]\n"
     ]
    },
    {
     "name": "stderr",
     "output_type": "stream",
     "text": [
      "preprocessing: 2500it [01:49, 22.26it/s]"
     ]
    },
    {
     "name": "stdout",
     "output_type": "stream",
     "text": [
      "[247 208 808 777]\n",
      "[242 250 917 896]\n",
      "[155 114 729 877]\n",
      "[138 176 818 941]\n"
     ]
    },
    {
     "name": "stderr",
     "output_type": "stream",
     "text": [
      "\r",
      "preprocessing: 2503it [01:49, 20.48it/s]"
     ]
    },
    {
     "name": "stdout",
     "output_type": "stream",
     "text": [
      "[236 150 775 924]\n",
      "[273 179 787 888]\n",
      "[205 209 750 899]\n",
      "[176 180 749 905]\n",
      "[189 196 751 922]\n"
     ]
    },
    {
     "name": "stderr",
     "output_type": "stream",
     "text": [
      "preprocessing: 2509it [01:49, 23.18it/s]"
     ]
    },
    {
     "name": "stdout",
     "output_type": "stream",
     "text": [
      "[285 188 832 988]\n",
      "[260 160 780 871]\n",
      "[285 224 821 878]\n",
      "[259 231 745 935]\n",
      "[226 184 748 879]\n",
      "[245 147 809 924]\n"
     ]
    },
    {
     "name": "stderr",
     "output_type": "stream",
     "text": [
      "preprocessing: 2515it [01:50, 25.38it/s]"
     ]
    },
    {
     "name": "stdout",
     "output_type": "stream",
     "text": [
      "[276 244 844 850]\n",
      "[275 168 817 914]\n",
      "[231 188 755 963]\n",
      "[241 176 791 944]\n",
      "[278 175 874 924]\n",
      "[270 186 809 974]\n"
     ]
    },
    {
     "name": "stderr",
     "output_type": "stream",
     "text": [
      "preprocessing: 2521it [01:50, 24.75it/s]"
     ]
    },
    {
     "name": "stdout",
     "output_type": "stream",
     "text": [
      "[309 131 908 882]\n",
      "[246 188 773 898]\n",
      "[169 164 753 894]\n",
      "[232 200 825 886]\n",
      "[186 154 750 947]\n"
     ]
    },
    {
     "name": "stderr",
     "output_type": "stream",
     "text": [
      "preprocessing: 2527it [01:50, 23.90it/s]"
     ]
    },
    {
     "name": "stdout",
     "output_type": "stream",
     "text": [
      "[166  84 741 923]\n",
      "[274 194 781 886]\n",
      "[240 213 770 908]\n",
      "[167 198 739 930]\n",
      "[222 212 774 921]\n"
     ]
    },
    {
     "name": "stderr",
     "output_type": "stream",
     "text": [
      "\r",
      "preprocessing: 2530it [01:50, 24.19it/s]"
     ]
    },
    {
     "name": "stdout",
     "output_type": "stream",
     "text": [
      "[221 199 764 908]\n",
      "[269 184 832 965]\n",
      "[269 181 800 896]\n",
      "[280 212 815 903]\n",
      "[224 146 782 930]\n",
      "[239 213 757 893]\n"
     ]
    },
    {
     "name": "stderr",
     "output_type": "stream",
     "text": [
      "preprocessing: 2536it [01:50, 24.10it/s]"
     ]
    },
    {
     "name": "stdout",
     "output_type": "stream",
     "text": [
      "[275 179 828 920]\n",
      "[272 200 828 916]\n",
      "[220 235 766 899]\n",
      "[181 185 742 939]\n",
      "[226 178 806 929]\n"
     ]
    },
    {
     "name": "stderr",
     "output_type": "stream",
     "text": [
      "preprocessing: 2542it [01:51, 24.58it/s]"
     ]
    },
    {
     "name": "stdout",
     "output_type": "stream",
     "text": [
      "[245 151 806 974]\n",
      "[195 169 766 911]\n",
      "[ 85 133 697 916]\n",
      "[289 199 912 910]\n",
      "[250 218 792 898]\n"
     ]
    },
    {
     "name": "stderr",
     "output_type": "stream",
     "text": [
      "preprocessing: 2548it [01:51, 24.40it/s]"
     ]
    },
    {
     "name": "stdout",
     "output_type": "stream",
     "text": [
      "[181 104 760 933]\n",
      "[243 164 786 945]\n",
      "[281 180 829 891]\n",
      "[217 190 737 906]\n",
      "[285 115 850 890]\n",
      "[270 190 796 895]\n"
     ]
    },
    {
     "name": "stderr",
     "output_type": "stream",
     "text": [
      "preprocessing: 2554it [01:51, 24.30it/s]"
     ]
    },
    {
     "name": "stdout",
     "output_type": "stream",
     "text": [
      "[256 260 819 927]\n",
      "[200 201 800 870]\n",
      "[237 185 797 839]\n",
      "[181 197 767 891]\n",
      "[167 169 744 988]\n"
     ]
    },
    {
     "name": "stderr",
     "output_type": "stream",
     "text": [
      "\r",
      "preprocessing: 2557it [01:51, 24.50it/s]"
     ]
    },
    {
     "name": "stdout",
     "output_type": "stream",
     "text": [
      "[214 226 762 878]\n",
      "[263 209 804 889]\n",
      "[245 215 789 861]\n",
      "[231 199 790 884]\n",
      "[207 190 762 896]\n",
      "[289 248 861 922]\n"
     ]
    },
    {
     "name": "stderr",
     "output_type": "stream",
     "text": [
      "preprocessing: 2563it [01:52, 24.65it/s]"
     ]
    },
    {
     "name": "stdout",
     "output_type": "stream",
     "text": [
      "[249 138 828 903]\n",
      "[194 197 801 901]\n",
      "[235 200 807 902]\n",
      "[191 206 745 886]\n",
      "[169 126 800 997]\n",
      "[205 205 766 916]\n"
     ]
    },
    {
     "name": "stderr",
     "output_type": "stream",
     "text": [
      "preprocessing: 2569it [01:52, 24.51it/s]"
     ]
    },
    {
     "name": "stdout",
     "output_type": "stream",
     "text": [
      "[236 198 797 934]\n",
      "[266 179 836 899]\n",
      "[277 218 819 915]\n",
      "[152 170 780 934]\n",
      "[184 196 734 927]\n"
     ]
    },
    {
     "name": "stderr",
     "output_type": "stream",
     "text": [
      "preprocessing: 2575it [01:52, 24.27it/s]"
     ]
    },
    {
     "name": "stdout",
     "output_type": "stream",
     "text": [
      "[246 260 838 894]\n",
      "[370 166 886 864]\n",
      "[247 187 776 921]\n",
      "[151 211 767 807]\n",
      "[244 213 779 982]\n",
      "[317 145 932 923]\n"
     ]
    },
    {
     "name": "stderr",
     "output_type": "stream",
     "text": [
      "preprocessing: 2581it [01:52, 24.30it/s]"
     ]
    },
    {
     "name": "stdout",
     "output_type": "stream",
     "text": [
      "[265 187 740 893]\n",
      "[206 175 768 999]\n",
      "[265 206 847 877]\n",
      "[281 175 939 907]\n",
      "[297 149 826 996]\n",
      "[206 206 735 917]\n"
     ]
    },
    {
     "name": "stderr",
     "output_type": "stream",
     "text": [
      "preprocessing: 2587it [01:53, 24.30it/s]"
     ]
    },
    {
     "name": "stdout",
     "output_type": "stream",
     "text": [
      "[286 204 900 904]\n",
      "[176 153 756 919]\n",
      "[247 173 774 940]\n",
      "[173 150 737 905]\n",
      "[255 191 811 925]\n",
      "[186 189 755 876]\n"
     ]
    },
    {
     "name": "stderr",
     "output_type": "stream",
     "text": [
      "preprocessing: 2593it [01:53, 22.94it/s]"
     ]
    },
    {
     "name": "stdout",
     "output_type": "stream",
     "text": [
      "[293 164 883 916]\n",
      "[222 187 789 880]\n",
      "[270 168 805 950]\n",
      "[253 152 816 910]\n"
     ]
    },
    {
     "name": "stderr",
     "output_type": "stream",
     "text": [
      "\r",
      "preprocessing: 2596it [01:53, 21.51it/s]"
     ]
    },
    {
     "name": "stdout",
     "output_type": "stream",
     "text": [
      "[341 206 850 905]\n",
      "[186 180 768 960]\n",
      "[351 187 866 908]\n",
      "[228 152 782 933]\n",
      "[159 200 745 900]\n"
     ]
    },
    {
     "name": "stderr",
     "output_type": "stream",
     "text": [
      "preprocessing: 2602it [01:53, 21.94it/s]"
     ]
    },
    {
     "name": "stdout",
     "output_type": "stream",
     "text": [
      "[277 230 839 883]\n",
      "[251 148 834 891]\n",
      "[292 199 819 916]\n",
      "[230 157 764 912]\n",
      "[274 171 866 944]\n"
     ]
    },
    {
     "name": "stderr",
     "output_type": "stream",
     "text": [
      "preprocessing: 2608it [01:53, 24.03it/s]"
     ]
    },
    {
     "name": "stdout",
     "output_type": "stream",
     "text": [
      "[240 203 710 928]\n",
      "[220 155 804 942]\n",
      "[294 224 844 921]\n",
      "[189 228 768 899]\n",
      "[156 225 650 892]\n",
      "[225 175 791 943]\n"
     ]
    },
    {
     "name": "stderr",
     "output_type": "stream",
     "text": [
      "preprocessing: 2614it [01:54, 24.01it/s]"
     ]
    },
    {
     "name": "stdout",
     "output_type": "stream",
     "text": [
      "[239 241 774 837]\n",
      "[225 158 790 952]\n",
      "[231 138 815 973]\n",
      "[188 194 744 859]\n",
      "[163 199 770 984]\n",
      "[250 174 834 935]\n"
     ]
    },
    {
     "name": "stderr",
     "output_type": "stream",
     "text": [
      "preprocessing: 2620it [01:54, 24.07it/s]"
     ]
    },
    {
     "name": "stdout",
     "output_type": "stream",
     "text": [
      "[275 190 823 890]\n",
      "[290 180 897 877]\n",
      "[322 197 929 957]\n",
      "[187 192 745 887]\n",
      "[ 88 112 681 890]\n",
      "[235 199 777 938]\n"
     ]
    },
    {
     "name": "stderr",
     "output_type": "stream",
     "text": [
      "preprocessing: 2626it [01:54, 24.20it/s]"
     ]
    },
    {
     "name": "stdout",
     "output_type": "stream",
     "text": [
      "[279 136 844 937]\n",
      "[154 114 759 951]\n",
      "[182 221 757 872]\n",
      "[254 135 821 971]\n",
      "[175 212 730 989]\n",
      "[324 245 839 912]\n"
     ]
    },
    {
     "name": "stderr",
     "output_type": "stream",
     "text": [
      "preprocessing: 2632it [01:54, 24.12it/s]"
     ]
    },
    {
     "name": "stdout",
     "output_type": "stream",
     "text": [
      "[268 265 790 883]\n",
      "[239 166 768 927]\n",
      "[339 149 939 930]\n",
      "[278 220 846 924]\n",
      "[154 179 692 897]\n",
      "[287 193 835 888]\n"
     ]
    },
    {
     "name": "stderr",
     "output_type": "stream",
     "text": [
      "preprocessing: 2638it [01:55, 24.57it/s]"
     ]
    },
    {
     "name": "stdout",
     "output_type": "stream",
     "text": [
      "[263 165 791 945]\n",
      "[216 206 776 904]\n",
      "[265 201 807 927]\n",
      "[282 178 893 932]\n",
      "[194 174 752 938]\n"
     ]
    },
    {
     "name": "stderr",
     "output_type": "stream",
     "text": [
      "\r",
      "preprocessing: 2641it [01:55, 24.20it/s]"
     ]
    },
    {
     "name": "stdout",
     "output_type": "stream",
     "text": [
      "[303 181 879 941]\n",
      "[259  63 826 969]\n",
      "[229 190 753 908]\n",
      "[156 205 754 880]\n",
      "[175 151 689 898]\n",
      "[238 175 795 939]\n"
     ]
    },
    {
     "name": "stderr",
     "output_type": "stream",
     "text": [
      "preprocessing: 2647it [01:55, 24.14it/s]"
     ]
    },
    {
     "name": "stdout",
     "output_type": "stream",
     "text": [
      "[280 117 904 893]\n",
      "[297 156 844 938]\n",
      "[278 195 743 869]\n",
      "[229 186 777 904]\n",
      "[257 193 809 908]\n"
     ]
    },
    {
     "name": "stderr",
     "output_type": "stream",
     "text": [
      "preprocessing: 2653it [01:55, 24.57it/s]"
     ]
    },
    {
     "name": "stdout",
     "output_type": "stream",
     "text": [
      "[112 138 731 959]\n",
      "[134 181 719 960]\n",
      "[296 155 789 820]\n",
      "[137 160 742 881]\n",
      "[227 188 782 957]\n"
     ]
    },
    {
     "name": "stderr",
     "output_type": "stream",
     "text": [
      "preprocessing: 2659it [01:56, 24.45it/s]"
     ]
    },
    {
     "name": "stdout",
     "output_type": "stream",
     "text": [
      "[195 166 766 999]\n",
      "[241 210 808 883]\n",
      "[203 186 774 965]\n",
      "[280 202 773 924]\n",
      "[234 189 799 904]\n"
     ]
    },
    {
     "name": "stderr",
     "output_type": "stream",
     "text": [
      "\r",
      "preprocessing: 2662it [01:56, 24.12it/s]"
     ]
    },
    {
     "name": "stdout",
     "output_type": "stream",
     "text": [
      "[212 224 787 916]\n",
      "[231 225 806 939]\n",
      "[189 199 760 904]\n",
      "[320 169 889 877]\n",
      "[250 161 858 922]\n"
     ]
    },
    {
     "name": "stderr",
     "output_type": "stream",
     "text": [
      "preprocessing: 2668it [01:56, 24.10it/s]"
     ]
    },
    {
     "name": "stdout",
     "output_type": "stream",
     "text": [
      "[182 168 766 927]\n",
      "[219 205 716 921]\n",
      "[216 180 757 899]\n",
      "[240 145 792 892]\n",
      "[267 215 794 918]\n"
     ]
    },
    {
     "name": "stderr",
     "output_type": "stream",
     "text": [
      "preprocessing: 2674it [01:56, 24.55it/s]"
     ]
    },
    {
     "name": "stdout",
     "output_type": "stream",
     "text": [
      "[208 166 766 895]\n",
      "[222 186 804 948]\n",
      "[241 187 791 855]\n",
      "[304 169 770 909]\n",
      "[148 173 699 898]\n",
      "[234 193 752 864]\n"
     ]
    },
    {
     "name": "stderr",
     "output_type": "stream",
     "text": [
      "preprocessing: 2680it [01:56, 24.92it/s]"
     ]
    },
    {
     "name": "stdout",
     "output_type": "stream",
     "text": [
      "[274 163 830 930]\n",
      "[274 180 877 964]\n",
      "[229 175 783 924]\n",
      "[291 239 848 883]\n",
      "[235 257 781 896]\n",
      "[233 257 828 847]\n"
     ]
    },
    {
     "name": "stderr",
     "output_type": "stream",
     "text": [
      "preprocessing: 2686it [01:57, 24.60it/s]"
     ]
    },
    {
     "name": "stdout",
     "output_type": "stream",
     "text": [
      "[262 198 778 902]\n",
      "[170 158 750 931]\n",
      "[221 223 765 932]\n",
      "[147 197 717 867]\n",
      "[243 134 823 962]\n"
     ]
    },
    {
     "name": "stderr",
     "output_type": "stream",
     "text": [
      "\r",
      "preprocessing: 2689it [01:57, 24.74it/s]"
     ]
    },
    {
     "name": "stdout",
     "output_type": "stream",
     "text": [
      "[283 113 888 893]\n",
      "[270 192 807 878]\n",
      "[284  83 921 918]\n",
      "[205 191 746 902]\n",
      "[224 173 776 911]\n"
     ]
    },
    {
     "name": "stderr",
     "output_type": "stream",
     "text": [
      "preprocessing: 2695it [01:57, 24.53it/s]"
     ]
    },
    {
     "name": "stdout",
     "output_type": "stream",
     "text": [
      "[263 173 834 867]\n",
      "[223 189 762 896]\n",
      "[183 152 747 961]\n",
      "[203 165 746 937]\n",
      "[324 224 836 860]\n"
     ]
    },
    {
     "name": "stderr",
     "output_type": "stream",
     "text": [
      "\r",
      "preprocessing: 2698it [01:57, 24.19it/s]"
     ]
    },
    {
     "name": "stdout",
     "output_type": "stream",
     "text": [
      "[224 151 780 918]\n",
      "[319 206 902 879]\n",
      "[215 242 742 928]\n",
      "[215 184 806 864]\n"
     ]
    },
    {
     "name": "stderr",
     "output_type": "stream",
     "text": [
      "preprocessing: 2704it [01:57, 20.79it/s]"
     ]
    },
    {
     "name": "stdout",
     "output_type": "stream",
     "text": [
      "[260 158 894 959]\n",
      "[270 226 851 914]\n",
      "[192 170 765 993]\n",
      "[237 174 859 885]\n",
      "[229 170 755 948]\n"
     ]
    },
    {
     "name": "stderr",
     "output_type": "stream",
     "text": [
      "preprocessing: 2710it [01:58, 23.60it/s]"
     ]
    },
    {
     "name": "stdout",
     "output_type": "stream",
     "text": [
      "[260 184 844 854]\n",
      "[202 188 761 917]\n",
      "[238 206 803 932]\n",
      "[261 154 833 872]\n",
      "[160 186 709 870]\n",
      "[267 189 800 911]\n"
     ]
    },
    {
     "name": "stderr",
     "output_type": "stream",
     "text": [
      "preprocessing: 2716it [01:58, 24.63it/s]"
     ]
    },
    {
     "name": "stdout",
     "output_type": "stream",
     "text": [
      "[151 112 728 957]\n",
      "[249 193 797 924]\n",
      "[233 151 802 917]\n",
      "[300 181 838 883]\n",
      "[170 216 731 961]\n",
      "[250 218 768 929]\n"
     ]
    },
    {
     "name": "stderr",
     "output_type": "stream",
     "text": [
      "preprocessing: 2722it [01:58, 23.12it/s]"
     ]
    },
    {
     "name": "stdout",
     "output_type": "stream",
     "text": [
      "[290 183 849 846]\n",
      "[200 219 774 910]\n",
      "[232 159 791 862]\n",
      "[381 136 908 912]\n",
      "[287 203 889 860]\n"
     ]
    },
    {
     "name": "stderr",
     "output_type": "stream",
     "text": [
      "\r",
      "preprocessing: 2725it [01:58, 22.79it/s]"
     ]
    },
    {
     "name": "stdout",
     "output_type": "stream",
     "text": [
      "[ 99 183 736 943]\n",
      "[243 203 773 950]\n",
      "[270 225 823 898]\n",
      "[222 181 775 904]\n",
      "[227 182 858 976]\n",
      "[200 172 747 889]\n"
     ]
    },
    {
     "name": "stderr",
     "output_type": "stream",
     "text": [
      "preprocessing: 2731it [01:59, 24.19it/s]"
     ]
    },
    {
     "name": "stdout",
     "output_type": "stream",
     "text": [
      "[142 147 722 950]\n",
      "[193 191 750 915]\n",
      "[116 166 720 936]\n",
      "[274 153 823 909]\n",
      "[199 200 759 909]\n",
      "[280 183 874 918]\n"
     ]
    },
    {
     "name": "stderr",
     "output_type": "stream",
     "text": [
      "preprocessing: 2737it [01:59, 24.94it/s]"
     ]
    },
    {
     "name": "stdout",
     "output_type": "stream",
     "text": [
      "[234 218 761 912]\n",
      "[290 200 831 875]\n",
      "[281 176 791 824]\n",
      "[273 198 808 891]\n",
      "[275 241 783 892]\n",
      "[209 197 768 813]\n"
     ]
    },
    {
     "name": "stderr",
     "output_type": "stream",
     "text": [
      "preprocessing: 2743it [01:59, 24.15it/s]"
     ]
    },
    {
     "name": "stdout",
     "output_type": "stream",
     "text": [
      "[290 188 860 874]\n",
      "[100 127 646 937]\n",
      "[258 174 863 922]\n",
      "[240 231 779 906]\n",
      "[196 205 726 857]\n"
     ]
    },
    {
     "name": "stderr",
     "output_type": "stream",
     "text": [
      "preprocessing: 2749it [01:59, 24.23it/s]"
     ]
    },
    {
     "name": "stdout",
     "output_type": "stream",
     "text": [
      "[292 229 797 948]\n",
      "[251 164 788 907]\n",
      "[216 160 768 914]\n",
      "[279 211 807 888]\n",
      "[209 184 756 872]\n"
     ]
    },
    {
     "name": "stderr",
     "output_type": "stream",
     "text": [
      "preprocessing: 2755it [02:00, 23.81it/s]"
     ]
    },
    {
     "name": "stdout",
     "output_type": "stream",
     "text": [
      "[271 190 812 918]\n",
      "[213 226 805 845]\n",
      "[263 170 832 930]\n",
      "[243 202 788 932]\n",
      "[269 225 759 874]\n",
      "[228 194 771 910]\n"
     ]
    },
    {
     "name": "stderr",
     "output_type": "stream",
     "text": [
      "preprocessing: 2761it [02:00, 23.93it/s]"
     ]
    },
    {
     "name": "stdout",
     "output_type": "stream",
     "text": [
      "[215 227 753 909]\n",
      "[295 170 827 872]\n",
      "[294 196 877 949]\n",
      "[214 211 774 920]\n",
      "[236 192 766 877]\n",
      "[287 159 859 910]\n"
     ]
    },
    {
     "name": "stderr",
     "output_type": "stream",
     "text": [
      "preprocessing: 2767it [02:00, 24.00it/s]"
     ]
    },
    {
     "name": "stdout",
     "output_type": "stream",
     "text": [
      "[233 216 809 926]\n",
      "[155 156 696 883]\n",
      "[221 211 741 880]\n",
      "[277 180 838 989]\n",
      "[245 225 781 943]\n"
     ]
    },
    {
     "name": "stderr",
     "output_type": "stream",
     "text": [
      "\r",
      "preprocessing: 2770it [02:00, 24.29it/s]"
     ]
    },
    {
     "name": "stdout",
     "output_type": "stream",
     "text": [
      "[219 197 759 891]\n",
      "[237 168 831 866]\n",
      "[219 192 765 909]\n",
      "[178 151 732 938]\n",
      "[263 226 833 889]\n",
      "[209  82 719 934]\n"
     ]
    },
    {
     "name": "stderr",
     "output_type": "stream",
     "text": [
      "preprocessing: 2776it [02:00, 24.32it/s]"
     ]
    },
    {
     "name": "stdout",
     "output_type": "stream",
     "text": [
      "[302 196 750 861]\n",
      "[187 145 742 959]\n",
      "[225 141 748 868]\n",
      "[258 179 862 967]\n",
      "[186 198 734 929]\n",
      "[262 181 812 911]\n"
     ]
    },
    {
     "name": "stderr",
     "output_type": "stream",
     "text": [
      "preprocessing: 2782it [02:01, 23.86it/s]"
     ]
    },
    {
     "name": "stdout",
     "output_type": "stream",
     "text": [
      "[263 157 831 947]\n",
      "[271 214 804 952]\n",
      "[287 165 880 962]\n",
      "[276 227 806 898]\n",
      "[261 186 793 938]\n"
     ]
    },
    {
     "name": "stderr",
     "output_type": "stream",
     "text": [
      "preprocessing: 2788it [02:01, 23.64it/s]"
     ]
    },
    {
     "name": "stdout",
     "output_type": "stream",
     "text": [
      "[248 104 833 902]\n",
      "[158 158 680 902]\n",
      "[194 171 767 926]\n",
      "[263 216 833 849]\n",
      "[209 205 771 894]\n"
     ]
    },
    {
     "name": "stderr",
     "output_type": "stream",
     "text": [
      "preprocessing: 2794it [02:01, 24.31it/s]"
     ]
    },
    {
     "name": "stdout",
     "output_type": "stream",
     "text": [
      "[212 221 765 843]\n",
      "[239 178 824 842]\n",
      "[247 204 802 878]\n",
      "[248 189 789 891]\n",
      "[ 97 160 741 940]\n",
      "[341 229 791 867]\n"
     ]
    },
    {
     "name": "stderr",
     "output_type": "stream",
     "text": [
      "\r",
      "preprocessing: 2797it [02:01, 24.52it/s]"
     ]
    },
    {
     "name": "stdout",
     "output_type": "stream",
     "text": [
      "[283 210 849 899]\n",
      "[202 136 762 978]\n",
      "[223 120 790 903]\n",
      "[171 160 768 930]\n",
      "[265 205 816 937]\n"
     ]
    },
    {
     "name": "stderr",
     "output_type": "stream",
     "text": [
      "preprocessing: 2803it [02:02, 20.94it/s]"
     ]
    },
    {
     "name": "stdout",
     "output_type": "stream",
     "text": [
      "[146 143 779 972]\n",
      "[311 191 833 852]\n",
      "[ 224  109  808 1008]\n",
      "[282 161 888 936]\n",
      "[259 170 790 909]\n"
     ]
    },
    {
     "name": "stderr",
     "output_type": "stream",
     "text": [
      "preprocessing: 2809it [02:02, 22.96it/s]"
     ]
    },
    {
     "name": "stdout",
     "output_type": "stream",
     "text": [
      "[240 200 776 873]\n",
      "[294 191 877 841]\n",
      "[197 203 800 939]\n",
      "[246 173 872 953]\n",
      "[141 143 759 898]\n",
      "[203 158 761 955]\n"
     ]
    },
    {
     "name": "stderr",
     "output_type": "stream",
     "text": [
      "preprocessing: 2815it [02:02, 25.11it/s]"
     ]
    },
    {
     "name": "stdout",
     "output_type": "stream",
     "text": [
      "[157 145 702 928]\n",
      "[275 211 822 908]\n",
      "[212 145 794 929]\n",
      "[256 226 791 876]\n",
      "[242 182 844 912]\n",
      "[258 184 804 928]\n"
     ]
    },
    {
     "name": "stderr",
     "output_type": "stream",
     "text": [
      "preprocessing: 2821it [02:02, 24.56it/s]"
     ]
    },
    {
     "name": "stdout",
     "output_type": "stream",
     "text": [
      "[213 293 763 878]\n",
      "[215 195 704 848]\n",
      "[224 197 785 910]\n",
      "[240 197 770 905]\n",
      "[351 184 911 938]\n"
     ]
    },
    {
     "name": "stderr",
     "output_type": "stream",
     "text": [
      "preprocessing: 2827it [02:03, 24.30it/s]"
     ]
    },
    {
     "name": "stdout",
     "output_type": "stream",
     "text": [
      "[200 122 730 972]\n",
      "[203 105 801 987]\n",
      "[254 208 792 896]\n",
      "[227 245 702 935]\n",
      "[270 141 864 941]\n"
     ]
    },
    {
     "name": "stderr",
     "output_type": "stream",
     "text": [
      "\r",
      "preprocessing: 2830it [02:03, 24.50it/s]"
     ]
    },
    {
     "name": "stdout",
     "output_type": "stream",
     "text": [
      "[141 188 672 927]\n",
      "[236 246 784 910]\n",
      "[260 252 829 920]\n",
      "[239 200 773 881]\n",
      "[264 174 802 960]\n",
      "[228 175 842 891]\n"
     ]
    },
    {
     "name": "stderr",
     "output_type": "stream",
     "text": [
      "preprocessing: 2836it [02:03, 23.96it/s]"
     ]
    },
    {
     "name": "stdout",
     "output_type": "stream",
     "text": [
      "[275 161 841 889]\n",
      "[227 186 779 889]\n",
      "[225 199 732 937]\n",
      "[269 269 787 812]\n",
      "[256 152 804 902]\n"
     ]
    },
    {
     "name": "stderr",
     "output_type": "stream",
     "text": [
      "preprocessing: 2842it [02:03, 24.48it/s]"
     ]
    },
    {
     "name": "stdout",
     "output_type": "stream",
     "text": [
      "[280  78 822 904]\n",
      "[187 182 789 931]\n",
      "[274 207 823 915]\n",
      "[238 156 810 932]\n",
      "[258 262 790 818]\n",
      "[166 136 766 955]\n"
     ]
    },
    {
     "name": "stderr",
     "output_type": "stream",
     "text": [
      "preprocessing: 2848it [02:03, 23.93it/s]"
     ]
    },
    {
     "name": "stdout",
     "output_type": "stream",
     "text": [
      "[270 172 841 912]\n",
      "[192 175 764 910]\n",
      "[257 171 813 886]\n",
      "[239 218 761 954]\n",
      "[195 140 772 886]\n"
     ]
    },
    {
     "name": "stderr",
     "output_type": "stream",
     "text": [
      "preprocessing: 2854it [02:04, 24.14it/s]"
     ]
    },
    {
     "name": "stdout",
     "output_type": "stream",
     "text": [
      "[233 243 748 896]\n",
      "[260 177 818 890]\n",
      "[234 185 809 924]\n",
      "[173 173 770 885]\n",
      "[279 177 922 987]\n"
     ]
    },
    {
     "name": "stderr",
     "output_type": "stream",
     "text": [
      "\r",
      "preprocessing: 2857it [02:04, 24.39it/s]"
     ]
    },
    {
     "name": "stdout",
     "output_type": "stream",
     "text": [
      "[283 201 823 847]\n",
      "[273 179 782 839]\n",
      "[157 147 745 943]\n",
      "[260 165 869 842]\n",
      "[262 207 799 854]\n"
     ]
    },
    {
     "name": "stderr",
     "output_type": "stream",
     "text": [
      "preprocessing: 2863it [02:04, 24.36it/s]"
     ]
    },
    {
     "name": "stdout",
     "output_type": "stream",
     "text": [
      "[273 141 846 882]\n",
      "[211 191 759 986]\n",
      "[181 201 703 902]\n",
      "[280 216 856 934]\n",
      "[201 185 743 949]\n",
      "[214 214 769 849]\n"
     ]
    },
    {
     "name": "stderr",
     "output_type": "stream",
     "text": [
      "preprocessing: 2869it [02:04, 24.34it/s]"
     ]
    },
    {
     "name": "stdout",
     "output_type": "stream",
     "text": [
      "[240 230 768 874]\n",
      "[201 212 756 924]\n",
      "[237 234 799 905]\n",
      "[242 203 809 964]\n",
      "[238 175 776 876]\n",
      "[249 203 767 903]\n"
     ]
    },
    {
     "name": "stderr",
     "output_type": "stream",
     "text": [
      "preprocessing: 2875it [02:05, 24.20it/s]"
     ]
    },
    {
     "name": "stdout",
     "output_type": "stream",
     "text": [
      "[179 210 736 895]\n",
      "[290 162 867 914]\n",
      "[279 165 821 906]\n",
      "[272 137 781 945]\n",
      "[257 194 814 904]\n"
     ]
    },
    {
     "name": "stderr",
     "output_type": "stream",
     "text": [
      "preprocessing: 2881it [02:05, 24.60it/s]"
     ]
    },
    {
     "name": "stdout",
     "output_type": "stream",
     "text": [
      "[213 229 788 825]\n",
      "[178 171 747 919]\n",
      "[255 217 782 854]\n",
      "[264 173 790 917]\n",
      "[143 147 751 955]\n",
      "[259 172 782 903]\n"
     ]
    },
    {
     "name": "stderr",
     "output_type": "stream",
     "text": [
      "preprocessing: 2887it [02:05, 23.99it/s]"
     ]
    },
    {
     "name": "stdout",
     "output_type": "stream",
     "text": [
      "[242 199 812 877]\n",
      "[239 193 821 887]\n",
      "[135 183 782 880]\n",
      "[285 133 827 927]\n",
      "[333 187 896 896]\n"
     ]
    },
    {
     "name": "stderr",
     "output_type": "stream",
     "text": [
      "\r",
      "preprocessing: 2890it [02:05, 24.28it/s]"
     ]
    },
    {
     "name": "stdout",
     "output_type": "stream",
     "text": [
      "[283 164 846 844]\n",
      "[120 190 747 918]\n",
      "[218 209 792 901]\n",
      "[220 204 785 901]\n",
      "[239 290 741 859]\n"
     ]
    },
    {
     "name": "stderr",
     "output_type": "stream",
     "text": [
      "preprocessing: 2896it [02:05, 23.83it/s]"
     ]
    },
    {
     "name": "stdout",
     "output_type": "stream",
     "text": [
      "[206 175 801 926]\n",
      "[228 207 864 842]\n",
      "[213 199 778 939]\n",
      "[253 207 813 979]\n",
      "[229 193 746 872]\n"
     ]
    },
    {
     "name": "stderr",
     "output_type": "stream",
     "text": [
      "\r",
      "preprocessing: 2899it [02:06, 23.72it/s]"
     ]
    },
    {
     "name": "stdout",
     "output_type": "stream",
     "text": [
      "[228 184 743 865]\n",
      "[198 195 756 941]\n",
      "[229 197 774 887]\n"
     ]
    },
    {
     "name": "stderr",
     "output_type": "stream",
     "text": [
      "\r",
      "preprocessing: 2902it [02:06, 20.19it/s]"
     ]
    },
    {
     "name": "stdout",
     "output_type": "stream",
     "text": [
      "[154 161 771 901]\n",
      "[264 174 791 937]\n",
      "[224 136 768 906]\n",
      "[175 201 735 940]\n",
      "[317 210 820 880]\n"
     ]
    },
    {
     "name": "stderr",
     "output_type": "stream",
     "text": [
      "preprocessing: 2911it [02:06, 23.88it/s]"
     ]
    },
    {
     "name": "stdout",
     "output_type": "stream",
     "text": [
      "[260 179 826 910]\n",
      "[237 207 783 894]\n",
      "[151 139 685 902]\n",
      "[243 228 742 892]\n",
      "[255 136 808 901]\n",
      "[201 204 735 919]\n"
     ]
    },
    {
     "name": "stderr",
     "output_type": "stream",
     "text": [
      "\r",
      "preprocessing: 2914it [02:06, 24.68it/s]"
     ]
    },
    {
     "name": "stdout",
     "output_type": "stream",
     "text": [
      "[250 182 787 951]\n",
      "[213 197 780 951]\n",
      "[261 202 813 871]\n",
      "[263 163 841 904]\n",
      "[252 188 885 926]\n",
      "[200 200 778 855]\n"
     ]
    },
    {
     "name": "stderr",
     "output_type": "stream",
     "text": [
      "preprocessing: 2920it [02:06, 24.34it/s]"
     ]
    },
    {
     "name": "stdout",
     "output_type": "stream",
     "text": [
      "[233 200 815 891]\n",
      "[126 148 763 911]\n",
      "[129 191 769 939]\n",
      "[162 143 775 913]\n",
      "[269 122 787 925]\n"
     ]
    },
    {
     "name": "stderr",
     "output_type": "stream",
     "text": [
      "preprocessing: 2926it [02:07, 23.88it/s]"
     ]
    },
    {
     "name": "stdout",
     "output_type": "stream",
     "text": [
      "[209 211 779 840]\n",
      "[221 174 743 938]\n",
      "[273 185 775 939]\n",
      "[179 244 741 942]\n",
      "[186 183 744 939]\n"
     ]
    },
    {
     "name": "stderr",
     "output_type": "stream",
     "text": [
      "preprocessing: 2932it [02:07, 24.11it/s]"
     ]
    },
    {
     "name": "stdout",
     "output_type": "stream",
     "text": [
      "[240 201 798 936]\n",
      "[238 189 796 856]\n",
      "[263 207 789 904]\n",
      "[284 157 870 952]\n",
      "[280 215 827 903]\n"
     ]
    },
    {
     "name": "stderr",
     "output_type": "stream",
     "text": [
      "\r",
      "preprocessing: 2935it [02:07, 23.89it/s]"
     ]
    },
    {
     "name": "stdout",
     "output_type": "stream",
     "text": [
      "[243 182 818 957]\n",
      "[255 222 762 866]\n",
      "[192 184 753 878]\n",
      "[236 196 815 909]\n",
      "[231 215 764 894]\n",
      "[227 197 764 911]\n"
     ]
    },
    {
     "name": "stderr",
     "output_type": "stream",
     "text": [
      "preprocessing: 2941it [02:07, 23.98it/s]"
     ]
    },
    {
     "name": "stdout",
     "output_type": "stream",
     "text": [
      "[225 171 784 896]\n",
      "[306 190 897 894]\n",
      "[165 123 743 944]\n",
      "[179 181 764 935]\n",
      "[290 222 850 921]\n",
      "[197 193 729 937]\n"
     ]
    },
    {
     "name": "stderr",
     "output_type": "stream",
     "text": [
      "preprocessing: 2947it [02:08, 24.02it/s]"
     ]
    },
    {
     "name": "stdout",
     "output_type": "stream",
     "text": [
      "[142 171 736 884]\n",
      "[278 195 763 947]\n",
      "[147  79 756 973]\n",
      "[259 186 766 934]\n",
      "[218 207 778 879]\n"
     ]
    },
    {
     "name": "stderr",
     "output_type": "stream",
     "text": [
      "preprocessing: 2953it [02:08, 24.04it/s]"
     ]
    },
    {
     "name": "stdout",
     "output_type": "stream",
     "text": [
      "[257 157 833 920]\n",
      "[277 234 764 905]\n",
      "[272 177 812 888]\n",
      "[200 202 778 923]\n",
      "[236 212 791 876]\n"
     ]
    },
    {
     "name": "stderr",
     "output_type": "stream",
     "text": [
      "preprocessing: 2959it [02:08, 24.05it/s]"
     ]
    },
    {
     "name": "stdout",
     "output_type": "stream",
     "text": [
      "[363 226 901 852]\n",
      "[152 187 743 935]\n",
      "[223 190 779 887]\n",
      "[162 218 765 969]\n",
      "[242 151 786 930]\n"
     ]
    },
    {
     "name": "stderr",
     "output_type": "stream",
     "text": [
      "\r",
      "preprocessing: 2962it [02:08, 23.84it/s]"
     ]
    },
    {
     "name": "stdout",
     "output_type": "stream",
     "text": [
      "[191 185 767 969]\n",
      "[217 161 783 910]\n",
      "[199 181 771 919]\n",
      "[189 184 761 906]\n",
      "[301 241 843 909]\n"
     ]
    },
    {
     "name": "stderr",
     "output_type": "stream",
     "text": [
      "preprocessing: 2968it [02:08, 23.96it/s]"
     ]
    },
    {
     "name": "stdout",
     "output_type": "stream",
     "text": [
      "[304 246 862 939]\n",
      "[206 215 797 865]\n",
      "[273 181 833 894]\n",
      "[139 117 730 933]\n",
      "[234 186 752 928]\n"
     ]
    },
    {
     "name": "stderr",
     "output_type": "stream",
     "text": [
      "preprocessing: 2974it [02:09, 23.69it/s]"
     ]
    },
    {
     "name": "stdout",
     "output_type": "stream",
     "text": [
      "[252 236 781 963]\n",
      "[260 109 812 923]\n",
      "[202 195 791 898]\n",
      "[279 167 843 917]\n",
      "[288 198 860 901]\n",
      "[189 205 773 905]\n"
     ]
    },
    {
     "name": "stderr",
     "output_type": "stream",
     "text": [
      "preprocessing: 2980it [02:09, 23.56it/s]"
     ]
    },
    {
     "name": "stdout",
     "output_type": "stream",
     "text": [
      "[214 180 761 935]\n",
      "[263 161 835 923]\n",
      "[161 185 716 918]\n",
      "[316 205 848 896]\n",
      "[200 198 751 868]\n"
     ]
    },
    {
     "name": "stderr",
     "output_type": "stream",
     "text": [
      "\r",
      "preprocessing: 2983it [02:09, 24.44it/s]"
     ]
    },
    {
     "name": "stdout",
     "output_type": "stream",
     "text": [
      "[274 142 858 920]\n",
      "[168 194 734 928]\n",
      "[319 169 895 988]\n",
      "[120 166 723 921]\n",
      "[283 195 880 901]\n",
      "[139 129 785 976]\n"
     ]
    },
    {
     "name": "stderr",
     "output_type": "stream",
     "text": [
      "preprocessing: 2989it [02:09, 24.23it/s]"
     ]
    },
    {
     "name": "stdout",
     "output_type": "stream",
     "text": [
      "[209 216 754 932]\n",
      "[213 228 762 926]\n",
      "[262 209 851 972]\n",
      "[192 177 785 913]\n",
      "[219 285 771 902]\n",
      "[231 209 802 914]\n"
     ]
    },
    {
     "name": "stderr",
     "output_type": "stream",
     "text": [
      "preprocessing: 2995it [02:10, 24.29it/s]"
     ]
    },
    {
     "name": "stdout",
     "output_type": "stream",
     "text": [
      "[247 131 842 910]\n",
      "[241 197 779 911]\n",
      "[246 252 785 889]\n",
      "[318 156 881 911]\n",
      "[277 177 820 928]\n"
     ]
    },
    {
     "name": "stderr",
     "output_type": "stream",
     "text": [
      "\r",
      "preprocessing: 2998it [02:10, 24.03it/s]"
     ]
    },
    {
     "name": "stdout",
     "output_type": "stream",
     "text": [
      "[233 192 773 932]\n",
      "[280 158 763 850]\n",
      "[195 110 759 997]\n",
      "[212 158 750 914]\n"
     ]
    },
    {
     "name": "stderr",
     "output_type": "stream",
     "text": [
      "preprocessing: 3004it [02:10, 20.73it/s]"
     ]
    },
    {
     "name": "stdout",
     "output_type": "stream",
     "text": [
      "[247 179 821 946]\n",
      "[237 225 782 936]\n",
      "[218 199 782 935]\n",
      "[227 194 807 967]\n",
      "[271 217 779 934]\n",
      "[300 251 834 899]\n"
     ]
    },
    {
     "name": "stderr",
     "output_type": "stream",
     "text": [
      "preprocessing: 3013it [02:10, 24.12it/s]"
     ]
    },
    {
     "name": "stdout",
     "output_type": "stream",
     "text": [
      "[178  87 780 808]\n",
      "[216 197 763 906]\n",
      "[217 213 788 827]\n",
      "[273 154 860 936]\n",
      "[255 233 825 948]\n",
      "[263 179 841 894]\n"
     ]
    },
    {
     "name": "stderr",
     "output_type": "stream",
     "text": [
      "\r",
      "preprocessing: 3016it [02:11, 24.37it/s]"
     ]
    },
    {
     "name": "stdout",
     "output_type": "stream",
     "text": [
      "[204 191 755 842]\n",
      "[167 126 717 910]\n",
      "[ 93 104 739 957]\n",
      "[170 201 760 902]\n",
      "[263 210 795 884]\n"
     ]
    },
    {
     "name": "stderr",
     "output_type": "stream",
     "text": [
      "preprocessing: 3022it [02:11, 23.89it/s]"
     ]
    },
    {
     "name": "stdout",
     "output_type": "stream",
     "text": [
      "[122 199 722 914]\n",
      "[221 197 731 829]\n",
      "[256 188 868 920]\n",
      "[258 232 804 931]\n",
      "[280 191 868 887]\n"
     ]
    },
    {
     "name": "stderr",
     "output_type": "stream",
     "text": [
      "preprocessing: 3028it [02:11, 23.79it/s]"
     ]
    },
    {
     "name": "stdout",
     "output_type": "stream",
     "text": [
      "[281 215 845 901]\n",
      "[261 205 808 971]\n",
      "[162 174 769 933]\n",
      "[181 185 732 950]\n",
      "[244 216 826 921]\n"
     ]
    },
    {
     "name": "stderr",
     "output_type": "stream",
     "text": [
      "\r",
      "preprocessing: 3031it [02:11, 23.65it/s]"
     ]
    },
    {
     "name": "stdout",
     "output_type": "stream",
     "text": [
      "[280 214 813 874]\n",
      "[273 135 907 904]\n",
      "[299 239 879 858]\n",
      "[233 195 771 840]\n",
      "[128 133 723 951]\n"
     ]
    },
    {
     "name": "stderr",
     "output_type": "stream",
     "text": [
      "preprocessing: 3037it [02:11, 24.29it/s]"
     ]
    },
    {
     "name": "stdout",
     "output_type": "stream",
     "text": [
      "[254 188 806 955]\n",
      "[206 208 794 890]\n",
      "[223 188 779 930]\n",
      "[235 191 764 896]\n",
      "[201 244 789 915]\n",
      "[190 260 772 852]\n"
     ]
    },
    {
     "name": "stderr",
     "output_type": "stream",
     "text": [
      "preprocessing: 3043it [02:12, 24.19it/s]"
     ]
    },
    {
     "name": "stdout",
     "output_type": "stream",
     "text": [
      "[250 188 779 858]\n",
      "[270 149 846 909]\n",
      "[178 104 808 841]\n",
      "[230 255 775 866]\n",
      "[168 161 757 921]\n"
     ]
    },
    {
     "name": "stderr",
     "output_type": "stream",
     "text": [
      "preprocessing: 3049it [02:12, 23.94it/s]"
     ]
    },
    {
     "name": "stdout",
     "output_type": "stream",
     "text": [
      "[273 226 806 893]\n",
      "[219 163 862 926]\n",
      "[251 165 795 887]\n",
      "[252 211 781 899]\n",
      "[233 155 811 869]\n"
     ]
    },
    {
     "name": "stderr",
     "output_type": "stream",
     "text": [
      "\r",
      "preprocessing: 3052it [02:12, 23.78it/s]"
     ]
    },
    {
     "name": "stdout",
     "output_type": "stream",
     "text": [
      "[223 196 779 901]\n",
      "[217 170 763 944]\n",
      "[176 204 749 966]\n",
      "[273 187 794 901]\n",
      "[242 106 802 869]\n",
      "[217 215 749 940]\n"
     ]
    },
    {
     "name": "stderr",
     "output_type": "stream",
     "text": [
      "preprocessing: 3058it [02:12, 24.06it/s]"
     ]
    },
    {
     "name": "stdout",
     "output_type": "stream",
     "text": [
      "[215 205 779 910]\n",
      "[254 275 824 969]\n",
      "[183 118 781 882]\n",
      "[295 129 915 931]\n",
      "[268 170 872 918]\n",
      "[219 185 767 906]\n"
     ]
    },
    {
     "name": "stderr",
     "output_type": "stream",
     "text": [
      "preprocessing: 3064it [02:13, 23.74it/s]"
     ]
    },
    {
     "name": "stdout",
     "output_type": "stream",
     "text": [
      "[203 187 773 955]\n",
      "[246 228 775 907]\n",
      "[229 213 765 875]\n",
      "[260 204 836 896]\n",
      "[222 193 770 896]\n"
     ]
    },
    {
     "name": "stderr",
     "output_type": "stream",
     "text": [
      "preprocessing: 3070it [02:13, 23.27it/s]"
     ]
    },
    {
     "name": "stdout",
     "output_type": "stream",
     "text": [
      "[260 214 819 854]\n",
      "[283 157 882 913]\n",
      "[361 222 875 926]\n",
      "[213 226 758 854]\n",
      "[279 170 848 915]\n"
     ]
    },
    {
     "name": "stderr",
     "output_type": "stream",
     "text": [
      "preprocessing: 3076it [02:13, 23.23it/s]"
     ]
    },
    {
     "name": "stdout",
     "output_type": "stream",
     "text": [
      "[213 111 780 967]\n",
      "[316 203 847 875]\n",
      "[144 134 782 948]\n",
      "[238 182 838 924]\n",
      "[143 140 726 921]\n"
     ]
    },
    {
     "name": "stderr",
     "output_type": "stream",
     "text": [
      "\r",
      "preprocessing: 3079it [02:13, 23.29it/s]"
     ]
    },
    {
     "name": "stdout",
     "output_type": "stream",
     "text": [
      "[223 220 756 865]\n",
      "[329 146 948 936]\n",
      "[185 180 749 955]\n",
      "[250 144 826 879]\n",
      "[159 238 781 897]\n"
     ]
    },
    {
     "name": "stderr",
     "output_type": "stream",
     "text": [
      "preprocessing: 3085it [02:13, 23.36it/s]"
     ]
    },
    {
     "name": "stdout",
     "output_type": "stream",
     "text": [
      "[221 180 761 910]\n",
      "[271 177 870 906]\n",
      "[246 223 757 967]\n",
      "[238 165 791 978]\n",
      "[251 174 780 899]\n",
      "[159 203 741 855]\n"
     ]
    },
    {
     "name": "stderr",
     "output_type": "stream",
     "text": [
      "preprocessing: 3091it [02:14, 23.40it/s]"
     ]
    },
    {
     "name": "stdout",
     "output_type": "stream",
     "text": [
      "[279 171 904 962]\n",
      "[215 263 815 877]\n",
      "[197 195 759 888]\n",
      "[330 212 852 974]\n",
      "[184 150 791 984]\n"
     ]
    },
    {
     "name": "stderr",
     "output_type": "stream",
     "text": [
      "\r",
      "preprocessing: 3094it [02:14, 23.41it/s]"
     ]
    },
    {
     "name": "stdout",
     "output_type": "stream",
     "text": [
      "[214 228 763 939]\n",
      "[230 223 775 878]\n",
      "[219 222 738 936]\n",
      "[231 202 771 975]\n",
      "[230 108 782 919]\n"
     ]
    },
    {
     "name": "stderr",
     "output_type": "stream",
     "text": [
      "preprocessing: 3100it [02:14, 21.39it/s]"
     ]
    },
    {
     "name": "stdout",
     "output_type": "stream",
     "text": [
      "[185 200 768 962]\n",
      "[222 199 756 894]\n",
      "[145 230 758 912]\n"
     ]
    },
    {
     "name": "stderr",
     "output_type": "stream",
     "text": [
      "\r",
      "preprocessing: 3103it [02:14, 20.53it/s]"
     ]
    },
    {
     "name": "stdout",
     "output_type": "stream",
     "text": [
      "[305 189 919 823]\n",
      "[237 146 813 878]\n",
      "[296 188 913 922]\n",
      "[177 133 750 885]\n",
      "[268 169 914 979]\n"
     ]
    },
    {
     "name": "stderr",
     "output_type": "stream",
     "text": [
      "preprocessing: 3109it [02:15, 22.71it/s]"
     ]
    },
    {
     "name": "stdout",
     "output_type": "stream",
     "text": [
      "[256 194 813 947]\n",
      "[253 193 791 929]\n",
      "[220 177 782 953]\n",
      "[227 197 817 950]\n",
      "[342 183 902 815]\n",
      "[296 128 902 925]\n"
     ]
    },
    {
     "name": "stderr",
     "output_type": "stream",
     "text": [
      "preprocessing: 3115it [02:15, 24.48it/s]"
     ]
    },
    {
     "name": "stdout",
     "output_type": "stream",
     "text": [
      "[176 158 754 959]\n",
      "[284 181 789 891]\n",
      "[223 156 838 864]\n",
      "[237 174 816 931]\n",
      "[210 149 815 862]\n",
      "[281 151 927 972]\n"
     ]
    },
    {
     "name": "stderr",
     "output_type": "stream",
     "text": [
      "preprocessing: 3121it [02:15, 24.26it/s]"
     ]
    },
    {
     "name": "stdout",
     "output_type": "stream",
     "text": [
      "[226 200 748 908]\n",
      "[243 210 765 951]\n",
      "[333 200 853 977]\n",
      "[237 192 834 910]\n",
      "[183 146 759 961]\n"
     ]
    },
    {
     "name": "stderr",
     "output_type": "stream",
     "text": [
      "preprocessing: 3127it [02:15, 24.29it/s]"
     ]
    },
    {
     "name": "stdout",
     "output_type": "stream",
     "text": [
      "[257 182 847 903]\n",
      "[223 165 755 922]\n",
      "[272 206 809 917]\n",
      "[244 172 801 899]\n",
      "[210 219 761 928]\n"
     ]
    },
    {
     "name": "stderr",
     "output_type": "stream",
     "text": [
      "\r",
      "preprocessing: 3130it [02:15, 24.50it/s]"
     ]
    },
    {
     "name": "stdout",
     "output_type": "stream",
     "text": [
      "[198 158 764 903]\n",
      "[143 174 786 938]\n",
      "[246 239 813 913]\n",
      "[229 206 789 885]\n",
      "[261 157 822 927]\n",
      "[254 196 797 876]\n"
     ]
    },
    {
     "name": "stderr",
     "output_type": "stream",
     "text": [
      "preprocessing: 3136it [02:16, 23.92it/s]"
     ]
    },
    {
     "name": "stdout",
     "output_type": "stream",
     "text": [
      "[253 273 799 857]\n",
      "[266 185 810 826]\n",
      "[298 122 900 942]\n",
      "[247 164 783 886]\n",
      "[273 191 862 847]\n",
      "[223 225 781 889]\n"
     ]
    },
    {
     "name": "stderr",
     "output_type": "stream",
     "text": [
      "preprocessing: 3142it [02:16, 23.69it/s]"
     ]
    },
    {
     "name": "stdout",
     "output_type": "stream",
     "text": [
      "[287 171 811 926]\n",
      "[256 216 775 975]\n",
      "[248 210 868 929]\n",
      "[227 192 746 911]\n",
      "[199 185 779 901]\n"
     ]
    },
    {
     "name": "stderr",
     "output_type": "stream",
     "text": [
      "preprocessing: 3148it [02:16, 23.69it/s]"
     ]
    },
    {
     "name": "stdout",
     "output_type": "stream",
     "text": [
      "[248 150 835 856]\n",
      "[211 234 754 920]\n",
      "[282 214 805 892]\n",
      "[237 216 780 973]\n",
      "[125 193 741 883]\n"
     ]
    },
    {
     "name": "stderr",
     "output_type": "stream",
     "text": [
      "preprocessing: 3154it [02:16, 23.55it/s]"
     ]
    },
    {
     "name": "stdout",
     "output_type": "stream",
     "text": [
      "[243 210 807 895]\n",
      "[229 207 749 940]\n",
      "[190 125 773 992]\n",
      "[180 216 788 819]\n",
      "[142 153 739 951]\n",
      "[231 255 773 890]\n"
     ]
    },
    {
     "name": "stderr",
     "output_type": "stream",
     "text": [
      "preprocessing: 3160it [02:17, 23.80it/s]"
     ]
    },
    {
     "name": "stdout",
     "output_type": "stream",
     "text": [
      "[ 45  92 714 923]\n",
      "[236 175 777 957]\n",
      "[275 159 823 856]\n",
      "[243 206 801 926]\n",
      "[247 187 757 962]\n",
      "[274 246 812 933]\n"
     ]
    },
    {
     "name": "stderr",
     "output_type": "stream",
     "text": [
      "\r",
      "preprocessing: 3163it [02:17, 24.15it/s]"
     ]
    },
    {
     "name": "stdout",
     "output_type": "stream",
     "text": [
      "[207 175 764 886]\n",
      "[183 180 754 926]\n",
      "[227 194 824 927]\n",
      "[210 190 870 970]\n"
     ]
    },
    {
     "name": "stderr",
     "output_type": "stream",
     "text": [
      "preprocessing: 3169it [02:17, 22.97it/s]"
     ]
    },
    {
     "name": "stdout",
     "output_type": "stream",
     "text": [
      "[252 206 795 889]\n",
      "[291 242 898 959]\n",
      "[179 198 752 950]\n",
      "[248 162 811 881]\n",
      "[195 145 774 879]\n",
      "[270 147 814 950]\n"
     ]
    },
    {
     "name": "stderr",
     "output_type": "stream",
     "text": [
      "preprocessing: 3175it [02:17, 24.43it/s]"
     ]
    },
    {
     "name": "stdout",
     "output_type": "stream",
     "text": [
      "[227 189 789 884]\n",
      "[301 220 868 939]\n",
      "[205 214 777 934]\n",
      "[252 243 770 837]\n",
      "[228 212 764 950]\n",
      "[231 227 797 905]\n"
     ]
    },
    {
     "name": "stderr",
     "output_type": "stream",
     "text": [
      "preprocessing: 3181it [02:18, 24.57it/s]"
     ]
    },
    {
     "name": "stdout",
     "output_type": "stream",
     "text": [
      "[209 159 817 945]\n",
      "[309 211 837 879]\n",
      "[248 136 774 969]\n",
      "[206 196 790 892]\n",
      "[254 151 840 907]\n"
     ]
    },
    {
     "name": "stderr",
     "output_type": "stream",
     "text": [
      "preprocessing: 3187it [02:18, 23.66it/s]"
     ]
    },
    {
     "name": "stdout",
     "output_type": "stream",
     "text": [
      "[233 149 821 941]\n",
      "[240 179 756 935]\n",
      "[226 175 770 910]\n",
      "[252 170 722 945]\n",
      "[261 208 825 927]\n"
     ]
    },
    {
     "name": "stderr",
     "output_type": "stream",
     "text": [
      "\r",
      "preprocessing: 3190it [02:18, 23.56it/s]"
     ]
    },
    {
     "name": "stdout",
     "output_type": "stream",
     "text": [
      "[282 200 835 894]\n",
      "[234 252 788 850]\n",
      "[234 189 793 916]\n",
      "[211 217 773 893]\n",
      "[224  91 800 991]\n"
     ]
    },
    {
     "name": "stderr",
     "output_type": "stream",
     "text": [
      "preprocessing: 3196it [02:18, 23.95it/s]"
     ]
    },
    {
     "name": "stdout",
     "output_type": "stream",
     "text": [
      "[367 219 967 916]\n",
      "[113  85 754 952]\n",
      "[291 170 899 959]\n",
      "[221 154 768 946]\n",
      "[249 202 813 951]\n"
     ]
    },
    {
     "name": "stderr",
     "output_type": "stream",
     "text": [
      "\r",
      "preprocessing: 3199it [02:18, 23.35it/s]"
     ]
    },
    {
     "name": "stdout",
     "output_type": "stream",
     "text": [
      "[163 181 754 910]\n",
      "[261 133 848 897]\n",
      "[282 225 811 894]\n",
      "[169 145 758 989]\n"
     ]
    },
    {
     "name": "stderr",
     "output_type": "stream",
     "text": [
      "preprocessing: 3205it [02:19, 20.57it/s]"
     ]
    },
    {
     "name": "stdout",
     "output_type": "stream",
     "text": [
      "[285 122 875 919]\n",
      "[270 196 794 852]\n",
      "[237 205 826 888]\n",
      "[170 210 721 938]\n",
      "[244 169 784 944]\n"
     ]
    },
    {
     "name": "stderr",
     "output_type": "stream",
     "text": [
      "preprocessing: 3211it [02:19, 23.33it/s]"
     ]
    },
    {
     "name": "stdout",
     "output_type": "stream",
     "text": [
      "[209 170 805 841]\n",
      "[261 125 830 914]\n",
      "[291 192 815 839]\n",
      "[221 171 762 935]\n",
      "[223 191 761 927]\n",
      "[167 142 714 893]\n"
     ]
    },
    {
     "name": "stderr",
     "output_type": "stream",
     "text": [
      "preprocessing: 3217it [02:19, 24.48it/s]"
     ]
    },
    {
     "name": "stdout",
     "output_type": "stream",
     "text": [
      "[277 148 883 933]\n",
      "[255 170 802 883]\n",
      "[189 183 785 889]\n",
      "[193 190 749 851]\n",
      "[240 200 781 877]\n"
     ]
    },
    {
     "name": "stderr",
     "output_type": "stream",
     "text": [
      "\r",
      "preprocessing: 3220it [02:19, 24.16it/s]"
     ]
    },
    {
     "name": "stdout",
     "output_type": "stream",
     "text": [
      "[233 209 797 914]\n",
      "[295 198 825 942]\n",
      "[261 201 844 903]\n",
      "[233 248 861 982]\n",
      "[169 157 778 978]\n"
     ]
    },
    {
     "name": "stderr",
     "output_type": "stream",
     "text": [
      "preprocessing: 3226it [02:19, 23.77it/s]"
     ]
    },
    {
     "name": "stdout",
     "output_type": "stream",
     "text": [
      "[227 232 761 944]\n",
      "[264 163 833 903]\n",
      "[268 251 773 874]\n",
      "[285 204 856 920]\n",
      "[213 196 752 910]\n"
     ]
    },
    {
     "name": "stderr",
     "output_type": "stream",
     "text": [
      "preprocessing: 3232it [02:20, 23.61it/s]"
     ]
    },
    {
     "name": "stdout",
     "output_type": "stream",
     "text": [
      "[291 236 864 941]\n",
      "[250 219 794 922]\n",
      "[199 276 757 887]\n",
      "[195 212 757 887]\n",
      "[226 215 790 915]\n",
      "[221 203 770 907]\n"
     ]
    },
    {
     "name": "stderr",
     "output_type": "stream",
     "text": [
      "preprocessing: 3238it [02:20, 23.97it/s]"
     ]
    },
    {
     "name": "stdout",
     "output_type": "stream",
     "text": [
      "[275 190 842 919]\n",
      "[275 137 891 846]\n",
      "[255 279 760 864]\n",
      "[ 83 160 703 940]\n",
      "[192 193 789 864]\n",
      "[222 148 815 954]\n"
     ]
    },
    {
     "name": "stderr",
     "output_type": "stream",
     "text": [
      "preprocessing: 3244it [02:20, 23.70it/s]"
     ]
    },
    {
     "name": "stdout",
     "output_type": "stream",
     "text": [
      "[211 211 796 893]\n",
      "[273 191 809 907]\n",
      "[142 134 769 940]\n",
      "[242 200 769 896]\n",
      "[241 205 801 928]\n"
     ]
    },
    {
     "name": "stderr",
     "output_type": "stream",
     "text": [
      "\r",
      "preprocessing: 3247it [02:20, 24.05it/s]"
     ]
    },
    {
     "name": "stdout",
     "output_type": "stream",
     "text": [
      "[200 196 761 928]\n",
      "[197 217 747 909]\n",
      "[251 203 833 902]\n",
      "[219 198 783 924]\n",
      "[272 192 761 943]\n"
     ]
    },
    {
     "name": "stderr",
     "output_type": "stream",
     "text": [
      "preprocessing: 3253it [02:21, 24.07it/s]"
     ]
    },
    {
     "name": "stdout",
     "output_type": "stream",
     "text": [
      "[199 184 768 970]\n",
      "[185 143 761 954]\n",
      "[211 195 779 916]\n",
      "[242 142 836 946]\n",
      "[272 219 821 901]\n"
     ]
    },
    {
     "name": "stderr",
     "output_type": "stream",
     "text": [
      "preprocessing: 3259it [02:21, 23.74it/s]"
     ]
    },
    {
     "name": "stdout",
     "output_type": "stream",
     "text": [
      "[235 184 767 931]\n",
      "[288 119 936 972]\n",
      "[297 158 922 972]\n",
      "[271 187 828 923]\n",
      "[257 220 766 841]\n"
     ]
    },
    {
     "name": "stderr",
     "output_type": "stream",
     "text": [
      "\r",
      "preprocessing: 3262it [02:21, 23.62it/s]"
     ]
    },
    {
     "name": "stdout",
     "output_type": "stream",
     "text": [
      "[265 191 815 877]\n",
      "[269 232 764 963]\n",
      "[309 102 864 869]\n",
      "[272 167 925 950]\n"
     ]
    },
    {
     "name": "stderr",
     "output_type": "stream",
     "text": [
      "preprocessing: 3268it [02:21, 23.52it/s]"
     ]
    },
    {
     "name": "stdout",
     "output_type": "stream",
     "text": [
      "[216 194 819 894]\n",
      "[279 159 828 896]\n",
      "[195 217 776 941]\n",
      "[245 171 758 898]\n",
      "[255 186 821 918]\n",
      "[229 202 776 913]\n"
     ]
    },
    {
     "name": "stderr",
     "output_type": "stream",
     "text": [
      "\r",
      "preprocessing: 3271it [02:21, 23.48it/s]"
     ]
    },
    {
     "name": "stdout",
     "output_type": "stream",
     "text": [
      "[ 322  216  936 1000]\n",
      "[191  86 736 924]\n",
      "[254 151 813 968]\n",
      "[222 173 817 879]\n",
      "[142 127 741 949]\n"
     ]
    },
    {
     "name": "stderr",
     "output_type": "stream",
     "text": [
      "preprocessing: 3277it [02:22, 23.46it/s]"
     ]
    },
    {
     "name": "stdout",
     "output_type": "stream",
     "text": [
      "[281 187 874 934]\n",
      "[255 198 817 897]\n",
      "[211 190 789 902]\n",
      "[200 213 777 898]\n",
      "[115  99 739 949]\n"
     ]
    },
    {
     "name": "stderr",
     "output_type": "stream",
     "text": [
      "preprocessing: 3283it [02:22, 23.46it/s]"
     ]
    },
    {
     "name": "stdout",
     "output_type": "stream",
     "text": [
      "[278 140 805 924]\n",
      "[233 212 744 976]\n",
      "[174 147 789 911]\n",
      "[257 214 769 913]\n",
      "[255 190 781 950]\n"
     ]
    },
    {
     "name": "stderr",
     "output_type": "stream",
     "text": [
      "preprocessing: 3289it [02:22, 23.13it/s]"
     ]
    },
    {
     "name": "stdout",
     "output_type": "stream",
     "text": [
      "[236 215 827 948]\n",
      "[280 146 851 896]\n",
      "[186 203 791 911]\n",
      "[251 223 776 880]\n",
      "[189 183 756 958]\n"
     ]
    },
    {
     "name": "stderr",
     "output_type": "stream",
     "text": [
      "\r",
      "preprocessing: 3292it [02:22, 23.18it/s]"
     ]
    },
    {
     "name": "stdout",
     "output_type": "stream",
     "text": [
      "[224 222 772 860]\n",
      "[171 191 770 924]\n",
      "[289 226 842 908]\n",
      "[297 190 912 932]\n",
      "[281 238 787 944]\n"
     ]
    },
    {
     "name": "stderr",
     "output_type": "stream",
     "text": [
      "preprocessing: 3298it [02:23, 23.62it/s]"
     ]
    },
    {
     "name": "stdout",
     "output_type": "stream",
     "text": [
      "[228 192 755 885]\n",
      "[199 196 753 927]\n",
      "[354 150 929 925]\n",
      "[285 146 877 938]\n",
      "[242 277 791 896]\n"
     ]
    },
    {
     "name": "stderr",
     "output_type": "stream",
     "text": [
      "\r",
      "preprocessing: 3301it [02:23, 20.82it/s]"
     ]
    },
    {
     "name": "stdout",
     "output_type": "stream",
     "text": [
      "[243 188 871 930]\n",
      "[230 211 802 889]\n",
      "[226 164 787 875]\n"
     ]
    },
    {
     "name": "stderr",
     "output_type": "stream",
     "text": [
      "preprocessing: 3307it [02:23, 20.79it/s]"
     ]
    },
    {
     "name": "stdout",
     "output_type": "stream",
     "text": [
      "[125 184 737 956]\n",
      "[280 203 771 855]\n",
      "[214 239 767 893]\n",
      "[283 129 915 879]\n",
      "[120 150 740 924]\n",
      "[245 167 799 924]\n"
     ]
    },
    {
     "name": "stderr",
     "output_type": "stream",
     "text": [
      "preprocessing: 3313it [02:23, 23.92it/s]"
     ]
    },
    {
     "name": "stdout",
     "output_type": "stream",
     "text": [
      "[250 184 843 896]\n",
      "[130 120 753 905]\n",
      "[261 192 819 934]\n",
      "[249 220 809 898]\n",
      "[301 179 791 867]\n",
      "[257 198 795 886]\n",
      "[200 157 746 935]\n"
     ]
    },
    {
     "name": "stderr",
     "output_type": "stream",
     "text": [
      "preprocessing: 3319it [02:23, 24.46it/s]"
     ]
    },
    {
     "name": "stdout",
     "output_type": "stream",
     "text": [
      "[230 197 796 875]\n",
      "[277 190 794 822]\n",
      "[224 196 793 903]\n",
      "[267 185 803 944]\n",
      "[322 144 884 890]\n"
     ]
    },
    {
     "name": "stderr",
     "output_type": "stream",
     "text": [
      "preprocessing: 3325it [02:24, 23.48it/s]"
     ]
    },
    {
     "name": "stdout",
     "output_type": "stream",
     "text": [
      "[222 219 774 904]\n",
      "[253 228 824 911]\n",
      "[300 216 826 907]\n",
      "[262 139 723 887]\n",
      "[245 176 776 903]\n"
     ]
    },
    {
     "name": "stderr",
     "output_type": "stream",
     "text": [
      "\r",
      "preprocessing: 3328it [02:24, 23.03it/s]"
     ]
    },
    {
     "name": "stdout",
     "output_type": "stream",
     "text": [
      "[222 178 790 984]\n",
      "[156 125 729 943]\n",
      "[263 167 820 880]\n",
      "[265 162 768 965]\n",
      "[286 199 801 904]\n"
     ]
    },
    {
     "name": "stderr",
     "output_type": "stream",
     "text": [
      "preprocessing: 3334it [02:24, 23.24it/s]"
     ]
    },
    {
     "name": "stdout",
     "output_type": "stream",
     "text": [
      "[276 174 851 939]\n",
      "[278 191 850 812]\n",
      "[256 182 767 907]\n",
      "[264 193 822 907]\n",
      "[300  71 930 968]\n",
      "[279 244 902 915]\n"
     ]
    },
    {
     "name": "stderr",
     "output_type": "stream",
     "text": [
      "preprocessing: 3340it [02:24, 23.65it/s]"
     ]
    },
    {
     "name": "stdout",
     "output_type": "stream",
     "text": [
      "[151 190 696 897]\n",
      "[262 192 757 897]\n",
      "[227 185 799 917]\n",
      "[244 206 784 882]\n",
      "[260 150 803 885]\n"
     ]
    },
    {
     "name": "stderr",
     "output_type": "stream",
     "text": [
      "preprocessing: 3346it [02:25, 23.99it/s]"
     ]
    },
    {
     "name": "stdout",
     "output_type": "stream",
     "text": [
      "[258 177 857 906]\n",
      "[308 149 924 896]\n",
      "[235 106 811 955]\n",
      "[160 116 743 972]\n",
      "[204 190 731 902]\n"
     ]
    },
    {
     "name": "stderr",
     "output_type": "stream",
     "text": [
      "\r",
      "preprocessing: 3349it [02:25, 23.38it/s]"
     ]
    },
    {
     "name": "stdout",
     "output_type": "stream",
     "text": [
      "[222 195 786 933]\n",
      "[224 198 798 948]\n",
      "[233 147 815 944]\n",
      "[253 164 761 918]\n",
      "[164 168 725 900]\n"
     ]
    },
    {
     "name": "stderr",
     "output_type": "stream",
     "text": [
      "preprocessing: 3355it [02:25, 23.41it/s]"
     ]
    },
    {
     "name": "stdout",
     "output_type": "stream",
     "text": [
      "[403 203 922 849]\n",
      "[328 200 872 886]\n",
      "[277 163 824 907]\n",
      "[192 210 750 897]\n",
      "[180 144 761 931]\n"
     ]
    },
    {
     "name": "stderr",
     "output_type": "stream",
     "text": [
      "preprocessing: 3361it [02:25, 23.87it/s]"
     ]
    },
    {
     "name": "stdout",
     "output_type": "stream",
     "text": [
      "[ 96 187 757 923]\n",
      "[247 234 772 934]\n",
      "[233 173 776 962]\n",
      "[293 235 833 992]\n",
      "[248 184 788 893]\n"
     ]
    },
    {
     "name": "stderr",
     "output_type": "stream",
     "text": [
      "\r",
      "preprocessing: 3364it [02:25, 23.74it/s]"
     ]
    },
    {
     "name": "stdout",
     "output_type": "stream",
     "text": [
      "[339 182 890 939]\n",
      "[238 170 750 915]\n",
      "[261 252 787 861]\n",
      "[281 189 849 912]\n",
      "[257 154 893 929]\n"
     ]
    },
    {
     "name": "stderr",
     "output_type": "stream",
     "text": [
      "preprocessing: 3370it [02:26, 24.04it/s]"
     ]
    },
    {
     "name": "stdout",
     "output_type": "stream",
     "text": [
      "[193 247 771 952]\n",
      "[246 202 822 840]\n",
      "[279 202 842 967]\n",
      "[266 177 799 949]\n",
      "[189 194 753 886]\n"
     ]
    },
    {
     "name": "stderr",
     "output_type": "stream",
     "text": [
      "preprocessing: 3376it [02:26, 23.40it/s]"
     ]
    },
    {
     "name": "stdout",
     "output_type": "stream",
     "text": [
      "[172 196 731 952]\n",
      "[254 203 808 955]\n",
      "[289 179 910 952]\n",
      "[225 195 853 805]\n",
      "[219 202 767 929]\n"
     ]
    },
    {
     "name": "stderr",
     "output_type": "stream",
     "text": [
      "\r",
      "preprocessing: 3379it [02:26, 23.41it/s]"
     ]
    },
    {
     "name": "stdout",
     "output_type": "stream",
     "text": [
      "[251 180 815 944]\n",
      "[277 177 860 903]\n",
      "[212 249 746 901]\n",
      "[247 184 831 964]\n",
      "[237 184 794 918]\n"
     ]
    },
    {
     "name": "stderr",
     "output_type": "stream",
     "text": [
      "preprocessing: 3385it [02:26, 23.75it/s]"
     ]
    },
    {
     "name": "stdout",
     "output_type": "stream",
     "text": [
      "[212 170 760 919]\n",
      "[284 198 827 915]\n",
      "[210 204 702 905]\n",
      "[289 208 817 935]\n",
      "[235 235 805 874]\n"
     ]
    },
    {
     "name": "stderr",
     "output_type": "stream",
     "text": [
      "preprocessing: 3391it [02:27, 23.59it/s]"
     ]
    },
    {
     "name": "stdout",
     "output_type": "stream",
     "text": [
      "[112 115 740 948]\n",
      "[166 216 734 900]\n",
      "[262 204 733 849]\n",
      "[277 153 801 944]\n",
      "[155 183 752 927]\n",
      "[252 213 805 885]\n"
     ]
    },
    {
     "name": "stderr",
     "output_type": "stream",
     "text": [
      "preprocessing: 3397it [02:27, 23.51it/s]"
     ]
    },
    {
     "name": "stdout",
     "output_type": "stream",
     "text": [
      "[230 171 817 919]\n",
      "[303 227 837 876]\n",
      "[157 174 711 905]\n",
      "[273 170 822 925]\n",
      "[261 148 787 896]\n"
     ]
    },
    {
     "name": "stderr",
     "output_type": "stream",
     "text": [
      "\r",
      "preprocessing: 3400it [02:27, 21.47it/s]"
     ]
    },
    {
     "name": "stdout",
     "output_type": "stream",
     "text": [
      "[282 208 796 865]\n",
      "[166 166 744 887]\n",
      "[270 132 885 944]\n"
     ]
    },
    {
     "name": "stderr",
     "output_type": "stream",
     "text": [
      "\r",
      "preprocessing: 3403it [02:27, 20.24it/s]"
     ]
    },
    {
     "name": "stdout",
     "output_type": "stream",
     "text": [
      "[ 93 129 709 880]\n",
      "[249 220 788 905]\n",
      "[269 184 829 984]\n",
      "[219 200 807 929]\n",
      "[200 256 809 815]\n"
     ]
    },
    {
     "name": "stderr",
     "output_type": "stream",
     "text": [
      "preprocessing: 3409it [02:27, 22.54it/s]"
     ]
    },
    {
     "name": "stdout",
     "output_type": "stream",
     "text": [
      "[181 174 775 944]\n",
      "[189 188 748 876]\n",
      "[190 197 753 935]\n",
      "[254 216 758 955]\n",
      "[310 150 949 976]\n",
      "[201 195 772 886]\n"
     ]
    },
    {
     "name": "stderr",
     "output_type": "stream",
     "text": [
      "preprocessing: 3415it [02:28, 24.03it/s]"
     ]
    },
    {
     "name": "stdout",
     "output_type": "stream",
     "text": [
      "[210 148 831 902]\n",
      "[251 190 784 874]\n",
      "[210 170 781 988]\n",
      "[254 172 824 848]\n",
      "[215 211 836 859]\n",
      "[347 210 853 921]\n"
     ]
    },
    {
     "name": "stderr",
     "output_type": "stream",
     "text": [
      "preprocessing: 3421it [02:28, 23.71it/s]"
     ]
    },
    {
     "name": "stdout",
     "output_type": "stream",
     "text": [
      "[395 252 874 925]\n",
      "[313 173 863 923]\n",
      "[136 201 742 939]\n",
      "[259 223 827 907]\n",
      "[265 159 839 918]\n"
     ]
    },
    {
     "name": "stderr",
     "output_type": "stream",
     "text": [
      "preprocessing: 3427it [02:28, 23.58it/s]"
     ]
    },
    {
     "name": "stdout",
     "output_type": "stream",
     "text": [
      "[258 196 788 878]\n",
      "[204 188 746 921]\n",
      "[239 161 816 912]\n",
      "[299 189 778 902]\n",
      "[162 206 790 980]\n"
     ]
    },
    {
     "name": "stderr",
     "output_type": "stream",
     "text": [
      "\r",
      "preprocessing: 3430it [02:28, 23.54it/s]"
     ]
    },
    {
     "name": "stdout",
     "output_type": "stream",
     "text": [
      "[170 115 762 967]\n",
      "[285  62 926 944]\n",
      "[282 185 841 860]\n",
      "[240 189 812 903]\n",
      "[325 192 887 888]\n"
     ]
    },
    {
     "name": "stderr",
     "output_type": "stream",
     "text": [
      "preprocessing: 3436it [02:28, 23.48it/s]"
     ]
    },
    {
     "name": "stdout",
     "output_type": "stream",
     "text": [
      "[188 191 787 928]\n",
      "[297 205 849 911]\n",
      "[204 230 764 881]\n",
      "[243 162 726 912]\n",
      "[239 221 818 855]\n"
     ]
    },
    {
     "name": "stderr",
     "output_type": "stream",
     "text": [
      "\r",
      "preprocessing: 3439it [02:29, 23.02it/s]"
     ]
    },
    {
     "name": "stdout",
     "output_type": "stream",
     "text": [
      "[251 178 842 986]\n",
      "[214 218 785 879]\n",
      "[267 182 842 881]\n",
      "[251 162 849 931]\n",
      "[201 183 777 966]\n"
     ]
    },
    {
     "name": "stderr",
     "output_type": "stream",
     "text": [
      "preprocessing: 3445it [02:29, 23.24it/s]"
     ]
    },
    {
     "name": "stdout",
     "output_type": "stream",
     "text": [
      "[222 236 767 903]\n",
      "[273 151 821 908]\n",
      "[277 205 795 875]\n",
      "[216 226 778 940]\n",
      "[255 214 830 954]\n"
     ]
    },
    {
     "name": "stderr",
     "output_type": "stream",
     "text": [
      "preprocessing: 3451it [02:29, 23.34it/s]"
     ]
    },
    {
     "name": "stdout",
     "output_type": "stream",
     "text": [
      "[258 163 852 971]\n",
      "[250 220 794 894]\n",
      "[220 213 783 897]\n",
      "[139 192 710 922]\n",
      "[215 199 776 956]\n"
     ]
    },
    {
     "name": "stderr",
     "output_type": "stream",
     "text": [
      "preprocessing: 3457it [02:29, 23.39it/s]"
     ]
    },
    {
     "name": "stdout",
     "output_type": "stream",
     "text": [
      "[301 139 919 929]\n",
      "[209 203 761 861]\n",
      "[179 144 786 946]\n",
      "[196 221 769 879]\n",
      "[211 196 761 942]\n"
     ]
    },
    {
     "name": "stderr",
     "output_type": "stream",
     "text": [
      "\r",
      "preprocessing: 3460it [02:30, 23.40it/s]"
     ]
    },
    {
     "name": "stdout",
     "output_type": "stream",
     "text": [
      "[194 178 767 952]\n",
      "[223 167 755 937]\n",
      "[167 122 739 912]\n",
      "[173 163 731 933]\n",
      "[295 202 844 894]\n"
     ]
    },
    {
     "name": "stderr",
     "output_type": "stream",
     "text": [
      "preprocessing: 3466it [02:30, 22.97it/s]"
     ]
    },
    {
     "name": "stdout",
     "output_type": "stream",
     "text": [
      "[216 201 744 924]\n",
      "[166 153 756 931]\n",
      "[210 208 762 855]\n",
      "[234 149 829 969]\n",
      "[222 199 748 915]\n"
     ]
    },
    {
     "name": "stderr",
     "output_type": "stream",
     "text": [
      "preprocessing: 3472it [02:30, 23.20it/s]"
     ]
    },
    {
     "name": "stdout",
     "output_type": "stream",
     "text": [
      "[318 231 859 924]\n",
      "[246 191 814 911]\n",
      "[252 169 779 891]\n",
      "[267 154 820 914]\n",
      "[269 169 809 902]\n"
     ]
    },
    {
     "name": "stderr",
     "output_type": "stream",
     "text": [
      "\r",
      "preprocessing: 3475it [02:30, 23.29it/s]"
     ]
    },
    {
     "name": "stdout",
     "output_type": "stream",
     "text": [
      "[166 130 775 927]\n",
      "[256 206 778 958]\n",
      "[254 207 789 916]\n",
      "[282 232 815 905]\n",
      "[248 188 800 943]\n",
      "[298 131 882 929]\n"
     ]
    },
    {
     "name": "stderr",
     "output_type": "stream",
     "text": [
      "preprocessing: 3481it [02:30, 24.60it/s]"
     ]
    },
    {
     "name": "stdout",
     "output_type": "stream",
     "text": [
      "[185 185 771 944]\n",
      "[227 203 755 879]\n",
      "[176 180 753 932]\n",
      "[244 151 821 951]\n",
      "[291 223 810 916]\n",
      "[255 175 773 949]\n"
     ]
    },
    {
     "name": "stderr",
     "output_type": "stream",
     "text": [
      "preprocessing: 3487it [02:31, 24.80it/s]"
     ]
    },
    {
     "name": "stdout",
     "output_type": "stream",
     "text": [
      "[222 128 810 942]\n",
      "[240 184 817 878]\n",
      "[207 201 758 902]\n",
      "[279 213 822 895]\n",
      "[276 153 884 902]\n"
     ]
    },
    {
     "name": "stderr",
     "output_type": "stream",
     "text": [
      "preprocessing: 3493it [02:31, 25.25it/s]"
     ]
    },
    {
     "name": "stdout",
     "output_type": "stream",
     "text": [
      "[255 160 813 956]\n",
      "[203 198 754 904]\n",
      "[174 207 742 930]\n",
      "[300 156 856 924]\n",
      "[254 205 792 927]\n",
      "[251 131 818 891]\n"
     ]
    },
    {
     "name": "stderr",
     "output_type": "stream",
     "text": [
      "preprocessing: 3499it [02:31, 24.29it/s]"
     ]
    },
    {
     "name": "stdout",
     "output_type": "stream",
     "text": [
      "[129 186 733 909]\n",
      "[224 184 819 910]\n",
      "[212 200 741 947]\n",
      "[258 146 822 939]\n",
      "[206 196 746 939]\n"
     ]
    },
    {
     "name": "stderr",
     "output_type": "stream",
     "text": [
      "\r",
      "preprocessing: 3502it [02:31, 20.14it/s]"
     ]
    },
    {
     "name": "stdout",
     "output_type": "stream",
     "text": [
      "[277 174 808 887]\n",
      "[226 141 788 917]\n",
      "[173 138 772 929]\n",
      "[135 195 694 902]\n",
      "[244 150 863 875]\n"
     ]
    },
    {
     "name": "stderr",
     "output_type": "stream",
     "text": [
      "preprocessing: 3511it [02:32, 23.41it/s]"
     ]
    },
    {
     "name": "stdout",
     "output_type": "stream",
     "text": [
      "[287 185 836 897]\n",
      "[238 222 797 875]\n",
      "[260 216 781 940]\n",
      "[215 243 782 878]\n",
      "[178 215 782 946]\n",
      "[236 184 771 900]\n"
     ]
    },
    {
     "name": "stderr",
     "output_type": "stream",
     "text": [
      "\r",
      "preprocessing: 3514it [02:32, 23.86it/s]"
     ]
    },
    {
     "name": "stdout",
     "output_type": "stream",
     "text": [
      "[229 194 779 915]\n",
      "[267 132 829 854]\n",
      "[302 159 860 920]\n",
      "[ 237  212  859 1013]\n",
      "[175 189 747 891]\n",
      "[214 210 763 953]\n"
     ]
    },
    {
     "name": "stderr",
     "output_type": "stream",
     "text": [
      "preprocessing: 3520it [02:32, 23.64it/s]"
     ]
    },
    {
     "name": "stdout",
     "output_type": "stream",
     "text": [
      "[293 191 824 859]\n",
      "[248 200 862 926]\n",
      "[230 223 814 897]\n",
      "[243 192 784 914]\n",
      "[168 168 745 990]\n"
     ]
    },
    {
     "name": "stderr",
     "output_type": "stream",
     "text": [
      "preprocessing: 3526it [02:32, 23.54it/s]"
     ]
    },
    {
     "name": "stdout",
     "output_type": "stream",
     "text": [
      "[279 184 803 960]\n",
      "[259 204 791 935]\n",
      "[236 256 766 897]\n",
      "[236 170 803 905]\n",
      "[243 196 762 913]\n"
     ]
    },
    {
     "name": "stderr",
     "output_type": "stream",
     "text": [
      "preprocessing: 3532it [02:33, 23.47it/s]"
     ]
    },
    {
     "name": "stdout",
     "output_type": "stream",
     "text": [
      "[185 189 756 931]\n",
      "[262 213 777 894]\n",
      "[182 281 715 950]\n",
      "[292 147 852 941]\n",
      "[235 190 807 968]\n"
     ]
    },
    {
     "name": "stderr",
     "output_type": "stream",
     "text": [
      "\r",
      "preprocessing: 3535it [02:33, 23.47it/s]"
     ]
    },
    {
     "name": "stdout",
     "output_type": "stream",
     "text": [
      "[241 182 807 942]\n",
      "[147 208 698 941]\n",
      "[159 190 719 934]\n",
      "[256 254 853 948]\n",
      "[173 152 726 957]\n",
      "[236 205 768 866]\n"
     ]
    },
    {
     "name": "stderr",
     "output_type": "stream",
     "text": [
      "preprocessing: 3541it [02:33, 23.90it/s]"
     ]
    },
    {
     "name": "stdout",
     "output_type": "stream",
     "text": [
      "[265 163 791 945]\n",
      "[225 192 778 933]\n",
      "[244 196 828 849]\n",
      "[232 190 785 932]\n",
      "[236 210 768 888]\n"
     ]
    },
    {
     "name": "stderr",
     "output_type": "stream",
     "text": [
      "preprocessing: 3547it [02:33, 23.35it/s]"
     ]
    },
    {
     "name": "stdout",
     "output_type": "stream",
     "text": [
      "[211 211 795 975]\n",
      "[288 243 923 964]\n",
      "[218 152 772 846]\n",
      "[218 175 785 911]\n",
      "[140 110 784 940]\n"
     ]
    },
    {
     "name": "stderr",
     "output_type": "stream",
     "text": [
      "preprocessing: 3553it [02:33, 23.71it/s]"
     ]
    },
    {
     "name": "stdout",
     "output_type": "stream",
     "text": [
      "[264 191 811 888]\n",
      "[193 189 772 962]\n",
      "[285 176 840 915]\n",
      "[243 166 824 889]\n",
      "[237 215 787 953]\n"
     ]
    },
    {
     "name": "stderr",
     "output_type": "stream",
     "text": [
      "\r",
      "preprocessing: 3556it [02:34, 24.08it/s]"
     ]
    },
    {
     "name": "stdout",
     "output_type": "stream",
     "text": [
      "[348 128 870 888]\n",
      "[294 141 824 950]\n",
      "[175 158 743 990]\n",
      "[312 179 921 865]\n",
      "[259 194 827 916]\n"
     ]
    },
    {
     "name": "stderr",
     "output_type": "stream",
     "text": [
      "preprocessing: 3562it [02:34, 23.75it/s]"
     ]
    },
    {
     "name": "stdout",
     "output_type": "stream",
     "text": [
      "[272 172 819 898]\n",
      "[178 182 749 995]\n",
      "[251 228 806 916]\n",
      "[235 237 773 930]\n",
      "[223 153 773 939]\n"
     ]
    },
    {
     "name": "stderr",
     "output_type": "stream",
     "text": [
      "preprocessing: 3568it [02:34, 23.59it/s]"
     ]
    },
    {
     "name": "stdout",
     "output_type": "stream",
     "text": [
      "[271 216 823 824]\n",
      "[250 185 796 862]\n",
      "[215 220 748 894]\n",
      "[228 199 790 930]\n",
      "[263 147 793 946]\n"
     ]
    },
    {
     "name": "stderr",
     "output_type": "stream",
     "text": [
      "\r",
      "preprocessing: 3571it [02:34, 23.54it/s]"
     ]
    },
    {
     "name": "stdout",
     "output_type": "stream",
     "text": [
      "[257 230 758 851]\n",
      "[273 240 889 960]\n",
      "[170 137 777 941]\n",
      "[182 182 777 873]\n",
      "[273 195 776 865]\n"
     ]
    },
    {
     "name": "stderr",
     "output_type": "stream",
     "text": [
      "preprocessing: 3577it [02:34, 23.49it/s]"
     ]
    },
    {
     "name": "stdout",
     "output_type": "stream",
     "text": [
      "[217 203 741 949]\n",
      "[252 213 778 831]\n",
      "[236 205 767 895]\n",
      "[281 250 796 952]\n",
      "[280 196 813 907]\n"
     ]
    },
    {
     "name": "stderr",
     "output_type": "stream",
     "text": [
      "preprocessing: 3583it [02:35, 23.59it/s]"
     ]
    },
    {
     "name": "stdout",
     "output_type": "stream",
     "text": [
      "[230 215 806 867]\n",
      "[166 133 790 949]\n",
      "[248 171 825 909]\n",
      "[103 198 696 910]\n",
      "[337 279 791 894]\n"
     ]
    },
    {
     "name": "stderr",
     "output_type": "stream",
     "text": [
      "\r",
      "preprocessing: 3586it [02:35, 23.55it/s]"
     ]
    },
    {
     "name": "stdout",
     "output_type": "stream",
     "text": [
      "[245 203 791 897]\n",
      "[227 201 827 860]\n",
      "[294 178 842 922]\n",
      "[205 120 787 993]\n",
      "[331 208 855 837]\n"
     ]
    },
    {
     "name": "stderr",
     "output_type": "stream",
     "text": [
      "preprocessing: 3592it [02:35, 23.18it/s]"
     ]
    },
    {
     "name": "stdout",
     "output_type": "stream",
     "text": [
      "[204 214 745 909]\n",
      "[118 161 780 923]\n",
      "[166 201 746 926]\n",
      "[304 208 892 937]\n",
      "[239 172 793 890]\n"
     ]
    },
    {
     "name": "stderr",
     "output_type": "stream",
     "text": [
      "preprocessing: 3598it [02:35, 23.62it/s]"
     ]
    },
    {
     "name": "stdout",
     "output_type": "stream",
     "text": [
      "[255 133 814 879]\n",
      "[174 154 761 964]\n",
      "[296 154 859 938]\n",
      "[268 182 835 904]\n",
      "[262 161 812 913]\n"
     ]
    },
    {
     "name": "stderr",
     "output_type": "stream",
     "text": [
      "\r",
      "preprocessing: 3601it [02:36, 20.80it/s]"
     ]
    },
    {
     "name": "stdout",
     "output_type": "stream",
     "text": [
      "[337 188 923 963]\n",
      "[264 202 838 910]\n",
      "[252 181 806 903]\n",
      "[210 200 789 821]\n"
     ]
    },
    {
     "name": "stderr",
     "output_type": "stream",
     "text": [
      "preprocessing: 3607it [02:36, 21.51it/s]"
     ]
    },
    {
     "name": "stdout",
     "output_type": "stream",
     "text": [
      "[268 142 827 913]\n",
      "[193 171 815 857]\n",
      "[218 195 767 912]\n",
      "[298 141 876 876]\n",
      "[207 194 742 971]\n"
     ]
    },
    {
     "name": "stderr",
     "output_type": "stream",
     "text": [
      "\r",
      "preprocessing: 3610it [02:36, 22.86it/s]"
     ]
    },
    {
     "name": "stdout",
     "output_type": "stream",
     "text": [
      "[264 147 798 906]\n",
      "[271 154 782 902]\n",
      "[236 222 754 858]\n",
      "[233 183 774 937]\n",
      "[277 166 784 885]\n",
      "[118 100 710 871]\n"
     ]
    },
    {
     "name": "stderr",
     "output_type": "stream",
     "text": [
      "preprocessing: 3616it [02:36, 24.23it/s]"
     ]
    },
    {
     "name": "stdout",
     "output_type": "stream",
     "text": [
      "[192 133 762 932]\n",
      "[249 232 847 924]\n",
      "[256 123 826 897]\n",
      "[358 210 872 932]\n",
      "[176 190 741 921]\n"
     ]
    },
    {
     "name": "stderr",
     "output_type": "stream",
     "text": [
      "preprocessing: 3622it [02:36, 23.82it/s]"
     ]
    },
    {
     "name": "stdout",
     "output_type": "stream",
     "text": [
      "[243 223 844 902]\n",
      "[195 162 813 931]\n",
      "[178 143 741 914]\n",
      "[154 147 751 950]\n",
      "[235 205 751 921]\n"
     ]
    },
    {
     "name": "stderr",
     "output_type": "stream",
     "text": [
      "preprocessing: 3628it [02:37, 23.17it/s]"
     ]
    },
    {
     "name": "stdout",
     "output_type": "stream",
     "text": [
      "[208 169 756 920]\n",
      "[271 224 775 889]\n",
      "[191 182 755 895]\n",
      "[263 219 784 950]\n",
      "[153 227 732 904]\n"
     ]
    },
    {
     "name": "stderr",
     "output_type": "stream",
     "text": [
      "\r",
      "preprocessing: 3631it [02:37, 23.26it/s]"
     ]
    },
    {
     "name": "stdout",
     "output_type": "stream",
     "text": [
      "[207 194 744 893]\n",
      "[232 226 809 894]\n",
      "[113 153 738 929]\n",
      "[304 193 884 903]\n",
      "[189 204 765 914]\n"
     ]
    },
    {
     "name": "stderr",
     "output_type": "stream",
     "text": [
      "preprocessing: 3637it [02:37, 23.35it/s]"
     ]
    },
    {
     "name": "stdout",
     "output_type": "stream",
     "text": [
      "[207 263 770 922]\n",
      "[ 80  98 755 918]\n",
      "[234 182 794 911]\n",
      "[248 201 915 940]\n",
      "[245 178 784 865]\n"
     ]
    },
    {
     "name": "stderr",
     "output_type": "stream",
     "text": [
      "preprocessing: 3643it [02:37, 23.38it/s]"
     ]
    },
    {
     "name": "stdout",
     "output_type": "stream",
     "text": [
      "[221 177 800 943]\n",
      "[288 184 826 927]\n",
      "[256 198 841 903]\n",
      "[241 172 835 833]\n",
      "[292 217 760 861]\n"
     ]
    },
    {
     "name": "stderr",
     "output_type": "stream",
     "text": [
      "\r",
      "preprocessing: 3646it [02:37, 23.41it/s]"
     ]
    },
    {
     "name": "stdout",
     "output_type": "stream",
     "text": [
      "[261 179 836 899]\n",
      "[232 216 823 890]\n",
      "[251 181 804 946]\n",
      "[209 181 776 942]\n",
      "[222 191 775 940]\n"
     ]
    },
    {
     "name": "stderr",
     "output_type": "stream",
     "text": [
      "preprocessing: 3652it [02:38, 23.42it/s]"
     ]
    },
    {
     "name": "stdout",
     "output_type": "stream",
     "text": [
      "[279 163 810 923]\n",
      "[232 243 769 918]\n",
      "[224 220 758 879]\n",
      "[211 206 756 916]\n",
      "[156 202 764 878]\n"
     ]
    },
    {
     "name": "stderr",
     "output_type": "stream",
     "text": [
      "preprocessing: 3658it [02:38, 23.56it/s]"
     ]
    },
    {
     "name": "stdout",
     "output_type": "stream",
     "text": [
      "[252 198 797 961]\n",
      "[244 259 805 915]\n",
      "[233 150 851 931]\n",
      "[269 251 814 820]\n",
      "[135 120 749 954]\n"
     ]
    },
    {
     "name": "stderr",
     "output_type": "stream",
     "text": [
      "\r",
      "preprocessing: 3661it [02:38, 23.49it/s]"
     ]
    },
    {
     "name": "stdout",
     "output_type": "stream",
     "text": [
      "[218 179 763 905]\n",
      "[293 205 810 890]\n",
      "[130 182 725 973]\n",
      "[248 221 765 888]\n",
      "[236 144 820 928]\n"
     ]
    },
    {
     "name": "stderr",
     "output_type": "stream",
     "text": [
      "preprocessing: 3667it [02:38, 23.46it/s]"
     ]
    },
    {
     "name": "stdout",
     "output_type": "stream",
     "text": [
      "[ 37 126 685 918]\n",
      "[247 228 779 912]\n",
      "[280 172 869 923]\n",
      "[294 186 866 895]\n",
      "[296 201 827 886]\n"
     ]
    },
    {
     "name": "stderr",
     "output_type": "stream",
     "text": [
      "\r",
      "preprocessing: 3670it [02:38, 23.46it/s]"
     ]
    },
    {
     "name": "stdout",
     "output_type": "stream",
     "text": [
      "[158 148 754 874]\n",
      "[189 166 744 934]\n",
      "[233 173 811 932]\n",
      "[237 202 816 915]\n",
      "[248 198 769 933]\n"
     ]
    },
    {
     "name": "stderr",
     "output_type": "stream",
     "text": [
      "preprocessing: 3676it [02:39, 23.14it/s]"
     ]
    },
    {
     "name": "stdout",
     "output_type": "stream",
     "text": [
      "[268 148 877 976]\n",
      "[234 150 803 942]\n",
      "[202 280 793 803]\n",
      "[213 187 758 921]\n",
      "[199 144 781 984]\n"
     ]
    },
    {
     "name": "stderr",
     "output_type": "stream",
     "text": [
      "preprocessing: 3682it [02:39, 22.83it/s]"
     ]
    },
    {
     "name": "stdout",
     "output_type": "stream",
     "text": [
      "[260 192 839 919]\n",
      "[210 172 814 892]\n",
      "[212 181 761 904]\n",
      "[252 220 769 896]\n",
      "[121 169 716 964]\n"
     ]
    },
    {
     "name": "stderr",
     "output_type": "stream",
     "text": [
      "preprocessing: 3688it [02:39, 23.41it/s]"
     ]
    },
    {
     "name": "stdout",
     "output_type": "stream",
     "text": [
      "[181 129 760 945]\n",
      "[167 199 744 859]\n",
      "[241 285 813 859]\n",
      "[298 164 869 945]\n",
      "[151 197 733 928]\n"
     ]
    },
    {
     "name": "stderr",
     "output_type": "stream",
     "text": [
      "\r",
      "preprocessing: 3691it [02:39, 23.44it/s]"
     ]
    },
    {
     "name": "stdout",
     "output_type": "stream",
     "text": [
      "[265 214 774 931]\n",
      "[216 181 780 905]\n",
      "[288 216 800 943]\n",
      "[268 168 787 907]\n",
      "[257 217 868 900]\n"
     ]
    },
    {
     "name": "stderr",
     "output_type": "stream",
     "text": [
      "preprocessing: 3697it [02:40, 23.44it/s]"
     ]
    },
    {
     "name": "stdout",
     "output_type": "stream",
     "text": [
      "[270 216 847 919]\n",
      "[204 182 763 919]\n",
      "[201 213 776 856]\n",
      "[214 163 769 905]\n",
      "[236 147 803 871]\n"
     ]
    },
    {
     "name": "stderr",
     "output_type": "stream",
     "text": [
      "\r",
      "preprocessing: 3700it [02:40, 21.78it/s]"
     ]
    },
    {
     "name": "stdout",
     "output_type": "stream",
     "text": [
      "[224 220 739 912]\n",
      "[287 169 852 955]\n",
      "[202 168 769 904]\n"
     ]
    },
    {
     "name": "stderr",
     "output_type": "stream",
     "text": [
      "preprocessing: 3706it [02:40, 21.37it/s]"
     ]
    },
    {
     "name": "stdout",
     "output_type": "stream",
     "text": [
      "[260 189 802 897]\n",
      "[204 185 724 980]\n",
      "[125 133 722 898]\n",
      "[170 173 780 901]\n",
      "[284 153 842 969]\n"
     ]
    },
    {
     "name": "stderr",
     "output_type": "stream",
     "text": [
      "\r",
      "preprocessing: 3709it [02:40, 22.75it/s]"
     ]
    },
    {
     "name": "stdout",
     "output_type": "stream",
     "text": [
      "[281 175 835 855]\n",
      "[253 224 777 838]\n",
      "[206 179 799 946]\n",
      "[236 197 760 897]\n",
      "[291 156 829 847]\n",
      "[244 180 804 920]\n"
     ]
    },
    {
     "name": "stderr",
     "output_type": "stream",
     "text": [
      "preprocessing: 3715it [02:40, 24.13it/s]"
     ]
    },
    {
     "name": "stdout",
     "output_type": "stream",
     "text": [
      "[301 170 927 863]\n",
      "[267 203 768 876]\n",
      "[205 187 745 961]\n",
      "[141 137 690 878]\n",
      "[269 159 824 906]\n"
     ]
    },
    {
     "name": "stderr",
     "output_type": "stream",
     "text": [
      "preprocessing: 3721it [02:41, 23.31it/s]"
     ]
    },
    {
     "name": "stdout",
     "output_type": "stream",
     "text": [
      "[142 143 775 928]\n",
      "[276 202 831 928]\n",
      "[233  88 804 938]\n",
      "[196 184 746 829]\n",
      "[189 192 730 924]\n"
     ]
    },
    {
     "name": "stderr",
     "output_type": "stream",
     "text": [
      "preprocessing: 3727it [02:41, 23.05it/s]"
     ]
    },
    {
     "name": "stdout",
     "output_type": "stream",
     "text": [
      "[246 170 797 886]\n",
      "[199 188 765 907]\n",
      "[299 232 840 929]\n",
      "[239 168 774 895]\n",
      "[184 233 759 881]\n"
     ]
    },
    {
     "name": "stderr",
     "output_type": "stream",
     "text": [
      "\r",
      "preprocessing: 3730it [02:41, 23.16it/s]"
     ]
    },
    {
     "name": "stdout",
     "output_type": "stream",
     "text": [
      "[183 200 729 907]\n",
      "[286 191 852 872]\n",
      "[247 194 813 945]\n",
      "[283 199 863 894]\n",
      "[200 195 757 945]\n"
     ]
    },
    {
     "name": "stderr",
     "output_type": "stream",
     "text": [
      "preprocessing: 3736it [02:41, 23.30it/s]"
     ]
    },
    {
     "name": "stdout",
     "output_type": "stream",
     "text": [
      "[216 211 755 917]\n",
      "[325 209 888 902]\n",
      "[262 224 809 949]\n",
      "[251 152 849 892]\n",
      "[213 212 772 878]\n"
     ]
    },
    {
     "name": "stderr",
     "output_type": "stream",
     "text": [
      "preprocessing: 3742it [02:42, 23.37it/s]"
     ]
    },
    {
     "name": "stdout",
     "output_type": "stream",
     "text": [
      "[208 187 755 931]\n",
      "[212  55 800 891]\n",
      "[204 183 784 826]\n",
      "[231 170 774 824]\n",
      "[206 183 791 896]\n"
     ]
    },
    {
     "name": "stderr",
     "output_type": "stream",
     "text": [
      "\r",
      "preprocessing: 3745it [02:42, 23.39it/s]"
     ]
    },
    {
     "name": "stdout",
     "output_type": "stream",
     "text": [
      "[247 184 821 905]\n",
      "[260 159 778 912]\n",
      "[284 190 799 915]\n",
      "[187 133 749 923]\n",
      "[236 196 763 948]\n"
     ]
    },
    {
     "name": "stderr",
     "output_type": "stream",
     "text": [
      "preprocessing: 3751it [02:42, 23.41it/s]"
     ]
    },
    {
     "name": "stdout",
     "output_type": "stream",
     "text": [
      "[285 137 866 995]\n",
      "[146 225 764 879]\n",
      "[290 161 893 898]\n",
      "[243 209 791 850]\n",
      "[226 171 775 959]\n"
     ]
    },
    {
     "name": "stderr",
     "output_type": "stream",
     "text": [
      "preprocessing: 3757it [02:42, 23.42it/s]"
     ]
    },
    {
     "name": "stdout",
     "output_type": "stream",
     "text": [
      "[198 144 748 911]\n",
      "[258 208 804 879]\n",
      "[291 162 906 896]\n",
      "[245 180 779 938]\n",
      "[245 188 792 894]\n",
      "[291 150 832 934]\n"
     ]
    },
    {
     "name": "stderr",
     "output_type": "stream",
     "text": [
      "preprocessing: 3763it [02:43, 23.43it/s]"
     ]
    },
    {
     "name": "stdout",
     "output_type": "stream",
     "text": [
      "[130 201 788 973]\n",
      "[255 150 805 862]\n",
      "[216 207 724 934]\n",
      "[251  73 796 905]\n",
      "[181 183 750 953]\n"
     ]
    },
    {
     "name": "stderr",
     "output_type": "stream",
     "text": [
      "\r",
      "preprocessing: 3766it [02:43, 23.00it/s]"
     ]
    },
    {
     "name": "stdout",
     "output_type": "stream",
     "text": [
      "[231 238 768 899]\n",
      "[323 210 853 983]\n",
      "[282 208 831 938]\n",
      "[245 171 766 857]\n",
      "[311 173 885 895]\n",
      "[146 165 750 890]\n"
     ]
    },
    {
     "name": "stderr",
     "output_type": "stream",
     "text": [
      "preprocessing: 3772it [02:43, 23.20it/s]"
     ]
    },
    {
     "name": "stdout",
     "output_type": "stream",
     "text": [
      "[289 171 905 914]\n",
      "[227 196 794 895]\n",
      "[210 144 722 923]\n",
      "[268 186 838 891]\n",
      "[156 136 725 991]\n"
     ]
    },
    {
     "name": "stderr",
     "output_type": "stream",
     "text": [
      "preprocessing: 3778it [02:43, 23.32it/s]"
     ]
    },
    {
     "name": "stdout",
     "output_type": "stream",
     "text": [
      "[227 239 780 898]\n",
      "[115 185 723 882]\n",
      "[291 172 898 891]\n",
      "[263 235 809 933]\n",
      "[120 165 722 873]\n"
     ]
    },
    {
     "name": "stderr",
     "output_type": "stream",
     "text": [
      "preprocessing: 3784it [02:43, 23.82it/s]"
     ]
    },
    {
     "name": "stdout",
     "output_type": "stream",
     "text": [
      "[250 224 775 878]\n",
      "[233 196 825 893]\n",
      "[298 246 878 881]\n",
      "[301 162 862 892]\n",
      "[269 207 823 936]\n"
     ]
    },
    {
     "name": "stderr",
     "output_type": "stream",
     "text": [
      "\r",
      "preprocessing: 3787it [02:44, 23.71it/s]"
     ]
    },
    {
     "name": "stdout",
     "output_type": "stream",
     "text": [
      "[292 222 895 857]\n",
      "[242 214 764 880]\n",
      "[121 131 691 909]\n",
      "[217 197 757 919]\n",
      "[308 170 866 889]\n"
     ]
    },
    {
     "name": "stderr",
     "output_type": "stream",
     "text": [
      "preprocessing: 3793it [02:44, 23.26it/s]"
     ]
    },
    {
     "name": "stdout",
     "output_type": "stream",
     "text": [
      "[196 249 765 844]\n",
      "[224 170 811 897]\n",
      "[314 181 874 926]\n",
      "[239 170 799 939]\n",
      "[221 199 752 894]\n"
     ]
    },
    {
     "name": "stderr",
     "output_type": "stream",
     "text": [
      "\r",
      "preprocessing: 3796it [02:44, 20.97it/s]"
     ]
    },
    {
     "name": "stdout",
     "output_type": "stream",
     "text": [
      "[281 206 853 883]\n",
      "[299 192 858 917]\n",
      "[250 137 826 950]\n",
      "[222 220 752 917]\n"
     ]
    },
    {
     "name": "stderr",
     "output_type": "stream",
     "text": [
      "preprocessing: 3802it [02:44, 20.66it/s]"
     ]
    },
    {
     "name": "stdout",
     "output_type": "stream",
     "text": [
      "[286 175 812 895]\n",
      "[271 199 881 952]\n",
      "[202 250 770 945]\n",
      "[238 169 818 969]\n",
      "[332 163 898 903]\n"
     ]
    },
    {
     "name": "stderr",
     "output_type": "stream",
     "text": [
      "preprocessing: 3808it [02:45, 22.94it/s]"
     ]
    },
    {
     "name": "stdout",
     "output_type": "stream",
     "text": [
      "[239 212 794 888]\n",
      "[191 210 773 855]\n",
      "[192 193 687 867]\n",
      "[252 207 819 913]\n",
      "[ 95 177 752 953]\n",
      "[212 206 774 888]\n"
     ]
    },
    {
     "name": "stderr",
     "output_type": "stream",
     "text": [
      "preprocessing: 3814it [02:45, 23.49it/s]"
     ]
    },
    {
     "name": "stdout",
     "output_type": "stream",
     "text": [
      "[213  74 757 845]\n",
      "[270 255 855 790]\n",
      "[250 183 813 900]\n",
      "[226 226 771 948]\n",
      "[319 140 951 961]\n"
     ]
    },
    {
     "name": "stderr",
     "output_type": "stream",
     "text": [
      "\r",
      "preprocessing: 3817it [02:45, 23.49it/s]"
     ]
    },
    {
     "name": "stdout",
     "output_type": "stream",
     "text": [
      "[222 220 824 940]\n",
      "[218 186 818 871]\n",
      "[218 204 762 949]\n",
      "[201 234 751 928]\n",
      "[235 223 749 930]\n"
     ]
    },
    {
     "name": "stderr",
     "output_type": "stream",
     "text": [
      "preprocessing: 3823it [02:45, 23.16it/s]"
     ]
    },
    {
     "name": "stdout",
     "output_type": "stream",
     "text": [
      "[214 187 693 896]\n",
      "[265 209 770 905]\n",
      "[272 165 896 971]\n",
      "[324 144 905 933]\n",
      "[258 226 781 931]\n"
     ]
    },
    {
     "name": "stderr",
     "output_type": "stream",
     "text": [
      "preprocessing: 3829it [02:45, 23.30it/s]"
     ]
    },
    {
     "name": "stdout",
     "output_type": "stream",
     "text": [
      "[162 168 782 924]\n",
      "[327 182 899 939]\n",
      "[257 238 821 897]\n",
      "[235 141 781 915]\n",
      "[234 293 721 840]\n"
     ]
    },
    {
     "name": "stderr",
     "output_type": "stream",
     "text": [
      "\r",
      "preprocessing: 3832it [02:46, 23.30it/s]"
     ]
    },
    {
     "name": "stdout",
     "output_type": "stream",
     "text": [
      "[270 133 859 859]\n",
      "[250 147 797 973]\n",
      "[241 204 818 932]\n",
      "[225 179 795 905]\n",
      "[261 205 757 894]\n"
     ]
    },
    {
     "name": "stderr",
     "output_type": "stream",
     "text": [
      "preprocessing: 3838it [02:46, 23.36it/s]"
     ]
    },
    {
     "name": "stdout",
     "output_type": "stream",
     "text": [
      "[221 167 826 966]\n",
      "[234 209 789 958]\n",
      "[179 176 753 919]\n",
      "[180 225 742 857]\n",
      "[285 203 879 882]\n"
     ]
    },
    {
     "name": "stderr",
     "output_type": "stream",
     "text": [
      "preprocessing: 3844it [02:46, 23.40it/s]"
     ]
    },
    {
     "name": "stdout",
     "output_type": "stream",
     "text": [
      "[324 236 820 869]\n",
      "[246 199 777 884]\n",
      "[261 183 809 936]\n",
      "[287 267 840 908]\n",
      "[228 224 804 855]\n"
     ]
    },
    {
     "name": "stderr",
     "output_type": "stream",
     "text": [
      "\r",
      "preprocessing: 3847it [02:46, 23.41it/s]"
     ]
    },
    {
     "name": "stdout",
     "output_type": "stream",
     "text": [
      "[273 158 895 948]\n",
      "[167 209 755 910]\n",
      "[288 197 790 896]\n",
      "[104 241 701 938]\n",
      "[303 106 937 793]\n",
      "[119 134 752 922]\n"
     ]
    },
    {
     "name": "stderr",
     "output_type": "stream",
     "text": [
      "preprocessing: 3853it [02:46, 22.99it/s]"
     ]
    },
    {
     "name": "stdout",
     "output_type": "stream",
     "text": [
      "[265 140 804 953]\n",
      "[230 268 782 863]\n",
      "[274 188 801 890]\n",
      "[199 171 765 881]\n",
      "[332 172 930 955]\n"
     ]
    },
    {
     "name": "stderr",
     "output_type": "stream",
     "text": [
      "preprocessing: 3859it [02:47, 23.52it/s]"
     ]
    },
    {
     "name": "stdout",
     "output_type": "stream",
     "text": [
      "[217 188 777 948]\n",
      "[238 198 804 899]\n",
      "[202 184 730 934]\n",
      "[273 204 808 944]\n",
      "[262 215 799 895]\n"
     ]
    },
    {
     "name": "stderr",
     "output_type": "stream",
     "text": [
      "\r",
      "preprocessing: 3862it [02:47, 23.06it/s]"
     ]
    },
    {
     "name": "stdout",
     "output_type": "stream",
     "text": [
      "[158 211 758 908]\n",
      "[314 202 862 876]\n",
      "[229 193 766 930]\n",
      "[261 220 845 910]\n",
      "[271 211 816 916]\n"
     ]
    },
    {
     "name": "stderr",
     "output_type": "stream",
     "text": [
      "preprocessing: 3868it [02:47, 22.95it/s]"
     ]
    },
    {
     "name": "stdout",
     "output_type": "stream",
     "text": [
      "[208 201 803 897]\n",
      "[221 205 790 913]\n",
      "[258 136 861 896]\n",
      "[207 192 791 873]\n",
      "[290 201 885 908]\n"
     ]
    },
    {
     "name": "stderr",
     "output_type": "stream",
     "text": [
      "preprocessing: 3874it [02:47, 23.07it/s]"
     ]
    },
    {
     "name": "stdout",
     "output_type": "stream",
     "text": [
      "[243 105 851 869]\n",
      "[234 220 750 908]\n",
      "[292 192 848 936]\n",
      "[222 193 782 905]\n",
      "[249 219 787 890]\n"
     ]
    },
    {
     "name": "stderr",
     "output_type": "stream",
     "text": [
      "preprocessing: 3880it [02:48, 23.26it/s]"
     ]
    },
    {
     "name": "stdout",
     "output_type": "stream",
     "text": [
      "[239 185 805 912]\n",
      "[233 197 759 884]\n",
      "[236 151 806 820]\n",
      "[215 171 771 912]\n",
      "[183 173 740 922]\n"
     ]
    },
    {
     "name": "stderr",
     "output_type": "stream",
     "text": [
      "\r",
      "preprocessing: 3883it [02:48, 22.88it/s]"
     ]
    },
    {
     "name": "stdout",
     "output_type": "stream",
     "text": [
      "[253 199 787 872]\n",
      "[272 270 825 857]\n",
      "[216 173 761 914]\n",
      "[254 220 760 848]\n",
      "[102 129 756 943]\n"
     ]
    },
    {
     "name": "stderr",
     "output_type": "stream",
     "text": [
      "preprocessing: 3889it [02:48, 23.15it/s]"
     ]
    },
    {
     "name": "stdout",
     "output_type": "stream",
     "text": [
      "[275 178 833 903]\n",
      "[198 172 750 917]\n",
      "[347 197 874 879]\n",
      "[245 164 842 914]\n",
      "[227 201 759 895]\n"
     ]
    },
    {
     "name": "stderr",
     "output_type": "stream",
     "text": [
      "preprocessing: 3895it [02:48, 23.31it/s]"
     ]
    },
    {
     "name": "stdout",
     "output_type": "stream",
     "text": [
      "[283 171 874 923]\n",
      "[192 237 773 907]\n",
      "[265 184 835 795]\n",
      "[240 197 786 891]\n",
      "[234 221 774 907]\n",
      "[216 208 748 919]\n"
     ]
    },
    {
     "name": "stderr",
     "output_type": "stream",
     "text": [
      "\r",
      "preprocessing: 3898it [02:48, 23.33it/s]"
     ]
    },
    {
     "name": "stdout",
     "output_type": "stream",
     "text": [
      "[220 272 793 927]\n",
      "[242 182 787 859]\n",
      "[208 200 724 934]\n",
      "[279 195 871 933]\n"
     ]
    },
    {
     "name": "stderr",
     "output_type": "stream",
     "text": [
      "preprocessing: 3904it [02:49, 20.48it/s]"
     ]
    },
    {
     "name": "stdout",
     "output_type": "stream",
     "text": [
      "[210 223 751 928]\n",
      "[244 194 825 941]\n",
      "[264 151 794 951]\n",
      "[191 169 757 900]\n",
      "[ 151  136  758 1002]\n"
     ]
    },
    {
     "name": "stderr",
     "output_type": "stream",
     "text": [
      "preprocessing: 3910it [02:49, 22.56it/s]"
     ]
    },
    {
     "name": "stdout",
     "output_type": "stream",
     "text": [
      "[233 207 768 890]\n",
      "[233 224 764 867]\n",
      "[173 112 737 960]\n",
      "[286 155 915 893]\n",
      "[234 215 857 893]\n",
      "[271 220 848 917]\n"
     ]
    },
    {
     "name": "stderr",
     "output_type": "stream",
     "text": [
      "preprocessing: 3916it [02:49, 24.06it/s]"
     ]
    },
    {
     "name": "stdout",
     "output_type": "stream",
     "text": [
      "[256 218 808 935]\n",
      "[289 171 842 858]\n",
      "[264 232 819 867]\n",
      "[241 134 837 877]\n",
      "[228 206 779 901]\n",
      "[224 213 741 908]\n"
     ]
    },
    {
     "name": "stderr",
     "output_type": "stream",
     "text": [
      "\r",
      "preprocessing: 3919it [02:49, 24.33it/s]"
     ]
    },
    {
     "name": "stdout",
     "output_type": "stream",
     "text": [
      "[238 200 821 905]\n",
      "[230 142 824 900]\n",
      "[129 109 769 940]\n",
      "[255 188 777 879]\n",
      "[342 225 856 913]\n"
     ]
    },
    {
     "name": "stderr",
     "output_type": "stream",
     "text": [
      "preprocessing: 3925it [02:50, 23.12it/s]"
     ]
    },
    {
     "name": "stdout",
     "output_type": "stream",
     "text": [
      "[258 134 862 921]\n",
      "[221 195 783 949]\n",
      "[106 126 755 923]\n",
      "[275 200 819 882]\n",
      "[258 181 833 948]\n"
     ]
    },
    {
     "name": "stderr",
     "output_type": "stream",
     "text": [
      "preprocessing: 3931it [02:50, 23.28it/s]"
     ]
    },
    {
     "name": "stdout",
     "output_type": "stream",
     "text": [
      "[258 211 821 931]\n",
      "[257 222 795 882]\n",
      "[ 270  172  908 1020]\n",
      "[269 233 715 903]\n",
      "[192 167 774 895]\n"
     ]
    },
    {
     "name": "stderr",
     "output_type": "stream",
     "text": [
      "\r",
      "preprocessing: 3934it [02:50, 22.86it/s]"
     ]
    },
    {
     "name": "stdout",
     "output_type": "stream",
     "text": [
      "[193 198 734 896]\n",
      "[259 175 804 916]\n",
      "[273 157 882 937]\n",
      "[230 207 768 965]\n",
      "[203 144 764 921]\n"
     ]
    },
    {
     "name": "stderr",
     "output_type": "stream",
     "text": [
      "preprocessing: 3940it [02:50, 23.16it/s]"
     ]
    },
    {
     "name": "stdout",
     "output_type": "stream",
     "text": [
      "[263 202 763 899]\n",
      "[237 189 815 920]\n",
      "[163 215 758 942]\n",
      "[186 213 778 937]\n",
      "[239 143 791 908]\n"
     ]
    },
    {
     "name": "stderr",
     "output_type": "stream",
     "text": [
      "preprocessing: 3946it [02:50, 23.30it/s]"
     ]
    },
    {
     "name": "stdout",
     "output_type": "stream",
     "text": [
      "[229 138 778 942]\n",
      "[166 174 751 941]\n",
      "[202 197 764 906]\n",
      "[232 173 808 874]\n",
      "[242 208 744 874]\n"
     ]
    },
    {
     "name": "stderr",
     "output_type": "stream",
     "text": [
      "\r",
      "preprocessing: 3949it [02:51, 22.89it/s]"
     ]
    },
    {
     "name": "stdout",
     "output_type": "stream",
     "text": [
      "[232 163 791 920]\n",
      "[253 184 834 903]\n",
      "[280 198 794 923]\n",
      "[224 253 772 881]\n",
      "[319 170 838 895]\n"
     ]
    },
    {
     "name": "stderr",
     "output_type": "stream",
     "text": [
      "preprocessing: 3955it [02:51, 22.47it/s]"
     ]
    },
    {
     "name": "stdout",
     "output_type": "stream",
     "text": [
      "[242 178 764 909]\n",
      "[263 209 787 863]\n",
      "[249 159 800 952]\n",
      "[284 216 814 880]\n"
     ]
    },
    {
     "name": "stderr",
     "output_type": "stream",
     "text": [
      "\r",
      "preprocessing: 3958it [02:51, 22.34it/s]"
     ]
    },
    {
     "name": "stdout",
     "output_type": "stream",
     "text": [
      "[304 184 899 867]\n",
      "[252 187 791 827]\n",
      "[268 181 846 861]\n",
      "[217 154 790 832]\n",
      "[268 248 865 886]\n"
     ]
    },
    {
     "name": "stderr",
     "output_type": "stream",
     "text": [
      "preprocessing: 3964it [02:51, 22.44it/s]"
     ]
    },
    {
     "name": "stdout",
     "output_type": "stream",
     "text": [
      "[241 154 821 940]\n",
      "[227 143 783 893]\n",
      "[244 203 773 890]\n",
      "[298 129 863 875]\n",
      "[211 229 780 883]\n"
     ]
    },
    {
     "name": "stderr",
     "output_type": "stream",
     "text": [
      "preprocessing: 3970it [02:52, 23.67it/s]"
     ]
    },
    {
     "name": "stdout",
     "output_type": "stream",
     "text": [
      "[218 177 749 965]\n",
      "[242 161 816 914]\n",
      "[294 232 887 957]\n",
      "[173 251 759 942]\n",
      "[241 153 783 935]\n",
      "[174 122 783 971]\n"
     ]
    },
    {
     "name": "stderr",
     "output_type": "stream",
     "text": [
      "preprocessing: 3976it [02:52, 23.87it/s]"
     ]
    },
    {
     "name": "stdout",
     "output_type": "stream",
     "text": [
      "[223 185 772 897]\n",
      "[329 241 879 909]\n",
      "[228 190 764 929]\n",
      "[269 188 835 946]\n",
      "[300 166 884 935]\n"
     ]
    },
    {
     "name": "stderr",
     "output_type": "stream",
     "text": [
      "\r",
      "preprocessing: 3979it [02:52, 23.27it/s]"
     ]
    },
    {
     "name": "stdout",
     "output_type": "stream",
     "text": [
      "[222 207 783 926]\n",
      "[ 92 111 728 887]\n",
      "[275 119 878 912]\n",
      "[237 189 834 957]\n",
      "[240 169 801 912]\n"
     ]
    },
    {
     "name": "stderr",
     "output_type": "stream",
     "text": [
      "preprocessing: 3985it [02:52, 22.94it/s]"
     ]
    },
    {
     "name": "stdout",
     "output_type": "stream",
     "text": [
      "[266 206 793 875]\n",
      "[303 168 853 912]\n",
      "[214 186 758 911]\n",
      "[176 156 766 978]\n",
      "[238 217 808 924]\n"
     ]
    },
    {
     "name": "stderr",
     "output_type": "stream",
     "text": [
      "preprocessing: 3991it [02:52, 22.89it/s]"
     ]
    },
    {
     "name": "stdout",
     "output_type": "stream",
     "text": [
      "[226 195 778 868]\n",
      "[146 147 722 939]\n",
      "[208 140 765 936]\n",
      "[239 196 776 916]\n",
      "[193 215 762 865]\n"
     ]
    },
    {
     "name": "stderr",
     "output_type": "stream",
     "text": [
      "preprocessing: 3997it [02:53, 22.73it/s]"
     ]
    },
    {
     "name": "stdout",
     "output_type": "stream",
     "text": [
      "[ 88 120 744 967]\n",
      "[248 209 748 915]\n",
      "[232 148 787 891]\n",
      "[203 201 742 909]\n",
      "[260 194 818 891]\n"
     ]
    },
    {
     "name": "stderr",
     "output_type": "stream",
     "text": [
      "\r",
      "preprocessing: 4000it [02:53, 21.02it/s]"
     ]
    },
    {
     "name": "stdout",
     "output_type": "stream",
     "text": [
      "[169 120 852 952]\n",
      "[218 203 760 917]\n",
      "[216 184 778 914]\n",
      "[302 244 814 934]\n"
     ]
    },
    {
     "name": "stderr",
     "output_type": "stream",
     "text": [
      "preprocessing: 4006it [02:53, 21.92it/s]"
     ]
    },
    {
     "name": "stdout",
     "output_type": "stream",
     "text": [
      "[114 186 749 907]\n",
      "[222 201 770 930]\n",
      "[200 194 749 856]\n",
      "[224 159 785 931]\n",
      "[245 190 800 866]\n"
     ]
    },
    {
     "name": "stderr",
     "output_type": "stream",
     "text": [
      "\r",
      "preprocessing: 4009it [02:53, 22.35it/s]"
     ]
    },
    {
     "name": "stdout",
     "output_type": "stream",
     "text": [
      "[250 167 807 894]\n",
      "[276 206 766 907]\n",
      "[305 178 836 969]\n",
      "[315 196 893 990]\n",
      "[255 169 715 897]\n"
     ]
    },
    {
     "name": "stderr",
     "output_type": "stream",
     "text": [
      "preprocessing: 4015it [02:54, 22.89it/s]"
     ]
    },
    {
     "name": "stdout",
     "output_type": "stream",
     "text": [
      "[285 198 837 926]\n",
      "[210 181 743 897]\n",
      "[253 192 838 934]\n",
      "[242 169 834 979]\n",
      "[202 198 791 937]\n"
     ]
    },
    {
     "name": "stderr",
     "output_type": "stream",
     "text": [
      "preprocessing: 4021it [02:54, 22.87it/s]"
     ]
    },
    {
     "name": "stdout",
     "output_type": "stream",
     "text": [
      "[276 135 847 942]\n",
      "[214 225 788 889]\n",
      "[260 203 824 947]\n",
      "[272 181 832 897]\n",
      "[195 290 721 800]\n"
     ]
    },
    {
     "name": "stderr",
     "output_type": "stream",
     "text": [
      "\r",
      "preprocessing: 4024it [02:54, 22.60it/s]"
     ]
    },
    {
     "name": "stdout",
     "output_type": "stream",
     "text": [
      "[231 204 781 936]\n",
      "[251 208 786 907]\n",
      "[132 176 717 895]\n",
      "[195 204 744 944]\n",
      "[278 203 851 912]\n"
     ]
    },
    {
     "name": "stderr",
     "output_type": "stream",
     "text": [
      "preprocessing: 4030it [02:54, 22.60it/s]"
     ]
    },
    {
     "name": "stdout",
     "output_type": "stream",
     "text": [
      "[306 192 850 907]\n",
      "[187 140 787 942]\n",
      "[292 150 857 884]\n",
      "[231 198 778 924]\n",
      "[274 194 832 896]\n"
     ]
    },
    {
     "name": "stderr",
     "output_type": "stream",
     "text": [
      "\r",
      "preprocessing: 4033it [02:54, 22.86it/s]"
     ]
    },
    {
     "name": "stdout",
     "output_type": "stream",
     "text": [
      "[190 199 780 950]\n",
      "[264 227 803 924]\n",
      "[169 146 779 913]\n",
      "[259 136 878 953]\n",
      "[142 156 742 916]\n"
     ]
    },
    {
     "name": "stderr",
     "output_type": "stream",
     "text": [
      "preprocessing: 4039it [02:55, 22.44it/s]"
     ]
    },
    {
     "name": "stdout",
     "output_type": "stream",
     "text": [
      "[213 160 782 899]\n",
      "[213 167 846 848]\n",
      "[200 146 782 884]\n",
      "[257 214 823 894]\n",
      "[212 215 773 832]\n"
     ]
    },
    {
     "name": "stderr",
     "output_type": "stream",
     "text": [
      "preprocessing: 4045it [02:55, 22.65it/s]"
     ]
    },
    {
     "name": "stdout",
     "output_type": "stream",
     "text": [
      "[319 151 890 956]\n",
      "[215 199 798 909]\n",
      "[288 157 897 960]\n",
      "[185 178 759 883]\n",
      "[244 243 806 873]\n"
     ]
    },
    {
     "name": "stderr",
     "output_type": "stream",
     "text": [
      "preprocessing: 4051it [02:55, 23.04it/s]"
     ]
    },
    {
     "name": "stdout",
     "output_type": "stream",
     "text": [
      "[245 191 792 912]\n",
      "[281  65 816 897]\n",
      "[286 197 913 978]\n",
      "[146 125 725 913]\n",
      "[244 185 759 898]\n"
     ]
    },
    {
     "name": "stderr",
     "output_type": "stream",
     "text": [
      "\r",
      "preprocessing: 4054it [02:55, 23.16it/s]"
     ]
    },
    {
     "name": "stdout",
     "output_type": "stream",
     "text": [
      "[286 204 855 902]\n",
      "[162 194 735 912]\n",
      "[248 193 791 901]\n",
      "[257 220 806 843]\n",
      "[258 166 748 886]\n"
     ]
    },
    {
     "name": "stderr",
     "output_type": "stream",
     "text": [
      "preprocessing: 4060it [02:56, 22.87it/s]"
     ]
    },
    {
     "name": "stdout",
     "output_type": "stream",
     "text": [
      "[233 139 828 918]\n",
      "[262 196 846 893]\n",
      "[318 197 930 971]\n",
      "[286 200 824 888]\n",
      "[222 202 774 894]\n"
     ]
    },
    {
     "name": "stderr",
     "output_type": "stream",
     "text": [
      "preprocessing: 4066it [02:56, 23.16it/s]"
     ]
    },
    {
     "name": "stdout",
     "output_type": "stream",
     "text": [
      "[247 170 818 932]\n",
      "[276 210 813 918]\n",
      "[303 180 841 887]\n",
      "[229 166 794 838]\n",
      "[308 216 859 927]\n"
     ]
    },
    {
     "name": "stderr",
     "output_type": "stream",
     "text": [
      "\r",
      "preprocessing: 4069it [02:56, 23.68it/s]"
     ]
    },
    {
     "name": "stdout",
     "output_type": "stream",
     "text": [
      "[253 148 814 897]\n",
      "[185 180 748 857]\n",
      "[218 186 783 955]\n",
      "[105 141 712 934]\n",
      "[242 231 762 913]\n"
     ]
    },
    {
     "name": "stderr",
     "output_type": "stream",
     "text": [
      "preprocessing: 4075it [02:56, 23.25it/s]"
     ]
    },
    {
     "name": "stdout",
     "output_type": "stream",
     "text": [
      "[254 194 795 912]\n",
      "[180 203 763 941]\n",
      "[176 206 760 892]\n",
      "[297 215 883 942]\n",
      "[271 159 824 925]\n"
     ]
    },
    {
     "name": "stderr",
     "output_type": "stream",
     "text": [
      "\r",
      "preprocessing: 4078it [02:56, 23.31it/s]"
     ]
    },
    {
     "name": "stdout",
     "output_type": "stream",
     "text": [
      "[261 219 815 904]\n",
      "[232 192 800 949]\n",
      "[313 172 832 923]\n",
      "[244 180 808 904]\n",
      "[244 201 827 995]\n"
     ]
    },
    {
     "name": "stderr",
     "output_type": "stream",
     "text": [
      "preprocessing: 4084it [02:57, 23.07it/s]"
     ]
    },
    {
     "name": "stdout",
     "output_type": "stream",
     "text": [
      "[264 163 808 904]\n",
      "[291 182 909 949]\n",
      "[ 239  172  809 1004]\n",
      "[287 224 787 896]\n"
     ]
    },
    {
     "name": "stderr",
     "output_type": "stream",
     "text": [
      "preprocessing: 4090it [02:57, 22.82it/s]"
     ]
    },
    {
     "name": "stdout",
     "output_type": "stream",
     "text": [
      "[141 170 692 873]\n",
      "[285 169 900 952]\n",
      "[264 170 871 935]\n",
      "[243 201 807 957]\n",
      "[249 142 812 961]\n"
     ]
    },
    {
     "name": "stderr",
     "output_type": "stream",
     "text": [
      "\r",
      "preprocessing: 4093it [02:57, 23.01it/s]"
     ]
    },
    {
     "name": "stdout",
     "output_type": "stream",
     "text": [
      "[246 229 858 973]\n",
      "[190 224 793 865]\n",
      "[219 242 735 900]\n",
      "[191 173 778 907]\n",
      "[371 232 875 888]\n"
     ]
    },
    {
     "name": "stderr",
     "output_type": "stream",
     "text": [
      "preprocessing: 4099it [02:57, 23.23it/s]"
     ]
    },
    {
     "name": "stdout",
     "output_type": "stream",
     "text": [
      "[164 175 782 917]\n",
      "[226 144 835 948]\n",
      "[268 197 818 945]\n",
      "[291 123 886 911]\n",
      "[248 190 765 939]\n"
     ]
    },
    {
     "name": "stderr",
     "output_type": "stream",
     "text": [
      "\r",
      "preprocessing: 4102it [02:57, 19.63it/s]"
     ]
    },
    {
     "name": "stdout",
     "output_type": "stream",
     "text": [
      "[268 177 917 834]\n",
      "[282 213 798 874]\n",
      "[197 156 761 917]\n",
      "[294 221 867 889]\n",
      "[211 137 776 937]\n"
     ]
    },
    {
     "name": "stderr",
     "output_type": "stream",
     "text": [
      "preprocessing: 4108it [02:58, 21.89it/s]"
     ]
    },
    {
     "name": "stdout",
     "output_type": "stream",
     "text": [
      "[279 196 841 900]\n",
      "[268 154 881 946]\n",
      "[225 190 778 944]\n",
      "[180 186 725 904]\n",
      "[340 213 865 913]\n",
      "[188 173 729 928]\n"
     ]
    },
    {
     "name": "stderr",
     "output_type": "stream",
     "text": [
      "preprocessing: 4114it [02:58, 23.68it/s]"
     ]
    },
    {
     "name": "stdout",
     "output_type": "stream",
     "text": [
      "[246 195 754 915]\n",
      "[221 186 812 924]\n",
      "[218 236 768 894]\n",
      "[226 189 749 905]\n",
      "[249 283 775 953]\n"
     ]
    },
    {
     "name": "stderr",
     "output_type": "stream",
     "text": [
      "preprocessing: 4120it [02:58, 23.56it/s]"
     ]
    },
    {
     "name": "stdout",
     "output_type": "stream",
     "text": [
      "[235 198 812 926]\n",
      "[300 179 789 824]\n",
      "[298 223 831 871]\n",
      "[212 248 755 910]\n",
      "[157 207 755 871]\n"
     ]
    },
    {
     "name": "stderr",
     "output_type": "stream",
     "text": [
      "\r",
      "preprocessing: 4123it [02:58, 23.09it/s]"
     ]
    },
    {
     "name": "stdout",
     "output_type": "stream",
     "text": [
      "[292 216 808 943]\n",
      "[291 193 838 935]\n",
      "[165 170 734 941]\n",
      "[361 161 900 883]\n",
      "[214 169 795 908]\n"
     ]
    },
    {
     "name": "stderr",
     "output_type": "stream",
     "text": [
      "preprocessing: 4129it [02:59, 23.26it/s]"
     ]
    },
    {
     "name": "stdout",
     "output_type": "stream",
     "text": [
      "[266 239 812 821]\n",
      "[298 213 872 916]\n",
      "[313 192 945 931]\n",
      "[265 202 794 816]\n"
     ]
    },
    {
     "name": "stderr",
     "output_type": "stream",
     "text": [
      "preprocessing: 4135it [02:59, 22.62it/s]"
     ]
    },
    {
     "name": "stdout",
     "output_type": "stream",
     "text": [
      "[278 182 868 904]\n",
      "[144 163 751 954]\n",
      "[249 125 791 921]\n",
      "[276 162 831 964]\n",
      "[212 182 810 960]\n"
     ]
    },
    {
     "name": "stderr",
     "output_type": "stream",
     "text": [
      "\r",
      "preprocessing: 4138it [02:59, 22.87it/s]"
     ]
    },
    {
     "name": "stdout",
     "output_type": "stream",
     "text": [
      "[113 120 759 852]\n",
      "[211 210 759 951]\n",
      "[240 116 807 910]\n",
      "[202 227 780 898]\n",
      "[230 217 810 916]\n"
     ]
    },
    {
     "name": "stderr",
     "output_type": "stream",
     "text": [
      "preprocessing: 4144it [02:59, 22.86it/s]"
     ]
    },
    {
     "name": "stdout",
     "output_type": "stream",
     "text": [
      "[209 158 748 896]\n",
      "[154 161 749 951]\n",
      "[210 223 764 932]\n",
      "[299 133 882 923]\n",
      "[122 162 723 931]\n"
     ]
    },
    {
     "name": "stderr",
     "output_type": "stream",
     "text": [
      "preprocessing: 4150it [02:59, 22.73it/s]"
     ]
    },
    {
     "name": "stdout",
     "output_type": "stream",
     "text": [
      "[215 189 785 865]\n",
      "[218 191 764 900]\n",
      "[297 150 903 939]\n",
      "[250 207 777 938]\n",
      "[218 186 796 932]\n"
     ]
    },
    {
     "name": "stderr",
     "output_type": "stream",
     "text": [
      "\r",
      "preprocessing: 4153it [03:00, 22.94it/s]"
     ]
    },
    {
     "name": "stdout",
     "output_type": "stream",
     "text": [
      "[186 192 752 876]\n",
      "[255 176 812 895]\n",
      "[276 167 851 957]\n",
      "[240 203 794 976]\n",
      "[309 174 818 938]\n"
     ]
    },
    {
     "name": "stderr",
     "output_type": "stream",
     "text": [
      "preprocessing: 4159it [03:00, 22.76it/s]"
     ]
    },
    {
     "name": "stdout",
     "output_type": "stream",
     "text": [
      "[277 190 832 941]\n",
      "[227 191 780 933]\n",
      "[263 230 862 960]\n",
      "[235 192 760 924]\n",
      "[170 173 702 907]\n"
     ]
    },
    {
     "name": "stderr",
     "output_type": "stream",
     "text": [
      "preprocessing: 4165it [03:00, 22.81it/s]"
     ]
    },
    {
     "name": "stdout",
     "output_type": "stream",
     "text": [
      "[213 189 728 938]\n",
      "[228  46 797 862]\n",
      "[243 150 789 947]\n",
      "[248 214 790 910]\n",
      "[219 186 762 918]\n"
     ]
    },
    {
     "name": "stderr",
     "output_type": "stream",
     "text": [
      "\r",
      "preprocessing: 4168it [03:00, 22.99it/s]"
     ]
    },
    {
     "name": "stdout",
     "output_type": "stream",
     "text": [
      "[213 203 768 923]\n",
      "[254 155 799 919]\n",
      "[196 194 787 908]\n",
      "[139 140 807 947]\n",
      "[266 192 804 886]\n"
     ]
    },
    {
     "name": "stderr",
     "output_type": "stream",
     "text": [
      "preprocessing: 4174it [03:00, 22.79it/s]"
     ]
    },
    {
     "name": "stdout",
     "output_type": "stream",
     "text": [
      "[267 207 829 885]\n",
      "[266 186 826 894]\n",
      "[218 188 766 894]\n",
      "[115 122 737 958]\n",
      "[248 111 827 901]\n"
     ]
    },
    {
     "name": "stderr",
     "output_type": "stream",
     "text": [
      "preprocessing: 4180it [03:01, 22.70it/s]"
     ]
    },
    {
     "name": "stdout",
     "output_type": "stream",
     "text": [
      "[298 196 909 947]\n",
      "[265 227 853 909]\n",
      "[135 186 627 942]\n",
      "[286 140 831 906]\n",
      "[259 212 792 916]\n"
     ]
    },
    {
     "name": "stderr",
     "output_type": "stream",
     "text": [
      "\r",
      "preprocessing: 4183it [03:01, 22.91it/s]"
     ]
    },
    {
     "name": "stdout",
     "output_type": "stream",
     "text": [
      "[176 192 769 972]\n",
      "[197 205 752 950]\n",
      "[261 182 856 890]\n",
      "[297 173 870 934]\n",
      "[300  99 890 926]\n"
     ]
    },
    {
     "name": "stderr",
     "output_type": "stream",
     "text": [
      "preprocessing: 4189it [03:01, 22.88it/s]"
     ]
    },
    {
     "name": "stdout",
     "output_type": "stream",
     "text": [
      "[227 227 773 907]\n",
      "[212 162 773 919]\n",
      "[231 107 804 902]\n",
      "[262 173 800 906]\n",
      "[225 155 802 910]\n"
     ]
    },
    {
     "name": "stderr",
     "output_type": "stream",
     "text": [
      "preprocessing: 4195it [03:01, 22.84it/s]"
     ]
    },
    {
     "name": "stdout",
     "output_type": "stream",
     "text": [
      "[390 190 897 901]\n",
      "[272 149 835 885]\n",
      "[273 187 833 906]\n",
      "[246 156 794 911]\n",
      "[293 169 833 914]\n"
     ]
    },
    {
     "name": "stderr",
     "output_type": "stream",
     "text": [
      "\r",
      "preprocessing: 4198it [03:02, 22.58it/s]"
     ]
    },
    {
     "name": "stdout",
     "output_type": "stream",
     "text": [
      "[269 148 881 977]\n",
      "[278 212 840 929]\n",
      "[286 231 829 903]\n",
      "[248 271 761 882]\n",
      "[290 128 874 846]\n"
     ]
    },
    {
     "name": "stderr",
     "output_type": "stream",
     "text": [
      "preprocessing: 4204it [03:02, 21.26it/s]"
     ]
    },
    {
     "name": "stdout",
     "output_type": "stream",
     "text": [
      "[311 118 891 921]\n",
      "[150 117 726 891]\n",
      "[278 173 837 822]\n",
      "[229 235 826 860]\n",
      "[299 211 954 907]\n"
     ]
    },
    {
     "name": "stderr",
     "output_type": "stream",
     "text": [
      "preprocessing: 4210it [03:02, 23.00it/s]"
     ]
    },
    {
     "name": "stdout",
     "output_type": "stream",
     "text": [
      "[274 222 805 898]\n",
      "[264 173 839 949]\n",
      "[190 179 737 834]\n",
      "[209 175 749 921]\n",
      "[230 157 782 948]\n",
      "[206 187 772 952]\n"
     ]
    },
    {
     "name": "stderr",
     "output_type": "stream",
     "text": [
      "\r",
      "preprocessing: 4213it [03:02, 23.13it/s]"
     ]
    },
    {
     "name": "stdout",
     "output_type": "stream",
     "text": [
      "[259 154 820 884]\n",
      "[197 208 772 890]\n",
      "[137 123 718 986]\n",
      "[250 226 747 850]\n",
      "[303 238 830 842]\n"
     ]
    },
    {
     "name": "stderr",
     "output_type": "stream",
     "text": [
      "preprocessing: 4219it [03:03, 22.57it/s]"
     ]
    },
    {
     "name": "stdout",
     "output_type": "stream",
     "text": [
      "[236 182 804 955]\n",
      "[263 187 805 932]\n",
      "[258 189 821 884]\n",
      "[236 223 791 956]\n",
      "[233 231 772 922]\n"
     ]
    },
    {
     "name": "stderr",
     "output_type": "stream",
     "text": [
      "preprocessing: 4225it [03:03, 22.31it/s]"
     ]
    },
    {
     "name": "stdout",
     "output_type": "stream",
     "text": [
      "[241 246 822 905]\n",
      "[218 262 777 883]\n",
      "[292 160 795 879]\n",
      "[253 198 762 852]\n",
      "[266 157 764 962]\n"
     ]
    },
    {
     "name": "stderr",
     "output_type": "stream",
     "text": [
      "\r",
      "preprocessing: 4228it [03:03, 22.63it/s]"
     ]
    },
    {
     "name": "stdout",
     "output_type": "stream",
     "text": [
      "[284 217 894 967]\n",
      "[362 191 912 893]\n",
      "[170 199 778 927]\n",
      "[222 225 775 866]\n",
      "[200 176 758 920]\n"
     ]
    },
    {
     "name": "stderr",
     "output_type": "stream",
     "text": [
      "preprocessing: 4234it [03:03, 22.33it/s]"
     ]
    },
    {
     "name": "stdout",
     "output_type": "stream",
     "text": [
      "[279 215 787 890]\n",
      "[248 189 751 920]\n",
      "[221 180 832 954]\n",
      "[226 185 776 896]\n",
      "[272 185 790 904]\n"
     ]
    },
    {
     "name": "stderr",
     "output_type": "stream",
     "text": [
      "preprocessing: 4240it [03:03, 22.88it/s]"
     ]
    },
    {
     "name": "stdout",
     "output_type": "stream",
     "text": [
      "[238  92 824 969]\n",
      "[188 187 701 903]\n",
      "[268 166 741 914]\n",
      "[234 186 821 887]\n",
      "[205 191 783 919]\n"
     ]
    },
    {
     "name": "stderr",
     "output_type": "stream",
     "text": [
      "\r",
      "preprocessing: 4243it [03:04, 22.63it/s]"
     ]
    },
    {
     "name": "stdout",
     "output_type": "stream",
     "text": [
      "[300 182 787 935]\n",
      "[213 185 781 926]\n",
      "[251 172 841 925]\n",
      "[260 182 811 911]\n",
      "[254 205 812 846]\n"
     ]
    },
    {
     "name": "stderr",
     "output_type": "stream",
     "text": [
      "preprocessing: 4249it [03:04, 23.03it/s]"
     ]
    },
    {
     "name": "stdout",
     "output_type": "stream",
     "text": [
      "[209 198 789 918]\n",
      "[245 164 799 886]\n",
      "[277 169 824 934]\n",
      "[275 198 860 884]\n",
      "[223 170 803 909]\n"
     ]
    },
    {
     "name": "stderr",
     "output_type": "stream",
     "text": [
      "preprocessing: 4255it [03:04, 22.92it/s]"
     ]
    },
    {
     "name": "stdout",
     "output_type": "stream",
     "text": [
      "[234 199 761 923]\n",
      "[225 192 757 894]\n",
      "[226 172 802 878]\n",
      "[210 294 765 863]\n",
      "[203 145 783 933]\n"
     ]
    },
    {
     "name": "stderr",
     "output_type": "stream",
     "text": [
      "\r",
      "preprocessing: 4258it [03:04, 22.67it/s]"
     ]
    },
    {
     "name": "stdout",
     "output_type": "stream",
     "text": [
      "[248 213 826 886]\n",
      "[272 174 779 917]\n",
      "[204 189 776 916]\n",
      "[241 256 792 920]\n",
      "[274 123 798 848]\n"
     ]
    },
    {
     "name": "stderr",
     "output_type": "stream",
     "text": [
      "preprocessing: 4264it [03:04, 23.05it/s]"
     ]
    },
    {
     "name": "stdout",
     "output_type": "stream",
     "text": [
      "[211 196 769 934]\n",
      "[103 180 719 917]\n",
      "[166 237 722 906]\n",
      "[130 134 747 939]\n",
      "[232 200 829 874]\n"
     ]
    },
    {
     "name": "stderr",
     "output_type": "stream",
     "text": [
      "preprocessing: 4270it [03:05, 22.93it/s]"
     ]
    },
    {
     "name": "stdout",
     "output_type": "stream",
     "text": [
      "[241 212 794 854]\n",
      "[298 143 878 951]\n",
      "[259 187 871 932]\n",
      "[309 151 850 917]\n",
      "[219 192 780 885]\n"
     ]
    },
    {
     "name": "stderr",
     "output_type": "stream",
     "text": [
      "\r",
      "preprocessing: 4273it [03:05, 22.68it/s]"
     ]
    },
    {
     "name": "stdout",
     "output_type": "stream",
     "text": [
      "[322 157 935 977]\n",
      "[259 214 814 842]\n",
      "[271 187 790 904]\n",
      "[203 192 805 895]\n",
      "[275 200 891 972]\n"
     ]
    },
    {
     "name": "stderr",
     "output_type": "stream",
     "text": [
      "preprocessing: 4279it [03:05, 22.36it/s]"
     ]
    },
    {
     "name": "stdout",
     "output_type": "stream",
     "text": [
      "[227 184 824 874]\n",
      "[300 186 814 863]\n",
      "[204 173 733 921]\n",
      "[154 155 751 922]\n",
      "[163 133 784 938]\n"
     ]
    },
    {
     "name": "stderr",
     "output_type": "stream",
     "text": [
      "preprocessing: 4285it [03:05, 23.19it/s]"
     ]
    },
    {
     "name": "stdout",
     "output_type": "stream",
     "text": [
      "[274 217 856 912]\n",
      "[222 157 736 930]\n",
      "[225  94 794 885]\n",
      "[245 170 822 889]\n",
      "[374 236 863 908]\n"
     ]
    },
    {
     "name": "stderr",
     "output_type": "stream",
     "text": [
      "\r",
      "preprocessing: 4288it [03:06, 22.84it/s]"
     ]
    },
    {
     "name": "stdout",
     "output_type": "stream",
     "text": [
      "[166 105 753 922]\n",
      "[276 171 823 839]\n",
      "[217 146 749 938]\n",
      "[249 193 783 923]\n",
      "[265 190 830 881]\n"
     ]
    },
    {
     "name": "stderr",
     "output_type": "stream",
     "text": [
      "preprocessing: 4294it [03:06, 22.72it/s]"
     ]
    },
    {
     "name": "stdout",
     "output_type": "stream",
     "text": [
      "[227 186 766 944]\n",
      "[408 197 873 874]\n",
      "[203 209 808 904]\n",
      "[196 224 767 968]\n",
      "[234 234 797 911]\n"
     ]
    },
    {
     "name": "stderr",
     "output_type": "stream",
     "text": [
      "preprocessing: 4300it [03:06, 20.88it/s]"
     ]
    },
    {
     "name": "stdout",
     "output_type": "stream",
     "text": [
      "[206 176 761 914]\n",
      "[236 201 769 887]\n",
      "[274 212 819 978]\n",
      "[291 223 837 864]\n"
     ]
    },
    {
     "name": "stderr",
     "output_type": "stream",
     "text": [
      "\r",
      "preprocessing: 4303it [03:06, 19.87it/s]"
     ]
    },
    {
     "name": "stdout",
     "output_type": "stream",
     "text": [
      "[167 139 736 969]\n",
      "[171 120 764 933]\n",
      "[263 171 863 971]\n",
      "[213 183 777 900]\n",
      "[328 134 926 902]\n"
     ]
    },
    {
     "name": "stderr",
     "output_type": "stream",
     "text": [
      "preprocessing: 4309it [03:07, 21.91it/s]"
     ]
    },
    {
     "name": "stdout",
     "output_type": "stream",
     "text": [
      "[239 208 814 900]\n",
      "[271 239 826 856]\n",
      "[314 183 909 893]\n",
      "[282 207 822 886]\n",
      "[153 191 705 906]\n",
      "[276 235 829 907]\n"
     ]
    },
    {
     "name": "stderr",
     "output_type": "stream",
     "text": [
      "preprocessing: 4315it [03:07, 23.26it/s]"
     ]
    },
    {
     "name": "stdout",
     "output_type": "stream",
     "text": [
      "[109 215 730 929]\n",
      "[252 172 849 878]\n",
      "[124 188 750 956]\n",
      "[190 130 756 846]\n",
      "[253 171 781 955]\n",
      "[186 193 722 954]\n"
     ]
    },
    {
     "name": "stderr",
     "output_type": "stream",
     "text": [
      "preprocessing: 4321it [03:07, 23.22it/s]"
     ]
    },
    {
     "name": "stdout",
     "output_type": "stream",
     "text": [
      "[197 186 772 891]\n",
      "[248 170 775 946]\n",
      "[266 186 764 932]\n",
      "[306 211 889 886]\n",
      "[267 188 827 940]\n"
     ]
    },
    {
     "name": "stderr",
     "output_type": "stream",
     "text": [
      "preprocessing: 4327it [03:07, 23.33it/s]"
     ]
    },
    {
     "name": "stdout",
     "output_type": "stream",
     "text": [
      "[214 199 773 936]\n",
      "[238 174 777 911]\n",
      "[302 163 914 979]\n",
      "[208 180 767 919]\n",
      "[246 159 833 978]\n"
     ]
    },
    {
     "name": "stderr",
     "output_type": "stream",
     "text": [
      "\r",
      "preprocessing: 4330it [03:07, 22.93it/s]"
     ]
    },
    {
     "name": "stdout",
     "output_type": "stream",
     "text": [
      "[109 143 735 926]\n",
      "[233 168 785 945]\n",
      "[267 194 874 929]\n",
      "[193 191 783 991]\n",
      "[161 222 765 886]\n"
     ]
    },
    {
     "name": "stderr",
     "output_type": "stream",
     "text": [
      "preprocessing: 4336it [03:08, 23.19it/s]"
     ]
    },
    {
     "name": "stdout",
     "output_type": "stream",
     "text": [
      "[192 119 785 991]\n",
      "[187 218 752 936]\n",
      "[265 181 828 921]\n",
      "[ 80 168 701 993]\n",
      "[255 227 787 917]\n"
     ]
    },
    {
     "name": "stderr",
     "output_type": "stream",
     "text": [
      "\r",
      "preprocessing: 4339it [03:08, 22.84it/s]"
     ]
    },
    {
     "name": "stdout",
     "output_type": "stream",
     "text": [
      "[268 187 861 915]\n",
      "[258 192 766 887]\n",
      "[241 142 814 920]\n",
      "[244 272 820 858]\n",
      "[251 187 785 902]\n"
     ]
    },
    {
     "name": "stderr",
     "output_type": "stream",
     "text": [
      "preprocessing: 4345it [03:08, 22.72it/s]"
     ]
    },
    {
     "name": "stdout",
     "output_type": "stream",
     "text": [
      "[257  85 831 907]\n",
      "[237 145 820 935]\n",
      "[313 133 914 924]\n",
      "[155 150 750 974]\n",
      "[237 169 829 894]\n"
     ]
    },
    {
     "name": "stderr",
     "output_type": "stream",
     "text": [
      "preprocessing: 4351it [03:08, 22.38it/s]"
     ]
    },
    {
     "name": "stdout",
     "output_type": "stream",
     "text": [
      "[ 81 186 680 908]\n",
      "[291 279 789 878]\n",
      "[232 221 776 846]\n",
      "[301 168 918 897]\n",
      "[238 210 763 946]\n"
     ]
    },
    {
     "name": "stderr",
     "output_type": "stream",
     "text": [
      "\r",
      "preprocessing: 4354it [03:08, 22.68it/s]"
     ]
    },
    {
     "name": "stdout",
     "output_type": "stream",
     "text": [
      "[213 164 775 892]\n",
      "[218 169 746 910]\n",
      "[243 183 771 954]\n",
      "[287 187 831 937]\n",
      "[313 172 891 913]\n"
     ]
    },
    {
     "name": "stderr",
     "output_type": "stream",
     "text": [
      "preprocessing: 4360it [03:09, 22.77it/s]"
     ]
    },
    {
     "name": "stdout",
     "output_type": "stream",
     "text": [
      "[185 146 779 905]\n",
      "[152 108 767 949]\n",
      "[218 193 766 944]\n",
      "[259 161 827 923]\n"
     ]
    },
    {
     "name": "stderr",
     "output_type": "stream",
     "text": [
      "\r",
      "preprocessing: 4363it [03:09, 22.96it/s]"
     ]
    },
    {
     "name": "stdout",
     "output_type": "stream",
     "text": [
      "[250 235 827 931]\n",
      "[263 198 748 899]\n",
      "[253 229 807 914]\n",
      "[114 175 735 961]\n",
      "[196  71 802 915]\n"
     ]
    },
    {
     "name": "stderr",
     "output_type": "stream",
     "text": [
      "preprocessing: 4369it [03:09, 22.90it/s]"
     ]
    },
    {
     "name": "stdout",
     "output_type": "stream",
     "text": [
      "[214 185 810 889]\n",
      "[213 176 772 960]\n",
      "[218 198 770 833]\n",
      "[279 220 790 906]\n",
      "[141 175 753 922]\n"
     ]
    },
    {
     "name": "stderr",
     "output_type": "stream",
     "text": [
      "preprocessing: 4375it [03:09, 22.75it/s]"
     ]
    },
    {
     "name": "stdout",
     "output_type": "stream",
     "text": [
      "[227 185 820 929]\n",
      "[231 170 845 948]\n",
      "[284 200 801 839]\n",
      "[258 202 775 945]\n",
      "[281 244 838 868]\n"
     ]
    },
    {
     "name": "stderr",
     "output_type": "stream",
     "text": [
      "preprocessing: 4381it [03:10, 22.68it/s]"
     ]
    },
    {
     "name": "stdout",
     "output_type": "stream",
     "text": [
      "[182 113 777 944]\n",
      "[296 240 817 850]\n",
      "[244 157 789 943]\n",
      "[303 205 871 947]\n",
      "[257 191 790 872]\n"
     ]
    },
    {
     "name": "stderr",
     "output_type": "stream",
     "text": [
      "\r",
      "preprocessing: 4384it [03:10, 22.90it/s]"
     ]
    },
    {
     "name": "stdout",
     "output_type": "stream",
     "text": [
      "[306  92 833 866]\n",
      "[234 202 760 893]\n",
      "[314 193 983 915]\n",
      "[287 139 874 907]\n",
      "[154 198 741 976]\n"
     ]
    },
    {
     "name": "stderr",
     "output_type": "stream",
     "text": [
      "preprocessing: 4390it [03:10, 23.17it/s]"
     ]
    },
    {
     "name": "stdout",
     "output_type": "stream",
     "text": [
      "[192 207 735 961]\n",
      "[215 147 760 900]\n",
      "[276 188 902 903]\n",
      "[186 186 759 910]\n",
      "[195 178 773 921]\n"
     ]
    },
    {
     "name": "stderr",
     "output_type": "stream",
     "text": [
      "\r",
      "preprocessing: 4393it [03:10, 22.82it/s]"
     ]
    },
    {
     "name": "stdout",
     "output_type": "stream",
     "text": [
      "[100 257 697 921]\n",
      "[269 192 785 922]\n",
      "[253 207 820 916]\n",
      "[264 199 816 928]\n",
      "[286 218 886 889]\n"
     ]
    },
    {
     "name": "stderr",
     "output_type": "stream",
     "text": [
      "preprocessing: 4399it [03:10, 22.43it/s]"
     ]
    },
    {
     "name": "stdout",
     "output_type": "stream",
     "text": [
      "[234 160 846 965]\n",
      "[154 163 733 930]\n",
      "[263 158 749 984]\n",
      "[206 207 738 922]\n"
     ]
    },
    {
     "name": "stderr",
     "output_type": "stream",
     "text": [
      "\r",
      "preprocessing: 4402it [03:11, 19.52it/s]"
     ]
    },
    {
     "name": "stdout",
     "output_type": "stream",
     "text": [
      "[232 216 838 896]\n",
      "[208 208 744 824]\n",
      "[253 195 749 928]\n",
      "[304 152 867 938]\n",
      "[215 206 829 827]\n"
     ]
    },
    {
     "name": "stderr",
     "output_type": "stream",
     "text": [
      "preprocessing: 4408it [03:11, 21.45it/s]"
     ]
    },
    {
     "name": "stdout",
     "output_type": "stream",
     "text": [
      "[220 211 789 978]\n",
      "[207 207 788 878]\n",
      "[206 221 780 840]\n",
      "[260 252 815 850]\n",
      "[127 176 743 929]\n",
      "[229 197 817 939]\n"
     ]
    },
    {
     "name": "stderr",
     "output_type": "stream",
     "text": [
      "preprocessing: 4414it [03:11, 23.43it/s]"
     ]
    },
    {
     "name": "stdout",
     "output_type": "stream",
     "text": [
      "[230 201 781 874]\n",
      "[264 203 847 908]\n",
      "[216 202 782 904]\n",
      "[263 238 778 827]\n",
      "[224 208 768 887]\n"
     ]
    },
    {
     "name": "stderr",
     "output_type": "stream",
     "text": [
      "preprocessing: 4420it [03:11, 23.30it/s]"
     ]
    },
    {
     "name": "stdout",
     "output_type": "stream",
     "text": [
      "[160 160 747 937]\n",
      "[205 188 725 954]\n",
      "[228 184 781 937]\n",
      "[272 177 805 911]\n",
      "[251 180 783 917]\n"
     ]
    },
    {
     "name": "stderr",
     "output_type": "stream",
     "text": [
      "\r",
      "preprocessing: 4423it [03:12, 22.91it/s]"
     ]
    },
    {
     "name": "stdout",
     "output_type": "stream",
     "text": [
      "[271 190 854 973]\n",
      "[290 187 835 966]\n",
      "[280 189 827 984]\n",
      "[176 191 758 896]\n",
      "[287 169 887 884]\n"
     ]
    },
    {
     "name": "stderr",
     "output_type": "stream",
     "text": [
      "preprocessing: 4429it [03:12, 22.47it/s]"
     ]
    },
    {
     "name": "stdout",
     "output_type": "stream",
     "text": [
      "[134 141 736 873]\n",
      "[261 214 826 890]\n",
      "[305 205 835 910]\n",
      "[262 190 826 901]\n",
      "[298 140 842 970]\n"
     ]
    },
    {
     "name": "stderr",
     "output_type": "stream",
     "text": [
      "preprocessing: 4435it [03:12, 22.26it/s]"
     ]
    },
    {
     "name": "stdout",
     "output_type": "stream",
     "text": [
      "[207 172 752 916]\n",
      "[173 108 813 961]\n",
      "[230 195 777 954]\n",
      "[288 222 798 921]\n",
      "[237 155 762 903]\n"
     ]
    },
    {
     "name": "stderr",
     "output_type": "stream",
     "text": [
      "preprocessing: 4441it [03:12, 22.84it/s]"
     ]
    },
    {
     "name": "stdout",
     "output_type": "stream",
     "text": [
      "[299 186 874 896]\n",
      "[234 184 813 894]\n",
      "[266 227 791 854]\n",
      "[199 176 776 920]\n",
      "[215 186 751 885]\n"
     ]
    },
    {
     "name": "stderr",
     "output_type": "stream",
     "text": [
      "\r",
      "preprocessing: 4444it [03:12, 23.45it/s]"
     ]
    },
    {
     "name": "stdout",
     "output_type": "stream",
     "text": [
      "[250 183 762 897]\n",
      "[213 148 732 894]\n",
      "[251 179 836 932]\n",
      "[267 175 807 914]\n",
      "[192 187 759 902]\n"
     ]
    },
    {
     "name": "stderr",
     "output_type": "stream",
     "text": [
      "preprocessing: 4450it [03:13, 23.14it/s]"
     ]
    },
    {
     "name": "stdout",
     "output_type": "stream",
     "text": [
      "[218 132 763 907]\n",
      "[246 212 764 933]\n",
      "[ 72 122 758 936]\n",
      "[216 173 798 927]\n",
      "[284 158 822 914]\n"
     ]
    },
    {
     "name": "stderr",
     "output_type": "stream",
     "text": [
      "\r",
      "preprocessing: 4453it [03:13, 22.80it/s]"
     ]
    },
    {
     "name": "stdout",
     "output_type": "stream",
     "text": [
      "[233 195 786 944]\n",
      "[349 186 840 895]\n",
      "[205 144 786 949]\n",
      "[149 154 745 944]\n",
      "[252 155 782 930]\n"
     ]
    },
    {
     "name": "stderr",
     "output_type": "stream",
     "text": [
      "preprocessing: 4459it [03:13, 21.75it/s]"
     ]
    },
    {
     "name": "stdout",
     "output_type": "stream",
     "text": [
      "[279  94 762 935]\n",
      "[255 202 813 918]\n",
      "[287 159 840 968]\n",
      "[185 179 742 864]\n",
      "[213 215 750 902]\n"
     ]
    },
    {
     "name": "stderr",
     "output_type": "stream",
     "text": [
      "preprocessing: 4465it [03:13, 22.30it/s]"
     ]
    },
    {
     "name": "stdout",
     "output_type": "stream",
     "text": [
      "[299 304 816 851]\n",
      "[271 190 780 901]\n",
      "[283 180 880 899]\n",
      "[226 183 784 939]\n",
      "[212 217 768 820]\n"
     ]
    },
    {
     "name": "stderr",
     "output_type": "stream",
     "text": [
      "\r",
      "preprocessing: 4468it [03:14, 22.22it/s]"
     ]
    },
    {
     "name": "stdout",
     "output_type": "stream",
     "text": [
      "[263 196 830 910]\n",
      "[314 235 888 923]\n",
      "[250 239 786 913]\n",
      "[249 161 767 957]\n",
      "[294 186 865 931]\n"
     ]
    },
    {
     "name": "stderr",
     "output_type": "stream",
     "text": [
      "preprocessing: 4474it [03:14, 22.14it/s]"
     ]
    },
    {
     "name": "stdout",
     "output_type": "stream",
     "text": [
      "[239 228 781 912]\n",
      "[249 165 773 878]\n",
      "[186 219 764 875]\n",
      "[288 192 805 927]\n"
     ]
    },
    {
     "name": "stderr",
     "output_type": "stream",
     "text": [
      "preprocessing: 4480it [03:14, 22.78it/s]"
     ]
    },
    {
     "name": "stdout",
     "output_type": "stream",
     "text": [
      "[265 183 807 920]\n",
      "[297 239 803 885]\n",
      "[191 181 758 930]\n",
      "[302 184 900 959]\n",
      "[226 166 701 904]\n"
     ]
    },
    {
     "name": "stderr",
     "output_type": "stream",
     "text": [
      "\r",
      "preprocessing: 4483it [03:14, 22.56it/s]"
     ]
    },
    {
     "name": "stdout",
     "output_type": "stream",
     "text": [
      "[244 165 814 956]\n",
      "[218 147 830 950]\n",
      "[239 225 771 888]\n",
      "[274 204 762 830]\n",
      "[252 212 761 949]\n"
     ]
    },
    {
     "name": "stderr",
     "output_type": "stream",
     "text": [
      "preprocessing: 4489it [03:14, 22.30it/s]"
     ]
    },
    {
     "name": "stdout",
     "output_type": "stream",
     "text": [
      "[234 201 771 908]\n",
      "[226 193 831 948]\n",
      "[273 169 767 880]\n",
      "[250 229 765 904]\n",
      "[277 204 893 881]\n"
     ]
    },
    {
     "name": "stderr",
     "output_type": "stream",
     "text": [
      "preprocessing: 4495it [03:15, 22.18it/s]"
     ]
    },
    {
     "name": "stdout",
     "output_type": "stream",
     "text": [
      "[308 175 835 892]\n",
      "[241 237 771 925]\n",
      "[247 192 811 945]\n",
      "[258 189 856 893]\n",
      "[241 178 826 943]\n"
     ]
    },
    {
     "name": "stderr",
     "output_type": "stream",
     "text": [
      "\r",
      "preprocessing: 4498it [03:15, 22.14it/s]"
     ]
    },
    {
     "name": "stdout",
     "output_type": "stream",
     "text": [
      "[132 185 749 921]\n",
      "[189 190 821 882]\n",
      "[273 209 845 893]\n",
      "[161 107 755 944]\n",
      "[118 104 720 879]\n"
     ]
    },
    {
     "name": "stderr",
     "output_type": "stream",
     "text": [
      "preprocessing: 4503it [03:15, 19.00it/s]"
     ]
    },
    {
     "name": "stdout",
     "output_type": "stream",
     "text": [
      "[208 191 793 899]\n",
      "[298 182 889 874]\n",
      "[267 172 803 924]\n",
      "[277 160 873 941]\n",
      "[229 285 771 849]\n"
     ]
    },
    {
     "name": "stderr",
     "output_type": "stream",
     "text": [
      "preprocessing: 4509it [03:15, 21.93it/s]"
     ]
    },
    {
     "name": "stdout",
     "output_type": "stream",
     "text": [
      "[222 211 764 895]\n",
      "[270 140 820 902]\n",
      "[270 226 793 917]\n",
      "[215 165 804 946]\n",
      "[227 191 798 864]\n",
      "[297 123 853 899]\n"
     ]
    },
    {
     "name": "stderr",
     "output_type": "stream",
     "text": [
      "preprocessing: 4515it [03:16, 23.42it/s]"
     ]
    },
    {
     "name": "stdout",
     "output_type": "stream",
     "text": [
      "[235 115 780 853]\n",
      "[292 177 853 970]\n",
      "[192 188 768 884]\n",
      "[161 197 756 938]\n",
      "[238 196 758 950]\n",
      "[169 202 745 917]\n"
     ]
    },
    {
     "name": "stderr",
     "output_type": "stream",
     "text": [
      "preprocessing: 4521it [03:16, 23.00it/s]"
     ]
    },
    {
     "name": "stdout",
     "output_type": "stream",
     "text": [
      "[175  90 789 930]\n",
      "[251 200 775 904]\n",
      "[181 183 752 895]\n",
      "[286 168 921 927]\n",
      "[281 175 836 844]\n"
     ]
    },
    {
     "name": "stderr",
     "output_type": "stream",
     "text": [
      "preprocessing: 4527it [03:16, 22.51it/s]"
     ]
    },
    {
     "name": "stdout",
     "output_type": "stream",
     "text": [
      "[243 194 817 924]\n",
      "[242 228 771 888]\n",
      "[286 196 877 865]\n",
      "[286 203 820 938]\n",
      "[309 146 790 838]\n"
     ]
    },
    {
     "name": "stderr",
     "output_type": "stream",
     "text": [
      "\r",
      "preprocessing: 4530it [03:16, 22.37it/s]"
     ]
    },
    {
     "name": "stdout",
     "output_type": "stream",
     "text": [
      "[242 176 813 935]\n",
      "[211 153 797 947]\n",
      "[234 189 782 975]\n",
      "[218 177 783 918]\n",
      "[127 170 785 965]\n"
     ]
    },
    {
     "name": "stderr",
     "output_type": "stream",
     "text": [
      "preprocessing: 4536it [03:17, 22.58it/s]"
     ]
    },
    {
     "name": "stdout",
     "output_type": "stream",
     "text": [
      "[233 191 790 891]\n",
      "[220 171 775 930]\n",
      "[212 247 766 883]\n",
      "[174 189 773 920]\n",
      "[265 199 791 888]\n"
     ]
    },
    {
     "name": "stderr",
     "output_type": "stream",
     "text": [
      "\r",
      "preprocessing: 4539it [03:17, 22.42it/s]"
     ]
    },
    {
     "name": "stdout",
     "output_type": "stream",
     "text": [
      "[214 199 772 916]\n",
      "[214 210 778 881]\n",
      "[242 255 782 903]\n",
      "[294 195 858 915]\n",
      "[225 191 809 942]\n"
     ]
    },
    {
     "name": "stderr",
     "output_type": "stream",
     "text": [
      "preprocessing: 4545it [03:17, 22.62it/s]"
     ]
    },
    {
     "name": "stdout",
     "output_type": "stream",
     "text": [
      "[245 234 809 899]\n",
      "[273 205 786 912]\n",
      "[288 173 775 850]\n",
      "[ 96 171 700 906]\n",
      "[273 239 824 880]\n"
     ]
    },
    {
     "name": "stderr",
     "output_type": "stream",
     "text": [
      "preprocessing: 4551it [03:17, 22.33it/s]"
     ]
    },
    {
     "name": "stdout",
     "output_type": "stream",
     "text": [
      "[331 173 875 911]\n",
      "[325 172 901 880]\n",
      "[192 152 788 919]\n",
      "[ 80 177 731 968]\n",
      "[309 115 889 966]\n"
     ]
    },
    {
     "name": "stderr",
     "output_type": "stream",
     "text": [
      "\r",
      "preprocessing: 4554it [03:17, 22.65it/s]"
     ]
    },
    {
     "name": "stdout",
     "output_type": "stream",
     "text": [
      "[250 204 809 959]\n",
      "[267 234 836 894]\n",
      "[212 164 798 943]\n",
      "[233 167 814 927]\n",
      "[238 193 757 902]\n"
     ]
    },
    {
     "name": "stderr",
     "output_type": "stream",
     "text": [
      "preprocessing: 4560it [03:18, 22.34it/s]"
     ]
    },
    {
     "name": "stdout",
     "output_type": "stream",
     "text": [
      "[232 198 807 950]\n",
      "[313 258 869 912]\n",
      "[293 183 883 946]\n",
      "[175 144 751 903]\n"
     ]
    },
    {
     "name": "stderr",
     "output_type": "stream",
     "text": [
      "\r",
      "preprocessing: 4563it [03:18, 22.26it/s]"
     ]
    },
    {
     "name": "stdout",
     "output_type": "stream",
     "text": [
      "[212 151 799 932]\n",
      "[162 162 746 891]\n",
      "[246 147 769 911]\n",
      "[302 191 924 967]\n"
     ]
    },
    {
     "name": "stderr",
     "output_type": "stream",
     "text": [
      "preprocessing: 4569it [03:18, 20.72it/s]"
     ]
    },
    {
     "name": "stdout",
     "output_type": "stream",
     "text": [
      "[260 183 838 939]\n",
      "[223 228 797 877]\n",
      "[305 168 869 922]\n",
      "[287 163 846 884]\n",
      "[235 217 807 942]\n"
     ]
    },
    {
     "name": "stderr",
     "output_type": "stream",
     "text": [
      "preprocessing: 4575it [03:18, 22.99it/s]"
     ]
    },
    {
     "name": "stdout",
     "output_type": "stream",
     "text": [
      "[119 140 696 903]\n",
      "[334 245 741 882]\n",
      "[282 215 818 874]\n",
      "[262 281 826 843]\n",
      "[238 180 751 945]\n",
      "[259 221 787 855]\n"
     ]
    },
    {
     "name": "stderr",
     "output_type": "stream",
     "text": [
      "preprocessing: 4581it [03:19, 23.52it/s]"
     ]
    },
    {
     "name": "stdout",
     "output_type": "stream",
     "text": [
      "[285 233 842 988]\n",
      "[237 164 796 950]\n",
      "[298 216 871 894]\n",
      "[279 171 840 896]\n",
      "[289 164 853 910]\n"
     ]
    },
    {
     "name": "stderr",
     "output_type": "stream",
     "text": [
      "\r",
      "preprocessing: 4584it [03:19, 23.06it/s]"
     ]
    },
    {
     "name": "stdout",
     "output_type": "stream",
     "text": [
      "[273 195 802 890]\n",
      "[274 148 900 878]\n",
      "[215 202 797 906]\n",
      "[137 221 751 955]\n",
      "[240 226 779 898]\n"
     ]
    },
    {
     "name": "stderr",
     "output_type": "stream",
     "text": [
      "preprocessing: 4590it [03:19, 22.54it/s]"
     ]
    },
    {
     "name": "stdout",
     "output_type": "stream",
     "text": [
      "[264 156 827 960]\n",
      "[293 180 839 855]\n",
      "[167 207 692 922]\n",
      "[256 198 758 931]\n",
      "[225 185 756 923]\n"
     ]
    },
    {
     "name": "stderr",
     "output_type": "stream",
     "text": [
      "\r",
      "preprocessing: 4593it [03:19, 22.39it/s]"
     ]
    },
    {
     "name": "stdout",
     "output_type": "stream",
     "text": [
      "[275 172 830 928]\n",
      "[296 266 768 866]\n",
      "[281 138 866 941]\n",
      "[219 146 779 959]\n"
     ]
    },
    {
     "name": "stderr",
     "output_type": "stream",
     "text": [
      "preprocessing: 4599it [03:19, 22.62it/s]"
     ]
    },
    {
     "name": "stdout",
     "output_type": "stream",
     "text": [
      "[241 153 798 941]\n",
      "[246 226 840 919]\n",
      "[279 180 839 881]\n",
      "[283 207 865 899]\n",
      "[278 197 802 889]\n"
     ]
    },
    {
     "name": "stderr",
     "output_type": "stream",
     "text": [
      "preprocessing: 4605it [03:20, 21.38it/s]"
     ]
    },
    {
     "name": "stdout",
     "output_type": "stream",
     "text": [
      "[179 152 801 961]\n",
      "[246 177 785 904]\n",
      "[332 170 884 940]\n",
      "[281 192 830 912]\n",
      "[200 192 762 915]\n"
     ]
    },
    {
     "name": "stderr",
     "output_type": "stream",
     "text": [
      "\r",
      "preprocessing: 4608it [03:20, 21.58it/s]"
     ]
    },
    {
     "name": "stdout",
     "output_type": "stream",
     "text": [
      "[277 183 834 898]\n",
      "[191 152 770 951]\n",
      "[337 183 898 915]\n",
      "[253 238 833 974]\n",
      "[293 148 925 962]\n"
     ]
    },
    {
     "name": "stderr",
     "output_type": "stream",
     "text": [
      "preprocessing: 4614it [03:20, 21.82it/s]"
     ]
    },
    {
     "name": "stdout",
     "output_type": "stream",
     "text": [
      "[124 141 728 942]\n",
      "[226 186 780 924]\n",
      "[283 185 843 911]\n",
      "[310 111 914 942]\n",
      "[105  91 744 976]\n"
     ]
    },
    {
     "name": "stderr",
     "output_type": "stream",
     "text": [
      "\r",
      "preprocessing: 4617it [03:20, 22.28it/s]"
     ]
    },
    {
     "name": "stdout",
     "output_type": "stream",
     "text": [
      "[166 208 755 933]\n",
      "[272 219 858 899]\n",
      "[311 145 947 977]\n",
      "[183 106 804 952]\n",
      "[259 143 807 904]\n"
     ]
    },
    {
     "name": "stderr",
     "output_type": "stream",
     "text": [
      "preprocessing: 4623it [03:21, 22.17it/s]"
     ]
    },
    {
     "name": "stdout",
     "output_type": "stream",
     "text": [
      "[107 186 668 956]\n",
      "[253 223 822 903]\n",
      "[255 201 887 946]\n",
      "[126 205 736 873]\n",
      "[359 217 929 914]\n"
     ]
    },
    {
     "name": "stderr",
     "output_type": "stream",
     "text": [
      "preprocessing: 4629it [03:21, 22.51it/s]"
     ]
    },
    {
     "name": "stdout",
     "output_type": "stream",
     "text": [
      "[182 198 774 884]\n",
      "[276 247 778 858]\n",
      "[115 217 749 983]\n",
      "[362 227 861 896]\n",
      "[210 123 797 958]\n"
     ]
    },
    {
     "name": "stderr",
     "output_type": "stream",
     "text": [
      "\r",
      "preprocessing: 4632it [03:21, 21.98it/s]"
     ]
    },
    {
     "name": "stdout",
     "output_type": "stream",
     "text": [
      "[271 182 846 930]\n",
      "[330 198 843 905]\n",
      "[204 203 729 935]\n",
      "[285 160 787 888]\n",
      "[149 190 713 915]\n"
     ]
    },
    {
     "name": "stderr",
     "output_type": "stream",
     "text": [
      "preprocessing: 4638it [03:21, 22.41it/s]"
     ]
    },
    {
     "name": "stdout",
     "output_type": "stream",
     "text": [
      "[224 233 763 884]\n",
      "[286 175 910 912]\n",
      "[233 232 859 838]\n",
      "[212 213 809 894]\n",
      "[182 179 767 955]\n"
     ]
    },
    {
     "name": "stderr",
     "output_type": "stream",
     "text": [
      "preprocessing: 4644it [03:21, 22.63it/s]"
     ]
    },
    {
     "name": "stdout",
     "output_type": "stream",
     "text": [
      "[255 192 813 862]\n",
      "[382 193 915 922]\n",
      "[293 183 867 875]\n",
      "[198 212 779 930]\n",
      "[356 194 883 959]\n"
     ]
    },
    {
     "name": "stderr",
     "output_type": "stream",
     "text": [
      "\r",
      "preprocessing: 4647it [03:22, 22.06it/s]"
     ]
    },
    {
     "name": "stdout",
     "output_type": "stream",
     "text": [
      "[200 190 786 927]\n",
      "[248 171 803 871]\n",
      "[206 143 793 919]\n",
      "[296 199 833 829]\n",
      "[222 188 759 883]\n"
     ]
    },
    {
     "name": "stderr",
     "output_type": "stream",
     "text": [
      "preprocessing: 4653it [03:22, 22.46it/s]"
     ]
    },
    {
     "name": "stdout",
     "output_type": "stream",
     "text": [
      "[110 176 660 869]\n",
      "[325 194 953 975]\n",
      "[343 175 859 918]\n",
      "[288 183 807 884]\n",
      "[250 137 785 915]\n"
     ]
    },
    {
     "name": "stderr",
     "output_type": "stream",
     "text": [
      "preprocessing: 4659it [03:22, 22.25it/s]"
     ]
    },
    {
     "name": "stdout",
     "output_type": "stream",
     "text": [
      "[181 197 750 931]\n",
      "[229 193 764 916]\n",
      "[143 172 739 962]\n",
      "[243 187 802 919]\n",
      "[367 210 892 894]\n"
     ]
    },
    {
     "name": "stderr",
     "output_type": "stream",
     "text": [
      "preprocessing: 4665it [03:22, 22.84it/s]"
     ]
    },
    {
     "name": "stdout",
     "output_type": "stream",
     "text": [
      "[249 209 771 922]\n",
      "[142 132 752 947]\n",
      "[256 222 758 955]\n",
      "[277 181 814 881]\n",
      "[252 165 773 868]\n"
     ]
    },
    {
     "name": "stderr",
     "output_type": "stream",
     "text": [
      "\r",
      "preprocessing: 4668it [03:23, 22.58it/s]"
     ]
    },
    {
     "name": "stdout",
     "output_type": "stream",
     "text": [
      "[215 202 826 915]\n",
      "[209 195 738 911]\n",
      "[206 212 758 924]\n",
      "[245 146 824 931]\n",
      "[244 187 787 859]\n"
     ]
    },
    {
     "name": "stderr",
     "output_type": "stream",
     "text": [
      "preprocessing: 4674it [03:23, 22.61it/s]"
     ]
    },
    {
     "name": "stdout",
     "output_type": "stream",
     "text": [
      "[160 180 736 960]\n",
      "[283 227 828 886]\n",
      "[261 130 830 951]\n",
      "[233 193 788 889]\n",
      "[266 194 787 880]\n"
     ]
    },
    {
     "name": "stderr",
     "output_type": "stream",
     "text": [
      "preprocessing: 4680it [03:23, 22.73it/s]"
     ]
    },
    {
     "name": "stdout",
     "output_type": "stream",
     "text": [
      "[228 193 779 931]\n",
      "[ 274  188  912 1012]\n",
      "[ 263  200  890 1008]\n",
      "[217 183 753 970]\n",
      "[173 180 780 912]\n"
     ]
    },
    {
     "name": "stderr",
     "output_type": "stream",
     "text": [
      "\r",
      "preprocessing: 4683it [03:23, 22.51it/s]"
     ]
    },
    {
     "name": "stdout",
     "output_type": "stream",
     "text": [
      "[216 239 831 841]\n",
      "[176 164 748 916]\n",
      "[302 175 876 904]\n",
      "[179 188 779 919]\n",
      "[276 213 840 908]\n"
     ]
    },
    {
     "name": "stderr",
     "output_type": "stream",
     "text": [
      "preprocessing: 4689it [03:23, 22.57it/s]"
     ]
    },
    {
     "name": "stdout",
     "output_type": "stream",
     "text": [
      "[230 240 794 861]\n",
      "[260 227 775 918]\n",
      "[295 227 889 878]\n",
      "[234 218 802 858]\n",
      "[261 169 854 955]\n"
     ]
    },
    {
     "name": "stderr",
     "output_type": "stream",
     "text": [
      "preprocessing: 4695it [03:24, 22.71it/s]"
     ]
    },
    {
     "name": "stdout",
     "output_type": "stream",
     "text": [
      "[333 201 904 953]\n",
      "[284 177 832 901]\n",
      "[241 206 774 916]\n",
      "[243 198 806 899]\n",
      "[272 173 801 838]\n"
     ]
    },
    {
     "name": "stderr",
     "output_type": "stream",
     "text": [
      "\r",
      "preprocessing: 4698it [03:24, 22.93it/s]"
     ]
    },
    {
     "name": "stdout",
     "output_type": "stream",
     "text": [
      "[243 119 861 876]\n",
      "[220 168 792 928]\n",
      "[223 110 791 943]\n",
      "[188 209 796 872]\n",
      "[239 195 787 954]\n"
     ]
    },
    {
     "name": "stderr",
     "output_type": "stream",
     "text": [
      "preprocessing: 4704it [03:24, 20.09it/s]"
     ]
    },
    {
     "name": "stdout",
     "output_type": "stream",
     "text": [
      "[208 195 772 946]\n",
      "[283 193 873 918]\n",
      "[233 194 808 913]\n",
      "[302 166 927 968]\n",
      "[281 187 846 905]\n"
     ]
    },
    {
     "name": "stderr",
     "output_type": "stream",
     "text": [
      "preprocessing: 4710it [03:24, 22.73it/s]"
     ]
    },
    {
     "name": "stdout",
     "output_type": "stream",
     "text": [
      "[269 194 827 978]\n",
      "[267 169 812 947]\n",
      "[249 224 786 879]\n",
      "[239 182 820 920]\n",
      "[201 160 806 954]\n",
      "[239 168 800 896]\n"
     ]
    },
    {
     "name": "stderr",
     "output_type": "stream",
     "text": [
      "preprocessing: 4716it [03:25, 23.84it/s]"
     ]
    },
    {
     "name": "stdout",
     "output_type": "stream",
     "text": [
      "[279 167 837 876]\n",
      "[243 248 779 899]\n",
      "[259 177 755 918]\n",
      "[291 181 875 912]\n",
      "[331 161 863 916]\n"
     ]
    },
    {
     "name": "stderr",
     "output_type": "stream",
     "text": [
      "\r",
      "preprocessing: 4719it [03:25, 23.27it/s]"
     ]
    },
    {
     "name": "stdout",
     "output_type": "stream",
     "text": [
      "[276 169 830 906]\n",
      "[275 183 813 930]\n",
      "[146 166 742 909]\n",
      "[324 232 858 889]\n",
      "[265 223 774 949]\n"
     ]
    },
    {
     "name": "stderr",
     "output_type": "stream",
     "text": [
      "preprocessing: 4725it [03:25, 22.36it/s]"
     ]
    },
    {
     "name": "stdout",
     "output_type": "stream",
     "text": [
      "[168 169 750 919]\n",
      "[288 162 848 889]\n",
      "[264 165 834 924]\n",
      "[166 145 780 915]\n",
      "[234 174 807 907]\n"
     ]
    },
    {
     "name": "stderr",
     "output_type": "stream",
     "text": [
      "preprocessing: 4731it [03:25, 22.60it/s]"
     ]
    },
    {
     "name": "stdout",
     "output_type": "stream",
     "text": [
      "[312 237 835 927]\n",
      "[238 179 828 929]\n",
      "[247 182 832 976]\n",
      "[286 246 786 954]\n",
      "[222 187 785 852]\n"
     ]
    },
    {
     "name": "stderr",
     "output_type": "stream",
     "text": [
      "\r",
      "preprocessing: 4734it [03:25, 22.44it/s]"
     ]
    },
    {
     "name": "stdout",
     "output_type": "stream",
     "text": [
      "[193 181 776 921]\n",
      "[249 201 801 882]\n",
      "[111 148 708 943]\n",
      "[239 152 815 888]\n",
      "[ 71 181 677 851]\n"
     ]
    },
    {
     "name": "stderr",
     "output_type": "stream",
     "text": [
      "preprocessing: 4740it [03:26, 22.65it/s]"
     ]
    },
    {
     "name": "stdout",
     "output_type": "stream",
     "text": [
      "[ 83 114 738 914]\n",
      "[295 181 832 871]\n",
      "[162 197 748 925]\n",
      "[194 175 761 939]\n",
      "[255 175 759 935]\n"
     ]
    },
    {
     "name": "stderr",
     "output_type": "stream",
     "text": [
      "preprocessing: 4746it [03:26, 22.34it/s]"
     ]
    },
    {
     "name": "stdout",
     "output_type": "stream",
     "text": [
      "[178 173 757 942]\n",
      "[161 146 741 910]\n",
      "[161 138 773 957]\n",
      "[306 233 843 871]\n",
      "[230 149 772 900]\n"
     ]
    },
    {
     "name": "stderr",
     "output_type": "stream",
     "text": [
      "\r",
      "preprocessing: 4749it [03:26, 22.66it/s]"
     ]
    },
    {
     "name": "stdout",
     "output_type": "stream",
     "text": [
      "[245 186 799 876]\n",
      "[203 184 821 915]\n",
      "[ 98 123 726 903]\n",
      "[220 184 785 922]\n",
      "[153 141 740 933]\n"
     ]
    },
    {
     "name": "stderr",
     "output_type": "stream",
     "text": [
      "preprocessing: 4755it [03:26, 22.33it/s]"
     ]
    },
    {
     "name": "stdout",
     "output_type": "stream",
     "text": [
      "[266 198 774 922]\n",
      "[287 169 856 916]\n",
      "[303 200 836 933]\n",
      "[246 197 832 927]\n",
      "[191 150 806 884]\n"
     ]
    },
    {
     "name": "stderr",
     "output_type": "stream",
     "text": [
      "\r",
      "preprocessing: 4758it [03:27, 22.27it/s]"
     ]
    },
    {
     "name": "stdout",
     "output_type": "stream",
     "text": [
      "[214 214 799 915]\n",
      "[272 215 731 883]\n",
      "[286 232 849 910]\n",
      "[152 166 715 924]\n",
      "[219 184 762 887]\n"
     ]
    },
    {
     "name": "stderr",
     "output_type": "stream",
     "text": [
      "preprocessing: 4764it [03:27, 22.16it/s]"
     ]
    },
    {
     "name": "stdout",
     "output_type": "stream",
     "text": [
      "[327 216 911 886]\n",
      "[194 227 760 897]\n",
      "[253 178 760 939]\n",
      "[322 183 857 924]\n",
      "[236 181 824 908]\n"
     ]
    },
    {
     "name": "stderr",
     "output_type": "stream",
     "text": [
      "preprocessing: 4770it [03:27, 22.11it/s]"
     ]
    },
    {
     "name": "stdout",
     "output_type": "stream",
     "text": [
      "[201 185 758 876]\n",
      "[339 150 883 951]\n",
      "[298 197 818 876]\n",
      "[264 154 804 902]\n",
      "[338 152 913 888]\n"
     ]
    },
    {
     "name": "stderr",
     "output_type": "stream",
     "text": [
      "\r",
      "preprocessing: 4773it [03:27, 22.09it/s]"
     ]
    },
    {
     "name": "stdout",
     "output_type": "stream",
     "text": [
      "[249 214 776 929]\n",
      "[114 153 709 948]\n",
      "[189 240 753 913]\n",
      "[180 186 752 917]\n",
      "[189 238 744 905]\n"
     ]
    },
    {
     "name": "stderr",
     "output_type": "stream",
     "text": [
      "preprocessing: 4779it [03:28, 22.47it/s]"
     ]
    },
    {
     "name": "stdout",
     "output_type": "stream",
     "text": [
      "[297 140 908 901]\n",
      "[267 219 820 923]\n",
      "[302 187 937 924]\n",
      "[250 195 802 926]\n",
      "[238 199 777 909]\n"
     ]
    },
    {
     "name": "stderr",
     "output_type": "stream",
     "text": [
      "preprocessing: 4785it [03:28, 21.99it/s]"
     ]
    },
    {
     "name": "stdout",
     "output_type": "stream",
     "text": [
      "[364 151 889 868]\n",
      "[262 251 805 907]\n",
      "[254 168 814 899]\n",
      "[213 197 765 895]\n",
      "[ 78  98 717 951]\n"
     ]
    },
    {
     "name": "stderr",
     "output_type": "stream",
     "text": [
      "\r",
      "preprocessing: 4788it [03:28, 22.40it/s]"
     ]
    },
    {
     "name": "stdout",
     "output_type": "stream",
     "text": [
      "[224 118 802 825]\n",
      "[267 228 860 892]\n",
      "[181 201 736 931]\n",
      "[245 174 769 946]\n",
      "[202 150 779 890]\n"
     ]
    },
    {
     "name": "stderr",
     "output_type": "stream",
     "text": [
      "preprocessing: 4794it [03:28, 22.23it/s]"
     ]
    },
    {
     "name": "stdout",
     "output_type": "stream",
     "text": [
      "[274 170 874 961]\n",
      "[164 200 772 931]\n",
      "[162 153 715 913]\n",
      "[181 128 798 953]\n",
      "[253 196 765 974]\n"
     ]
    },
    {
     "name": "stderr",
     "output_type": "stream",
     "text": [
      "preprocessing: 4800it [03:28, 20.56it/s]"
     ]
    },
    {
     "name": "stdout",
     "output_type": "stream",
     "text": [
      "[204 192 746 924]\n",
      "[221 206 712 921]\n",
      "[230 203 815 908]\n",
      "[111 182 702 917]\n"
     ]
    },
    {
     "name": "stderr",
     "output_type": "stream",
     "text": [
      "\r",
      "preprocessing: 4803it [03:29, 19.68it/s]"
     ]
    },
    {
     "name": "stdout",
     "output_type": "stream",
     "text": [
      "[227 224 765 903]\n",
      "[281 153 877 922]\n",
      "[151 177 722 936]\n",
      "[219 157 789 875]\n",
      "[207 196 770 945]\n"
     ]
    },
    {
     "name": "stderr",
     "output_type": "stream",
     "text": [
      "preprocessing: 4809it [03:29, 22.19it/s]"
     ]
    },
    {
     "name": "stdout",
     "output_type": "stream",
     "text": [
      "[307 109 881 899]\n",
      "[261 194 802 927]\n",
      "[275 217 784 919]\n",
      "[232 107 831 965]\n",
      "[287 217 830 875]\n",
      "[242 188 796 905]\n"
     ]
    },
    {
     "name": "stderr",
     "output_type": "stream",
     "text": [
      "preprocessing: 4815it [03:29, 23.54it/s]"
     ]
    },
    {
     "name": "stdout",
     "output_type": "stream",
     "text": [
      "[201 166 733 908]\n",
      "[252 191 764 913]\n",
      "[273 162 803 869]\n",
      "[307 107 862 866]\n",
      "[156 199 745 924]\n",
      "[214 201 788 874]\n"
     ]
    },
    {
     "name": "stderr",
     "output_type": "stream",
     "text": [
      "preprocessing: 4821it [03:29, 23.06it/s]"
     ]
    },
    {
     "name": "stdout",
     "output_type": "stream",
     "text": [
      "[191 185 750 953]\n",
      "[229 223 755 921]\n",
      "[255 180 801 906]\n",
      "[204 168 782 925]\n",
      "[183 145 798 958]\n"
     ]
    },
    {
     "name": "stderr",
     "output_type": "stream",
     "text": [
      "\r",
      "preprocessing: 4824it [03:30, 22.33it/s]"
     ]
    },
    {
     "name": "stdout",
     "output_type": "stream",
     "text": [
      "[213 206 753 909]\n",
      "[284 228 844 911]\n",
      "[204 254 756 945]\n",
      "[261 146 798 903]\n",
      "[250 186 791 957]\n"
     ]
    },
    {
     "name": "stderr",
     "output_type": "stream",
     "text": [
      "preprocessing: 4830it [03:30, 22.20it/s]"
     ]
    },
    {
     "name": "stdout",
     "output_type": "stream",
     "text": [
      "[211 187 764 942]\n",
      "[319 214 817 907]\n",
      "[279 197 813 914]\n",
      "[195 200 745 917]\n",
      "[257 194 817 849]\n"
     ]
    },
    {
     "name": "stderr",
     "output_type": "stream",
     "text": [
      "preprocessing: 4836it [03:30, 21.85it/s]"
     ]
    },
    {
     "name": "stdout",
     "output_type": "stream",
     "text": [
      "[237 195 825 840]\n",
      "[325 291 878 855]\n",
      "[201 182 754 847]\n",
      "[224 194 782 896]\n",
      "[238 227 776 901]\n"
     ]
    },
    {
     "name": "stderr",
     "output_type": "stream",
     "text": [
      "\r",
      "preprocessing: 4839it [03:30, 21.91it/s]"
     ]
    },
    {
     "name": "stdout",
     "output_type": "stream",
     "text": [
      "[281 168 869 944]\n",
      "[188 181 760 977]\n",
      "[219 178 751 891]\n",
      "[236 121 809 856]\n",
      "[271 236 757 931]\n"
     ]
    },
    {
     "name": "stderr",
     "output_type": "stream",
     "text": [
      "preprocessing: 4845it [03:30, 22.26it/s]"
     ]
    },
    {
     "name": "stdout",
     "output_type": "stream",
     "text": [
      "[207 157 733 961]\n",
      "[168 177 716 938]\n",
      "[248 216 769 918]\n",
      "[265 194 791 905]\n",
      "[148 174 718 899]\n"
     ]
    },
    {
     "name": "stderr",
     "output_type": "stream",
     "text": [
      "preprocessing: 4851it [03:31, 22.15it/s]"
     ]
    },
    {
     "name": "stdout",
     "output_type": "stream",
     "text": [
      "[256 164 861 989]\n",
      "[254 202 803 928]\n",
      "[235 181 848 841]\n",
      "[133 141 731 944]\n",
      "[216 183 806 857]\n"
     ]
    },
    {
     "name": "stderr",
     "output_type": "stream",
     "text": [
      "\r",
      "preprocessing: 4854it [03:31, 21.72it/s]"
     ]
    },
    {
     "name": "stdout",
     "output_type": "stream",
     "text": [
      "[255 166 804 897]\n",
      "[123 145 742 926]\n",
      "[172 207 779 910]\n",
      "[272 157 843 903]\n",
      "[218 174 796 948]\n"
     ]
    },
    {
     "name": "stderr",
     "output_type": "stream",
     "text": [
      "preprocessing: 4860it [03:31, 21.88it/s]"
     ]
    },
    {
     "name": "stdout",
     "output_type": "stream",
     "text": [
      "[158 207 743 871]\n",
      "[249 195 762 908]\n",
      "[240 186 815 899]\n",
      "[321 176 933 988]\n",
      "[295 168 850 914]\n"
     ]
    },
    {
     "name": "stderr",
     "output_type": "stream",
     "text": [
      "preprocessing: 4866it [03:31, 21.97it/s]"
     ]
    },
    {
     "name": "stdout",
     "output_type": "stream",
     "text": [
      "[292 198 828 882]\n",
      "[276 207 820 894]\n",
      "[226 209 767 904]\n",
      "[231 261 798 865]\n",
      "[261 198 773 937]\n"
     ]
    },
    {
     "name": "stderr",
     "output_type": "stream",
     "text": [
      "\r",
      "preprocessing: 4869it [03:32, 22.01it/s]"
     ]
    },
    {
     "name": "stdout",
     "output_type": "stream",
     "text": [
      "[183 229 777 894]\n",
      "[260 217 796 833]\n",
      "[279 189 748 952]\n",
      "[256 129 850 897]\n",
      "[295 112 829 950]\n"
     ]
    },
    {
     "name": "stderr",
     "output_type": "stream",
     "text": [
      "preprocessing: 4875it [03:32, 21.75it/s]"
     ]
    },
    {
     "name": "stdout",
     "output_type": "stream",
     "text": [
      "[288 196 789 901]\n",
      "[132 184 748 902]\n",
      "[264 193 771 856]\n",
      "[237 190 779 914]\n",
      "[315 140 871 912]\n"
     ]
    },
    {
     "name": "stderr",
     "output_type": "stream",
     "text": [
      "preprocessing: 4881it [03:32, 21.91it/s]"
     ]
    },
    {
     "name": "stdout",
     "output_type": "stream",
     "text": [
      "[229 200 782 944]\n",
      "[293 129 882 905]\n",
      "[214 210 783 868]\n",
      "[246 189 823 933]\n",
      "[274 216 850 916]\n"
     ]
    },
    {
     "name": "stderr",
     "output_type": "stream",
     "text": [
      "\r",
      "preprocessing: 4884it [03:32, 21.95it/s]"
     ]
    },
    {
     "name": "stdout",
     "output_type": "stream",
     "text": [
      "[161 166 727 951]\n",
      "[278 168 796 940]\n",
      "[299 224 870 898]\n",
      "[234 182 780 830]\n",
      "[312 180 898 906]\n"
     ]
    },
    {
     "name": "stderr",
     "output_type": "stream",
     "text": [
      "preprocessing: 4890it [03:33, 21.62it/s]"
     ]
    },
    {
     "name": "stdout",
     "output_type": "stream",
     "text": [
      "[320 228 846 871]\n",
      "[270 209 806 877]\n",
      "[219 186 788 882]\n",
      "[264 154 848 919]\n",
      "[235 191 769 907]\n"
     ]
    },
    {
     "name": "stderr",
     "output_type": "stream",
     "text": [
      "preprocessing: 4896it [03:33, 21.84it/s]"
     ]
    },
    {
     "name": "stdout",
     "output_type": "stream",
     "text": [
      "[278 204 827 881]\n",
      "[249 202 818 920]\n",
      "[332 146 880 930]\n",
      "[129 136 765 935]\n",
      "[174 268 771 891]\n"
     ]
    },
    {
     "name": "stderr",
     "output_type": "stream",
     "text": [
      "\r",
      "preprocessing: 4899it [03:33, 21.53it/s]"
     ]
    },
    {
     "name": "stdout",
     "output_type": "stream",
     "text": [
      "[222 244 774 851]\n",
      "[309 171 907 948]\n",
      "[ 170  149  761 1003]\n",
      "[285 153 820 887]\n"
     ]
    },
    {
     "name": "stderr",
     "output_type": "stream",
     "text": [
      "preprocessing: 4905it [03:33, 19.64it/s]"
     ]
    },
    {
     "name": "stdout",
     "output_type": "stream",
     "text": [
      "[272 231 767 896]\n",
      "[242 173 760 905]\n",
      "[237 182 793 908]\n",
      "[233 170 806 943]\n",
      "[233 206 769 912]\n"
     ]
    },
    {
     "name": "stderr",
     "output_type": "stream",
     "text": [
      "preprocessing: 4911it [03:34, 22.44it/s]"
     ]
    },
    {
     "name": "stdout",
     "output_type": "stream",
     "text": [
      "[201 191 759 879]\n",
      "[282 175 897 920]\n",
      "[215 191 785 912]\n",
      "[341 207 895 982]\n",
      "[240 240 779 873]\n",
      "[226 163 780 925]\n"
     ]
    },
    {
     "name": "stderr",
     "output_type": "stream",
     "text": [
      "preprocessing: 4917it [03:34, 22.81it/s]"
     ]
    },
    {
     "name": "stdout",
     "output_type": "stream",
     "text": [
      "[151 203 720 963]\n",
      "[285 237 820 898]\n",
      "[147 135 755 914]\n",
      "[353 102 823 922]\n",
      "[253 246 786 869]\n"
     ]
    },
    {
     "name": "stderr",
     "output_type": "stream",
     "text": [
      "\r",
      "preprocessing: 4920it [03:34, 22.58it/s]"
     ]
    },
    {
     "name": "stdout",
     "output_type": "stream",
     "text": [
      "[159 153 667 931]\n",
      "[192  86 760 912]\n",
      "[315 239 803 889]\n",
      "[265 178 788 870]\n",
      "[285 242 818 931]\n"
     ]
    },
    {
     "name": "stderr",
     "output_type": "stream",
     "text": [
      "preprocessing: 4926it [03:34, 21.92it/s]"
     ]
    },
    {
     "name": "stdout",
     "output_type": "stream",
     "text": [
      "[131 178 698 894]\n",
      "[208 181 782 888]\n",
      "[227 194 782 913]\n",
      "[233 150 762 918]\n",
      "[254 184 799 923]\n"
     ]
    },
    {
     "name": "stderr",
     "output_type": "stream",
     "text": [
      "preprocessing: 4932it [03:34, 21.99it/s]"
     ]
    },
    {
     "name": "stdout",
     "output_type": "stream",
     "text": [
      "[311 129 909 900]\n",
      "[226 191 781 922]\n",
      "[229 210 796 854]\n",
      "[235 195 865 851]\n",
      "[223 190 874 919]\n"
     ]
    },
    {
     "name": "stderr",
     "output_type": "stream",
     "text": [
      "\r",
      "preprocessing: 4935it [03:35, 21.63it/s]"
     ]
    },
    {
     "name": "stdout",
     "output_type": "stream",
     "text": [
      "[267 214 816 929]\n",
      "[ 233  207  877 1017]\n",
      "[204 209 798 951]\n",
      "[365 142 931 993]\n",
      "[233 191 785 926]\n"
     ]
    },
    {
     "name": "stderr",
     "output_type": "stream",
     "text": [
      "preprocessing: 4941it [03:35, 22.23it/s]"
     ]
    },
    {
     "name": "stdout",
     "output_type": "stream",
     "text": [
      "[246 185 775 961]\n",
      "[244 182 757 894]\n",
      "[217 198 805 967]\n",
      "[257 202 777 888]\n",
      "[289 169 893 896]\n"
     ]
    },
    {
     "name": "stderr",
     "output_type": "stream",
     "text": [
      "preprocessing: 4947it [03:35, 22.26it/s]"
     ]
    },
    {
     "name": "stdout",
     "output_type": "stream",
     "text": [
      "[236 169 819 921]\n",
      "[286 165 810 911]\n",
      "[235 212 823 900]\n",
      "[203 188 782 860]\n",
      "[297 230 790 869]\n"
     ]
    },
    {
     "name": "stderr",
     "output_type": "stream",
     "text": [
      "\r",
      "preprocessing: 4950it [03:35, 22.60it/s]"
     ]
    },
    {
     "name": "stdout",
     "output_type": "stream",
     "text": [
      "[275 209 838 926]\n",
      "[257 160 792 892]\n",
      "[257 156 798 935]\n",
      "[212 132 769 844]\n",
      "[210 204 767 911]\n"
     ]
    },
    {
     "name": "stderr",
     "output_type": "stream",
     "text": [
      "preprocessing: 4956it [03:36, 21.92it/s]"
     ]
    },
    {
     "name": "stdout",
     "output_type": "stream",
     "text": [
      "[210 197 759 940]\n",
      "[161 152 752 960]\n",
      "[259 195 784 975]\n",
      "[272 208 771 880]\n",
      "[143 117 747 962]\n"
     ]
    },
    {
     "name": "stderr",
     "output_type": "stream",
     "text": [
      "preprocessing: 4962it [03:36, 21.99it/s]"
     ]
    },
    {
     "name": "stdout",
     "output_type": "stream",
     "text": [
      "[121 160 746 964]\n",
      "[257 205 865 940]\n",
      "[264 247 759 889]\n",
      "[246 243 840 876]\n",
      "[249 240 765 872]\n"
     ]
    },
    {
     "name": "stderr",
     "output_type": "stream",
     "text": [
      "\r",
      "preprocessing: 4965it [03:36, 22.01it/s]"
     ]
    },
    {
     "name": "stdout",
     "output_type": "stream",
     "text": [
      "[270 225 852 913]\n",
      "[243 152 736 887]\n",
      "[174 187 731 923]\n",
      "[283 223 808 881]\n",
      "[192 185 780 945]\n"
     ]
    },
    {
     "name": "stderr",
     "output_type": "stream",
     "text": [
      "preprocessing: 4971it [03:36, 22.43it/s]"
     ]
    },
    {
     "name": "stdout",
     "output_type": "stream",
     "text": [
      "[223 211 795 875]\n",
      "[255 223 806 860]\n",
      "[242 215 802 937]\n",
      "[258 146 817 905]\n",
      "[381 190 864 891]\n"
     ]
    },
    {
     "name": "stderr",
     "output_type": "stream",
     "text": [
      "\r",
      "preprocessing: 4974it [03:36, 22.32it/s]"
     ]
    },
    {
     "name": "stdout",
     "output_type": "stream",
     "text": [
      "[209 155 766 953]\n",
      "[306 114 913 930]\n",
      "[251 187 794 975]\n",
      "[278 191 802 948]\n",
      "[286 159 814 946]\n"
     ]
    },
    {
     "name": "stderr",
     "output_type": "stream",
     "text": [
      "preprocessing: 4980it [03:37, 21.91it/s]"
     ]
    },
    {
     "name": "stdout",
     "output_type": "stream",
     "text": [
      "[143 127 719 944]\n",
      "[190 237 752 927]\n",
      "[258 190 889 924]\n",
      "[247 145 802 946]\n",
      "[230 162 768 964]\n"
     ]
    },
    {
     "name": "stderr",
     "output_type": "stream",
     "text": [
      "preprocessing: 4986it [03:37, 21.70it/s]"
     ]
    },
    {
     "name": "stdout",
     "output_type": "stream",
     "text": [
      "[316 139 914 919]\n",
      "[275 224 871 929]\n",
      "[254 238 821 884]\n",
      "[157 158 754 934]\n",
      "[229 135 811 947]\n"
     ]
    },
    {
     "name": "stderr",
     "output_type": "stream",
     "text": [
      "preprocessing: 4992it [03:37, 21.88it/s]"
     ]
    },
    {
     "name": "stdout",
     "output_type": "stream",
     "text": [
      "[191 202 776 920]\n",
      "[218 188 780 829]\n",
      "[228 210 775 910]\n",
      "[238 177 824 918]\n",
      "[226 158 815 942]\n"
     ]
    },
    {
     "name": "stderr",
     "output_type": "stream",
     "text": [
      "\r",
      "preprocessing: 4995it [03:37, 22.33it/s]"
     ]
    },
    {
     "name": "stdout",
     "output_type": "stream",
     "text": [
      "[274 224 841 924]\n",
      "[219 168 833 829]\n",
      "[208 209 755 921]\n",
      "[128 126 756 974]\n",
      "[133 191 775 974]\n"
     ]
    },
    {
     "name": "stderr",
     "output_type": "stream",
     "text": [
      "\r",
      "preprocessing: 4998it [03:37, 22.25it/s]"
     ]
    },
    {
     "name": "stdout",
     "output_type": "stream",
     "text": [
      "[262 230 745 893]\n",
      "[217 183 785 900]\n",
      "[227 212 791 895]\n",
      "[145 160 744 828]\n"
     ]
    },
    {
     "name": "stderr",
     "output_type": "stream",
     "text": [
      "preprocessing: 5004it [03:38, 19.52it/s]"
     ]
    },
    {
     "name": "stdout",
     "output_type": "stream",
     "text": [
      "[237 148 777 856]\n",
      "[218 187 758 858]\n",
      "[221 175 809 819]\n",
      "[279 181 798 876]\n",
      "[266 191 749 904]\n"
     ]
    },
    {
     "name": "stderr",
     "output_type": "stream",
     "text": [
      "preprocessing: 5010it [03:38, 21.98it/s]"
     ]
    },
    {
     "name": "stdout",
     "output_type": "stream",
     "text": [
      "[163 196 773 876]\n",
      "[231 163 749 806]\n",
      "[194 117 800 828]\n",
      "[225 209 789 843]\n",
      "[229 112 814 832]\n",
      "[230 178 788 868]\n"
     ]
    },
    {
     "name": "stderr",
     "output_type": "stream",
     "text": [
      "preprocessing: 5016it [03:38, 22.56it/s]"
     ]
    },
    {
     "name": "stdout",
     "output_type": "stream",
     "text": [
      "[250 188 795 858]\n",
      "[224 209 790 879]\n",
      "[229 218 784 848]\n",
      "[222 214 748 920]\n",
      "[207 111 785 919]\n"
     ]
    },
    {
     "name": "stderr",
     "output_type": "stream",
     "text": [
      "\r",
      "preprocessing: 5019it [03:38, 22.02it/s]"
     ]
    },
    {
     "name": "stdout",
     "output_type": "stream",
     "text": [
      "[263 132 824 902]\n",
      "[264 227 771 882]\n",
      "[234 234 789 923]\n",
      "[223 222 782 778]\n",
      "[236 215 810 820]\n"
     ]
    },
    {
     "name": "stderr",
     "output_type": "stream",
     "text": [
      "preprocessing: 5025it [03:39, 21.40it/s]"
     ]
    },
    {
     "name": "stdout",
     "output_type": "stream",
     "text": [
      "[218 256 739 863]\n",
      "[326 207 886 904]\n",
      "[ 88  43 746 838]\n",
      "[313 104 904 846]\n",
      "[ 90 183 705 863]\n"
     ]
    },
    {
     "name": "stderr",
     "output_type": "stream",
     "text": [
      "preprocessing: 5031it [03:39, 21.35it/s]"
     ]
    },
    {
     "name": "stdout",
     "output_type": "stream",
     "text": [
      "[292 173 823 907]\n",
      "[248 194 789 911]\n",
      "[256 150 784 883]\n",
      "[257 187 762 883]\n",
      "[148 167 728 885]\n"
     ]
    },
    {
     "name": "stderr",
     "output_type": "stream",
     "text": [
      "\r",
      "preprocessing: 5034it [03:39, 21.56it/s]"
     ]
    },
    {
     "name": "stdout",
     "output_type": "stream",
     "text": [
      "[202 243 759 860]\n",
      "[202 238 779 896]\n",
      "[293 196 777 856]\n",
      "[226 152 763 909]\n",
      "[275 217 842 897]\n"
     ]
    },
    {
     "name": "stderr",
     "output_type": "stream",
     "text": [
      "preprocessing: 5040it [03:39, 21.80it/s]"
     ]
    },
    {
     "name": "stdout",
     "output_type": "stream",
     "text": [
      "[212 181 801 803]\n",
      "[220 191 789 854]\n",
      "[231 246 770 880]\n",
      "[217 241 809 819]\n",
      "[190 171 769 915]\n"
     ]
    },
    {
     "name": "stderr",
     "output_type": "stream",
     "text": [
      "preprocessing: 5046it [03:40, 21.94it/s]"
     ]
    },
    {
     "name": "stdout",
     "output_type": "stream",
     "text": [
      "[174 193 708 936]\n",
      "[245 200 803 882]\n",
      "[333 234 811 830]\n",
      "[242 142 793 897]\n",
      "[175 193 749 896]\n"
     ]
    },
    {
     "name": "stderr",
     "output_type": "stream",
     "text": [
      "preprocessing: 5052it [03:40, 22.27it/s]"
     ]
    },
    {
     "name": "stdout",
     "output_type": "stream",
     "text": [
      "[212 232 737 909]\n",
      "[275 175 785 857]\n",
      "[299 208 914 814]\n",
      "[248 190 769 904]\n",
      "[204 134 788 912]\n"
     ]
    },
    {
     "name": "stderr",
     "output_type": "stream",
     "text": [
      "\r",
      "preprocessing: 5055it [03:40, 22.21it/s]"
     ]
    },
    {
     "name": "stdout",
     "output_type": "stream",
     "text": [
      "[182 212 758 864]\n",
      "[270 167 862 867]\n",
      "[292 156 893 894]\n",
      "[286 165 877 855]\n",
      "[236 219 791 910]\n"
     ]
    },
    {
     "name": "stderr",
     "output_type": "stream",
     "text": [
      "preprocessing: 5061it [03:40, 22.13it/s]"
     ]
    },
    {
     "name": "stdout",
     "output_type": "stream",
     "text": [
      "[121 180 704 868]\n",
      "[260 189 814 905]\n",
      "[251 194 806 932]\n",
      "[201 221 748 895]\n",
      "[245 148 824 861]\n"
     ]
    },
    {
     "name": "stderr",
     "output_type": "stream",
     "text": [
      "\r",
      "preprocessing: 5064it [03:41, 22.11it/s]"
     ]
    },
    {
     "name": "stdout",
     "output_type": "stream",
     "text": [
      "[262 181 791 869]\n",
      "[286 156 869 880]\n",
      "[329 186 922 902]\n",
      "[291 157 896 928]\n",
      "[226 206 847 858]\n"
     ]
    },
    {
     "name": "stderr",
     "output_type": "stream",
     "text": [
      "preprocessing: 5070it [03:41, 21.81it/s]"
     ]
    },
    {
     "name": "stdout",
     "output_type": "stream",
     "text": [
      "[184 229 740 915]\n",
      "[231 157 729 906]\n",
      "[235 123 808 945]\n",
      "[176 245 780 862]\n",
      "[250 202 769 856]\n"
     ]
    },
    {
     "name": "stderr",
     "output_type": "stream",
     "text": [
      "preprocessing: 5076it [03:41, 21.94it/s]"
     ]
    },
    {
     "name": "stdout",
     "output_type": "stream",
     "text": [
      "[262 185 797 878]\n",
      "[254 181 790 874]\n",
      "[242 189 855 795]\n",
      "[260 198 775 875]\n",
      "[193 213 771 909]\n"
     ]
    },
    {
     "name": "stderr",
     "output_type": "stream",
     "text": [
      "\r",
      "preprocessing: 5079it [03:41, 21.97it/s]"
     ]
    },
    {
     "name": "stdout",
     "output_type": "stream",
     "text": [
      "[250 242 800 872]\n",
      "[158 153 778 929]\n",
      "[217 167 833 932]\n",
      "[215 131 774 878]\n",
      "[124 215 677 876]\n"
     ]
    },
    {
     "name": "stderr",
     "output_type": "stream",
     "text": [
      "preprocessing: 5085it [03:42, 21.61it/s]"
     ]
    },
    {
     "name": "stdout",
     "output_type": "stream",
     "text": [
      "[306 256 917 799]\n",
      "[191 196 757 924]\n",
      "[309 212 824 898]\n",
      "[249 192 805 831]\n",
      "[273 183 807 850]\n"
     ]
    },
    {
     "name": "stderr",
     "output_type": "stream",
     "text": [
      "preprocessing: 5091it [03:42, 21.46it/s]"
     ]
    },
    {
     "name": "stdout",
     "output_type": "stream",
     "text": [
      "[111 133 730 897]\n",
      "[330 206 874 886]\n",
      "[166 168 690 880]\n",
      "[204 188 756 839]\n",
      "[314 233 817 846]\n"
     ]
    },
    {
     "name": "stderr",
     "output_type": "stream",
     "text": [
      "\r",
      "preprocessing: 5094it [03:42, 21.65it/s]"
     ]
    },
    {
     "name": "stdout",
     "output_type": "stream",
     "text": [
      "[236 187 748 908]\n",
      "[166 102 764 905]\n",
      "[301 160 849 853]\n",
      "[239 230 765 826]\n"
     ]
    },
    {
     "name": "stderr",
     "output_type": "stream",
     "text": [
      "preprocessing: 5100it [03:42, 19.87it/s]"
     ]
    },
    {
     "name": "stdout",
     "output_type": "stream",
     "text": [
      "[246 144 772 877]\n",
      "[259 179 833 871]\n",
      "[177 159 749 910]\n",
      "[290 192 834 813]\n"
     ]
    },
    {
     "name": "stderr",
     "output_type": "stream",
     "text": [
      "\r",
      "preprocessing: 5103it [03:42, 18.93it/s]"
     ]
    },
    {
     "name": "stdout",
     "output_type": "stream",
     "text": [
      "[305 184 875 864]\n",
      "[238 162 774 867]\n",
      "[286 168 872 866]\n",
      "[311 193 852 796]\n",
      "[283 194 858 844]\n"
     ]
    },
    {
     "name": "stderr",
     "output_type": "stream",
     "text": [
      "preprocessing: 5109it [03:43, 21.35it/s]"
     ]
    },
    {
     "name": "stdout",
     "output_type": "stream",
     "text": [
      "[262 160 824 850]\n",
      "[210 126 791 876]\n",
      "[214 134 783 879]\n",
      "[239 255 811 811]\n",
      "[289 165 852 855]\n",
      "[236 209 813 851]\n"
     ]
    },
    {
     "name": "stderr",
     "output_type": "stream",
     "text": [
      "preprocessing: 5115it [03:43, 22.91it/s]"
     ]
    },
    {
     "name": "stdout",
     "output_type": "stream",
     "text": [
      "[215 184 749 932]\n",
      "[241 221 799 847]\n",
      "[248 179 869 865]\n",
      "[302 158 856 933]\n",
      "[245 100 806 899]\n"
     ]
    },
    {
     "name": "stderr",
     "output_type": "stream",
     "text": [
      "preprocessing: 5121it [03:43, 22.07it/s]"
     ]
    },
    {
     "name": "stdout",
     "output_type": "stream",
     "text": [
      "[190 223 796 861]\n",
      "[173 210 757 863]\n",
      "[274 153 829 816]\n",
      "[326 190 795 890]\n",
      "[189 188 722 898]\n"
     ]
    },
    {
     "name": "stderr",
     "output_type": "stream",
     "text": [
      "\r",
      "preprocessing: 5124it [03:43, 21.68it/s]"
     ]
    },
    {
     "name": "stdout",
     "output_type": "stream",
     "text": [
      "[217 230 752 834]\n",
      "[283 245 801 914]\n",
      "[268 222 812 865]\n",
      "[256 189 900 848]\n",
      "[262 227 815 851]\n"
     ]
    },
    {
     "name": "stderr",
     "output_type": "stream",
     "text": [
      "preprocessing: 5130it [03:44, 21.82it/s]"
     ]
    },
    {
     "name": "stdout",
     "output_type": "stream",
     "text": [
      "[176 205 765 806]\n",
      "[252 215 765 923]\n",
      "[260 230 774 880]\n",
      "[239 181 833 838]\n",
      "[276 160 847 896]\n"
     ]
    },
    {
     "name": "stderr",
     "output_type": "stream",
     "text": [
      "\r",
      "preprocessing: 5133it [03:44, 21.91it/s]"
     ]
    },
    {
     "name": "stdout",
     "output_type": "stream",
     "text": [
      "[302 151 850 857]\n",
      "[187 199 808 817]\n",
      "[283 171 777 885]\n",
      "[162 153 741 806]\n",
      "[253 202 766 841]\n"
     ]
    },
    {
     "name": "stderr",
     "output_type": "stream",
     "text": [
      "preprocessing: 5139it [03:44, 21.99it/s]"
     ]
    },
    {
     "name": "stdout",
     "output_type": "stream",
     "text": [
      "[199 175 762 862]\n",
      "[202 173 735 901]\n",
      "[116 160 685 882]\n",
      "[163 209 728 889]\n",
      "[177 239 764 890]\n"
     ]
    },
    {
     "name": "stderr",
     "output_type": "stream",
     "text": [
      "preprocessing: 5145it [03:44, 22.02it/s]"
     ]
    },
    {
     "name": "stdout",
     "output_type": "stream",
     "text": [
      "[263 144 750 862]\n",
      "[190 198 706 880]\n",
      "[252 179 831 904]\n",
      "[256 204 759 863]\n",
      "[246 258 782 856]\n"
     ]
    },
    {
     "name": "stderr",
     "output_type": "stream",
     "text": [
      "\r",
      "preprocessing: 5148it [03:44, 22.02it/s]"
     ]
    },
    {
     "name": "stdout",
     "output_type": "stream",
     "text": [
      "[290 214 809 863]\n",
      "[261 182 780 903]\n",
      "[242 215 785 804]\n",
      "[239 153 803 861]\n",
      "[253 204 851 901]\n"
     ]
    },
    {
     "name": "stderr",
     "output_type": "stream",
     "text": [
      "preprocessing: 5154it [03:45, 21.67it/s]"
     ]
    },
    {
     "name": "stdout",
     "output_type": "stream",
     "text": [
      "[256 195 832 876]\n",
      "[261 223 828 905]\n",
      "[273 219 842 828]\n",
      "[281 212 860 836]\n",
      "[232 197 871 879]\n"
     ]
    },
    {
     "name": "stderr",
     "output_type": "stream",
     "text": [
      "preprocessing: 5160it [03:45, 21.98it/s]"
     ]
    },
    {
     "name": "stdout",
     "output_type": "stream",
     "text": [
      "[308 172 909 868]\n",
      "[288 146 911 880]\n",
      "[192 146 766 924]\n",
      "[123 163 728 848]\n",
      "[217 182 797 892]\n"
     ]
    },
    {
     "name": "stderr",
     "output_type": "stream",
     "text": [
      "preprocessing: 5166it [03:45, 22.02it/s]"
     ]
    },
    {
     "name": "stdout",
     "output_type": "stream",
     "text": [
      "[282 189 819 863]\n",
      "[264 170 857 927]\n",
      "[238  79 824 857]\n",
      "[244 202 813 884]\n",
      "[156 147 747 915]\n"
     ]
    },
    {
     "name": "stderr",
     "output_type": "stream",
     "text": [
      "\r",
      "preprocessing: 5169it [03:45, 22.03it/s]"
     ]
    },
    {
     "name": "stdout",
     "output_type": "stream",
     "text": [
      "[259 149 908 838]\n",
      "[215 106 856 847]\n",
      "[247 195 793 876]\n",
      "[282 199 774 864]\n",
      "[170 116 798 834]\n"
     ]
    },
    {
     "name": "stderr",
     "output_type": "stream",
     "text": [
      "preprocessing: 5175it [03:46, 21.76it/s]"
     ]
    },
    {
     "name": "stdout",
     "output_type": "stream",
     "text": [
      "[268 249 817 931]\n",
      "[340 223 805 839]\n",
      "[293 195 839 895]\n",
      "[298 210 883 918]\n",
      "[296 255 868 816]\n"
     ]
    },
    {
     "name": "stderr",
     "output_type": "stream",
     "text": [
      "\r",
      "preprocessing: 5178it [03:46, 21.84it/s]"
     ]
    },
    {
     "name": "stdout",
     "output_type": "stream",
     "text": [
      "[230 150 855 876]\n",
      "[198 184 774 844]\n",
      "[236 209 814 836]\n",
      "[232 189 785 920]\n",
      "[201 197 742 883]\n"
     ]
    },
    {
     "name": "stderr",
     "output_type": "stream",
     "text": [
      "preprocessing: 5184it [03:46, 21.95it/s]"
     ]
    },
    {
     "name": "stdout",
     "output_type": "stream",
     "text": [
      "[250 237 848 977]\n",
      "[260 160 801 876]\n",
      "[187 199 756 911]\n",
      "[264 187 774 871]\n",
      "[288 300 826 870]\n"
     ]
    },
    {
     "name": "stderr",
     "output_type": "stream",
     "text": [
      "preprocessing: 5190it [03:46, 21.99it/s]"
     ]
    },
    {
     "name": "stdout",
     "output_type": "stream",
     "text": [
      "[228 202 772 884]\n",
      "[283 173 873 853]\n",
      "[148 157 752 912]\n",
      "[270 222 769 890]\n",
      "[202 171 796 904]\n"
     ]
    },
    {
     "name": "stderr",
     "output_type": "stream",
     "text": [
      "\r",
      "preprocessing: 5193it [03:46, 22.02it/s]"
     ]
    },
    {
     "name": "stdout",
     "output_type": "stream",
     "text": [
      "[219 192 801 893]\n",
      "[275 193 834 844]\n",
      "[252 145 797 875]\n",
      "[199 191 746 901]\n",
      "[265 179 799 832]\n"
     ]
    },
    {
     "name": "stderr",
     "output_type": "stream",
     "text": [
      "preprocessing: 5199it [03:47, 22.13it/s]"
     ]
    },
    {
     "name": "stdout",
     "output_type": "stream",
     "text": [
      "[303 181 933 876]\n",
      "[254 160 817 887]\n",
      "[235 164 797 867]\n",
      "[281 205 837 849]\n"
     ]
    },
    {
     "name": "stderr",
     "output_type": "stream",
     "text": [
      "\r",
      "preprocessing: 5202it [03:47, 19.07it/s]"
     ]
    },
    {
     "name": "stdout",
     "output_type": "stream",
     "text": [
      "[320 182 876 875]\n",
      "[180 170 745 903]\n",
      "[149 163 769 929]\n",
      "[191 141 767 884]\n",
      "[316 122 911 900]\n"
     ]
    },
    {
     "name": "stderr",
     "output_type": "stream",
     "text": [
      "preprocessing: 5208it [03:47, 21.18it/s]"
     ]
    },
    {
     "name": "stdout",
     "output_type": "stream",
     "text": [
      "[280 194 827 861]\n",
      "[240 162 788 853]\n",
      "[269 232 842 838]\n",
      "[255 244 774 891]\n",
      "[211 184 845 801]\n",
      "[239 153 836 890]\n"
     ]
    },
    {
     "name": "stderr",
     "output_type": "stream",
     "text": [
      "preprocessing: 5214it [03:47, 22.97it/s]"
     ]
    },
    {
     "name": "stdout",
     "output_type": "stream",
     "text": [
      "[272 232 854 883]\n",
      "[323 183 896 887]\n",
      "[210 171 754 898]\n",
      "[294 219 880 803]\n",
      "[305 171 886 868]\n"
     ]
    },
    {
     "name": "stderr",
     "output_type": "stream",
     "text": [
      "preprocessing: 5220it [03:48, 22.50it/s]"
     ]
    },
    {
     "name": "stdout",
     "output_type": "stream",
     "text": [
      "[178 152 734 940]\n",
      "[247 186 792 896]\n",
      "[166 220 762 913]\n",
      "[261 168 826 877]\n",
      "[192 149 750 914]\n"
     ]
    },
    {
     "name": "stderr",
     "output_type": "stream",
     "text": [
      "preprocessing: 5226it [03:48, 22.27it/s]"
     ]
    },
    {
     "name": "stdout",
     "output_type": "stream",
     "text": [
      "[240 233 802 917]\n",
      "[258 182 787 861]\n",
      "[234 163 781 872]\n",
      "[259 204 873 864]\n",
      "[275 152 818 904]\n"
     ]
    },
    {
     "name": "stderr",
     "output_type": "stream",
     "text": [
      "\r",
      "preprocessing: 5229it [03:48, 22.21it/s]"
     ]
    },
    {
     "name": "stdout",
     "output_type": "stream",
     "text": [
      "[279 154 867 885]\n",
      "[136 134 697 861]\n",
      "[283 188 839 873]\n",
      "[192 168 754 904]\n",
      "[206 207 747 942]\n"
     ]
    },
    {
     "name": "stderr",
     "output_type": "stream",
     "text": [
      "preprocessing: 5235it [03:48, 21.74it/s]"
     ]
    },
    {
     "name": "stdout",
     "output_type": "stream",
     "text": [
      "[341 184 913 855]\n",
      "[270 215 827 875]\n",
      "[203  91 780 857]\n",
      "[243 207 814 859]\n",
      "[202 183 748 940]\n"
     ]
    },
    {
     "name": "stderr",
     "output_type": "stream",
     "text": [
      "preprocessing: 5241it [03:49, 21.52it/s]"
     ]
    },
    {
     "name": "stdout",
     "output_type": "stream",
     "text": [
      "[200 200 783 857]\n",
      "[270 245 839 873]\n",
      "[245 222 827 882]\n",
      "[164 217 757 860]\n",
      "[196 131 780 867]\n"
     ]
    },
    {
     "name": "stderr",
     "output_type": "stream",
     "text": [
      "\r",
      "preprocessing: 5244it [03:49, 21.68it/s]"
     ]
    },
    {
     "name": "stdout",
     "output_type": "stream",
     "text": [
      "[264 213 838 839]\n",
      "[270 242 829 867]\n",
      "[193 151 772 922]\n",
      "[236 219 771 911]\n",
      "[191 200 685 841]\n"
     ]
    },
    {
     "name": "stderr",
     "output_type": "stream",
     "text": [
      "preprocessing: 5250it [03:49, 21.86it/s]"
     ]
    },
    {
     "name": "stdout",
     "output_type": "stream",
     "text": [
      "[176 179 741 901]\n",
      "[196 207 762 920]\n",
      "[224 255 828 795]\n",
      "[244 175 783 848]\n",
      "[275 189 800 847]\n"
     ]
    },
    {
     "name": "stderr",
     "output_type": "stream",
     "text": [
      "preprocessing: 5256it [03:49, 21.97it/s]"
     ]
    },
    {
     "name": "stdout",
     "output_type": "stream",
     "text": [
      "[116 218 712 902]\n",
      "[188 164 733 864]\n",
      "[200 142 780 886]\n",
      "[255 204 804 921]\n",
      "[300 176 786 879]\n"
     ]
    },
    {
     "name": "stderr",
     "output_type": "stream",
     "text": [
      "\r",
      "preprocessing: 5259it [03:50, 21.60it/s]"
     ]
    },
    {
     "name": "stdout",
     "output_type": "stream",
     "text": [
      "[278 232 874 828]\n",
      "[303 220 822 900]\n",
      "[247 284 824 877]\n",
      "[154 171 753 872]\n",
      "[110 149 722 894]\n"
     ]
    },
    {
     "name": "stderr",
     "output_type": "stream",
     "text": [
      "preprocessing: 5265it [03:50, 21.84it/s]"
     ]
    },
    {
     "name": "stdout",
     "output_type": "stream",
     "text": [
      "[231 199 794 859]\n",
      "[140 168 767 848]\n",
      "[262 242 780 875]\n",
      "[215 142 802 810]\n",
      "[292 188 807 912]\n"
     ]
    },
    {
     "name": "stderr",
     "output_type": "stream",
     "text": [
      "preprocessing: 5271it [03:50, 21.69it/s]"
     ]
    },
    {
     "name": "stdout",
     "output_type": "stream",
     "text": [
      "[132 122 731 841]\n",
      "[263 181 848 868]\n",
      "[217 138 804 942]\n",
      "[287 175 807 841]\n",
      "[248 214 801 898]\n"
     ]
    },
    {
     "name": "stderr",
     "output_type": "stream",
     "text": [
      "\r",
      "preprocessing: 5274it [03:50, 21.80it/s]"
     ]
    },
    {
     "name": "stdout",
     "output_type": "stream",
     "text": [
      "[204 147 793 932]\n",
      "[179 167 764 841]\n",
      "[196 134 791 898]\n",
      "[282 219 785 872]\n",
      "[244 175 781 850]\n"
     ]
    },
    {
     "name": "stderr",
     "output_type": "stream",
     "text": [
      "preprocessing: 5280it [03:50, 21.93it/s]"
     ]
    },
    {
     "name": "stdout",
     "output_type": "stream",
     "text": [
      "[292 263 833 892]\n",
      "[299 185 856 870]\n",
      "[168 162 772 871]\n",
      "[280 112 813 920]\n",
      "[278 146 864 898]\n"
     ]
    },
    {
     "name": "stderr",
     "output_type": "stream",
     "text": [
      "\r",
      "preprocessing: 5283it [03:51, 21.97it/s]"
     ]
    },
    {
     "name": "stdout",
     "output_type": "stream",
     "text": [
      "[291 138 921 879]\n",
      "[182 136 774 887]\n",
      "[251 169 791 871]\n",
      "[212 249 779 884]\n",
      "[173 160 733 907]\n"
     ]
    },
    {
     "name": "stderr",
     "output_type": "stream",
     "text": [
      "preprocessing: 5289it [03:51, 21.73it/s]"
     ]
    },
    {
     "name": "stdout",
     "output_type": "stream",
     "text": [
      "[243 149 789 771]\n",
      "[286 208 811 859]\n",
      "[209 162 775 872]\n",
      "[198 207 766 918]\n",
      "[240 194 829 860]\n"
     ]
    },
    {
     "name": "stderr",
     "output_type": "stream",
     "text": [
      "preprocessing: 5295it [03:51, 21.64it/s]"
     ]
    },
    {
     "name": "stdout",
     "output_type": "stream",
     "text": [
      "[269 169 825 876]\n",
      "[224 283 773 876]\n",
      "[231 220 805 847]\n",
      "[301 158 785 840]\n",
      "[210 230 739 873]\n"
     ]
    },
    {
     "name": "stderr",
     "output_type": "stream",
     "text": [
      "\r",
      "preprocessing: 5298it [03:51, 21.76it/s]"
     ]
    },
    {
     "name": "stdout",
     "output_type": "stream",
     "text": [
      "[222 183 770 880]\n",
      "[239 236 796 859]\n",
      "[186 237 752 888]\n",
      "[213 122 794 921]\n"
     ]
    },
    {
     "name": "stderr",
     "output_type": "stream",
     "text": [
      "preprocessing: 5304it [03:52, 19.76it/s]"
     ]
    },
    {
     "name": "stdout",
     "output_type": "stream",
     "text": [
      "[192 217 757 846]\n",
      "[204 166 839 907]\n",
      "[266 213 822 852]\n",
      "[158 171 751 892]\n",
      "[240 152 786 936]\n"
     ]
    },
    {
     "name": "stderr",
     "output_type": "stream",
     "text": [
      "preprocessing: 5310it [03:52, 22.13it/s]"
     ]
    },
    {
     "name": "stdout",
     "output_type": "stream",
     "text": [
      "[260 169 861 787]\n",
      "[202 234 767 878]\n",
      "[261 178 791 880]\n",
      "[245 172 809 840]\n",
      "[225 227 797 875]\n",
      "[244 204 802 834]\n"
     ]
    },
    {
     "name": "stderr",
     "output_type": "stream",
     "text": [
      "preprocessing: 5316it [03:52, 23.35it/s]"
     ]
    },
    {
     "name": "stdout",
     "output_type": "stream",
     "text": [
      "[333  69 886 837]\n",
      "[218 206 744 927]\n",
      "[229 235 793 828]\n",
      "[161 221 757 776]\n",
      "[276 205 843 897]\n"
     ]
    },
    {
     "name": "stderr",
     "output_type": "stream",
     "text": [
      "\r",
      "preprocessing: 5319it [03:52, 22.95it/s]"
     ]
    },
    {
     "name": "stdout",
     "output_type": "stream",
     "text": [
      "[271 198 834 832]\n",
      "[272 157 756 877]\n",
      "[221 183 734 870]\n",
      "[284 169 818 827]\n"
     ]
    },
    {
     "name": "stderr",
     "output_type": "stream",
     "text": [
      "\r",
      "preprocessing: 5322it [03:52, 22.27it/s]"
     ]
    },
    {
     "name": "stdout",
     "output_type": "stream",
     "text": [
      "[236 189 784 884]\n",
      "[229 231 777 928]\n",
      "[212 177 781 885]\n",
      "[128 155 742 922]\n",
      "[217 174 782 928]\n"
     ]
    },
    {
     "name": "stderr",
     "output_type": "stream",
     "text": [
      "preprocessing: 5328it [03:53, 21.89it/s]"
     ]
    },
    {
     "name": "stdout",
     "output_type": "stream",
     "text": [
      "[293 210 830 864]\n",
      "[257 226 805 899]\n",
      "[359 222 921 907]\n",
      "[201 195 730 907]\n",
      "[190 106 815 900]\n"
     ]
    },
    {
     "name": "stderr",
     "output_type": "stream",
     "text": [
      "preprocessing: 5334it [03:53, 21.69it/s]"
     ]
    },
    {
     "name": "stdout",
     "output_type": "stream",
     "text": [
      "[223 178 775 896]\n",
      "[262 168 773 871]\n",
      "[227 218 765 867]\n",
      "[225 159 806 859]\n",
      "[290 216 892 844]\n"
     ]
    },
    {
     "name": "stderr",
     "output_type": "stream",
     "text": [
      "\r",
      "preprocessing: 5337it [03:53, 21.81it/s]"
     ]
    },
    {
     "name": "stdout",
     "output_type": "stream",
     "text": [
      "[350 161 909 865]\n",
      "[266 180 793 863]\n",
      "[326 126 866 907]\n",
      "[211 177 818 853]\n",
      "[192 216 754 845]\n"
     ]
    },
    {
     "name": "stderr",
     "output_type": "stream",
     "text": [
      "preprocessing: 5343it [03:53, 21.67it/s]"
     ]
    },
    {
     "name": "stdout",
     "output_type": "stream",
     "text": [
      "[234 228 753 860]\n",
      "[213 238 746 879]\n",
      "[231 163 787 868]\n",
      "[185 191 761 895]\n",
      "[216 218 737 893]\n"
     ]
    },
    {
     "name": "stderr",
     "output_type": "stream",
     "text": [
      "preprocessing: 5349it [03:54, 21.59it/s]"
     ]
    },
    {
     "name": "stdout",
     "output_type": "stream",
     "text": [
      "[131 110 742 862]\n",
      "[243 171 796 865]\n",
      "[ 90 125 724 859]\n",
      "[268 207 899 854]\n",
      "[144 188 748 924]\n"
     ]
    },
    {
     "name": "stderr",
     "output_type": "stream",
     "text": [
      "\r",
      "preprocessing: 5352it [03:54, 21.37it/s]"
     ]
    },
    {
     "name": "stdout",
     "output_type": "stream",
     "text": [
      "[139 226 725 825]\n",
      "[162 187 758 911]\n",
      "[262 114 855 846]\n",
      "[373 164 921 917]\n",
      "[230 202 797 902]\n"
     ]
    },
    {
     "name": "stderr",
     "output_type": "stream",
     "text": [
      "preprocessing: 5358it [03:54, 21.71it/s]"
     ]
    },
    {
     "name": "stdout",
     "output_type": "stream",
     "text": [
      "[229 205 748 903]\n",
      "[225 215 827 965]\n",
      "[186 232 743 888]\n",
      "[ 85 187 629 855]\n",
      "[320 138 893 875]\n"
     ]
    },
    {
     "name": "stderr",
     "output_type": "stream",
     "text": [
      "preprocessing: 5364it [03:54, 21.62it/s]"
     ]
    },
    {
     "name": "stdout",
     "output_type": "stream",
     "text": [
      "[206 189 767 877]\n",
      "[289  95 902 836]\n",
      "[300 174 863 847]\n",
      "[321 192 794 915]\n",
      "[275 160 823 883]\n"
     ]
    },
    {
     "name": "stderr",
     "output_type": "stream",
     "text": [
      "preprocessing: 5370it [03:55, 21.84it/s]"
     ]
    },
    {
     "name": "stdout",
     "output_type": "stream",
     "text": [
      "[167 277 785 853]\n",
      "[201 136 819 878]\n",
      "[335 144 912 868]\n",
      "[273 141 890 895]\n",
      "[263 156 862 880]\n"
     ]
    },
    {
     "name": "stderr",
     "output_type": "stream",
     "text": [
      "\r",
      "preprocessing: 5373it [03:55, 21.91it/s]"
     ]
    },
    {
     "name": "stdout",
     "output_type": "stream",
     "text": [
      "[275 165 825 911]\n",
      "[247 192 761 894]\n",
      "[299 233 837 814]\n",
      "[273 187 856 909]\n",
      "[207 197 764 833]\n"
     ]
    },
    {
     "name": "stderr",
     "output_type": "stream",
     "text": [
      "preprocessing: 5379it [03:55, 21.98it/s]"
     ]
    },
    {
     "name": "stdout",
     "output_type": "stream",
     "text": [
      "[360 177 871 918]\n",
      "[ 72 123 681 929]\n",
      "[275 158 829 871]\n",
      "[237 197 798 811]\n",
      "[261 179 718 933]\n"
     ]
    },
    {
     "name": "stderr",
     "output_type": "stream",
     "text": [
      "preprocessing: 5385it [03:55, 22.02it/s]"
     ]
    },
    {
     "name": "stdout",
     "output_type": "stream",
     "text": [
      "[210 208 760 901]\n",
      "[179 156 752 902]\n",
      "[ 87 160 708 982]\n",
      "[269 191 786 865]\n",
      "[360 158 932 919]\n"
     ]
    },
    {
     "name": "stderr",
     "output_type": "stream",
     "text": [
      "\r",
      "preprocessing: 5388it [03:55, 22.03it/s]"
     ]
    },
    {
     "name": "stdout",
     "output_type": "stream",
     "text": [
      "[147 210 698 943]\n",
      "[236 172 765 894]\n",
      "[223 214 817 867]\n",
      "[274 222 796 832]\n",
      "[221  66 781 872]\n"
     ]
    },
    {
     "name": "stderr",
     "output_type": "stream",
     "text": [
      "preprocessing: 5394it [03:56, 21.78it/s]"
     ]
    },
    {
     "name": "stdout",
     "output_type": "stream",
     "text": [
      "[260 145 829 877]\n",
      "[110 158 761 909]\n",
      "[320 187 793 873]\n",
      "[284 155 859 890]\n",
      "[281 186 786 892]\n"
     ]
    },
    {
     "name": "stderr",
     "output_type": "stream",
     "text": [
      "\r",
      "preprocessing: 5397it [03:56, 21.86it/s]"
     ]
    },
    {
     "name": "stdout",
     "output_type": "stream",
     "text": [
      "[228 198 803 851]\n",
      "[270 252 811 848]\n",
      "[249 284 803 885]\n",
      "[222 240 758 912]\n",
      "[ 73 139 720 887]\n"
     ]
    },
    {
     "name": "stderr",
     "output_type": "stream",
     "text": [
      "preprocessing: 5403it [03:56, 19.20it/s]"
     ]
    },
    {
     "name": "stdout",
     "output_type": "stream",
     "text": [
      "[167 142 761 856]\n",
      "[264 163 805 887]\n",
      "[264 148 862 895]\n",
      "[172 159 747 915]\n",
      "[233 181 789 865]\n"
     ]
    },
    {
     "name": "stderr",
     "output_type": "stream",
     "text": [
      "preprocessing: 5409it [03:56, 21.62it/s]"
     ]
    },
    {
     "name": "stdout",
     "output_type": "stream",
     "text": [
      "[360 154 942 823]\n",
      "[337 148 925 943]\n",
      "[296 120 880 894]\n",
      "[308 171 838 893]\n",
      "[141 226 714 904]\n"
     ]
    },
    {
     "name": "stderr",
     "output_type": "stream",
     "text": [
      "preprocessing: 5415it [03:57, 22.80it/s]"
     ]
    },
    {
     "name": "stdout",
     "output_type": "stream",
     "text": [
      "[327 208 826 836]\n",
      "[280 196 859 859]\n",
      "[162 183 765 888]\n",
      "[247 199 792 848]\n",
      "[262 152 805 909]\n"
     ]
    },
    {
     "name": "stderr",
     "output_type": "stream",
     "text": [
      "\r",
      "preprocessing: 5418it [03:57, 22.57it/s]"
     ]
    },
    {
     "name": "stdout",
     "output_type": "stream",
     "text": [
      "[262 252 758 830]\n",
      "[229 243 842 798]\n",
      "[ 40  83 709 895]\n",
      "[198 149 782 912]\n",
      "[108 149 670 855]\n"
     ]
    },
    {
     "name": "stderr",
     "output_type": "stream",
     "text": [
      "preprocessing: 5424it [03:57, 22.03it/s]"
     ]
    },
    {
     "name": "stdout",
     "output_type": "stream",
     "text": [
      "[280 200 808 875]\n",
      "[122 177 733 926]\n",
      "[262 202 773 876]\n",
      "[241 201 781 893]\n",
      "[267 230 795 847]\n"
     ]
    },
    {
     "name": "stderr",
     "output_type": "stream",
     "text": [
      "\r",
      "preprocessing: 5427it [03:57, 21.64it/s]"
     ]
    },
    {
     "name": "stdout",
     "output_type": "stream",
     "text": [
      "[184 149 775 842]\n",
      "[278 173 897 846]\n",
      "[241 178 828 837]\n",
      "[229 195 780 861]\n",
      "[272 174 793 817]\n"
     ]
    },
    {
     "name": "stderr",
     "output_type": "stream",
     "text": [
      "preprocessing: 5433it [03:58, 21.22it/s]"
     ]
    },
    {
     "name": "stdout",
     "output_type": "stream",
     "text": [
      "[239 156 798 903]\n",
      "[290 240 829 887]\n",
      "[230 178 733 887]\n",
      "[296 180 887 894]\n",
      "[222 212 761 945]\n"
     ]
    },
    {
     "name": "stderr",
     "output_type": "stream",
     "text": [
      "preprocessing: 5439it [03:58, 21.64it/s]"
     ]
    },
    {
     "name": "stdout",
     "output_type": "stream",
     "text": [
      "[183 159 812 892]\n",
      "[292  74 895 889]\n",
      "[243 215 809 884]\n",
      "[257 216 795 889]\n",
      "[150 185 759 930]\n"
     ]
    },
    {
     "name": "stderr",
     "output_type": "stream",
     "text": [
      "\r",
      "preprocessing: 5442it [03:58, 21.76it/s]"
     ]
    },
    {
     "name": "stdout",
     "output_type": "stream",
     "text": [
      "[302 203 867 876]\n",
      "[231 182 796 881]\n",
      "[204 167 798 864]\n",
      "[290 167 883 859]\n",
      "[206 238 801 876]\n"
     ]
    },
    {
     "name": "stderr",
     "output_type": "stream",
     "text": [
      "preprocessing: 5448it [03:58, 22.03it/s]"
     ]
    },
    {
     "name": "stdout",
     "output_type": "stream",
     "text": [
      "[272 146 837 882]\n",
      "[269 276 860 856]\n",
      "[242 204 812 835]\n",
      "[310 143 869 906]\n",
      "[180 199 769 849]\n"
     ]
    },
    {
     "name": "stderr",
     "output_type": "stream",
     "text": [
      "preprocessing: 5454it [03:59, 21.77it/s]"
     ]
    },
    {
     "name": "stdout",
     "output_type": "stream",
     "text": [
      "[254 228 779 899]\n",
      "[225 167 754 903]\n",
      "[299 164 918 863]\n",
      "[233 200 827 814]\n",
      "[310 169 871 851]\n"
     ]
    },
    {
     "name": "stderr",
     "output_type": "stream",
     "text": [
      "\r",
      "preprocessing: 5457it [03:59, 21.86it/s]"
     ]
    },
    {
     "name": "stdout",
     "output_type": "stream",
     "text": [
      "[243 222 769 866]\n",
      "[276 143 903 857]\n",
      "[326 210 901 894]\n",
      "[352 163 921 933]\n",
      "[283 168 838 830]"
     ]
    },
    {
     "name": "stderr",
     "output_type": "stream",
     "text": [
      "preprocessing: 5463it [03:59, 21.69it/s]"
     ]
    },
    {
     "name": "stdout",
     "output_type": "stream",
     "text": [
      "\n",
      "[269 235 812 887]\n",
      "[250 219 805 902]\n",
      "[278 247 779 861]\n",
      "[263 224 832 857]\n"
     ]
    },
    {
     "name": "stderr",
     "output_type": "stream",
     "text": [
      "preprocessing: 5469it [03:59, 21.50it/s]"
     ]
    },
    {
     "name": "stdout",
     "output_type": "stream",
     "text": [
      "[189 183 774 921]\n",
      "[164 182 746 943]\n",
      "[225 259 766 867]\n",
      "[258 198 824 827]\n",
      "[278 231 850 870]\n"
     ]
    },
    {
     "name": "stderr",
     "output_type": "stream",
     "text": [
      "\r",
      "preprocessing: 5472it [03:59, 21.66it/s]"
     ]
    },
    {
     "name": "stdout",
     "output_type": "stream",
     "text": [
      "[274 209 764 905]\n",
      "[345 151 852 815]\n",
      "[157 131 754 856]\n",
      "[ 92 121 722 918]\n",
      "[141 133 751 932]\n"
     ]
    },
    {
     "name": "stderr",
     "output_type": "stream",
     "text": [
      "preprocessing: 5478it [04:00, 21.60it/s]"
     ]
    },
    {
     "name": "stdout",
     "output_type": "stream",
     "text": [
      "[302 186 842 905]\n",
      "[301 152 887 934]\n",
      "[330 184 866 836]\n",
      "[213 191 771 920]\n",
      "[260 164 837 829]\n"
     ]
    },
    {
     "name": "stderr",
     "output_type": "stream",
     "text": [
      "preprocessing: 5484it [04:00, 21.83it/s]"
     ]
    },
    {
     "name": "stdout",
     "output_type": "stream",
     "text": [
      "[295 208 843 847]\n",
      "[271 199 779 874]\n",
      "[233 214 782 865]\n",
      "[241 200 791 880]\n",
      "[139 154 739 899]\n"
     ]
    },
    {
     "name": "stderr",
     "output_type": "stream",
     "text": [
      "\r",
      "preprocessing: 5487it [04:00, 21.52it/s]"
     ]
    },
    {
     "name": "stdout",
     "output_type": "stream",
     "text": [
      "[222 180 804 893]\n",
      "[352 209 923 985]\n",
      "[314 158 906 839]\n",
      "[181 270 776 828]\n",
      "[ 86  81 740 896]\n"
     ]
    },
    {
     "name": "stderr",
     "output_type": "stream",
     "text": [
      "preprocessing: 5493it [04:00, 21.79it/s]"
     ]
    },
    {
     "name": "stdout",
     "output_type": "stream",
     "text": [
      "[194 145 737 885]\n",
      "[258 290 848 864]\n",
      "[253 157 781 835]\n",
      "[335 189 918 894]\n",
      "[312 211 867 852]\n"
     ]
    },
    {
     "name": "stderr",
     "output_type": "stream",
     "text": [
      "\r",
      "preprocessing: 5496it [04:00, 21.49it/s]"
     ]
    },
    {
     "name": "stdout",
     "output_type": "stream",
     "text": [
      "[174 159 703 890]\n",
      "[270 292 808 948]\n",
      "[128 128 719 904]\n",
      "[138 118 776 894]\n",
      "[242 165 808 852]\n"
     ]
    },
    {
     "name": "stderr",
     "output_type": "stream",
     "text": [
      "preprocessing: 5502it [04:01, 19.11it/s]"
     ]
    },
    {
     "name": "stdout",
     "output_type": "stream",
     "text": [
      "[177 204 694 857]\n",
      "[267 171 808 873]\n",
      "[221 172 775 908]\n",
      "[306 184 896 919]\n"
     ]
    },
    {
     "name": "stderr",
     "output_type": "stream",
     "text": [
      "preprocessing: 5508it [04:01, 21.31it/s]"
     ]
    },
    {
     "name": "stdout",
     "output_type": "stream",
     "text": [
      "[241 172 782 884]\n",
      "[241 130 732 910]\n",
      "[228 180 789 833]\n",
      "[272 236 825 865]\n",
      "[237 196 818 848]\n"
     ]
    },
    {
     "name": "stderr",
     "output_type": "stream",
     "text": [
      "\r",
      "preprocessing: 5511it [04:01, 22.30it/s]"
     ]
    },
    {
     "name": "stdout",
     "output_type": "stream",
     "text": [
      "[302 213 866 835]\n",
      "[138 169 761 854]\n",
      "[221 185 819 793]\n",
      "[207 287 753 839]\n",
      "[176 195 741 914]\n",
      "[300 176 836 909]\n"
     ]
    },
    {
     "name": "stderr",
     "output_type": "stream",
     "text": [
      "preprocessing: 5517it [04:01, 22.74it/s]"
     ]
    },
    {
     "name": "stdout",
     "output_type": "stream",
     "text": [
      "[239 216 785 834]\n",
      "[166 179 687 858]\n",
      "[161 192 755 801]\n",
      "[174 197 799 873]\n",
      "[236 260 790 868]\n"
     ]
    },
    {
     "name": "stderr",
     "output_type": "stream",
     "text": [
      "preprocessing: 5523it [04:02, 21.99it/s]"
     ]
    },
    {
     "name": "stdout",
     "output_type": "stream",
     "text": [
      "[294 178 839 862]\n",
      "[233 200 810 859]\n",
      "[222 204 775 875]\n",
      "[239 169 827 877]\n",
      "[233 145 836 892]\n"
     ]
    },
    {
     "name": "stderr",
     "output_type": "stream",
     "text": [
      "\r",
      "preprocessing: 5526it [04:02, 21.63it/s]"
     ]
    },
    {
     "name": "stdout",
     "output_type": "stream",
     "text": [
      "[138 182 726 864]\n",
      "[208 209 755 907]\n",
      "[212 202 757 900]\n",
      "[215 125 797 870]\n",
      "[165 141 762 907]\n"
     ]
    },
    {
     "name": "stderr",
     "output_type": "stream",
     "text": [
      "preprocessing: 5532it [04:02, 21.20it/s]"
     ]
    },
    {
     "name": "stdout",
     "output_type": "stream",
     "text": [
      "[316 197 870 897]\n",
      "[227 168 814 856]\n",
      "[ 98 178 668 886]\n",
      "[202 241 748 876]\n",
      "[257 251 746 791]\n"
     ]
    },
    {
     "name": "stderr",
     "output_type": "stream",
     "text": [
      "preprocessing: 5538it [04:02, 21.37it/s]"
     ]
    },
    {
     "name": "stdout",
     "output_type": "stream",
     "text": [
      "[169 186 750 914]\n",
      "[232 206 768 811]\n",
      "[251 206 798 880]\n",
      "[159 151 723 855]\n",
      "[234 209 832 865]\n"
     ]
    },
    {
     "name": "stderr",
     "output_type": "stream",
     "text": [
      "\r",
      "preprocessing: 5541it [04:03, 21.57it/s]"
     ]
    },
    {
     "name": "stdout",
     "output_type": "stream",
     "text": [
      "[260 189 836 900]\n",
      "[137 134 753 862]\n",
      "[105 167 704 871]\n",
      "[232 257 768 834]\n",
      "[182 238 752 867]\n"
     ]
    },
    {
     "name": "stderr",
     "output_type": "stream",
     "text": [
      "preprocessing: 5547it [04:03, 21.54it/s]"
     ]
    },
    {
     "name": "stdout",
     "output_type": "stream",
     "text": [
      "[228 159 801 897]\n",
      "[188 155 795 897]\n",
      "[313 150 882 874]\n",
      "[251 185 779 880]\n",
      "[240 203 808 895]\n"
     ]
    },
    {
     "name": "stderr",
     "output_type": "stream",
     "text": [
      "preprocessing: 5553it [04:03, 21.18it/s]"
     ]
    },
    {
     "name": "stdout",
     "output_type": "stream",
     "text": [
      "[228 220 829 861]\n",
      "[159 162 758 926]\n",
      "[235 212 764 906]\n",
      "[303 196 866 884]\n",
      "[119  98 741 934]\n"
     ]
    },
    {
     "name": "stderr",
     "output_type": "stream",
     "text": [
      "\r",
      "preprocessing: 5556it [04:03, 21.06it/s]"
     ]
    },
    {
     "name": "stdout",
     "output_type": "stream",
     "text": [
      "[300 171 849 849]\n",
      "[157 145 775 882]\n",
      "[141  65 755 921]\n",
      "[227 177 842 816]\n",
      "[297 194 862 846]\n"
     ]
    },
    {
     "name": "stderr",
     "output_type": "stream",
     "text": [
      "preprocessing: 5562it [04:04, 21.31it/s]"
     ]
    },
    {
     "name": "stdout",
     "output_type": "stream",
     "text": [
      "[265 196 837 840]\n",
      "[301 169 849 876]\n",
      "[254 172 828 843]\n",
      "[294 179 838 886]\n",
      "[341 176 850 839]\n"
     ]
    },
    {
     "name": "stderr",
     "output_type": "stream",
     "text": [
      "preprocessing: 5568it [04:04, 21.30it/s]"
     ]
    },
    {
     "name": "stdout",
     "output_type": "stream",
     "text": [
      "[324 176 827 859]\n",
      "[270 160 829 922]\n",
      "[266 213 758 851]\n",
      "[222 139 769 883]\n",
      "[210 232 757 875]\n"
     ]
    },
    {
     "name": "stderr",
     "output_type": "stream",
     "text": [
      "\r",
      "preprocessing: 5571it [04:04, 21.52it/s]"
     ]
    },
    {
     "name": "stdout",
     "output_type": "stream",
     "text": [
      "[285 156 889 905]\n",
      "[264 181 818 886]\n",
      "[243 181 812 852]\n",
      "[205 210 722 853]\n",
      "[311 143 782 926]\n"
     ]
    },
    {
     "name": "stderr",
     "output_type": "stream",
     "text": [
      "preprocessing: 5577it [04:04, 21.53it/s]"
     ]
    },
    {
     "name": "stdout",
     "output_type": "stream",
     "text": [
      "[298 237 771 916]\n",
      "[200 144 765 905]\n",
      "[262 167 776 842]\n",
      "[268 200 831 872]\n"
     ]
    },
    {
     "name": "stderr",
     "output_type": "stream",
     "text": [
      "preprocessing: 5583it [04:05, 21.53it/s]"
     ]
    },
    {
     "name": "stdout",
     "output_type": "stream",
     "text": [
      "[289 281 831 856]\n",
      "[186 221 772 856]\n",
      "[113 132 697 881]\n",
      "[358 192 877 869]\n",
      "[208 195 741 909]\n"
     ]
    },
    {
     "name": "stderr",
     "output_type": "stream",
     "text": [
      "\r",
      "preprocessing: 5586it [04:05, 21.32it/s]"
     ]
    },
    {
     "name": "stdout",
     "output_type": "stream",
     "text": [
      "[260 199 780 883]\n",
      "[ 94 166 671 848]\n",
      "[214 186 807 870]\n",
      "[111 166 722 868]\n",
      "[279 131 901 893]\n"
     ]
    },
    {
     "name": "stderr",
     "output_type": "stream",
     "text": [
      "preprocessing: 5592it [04:05, 21.43it/s]"
     ]
    },
    {
     "name": "stdout",
     "output_type": "stream",
     "text": [
      "[224 201 778 895]\n",
      "[350 208 940 851]\n",
      "[249 238 810 844]\n",
      "[346 155 913 894]\n"
     ]
    },
    {
     "name": "stderr",
     "output_type": "stream",
     "text": [
      "\r",
      "preprocessing: 5595it [04:05, 21.61it/s]"
     ]
    },
    {
     "name": "stdout",
     "output_type": "stream",
     "text": [
      "[127 213 778 927]\n",
      "[246 212 813 861]\n",
      "[280 163 834 855]\n",
      "[304 141 900 939]\n",
      "[279 171 816 959]\n"
     ]
    },
    {
     "name": "stderr",
     "output_type": "stream",
     "text": [
      "\r",
      "preprocessing: 5598it [04:05, 21.37it/s]"
     ]
    },
    {
     "name": "stdout",
     "output_type": "stream",
     "text": [
      "[158 204 732 873]\n",
      "[238 194 799 840]\n",
      "[247 174 770 833]\n"
     ]
    },
    {
     "name": "stderr",
     "output_type": "stream",
     "text": [
      "preprocessing: 5603it [04:06, 18.48it/s]"
     ]
    },
    {
     "name": "stdout",
     "output_type": "stream",
     "text": [
      "[284 255 851 861]\n",
      "[314 115 774 871]\n",
      "[185 193 748 851]\n",
      "[248 199 816 902]\n",
      "[276 180 778 848]\n"
     ]
    },
    {
     "name": "stderr",
     "output_type": "stream",
     "text": [
      "preprocessing: 5609it [04:06, 21.33it/s]"
     ]
    },
    {
     "name": "stdout",
     "output_type": "stream",
     "text": [
      "[253 226 790 898]\n",
      "[251 196 755 939]\n",
      "[ 38  76 725 961]\n",
      "[276 149 808 887]\n",
      "[210 201 805 877]\n"
     ]
    },
    {
     "name": "stderr",
     "output_type": "stream",
     "text": [
      "\r",
      "preprocessing: 5612it [04:06, 21.17it/s]"
     ]
    },
    {
     "name": "stdout",
     "output_type": "stream",
     "text": [
      "[221 217 821 884]\n",
      "[236 220 795 840]\n",
      "[226 184 750 819]\n",
      "[220 213 762 900]\n",
      "[137 162 749 929]\n"
     ]
    },
    {
     "name": "stderr",
     "output_type": "stream",
     "text": [
      "preprocessing: 5618it [04:06, 19.43it/s]"
     ]
    },
    {
     "name": "stdout",
     "output_type": "stream",
     "text": [
      "[296 194 836 854]\n",
      "[243 206 836 852]\n",
      "[250 208 767 838]\n",
      "[285 193 810 904]\n"
     ]
    },
    {
     "name": "stderr",
     "output_type": "stream",
     "text": [
      "preprocessing: 5622it [04:06, 18.99it/s]"
     ]
    },
    {
     "name": "stdout",
     "output_type": "stream",
     "text": [
      "[361 229 909 856]\n",
      "[343 241 808 933]\n",
      "[277 217 822 859]\n",
      "[181 201 746 894]\n"
     ]
    },
    {
     "name": "stderr",
     "output_type": "stream",
     "text": [
      "preprocessing: 5626it [04:07, 18.92it/s]"
     ]
    },
    {
     "name": "stdout",
     "output_type": "stream",
     "text": [
      "[353 168 916 932]\n",
      "[182 160 777 886]\n",
      "[264 210 784 907]\n",
      "[249 179 817 905]\n"
     ]
    },
    {
     "name": "stderr",
     "output_type": "stream",
     "text": [
      "preprocessing: 5630it [04:07, 19.13it/s]"
     ]
    },
    {
     "name": "stdout",
     "output_type": "stream",
     "text": [
      "[280 187 790 873]\n",
      "[235 206 790 916]\n",
      "[349 208 868 925]\n",
      "[262 246 759 843]\n"
     ]
    },
    {
     "name": "stderr",
     "output_type": "stream",
     "text": [
      "preprocessing: 5634it [04:07, 19.17it/s]"
     ]
    },
    {
     "name": "stdout",
     "output_type": "stream",
     "text": [
      "[248 180 834 880]\n",
      "[159 104 763 909]\n",
      "[158 181 756 870]\n",
      "[254 205 776 901]\n",
      "[335 183 947 862]\n"
     ]
    },
    {
     "name": "stderr",
     "output_type": "stream",
     "text": [
      "preprocessing: 5640it [04:07, 20.17it/s]"
     ]
    },
    {
     "name": "stdout",
     "output_type": "stream",
     "text": [
      "[203 146 770 928]\n",
      "[241 127 789 803]\n",
      "[226 207 767 917]\n",
      "[182 151 780 881]\n"
     ]
    },
    {
     "name": "stderr",
     "output_type": "stream",
     "text": [
      "\r",
      "preprocessing: 5643it [04:08, 20.66it/s]"
     ]
    },
    {
     "name": "stdout",
     "output_type": "stream",
     "text": [
      "[255 201 868 879]\n",
      "[282 193 846 888]\n",
      "[206 140 771 908]\n",
      "[139 124 739 881]\n",
      "[228 261 748 834]\n"
     ]
    },
    {
     "name": "stderr",
     "output_type": "stream",
     "text": [
      "preprocessing: 5649it [04:08, 20.83it/s]"
     ]
    },
    {
     "name": "stdout",
     "output_type": "stream",
     "text": [
      "[306 193 848 836]\n",
      "[248 175 779 799]\n",
      "[210 211 774 911]\n",
      "[232 202 761 865]\n",
      "[226 200 783 911]\n"
     ]
    },
    {
     "name": "stderr",
     "output_type": "stream",
     "text": [
      "\r",
      "preprocessing: 5652it [04:08, 20.85it/s]"
     ]
    },
    {
     "name": "stdout",
     "output_type": "stream",
     "text": [
      "[287 255 791 924]\n",
      "[219 133 793 944]\n",
      "[261 202 804 861]\n",
      "[342 197 833 878]\n",
      "[146 125 754 809]\n"
     ]
    },
    {
     "name": "stderr",
     "output_type": "stream",
     "text": [
      "preprocessing: 5658it [04:08, 20.93it/s]"
     ]
    },
    {
     "name": "stdout",
     "output_type": "stream",
     "text": [
      "[245 181 870 912]\n",
      "[182 253 716 845]\n",
      "[212 196 785 877]\n",
      "[220 203 780 854]\n",
      "[251 191 802 883]\n"
     ]
    },
    {
     "name": "stderr",
     "output_type": "stream",
     "text": [
      "preprocessing: 5664it [04:09, 21.86it/s]"
     ]
    },
    {
     "name": "stdout",
     "output_type": "stream",
     "text": [
      "[258 185 831 890]\n",
      "[216 211 775 898]\n",
      "[273 165 813 870]\n",
      "[144 198 668 851]\n",
      "[132 199 690 877]\n"
     ]
    },
    {
     "name": "stderr",
     "output_type": "stream",
     "text": [
      "\r",
      "preprocessing: 5667it [04:09, 21.95it/s]"
     ]
    },
    {
     "name": "stdout",
     "output_type": "stream",
     "text": [
      "[200 192 754 895]\n",
      "[201 180 751 908]\n",
      "[220  84 871 860]\n",
      "[265 269 791 858]\n",
      "[242 168 815 868]\n"
     ]
    },
    {
     "name": "stderr",
     "output_type": "stream",
     "text": [
      "preprocessing: 5673it [04:09, 21.10it/s]"
     ]
    },
    {
     "name": "stdout",
     "output_type": "stream",
     "text": [
      "[147 169 771 848]\n",
      "[189 154 782 848]\n",
      "[300 208 865 859]\n",
      "[233 221 778 903]\n",
      "[239 201 771 883]\n"
     ]
    },
    {
     "name": "stderr",
     "output_type": "stream",
     "text": [
      "preprocessing: 5679it [04:09, 20.48it/s]"
     ]
    },
    {
     "name": "stdout",
     "output_type": "stream",
     "text": [
      "[223 125 827 780]\n",
      "[191 149 776 888]\n",
      "[340 194 866 881]\n",
      "[207 222 766 913]\n",
      "[143 104 780 897]\n"
     ]
    },
    {
     "name": "stderr",
     "output_type": "stream",
     "text": [
      "\r",
      "preprocessing: 5682it [04:09, 20.50it/s]"
     ]
    },
    {
     "name": "stdout",
     "output_type": "stream",
     "text": [
      "[142 161 737 888]\n",
      "[264 146 841 894]\n",
      "[247 196 813 838]\n",
      "[248 229 787 830]\n",
      "[ 95  91 731 875]\n"
     ]
    },
    {
     "name": "stderr",
     "output_type": "stream",
     "text": [
      "preprocessing: 5688it [04:10, 19.60it/s]"
     ]
    },
    {
     "name": "stdout",
     "output_type": "stream",
     "text": [
      "[289 197 872 851]\n",
      "[225 217 754 839]\n",
      "[214 142 781 967]\n"
     ]
    },
    {
     "name": "stderr",
     "output_type": "stream",
     "text": [
      "\r",
      "preprocessing: 5690it [04:10, 18.56it/s]"
     ]
    },
    {
     "name": "stdout",
     "output_type": "stream",
     "text": [
      "[227 142 820 808]\n",
      "[221 261 764 853]\n",
      "[287 185 833 895]\n",
      "[130 157 772 932]\n",
      "[267 175 757 894]"
     ]
    },
    {
     "name": "stderr",
     "output_type": "stream",
     "text": [
      "preprocessing: 5695it [04:10, 19.02it/s]"
     ]
    },
    {
     "name": "stdout",
     "output_type": "stream",
     "text": [
      "\n",
      "[171 243 800 925]\n",
      "[158 197 749 881]\n",
      "[264 158 828 878]\n",
      "[255 217 772 934]\n"
     ]
    },
    {
     "name": "stderr",
     "output_type": "stream",
     "text": [
      "\r",
      "preprocessing: 5698it [04:10, 20.06it/s]"
     ]
    },
    {
     "name": "stdout",
     "output_type": "stream",
     "text": [
      "[197 266 773 837]\n",
      "[251 254 768 887]\n",
      "[229 150 773 875]\n"
     ]
    },
    {
     "name": "stderr",
     "output_type": "stream",
     "text": [
      "preprocessing: 5703it [04:11, 17.91it/s]"
     ]
    },
    {
     "name": "stdout",
     "output_type": "stream",
     "text": [
      "[234 238 757 869]\n",
      "[227 167 800 861]\n",
      "[365 202 909 853]\n",
      "[291 218 829 824]\n"
     ]
    },
    {
     "name": "stderr",
     "output_type": "stream",
     "text": [
      "preprocessing: 5707it [04:11, 17.76it/s]"
     ]
    },
    {
     "name": "stdout",
     "output_type": "stream",
     "text": [
      "[234 161 791 818]\n",
      "[217 200 792 877]\n",
      "[129 169 676 865]\n",
      "[295 155 849 859]\n",
      "[158 127 726 925]\n"
     ]
    },
    {
     "name": "stderr",
     "output_type": "stream",
     "text": [
      "preprocessing: 5713it [04:11, 20.49it/s]"
     ]
    },
    {
     "name": "stdout",
     "output_type": "stream",
     "text": [
      "[290 238 914 887]\n",
      "[291 111 830 794]\n",
      "[282 225 850 863]\n",
      "[163 185 734 930]\n",
      "[262 183 822 836]\n"
     ]
    },
    {
     "name": "stderr",
     "output_type": "stream",
     "text": [
      "\r",
      "preprocessing: 5716it [04:11, 20.92it/s]"
     ]
    },
    {
     "name": "stdout",
     "output_type": "stream",
     "text": [
      "[310 209 912 869]\n",
      "[167 145 753 923]\n",
      "[121 147 734 900]\n",
      "[354 195 919 920]\n",
      "[217 178 744 911]\n"
     ]
    },
    {
     "name": "stderr",
     "output_type": "stream",
     "text": [
      "preprocessing: 5722it [04:11, 21.18it/s]"
     ]
    },
    {
     "name": "stdout",
     "output_type": "stream",
     "text": [
      "[103 131 735 874]\n",
      "[243 156 829 880]\n",
      "[126 154 688 880]\n",
      "[236 194 785 812]\n",
      "[313 162 842 828]\n"
     ]
    },
    {
     "name": "stderr",
     "output_type": "stream",
     "text": [
      "preprocessing: 5728it [04:12, 20.78it/s]"
     ]
    },
    {
     "name": "stdout",
     "output_type": "stream",
     "text": [
      "[270 185 840 949]\n",
      "[136 179 720 855]\n",
      "[214 134 805 866]\n",
      "[234 238 778 873]\n",
      "[193  87 789 852]\n"
     ]
    },
    {
     "name": "stderr",
     "output_type": "stream",
     "text": [
      "\r",
      "preprocessing: 5731it [04:12, 20.75it/s]"
     ]
    },
    {
     "name": "stdout",
     "output_type": "stream",
     "text": [
      "[340 186 845 876]\n",
      "[229 203 770 828]\n",
      "[233 143 801 911]\n",
      "[287 191 829 857]\n",
      "[210 212 770 880]\n"
     ]
    },
    {
     "name": "stderr",
     "output_type": "stream",
     "text": [
      "preprocessing: 5737it [04:12, 20.23it/s]"
     ]
    },
    {
     "name": "stdout",
     "output_type": "stream",
     "text": [
      "[159 159 740 896]\n",
      "[264 216 781 852]\n",
      "[257 268 831 858]\n",
      "[204 173 792 897]\n",
      "[206 203 760 863]\n"
     ]
    },
    {
     "name": "stderr",
     "output_type": "stream",
     "text": [
      "preprocessing: 5743it [04:13, 19.99it/s]"
     ]
    },
    {
     "name": "stdout",
     "output_type": "stream",
     "text": [
      "[320 122 915 822]\n",
      "[184 157 791 866]\n",
      "[262 233 737 850]\n",
      "[248 150 810 803]\n"
     ]
    },
    {
     "name": "stderr",
     "output_type": "stream",
     "text": [
      "\r",
      "preprocessing: 5746it [04:13, 18.63it/s]"
     ]
    },
    {
     "name": "stdout",
     "output_type": "stream",
     "text": [
      "[170 180 816 899]\n",
      "[272 154 819 865]\n",
      "[280 196 846 912]\n",
      "[288 190 857 880]\n"
     ]
    },
    {
     "name": "stderr",
     "output_type": "stream",
     "text": [
      "preprocessing: 5750it [04:13, 18.91it/s]"
     ]
    },
    {
     "name": "stdout",
     "output_type": "stream",
     "text": [
      "[204 204 734 868]\n",
      "[ 82 129 743 849]\n",
      "[155 178 675 893]\n",
      "[288 155 826 880]\n",
      "[256 188 747 871]\n"
     ]
    },
    {
     "name": "stderr",
     "output_type": "stream",
     "text": [
      "preprocessing: 5756it [04:13, 20.37it/s]"
     ]
    },
    {
     "name": "stdout",
     "output_type": "stream",
     "text": [
      "[330 239 801 860]\n",
      "[233 177 784 891]\n",
      "[181 206 755 928]\n",
      "[217 174 792 945]\n",
      "[234 181 781 858]\n"
     ]
    },
    {
     "name": "stderr",
     "output_type": "stream",
     "text": [
      "\r",
      "preprocessing: 5759it [04:13, 20.18it/s]"
     ]
    },
    {
     "name": "stdout",
     "output_type": "stream",
     "text": [
      "[273 229 782 850]\n",
      "[178 190 759 868]\n",
      "[253 181 783 872]\n",
      "[309 197 833 853]\n"
     ]
    },
    {
     "name": "stderr",
     "output_type": "stream",
     "text": [
      "preprocessing: 5765it [04:14, 20.37it/s]"
     ]
    },
    {
     "name": "stdout",
     "output_type": "stream",
     "text": [
      "[295 204 839 803]\n",
      "[330 119 892 889]\n",
      "[190 150 791 882]\n",
      "[202  91 791 885]\n",
      "[331 193 798 909]\n"
     ]
    },
    {
     "name": "stderr",
     "output_type": "stream",
     "text": [
      "\r",
      "preprocessing: 5768it [04:14, 20.27it/s]"
     ]
    },
    {
     "name": "stdout",
     "output_type": "stream",
     "text": [
      "[243 159 811 890]\n",
      "[281 208 823 818]\n",
      "[221 205 771 869]\n",
      "[257 189 753 920]\n",
      "[233 192 786 865]\n"
     ]
    },
    {
     "name": "stderr",
     "output_type": "stream",
     "text": [
      "preprocessing: 5774it [04:14, 20.28it/s]"
     ]
    },
    {
     "name": "stdout",
     "output_type": "stream",
     "text": [
      "[316 179 849 858]\n",
      "[221 177 768 839]\n",
      "[134 159 708 883]\n",
      "[235 199 811 822]\n",
      "[304 222 895 822]\n"
     ]
    },
    {
     "name": "stderr",
     "output_type": "stream",
     "text": [
      "preprocessing: 5779it [04:14, 19.71it/s]"
     ]
    },
    {
     "name": "stdout",
     "output_type": "stream",
     "text": [
      "[264 229 853 890]\n",
      "[170 152 764 896]\n",
      "[328 232 857 897]\n",
      "[325 257 906 812]\n"
     ]
    },
    {
     "name": "stderr",
     "output_type": "stream",
     "text": [
      "preprocessing: 5783it [04:15, 19.24it/s]"
     ]
    },
    {
     "name": "stdout",
     "output_type": "stream",
     "text": [
      "[222 113 806 877]\n",
      "[278 194 789 881]\n",
      "[275  91 829 792]\n",
      "[250 132 821 842]\n",
      "[235 199 777 829]\n"
     ]
    },
    {
     "name": "stderr",
     "output_type": "stream",
     "text": [
      "preprocessing: 5788it [04:15, 19.74it/s]"
     ]
    },
    {
     "name": "stdout",
     "output_type": "stream",
     "text": [
      "[205 216 805 862]\n",
      "[193 138 752 868]\n",
      "[273 191 797 870]\n",
      "[164 164 751 917]\n",
      "[212 218 771 873]\n"
     ]
    },
    {
     "name": "stderr",
     "output_type": "stream",
     "text": [
      "preprocessing: 5793it [04:15, 19.40it/s]"
     ]
    },
    {
     "name": "stdout",
     "output_type": "stream",
     "text": [
      "[196 125 783 844]\n",
      "[165 139 725 870]\n",
      "[221 189 783 886]\n",
      "[172 132 782 913]\n"
     ]
    },
    {
     "name": "stderr",
     "output_type": "stream",
     "text": [
      "preprocessing: 5797it [04:15, 18.67it/s]"
     ]
    },
    {
     "name": "stdout",
     "output_type": "stream",
     "text": [
      "[196 204 774 915]\n",
      "[246 177 820 879]\n",
      "[264 159 754 853]\n",
      "[123 177 771 865]\n",
      "[288 157 912 975]\n"
     ]
    },
    {
     "name": "stderr",
     "output_type": "stream",
     "text": [
      "preprocessing: 5803it [04:16, 20.20it/s]"
     ]
    },
    {
     "name": "stdout",
     "output_type": "stream",
     "text": [
      "[244 196 799 845]\n",
      "[282  94 856 881]\n",
      "[266 155 876 870]\n",
      "[173 142 751 914]\n"
     ]
    },
    {
     "name": "stderr",
     "output_type": "stream",
     "text": [
      "\r",
      "preprocessing: 5806it [04:16, 20.76it/s]"
     ]
    },
    {
     "name": "stdout",
     "output_type": "stream",
     "text": [
      "[124 199 681 887]\n",
      "[252 200 795 871]\n",
      "[260 192 696 856]\n",
      "[228 194 771 892]\n",
      "[237 184 815 855]\n"
     ]
    },
    {
     "name": "stderr",
     "output_type": "stream",
     "text": [
      "preprocessing: 5812it [04:16, 20.91it/s]"
     ]
    },
    {
     "name": "stdout",
     "output_type": "stream",
     "text": [
      "[219 163 771 903]\n",
      "[252 166 786 804]\n",
      "[276 103 849 883]\n",
      "[207 115 737 850]\n",
      "[ 94 187 757 895]\n"
     ]
    },
    {
     "name": "stderr",
     "output_type": "stream",
     "text": [
      "\r",
      "preprocessing: 5815it [04:16, 20.48it/s]"
     ]
    },
    {
     "name": "stdout",
     "output_type": "stream",
     "text": [
      "[286 168 850 866]\n",
      "[106  49 743 854]\n",
      "[193 150 765 909]\n",
      "[243 196 832 869]\n",
      "[254 214 793 830]\n"
     ]
    },
    {
     "name": "stderr",
     "output_type": "stream",
     "text": [
      "preprocessing: 5821it [04:16, 20.20it/s]"
     ]
    },
    {
     "name": "stdout",
     "output_type": "stream",
     "text": [
      "[271 211 752 937]\n",
      "[327 118 843 818]\n",
      "[150 191 735 917]\n",
      "[192 150 771 888]\n",
      "[229 174 783 860]\n"
     ]
    },
    {
     "name": "stderr",
     "output_type": "stream",
     "text": [
      "preprocessing: 5827it [04:17, 20.01it/s]"
     ]
    },
    {
     "name": "stdout",
     "output_type": "stream",
     "text": [
      "[221 193 777 816]\n",
      "[115 221 743 942]\n",
      "[245 213 780 894]\n",
      "[295 169 850 927]\n"
     ]
    },
    {
     "name": "stderr",
     "output_type": "stream",
     "text": [
      "\r",
      "preprocessing: 5830it [04:17, 20.21it/s]"
     ]
    },
    {
     "name": "stdout",
     "output_type": "stream",
     "text": [
      "[217 199 770 880]\n",
      "[274 241 808 841]\n",
      "[279 232 864 839]\n",
      "[281 201 801 818]\n",
      "[242 189 795 840]\n"
     ]
    },
    {
     "name": "stderr",
     "output_type": "stream",
     "text": [
      "preprocessing: 5836it [04:17, 20.69it/s]"
     ]
    },
    {
     "name": "stdout",
     "output_type": "stream",
     "text": [
      "[ 36  72 691 847]\n",
      "[365 153 919 916]\n",
      "[238 175 821 835]\n",
      "[190 170 773 900]\n",
      "[189 167 722 885]\n"
     ]
    },
    {
     "name": "stderr",
     "output_type": "stream",
     "text": [
      "preprocessing: 5842it [04:17, 20.92it/s]"
     ]
    },
    {
     "name": "stdout",
     "output_type": "stream",
     "text": [
      "[217  97 762 865]\n",
      "[217 216 798 829]\n",
      "[220 175 801 878]\n",
      "[250 187 829 871]\n",
      "[298 182 873 843]\n"
     ]
    },
    {
     "name": "stderr",
     "output_type": "stream",
     "text": [
      "\r",
      "preprocessing: 5845it [04:18, 21.21it/s]"
     ]
    },
    {
     "name": "stdout",
     "output_type": "stream",
     "text": [
      "[280 179 798 843]\n",
      "[220 176 780 877]\n",
      "[245 178 798 873]\n",
      "[211 158 789 888]\n",
      "[286 209 831 842]\n"
     ]
    },
    {
     "name": "stderr",
     "output_type": "stream",
     "text": [
      "preprocessing: 5851it [04:18, 20.89it/s]"
     ]
    },
    {
     "name": "stdout",
     "output_type": "stream",
     "text": [
      "[367 209 925 904]\n",
      "[235 170 776 925]\n",
      "[215 174 764 888]\n",
      "[258 191 807 940]\n",
      "[217 139 796 943]\n"
     ]
    },
    {
     "name": "stderr",
     "output_type": "stream",
     "text": [
      "\r",
      "preprocessing: 5854it [04:18, 20.73it/s]"
     ]
    },
    {
     "name": "stdout",
     "output_type": "stream",
     "text": [
      "[236 257 800 819]\n",
      "[235 155 773 885]\n",
      "[278 160 854 838]\n",
      "[244 180 804 864]\n"
     ]
    },
    {
     "name": "stderr",
     "output_type": "stream",
     "text": [
      "preprocessing: 5860it [04:18, 19.67it/s]"
     ]
    },
    {
     "name": "stdout",
     "output_type": "stream",
     "text": [
      "[291 248 839 781]\n",
      "[370 220 891 862]\n",
      "[210 235 780 914]\n",
      "[198 206 747 908]\n",
      "[318 174 870 848]\n"
     ]
    },
    {
     "name": "stderr",
     "output_type": "stream",
     "text": [
      "preprocessing: 5864it [04:19, 19.35it/s]"
     ]
    },
    {
     "name": "stdout",
     "output_type": "stream",
     "text": [
      "[215 165 787 834]\n",
      "[283 178 830 917]\n",
      "[269  57 875 858]\n",
      "[273 193 826 884]\n"
     ]
    },
    {
     "name": "stderr",
     "output_type": "stream",
     "text": [
      "preprocessing: 5868it [04:19, 18.59it/s]"
     ]
    },
    {
     "name": "stdout",
     "output_type": "stream",
     "text": [
      "[243 241 762 842]\n",
      "[193 181 746 902]\n",
      "[205 187 753 844]\n",
      "[222 259 795 850]\n"
     ]
    },
    {
     "name": "stderr",
     "output_type": "stream",
     "text": [
      "preprocessing: 5872it [04:19, 18.77it/s]"
     ]
    },
    {
     "name": "stdout",
     "output_type": "stream",
     "text": [
      "[213  75 793 927]\n",
      "[294 245 811 846]\n",
      "[258 228 813 847]\n",
      "[288 215 877 924]\n"
     ]
    },
    {
     "name": "stderr",
     "output_type": "stream",
     "text": [
      "preprocessing: 5877it [04:19, 19.57it/s]"
     ]
    },
    {
     "name": "stdout",
     "output_type": "stream",
     "text": [
      "[230 168 741 891]\n",
      "[296 158 838 922]\n",
      "[252 197 879 886]\n",
      "[200 213 745 932]\n",
      "[289 185 819 872]\n"
     ]
    },
    {
     "name": "stderr",
     "output_type": "stream",
     "text": [
      "preprocessing: 5882it [04:20, 19.85it/s]"
     ]
    },
    {
     "name": "stdout",
     "output_type": "stream",
     "text": [
      "[234 204 788 876]\n",
      "[284 199 862 927]\n",
      "[278 171 863 864]\n",
      "[282 174 842 834]\n",
      "[180 186 749 882]\n"
     ]
    },
    {
     "name": "stderr",
     "output_type": "stream",
     "text": [
      "\r",
      "preprocessing: 5885it [04:20, 20.17it/s]"
     ]
    },
    {
     "name": "stdout",
     "output_type": "stream",
     "text": [
      "[195 142 813 920]\n",
      "[358 183 819 892]\n",
      "[156  62 749 890]\n",
      "[351 251 923 840]\n"
     ]
    },
    {
     "name": "stderr",
     "output_type": "stream",
     "text": [
      "preprocessing: 5891it [04:20, 19.93it/s]"
     ]
    },
    {
     "name": "stdout",
     "output_type": "stream",
     "text": [
      "[227 178 810 929]\n",
      "[245 143 831 844]\n",
      "[290 176 807 877]\n",
      "[240 192 811 820]\n",
      "[162 172 741 904]\n"
     ]
    },
    {
     "name": "stderr",
     "output_type": "stream",
     "text": [
      "preprocessing: 5897it [04:20, 22.09it/s]"
     ]
    },
    {
     "name": "stdout",
     "output_type": "stream",
     "text": [
      "[235 163 860 786]\n",
      "[250 169 837 788]\n",
      "[143 168 757 879]\n",
      "[182 161 771 932]\n",
      "[227 134 811 900]\n"
     ]
    },
    {
     "name": "stderr",
     "output_type": "stream",
     "text": [
      "\r",
      "preprocessing: 5900it [04:20, 20.95it/s]"
     ]
    },
    {
     "name": "stdout",
     "output_type": "stream",
     "text": [
      "[199 114 868 884]\n",
      "[332 240 904 893]\n",
      "[277 226 801 846]\n",
      "[313 239 843 839]\n"
     ]
    },
    {
     "name": "stderr",
     "output_type": "stream",
     "text": [
      "\r",
      "preprocessing: 5903it [04:21, 21.14it/s]"
     ]
    },
    {
     "name": "stdout",
     "output_type": "stream",
     "text": [
      "[241 188 774 889]\n",
      "[231 169 801 876]\n",
      "[296 224 879 894]\n",
      "[283 208 775 903]\n"
     ]
    },
    {
     "name": "stderr",
     "output_type": "stream",
     "text": [
      "preprocessing: 5909it [04:21, 20.74it/s]"
     ]
    },
    {
     "name": "stdout",
     "output_type": "stream",
     "text": [
      "[318 228 875 868]\n",
      "[145 205 711 838]\n",
      "[256 156 850 849]\n",
      "[278 191 805 900]\n",
      "[222 172 779 819]\n"
     ]
    },
    {
     "name": "stderr",
     "output_type": "stream",
     "text": [
      "preprocessing: 5914it [04:21, 19.11it/s]"
     ]
    },
    {
     "name": "stdout",
     "output_type": "stream",
     "text": [
      "[235 247 777 848]\n",
      "[223 184 780 857]\n",
      "[190 191 762 912]\n",
      "[221 230 748 894]\n"
     ]
    },
    {
     "name": "stderr",
     "output_type": "stream",
     "text": [
      "preprocessing: 5918it [04:21, 18.90it/s]"
     ]
    },
    {
     "name": "stdout",
     "output_type": "stream",
     "text": [
      "[210 199 763 854]\n",
      "[243 184 822 867]\n",
      "[247 188 824 894]\n",
      "[252 159 854 830]\n"
     ]
    },
    {
     "name": "stderr",
     "output_type": "stream",
     "text": [
      "\r",
      "preprocessing: 5920it [04:21, 19.03it/s]"
     ]
    },
    {
     "name": "stdout",
     "output_type": "stream",
     "text": [
      "[ 92 217 720 959]\n",
      "[279 176 809 915]\n",
      "[230 219 779 902]\n",
      "[231 209 812 850]\n"
     ]
    },
    {
     "name": "stderr",
     "output_type": "stream",
     "text": [
      "preprocessing: 5926it [04:22, 19.96it/s]"
     ]
    },
    {
     "name": "stdout",
     "output_type": "stream",
     "text": [
      "[270 231 803 896]\n",
      "[236 242 807 910]\n",
      "[200 243 780 888]\n",
      "[230 206 816 899]\n",
      "[289 181 873 924]\n"
     ]
    },
    {
     "name": "stderr",
     "output_type": "stream",
     "text": [
      "preprocessing: 5931it [04:22, 19.80it/s]"
     ]
    },
    {
     "name": "stdout",
     "output_type": "stream",
     "text": [
      "[267 183 853 888]\n",
      "[164 275 738 873]\n",
      "[300 250 898 819]\n",
      "[206 176 780 931]\n",
      "[242 176 843 871]\n"
     ]
    },
    {
     "name": "stderr",
     "output_type": "stream",
     "text": [
      "preprocessing: 5936it [04:22, 19.63it/s]"
     ]
    },
    {
     "name": "stdout",
     "output_type": "stream",
     "text": [
      "[289 197 859 884]\n",
      "[282 148 840 808]\n",
      "[243 198 804 846]\n",
      "[249 112 856 869]\n"
     ]
    },
    {
     "name": "stderr",
     "output_type": "stream",
     "text": [
      "preprocessing: 5940it [04:22, 19.34it/s]"
     ]
    },
    {
     "name": "stdout",
     "output_type": "stream",
     "text": [
      "[103 117 716 937]\n",
      "[265 191 832 878]\n",
      "[241 196 812 861]\n",
      "[329 182 886 820]\n"
     ]
    },
    {
     "name": "stderr",
     "output_type": "stream",
     "text": [
      "preprocessing: 5944it [04:23, 18.91it/s]"
     ]
    },
    {
     "name": "stdout",
     "output_type": "stream",
     "text": [
      "[310 149 865 904]\n",
      "[160 193 699 870]\n",
      "[196 173 742 918]\n",
      "[277 171 847 858]\n"
     ]
    },
    {
     "name": "stderr",
     "output_type": "stream",
     "text": [
      "\r",
      "preprocessing: 5946it [04:23, 18.57it/s]"
     ]
    },
    {
     "name": "stdout",
     "output_type": "stream",
     "text": [
      "[145 135 782 882]\n",
      "[226 155 787 898]\n",
      "[300 213 819 928]\n"
     ]
    },
    {
     "name": "stderr",
     "output_type": "stream",
     "text": [
      "preprocessing: 5950it [04:23, 16.47it/s]"
     ]
    },
    {
     "name": "stdout",
     "output_type": "stream",
     "text": [
      "[219 201 752 958]\n",
      "[279 223 819 860]\n",
      "[255 190 785 873]\n",
      "[261 186 814 900]\n"
     ]
    },
    {
     "name": "stderr",
     "output_type": "stream",
     "text": [
      "\r",
      "preprocessing: 5953it [04:23, 18.06it/s]"
     ]
    },
    {
     "name": "stdout",
     "output_type": "stream",
     "text": [
      "[144 134 766 930]\n",
      "[202 217 810 881]\n",
      "[289 245 827 922]\n",
      "[333 143 875 838]\n",
      "[326 229 945 900]\n"
     ]
    },
    {
     "name": "stderr",
     "output_type": "stream",
     "text": [
      "preprocessing: 5961it [04:24, 19.82it/s]"
     ]
    },
    {
     "name": "stdout",
     "output_type": "stream",
     "text": [
      "[225 227 748 858]\n",
      "[196 136 739 889]\n",
      "[243 178 782 930]\n",
      "[134 177 751 930]\n",
      "[161 157 759 936]\n"
     ]
    },
    {
     "name": "stderr",
     "output_type": "stream",
     "text": [
      "\r",
      "preprocessing: 5964it [04:24, 20.47it/s]"
     ]
    },
    {
     "name": "stdout",
     "output_type": "stream",
     "text": [
      "[215 191 777 899]\n",
      "[369 174 955 861]\n",
      "[278 228 790 883]\n",
      "[216 160 800 901]\n",
      "[106 137 741 888]\n"
     ]
    },
    {
     "name": "stderr",
     "output_type": "stream",
     "text": [
      "preprocessing: 5970it [04:24, 20.82it/s]"
     ]
    },
    {
     "name": "stdout",
     "output_type": "stream",
     "text": [
      "[240 261 774 832]\n",
      "[231 154 843 866]\n",
      "[311 156 862 863]\n",
      "[248 151 846 857]\n",
      "[220 100 818 785]\n"
     ]
    },
    {
     "name": "stderr",
     "output_type": "stream",
     "text": [
      "\r",
      "preprocessing: 5973it [04:24, 20.63it/s]"
     ]
    },
    {
     "name": "stdout",
     "output_type": "stream",
     "text": [
      "[265 167 798 838]\n",
      "[272 189 811 933]\n",
      "[367 163 969 851]\n",
      "[211 131 842 845]\n"
     ]
    },
    {
     "name": "stderr",
     "output_type": "stream",
     "text": [
      "preprocessing: 5979it [04:24, 21.11it/s]"
     ]
    },
    {
     "name": "stdout",
     "output_type": "stream",
     "text": [
      "[293 158 847 867]\n",
      "[244 224 789 835]\n",
      "[243 281 829 839]\n",
      "[256 272 781 816]\n",
      "[122 161 751 917]\n"
     ]
    },
    {
     "name": "stderr",
     "output_type": "stream",
     "text": [
      "preprocessing: 5985it [04:25, 20.72it/s]"
     ]
    },
    {
     "name": "stdout",
     "output_type": "stream",
     "text": [
      "[218 176 790 890]\n",
      "[109 181 742 916]\n",
      "[275 202 817 834]\n",
      "[219 179 777 845]\n",
      "[365 207 925 852]\n"
     ]
    },
    {
     "name": "stderr",
     "output_type": "stream",
     "text": [
      "\r",
      "preprocessing: 5988it [04:25, 21.72it/s]"
     ]
    },
    {
     "name": "stdout",
     "output_type": "stream",
     "text": [
      "[281 222 813 818]\n",
      "[253 192 817 917]\n",
      "[112 126 730 900]\n",
      "[198 151 800 905]\n",
      "[164 193 678 880]\n"
     ]
    },
    {
     "name": "stderr",
     "output_type": "stream",
     "text": [
      "preprocessing: 5994it [04:25, 20.48it/s]"
     ]
    },
    {
     "name": "stdout",
     "output_type": "stream",
     "text": [
      "[305 172 872 877]\n",
      "[257 218 777 901]\n",
      "[206 136 757 917]\n",
      "[141 149 747 868]\n"
     ]
    },
    {
     "name": "stderr",
     "output_type": "stream",
     "text": [
      "\r",
      "preprocessing: 5997it [04:25, 20.12it/s]"
     ]
    },
    {
     "name": "stdout",
     "output_type": "stream",
     "text": [
      "[343 209 856 864]\n",
      "[284 206 815 876]\n",
      "[245 175 798 887]\n",
      "[336 181 910 864]\n"
     ]
    },
    {
     "name": "stderr",
     "output_type": "stream",
     "text": [
      "\r",
      "preprocessing: 6000it [04:26, 17.65it/s]"
     ]
    },
    {
     "name": "stdout",
     "output_type": "stream",
     "text": [
      "[246 186 802 840]\n",
      "[214 200 771 804]\n",
      "[292 188 806 837]\n"
     ]
    },
    {
     "name": "stderr",
     "output_type": "stream",
     "text": [
      "preprocessing: 6004it [04:26, 17.35it/s]"
     ]
    },
    {
     "name": "stdout",
     "output_type": "stream",
     "text": [
      "[201 226 742 891]\n",
      "[244 210 829 863]\n",
      "[259 160 867 888]\n",
      "[258  52 837 882]\n"
     ]
    },
    {
     "name": "stderr",
     "output_type": "stream",
     "text": [
      "preprocessing: 6008it [04:26, 18.08it/s]"
     ]
    },
    {
     "name": "stdout",
     "output_type": "stream",
     "text": [
      "[196 204 746 909]\n",
      "[221 181 769 914]\n",
      "[228 229 821 898]\n",
      "[224 280 782 830]\n",
      "[262 193 867 860]\n"
     ]
    },
    {
     "name": "stderr",
     "output_type": "stream",
     "text": [
      "preprocessing: 6014it [04:26, 19.86it/s]"
     ]
    },
    {
     "name": "stdout",
     "output_type": "stream",
     "text": [
      "[256 206 761 840]\n",
      "[296 146 846 889]\n",
      "[254 209 787 861]\n",
      "[307 136 867 896]\n",
      "[279 163 940 807]\n"
     ]
    },
    {
     "name": "stderr",
     "output_type": "stream",
     "text": [
      "preprocessing: 6019it [04:26, 19.97it/s]"
     ]
    },
    {
     "name": "stdout",
     "output_type": "stream",
     "text": [
      "[231 215 781 913]\n",
      "[241 217 776 851]\n",
      "[141 116 741 881]\n",
      "[239 205 798 921]\n"
     ]
    },
    {
     "name": "stderr",
     "output_type": "stream",
     "text": [
      "\r",
      "preprocessing: 6022it [04:27, 19.92it/s]"
     ]
    },
    {
     "name": "stdout",
     "output_type": "stream",
     "text": [
      "[203 207 775 905]\n",
      "[207 225 735 906]\n",
      "[217 187 771 882]\n",
      "[223 180 785 851]\n"
     ]
    },
    {
     "name": "stderr",
     "output_type": "stream",
     "text": [
      "\r",
      "preprocessing: 6025it [04:27, 20.48it/s]"
     ]
    },
    {
     "name": "stdout",
     "output_type": "stream",
     "text": [
      "[262 166 808 828]\n",
      "[272 139 764 904]\n",
      "[278 200 788 913]\n",
      "[259 161 828 846]\n",
      "[206 111 785 903]\n"
     ]
    },
    {
     "name": "stderr",
     "output_type": "stream",
     "text": [
      "preprocessing: 6031it [04:27, 20.49it/s]"
     ]
    },
    {
     "name": "stdout",
     "output_type": "stream",
     "text": [
      "[237 185 826 890]\n",
      "[274 218 779 850]\n",
      "[305 164 918 933]\n",
      "[242 205 808 904]\n"
     ]
    },
    {
     "name": "stderr",
     "output_type": "stream",
     "text": [
      "\r",
      "preprocessing: 6034it [04:27, 20.60it/s]"
     ]
    },
    {
     "name": "stdout",
     "output_type": "stream",
     "text": [
      "[206 216 831 836]\n",
      "[309 191 864 863]\n",
      "[168 141 747 927]\n",
      "[294 146 887 895]\n",
      "[168 223 765 856]\n"
     ]
    },
    {
     "name": "stderr",
     "output_type": "stream",
     "text": [
      "preprocessing: 6040it [04:28, 20.90it/s]"
     ]
    },
    {
     "name": "stdout",
     "output_type": "stream",
     "text": [
      "[336 257 834 891]\n",
      "[285 125 927 805]\n",
      "[268 214 821 875]\n",
      "[280 185 817 850]\n"
     ]
    },
    {
     "name": "stderr",
     "output_type": "stream",
     "text": [
      "\r",
      "preprocessing: 6043it [04:28, 21.13it/s]"
     ]
    },
    {
     "name": "stdout",
     "output_type": "stream",
     "text": [
      "[313 185 877 861]\n",
      "[277 217 751 920]\n",
      "[186 147 794 884]\n",
      "[198 169 788 855]\n",
      "[352 201 933 902]\n"
     ]
    },
    {
     "name": "stderr",
     "output_type": "stream",
     "text": [
      "preprocessing: 6049it [04:28, 20.94it/s]"
     ]
    },
    {
     "name": "stdout",
     "output_type": "stream",
     "text": [
      "[227 188 766 905]\n",
      "[113 208 760 961]\n",
      "[292 197 842 913]\n",
      "[251 149 791 898]\n",
      "[253 145 787 842]\n"
     ]
    },
    {
     "name": "stderr",
     "output_type": "stream",
     "text": [
      "preprocessing: 6055it [04:28, 21.33it/s]"
     ]
    },
    {
     "name": "stdout",
     "output_type": "stream",
     "text": [
      "[248 201 781 874]\n",
      "[242 206 814 920]\n",
      "[322 154 928 822]\n",
      "[284 203 791 837]\n",
      "[ 91 146 701 929]\n"
     ]
    },
    {
     "name": "stderr",
     "output_type": "stream",
     "text": [
      "\r",
      "preprocessing: 6058it [04:28, 20.89it/s]"
     ]
    },
    {
     "name": "stdout",
     "output_type": "stream",
     "text": [
      "[274 123 917 904]\n",
      "[216 203 768 916]\n",
      "[220 160 804 888]\n",
      "[234 218 801 870]\n"
     ]
    },
    {
     "name": "stderr",
     "output_type": "stream",
     "text": [
      "preprocessing: 6064it [04:29, 20.74it/s]"
     ]
    },
    {
     "name": "stdout",
     "output_type": "stream",
     "text": [
      "[223 192 796 891]\n",
      "[188 234 778 807]\n",
      "[127 156 705 904]\n",
      "[267 141 847 890]\n",
      "[128 158 746 930]\n"
     ]
    },
    {
     "name": "stderr",
     "output_type": "stream",
     "text": [
      "\r",
      "preprocessing: 6067it [04:29, 20.61it/s]"
     ]
    },
    {
     "name": "stdout",
     "output_type": "stream",
     "text": [
      "[300 205 845 873]\n",
      "[265 169 787 837]\n",
      "[253 159 802 895]\n",
      "[214 177 757 888]\n",
      "[188 127 774 887]\n"
     ]
    },
    {
     "name": "stderr",
     "output_type": "stream",
     "text": [
      "preprocessing: 6073it [04:29, 19.09it/s]"
     ]
    },
    {
     "name": "stdout",
     "output_type": "stream",
     "text": [
      "[222 227 757 895]\n",
      "[163 154 775 890]\n",
      "[186 196 708 882]\n",
      "[231 213 767 886]\n"
     ]
    },
    {
     "name": "stderr",
     "output_type": "stream",
     "text": [
      "preprocessing: 6079it [04:29, 20.89it/s]"
     ]
    },
    {
     "name": "stdout",
     "output_type": "stream",
     "text": [
      "[307 164 907 861]\n",
      "[265 159 883 883]\n",
      "[233 184 783 872]\n",
      "[256 238 757 855]\n",
      "[230 189 849 837]\n"
     ]
    },
    {
     "name": "stderr",
     "output_type": "stream",
     "text": [
      "\r",
      "preprocessing: 6082it [04:30, 22.01it/s]"
     ]
    },
    {
     "name": "stdout",
     "output_type": "stream",
     "text": [
      "[112 127 750 921]\n",
      "[269 179 782 874]\n",
      "[234 148 836 876]\n",
      "[283 158 801 827]\n",
      "[279 263 816 839]\n"
     ]
    },
    {
     "name": "stderr",
     "output_type": "stream",
     "text": [
      "preprocessing: 6088it [04:30, 22.10it/s]"
     ]
    },
    {
     "name": "stdout",
     "output_type": "stream",
     "text": [
      "[232 175 775 933]\n",
      "[332 210 862 887]\n",
      "[194 202 763 820]\n",
      "[223 203 772 888]\n",
      "[168 199 760 876]\n"
     ]
    },
    {
     "name": "stderr",
     "output_type": "stream",
     "text": [
      "\r",
      "preprocessing: 6091it [04:30, 21.90it/s]"
     ]
    },
    {
     "name": "stdout",
     "output_type": "stream",
     "text": [
      "[298 216 854 837]\n",
      "[125 164 690 903]\n",
      "[220 181 827 823]\n",
      "[195 222 768 887]\n",
      "[252 173 828 887]\n"
     ]
    },
    {
     "name": "stderr",
     "output_type": "stream",
     "text": [
      "preprocessing: 6097it [04:30, 21.94it/s]"
     ]
    },
    {
     "name": "stdout",
     "output_type": "stream",
     "text": [
      "[310 145 857 896]\n",
      "[197 187 743 895]\n",
      "[297 194 843 856]\n",
      "[179  94 738 870]\n",
      "[330 232 871 861]\n"
     ]
    },
    {
     "name": "stderr",
     "output_type": "stream",
     "text": [
      "\r",
      "preprocessing: 6100it [04:30, 20.37it/s]"
     ]
    },
    {
     "name": "stdout",
     "output_type": "stream",
     "text": [
      "[272 185 809 898]\n",
      "[204 184 766 854]\n",
      "[274 209 777 876]\n"
     ]
    },
    {
     "name": "stderr",
     "output_type": "stream",
     "text": [
      "preprocessing: 6106it [04:31, 20.58it/s]"
     ]
    },
    {
     "name": "stdout",
     "output_type": "stream",
     "text": [
      "[323 115 904 916]\n",
      "[236 241 767 887]\n",
      "[272 208 825 883]\n",
      "[ 89 123 752 905]\n",
      "[250 189 827 844]\n"
     ]
    },
    {
     "name": "stderr",
     "output_type": "stream",
     "text": [
      "preprocessing: 6112it [04:31, 22.19it/s]"
     ]
    },
    {
     "name": "stdout",
     "output_type": "stream",
     "text": [
      "[186 149 792 897]\n",
      "[ 81 143 737 844]\n",
      "[ 83 142 725 838]\n",
      "[160 152 774 907]\n",
      "[163 166 755 857]\n",
      "[322 181 960 957]\n"
     ]
    },
    {
     "name": "stderr",
     "output_type": "stream",
     "text": [
      "preprocessing: 6118it [04:31, 23.08it/s]"
     ]
    },
    {
     "name": "stdout",
     "output_type": "stream",
     "text": [
      "[286 306 862 867]\n",
      "[294 190 827 908]\n",
      "[248 178 895 840]\n",
      "[255 110 908 836]\n",
      "[241 188 823 824]\n"
     ]
    },
    {
     "name": "stderr",
     "output_type": "stream",
     "text": [
      "\r",
      "preprocessing: 6121it [04:31, 22.90it/s]"
     ]
    },
    {
     "name": "stdout",
     "output_type": "stream",
     "text": [
      "[104 159 708 905]\n",
      "[138 161 704 934]\n",
      "[210 144 822 863]\n",
      "[ 79 117 743 849]\n",
      "[165 110 750 848]\n"
     ]
    },
    {
     "name": "stderr",
     "output_type": "stream",
     "text": [
      "preprocessing: 6127it [04:32, 20.81it/s]"
     ]
    },
    {
     "name": "stdout",
     "output_type": "stream",
     "text": [
      "[282 183 763 866]\n",
      "[142 167 704 859]\n",
      "[238 184 798 897]\n",
      "[156 141 744 944]\n"
     ]
    },
    {
     "name": "stderr",
     "output_type": "stream",
     "text": [
      "\r",
      "preprocessing: 6130it [04:32, 20.52it/s]"
     ]
    },
    {
     "name": "stdout",
     "output_type": "stream",
     "text": [
      "[224 184 800 892]\n",
      "[217 153 821 830]\n",
      "[155 159 757 896]\n",
      "[230 228 758 860]\n"
     ]
    },
    {
     "name": "stderr",
     "output_type": "stream",
     "text": [
      "\r",
      "preprocessing: 6133it [04:32, 21.03it/s]"
     ]
    },
    {
     "name": "stdout",
     "output_type": "stream",
     "text": [
      "[226 189 792 818]\n",
      "[262 187 791 840]\n",
      "[251 219 766 852]\n",
      "[304 190 824 869]\n",
      "[130 165 739 825]\n"
     ]
    },
    {
     "name": "stderr",
     "output_type": "stream",
     "text": [
      "preprocessing: 6139it [04:32, 20.77it/s]"
     ]
    },
    {
     "name": "stdout",
     "output_type": "stream",
     "text": [
      "[202 143 735 856]\n",
      "[238 206 790 885]\n",
      "[199 291 750 857]\n",
      "[173 164 768 913]\n"
     ]
    },
    {
     "name": "stderr",
     "output_type": "stream",
     "text": [
      "\r",
      "preprocessing: 6142it [04:32, 19.51it/s]"
     ]
    },
    {
     "name": "stdout",
     "output_type": "stream",
     "text": [
      "[147 148 750 895]\n",
      "[336 191 907 877]\n",
      "[252 174 800 879]\n",
      "[215 210 775 867]\n",
      "[300 161 859 902]\n"
     ]
    },
    {
     "name": "stderr",
     "output_type": "stream",
     "text": [
      "preprocessing: 6148it [04:33, 20.96it/s]"
     ]
    },
    {
     "name": "stdout",
     "output_type": "stream",
     "text": [
      "[228 177 801 883]\n",
      "[256 224 859 887]\n",
      "[234 197 770 916]\n",
      "[227 269 786 889]\n",
      "[263 182 784 882]\n",
      "[316 193 844 874]\n"
     ]
    },
    {
     "name": "stderr",
     "output_type": "stream",
     "text": [
      "preprocessing: 6154it [04:33, 22.63it/s]"
     ]
    },
    {
     "name": "stdout",
     "output_type": "stream",
     "text": [
      "[249 209 765 884]\n",
      "[322 168 881 822]\n",
      "[195 227 780 902]\n",
      "[265 218 791 967]\n",
      "[174 126 753 912]\n"
     ]
    },
    {
     "name": "stderr",
     "output_type": "stream",
     "text": [
      "preprocessing: 6160it [04:33, 21.54it/s]"
     ]
    },
    {
     "name": "stdout",
     "output_type": "stream",
     "text": [
      "[252 202 825 860]\n",
      "[168 128 757 931]\n",
      "[236 163 868 850]\n",
      "[199 164 734 945]\n",
      "[274 160 834 844]\n"
     ]
    },
    {
     "name": "stderr",
     "output_type": "stream",
     "text": [
      "\r",
      "preprocessing: 6163it [04:33, 21.03it/s]"
     ]
    },
    {
     "name": "stdout",
     "output_type": "stream",
     "text": [
      "[264 176 788 882]\n",
      "[219 226 762 839]\n",
      "[320 180 890 857]\n",
      "[248 205 796 887]\n"
     ]
    },
    {
     "name": "stderr",
     "output_type": "stream",
     "text": [
      "preprocessing: 6169it [04:34, 20.81it/s]"
     ]
    },
    {
     "name": "stdout",
     "output_type": "stream",
     "text": [
      "[255 220 825 828]\n",
      "[261 220 826 817]\n",
      "[219 209 767 959]\n",
      "[277 204 923 982]\n",
      "[185 147 798 897]\n"
     ]
    },
    {
     "name": "stderr",
     "output_type": "stream",
     "text": [
      "\r",
      "preprocessing: 6172it [04:34, 20.57it/s]"
     ]
    },
    {
     "name": "stdout",
     "output_type": "stream",
     "text": [
      "[213 246 770 876]\n",
      "[134 199 759 826]\n",
      "[199 145 751 879]\n",
      "[190 170 784 897]\n",
      "[252 250 820 869]\n"
     ]
    },
    {
     "name": "stderr",
     "output_type": "stream",
     "text": [
      "preprocessing: 6178it [04:34, 20.90it/s]"
     ]
    },
    {
     "name": "stdout",
     "output_type": "stream",
     "text": [
      "[188 237 781 842]\n",
      "[154 103 730 950]\n",
      "[263 164 799 863]\n",
      "[178 208 768 894]\n"
     ]
    },
    {
     "name": "stderr",
     "output_type": "stream",
     "text": [
      "\r",
      "preprocessing: 6181it [04:34, 19.57it/s]"
     ]
    },
    {
     "name": "stdout",
     "output_type": "stream",
     "text": [
      "[263 172 826 893]\n",
      "[245 139 794 889]\n",
      "[291 195 769 863]\n",
      "[202 184 755 873]\n",
      "[223 193 787 872]\n"
     ]
    },
    {
     "name": "stderr",
     "output_type": "stream",
     "text": [
      "preprocessing: 6187it [04:34, 21.14it/s]"
     ]
    },
    {
     "name": "stdout",
     "output_type": "stream",
     "text": [
      "[248 201 796 846]\n",
      "[262 172 769 826]\n",
      "[242 173 815 872]\n",
      "[233 202 780 830]\n",
      "[264 187 806 869]\n"
     ]
    },
    {
     "name": "stderr",
     "output_type": "stream",
     "text": [
      "preprocessing: 6193it [04:35, 23.16it/s]"
     ]
    },
    {
     "name": "stdout",
     "output_type": "stream",
     "text": [
      "[290 190 807 898]\n",
      "[342 205 865 803]\n",
      "[221 157 792 828]\n",
      "[260 180 798 878]\n",
      "[223 221 819 848]\n"
     ]
    },
    {
     "name": "stderr",
     "output_type": "stream",
     "text": [
      "\r",
      "preprocessing: 6196it [04:35, 22.30it/s]"
     ]
    },
    {
     "name": "stdout",
     "output_type": "stream",
     "text": [
      "[267 161 811 850]\n",
      "[284 214 851 850]\n",
      "[154 154 770 934]\n",
      "[345 199 881 860]\n",
      "[170 132 767 900]\n"
     ]
    },
    {
     "name": "stderr",
     "output_type": "stream",
     "text": [
      "preprocessing: 6202it [04:35, 20.44it/s]"
     ]
    },
    {
     "name": "stdout",
     "output_type": "stream",
     "text": [
      "[158 181 749 887]\n",
      "[296 186 861 876]\n",
      "[137 105 706 917]\n",
      "[230 208 774 912]\n"
     ]
    },
    {
     "name": "stderr",
     "output_type": "stream",
     "text": [
      "\r",
      "preprocessing: 6205it [04:35, 20.52it/s]"
     ]
    },
    {
     "name": "stdout",
     "output_type": "stream",
     "text": [
      "[270 221 842 840]\n",
      "[335 212 800 889]\n",
      "[202 186 794 853]\n",
      "[292 198 812 846]\n",
      "[243 171 770 891]\n"
     ]
    },
    {
     "name": "stderr",
     "output_type": "stream",
     "text": [
      "preprocessing: 6211it [04:36, 20.80it/s]"
     ]
    },
    {
     "name": "stdout",
     "output_type": "stream",
     "text": [
      "[236 260 806 878]\n",
      "[219 192 757 917]\n",
      "[210 210 829 803]\n",
      "[267 172 836 914]\n",
      "[293 185 821 843]\n"
     ]
    },
    {
     "name": "stderr",
     "output_type": "stream",
     "text": [
      "preprocessing: 6217it [04:36, 20.91it/s]"
     ]
    },
    {
     "name": "stdout",
     "output_type": "stream",
     "text": [
      "[298 248 894 884]\n",
      "[219 229 759 931]\n",
      "[331 168 815 873]\n",
      "[198 205 755 884]\n",
      "[265 223 793 859]\n"
     ]
    },
    {
     "name": "stderr",
     "output_type": "stream",
     "text": [
      "\r",
      "preprocessing: 6220it [04:36, 20.48it/s]"
     ]
    },
    {
     "name": "stdout",
     "output_type": "stream",
     "text": [
      "[210 134 772 903]\n",
      "[221 162 773 922]\n",
      "[317 170 947 889]\n",
      "[338 192 876 837]\n"
     ]
    },
    {
     "name": "stderr",
     "output_type": "stream",
     "text": [
      "preprocessing: 6226it [04:36, 20.94it/s]"
     ]
    },
    {
     "name": "stdout",
     "output_type": "stream",
     "text": [
      "[299 124 885 841]\n",
      "[309 172 804 853]\n",
      "[112  90 741 868]\n",
      "[250 236 764 865]\n",
      "[239 213 798 872]\n"
     ]
    },
    {
     "name": "stderr",
     "output_type": "stream",
     "text": [
      "preprocessing: 6232it [04:37, 22.18it/s]"
     ]
    },
    {
     "name": "stdout",
     "output_type": "stream",
     "text": [
      "[259 201 830 881]\n",
      "[199 181 764 922]\n",
      "[249 168 798 899]\n",
      "[288 182 789 874]\n",
      "[300 127 883 906]\n"
     ]
    },
    {
     "name": "stderr",
     "output_type": "stream",
     "text": [
      "\r",
      "preprocessing: 6235it [04:37, 22.91it/s]"
     ]
    },
    {
     "name": "stdout",
     "output_type": "stream",
     "text": [
      "[188 198 759 848]\n",
      "[288 241 848 782]\n",
      "[288 189 892 893]\n",
      "[298 164 810 855]\n",
      "[195 207 765 880]\n"
     ]
    },
    {
     "name": "stderr",
     "output_type": "stream",
     "text": [
      "preprocessing: 6241it [04:37, 22.44it/s]"
     ]
    },
    {
     "name": "stdout",
     "output_type": "stream",
     "text": [
      "[212 167 766 811]\n",
      "[ 72 222 679 902]\n",
      "[262 252 793 811]\n",
      "[226 236 772 831]\n",
      "[221 220 799 855]\n"
     ]
    },
    {
     "name": "stderr",
     "output_type": "stream",
     "text": [
      "\r",
      "preprocessing: 6244it [04:37, 21.31it/s]"
     ]
    },
    {
     "name": "stdout",
     "output_type": "stream",
     "text": [
      "[305  93 888 912]\n",
      "[240 175 805 853]\n",
      "[284 137 798 846]\n",
      "[211 339 631 894]\n"
     ]
    },
    {
     "name": "stderr",
     "output_type": "stream",
     "text": [
      "preprocessing: 6250it [04:37, 19.87it/s]"
     ]
    },
    {
     "name": "stdout",
     "output_type": "stream",
     "text": [
      "[249 221 743 831]\n",
      "[213 248 770 866]\n",
      "[159 148 789 913]\n",
      "[308 208 872 859]\n"
     ]
    },
    {
     "name": "stderr",
     "output_type": "stream",
     "text": [
      "\r",
      "preprocessing: 6253it [04:38, 19.50it/s]"
     ]
    },
    {
     "name": "stdout",
     "output_type": "stream",
     "text": [
      "[205 188 819 896]\n",
      "[306 178 877 911]\n",
      "[184 197 744 931]\n",
      "[273 225 819 868]\n"
     ]
    },
    {
     "name": "stderr",
     "output_type": "stream",
     "text": [
      "preprocessing: 6257it [04:38, 19.39it/s]"
     ]
    },
    {
     "name": "stdout",
     "output_type": "stream",
     "text": [
      "[282 203 675 885]\n",
      "[282 183 818 882]\n",
      "[345 201 904 882]\n",
      "[264 209 784 874]\n"
     ]
    },
    {
     "name": "stderr",
     "output_type": "stream",
     "text": [
      "preprocessing: 6261it [04:38, 19.32it/s]"
     ]
    },
    {
     "name": "stdout",
     "output_type": "stream",
     "text": [
      "[229 186 740 945]\n",
      "[230 194 788 877]\n",
      "[127 185 749 922]\n",
      "[141 129 764 867]\n",
      "[249 182 760 895]\n"
     ]
    },
    {
     "name": "stderr",
     "output_type": "stream",
     "text": [
      "preprocessing: 6267it [04:38, 19.91it/s]"
     ]
    },
    {
     "name": "stdout",
     "output_type": "stream",
     "text": [
      "[215 204 780 845]\n",
      "[294 266 874 838]\n",
      "[151 172 762 921]\n",
      "[246 239 784 840]\n",
      "[247 197 806 852]\n"
     ]
    },
    {
     "name": "stderr",
     "output_type": "stream",
     "text": [
      "preprocessing: 6271it [04:39, 19.60it/s]"
     ]
    },
    {
     "name": "stdout",
     "output_type": "stream",
     "text": [
      "[252 168 834 858]\n",
      "[222 169 807 838]\n",
      "[220 173 824 875]\n",
      "[345 173 864 868]\n"
     ]
    },
    {
     "name": "stderr",
     "output_type": "stream",
     "text": [
      "preprocessing: 6275it [04:39, 19.37it/s]"
     ]
    },
    {
     "name": "stdout",
     "output_type": "stream",
     "text": [
      "[252 173 846 851]\n",
      "[207 129 772 889]\n",
      "[300 141 879 935]\n",
      "[226 186 794 880]\n"
     ]
    },
    {
     "name": "stderr",
     "output_type": "stream",
     "text": [
      "\r",
      "preprocessing: 6277it [04:39, 18.13it/s]"
     ]
    },
    {
     "name": "stdout",
     "output_type": "stream",
     "text": [
      "[257 152 816 909]\n",
      "[250 179 780 881]\n",
      "[227 149 734 871]\n",
      "[244 209 777 905]\n"
     ]
    },
    {
     "name": "stderr",
     "output_type": "stream",
     "text": [
      "preprocessing: 6283it [04:39, 19.16it/s]"
     ]
    },
    {
     "name": "stdout",
     "output_type": "stream",
     "text": [
      "[216 181 799 864]\n",
      "[276 237 825 871]\n",
      "[407 194 956 870]\n",
      "[234 168 810 873]\n",
      "[108  84 706 895]\n"
     ]
    },
    {
     "name": "stderr",
     "output_type": "stream",
     "text": [
      "preprocessing: 6289it [04:39, 19.32it/s]"
     ]
    },
    {
     "name": "stdout",
     "output_type": "stream",
     "text": [
      "[266 155 836 884]\n",
      "[358 235 894 838]\n",
      "[294 160 802 938]\n",
      "[285 193 791 862]\n"
     ]
    },
    {
     "name": "stderr",
     "output_type": "stream",
     "text": [
      "preprocessing: 6293it [04:40, 18.59it/s]"
     ]
    },
    {
     "name": "stdout",
     "output_type": "stream",
     "text": [
      "[213 224 759 903]\n",
      "[256 195 810 856]\n",
      "[266 175 766 876]\n",
      "[207 125 785 864]\n"
     ]
    },
    {
     "name": "stderr",
     "output_type": "stream",
     "text": [
      "preprocessing: 6297it [04:40, 18.73it/s]"
     ]
    },
    {
     "name": "stdout",
     "output_type": "stream",
     "text": [
      "[231 233 771 853]\n",
      "[295 271 805 864]\n",
      "[234 155 756 874]\n",
      "[291 225 855 872]\n"
     ]
    },
    {
     "name": "stderr",
     "output_type": "stream",
     "text": [
      "\r",
      "preprocessing: 6299it [04:40, 18.57it/s]"
     ]
    },
    {
     "name": "stdout",
     "output_type": "stream",
     "text": [
      "[250 183 746 887]\n",
      "[304 128 955 865]\n",
      "[242 287 786 846]\n"
     ]
    },
    {
     "name": "stderr",
     "output_type": "stream",
     "text": [
      "preprocessing: 6303it [04:40, 17.51it/s]"
     ]
    },
    {
     "name": "stdout",
     "output_type": "stream",
     "text": [
      "[237 261 813 855]\n",
      "[263 177 874 866]\n",
      "[303 169 877 871]\n",
      "[193 194 773 871]\n",
      "[252 143 840 898]\n"
     ]
    },
    {
     "name": "stderr",
     "output_type": "stream",
     "text": [
      "preprocessing: 6309it [04:41, 18.57it/s]"
     ]
    },
    {
     "name": "stdout",
     "output_type": "stream",
     "text": [
      "[163 140 787 879]\n",
      "[220 186 738 897]\n",
      "[233 195 780 904]\n",
      "[277 185 802 916]\n"
     ]
    },
    {
     "name": "stderr",
     "output_type": "stream",
     "text": [
      "\r",
      "preprocessing: 6311it [04:41, 18.43it/s]"
     ]
    },
    {
     "name": "stdout",
     "output_type": "stream",
     "text": [
      "[157 160 736 927]\n",
      "[360 169 910 917]\n",
      "[338 165 889 869]\n",
      "[162 126 716 850]\n"
     ]
    },
    {
     "name": "stderr",
     "output_type": "stream",
     "text": [
      "preprocessing: 6316it [04:41, 18.77it/s]"
     ]
    },
    {
     "name": "stdout",
     "output_type": "stream",
     "text": [
      "[200 149 785 889]\n",
      "[224 175 786 872]\n",
      "[243 256 745 891]\n",
      "[272 282 814 962]\n"
     ]
    },
    {
     "name": "stderr",
     "output_type": "stream",
     "text": [
      "preprocessing: 6320it [04:41, 18.73it/s]"
     ]
    },
    {
     "name": "stdout",
     "output_type": "stream",
     "text": [
      "[221 163 803 815]\n",
      "[218  85 847 866]\n",
      "[250 236 791 911]\n",
      "[290 197 883 861]\n"
     ]
    },
    {
     "name": "stderr",
     "output_type": "stream",
     "text": [
      "preprocessing: 6325it [04:41, 18.94it/s]"
     ]
    },
    {
     "name": "stdout",
     "output_type": "stream",
     "text": [
      "[245 201 775 880]\n",
      "[253 197 818 848]\n",
      "[315 219 931 860]\n",
      "[222 166 761 898]\n"
     ]
    },
    {
     "name": "stderr",
     "output_type": "stream",
     "text": [
      "preprocessing: 6329it [04:42, 18.85it/s]"
     ]
    },
    {
     "name": "stdout",
     "output_type": "stream",
     "text": [
      "[256 228 767 850]\n",
      "[296 182 857 816]\n",
      "[245 186 808 872]\n",
      "[244 198 813 828]\n"
     ]
    },
    {
     "name": "stderr",
     "output_type": "stream",
     "text": [
      "preprocessing: 6333it [04:42, 18.51it/s]"
     ]
    },
    {
     "name": "stdout",
     "output_type": "stream",
     "text": [
      "[298 227 826 865]\n",
      "[193 161 790 904]\n",
      "[222 187 808 875]\n",
      "[260 204 852 863]\n"
     ]
    },
    {
     "name": "stderr",
     "output_type": "stream",
     "text": [
      "preprocessing: 6337it [04:42, 18.77it/s]"
     ]
    },
    {
     "name": "stdout",
     "output_type": "stream",
     "text": [
      "[158 172 685 853]\n",
      "[165 167 726 905]\n",
      "[ 53 146 671 895]\n",
      "[279 224 807 846]\n"
     ]
    },
    {
     "name": "stderr",
     "output_type": "stream",
     "text": [
      "\r",
      "preprocessing: 6339it [04:42, 18.86it/s]"
     ]
    },
    {
     "name": "stdout",
     "output_type": "stream",
     "text": [
      "[297 208 845 849]\n",
      "[283 217 774 836]\n",
      "[304 179 896 897]\n",
      "[270 241 906 866]\n"
     ]
    },
    {
     "name": "stderr",
     "output_type": "stream",
     "text": [
      "preprocessing: 6344it [04:42, 19.02it/s]"
     ]
    },
    {
     "name": "stdout",
     "output_type": "stream",
     "text": [
      "[227 241 799 919]\n",
      "[183 172 759 931]\n",
      "[231 187 789 871]\n",
      "[158 125 716 935]\n",
      "[230 250 817 847]\n"
     ]
    },
    {
     "name": "stderr",
     "output_type": "stream",
     "text": [
      "preprocessing: 6349it [04:43, 19.26it/s]"
     ]
    },
    {
     "name": "stdout",
     "output_type": "stream",
     "text": [
      "[295 160 810 842]\n",
      "[249 171 826 831]\n",
      "[263 135 841 877]\n",
      "[231 213 776 854]\n"
     ]
    },
    {
     "name": "stderr",
     "output_type": "stream",
     "text": [
      "preprocessing: 6353it [04:43, 19.07it/s]"
     ]
    },
    {
     "name": "stdout",
     "output_type": "stream",
     "text": [
      "[131 109 787 873]\n",
      "[312 158 880 966]\n",
      "[296 190 880 861]\n",
      "[276 175 836 870]\n"
     ]
    },
    {
     "name": "stderr",
     "output_type": "stream",
     "text": [
      "preprocessing: 6358it [04:43, 18.95it/s]"
     ]
    },
    {
     "name": "stdout",
     "output_type": "stream",
     "text": [
      "[335 171 919 844]\n",
      "[211 184 856 874]\n",
      "[224 202 730 859]\n",
      "[180 172 780 863]\n"
     ]
    },
    {
     "name": "stderr",
     "output_type": "stream",
     "text": [
      "preprocessing: 6362it [04:43, 18.99it/s]"
     ]
    },
    {
     "name": "stdout",
     "output_type": "stream",
     "text": [
      "[115 114 736 844]\n",
      "[228 185 751 869]\n",
      "[125 171 719 931]\n",
      "[217 182 753 852]\n"
     ]
    },
    {
     "name": "stderr",
     "output_type": "stream",
     "text": [
      "\r",
      "preprocessing: 6364it [04:44, 19.03it/s]"
     ]
    },
    {
     "name": "stdout",
     "output_type": "stream",
     "text": [
      "[279 210 836 877]\n",
      "[191 158 776 889]\n",
      "[339 164 839 896]\n",
      "[299 251 790 934]\n"
     ]
    },
    {
     "name": "stderr",
     "output_type": "stream",
     "text": [
      "preprocessing: 6369it [04:44, 19.03it/s]"
     ]
    },
    {
     "name": "stdout",
     "output_type": "stream",
     "text": [
      "[118 142 753 906]\n",
      "[285 313 750 814]\n",
      "[303 200 853 837]\n",
      "[196 235 753 866]\n"
     ]
    },
    {
     "name": "stderr",
     "output_type": "stream",
     "text": [
      "preprocessing: 6374it [04:44, 19.24it/s]"
     ]
    },
    {
     "name": "stdout",
     "output_type": "stream",
     "text": [
      "[326 155 893 899]\n",
      "[203 198 767 844]\n",
      "[251 181 798 888]\n",
      "[136 190 735 939]\n"
     ]
    },
    {
     "name": "stderr",
     "output_type": "stream",
     "text": [
      "preprocessing: 6378it [04:44, 18.73it/s]"
     ]
    },
    {
     "name": "stdout",
     "output_type": "stream",
     "text": [
      "[172 192 744 843]\n",
      "[260 209 773 886]\n",
      "[288 180 822 865]\n",
      "[242 149 840 887]\n"
     ]
    },
    {
     "name": "stderr",
     "output_type": "stream",
     "text": [
      "\r",
      "preprocessing: 6380it [04:44, 18.83it/s]"
     ]
    },
    {
     "name": "stdout",
     "output_type": "stream",
     "text": [
      "[331 151 851 884]\n",
      "[198 193 738 893]\n",
      "[288 182 798 882]\n",
      "[173 194 750 879]\n"
     ]
    },
    {
     "name": "stderr",
     "output_type": "stream",
     "text": [
      "preprocessing: 6385it [04:45, 19.04it/s]"
     ]
    },
    {
     "name": "stdout",
     "output_type": "stream",
     "text": [
      "[177 142 701 878]\n",
      "[192 185 801 850]\n",
      "[319 179 874 889]\n",
      "[231 226 768 868]\n"
     ]
    },
    {
     "name": "stderr",
     "output_type": "stream",
     "text": [
      "preprocessing: 6389it [04:45, 18.86it/s]"
     ]
    },
    {
     "name": "stdout",
     "output_type": "stream",
     "text": [
      "[239 203 817 869]\n",
      "[242 195 791 904]\n",
      "[234 188 816 907]\n",
      "[230 131 844 863]\n"
     ]
    },
    {
     "name": "stderr",
     "output_type": "stream",
     "text": [
      "preprocessing: 6393it [04:45, 18.78it/s]"
     ]
    },
    {
     "name": "stdout",
     "output_type": "stream",
     "text": [
      "[ 98 166 709 902]\n",
      "[167 183 742 921]\n",
      "[312 175 913 903]\n",
      "[215 153 751 874]\n"
     ]
    },
    {
     "name": "stderr",
     "output_type": "stream",
     "text": [
      "preprocessing: 6397it [04:45, 18.56it/s]"
     ]
    },
    {
     "name": "stdout",
     "output_type": "stream",
     "text": [
      "[112 174 739 859]\n",
      "[265 193 796 855]\n",
      "[210 106 791 834]\n",
      "[332 210 893 871]\n"
     ]
    },
    {
     "name": "stderr",
     "output_type": "stream",
     "text": [
      "preprocessing: 6401it [04:46, 15.60it/s]"
     ]
    },
    {
     "name": "stdout",
     "output_type": "stream",
     "text": [
      "[233 170 749 906]\n",
      "[257 180 761 843]\n",
      "[266 190 856 821]\n"
     ]
    },
    {
     "name": "stderr",
     "output_type": "stream",
     "text": [
      "preprocessing: 6405it [04:46, 16.67it/s]"
     ]
    },
    {
     "name": "stdout",
     "output_type": "stream",
     "text": [
      "[336 145 911 903]\n",
      "[196 231 743 868]\n",
      "[237 154 768 828]\n",
      "[213 202 759 871]\n"
     ]
    },
    {
     "name": "stderr",
     "output_type": "stream",
     "text": [
      "\r",
      "preprocessing: 6408it [04:46, 18.16it/s]"
     ]
    },
    {
     "name": "stdout",
     "output_type": "stream",
     "text": [
      "[152 178 771 892]\n",
      "[271 188 841 873]\n",
      "[281 185 835 885]\n",
      "[220 169 771 885]\n",
      "[215 190 769 880]\n"
     ]
    },
    {
     "name": "stderr",
     "output_type": "stream",
     "text": [
      "preprocessing: 6413it [04:46, 18.95it/s]"
     ]
    },
    {
     "name": "stdout",
     "output_type": "stream",
     "text": [
      "[264 213 812 782]\n",
      "[226 144 814 873]\n",
      "[247 185 814 883]\n",
      "[173 119 792 918]\n"
     ]
    },
    {
     "name": "stderr",
     "output_type": "stream",
     "text": [
      "preprocessing: 6418it [04:46, 18.90it/s]"
     ]
    },
    {
     "name": "stdout",
     "output_type": "stream",
     "text": [
      "[331 196 899 829]\n",
      "[180 121 720 922]\n",
      "[115 167 719 895]\n",
      "[355 218 925 828]\n"
     ]
    },
    {
     "name": "stderr",
     "output_type": "stream",
     "text": [
      "preprocessing: 6422it [04:47, 18.75it/s]"
     ]
    },
    {
     "name": "stdout",
     "output_type": "stream",
     "text": [
      "[187 118 762 896]\n",
      "[330 202 866 825]\n",
      "[206 210 754 974]\n",
      "[246 181 826 870]\n"
     ]
    },
    {
     "name": "stderr",
     "output_type": "stream",
     "text": [
      "preprocessing: 6426it [04:47, 18.67it/s]"
     ]
    },
    {
     "name": "stdout",
     "output_type": "stream",
     "text": [
      "[270 229 826 877]\n",
      "[127 124 723 900]\n",
      "[215  64 835 820]\n",
      "[309 164 872 908]\n"
     ]
    },
    {
     "name": "stderr",
     "output_type": "stream",
     "text": [
      "preprocessing: 6430it [04:47, 18.55it/s]"
     ]
    },
    {
     "name": "stdout",
     "output_type": "stream",
     "text": [
      "[324 172 948 894]\n",
      "[132 204 700 866]\n",
      "[171 156 758 877]\n",
      "[269 201 790 929]\n"
     ]
    },
    {
     "name": "stderr",
     "output_type": "stream",
     "text": [
      "preprocessing: 6434it [04:47, 18.96it/s]"
     ]
    },
    {
     "name": "stdout",
     "output_type": "stream",
     "text": [
      "[187 172 718 928]\n",
      "[215 221 742 840]\n",
      "[293 209 848 914]\n",
      "[ 82 140 728 895]\n"
     ]
    },
    {
     "name": "stderr",
     "output_type": "stream",
     "text": [
      "preprocessing: 6438it [04:47, 18.71it/s]"
     ]
    },
    {
     "name": "stdout",
     "output_type": "stream",
     "text": [
      "[241 220 760 853]\n",
      "[322 140 959 926]\n",
      "[271 142 818 841]\n",
      "[288 161 865 835]\n"
     ]
    },
    {
     "name": "stderr",
     "output_type": "stream",
     "text": [
      "\r",
      "preprocessing: 6440it [04:48, 18.56it/s]"
     ]
    },
    {
     "name": "stdout",
     "output_type": "stream",
     "text": [
      "[234 251 825 854]\n",
      "[158 158 708 885]\n",
      "[223 171 803 895]\n",
      "[281 165 854 908]\n"
     ]
    },
    {
     "name": "stderr",
     "output_type": "stream",
     "text": [
      "preprocessing: 6446it [04:48, 19.39it/s]"
     ]
    },
    {
     "name": "stdout",
     "output_type": "stream",
     "text": [
      "[293 173 860 891]\n",
      "[206 188 798 855]\n",
      "[239 166 795 886]\n",
      "[154 163 760 902]\n"
     ]
    },
    {
     "name": "stderr",
     "output_type": "stream",
     "text": [
      "preprocessing: 6450it [04:48, 19.26it/s]"
     ]
    },
    {
     "name": "stdout",
     "output_type": "stream",
     "text": [
      "[192 186 767 877]\n",
      "[166 154 746 897]\n",
      "[222 232 767 949]\n",
      "[232 179 801 812]\n",
      "[110 119 758 933]\n"
     ]
    },
    {
     "name": "stderr",
     "output_type": "stream",
     "text": [
      "preprocessing: 6454it [04:48, 18.91it/s]"
     ]
    },
    {
     "name": "stdout",
     "output_type": "stream",
     "text": [
      "[242 209 812 887]\n",
      "[267 177 844 920]\n",
      "[167 203 725 897]\n",
      "[222 121 787 818]\n"
     ]
    },
    {
     "name": "stderr",
     "output_type": "stream",
     "text": [
      "preprocessing: 6458it [04:49, 19.24it/s]"
     ]
    },
    {
     "name": "stdout",
     "output_type": "stream",
     "text": [
      "[196 188 773 856]\n",
      "[239 145 815 865]\n",
      "[289 201 822 953]\n",
      "[275 187 802 876]\n",
      "[245 134 791 891]\n"
     ]
    },
    {
     "name": "stderr",
     "output_type": "stream",
     "text": [
      "preprocessing: 6464it [04:49, 18.50it/s]"
     ]
    },
    {
     "name": "stdout",
     "output_type": "stream",
     "text": [
      "[226 124 828 872]\n",
      "[237 212 801 827]\n",
      "[178 147 765 884]\n",
      "[284 152 875 839]\n",
      "[278 198 834 843]\n"
     ]
    },
    {
     "name": "stderr",
     "output_type": "stream",
     "text": [
      "preprocessing: 6469it [04:49, 18.85it/s]"
     ]
    },
    {
     "name": "stdout",
     "output_type": "stream",
     "text": [
      "[200 165 766 891]\n",
      "[269 182 849 882]\n",
      "[316 265 845 871]\n",
      "[279 163 853 811]\n"
     ]
    },
    {
     "name": "stderr",
     "output_type": "stream",
     "text": [
      "preprocessing: 6473it [04:49, 18.90it/s]"
     ]
    },
    {
     "name": "stdout",
     "output_type": "stream",
     "text": [
      "[237 179 778 892]\n",
      "[285 194 808 845]\n",
      "[303 129 905 858]\n",
      "[259 187 847 880]\n"
     ]
    },
    {
     "name": "stderr",
     "output_type": "stream",
     "text": [
      "\r",
      "preprocessing: 6476it [04:49, 18.91it/s]"
     ]
    },
    {
     "name": "stdout",
     "output_type": "stream",
     "text": [
      "[229 184 807 849]\n",
      "[202 226 775 890]\n",
      "[284 179 825 910]\n",
      "[221 211 711 793]\n"
     ]
    },
    {
     "name": "stderr",
     "output_type": "stream",
     "text": [
      "preprocessing: 6480it [04:50, 18.85it/s]"
     ]
    },
    {
     "name": "stdout",
     "output_type": "stream",
     "text": [
      "[ 99 201 707 819]\n",
      "[240 217 785 850]\n",
      "[232 157 735 926]\n",
      "[262 219 867 878]\n"
     ]
    },
    {
     "name": "stderr",
     "output_type": "stream",
     "text": [
      "preprocessing: 6484it [04:50, 19.01it/s]"
     ]
    },
    {
     "name": "stdout",
     "output_type": "stream",
     "text": [
      "[102 156 695 883]\n",
      "[253 146 842 845]\n",
      "[288 206 817 806]\n",
      "[312 223 899 881]\n",
      "[ 99 116 744 915]\n"
     ]
    },
    {
     "name": "stderr",
     "output_type": "stream",
     "text": [
      "preprocessing: 6490it [04:50, 18.95it/s]"
     ]
    },
    {
     "name": "stdout",
     "output_type": "stream",
     "text": [
      "[239 233 769 878]\n",
      "[179 148 783 903]\n",
      "[225 174 753 956]\n",
      "[202 189 726 911]\n"
     ]
    },
    {
     "name": "stderr",
     "output_type": "stream",
     "text": [
      "preprocessing: 6494it [04:50, 18.98it/s]"
     ]
    },
    {
     "name": "stdout",
     "output_type": "stream",
     "text": [
      "[256 248 739 893]\n",
      "[227 209 798 919]\n",
      "[255 186 838 898]\n",
      "[221 262 791 910]\n"
     ]
    },
    {
     "name": "stderr",
     "output_type": "stream",
     "text": [
      "preprocessing: 6498it [04:51, 18.79it/s]"
     ]
    },
    {
     "name": "stdout",
     "output_type": "stream",
     "text": [
      "[231 184 784 843]\n",
      "[262 135 856 888]\n",
      "[242 181 747 919]\n",
      "[221 170 787 838]\n",
      "[106 155 729 908]\n"
     ]
    },
    {
     "name": "stderr",
     "output_type": "stream",
     "text": [
      "\r",
      "preprocessing: 6500it [04:51, 16.73it/s]"
     ]
    },
    {
     "name": "stdout",
     "output_type": "stream",
     "text": [
      "[233 148 784 924]\n",
      "[234 157 719 867]\n",
      "[314 173 888 942]"
     ]
    },
    {
     "name": "stderr",
     "output_type": "stream",
     "text": [
      "preprocessing: 6504it [04:51, 16.69it/s]"
     ]
    },
    {
     "name": "stdout",
     "output_type": "stream",
     "text": [
      "\n",
      "[ 96 166 684 913]\n",
      "[119 140 719 892]\n",
      "[270 240 794 914]\n"
     ]
    },
    {
     "name": "stderr",
     "output_type": "stream",
     "text": [
      "\r",
      "preprocessing: 6507it [04:51, 17.84it/s]"
     ]
    },
    {
     "name": "stdout",
     "output_type": "stream",
     "text": [
      "[277 148 764 847]\n",
      "[214 184 766 915]\n",
      "[272 246 821 907]\n",
      "[232 146 776 818]\n"
     ]
    },
    {
     "name": "stderr",
     "output_type": "stream",
     "text": [
      "preprocessing: 6512it [04:51, 18.66it/s]"
     ]
    },
    {
     "name": "stdout",
     "output_type": "stream",
     "text": [
      "[375 192 898 909]\n",
      "[239 224 820 811]\n",
      "[202 108 785 802]\n",
      "[236 198 838 852]\n"
     ]
    },
    {
     "name": "stderr",
     "output_type": "stream",
     "text": [
      "preprocessing: 6516it [04:52, 18.21it/s]"
     ]
    },
    {
     "name": "stdout",
     "output_type": "stream",
     "text": [
      "[276 192 846 829]\n",
      "[237 190 739 928]\n",
      "[ 69 152 751 907]\n",
      "[169 139 780 893]\n"
     ]
    },
    {
     "name": "stderr",
     "output_type": "stream",
     "text": [
      "preprocessing: 6521it [04:52, 18.50it/s]"
     ]
    },
    {
     "name": "stdout",
     "output_type": "stream",
     "text": [
      "[204  85 759 854]\n",
      "[260 202 778 847]\n",
      "[255 197 849 960]\n",
      "[266 231 795 922]\n"
     ]
    },
    {
     "name": "stderr",
     "output_type": "stream",
     "text": [
      "preprocessing: 6525it [04:52, 18.71it/s]"
     ]
    },
    {
     "name": "stdout",
     "output_type": "stream",
     "text": [
      "[149  99 768 934]\n",
      "[289 138 808 862]\n",
      "[156 171 806 883]\n",
      "[276 168 856 906]\n"
     ]
    },
    {
     "name": "stderr",
     "output_type": "stream",
     "text": [
      "\r",
      "preprocessing: 6528it [04:52, 19.10it/s]"
     ]
    },
    {
     "name": "stdout",
     "output_type": "stream",
     "text": [
      "[295 225 785 873]\n",
      "[215 171 741 896]\n",
      "[294 132 969 925]\n",
      "[216 212 773 868]\n",
      "[256 199 746 873]\n"
     ]
    },
    {
     "name": "stderr",
     "output_type": "stream",
     "text": [
      "preprocessing: 6534it [04:53, 20.00it/s]"
     ]
    },
    {
     "name": "stdout",
     "output_type": "stream",
     "text": [
      "[235 152 822 855]\n",
      "[231 193 770 916]\n",
      "[258 184 724 866]\n",
      "[171 198 718 930]\n"
     ]
    },
    {
     "name": "stderr",
     "output_type": "stream",
     "text": [
      "\r",
      "preprocessing: 6536it [04:53, 19.54it/s]"
     ]
    },
    {
     "name": "stdout",
     "output_type": "stream",
     "text": [
      "[286 218 857 847]\n",
      "[244 200 765 935]\n",
      "[172  70 884 864]\n",
      "[200 106 778 894]\n",
      "[292 185 797 870]\n"
     ]
    },
    {
     "name": "stderr",
     "output_type": "stream",
     "text": [
      "preprocessing: 6543it [04:53, 19.62it/s]"
     ]
    },
    {
     "name": "stdout",
     "output_type": "stream",
     "text": [
      "[364  85 972 853]\n",
      "[227 182 799 886]\n",
      "[240 189 801 854]\n",
      "[345 183 897 770]\n",
      "[299 161 819 889]\n"
     ]
    },
    {
     "name": "stderr",
     "output_type": "stream",
     "text": [
      "\r",
      "preprocessing: 6546it [04:53, 19.75it/s]"
     ]
    },
    {
     "name": "stdout",
     "output_type": "stream",
     "text": [
      "[225 184 818 829]\n",
      "[256 252 819 832]\n",
      "[ 95 156 698 875]\n",
      "[228 213 769 831]\n",
      "[231 186 809 883]\n"
     ]
    },
    {
     "name": "stderr",
     "output_type": "stream",
     "text": [
      "preprocessing: 6552it [04:54, 20.22it/s]"
     ]
    },
    {
     "name": "stdout",
     "output_type": "stream",
     "text": [
      "[285 201 846 840]\n",
      "[239 194 829 882]\n",
      "[264 198 848 865]\n",
      "[243 106 797 826]\n",
      "[298 212 879 867]\n"
     ]
    },
    {
     "name": "stderr",
     "output_type": "stream",
     "text": [
      "preprocessing: 6558it [04:54, 20.16it/s]"
     ]
    },
    {
     "name": "stdout",
     "output_type": "stream",
     "text": [
      "[306 101 895 825]\n",
      "[ 65 160 707 927]\n",
      "[129 196 695 900]\n",
      "[198 231 772 908]\n",
      "[254 248 862 857]\n"
     ]
    },
    {
     "name": "stderr",
     "output_type": "stream",
     "text": [
      "\r",
      "preprocessing: 6561it [04:54, 20.10it/s]"
     ]
    },
    {
     "name": "stdout",
     "output_type": "stream",
     "text": [
      "[301 206 898 831]\n",
      "[244 227 804 866]\n",
      "[245 244 768 840]\n",
      "[270 168 832 921]\n"
     ]
    },
    {
     "name": "stderr",
     "output_type": "stream",
     "text": [
      "preprocessing: 6566it [04:54, 19.92it/s]"
     ]
    },
    {
     "name": "stdout",
     "output_type": "stream",
     "text": [
      "[320 177 904 848]\n",
      "[188 200 725 894]\n",
      "[258 231 798 852]\n",
      "[264 219 793 843]\n"
     ]
    },
    {
     "name": "stderr",
     "output_type": "stream",
     "text": [
      "\r",
      "preprocessing: 6569it [04:54, 20.03it/s]"
     ]
    },
    {
     "name": "stdout",
     "output_type": "stream",
     "text": [
      "[217 176 823 876]\n",
      "[282 164 860 908]\n",
      "[230 159 823 824]\n",
      "[284 155 818 858]\n",
      "[300 205 854 887]\n"
     ]
    },
    {
     "name": "stderr",
     "output_type": "stream",
     "text": [
      "preprocessing: 6575it [04:55, 20.43it/s]"
     ]
    },
    {
     "name": "stdout",
     "output_type": "stream",
     "text": [
      "[185  78 791 892]\n",
      "[355 214 891 895]\n",
      "[258 211 802 891]\n",
      "[220 221 756 880]\n"
     ]
    },
    {
     "name": "stderr",
     "output_type": "stream",
     "text": [
      "preprocessing: 6580it [04:55, 19.76it/s]"
     ]
    },
    {
     "name": "stdout",
     "output_type": "stream",
     "text": [
      "[232 175 758 902]\n",
      "[183 104 860 936]\n",
      "[238 211 790 825]\n",
      "[287 256 888 853]\n"
     ]
    },
    {
     "name": "stderr",
     "output_type": "stream",
     "text": [
      "preprocessing: 6584it [04:55, 18.57it/s]"
     ]
    },
    {
     "name": "stdout",
     "output_type": "stream",
     "text": [
      "[193 175 751 926]\n",
      "[156 131 755 915]\n",
      "[208 168 769 887]\n",
      "[272 244 784 888]\n"
     ]
    },
    {
     "name": "stderr",
     "output_type": "stream",
     "text": [
      "\r",
      "preprocessing: 6586it [04:55, 18.49it/s]"
     ]
    },
    {
     "name": "stdout",
     "output_type": "stream",
     "text": [
      "[220 177 813 874]\n",
      "[241 161 809 874]\n",
      "[121 171 692 905]\n",
      "[303 193 875 911]\n"
     ]
    },
    {
     "name": "stderr",
     "output_type": "stream",
     "text": [
      "preprocessing: 6591it [04:56, 18.90it/s]"
     ]
    },
    {
     "name": "stdout",
     "output_type": "stream",
     "text": [
      "[275 204 819 858]\n",
      "[112 146 758 903]\n",
      "[288 148 888 862]\n",
      "[291 210 826 769]\n"
     ]
    },
    {
     "name": "stderr",
     "output_type": "stream",
     "text": [
      "\r",
      "preprocessing: 6594it [04:56, 19.27it/s]"
     ]
    },
    {
     "name": "stdout",
     "output_type": "stream",
     "text": [
      "[168  81 751 894]\n",
      "[194 190 760 881]\n",
      "[225 180 784 932]\n",
      "[252 247 751 896]\n"
     ]
    },
    {
     "name": "stderr",
     "output_type": "stream",
     "text": [
      "preprocessing: 6599it [04:56, 19.15it/s]"
     ]
    },
    {
     "name": "stdout",
     "output_type": "stream",
     "text": [
      "[223 201 751 911]\n",
      "[276 174 895 904]\n",
      "[250 281 783 891]\n",
      "[324 254 922 878]\n"
     ]
    },
    {
     "name": "stderr",
     "output_type": "stream",
     "text": [
      "preprocessing: 6603it [04:56, 17.34it/s]"
     ]
    },
    {
     "name": "stdout",
     "output_type": "stream",
     "text": [
      "[235 229 775 902]\n",
      "[245 205 786 929]\n",
      "[244 193 829 833]\n",
      "[283 127 877 880]\n"
     ]
    },
    {
     "name": "stderr",
     "output_type": "stream",
     "text": [
      "\r",
      "preprocessing: 6606it [04:56, 18.27it/s]"
     ]
    },
    {
     "name": "stdout",
     "output_type": "stream",
     "text": [
      "[322 180 931 875]\n",
      "[141 146 770 861]\n",
      "[259 184 839 907]\n",
      "[124 159 774 929]\n",
      "[239 234 782 862]\n"
     ]
    },
    {
     "name": "stderr",
     "output_type": "stream",
     "text": [
      "preprocessing: 6612it [04:57, 20.59it/s]"
     ]
    },
    {
     "name": "stdout",
     "output_type": "stream",
     "text": [
      "[296 162 828 832]\n",
      "[154 161 744 932]\n",
      "[181 138 737 882]\n",
      "[131 185 731 834]\n",
      "[298 202 850 830]\n"
     ]
    },
    {
     "name": "stderr",
     "output_type": "stream",
     "text": [
      "preprocessing: 6618it [04:57, 20.46it/s]"
     ]
    },
    {
     "name": "stdout",
     "output_type": "stream",
     "text": [
      "[178 209 762 924]\n",
      "[273 177 825 846]\n",
      "[229 129 819 932]\n",
      "[261 168 716 834]\n",
      "[209 229 804 882]\n"
     ]
    },
    {
     "name": "stderr",
     "output_type": "stream",
     "text": [
      "\r",
      "preprocessing: 6621it [04:57, 20.75it/s]"
     ]
    },
    {
     "name": "stdout",
     "output_type": "stream",
     "text": [
      "[300 168 859 900]\n",
      "[244 227 819 848]\n",
      "[272 210 812 819]\n",
      "[217 172 757 891]\n"
     ]
    },
    {
     "name": "stderr",
     "output_type": "stream",
     "text": [
      "preprocessing: 6627it [04:57, 20.35it/s]"
     ]
    },
    {
     "name": "stdout",
     "output_type": "stream",
     "text": [
      "[154 189 750 918]\n",
      "[265 234 770 907]\n",
      "[214 182 762 893]\n",
      "[305 157 872 828]\n"
     ]
    },
    {
     "name": "stderr",
     "output_type": "stream",
     "text": [
      "\r",
      "preprocessing: 6630it [04:57, 20.66it/s]"
     ]
    },
    {
     "name": "stdout",
     "output_type": "stream",
     "text": [
      "[230 211 808 858]\n",
      "[197 208 813 890]\n",
      "[301  98 898 937]\n",
      "[253 211 808 850]\n"
     ]
    },
    {
     "name": "stderr",
     "output_type": "stream",
     "text": [
      "\r",
      "preprocessing: 6633it [04:58, 20.47it/s]"
     ]
    },
    {
     "name": "stdout",
     "output_type": "stream",
     "text": [
      "[189 137 841 901]\n",
      "[203 112 798 876]\n",
      "[222 193 764 873]\n",
      "[294 140 880 917]\n",
      "[244 192 813 816]\n"
     ]
    },
    {
     "name": "stderr",
     "output_type": "stream",
     "text": [
      "preprocessing: 6639it [04:58, 20.60it/s]"
     ]
    },
    {
     "name": "stdout",
     "output_type": "stream",
     "text": [
      "[269 225 803 795]\n",
      "[307 210 842 878]\n",
      "[335 219 847 860]\n",
      "[300 174 872 882]\n",
      "[198 201 769 901]\n"
     ]
    },
    {
     "name": "stderr",
     "output_type": "stream",
     "text": [
      "preprocessing: 6645it [04:58, 20.74it/s]"
     ]
    },
    {
     "name": "stdout",
     "output_type": "stream",
     "text": [
      "[242 191 841 903]\n",
      "[292 181 836 900]\n",
      "[232 129 886 804]\n",
      "[246 165 797 830]\n"
     ]
    },
    {
     "name": "stderr",
     "output_type": "stream",
     "text": [
      "\r",
      "preprocessing: 6648it [04:58, 20.60it/s]"
     ]
    },
    {
     "name": "stdout",
     "output_type": "stream",
     "text": [
      "[256 209 851 837]\n",
      "[153 220 627 797]\n",
      "[353 257 903 829]\n",
      "[288 155 776 901]\n",
      "[180 194 780 956]\n"
     ]
    },
    {
     "name": "stderr",
     "output_type": "stream",
     "text": [
      "preprocessing: 6654it [04:59, 20.57it/s]"
     ]
    },
    {
     "name": "stdout",
     "output_type": "stream",
     "text": [
      "[227 200 768 874]\n",
      "[278 212 824 868]\n",
      "[287 256 802 905]\n",
      "[243 196 851 850]\n",
      "[305 184 822 835]\n"
     ]
    },
    {
     "name": "stderr",
     "output_type": "stream",
     "text": [
      "\r",
      "preprocessing: 6657it [04:59, 20.40it/s]"
     ]
    },
    {
     "name": "stdout",
     "output_type": "stream",
     "text": [
      "[219 111 771 922]\n",
      "[266 157 809 894]\n",
      "[225 181 774 896]\n",
      "[191 176 774 856]\n",
      "[234 205 793 847]\n"
     ]
    },
    {
     "name": "stderr",
     "output_type": "stream",
     "text": [
      "preprocessing: 6663it [04:59, 19.68it/s]"
     ]
    },
    {
     "name": "stdout",
     "output_type": "stream",
     "text": [
      "[161 159 755 907]\n",
      "[171 229 681 907]\n",
      "[235 214 745 937]\n",
      "[247 229 794 918]\n"
     ]
    },
    {
     "name": "stderr",
     "output_type": "stream",
     "text": [
      "preprocessing: 6667it [04:59, 19.47it/s]"
     ]
    },
    {
     "name": "stdout",
     "output_type": "stream",
     "text": [
      "[286 191 896 892]\n",
      "[268 184 825 838]\n",
      "[301 153 940 859]\n",
      "[160 157 717 908]\n"
     ]
    },
    {
     "name": "stderr",
     "output_type": "stream",
     "text": [
      "preprocessing: 6671it [05:00, 18.86it/s]"
     ]
    },
    {
     "name": "stdout",
     "output_type": "stream",
     "text": [
      "[215 219 694 843]\n",
      "[170 207 722 835]\n",
      "[235 210 793 896]\n",
      "[274 197 792 891]\n"
     ]
    },
    {
     "name": "stderr",
     "output_type": "stream",
     "text": [
      "preprocessing: 6676it [05:00, 18.68it/s]"
     ]
    },
    {
     "name": "stdout",
     "output_type": "stream",
     "text": [
      "[195 219 764 901]\n",
      "[295 228 824 900]\n",
      "[283 171 793 881]\n",
      "[233 212 806 853]\n"
     ]
    },
    {
     "name": "stderr",
     "output_type": "stream",
     "text": [
      "preprocessing: 6680it [05:00, 18.89it/s]"
     ]
    },
    {
     "name": "stdout",
     "output_type": "stream",
     "text": [
      "[328 136 928 882]\n",
      "[287 208 844 891]\n",
      "[237 188 777 893]\n",
      "[222 192 767 957]\n"
     ]
    },
    {
     "name": "stderr",
     "output_type": "stream",
     "text": [
      "\r",
      "preprocessing: 6682it [05:00, 18.69it/s]"
     ]
    },
    {
     "name": "stdout",
     "output_type": "stream",
     "text": [
      "[277 166 796 866]\n",
      "[264 205 784 904]\n",
      "[283 204 780 886]\n",
      "[333 195 919 823]\n",
      "[107 134 719 832]\n"
     ]
    },
    {
     "name": "stderr",
     "output_type": "stream",
     "text": [
      "preprocessing: 6688it [05:00, 19.65it/s]"
     ]
    },
    {
     "name": "stdout",
     "output_type": "stream",
     "text": [
      "[192 245 766 888]\n",
      "[239 189 762 952]\n",
      "[209 155 815 880]\n",
      "[151 125 713 912]\n",
      "[227 245 774 860]\n"
     ]
    },
    {
     "name": "stderr",
     "output_type": "stream",
     "text": [
      "preprocessing: 6694it [05:01, 18.56it/s]"
     ]
    },
    {
     "name": "stdout",
     "output_type": "stream",
     "text": [
      "[269 209 858 860]\n",
      "[236 188 804 817]\n",
      "[252 137 810 878]\n",
      "[258 143 816 910]\n"
     ]
    },
    {
     "name": "stderr",
     "output_type": "stream",
     "text": [
      "preprocessing: 6698it [05:01, 18.88it/s]"
     ]
    },
    {
     "name": "stdout",
     "output_type": "stream",
     "text": [
      "[235 123 773 896]\n",
      "[256 202 758 853]\n",
      "[285 196 899 903]\n",
      "[233 203 799 888]\n"
     ]
    },
    {
     "name": "stderr",
     "output_type": "stream",
     "text": [
      "\r",
      "preprocessing: 6700it [05:01, 16.42it/s]"
     ]
    },
    {
     "name": "stdout",
     "output_type": "stream",
     "text": [
      "[156 165 761 848]\n",
      "[174 169 742 834]\n",
      "[335 270 882 899]\n"
     ]
    },
    {
     "name": "stderr",
     "output_type": "stream",
     "text": [
      "preprocessing: 6705it [05:01, 18.53it/s]"
     ]
    },
    {
     "name": "stdout",
     "output_type": "stream",
     "text": [
      "[190 252 794 902]\n",
      "[225 211 792 874]\n",
      "[293 183 846 864]\n",
      "[217 227 764 970]\n",
      "[267 215 815 850]\n"
     ]
    },
    {
     "name": "stderr",
     "output_type": "stream",
     "text": [
      "\r",
      "preprocessing: 6708it [05:02, 19.73it/s]"
     ]
    },
    {
     "name": "stdout",
     "output_type": "stream",
     "text": [
      "[228 225 783 835]\n",
      "[236 185 813 890]\n",
      "[298 160 906 905]\n",
      "[229 163 768 900]\n"
     ]
    },
    {
     "name": "stderr",
     "output_type": "stream",
     "text": [
      "preprocessing: 6714it [05:02, 20.38it/s]"
     ]
    },
    {
     "name": "stdout",
     "output_type": "stream",
     "text": [
      "[216 212 802 849]\n",
      "[154 163 733 936]\n",
      "[294 183 921 909]\n",
      "[255 172 822 838]\n"
     ]
    },
    {
     "name": "stderr",
     "output_type": "stream",
     "text": [
      "\r",
      "preprocessing: 6717it [05:02, 20.07it/s]"
     ]
    },
    {
     "name": "stdout",
     "output_type": "stream",
     "text": [
      "[229 192 756 824]\n",
      "[311 168 916 902]\n",
      "[232 217 821 833]\n",
      "[253 140 797 888]\n",
      "[335 204 898 897]\n"
     ]
    },
    {
     "name": "stderr",
     "output_type": "stream",
     "text": [
      "preprocessing: 6723it [05:02, 20.42it/s]"
     ]
    },
    {
     "name": "stdout",
     "output_type": "stream",
     "text": [
      "[313 143 903 890]\n",
      "[313 163 900 904]\n",
      "[233 227 781 875]\n",
      "[319 184 843 890]\n",
      "[194 260 754 913]\n"
     ]
    },
    {
     "name": "stderr",
     "output_type": "stream",
     "text": [
      "\r",
      "preprocessing: 6726it [05:02, 20.37it/s]"
     ]
    },
    {
     "name": "stdout",
     "output_type": "stream",
     "text": [
      "[274 193 836 904]\n",
      "[132 208 695 845]\n",
      "[305  97 871 817]\n",
      "[389 173 932 906]\n",
      "[216 227 785 870]\n"
     ]
    },
    {
     "name": "stderr",
     "output_type": "stream",
     "text": [
      "preprocessing: 6732it [05:03, 20.58it/s]"
     ]
    },
    {
     "name": "stdout",
     "output_type": "stream",
     "text": [
      "[102 129 659 837]\n",
      "[189 198 751 871]\n",
      "[166 224 747 888]\n",
      "[166 253 753 882]\n",
      "[310 257 794 907]\n"
     ]
    },
    {
     "name": "stderr",
     "output_type": "stream",
     "text": [
      "preprocessing: 6738it [05:03, 19.94it/s]"
     ]
    },
    {
     "name": "stdout",
     "output_type": "stream",
     "text": [
      "[139 143 764 900]\n",
      "[287 177 841 874]\n",
      "[153 147 725 883]\n",
      "[275 138 862 780]\n",
      "[281 254 790 889]\n"
     ]
    },
    {
     "name": "stderr",
     "output_type": "stream",
     "text": [
      "preprocessing: 6743it [05:03, 19.99it/s]"
     ]
    },
    {
     "name": "stdout",
     "output_type": "stream",
     "text": [
      "[233 246 804 860]\n",
      "[259 224 850 836]\n",
      "[114 207 655 892]\n",
      "[289 210 845 869]\n",
      "[159 212 720 880]\n"
     ]
    },
    {
     "name": "stderr",
     "output_type": "stream",
     "text": [
      "preprocessing: 6747it [05:03, 18.94it/s]"
     ]
    },
    {
     "name": "stdout",
     "output_type": "stream",
     "text": [
      "[175 181 784 921]\n",
      "[225 160 788 823]\n",
      "[238 155 787 887]\n",
      "[237 205 793 877]\n"
     ]
    },
    {
     "name": "stderr",
     "output_type": "stream",
     "text": [
      "preprocessing: 6751it [05:04, 17.69it/s]"
     ]
    },
    {
     "name": "stdout",
     "output_type": "stream",
     "text": [
      "[225 209 795 898]\n",
      "[244 197 804 814]\n",
      "[281 149 892 862]\n",
      "[261 155 792 911]\n"
     ]
    },
    {
     "name": "stderr",
     "output_type": "stream",
     "text": [
      "preprocessing: 6756it [05:04, 19.19it/s]"
     ]
    },
    {
     "name": "stdout",
     "output_type": "stream",
     "text": [
      "[236 203 809 844]\n",
      "[137 177 782 885]\n",
      "[265 184 842 855]\n",
      "[175 151 779 862]\n",
      "[292 279 869 871]\n"
     ]
    },
    {
     "name": "stderr",
     "output_type": "stream",
     "text": [
      "\r",
      "preprocessing: 6759it [05:04, 20.04it/s]"
     ]
    },
    {
     "name": "stdout",
     "output_type": "stream",
     "text": [
      "[213 167 786 889]\n",
      "[236 172 844 955]\n",
      "[220 156 817 885]\n",
      "[238 192 829 861]\n"
     ]
    },
    {
     "name": "stderr",
     "output_type": "stream",
     "text": [
      "preprocessing: 6764it [05:04, 19.47it/s]"
     ]
    },
    {
     "name": "stdout",
     "output_type": "stream",
     "text": [
      "[234 218 745 921]\n",
      "[236 195 833 822]\n",
      "[208 113 791 922]\n",
      "[270 192 812 828]\n"
     ]
    },
    {
     "name": "stderr",
     "output_type": "stream",
     "text": [
      "preprocessing: 6768it [05:05, 19.33it/s]"
     ]
    },
    {
     "name": "stdout",
     "output_type": "stream",
     "text": [
      "[227 186 757 868]\n",
      "[166 171 741 931]\n",
      "[295 173 848 891]\n",
      "[237 180 838 850]\n"
     ]
    },
    {
     "name": "stderr",
     "output_type": "stream",
     "text": [
      "preprocessing: 6772it [05:05, 19.28it/s]"
     ]
    },
    {
     "name": "stdout",
     "output_type": "stream",
     "text": [
      "[153 145 772 920]\n",
      "[304 192 892 896]\n",
      "[258 196 756 841]\n",
      "[276 148 848 934]\n"
     ]
    },
    {
     "name": "stderr",
     "output_type": "stream",
     "text": [
      "preprocessing: 6776it [05:05, 18.80it/s]"
     ]
    },
    {
     "name": "stdout",
     "output_type": "stream",
     "text": [
      "[206 257 719 828]\n",
      "[217 160 763 888]\n",
      "[306 178 871 884]\n",
      "[317 226 858 905]\n"
     ]
    },
    {
     "name": "stderr",
     "output_type": "stream",
     "text": [
      "preprocessing: 6781it [05:05, 18.88it/s]"
     ]
    },
    {
     "name": "stdout",
     "output_type": "stream",
     "text": [
      "[203 135 787 894]\n",
      "[326 216 858 830]\n",
      "[168 258 773 914]\n",
      "[247 212 758 904]\n"
     ]
    },
    {
     "name": "stderr",
     "output_type": "stream",
     "text": [
      "\r",
      "preprocessing: 6784it [05:05, 18.92it/s]"
     ]
    },
    {
     "name": "stdout",
     "output_type": "stream",
     "text": [
      "[289 188 848 867]\n",
      "[182 159 778 871]\n",
      "[185 126 743 842]\n",
      "[191 211 762 895]\n"
     ]
    },
    {
     "name": "stderr",
     "output_type": "stream",
     "text": [
      "preprocessing: 6789it [05:06, 18.83it/s]"
     ]
    },
    {
     "name": "stdout",
     "output_type": "stream",
     "text": [
      "[302 182 864 899]\n",
      "[244 199 810 850]\n",
      "[293 204 841 872]\n",
      "[257 186 804 937]\n"
     ]
    },
    {
     "name": "stderr",
     "output_type": "stream",
     "text": [
      "\r",
      "preprocessing: 6792it [05:06, 19.40it/s]"
     ]
    },
    {
     "name": "stdout",
     "output_type": "stream",
     "text": [
      "[227 233 748 873]\n",
      "[260 243 786 872]\n",
      "[233 176 837 877]\n",
      "[164 135 776 925]\n",
      "[264 122 796 800]\n"
     ]
    },
    {
     "name": "stderr",
     "output_type": "stream",
     "text": [
      "preprocessing: 6797it [05:06, 19.67it/s]"
     ]
    },
    {
     "name": "stdout",
     "output_type": "stream",
     "text": [
      "[270 188 805 882]\n",
      "[163 164 731 842]\n",
      "[202 142 784 893]\n",
      "[234 160 822 944]\n"
     ]
    },
    {
     "name": "stderr",
     "output_type": "stream",
     "text": [
      "preprocessing: 6801it [05:06, 17.48it/s]"
     ]
    },
    {
     "name": "stdout",
     "output_type": "stream",
     "text": [
      "[237 183 740 820]\n",
      "[262 214 810 875]\n",
      "[230 203 794 885]\n"
     ]
    },
    {
     "name": "stderr",
     "output_type": "stream",
     "text": [
      "\r",
      "preprocessing: 6803it [05:06, 17.27it/s]"
     ]
    },
    {
     "name": "stdout",
     "output_type": "stream",
     "text": [
      "[178 115 765 894]\n",
      "[285 159 675 894]\n",
      "[291 131 899 926]\n",
      "[124 189 681 878]\n",
      "[249 176 863 863]\n"
     ]
    },
    {
     "name": "stderr",
     "output_type": "stream",
     "text": [
      "preprocessing: 6809it [05:07, 19.56it/s]"
     ]
    },
    {
     "name": "stdout",
     "output_type": "stream",
     "text": [
      "[240 164 783 854]\n",
      "[247 196 780 897]\n",
      "[238 185 819 828]\n",
      "[259 212 794 895]\n",
      "[311 168 908 850]\n"
     ]
    },
    {
     "name": "stderr",
     "output_type": "stream",
     "text": [
      "preprocessing: 6815it [05:07, 19.61it/s]"
     ]
    },
    {
     "name": "stdout",
     "output_type": "stream",
     "text": [
      "[117 176 739 868]\n",
      "[192 197 741 841]\n",
      "[226 175 772 891]\n",
      "[241 133 820 916]\n"
     ]
    },
    {
     "name": "stderr",
     "output_type": "stream",
     "text": [
      "\r",
      "preprocessing: 6817it [05:07, 19.44it/s]"
     ]
    },
    {
     "name": "stdout",
     "output_type": "stream",
     "text": [
      "[211 198 790 922]\n",
      "[232 255 767 855]\n",
      "[305 181 844 838]\n",
      "[243 208 781 862]\n"
     ]
    },
    {
     "name": "stderr",
     "output_type": "stream",
     "text": [
      "preprocessing: 6822it [05:07, 19.89it/s]"
     ]
    },
    {
     "name": "stdout",
     "output_type": "stream",
     "text": [
      "[263 204 796 876]\n",
      "[163 144 737 905]\n",
      "[203 145 798 763]\n",
      "[272 183 798 878]\n",
      "[247 233 777 905]\n"
     ]
    },
    {
     "name": "stderr",
     "output_type": "stream",
     "text": [
      "preprocessing: 6827it [05:08, 19.59it/s]"
     ]
    },
    {
     "name": "stdout",
     "output_type": "stream",
     "text": [
      "[227 157 823 796]\n",
      "[273 163 798 893]\n",
      "[139 161 750 827]\n",
      "[246 224 722 854]\n"
     ]
    },
    {
     "name": "stderr",
     "output_type": "stream",
     "text": [
      "preprocessing: 6831it [05:08, 19.77it/s]"
     ]
    },
    {
     "name": "stdout",
     "output_type": "stream",
     "text": [
      "[347 209 925 980]\n",
      "[290 210 859 857]\n",
      "[292 166 743 863]\n",
      "[244  79 886 856]\n"
     ]
    },
    {
     "name": "stderr",
     "output_type": "stream",
     "text": [
      "preprocessing: 6836it [05:08, 20.01it/s]"
     ]
    },
    {
     "name": "stdout",
     "output_type": "stream",
     "text": [
      "[282 181 818 910]\n",
      "[260 204 777 919]\n",
      "[242 192 779 833]\n",
      "[198 200 766 911]\n",
      "[108 106 737 909]\n"
     ]
    },
    {
     "name": "stderr",
     "output_type": "stream",
     "text": [
      "preprocessing: 6841it [05:08, 19.69it/s]"
     ]
    },
    {
     "name": "stdout",
     "output_type": "stream",
     "text": [
      "[128 130 778 912]\n",
      "[241 188 773 882]\n",
      "[296 157 953 886]\n",
      "[131 181 759 902]\n"
     ]
    },
    {
     "name": "stderr",
     "output_type": "stream",
     "text": [
      "preprocessing: 6845it [05:09, 19.17it/s]"
     ]
    },
    {
     "name": "stdout",
     "output_type": "stream",
     "text": [
      "[227 218 763 842]\n",
      "[182 198 744 898]\n",
      "[ 95  73 742 904]\n",
      "[280 193 929 850]\n"
     ]
    },
    {
     "name": "stderr",
     "output_type": "stream",
     "text": [
      "preprocessing: 6849it [05:09, 19.32it/s]"
     ]
    },
    {
     "name": "stdout",
     "output_type": "stream",
     "text": [
      "[247 218 849 883]\n",
      "[234 228 755 864]\n",
      "[191 203 796 888]\n",
      "[236 154 800 918]\n"
     ]
    },
    {
     "name": "stderr",
     "output_type": "stream",
     "text": [
      "\r",
      "preprocessing: 6851it [05:09, 19.31it/s]"
     ]
    },
    {
     "name": "stdout",
     "output_type": "stream",
     "text": [
      "[205 203 776 890]\n",
      "[221 193 758 901]\n",
      "[315 202 872 915]\n",
      "[175 160 742 842]\n",
      "[151 154 748 924]\n"
     ]
    },
    {
     "name": "stderr",
     "output_type": "stream",
     "text": [
      "preprocessing: 6857it [05:09, 19.87it/s]"
     ]
    },
    {
     "name": "stdout",
     "output_type": "stream",
     "text": [
      "[278 177 842 851]\n",
      "[277 192 790 836]\n",
      "[281 169 770 894]\n",
      "[253 197 852 828]\n",
      "[186 158 804 878]\n"
     ]
    },
    {
     "name": "stderr",
     "output_type": "stream",
     "text": [
      "preprocessing: 6862it [05:09, 20.32it/s]"
     ]
    },
    {
     "name": "stdout",
     "output_type": "stream",
     "text": [
      "[165 142 706 882]\n",
      "[231 198 853 878]\n",
      "[331 209 893 833]\n",
      "[274 184 785 862]\n",
      "[258 178 820 856]\n"
     ]
    },
    {
     "name": "stderr",
     "output_type": "stream",
     "text": [
      "preprocessing: 6868it [05:10, 20.58it/s]"
     ]
    },
    {
     "name": "stdout",
     "output_type": "stream",
     "text": [
      "[108 184 695 863]\n",
      "[129 253 739 821]\n",
      "[213 178 820 851]\n",
      "[287 147 818 895]\n"
     ]
    },
    {
     "name": "stderr",
     "output_type": "stream",
     "text": [
      "\r",
      "preprocessing: 6871it [05:10, 20.07it/s]"
     ]
    },
    {
     "name": "stdout",
     "output_type": "stream",
     "text": [
      "[294 104 861 920]\n",
      "[224 201 802 870]\n",
      "[256 166 822 842]\n",
      "[237 173 815 878]\n"
     ]
    },
    {
     "name": "stderr",
     "output_type": "stream",
     "text": [
      "preprocessing: 6876it [05:10, 19.30it/s]"
     ]
    },
    {
     "name": "stdout",
     "output_type": "stream",
     "text": [
      "[185 224 777 904]\n",
      "[300 200 838 915]\n",
      "[230 167 775 866]\n",
      "[251 124 863 807]\n",
      "[234 219 786 852]\n"
     ]
    },
    {
     "name": "stderr",
     "output_type": "stream",
     "text": [
      "preprocessing: 6881it [05:10, 20.03it/s]"
     ]
    },
    {
     "name": "stdout",
     "output_type": "stream",
     "text": [
      "[298 186 838 834]\n",
      "[226 178 769 895]\n",
      "[276 153 891 808]\n",
      "[231 189 784 905]\n",
      "[224 117 806 902]\n"
     ]
    },
    {
     "name": "stderr",
     "output_type": "stream",
     "text": [
      "preprocessing: 6885it [05:11, 19.65it/s]"
     ]
    },
    {
     "name": "stdout",
     "output_type": "stream",
     "text": [
      "[257 192 796 887]\n",
      "[233 270 773 919]\n",
      "[277 189 871 960]\n",
      "[289 124 846 874]\n"
     ]
    },
    {
     "name": "stderr",
     "output_type": "stream",
     "text": [
      "\r",
      "preprocessing: 6888it [05:11, 20.22it/s]"
     ]
    },
    {
     "name": "stdout",
     "output_type": "stream",
     "text": [
      "[223 198 764 842]\n",
      "[220 208 774 901]\n",
      "[217 219 745 916]\n",
      "[135 133 711 943]\n",
      "[336 166 864 912]\n"
     ]
    },
    {
     "name": "stderr",
     "output_type": "stream",
     "text": [
      "preprocessing: 6894it [05:11, 19.33it/s]"
     ]
    },
    {
     "name": "stdout",
     "output_type": "stream",
     "text": [
      "[352 251 854 863]\n",
      "[278 136 839 831]\n",
      "[238 213 790 865]\n",
      "[221 211 773 883]\n"
     ]
    },
    {
     "name": "stderr",
     "output_type": "stream",
     "text": [
      "preprocessing: 6898it [05:11, 18.78it/s]"
     ]
    },
    {
     "name": "stdout",
     "output_type": "stream",
     "text": [
      "[120 122 738 861]\n",
      "[208 167 763 860]\n",
      "[ 89 155 734 808]\n",
      "[236 171 818 886]\n"
     ]
    },
    {
     "name": "stderr",
     "output_type": "stream",
     "text": [
      "preprocessing: 6902it [05:12, 16.60it/s]"
     ]
    },
    {
     "name": "stdout",
     "output_type": "stream",
     "text": [
      "[268 184 823 835]\n",
      "[224 209 802 871]\n",
      "[269 142 777 869]\n"
     ]
    },
    {
     "name": "stderr",
     "output_type": "stream",
     "text": [
      "\r",
      "preprocessing: 6905it [05:12, 18.10it/s]"
     ]
    },
    {
     "name": "stdout",
     "output_type": "stream",
     "text": [
      "[237 255 793 827]\n",
      "[158 111 774 897]\n",
      "[185 138 755 881]\n",
      "[223 173 794 913]\n",
      "[148 162 762 915]\n"
     ]
    },
    {
     "name": "stderr",
     "output_type": "stream",
     "text": [
      "preprocessing: 6911it [05:12, 19.08it/s]"
     ]
    },
    {
     "name": "stdout",
     "output_type": "stream",
     "text": [
      "[280 206 851 886]\n",
      "[257 161 789 872]\n",
      "[220 222 780 822]\n",
      "[238 186 837 837]\n",
      "[327 210 870 935]\n"
     ]
    },
    {
     "name": "stderr",
     "output_type": "stream",
     "text": [
      "preprocessing: 6916it [05:12, 18.77it/s]"
     ]
    },
    {
     "name": "stdout",
     "output_type": "stream",
     "text": [
      "[320 130 889 918]\n",
      "[278 212 837 840]\n",
      "[269 223 839 827]\n",
      "[302 196 878 853]\n"
     ]
    },
    {
     "name": "stderr",
     "output_type": "stream",
     "text": [
      "preprocessing: 6920it [05:12, 18.61it/s]"
     ]
    },
    {
     "name": "stdout",
     "output_type": "stream",
     "text": [
      "[283 238 799 883]\n",
      "[189 131 777 907]\n",
      "[250 228 766 889]\n",
      "[227 271 790 861]\n"
     ]
    },
    {
     "name": "stderr",
     "output_type": "stream",
     "text": [
      "preprocessing: 6924it [05:13, 17.89it/s]"
     ]
    },
    {
     "name": "stdout",
     "output_type": "stream",
     "text": [
      "[147 144 773 906]\n",
      "[186 199 780 907]\n",
      "[292 182 846 891]\n",
      "[303  89 837 860]\n"
     ]
    },
    {
     "name": "stderr",
     "output_type": "stream",
     "text": [
      "preprocessing: 6928it [05:13, 18.40it/s]"
     ]
    },
    {
     "name": "stdout",
     "output_type": "stream",
     "text": [
      "[238 211 749 890]\n",
      "[155 115 762 928]\n",
      "[167 188 811 881]\n",
      "[259 121 802 910]\n"
     ]
    },
    {
     "name": "stderr",
     "output_type": "stream",
     "text": [
      "preprocessing: 6932it [05:13, 18.14it/s]"
     ]
    },
    {
     "name": "stdout",
     "output_type": "stream",
     "text": [
      "[301 175 841 840]\n",
      "[201 176 818 849]\n",
      "[283 156 813 862]\n",
      "[212 193 770 918]\n"
     ]
    },
    {
     "name": "stderr",
     "output_type": "stream",
     "text": [
      "\r",
      "preprocessing: 6935it [05:13, 18.88it/s]"
     ]
    },
    {
     "name": "stdout",
     "output_type": "stream",
     "text": [
      "[316 145 863 848]\n",
      "[271 227 824 841]\n",
      "[300 166 892 853]\n",
      "[193 174 745 894]\n"
     ]
    },
    {
     "name": "stderr",
     "output_type": "stream",
     "text": [
      "\r",
      "preprocessing: 6938it [05:13, 19.73it/s]"
     ]
    },
    {
     "name": "stdout",
     "output_type": "stream",
     "text": [
      "[283 260 847 854]\n",
      "[270 206 810 806]\n",
      "[246 190 821 877]\n",
      "[279 177 702 912]\n",
      "[183 210 742 894]\n"
     ]
    },
    {
     "name": "stderr",
     "output_type": "stream",
     "text": [
      "preprocessing: 6945it [05:14, 19.61it/s]"
     ]
    },
    {
     "name": "stdout",
     "output_type": "stream",
     "text": [
      "[161 117 771 889]\n",
      "[274 223 847 866]\n",
      "[280 173 825 830]\n",
      "[183 162 789 761]\n",
      "[333 272 867 850]\n"
     ]
    },
    {
     "name": "stderr",
     "output_type": "stream",
     "text": [
      "preprocessing: 6950it [05:14, 19.72it/s]"
     ]
    },
    {
     "name": "stdout",
     "output_type": "stream",
     "text": [
      "[112 152 704 896]\n",
      "[152 114 752 879]\n",
      "[249 207 799 830]\n",
      "[221 168 786 849]\n",
      "[231 227 745 903]\n"
     ]
    },
    {
     "name": "stderr",
     "output_type": "stream",
     "text": [
      "preprocessing: 6955it [05:14, 19.96it/s]"
     ]
    },
    {
     "name": "stdout",
     "output_type": "stream",
     "text": [
      "[284 221 819 879]\n",
      "[191 135 774 884]\n",
      "[250 157 755 844]\n",
      "[181 132 825 831]\n"
     ]
    },
    {
     "name": "stderr",
     "output_type": "stream",
     "text": [
      "\r",
      "preprocessing: 6958it [05:14, 20.64it/s]"
     ]
    },
    {
     "name": "stdout",
     "output_type": "stream",
     "text": [
      "[290 192 813 838]\n",
      "[197 192 774 846]\n",
      "[246 183 808 843]\n",
      "[141 130 813 914]\n",
      "[362 169 896 838]\n"
     ]
    },
    {
     "name": "stderr",
     "output_type": "stream",
     "text": [
      "preprocessing: 6964it [05:15, 19.97it/s]"
     ]
    },
    {
     "name": "stdout",
     "output_type": "stream",
     "text": [
      "[279 159 851 798]\n",
      "[246 138 802 893]\n",
      "[275 214 900 830]\n",
      "[214 177 820 875]\n"
     ]
    },
    {
     "name": "stderr",
     "output_type": "stream",
     "text": [
      "preprocessing: 6968it [05:15, 19.02it/s]"
     ]
    },
    {
     "name": "stdout",
     "output_type": "stream",
     "text": [
      "[248 154 817 831]\n",
      "[269 116 839 864]\n",
      "[204 186 755 878]\n",
      "[216 221 762 911]\n"
     ]
    },
    {
     "name": "stderr",
     "output_type": "stream",
     "text": [
      "preprocessing: 6972it [05:15, 18.54it/s]"
     ]
    },
    {
     "name": "stdout",
     "output_type": "stream",
     "text": [
      "[252 181 847 868]\n",
      "[187 224 756 906]\n",
      "[240 190 822 871]\n",
      "[159 190 781 844]\n"
     ]
    },
    {
     "name": "stderr",
     "output_type": "stream",
     "text": [
      "\r",
      "preprocessing: 6975it [05:15, 19.32it/s]"
     ]
    },
    {
     "name": "stdout",
     "output_type": "stream",
     "text": [
      "[104  66 764 967]\n",
      "[109 171 716 882]\n",
      "[264 164 708 874]\n",
      "[176  89 742 880]\n",
      "[248  77 883 854]\n"
     ]
    },
    {
     "name": "stderr",
     "output_type": "stream",
     "text": [
      "preprocessing: 6979it [05:16, 19.13it/s]"
     ]
    },
    {
     "name": "stdout",
     "output_type": "stream",
     "text": [
      "[215 255 748 842]\n",
      "[293 151 862 875]\n",
      "[357 187 944 872]\n",
      "[231 273 799 862]\n"
     ]
    },
    {
     "name": "stderr",
     "output_type": "stream",
     "text": [
      "preprocessing: 6984it [05:16, 19.01it/s]"
     ]
    },
    {
     "name": "stdout",
     "output_type": "stream",
     "text": [
      "[213 156 827 885]\n",
      "[202  56 777 860]\n",
      "[166 154 763 906]\n",
      "[161 135 740 877]\n"
     ]
    },
    {
     "name": "stderr",
     "output_type": "stream",
     "text": [
      "preprocessing: 6988it [05:16, 18.93it/s]"
     ]
    },
    {
     "name": "stdout",
     "output_type": "stream",
     "text": [
      "[191 245 719 948]\n",
      "[239 192 783 878]\n",
      "[261 152 821 853]\n",
      "[300 190 838 876]\n"
     ]
    },
    {
     "name": "stderr",
     "output_type": "stream",
     "text": [
      "preprocessing: 6992it [05:16, 18.93it/s]"
     ]
    },
    {
     "name": "stdout",
     "output_type": "stream",
     "text": [
      "[123 195 686 869]\n",
      "[182 135 786 895]\n",
      "[303 238 856 848]\n",
      "[306 148 852 880]\n",
      "[291 208 840 833]\n"
     ]
    },
    {
     "name": "stderr",
     "output_type": "stream",
     "text": [
      "preprocessing: 6998it [05:17, 19.24it/s]"
     ]
    },
    {
     "name": "stdout",
     "output_type": "stream",
     "text": [
      "[345 226 922 856]\n",
      "[281 178 975 908]\n",
      "[146 165 746 880]\n",
      "[141 199 757 891]\n"
     ]
    },
    {
     "name": "stderr",
     "output_type": "stream",
     "text": [
      "\r",
      "preprocessing: 7000it [05:17, 17.55it/s]"
     ]
    },
    {
     "name": "stdout",
     "output_type": "stream",
     "text": [
      "[279 227 751 853]\n",
      "[180 170 798 847]\n",
      "[199 154 742 908]\n"
     ]
    },
    {
     "name": "stderr",
     "output_type": "stream",
     "text": [
      "preprocessing: 7005it [05:17, 18.61it/s]"
     ]
    },
    {
     "name": "stdout",
     "output_type": "stream",
     "text": [
      "[210 228 785 919]\n",
      "[228 195 792 891]\n",
      "[251 176 839 834]\n",
      "[184 257 714 902]\n",
      "[156 170 710 886]\n"
     ]
    },
    {
     "name": "stderr",
     "output_type": "stream",
     "text": [
      "preprocessing: 7011it [05:17, 21.25it/s]"
     ]
    },
    {
     "name": "stdout",
     "output_type": "stream",
     "text": [
      "[295 105 949 888]\n",
      "[261 161 788 914]\n",
      "[324 207 877 896]\n",
      "[280 209 795 836]\n",
      "[169 142 754 918]\n"
     ]
    },
    {
     "name": "stderr",
     "output_type": "stream",
     "text": [
      "\r",
      "preprocessing: 7014it [05:17, 21.90it/s]"
     ]
    },
    {
     "name": "stdout",
     "output_type": "stream",
     "text": [
      "[284 195 791 829]\n",
      "[218  80 840 890]\n",
      "[283 203 842 861]\n",
      "[263 184 840 885]\n",
      "[316 158 901 891]\n"
     ]
    },
    {
     "name": "stderr",
     "output_type": "stream",
     "text": [
      "preprocessing: 7020it [05:18, 20.49it/s]"
     ]
    },
    {
     "name": "stdout",
     "output_type": "stream",
     "text": [
      "[190 118 757 863]\n",
      "[232 200 771 881]\n",
      "[273 183 849 888]\n",
      "[171 161 746 877]\n"
     ]
    },
    {
     "name": "stderr",
     "output_type": "stream",
     "text": [
      "\r",
      "preprocessing: 7023it [05:18, 19.92it/s]"
     ]
    },
    {
     "name": "stdout",
     "output_type": "stream",
     "text": [
      "[264 216 793 857]\n",
      "[332 180 853 819]\n",
      "[186 192 776 864]\n",
      "[297 205 859 823]\n"
     ]
    },
    {
     "name": "stderr",
     "output_type": "stream",
     "text": [
      "\r",
      "preprocessing: 7026it [05:18, 19.57it/s]"
     ]
    },
    {
     "name": "stdout",
     "output_type": "stream",
     "text": [
      "[165 185 748 854]\n",
      "[343 204 961 905]\n",
      "[141 125 741 921]\n",
      "[208 182 793 912]\n"
     ]
    },
    {
     "name": "stderr",
     "output_type": "stream",
     "text": [
      "preprocessing: 7031it [05:18, 19.54it/s]"
     ]
    },
    {
     "name": "stdout",
     "output_type": "stream",
     "text": [
      "[205 190 763 876]\n",
      "[235 184 765 870]\n",
      "[369 171 926 923]\n",
      "[250 169 743 878]\n",
      "[315 246 910 829]\n"
     ]
    },
    {
     "name": "stderr",
     "output_type": "stream",
     "text": [
      "preprocessing: 7037it [05:18, 20.38it/s]"
     ]
    },
    {
     "name": "stdout",
     "output_type": "stream",
     "text": [
      "[269 239 791 895]\n",
      "[111 120 769 905]\n",
      "[247 212 821 848]\n",
      "[296 194 832 847]\n",
      "[122 187 722 873]\n"
     ]
    },
    {
     "name": "stderr",
     "output_type": "stream",
     "text": [
      "\r",
      "preprocessing: 7040it [05:19, 20.78it/s]"
     ]
    },
    {
     "name": "stdout",
     "output_type": "stream",
     "text": [
      "[207 187 771 900]\n",
      "[292 147 857 847]\n",
      "[247 187 774 905]\n",
      "[329 213 862 852]\n",
      "[ 95 196 727 824]\n"
     ]
    },
    {
     "name": "stderr",
     "output_type": "stream",
     "text": [
      "preprocessing: 7046it [05:19, 20.48it/s]"
     ]
    },
    {
     "name": "stdout",
     "output_type": "stream",
     "text": [
      "[272 187 783 875]\n",
      "[234 222 810 829]\n",
      "[254 205 766 839]\n",
      "[322 190 863 873]\n",
      "[244 192 785 886]\n"
     ]
    },
    {
     "name": "stderr",
     "output_type": "stream",
     "text": [
      "preprocessing: 7051it [05:19, 19.80it/s]"
     ]
    },
    {
     "name": "stdout",
     "output_type": "stream",
     "text": [
      "[227 245 784 836]\n",
      "[228 212 778 937]\n",
      "[345 177 888 910]\n",
      "[211 186 744 904]\n"
     ]
    },
    {
     "name": "stderr",
     "output_type": "stream",
     "text": [
      "preprocessing: 7055it [05:19, 18.21it/s]"
     ]
    },
    {
     "name": "stdout",
     "output_type": "stream",
     "text": [
      "[261 214 772 927]\n",
      "[175 133 810 857]\n",
      "[303 263 899 835]\n",
      "[226 134 775 915]\n"
     ]
    },
    {
     "name": "stderr",
     "output_type": "stream",
     "text": [
      "preprocessing: 7060it [05:20, 19.00it/s]"
     ]
    },
    {
     "name": "stdout",
     "output_type": "stream",
     "text": [
      "[251 234 795 958]\n",
      "[274 247 846 837]\n",
      "[202 173 777 896]\n",
      "[250 195 816 818]\n"
     ]
    },
    {
     "name": "stderr",
     "output_type": "stream",
     "text": [
      "preprocessing: 7064it [05:20, 19.43it/s]"
     ]
    },
    {
     "name": "stdout",
     "output_type": "stream",
     "text": [
      "[271 294 887 842]\n",
      "[206 142 731 935]\n",
      "[232 166 826 888]\n",
      "[342 204 865 858]\n"
     ]
    },
    {
     "name": "stderr",
     "output_type": "stream",
     "text": [
      "preprocessing: 7068it [05:20, 18.43it/s]"
     ]
    },
    {
     "name": "stdout",
     "output_type": "stream",
     "text": [
      "[270 143 802 842]\n",
      "[259 212 813 903]\n",
      "[170 129 723 858]\n",
      "[290 153 898 902]\n"
     ]
    },
    {
     "name": "stderr",
     "output_type": "stream",
     "text": [
      "preprocessing: 7072it [05:20, 18.28it/s]"
     ]
    },
    {
     "name": "stdout",
     "output_type": "stream",
     "text": [
      "[268 164 815 891]\n",
      "[176 155 769 889]\n",
      "[322 175 843 910]\n",
      "[323 189 879 905]\n"
     ]
    },
    {
     "name": "stderr",
     "output_type": "stream",
     "text": [
      "preprocessing: 7076it [05:21, 18.58it/s]"
     ]
    },
    {
     "name": "stdout",
     "output_type": "stream",
     "text": [
      "[227 220 797 882]\n",
      "[227 172 770 862]\n",
      "[244 201 822 853]\n",
      "[118 192 682 836]\n"
     ]
    },
    {
     "name": "stderr",
     "output_type": "stream",
     "text": [
      "preprocessing: 7080it [05:21, 17.92it/s]"
     ]
    },
    {
     "name": "stdout",
     "output_type": "stream",
     "text": [
      "[231 217 814 889]\n",
      "[355 176 909 933]\n",
      "[220 236 788 891]\n",
      "[256 170 751 880]\n"
     ]
    },
    {
     "name": "stderr",
     "output_type": "stream",
     "text": [
      "preprocessing: 7084it [05:21, 18.39it/s]"
     ]
    },
    {
     "name": "stdout",
     "output_type": "stream",
     "text": [
      "[310 173 893 842]\n",
      "[223 246 720 874]\n",
      "[305 222 854 856]\n",
      "[220 190 784 880]\n"
     ]
    },
    {
     "name": "stderr",
     "output_type": "stream",
     "text": [
      "preprocessing: 7088it [05:21, 18.76it/s]"
     ]
    },
    {
     "name": "stdout",
     "output_type": "stream",
     "text": [
      "[136 171 739 906]\n",
      "[327 224 812 929]\n",
      "[200 206 743 898]\n",
      "[267 213 785 841]\n",
      "[292 174 788 813]\n"
     ]
    },
    {
     "name": "stderr",
     "output_type": "stream",
     "text": [
      "preprocessing: 7093it [05:21, 19.36it/s]"
     ]
    },
    {
     "name": "stdout",
     "output_type": "stream",
     "text": [
      "[309 166 836 834]\n",
      "[362 207 844 809]\n",
      "[355 190 916 890]\n",
      "[256 159 818 884]\n",
      "[247 134 780 848]\n"
     ]
    },
    {
     "name": "stderr",
     "output_type": "stream",
     "text": [
      "\r",
      "preprocessing: 7096it [05:22, 19.84it/s]"
     ]
    },
    {
     "name": "stdout",
     "output_type": "stream",
     "text": [
      "[271 174 808 859]\n",
      "[193 207 786 835]\n",
      "[206 184 751 906]\n",
      "[299 257 866 853]\n",
      "[ 72 181 742 909]\n"
     ]
    },
    {
     "name": "stderr",
     "output_type": "stream",
     "text": [
      "preprocessing: 7101it [05:22, 17.75it/s]"
     ]
    },
    {
     "name": "stdout",
     "output_type": "stream",
     "text": [
      "[ 62 182 700 907]\n",
      "[298 212 840 899]\n",
      "[240 211 808 886]\n"
     ]
    },
    {
     "name": "stderr",
     "output_type": "stream",
     "text": [
      "preprocessing: 7106it [05:22, 19.20it/s]"
     ]
    },
    {
     "name": "stdout",
     "output_type": "stream",
     "text": [
      "[153 144 775 907]\n",
      "[163 166 771 890]\n",
      "[281 173 859 876]\n",
      "[276 164 835 845]\n",
      "[215 200 775 875]\n"
     ]
    },
    {
     "name": "stderr",
     "output_type": "stream",
     "text": [
      "\r",
      "preprocessing: 7109it [05:22, 20.71it/s]"
     ]
    },
    {
     "name": "stdout",
     "output_type": "stream",
     "text": [
      "[266 187 813 880]\n",
      "[181 160 797 891]\n",
      "[276 130 895 886]\n",
      "[212 218 782 858]\n",
      "[252 185 815 818]\n"
     ]
    },
    {
     "name": "stderr",
     "output_type": "stream",
     "text": [
      "preprocessing: 7115it [05:23, 19.47it/s]"
     ]
    },
    {
     "name": "stdout",
     "output_type": "stream",
     "text": [
      "[280 189 803 877]\n",
      "[286 201 774 856]\n",
      "[197 178 759 867]\n",
      "[169 143 693 921]\n"
     ]
    },
    {
     "name": "stderr",
     "output_type": "stream",
     "text": [
      "preprocessing: 7119it [05:23, 17.58it/s]"
     ]
    },
    {
     "name": "stdout",
     "output_type": "stream",
     "text": [
      "[209 198 784 899]\n",
      "[213 148 781 873]\n",
      "[180 236 752 893]\n",
      "[247 264 805 884]\n"
     ]
    },
    {
     "name": "stderr",
     "output_type": "stream",
     "text": [
      "preprocessing: 7123it [05:23, 17.59it/s]"
     ]
    },
    {
     "name": "stdout",
     "output_type": "stream",
     "text": [
      "[292 103 849 910]\n",
      "[289 154 841 966]\n",
      "[277 205 833 862]\n",
      "[275 208 857 852]\n"
     ]
    },
    {
     "name": "stderr",
     "output_type": "stream",
     "text": [
      "preprocessing: 7127it [05:23, 18.23it/s]"
     ]
    },
    {
     "name": "stdout",
     "output_type": "stream",
     "text": [
      "[295 186 837 903]\n",
      "[313 207 864 832]\n",
      "[258 232 831 955]\n",
      "[299 173 885 843]\n"
     ]
    },
    {
     "name": "stderr",
     "output_type": "stream",
     "text": [
      "preprocessing: 7132it [05:24, 19.25it/s]"
     ]
    },
    {
     "name": "stdout",
     "output_type": "stream",
     "text": [
      "[285 144 857 925]\n",
      "[223 142 809 888]\n",
      "[224 192 780 881]\n",
      "[248 175 834 883]\n",
      "[325 172 851 871]\n"
     ]
    },
    {
     "name": "stderr",
     "output_type": "stream",
     "text": [
      "preprocessing: 7136it [05:24, 19.14it/s]"
     ]
    },
    {
     "name": "stdout",
     "output_type": "stream",
     "text": [
      "[257 204 856 838]\n",
      "[280 215 896 842]\n",
      "[226 175 777 898]\n",
      "[205 264 763 791]\n",
      "[110 112 726 895]\n"
     ]
    },
    {
     "name": "stderr",
     "output_type": "stream",
     "text": [
      "preprocessing: 7142it [05:24, 18.11it/s]"
     ]
    },
    {
     "name": "stdout",
     "output_type": "stream",
     "text": [
      "[134 115 711 899]\n",
      "[250 160 834 914]\n",
      "[390 154 908 938]\n",
      "[166  82 778 901]\n"
     ]
    },
    {
     "name": "stderr",
     "output_type": "stream",
     "text": [
      "preprocessing: 7146it [05:24, 17.93it/s]"
     ]
    },
    {
     "name": "stdout",
     "output_type": "stream",
     "text": [
      "[188 192 761 905]\n",
      "[163 196 744 862]\n",
      "[155 173 760 884]\n",
      "[181 189 792 849]\n"
     ]
    },
    {
     "name": "stderr",
     "output_type": "stream",
     "text": [
      "preprocessing: 7150it [05:25, 18.11it/s]"
     ]
    },
    {
     "name": "stdout",
     "output_type": "stream",
     "text": [
      "[174  86 738 858]\n",
      "[155 153 745 886]\n",
      "[221 208 805 898]\n",
      "[216 193 767 844]\n"
     ]
    },
    {
     "name": "stderr",
     "output_type": "stream",
     "text": [
      "preprocessing: 7154it [05:25, 17.58it/s]"
     ]
    },
    {
     "name": "stdout",
     "output_type": "stream",
     "text": [
      "[153 168 673 884]\n",
      "[207 134 773 899]\n",
      "[146 180 764 881]\n",
      "[192 188 800 863]\n"
     ]
    },
    {
     "name": "stderr",
     "output_type": "stream",
     "text": [
      "\r",
      "preprocessing: 7156it [05:25, 18.11it/s]"
     ]
    },
    {
     "name": "stdout",
     "output_type": "stream",
     "text": [
      "[168 177 765 827]\n",
      "[237 232 739 904]\n",
      "[215 170 713 902]\n",
      "[174 147 760 918]\n"
     ]
    },
    {
     "name": "stderr",
     "output_type": "stream",
     "text": [
      "preprocessing: 7161it [05:25, 19.14it/s]"
     ]
    },
    {
     "name": "stdout",
     "output_type": "stream",
     "text": [
      "[208 179 744 840]\n",
      "[172 146 731 881]\n",
      "[259 217 788 891]\n",
      "[250 123 764 872]\n",
      "[179 230 663 881]\n"
     ]
    },
    {
     "name": "stderr",
     "output_type": "stream",
     "text": [
      "preprocessing: 7166it [05:25, 19.52it/s]"
     ]
    },
    {
     "name": "stdout",
     "output_type": "stream",
     "text": [
      "[285 215 803 864]\n",
      "[275 149 883 890]\n",
      "[325 194 993 901]\n",
      "[259 238 846 869]\n",
      "[263 222 809 848]\n"
     ]
    },
    {
     "name": "stderr",
     "output_type": "stream",
     "text": [
      "preprocessing: 7171it [05:26, 19.49it/s]"
     ]
    },
    {
     "name": "stdout",
     "output_type": "stream",
     "text": [
      "[327 206 871 872]\n",
      "[251 237 820 875]\n",
      "[294 153 894 924]\n",
      "[242 192 787 897]\n"
     ]
    },
    {
     "name": "stderr",
     "output_type": "stream",
     "text": [
      "preprocessing: 7175it [05:26, 19.54it/s]"
     ]
    },
    {
     "name": "stdout",
     "output_type": "stream",
     "text": [
      "[237 148 847 928]\n",
      "[138 111 749 872]\n",
      "[235 161 783 871]\n",
      "[260 255 782 806]\n"
     ]
    },
    {
     "name": "stderr",
     "output_type": "stream",
     "text": [
      "preprocessing: 7180it [05:26, 19.69it/s]"
     ]
    },
    {
     "name": "stdout",
     "output_type": "stream",
     "text": [
      "[ 95 104 733 942]\n",
      "[298 217 941 918]\n",
      "[196 204 736 880]\n",
      "[269 181 858 893]\n",
      "[117 112 747 882]\n"
     ]
    },
    {
     "name": "stderr",
     "output_type": "stream",
     "text": [
      "preprocessing: 7185it [05:26, 19.68it/s]"
     ]
    },
    {
     "name": "stdout",
     "output_type": "stream",
     "text": [
      "[229 196 832 876]\n",
      "[231 209 782 979]\n",
      "[233 247 783 878]\n",
      "[127 178 752 859]\n",
      "[257 190 779 878]\n"
     ]
    },
    {
     "name": "stderr",
     "output_type": "stream",
     "text": [
      "preprocessing: 7190it [05:27, 19.48it/s]"
     ]
    },
    {
     "name": "stdout",
     "output_type": "stream",
     "text": [
      "[216 126 828 825]\n",
      "[353 175 895 846]\n",
      "[231 191 766 903]\n",
      "[192 202 780 837]\n"
     ]
    },
    {
     "name": "stderr",
     "output_type": "stream",
     "text": [
      "preprocessing: 7194it [05:27, 19.59it/s]"
     ]
    },
    {
     "name": "stdout",
     "output_type": "stream",
     "text": [
      "[287 199 835 935]\n",
      "[123 138 695 863]\n",
      "[253 186 779 869]\n",
      "[229 131 892 861]\n"
     ]
    },
    {
     "name": "stderr",
     "output_type": "stream",
     "text": [
      "preprocessing: 7198it [05:27, 18.57it/s]"
     ]
    },
    {
     "name": "stdout",
     "output_type": "stream",
     "text": [
      "[274 154 896 844]\n",
      "[245 192 818 826]\n",
      "[241 190 782 910]\n",
      "[237 115 796 879]\n"
     ]
    },
    {
     "name": "stderr",
     "output_type": "stream",
     "text": [
      "\r",
      "preprocessing: 7200it [05:27, 16.08it/s]"
     ]
    },
    {
     "name": "stdout",
     "output_type": "stream",
     "text": [
      "[290  96 920 819]\n",
      "[215 221 797 897]\n",
      "[272 226 789 862]\n"
     ]
    },
    {
     "name": "stderr",
     "output_type": "stream",
     "text": [
      "preprocessing: 7205it [05:27, 18.03it/s]"
     ]
    },
    {
     "name": "stdout",
     "output_type": "stream",
     "text": [
      "[261  72 819 823]\n",
      "[228 213 796 951]\n",
      "[306 228 875 862]\n",
      "[308 238 886 882]\n",
      "[207 204 771 924]\n"
     ]
    },
    {
     "name": "stderr",
     "output_type": "stream",
     "text": [
      "\r",
      "preprocessing: 7208it [05:28, 19.47it/s]"
     ]
    },
    {
     "name": "stdout",
     "output_type": "stream",
     "text": [
      "[203 106 777 800]\n",
      "[253 168 772 903]\n",
      "[206 223 746 913]\n",
      "[270 148 817 897]\n",
      "[223 247 747 859]\n"
     ]
    },
    {
     "name": "stderr",
     "output_type": "stream",
     "text": [
      "preprocessing: 7214it [05:28, 20.57it/s]"
     ]
    },
    {
     "name": "stdout",
     "output_type": "stream",
     "text": [
      "[228 164 759 853]\n",
      "[ 90 212 738 885]\n",
      "[241 196 778 949]\n",
      "[292 248 823 839]\n",
      "[302 201 807 970]\n"
     ]
    },
    {
     "name": "stderr",
     "output_type": "stream",
     "text": [
      "preprocessing: 7220it [05:28, 19.87it/s]"
     ]
    },
    {
     "name": "stdout",
     "output_type": "stream",
     "text": [
      "[260 199 782 878]\n",
      "[303 180 892 860]\n",
      "[315 221 896 901]\n",
      "[273 164 858 813]\n"
     ]
    },
    {
     "name": "stderr",
     "output_type": "stream",
     "text": [
      "preprocessing: 7224it [05:28, 19.76it/s]"
     ]
    },
    {
     "name": "stdout",
     "output_type": "stream",
     "text": [
      "[240 179 813 925]\n",
      "[266 241 777 794]\n",
      "[303 115 927 892]\n",
      "[142 112 772 917]\n"
     ]
    },
    {
     "name": "stderr",
     "output_type": "stream",
     "text": [
      "\r",
      "preprocessing: 7226it [05:28, 19.63it/s]"
     ]
    },
    {
     "name": "stdout",
     "output_type": "stream",
     "text": [
      "[211 169 776 905]\n",
      "[228 199 789 897]\n",
      "[228 202 791 871]\n",
      "[121 127 725 895]\n"
     ]
    },
    {
     "name": "stderr",
     "output_type": "stream",
     "text": [
      "preprocessing: 7232it [05:29, 18.28it/s]"
     ]
    },
    {
     "name": "stdout",
     "output_type": "stream",
     "text": [
      "[254 201 837 889]\n",
      "[173 209 759 932]\n",
      "[180 241 751 911]\n",
      "[268 178 798 867]\n"
     ]
    },
    {
     "name": "stderr",
     "output_type": "stream",
     "text": [
      "preprocessing: 7236it [05:29, 17.99it/s]"
     ]
    },
    {
     "name": "stdout",
     "output_type": "stream",
     "text": [
      "[286 106 941 860]\n",
      "[237 189 847 834]\n",
      "[219 179 770 926]\n",
      "[259 210 832 871]\n"
     ]
    },
    {
     "name": "stderr",
     "output_type": "stream",
     "text": [
      "\r",
      "preprocessing: 7238it [05:29, 18.04it/s]"
     ]
    },
    {
     "name": "stdout",
     "output_type": "stream",
     "text": [
      "[286 163 888 874]\n",
      "[227 166 796 870]\n",
      "[126 177 742 886]\n",
      "[330 150 881 863]\n"
     ]
    },
    {
     "name": "stderr",
     "output_type": "stream",
     "text": [
      "preprocessing: 7243it [05:29, 18.55it/s]"
     ]
    },
    {
     "name": "stdout",
     "output_type": "stream",
     "text": [
      "[226 203 722 880]\n",
      "[349 161 934 919]\n",
      "[263 182 780 854]\n",
      "[286 200 814 853]\n"
     ]
    },
    {
     "name": "stderr",
     "output_type": "stream",
     "text": [
      "preprocessing: 7247it [05:30, 18.87it/s]"
     ]
    },
    {
     "name": "stdout",
     "output_type": "stream",
     "text": [
      "[187 145 844 888]\n",
      "[226 233 786 904]\n",
      "[259 203 812 887]\n",
      "[116 106 744 939]\n"
     ]
    },
    {
     "name": "stderr",
     "output_type": "stream",
     "text": [
      "preprocessing: 7251it [05:30, 18.81it/s]"
     ]
    },
    {
     "name": "stdout",
     "output_type": "stream",
     "text": [
      "[149 169 759 901]\n",
      "[251 218 761 911]\n",
      "[271 183 813 876]\n",
      "[287 207 816 863]\n"
     ]
    },
    {
     "name": "stderr",
     "output_type": "stream",
     "text": [
      "preprocessing: 7255it [05:30, 18.24it/s]"
     ]
    },
    {
     "name": "stdout",
     "output_type": "stream",
     "text": [
      "[263 205 827 914]\n",
      "[293 183 773 858]\n",
      "[189 169 776 963]\n",
      "[208 187 751 861]\n"
     ]
    },
    {
     "name": "stderr",
     "output_type": "stream",
     "text": [
      "preprocessing: 7259it [05:30, 18.58it/s]"
     ]
    },
    {
     "name": "stdout",
     "output_type": "stream",
     "text": [
      "[239 193 773 909]\n",
      "[247 209 813 767]\n",
      "[232 216 812 823]\n",
      "[301 201 898 841]\n"
     ]
    },
    {
     "name": "stderr",
     "output_type": "stream",
     "text": [
      "preprocessing: 7263it [05:30, 18.76it/s]"
     ]
    },
    {
     "name": "stdout",
     "output_type": "stream",
     "text": [
      "[277 244 872 815]\n",
      "[231 124 795 852]\n",
      "[216 215 816 859]\n",
      "[109 172 741 891]\n"
     ]
    },
    {
     "name": "stderr",
     "output_type": "stream",
     "text": [
      "preprocessing: 7268it [05:31, 19.49it/s]"
     ]
    },
    {
     "name": "stdout",
     "output_type": "stream",
     "text": [
      "[272 191 824 905]\n",
      "[107 168 724 903]\n",
      "[220 199 808 945]\n",
      "[239 205 783 888]\n"
     ]
    },
    {
     "name": "stderr",
     "output_type": "stream",
     "text": [
      "preprocessing: 7272it [05:31, 19.25it/s]"
     ]
    },
    {
     "name": "stdout",
     "output_type": "stream",
     "text": [
      "[103 194 742 911]\n",
      "[181 209 747 891]\n",
      "[230 186 781 837]\n",
      "[192 171 752 865]\n"
     ]
    },
    {
     "name": "stderr",
     "output_type": "stream",
     "text": [
      "preprocessing: 7276it [05:31, 18.47it/s]"
     ]
    },
    {
     "name": "stdout",
     "output_type": "stream",
     "text": [
      "[231 179 765 910]\n",
      "[202 216 792 879]\n",
      "[278 161 916 881]\n",
      "[214 185 812 892]\n"
     ]
    },
    {
     "name": "stderr",
     "output_type": "stream",
     "text": [
      "preprocessing: 7280it [05:31, 18.48it/s]"
     ]
    },
    {
     "name": "stdout",
     "output_type": "stream",
     "text": [
      "[103 103 768 844]\n",
      "[115 139 693 872]\n",
      "[255 257 829 880]\n",
      "[240 152 838 883]\n"
     ]
    },
    {
     "name": "stderr",
     "output_type": "stream",
     "text": [
      "preprocessing: 7284it [05:32, 19.16it/s]"
     ]
    },
    {
     "name": "stdout",
     "output_type": "stream",
     "text": [
      "[227 205 730 943]\n",
      "[186 208 762 818]\n",
      "[236 171 774 893]\n",
      "[260 176 838 860]\n"
     ]
    },
    {
     "name": "stderr",
     "output_type": "stream",
     "text": [
      "preprocessing: 7288it [05:32, 18.33it/s]"
     ]
    },
    {
     "name": "stdout",
     "output_type": "stream",
     "text": [
      "[256 237 800 879]\n",
      "[195 202 753 848]\n",
      "[272 149 771 827]\n",
      "[198 267 766 822]\n"
     ]
    },
    {
     "name": "stderr",
     "output_type": "stream",
     "text": [
      "\r",
      "preprocessing: 7290it [05:32, 18.39it/s]"
     ]
    },
    {
     "name": "stdout",
     "output_type": "stream",
     "text": [
      "[143 131 770 937]\n",
      "[188 201 763 865]\n",
      "[251 172 835 842]\n",
      "[304 174 876 885]\n"
     ]
    },
    {
     "name": "stderr",
     "output_type": "stream",
     "text": [
      "preprocessing: 7296it [05:32, 17.83it/s]"
     ]
    },
    {
     "name": "stdout",
     "output_type": "stream",
     "text": [
      "[221 109 785 857]\n",
      "[306 197 892 853]\n",
      "[286 138 812 878]\n",
      "[315 109 903 852]\n"
     ]
    },
    {
     "name": "stderr",
     "output_type": "stream",
     "text": [
      "\r",
      "preprocessing: 7298it [05:32, 18.15it/s]"
     ]
    },
    {
     "name": "stdout",
     "output_type": "stream",
     "text": [
      "[155 181 784 881]\n",
      "[206 218 799 916]\n",
      "[196 194 750 907]\n",
      "[298 236 872 929]\n"
     ]
    },
    {
     "name": "stderr",
     "output_type": "stream",
     "text": [
      "preprocessing: 7302it [05:33, 15.95it/s]"
     ]
    },
    {
     "name": "stdout",
     "output_type": "stream",
     "text": [
      "[137 101 714 874]\n",
      "[253 165 793 856]\n",
      "[204 191 759 873]\n",
      "[290 138 863 798]\n",
      "[262 166 853 811]\n"
     ]
    },
    {
     "name": "stderr",
     "output_type": "stream",
     "text": [
      "preprocessing: 7308it [05:33, 18.92it/s]"
     ]
    },
    {
     "name": "stdout",
     "output_type": "stream",
     "text": [
      "[231 191 794 834]\n",
      "[175 143 774 934]\n",
      "[241 199 810 892]\n",
      "[241 255 782 871]\n",
      "[249 213 857 852]\n"
     ]
    },
    {
     "name": "stderr",
     "output_type": "stream",
     "text": [
      "preprocessing: 7313it [05:33, 19.45it/s]"
     ]
    },
    {
     "name": "stdout",
     "output_type": "stream",
     "text": [
      "[231 176 766 881]\n",
      "[232 177 776 919]\n",
      "[244 224 767 856]\n",
      "[219 206 710 830]\n"
     ]
    },
    {
     "name": "stderr",
     "output_type": "stream",
     "text": [
      "preprocessing: 7317it [05:33, 18.82it/s]"
     ]
    },
    {
     "name": "stdout",
     "output_type": "stream",
     "text": [
      "[172 158 766 884]\n",
      "[331 176 894 898]\n",
      "[265 204 818 893]\n",
      "[271 207 825 862]\n"
     ]
    },
    {
     "name": "stderr",
     "output_type": "stream",
     "text": [
      "preprocessing: 7321it [05:34, 18.73it/s]"
     ]
    },
    {
     "name": "stdout",
     "output_type": "stream",
     "text": [
      "[300 197 832 900]\n",
      "[309 193 803 854]\n",
      "[267 192 848 897]\n",
      "[246 150 791 883]\n"
     ]
    },
    {
     "name": "stderr",
     "output_type": "stream",
     "text": [
      "preprocessing: 7325it [05:34, 18.75it/s]"
     ]
    },
    {
     "name": "stdout",
     "output_type": "stream",
     "text": [
      "[243 158 829 866]\n",
      "[212 200 752 944]\n",
      "[216 224 860 848]\n",
      "[157 150 704 875]\n"
     ]
    },
    {
     "name": "stderr",
     "output_type": "stream",
     "text": [
      "preprocessing: 7329it [05:34, 17.96it/s]"
     ]
    },
    {
     "name": "stdout",
     "output_type": "stream",
     "text": [
      "[114 112 700 900]\n",
      "[306 146 859 997]\n",
      "[121 198 742 828]\n",
      "[227 158 759 839]\n"
     ]
    },
    {
     "name": "stderr",
     "output_type": "stream",
     "text": [
      "preprocessing: 7333it [05:34, 17.61it/s]"
     ]
    },
    {
     "name": "stdout",
     "output_type": "stream",
     "text": [
      "[241 189 795 865]\n",
      "[219 203 800 900]\n",
      "[238 242 815 854]\n",
      "[192 151 796 873]\n"
     ]
    },
    {
     "name": "stderr",
     "output_type": "stream",
     "text": [
      "preprocessing: 7337it [05:34, 18.39it/s]"
     ]
    },
    {
     "name": "stdout",
     "output_type": "stream",
     "text": [
      "[234 257 799 865]\n",
      "[245 191 819 888]\n",
      "[ 64 100 662 842]\n",
      "[241 180 805 867]\n"
     ]
    },
    {
     "name": "stderr",
     "output_type": "stream",
     "text": [
      "preprocessing: 7342it [05:35, 18.84it/s]"
     ]
    },
    {
     "name": "stdout",
     "output_type": "stream",
     "text": [
      "[274 166 850 915]\n",
      "[164 176 757 881]\n",
      "[289 179 825 890]\n",
      "[219 212 777 885]\n"
     ]
    },
    {
     "name": "stderr",
     "output_type": "stream",
     "text": [
      "preprocessing: 7346it [05:35, 19.27it/s]"
     ]
    },
    {
     "name": "stdout",
     "output_type": "stream",
     "text": [
      "[283 159 860 919]\n",
      "[290 167 830 928]\n",
      "[181 116 819 809]\n",
      "[345 116 947 922]\n"
     ]
    },
    {
     "name": "stderr",
     "output_type": "stream",
     "text": [
      "\r",
      "preprocessing: 7348it [05:35, 19.16it/s]"
     ]
    },
    {
     "name": "stdout",
     "output_type": "stream",
     "text": [
      "[228 164 745 887]\n",
      "[241 179 769 841]\n",
      "[151 164 707 871]\n",
      "[285 208 825 864]\n",
      "[260 157 796 864]\n"
     ]
    },
    {
     "name": "stderr",
     "output_type": "stream",
     "text": [
      "preprocessing: 7354it [05:35, 19.91it/s]"
     ]
    },
    {
     "name": "stdout",
     "output_type": "stream",
     "text": [
      "[206 218 768 870]\n",
      "[304 169 820 858]\n",
      "[225 144 814 911]\n",
      "[258  94 866 886]\n",
      "[291 238 864 877]\n"
     ]
    },
    {
     "name": "stderr",
     "output_type": "stream",
     "text": [
      "preprocessing: 7360it [05:36, 19.70it/s]"
     ]
    },
    {
     "name": "stdout",
     "output_type": "stream",
     "text": [
      "[295 136 863 862]\n",
      "[146 155 739 881]\n",
      "[223 202 757 887]\n",
      "[218 192 788 880]\n"
     ]
    },
    {
     "name": "stderr",
     "output_type": "stream",
     "text": [
      "\r",
      "preprocessing: 7363it [05:36, 19.72it/s]"
     ]
    },
    {
     "name": "stdout",
     "output_type": "stream",
     "text": [
      "[283 166 817 843]\n",
      "[184 212 770 878]\n",
      "[284 172 907 879]\n",
      "[136 122 751 840]\n"
     ]
    },
    {
     "name": "stderr",
     "output_type": "stream",
     "text": [
      "preprocessing: 7367it [05:36, 19.74it/s]"
     ]
    },
    {
     "name": "stdout",
     "output_type": "stream",
     "text": [
      "[280 175 848 854]\n",
      "[235 198 779 902]\n",
      "[236 174 816 815]\n",
      "[252 167 801 866]\n"
     ]
    },
    {
     "name": "stderr",
     "output_type": "stream",
     "text": [
      "preprocessing: 7372it [05:36, 19.79it/s]"
     ]
    },
    {
     "name": "stdout",
     "output_type": "stream",
     "text": [
      "[285 131 916 870]\n",
      "[257 226 756 880]\n",
      "[247 198 769 905]\n",
      "[171 166 756 889]\n"
     ]
    },
    {
     "name": "stderr",
     "output_type": "stream",
     "text": [
      "\r",
      "preprocessing: 7374it [05:36, 19.63it/s]"
     ]
    },
    {
     "name": "stdout",
     "output_type": "stream",
     "text": [
      "[250 157 745 912]\n",
      "[270 195 841 869]\n",
      "[198 201 777 848]\n",
      "[328 163 909 844]\n",
      "[298 189 855 849]\n"
     ]
    },
    {
     "name": "stderr",
     "output_type": "stream",
     "text": [
      "preprocessing: 7380it [05:37, 19.97it/s]"
     ]
    },
    {
     "name": "stdout",
     "output_type": "stream",
     "text": [
      "[224 148 765 912]\n",
      "[268 186 779 959]\n",
      "[273 195 901 823]\n",
      "[277 194 838 840]\n"
     ]
    },
    {
     "name": "stderr",
     "output_type": "stream",
     "text": [
      "preprocessing: 7385it [05:37, 19.97it/s]"
     ]
    },
    {
     "name": "stdout",
     "output_type": "stream",
     "text": [
      "[236 206 797 842]\n",
      "[256 166 810 862]\n",
      "[308 199 892 864]\n",
      "[188 143 730 867]\n"
     ]
    },
    {
     "name": "stderr",
     "output_type": "stream",
     "text": [
      "preprocessing: 7389it [05:37, 18.94it/s]"
     ]
    },
    {
     "name": "stdout",
     "output_type": "stream",
     "text": [
      "[250 169 820 848]\n",
      "[242 246 819 865]\n",
      "[307 200 830 806]\n",
      "[ 87 150 752 902]\n"
     ]
    },
    {
     "name": "stderr",
     "output_type": "stream",
     "text": [
      "preprocessing: 7393it [05:37, 18.69it/s]"
     ]
    },
    {
     "name": "stdout",
     "output_type": "stream",
     "text": [
      "[174 202 733 860]\n",
      "[220 211 769 877]\n",
      "[263 195 840 866]\n",
      "[223 165 787 862]\n",
      "[174 156 767 902]\n"
     ]
    },
    {
     "name": "stderr",
     "output_type": "stream",
     "text": [
      "preprocessing: 7397it [05:38, 18.06it/s]"
     ]
    },
    {
     "name": "stdout",
     "output_type": "stream",
     "text": [
      "[242 217 744 916]\n",
      "[306 174 903 888]\n",
      "[285 204 755 836]\n",
      "[294 237 778 827]\n"
     ]
    },
    {
     "name": "stderr",
     "output_type": "stream",
     "text": [
      "preprocessing: 7401it [05:38, 15.88it/s]"
     ]
    },
    {
     "name": "stdout",
     "output_type": "stream",
     "text": [
      "[217 304 787 807]\n",
      "[274 252 804 856]\n",
      "[150 166 778 924]\n"
     ]
    },
    {
     "name": "stderr",
     "output_type": "stream",
     "text": [
      "\r",
      "preprocessing: 7403it [05:38, 16.50it/s]"
     ]
    },
    {
     "name": "stdout",
     "output_type": "stream",
     "text": [
      "[321 152 930 811]\n",
      "[240 215 796 929]\n",
      "[147 150 782 984]\n",
      "[218 189 746 859]\n",
      "[259 206 806 864]\n"
     ]
    },
    {
     "name": "stderr",
     "output_type": "stream",
     "text": [
      "preprocessing: 7409it [05:38, 19.10it/s]"
     ]
    },
    {
     "name": "stdout",
     "output_type": "stream",
     "text": [
      "[257 206 768 863]\n",
      "[224 201 786 899]\n",
      "[227  96 825 773]\n",
      "[172 151 836 934]\n",
      "[242 118 839 812]\n"
     ]
    },
    {
     "name": "stderr",
     "output_type": "stream",
     "text": [
      "preprocessing: 7415it [05:39, 18.71it/s]"
     ]
    },
    {
     "name": "stdout",
     "output_type": "stream",
     "text": [
      "[301 174 885 948]\n",
      "[206 198 773 890]\n",
      "[123 165 733 877]\n",
      "[241 253 822 918]\n"
     ]
    },
    {
     "name": "stderr",
     "output_type": "stream",
     "text": [
      "preprocessing: 7419it [05:39, 18.20it/s]"
     ]
    },
    {
     "name": "stdout",
     "output_type": "stream",
     "text": [
      "[157 161 776 880]\n",
      "[124 124 709 881]\n",
      "[195 226 802 802]\n",
      "[311 176 866 833]\n"
     ]
    },
    {
     "name": "stderr",
     "output_type": "stream",
     "text": [
      "preprocessing: 7423it [05:39, 18.19it/s]"
     ]
    },
    {
     "name": "stdout",
     "output_type": "stream",
     "text": [
      "[171 283 757 808]\n",
      "[235 177 812 902]\n",
      "[237 206 843 869]\n",
      "[200 177 760 886]\n"
     ]
    },
    {
     "name": "stderr",
     "output_type": "stream",
     "text": [
      "preprocessing: 7427it [05:39, 18.61it/s]"
     ]
    },
    {
     "name": "stdout",
     "output_type": "stream",
     "text": [
      "[323 179 908 953]\n",
      "[278 179 831 816]\n",
      "[274 177 858 847]\n",
      "[252 200 760 870]\n",
      "[283 177 867 886]\n"
     ]
    },
    {
     "name": "stderr",
     "output_type": "stream",
     "text": [
      "preprocessing: 7431it [05:39, 18.60it/s]"
     ]
    },
    {
     "name": "stdout",
     "output_type": "stream",
     "text": [
      "[199 221 794 868]\n",
      "[216 229 729 851]\n",
      "[217 102 771 945]\n",
      "[281 194 767 895]\n"
     ]
    },
    {
     "name": "stderr",
     "output_type": "stream",
     "text": [
      "preprocessing: 7435it [05:40, 18.62it/s]"
     ]
    },
    {
     "name": "stdout",
     "output_type": "stream",
     "text": [
      "[343 216 887 808]\n",
      "[219 182 812 850]\n",
      "[274 199 824 842]\n",
      "[293 192 828 897]\n"
     ]
    },
    {
     "name": "stderr",
     "output_type": "stream",
     "text": [
      "preprocessing: 7439it [05:40, 19.12it/s]"
     ]
    },
    {
     "name": "stdout",
     "output_type": "stream",
     "text": [
      "[241 123 781 891]\n",
      "[323 188 902 885]\n",
      "[278 200 729 856]\n",
      "[145 200 737 913]\n",
      "[111 131 639 867]\n"
     ]
    },
    {
     "name": "stderr",
     "output_type": "stream",
     "text": [
      "preprocessing: 7443it [05:40, 19.33it/s]"
     ]
    },
    {
     "name": "stdout",
     "output_type": "stream",
     "text": [
      "[268 173 817 885]\n",
      "[231 285 775 813]\n",
      "[253 232 764 826]\n"
     ]
    },
    {
     "name": "stderr",
     "output_type": "stream",
     "text": [
      "preprocessing: 7447it [05:40, 18.73it/s]"
     ]
    },
    {
     "name": "stdout",
     "output_type": "stream",
     "text": [
      "[188 234 736 938]\n",
      "[202 221 760 887]\n",
      "[170 210 747 835]\n",
      "[208 162 748 905]\n"
     ]
    },
    {
     "name": "stderr",
     "output_type": "stream",
     "text": [
      "preprocessing: 7451it [05:40, 18.56it/s]"
     ]
    },
    {
     "name": "stdout",
     "output_type": "stream",
     "text": [
      "[109 175 708 876]\n",
      "[237 186 783 926]\n",
      "[245 138 855 832]\n",
      "[245 261 856 851]\n"
     ]
    },
    {
     "name": "stderr",
     "output_type": "stream",
     "text": [
      "preprocessing: 7455it [05:41, 18.20it/s]"
     ]
    },
    {
     "name": "stdout",
     "output_type": "stream",
     "text": [
      "[274 224 825 876]\n",
      "[231 229 808 821]\n",
      "[272 209 855 878]\n",
      "[271 154 831 892]\n"
     ]
    },
    {
     "name": "stderr",
     "output_type": "stream",
     "text": [
      "preprocessing: 7460it [05:41, 18.87it/s]"
     ]
    },
    {
     "name": "stdout",
     "output_type": "stream",
     "text": [
      "[305 170 906 865]\n",
      "[291 176 847 831]\n",
      "[244 161 807 865]\n",
      "[205 272 765 847]\n"
     ]
    },
    {
     "name": "stderr",
     "output_type": "stream",
     "text": [
      "preprocessing: 7464it [05:41, 18.66it/s]"
     ]
    },
    {
     "name": "stdout",
     "output_type": "stream",
     "text": [
      "[150 142 782 837]\n",
      "[281 252 915 909]\n",
      "[257 229 813 884]\n",
      "[316 215 881 820]\n"
     ]
    },
    {
     "name": "stderr",
     "output_type": "stream",
     "text": [
      "preprocessing: 7468it [05:41, 18.47it/s]"
     ]
    },
    {
     "name": "stdout",
     "output_type": "stream",
     "text": [
      "[228 200 762 940]\n",
      "[237 235 790 825]\n",
      "[336 221 903 845]\n",
      "[255 159 795 867]\n"
     ]
    },
    {
     "name": "stderr",
     "output_type": "stream",
     "text": [
      "preprocessing: 7472it [05:42, 18.20it/s]"
     ]
    },
    {
     "name": "stdout",
     "output_type": "stream",
     "text": [
      "[250 150 835 858]\n",
      "[230 163 772 860]\n",
      "[157 165 756 890]\n",
      "[260 241 751 896]\n"
     ]
    },
    {
     "name": "stderr",
     "output_type": "stream",
     "text": [
      "preprocessing: 7476it [05:42, 18.46it/s]"
     ]
    },
    {
     "name": "stdout",
     "output_type": "stream",
     "text": [
      "[195 199 698 919]\n",
      "[213 204 790 882]\n",
      "[388 228 870 858]\n",
      "[227 260 785 852]\n"
     ]
    },
    {
     "name": "stderr",
     "output_type": "stream",
     "text": [
      "preprocessing: 7480it [05:42, 18.55it/s]"
     ]
    },
    {
     "name": "stdout",
     "output_type": "stream",
     "text": [
      "[220 197 775 852]\n",
      "[275 212 845 794]\n",
      "[219 127 735 912]\n",
      "[139 116 755 980]\n"
     ]
    },
    {
     "name": "stderr",
     "output_type": "stream",
     "text": [
      "preprocessing: 7484it [05:42, 18.70it/s]"
     ]
    },
    {
     "name": "stdout",
     "output_type": "stream",
     "text": [
      "[262 168 880 846]\n",
      "[231 203 820 800]\n",
      "[103 198 656 827]\n",
      "[177 164 682 895]\n",
      "[190 117 814 911]\n"
     ]
    },
    {
     "name": "stderr",
     "output_type": "stream",
     "text": [
      "preprocessing: 7489it [05:43, 18.84it/s]"
     ]
    },
    {
     "name": "stdout",
     "output_type": "stream",
     "text": [
      "[227 181 766 900]\n",
      "[ 75 114 736 878]\n",
      "[210 160 776 813]\n",
      "[163 173 750 910]\n"
     ]
    },
    {
     "name": "stderr",
     "output_type": "stream",
     "text": [
      "preprocessing: 7493it [05:43, 18.69it/s]"
     ]
    },
    {
     "name": "stdout",
     "output_type": "stream",
     "text": [
      "[249 181 843 888]\n",
      "[298 127 905 885]\n",
      "[250 223 778 908]\n",
      "[192 199 740 879]\n"
     ]
    },
    {
     "name": "stderr",
     "output_type": "stream",
     "text": [
      "preprocessing: 7497it [05:43, 18.13it/s]"
     ]
    },
    {
     "name": "stdout",
     "output_type": "stream",
     "text": [
      "[314 215 899 876]\n",
      "[213 194 770 946]\n",
      "[237 221 793 854]\n",
      "[235  91 828 847]\n"
     ]
    },
    {
     "name": "stderr",
     "output_type": "stream",
     "text": [
      "\r",
      "preprocessing: 7499it [05:43, 17.66it/s]"
     ]
    },
    {
     "name": "stdout",
     "output_type": "stream",
     "text": [
      "[306 169 902 833]\n",
      "[318 201 851 828]\n",
      "[201 182 744 850]\n"
     ]
    },
    {
     "name": "stderr",
     "output_type": "stream",
     "text": [
      "preprocessing: 7503it [05:43, 16.07it/s]"
     ]
    },
    {
     "name": "stdout",
     "output_type": "stream",
     "text": [
      "[204 154 794 903]\n",
      "[225 128 817 941]\n",
      "[146 204 759 964]\n",
      "[355 196 909 836]\n"
     ]
    },
    {
     "name": "stderr",
     "output_type": "stream",
     "text": [
      "preprocessing: 7508it [05:44, 18.38it/s]"
     ]
    },
    {
     "name": "stdout",
     "output_type": "stream",
     "text": [
      "[279 196 860 898]\n",
      "[157 136 738 868]\n",
      "[115 183 746 945]\n",
      "[207 118 807 952]\n",
      "[177 125 937 913]\n"
     ]
    },
    {
     "name": "stderr",
     "output_type": "stream",
     "text": [
      "preprocessing: 7512it [05:44, 18.77it/s]"
     ]
    },
    {
     "name": "stdout",
     "output_type": "stream",
     "text": [
      "[222 151 788 915]\n",
      "[214 102 841 947]\n",
      "[338 228 884 832]\n",
      "[235 140 897 947]\n"
     ]
    },
    {
     "name": "stderr",
     "output_type": "stream",
     "text": [
      "preprocessing: 7516it [05:44, 18.49it/s]"
     ]
    },
    {
     "name": "stdout",
     "output_type": "stream",
     "text": [
      "[295 185 784 863]\n",
      "[123 180 722 905]\n",
      "[254 184 815 947]\n",
      "[205 145 782 951]\n"
     ]
    },
    {
     "name": "stderr",
     "output_type": "stream",
     "text": [
      "preprocessing: 7521it [05:44, 18.68it/s]"
     ]
    },
    {
     "name": "stdout",
     "output_type": "stream",
     "text": [
      "[274 192 800 936]\n",
      "[267 188 906 884]\n",
      "[259 175 874 953]\n",
      "[247 190 824 923]\n"
     ]
    },
    {
     "name": "stderr",
     "output_type": "stream",
     "text": [
      "preprocessing: 7525it [05:45, 17.77it/s]"
     ]
    },
    {
     "name": "stdout",
     "output_type": "stream",
     "text": [
      "[319 117 879 871]\n",
      "[207 206 785 898]\n",
      "[201 211 739 902]\n",
      "[221 217 793 956]\n"
     ]
    },
    {
     "name": "stderr",
     "output_type": "stream",
     "text": [
      "preprocessing: 7529it [05:45, 17.97it/s]"
     ]
    },
    {
     "name": "stdout",
     "output_type": "stream",
     "text": [
      "[268 203 825 809]\n",
      "[341 181 907 918]\n",
      "[297 140 907 976]\n",
      "[222 106 854 962]\n"
     ]
    },
    {
     "name": "stderr",
     "output_type": "stream",
     "text": [
      "preprocessing: 7533it [05:45, 18.06it/s]"
     ]
    },
    {
     "name": "stdout",
     "output_type": "stream",
     "text": [
      "[206 148 750 919]\n",
      "[228 148 805 992]\n",
      "[222 121 804 890]\n",
      "[ 61 181 711 898]\n"
     ]
    },
    {
     "name": "stderr",
     "output_type": "stream",
     "text": [
      "\r",
      "preprocessing: 7536it [05:45, 18.35it/s]"
     ]
    },
    {
     "name": "stdout",
     "output_type": "stream",
     "text": [
      "[233 196 769 932]\n",
      "[188 178 756 912]\n",
      "[181 152 809 969]\n",
      "[276 221 909 861]\n",
      "[254 210 793 923]\n"
     ]
    },
    {
     "name": "stderr",
     "output_type": "stream",
     "text": [
      "preprocessing: 7541it [05:45, 19.21it/s]"
     ]
    },
    {
     "name": "stdout",
     "output_type": "stream",
     "text": [
      "[245 140 793 945]\n",
      "[257 201 796 850]\n",
      "[215 159 776 912]\n",
      "[183 173 794 967]\n"
     ]
    },
    {
     "name": "stderr",
     "output_type": "stream",
     "text": [
      "preprocessing: 7545it [05:46, 18.97it/s]"
     ]
    },
    {
     "name": "stdout",
     "output_type": "stream",
     "text": [
      "[175 178 753 957]\n",
      "[239 179 804 899]\n",
      "[217 206 786 900]\n",
      "[ 56  96 789 894]\n"
     ]
    },
    {
     "name": "stderr",
     "output_type": "stream",
     "text": [
      "preprocessing: 7549it [05:46, 19.16it/s]"
     ]
    },
    {
     "name": "stdout",
     "output_type": "stream",
     "text": [
      "[273 251 809 934]\n",
      "[263 206 791 900]\n",
      "[257 208 774 883]\n",
      "[225 112 784 831]\n"
     ]
    },
    {
     "name": "stderr",
     "output_type": "stream",
     "text": [
      "preprocessing: 7553it [05:46, 19.09it/s]"
     ]
    },
    {
     "name": "stdout",
     "output_type": "stream",
     "text": [
      "[235 185 763 939]\n",
      "[204 129 854 873]\n",
      "[179 119 761 878]\n",
      "[217 210 762 929]\n",
      "[285 184 875 932]\n"
     ]
    },
    {
     "name": "stderr",
     "output_type": "stream",
     "text": [
      "preprocessing: 7559it [05:46, 18.99it/s]"
     ]
    },
    {
     "name": "stdout",
     "output_type": "stream",
     "text": [
      "[261 198 824 979]\n",
      "[192 141 800 975]\n",
      "[190 182 796 932]\n",
      "[253 190 818 980]\n"
     ]
    },
    {
     "name": "stderr",
     "output_type": "stream",
     "text": [
      "preprocessing: 7563it [05:47, 18.30it/s]"
     ]
    },
    {
     "name": "stdout",
     "output_type": "stream",
     "text": [
      "[167 122 792 932]\n",
      "[265 189 849 921]\n",
      "[201 184 785 824]\n",
      "[184 146 806 955]\n"
     ]
    },
    {
     "name": "stderr",
     "output_type": "stream",
     "text": [
      "preprocessing: 7567it [05:47, 18.36it/s]"
     ]
    },
    {
     "name": "stdout",
     "output_type": "stream",
     "text": [
      "[298 174 881 861]\n",
      "[136 168 748 861]\n",
      "[239 141 904 845]\n",
      "[212 187 806 957]\n"
     ]
    },
    {
     "name": "stderr",
     "output_type": "stream",
     "text": [
      "preprocessing: 7571it [05:47, 18.30it/s]"
     ]
    },
    {
     "name": "stdout",
     "output_type": "stream",
     "text": [
      "[339 174 918 888]\n",
      "[220 165 782 896]\n",
      "[298 202 891 957]\n",
      "[257 187 832 912]\n"
     ]
    },
    {
     "name": "stderr",
     "output_type": "stream",
     "text": [
      "preprocessing: 7575it [05:47, 17.76it/s]"
     ]
    },
    {
     "name": "stdout",
     "output_type": "stream",
     "text": [
      "[231 212 779 958]\n",
      "[191 149 773 893]\n",
      "[344 178 874 812]\n",
      "[223 166 778 958]\n"
     ]
    },
    {
     "name": "stderr",
     "output_type": "stream",
     "text": [
      "preprocessing: 7579it [05:47, 17.51it/s]"
     ]
    },
    {
     "name": "stdout",
     "output_type": "stream",
     "text": [
      "[209 182 804 881]\n",
      "[230 191 788 912]\n",
      "[277 205 817 897]\n",
      "[259 175 849 927]\n"
     ]
    },
    {
     "name": "stderr",
     "output_type": "stream",
     "text": [
      "preprocessing: 7583it [05:48, 17.60it/s]"
     ]
    },
    {
     "name": "stdout",
     "output_type": "stream",
     "text": [
      "[265 190 837 937]\n",
      "[279 227 821 932]\n",
      "[259 205 787 930]\n",
      "[249 196 773 932]\n"
     ]
    },
    {
     "name": "stderr",
     "output_type": "stream",
     "text": [
      "\r",
      "preprocessing: 7585it [05:48, 17.74it/s]"
     ]
    },
    {
     "name": "stdout",
     "output_type": "stream",
     "text": [
      "[163 139 743 902]\n",
      "[210 212 788 976]\n",
      "[263 164 820 921]\n",
      "[131 160 744 925]\n"
     ]
    },
    {
     "name": "stderr",
     "output_type": "stream",
     "text": [
      "preprocessing: 7589it [05:48, 17.50it/s]"
     ]
    },
    {
     "name": "stdout",
     "output_type": "stream",
     "text": [
      "[120 143 758 875]\n",
      "[272 199 852 897]\n",
      "[283 173 860 918]\n"
     ]
    },
    {
     "name": "stderr",
     "output_type": "stream",
     "text": [
      "preprocessing: 7593it [05:48, 16.81it/s]"
     ]
    },
    {
     "name": "stdout",
     "output_type": "stream",
     "text": [
      "[ 200  159  800 1008]\n",
      "[232  64 931 837]\n",
      "[257 179 849 837]\n",
      "[201 174 769 909]\n",
      "[235 156 820 871]\n"
     ]
    },
    {
     "name": "stderr",
     "output_type": "stream",
     "text": [
      "preprocessing: 7599it [05:49, 18.14it/s]"
     ]
    },
    {
     "name": "stdout",
     "output_type": "stream",
     "text": [
      "[160 171 753 929]\n",
      "[314 177 897 944]\n",
      "[268 182 857 966]\n",
      "[ 50  73 712 938]\n"
     ]
    },
    {
     "name": "stderr",
     "output_type": "stream",
     "text": [
      "\r",
      "preprocessing: 7601it [05:49, 15.99it/s]"
     ]
    },
    {
     "name": "stdout",
     "output_type": "stream",
     "text": [
      "[132 148 789 903]\n",
      "[185 185 781 963]\n",
      "[225 156 786 947]\n"
     ]
    },
    {
     "name": "stderr",
     "output_type": "stream",
     "text": [
      "preprocessing: 7605it [05:49, 16.53it/s]"
     ]
    },
    {
     "name": "stdout",
     "output_type": "stream",
     "text": [
      "[199 179 765 894]\n",
      "[248 214 768 860]\n",
      "[258 215 815 966]\n",
      "[261 196 824 970]\n"
     ]
    },
    {
     "name": "stderr",
     "output_type": "stream",
     "text": [
      "preprocessing: 7609it [05:49, 16.60it/s]"
     ]
    },
    {
     "name": "stdout",
     "output_type": "stream",
     "text": [
      "[170 156 787 917]\n",
      "[211 144 814 927]\n",
      "[247 134 967 930]\n",
      "[275 189 832 902]\n"
     ]
    },
    {
     "name": "stderr",
     "output_type": "stream",
     "text": [
      "preprocessing: 7613it [05:49, 17.31it/s]"
     ]
    },
    {
     "name": "stdout",
     "output_type": "stream",
     "text": [
      "[107 120 743 961]\n",
      "[189 159 834 916]\n",
      "[239 201 794 967]\n",
      "[317 185 853 959]\n"
     ]
    },
    {
     "name": "stderr",
     "output_type": "stream",
     "text": [
      "preprocessing: 7617it [05:50, 17.97it/s]"
     ]
    },
    {
     "name": "stdout",
     "output_type": "stream",
     "text": [
      "[293 230 816 916]\n",
      "[203 174 765 905]\n",
      "[188 196 753 910]\n",
      "[211 173 831 957]\n"
     ]
    },
    {
     "name": "stderr",
     "output_type": "stream",
     "text": [
      "preprocessing: 7621it [05:50, 18.68it/s]"
     ]
    },
    {
     "name": "stdout",
     "output_type": "stream",
     "text": [
      "[278 206 929 842]\n",
      "[206 213 767 931]\n",
      "[263 123 935 789]\n",
      "[222 164 918 990]\n"
     ]
    },
    {
     "name": "stderr",
     "output_type": "stream",
     "text": [
      "preprocessing: 7626it [05:50, 19.37it/s]"
     ]
    },
    {
     "name": "stdout",
     "output_type": "stream",
     "text": [
      "[186 134 793 841]\n",
      "[147 166 749 900]\n",
      "[269 201 849 853]\n",
      "[307 223 827 933]\n",
      "[202 132 786 945]\n"
     ]
    },
    {
     "name": "stderr",
     "output_type": "stream",
     "text": [
      "preprocessing: 7631it [05:50, 19.44it/s]"
     ]
    },
    {
     "name": "stdout",
     "output_type": "stream",
     "text": [
      "[263 224 749 943]\n",
      "[239 151 897 916]\n",
      "[130 144 744 899]\n",
      "[221 158 777 982]\n"
     ]
    },
    {
     "name": "stderr",
     "output_type": "stream",
     "text": [
      "preprocessing: 7635it [05:51, 18.75it/s]"
     ]
    },
    {
     "name": "stdout",
     "output_type": "stream",
     "text": [
      "[235 212 773 933]\n",
      "[235 208 779 931]\n",
      "[153 178 772 933]\n",
      "[192 216 807 887]\n"
     ]
    },
    {
     "name": "stderr",
     "output_type": "stream",
     "text": [
      "preprocessing: 7639it [05:51, 18.98it/s]"
     ]
    },
    {
     "name": "stdout",
     "output_type": "stream",
     "text": [
      "[288 168 870 927]\n",
      "[381 158 950 868]\n",
      "[377 191 939 959]\n",
      "[171 162 753 896]\n"
     ]
    },
    {
     "name": "stderr",
     "output_type": "stream",
     "text": [
      "\r",
      "preprocessing: 7641it [05:51, 18.98it/s]"
     ]
    },
    {
     "name": "stdout",
     "output_type": "stream",
     "text": [
      "[180 193 810 939]\n",
      "[181 152 770 931]\n",
      "[158 177 754 960]\n",
      "[227 142 820 909]\n"
     ]
    },
    {
     "name": "stderr",
     "output_type": "stream",
     "text": [
      "preprocessing: 7647it [05:51, 19.68it/s]"
     ]
    },
    {
     "name": "stdout",
     "output_type": "stream",
     "text": [
      "[194 229 777 908]\n",
      "[164 111 831 937]\n",
      "[171 157 756 941]\n",
      "[238 206 834 918]\n"
     ]
    },
    {
     "name": "stderr",
     "output_type": "stream",
     "text": [
      "preprocessing: 7651it [05:51, 19.21it/s]"
     ]
    },
    {
     "name": "stdout",
     "output_type": "stream",
     "text": [
      "[265 218 831 929]\n",
      "[214 199 771 952]\n",
      "[239 103 876 946]\n",
      "[205 173 770 948]\n"
     ]
    },
    {
     "name": "stderr",
     "output_type": "stream",
     "text": [
      "preprocessing: 7655it [05:52, 18.79it/s]"
     ]
    },
    {
     "name": "stdout",
     "output_type": "stream",
     "text": [
      "[238 186 740 951]\n",
      "[207  57 810 860]\n",
      "[249 206 819 860]\n",
      "[261 180 801 920]\n"
     ]
    },
    {
     "name": "stderr",
     "output_type": "stream",
     "text": [
      "preprocessing: 7659it [05:52, 17.87it/s]"
     ]
    },
    {
     "name": "stdout",
     "output_type": "stream",
     "text": [
      "[160 146 808 904]\n",
      "[135 157 761 927]\n",
      "[122 141 788 956]\n",
      "[301 210 825 952]\n"
     ]
    },
    {
     "name": "stderr",
     "output_type": "stream",
     "text": [
      "preprocessing: 7663it [05:52, 18.02it/s]"
     ]
    },
    {
     "name": "stdout",
     "output_type": "stream",
     "text": [
      "[276 202 888 879]\n",
      "[ 92 131 730 905]\n",
      "[200 129 758 961]\n",
      "[261 167 830 885]\n"
     ]
    },
    {
     "name": "stderr",
     "output_type": "stream",
     "text": [
      "preprocessing: 7667it [05:52, 18.43it/s]"
     ]
    },
    {
     "name": "stdout",
     "output_type": "stream",
     "text": [
      "[276 172 881 992]\n",
      "[114 141 822 890]\n",
      "[208 220 780 920]\n",
      "[359 191 918 902]\n"
     ]
    },
    {
     "name": "stderr",
     "output_type": "stream",
     "text": [
      "preprocessing: 7671it [05:53, 18.04it/s]"
     ]
    },
    {
     "name": "stdout",
     "output_type": "stream",
     "text": [
      "[214 123 785 878]\n",
      "[140 162 742 913]\n",
      "[170 157 748 921]\n",
      "[268 214 784 944]\n"
     ]
    },
    {
     "name": "stderr",
     "output_type": "stream",
     "text": [
      "preprocessing: 7675it [05:53, 18.00it/s]"
     ]
    },
    {
     "name": "stdout",
     "output_type": "stream",
     "text": [
      "[226 203 894 869]\n",
      "[177 138 772 900]\n",
      "[303 188 935 900]\n",
      "[259 173 826 871]\n"
     ]
    },
    {
     "name": "stderr",
     "output_type": "stream",
     "text": [
      "preprocessing: 7679it [05:53, 17.71it/s]"
     ]
    },
    {
     "name": "stdout",
     "output_type": "stream",
     "text": [
      "[261 187 838 901]\n",
      "[199 119 790 933]\n",
      "[217 182 878 860]\n"
     ]
    },
    {
     "name": "stderr",
     "output_type": "stream",
     "text": [
      "preprocessing: 7683it [05:53, 18.03it/s]"
     ]
    },
    {
     "name": "stdout",
     "output_type": "stream",
     "text": [
      "[259 180 735 883]\n",
      "[195 163 766 917]\n",
      "[165 130 737 925]\n",
      "[216 221 753 914]\n"
     ]
    },
    {
     "name": "stderr",
     "output_type": "stream",
     "text": [
      "preprocessing: 7687it [05:53, 18.24it/s]"
     ]
    },
    {
     "name": "stdout",
     "output_type": "stream",
     "text": [
      "[200 164 787 958]\n",
      "[259 185 834 870]\n",
      "[144 186 754 918]\n",
      "[248 187 821 940]\n"
     ]
    },
    {
     "name": "stderr",
     "output_type": "stream",
     "text": [
      "preprocessing: 7691it [05:54, 18.50it/s]"
     ]
    },
    {
     "name": "stdout",
     "output_type": "stream",
     "text": [
      "[205 110 806 894]\n",
      "[298 180 853 921]\n",
      "[269 193 883 954]\n",
      "[131 191 762 945]\n"
     ]
    },
    {
     "name": "stderr",
     "output_type": "stream",
     "text": [
      "preprocessing: 7695it [05:54, 19.15it/s]"
     ]
    },
    {
     "name": "stdout",
     "output_type": "stream",
     "text": [
      "[227 183 821 996]\n",
      "[232 187 756 947]\n",
      "[345 189 964 843]\n",
      "[284 174 852 905]\n"
     ]
    },
    {
     "name": "stderr",
     "output_type": "stream",
     "text": [
      "preprocessing: 7699it [05:54, 19.18it/s]"
     ]
    },
    {
     "name": "stdout",
     "output_type": "stream",
     "text": [
      "[300 181 908 904]\n",
      "[177 151 748 938]\n",
      "[265 217 829 940]\n",
      "[ 72 115 741 847]\n",
      "[297 194 917 906]\n"
     ]
    },
    {
     "name": "stderr",
     "output_type": "stream",
     "text": [
      "preprocessing: 7703it [05:54, 15.99it/s]"
     ]
    },
    {
     "name": "stdout",
     "output_type": "stream",
     "text": [
      "[256 175 883 874]\n",
      "[320 103 984 859]\n",
      "[216 329 790 910]\n",
      "[240 200 817 960]\n",
      "[254 212 792 916]\n"
     ]
    },
    {
     "name": "stderr",
     "output_type": "stream",
     "text": [
      "preprocessing: 7709it [05:55, 19.60it/s]"
     ]
    },
    {
     "name": "stdout",
     "output_type": "stream",
     "text": [
      "[250 187 792 921]\n",
      "[260 163 909 915]\n",
      "[128 153 757 965]\n",
      "[235 118 847 989]\n",
      "[147 143 790 920]\n"
     ]
    },
    {
     "name": "stderr",
     "output_type": "stream",
     "text": [
      "\r",
      "preprocessing: 7712it [05:55, 20.31it/s]"
     ]
    },
    {
     "name": "stdout",
     "output_type": "stream",
     "text": [
      "[197 163 798 891]\n",
      "[244 217 833 928]\n",
      "[300 194 836 916]\n",
      "[304 161 912 955]\n",
      "[167 205 733 943]\n"
     ]
    },
    {
     "name": "stderr",
     "output_type": "stream",
     "text": [
      "preprocessing: 7718it [05:55, 20.22it/s]"
     ]
    },
    {
     "name": "stdout",
     "output_type": "stream",
     "text": [
      "[245 101 891 957]\n",
      "[208 202 754 864]\n",
      "[202 188 761 938]\n",
      "[204 183 795 947]\n",
      "[283 188 844 983]\n"
     ]
    },
    {
     "name": "stderr",
     "output_type": "stream",
     "text": [
      "preprocessing: 7724it [05:55, 19.85it/s]"
     ]
    },
    {
     "name": "stdout",
     "output_type": "stream",
     "text": [
      "[237 171 812 879]\n",
      "[208 150 739 899]\n",
      "[174 148 792 931]\n",
      "[176 207 807 942]\n"
     ]
    },
    {
     "name": "stderr",
     "output_type": "stream",
     "text": [
      "preprocessing: 7728it [05:56, 19.18it/s]"
     ]
    },
    {
     "name": "stdout",
     "output_type": "stream",
     "text": [
      "[205 203 784 957]\n",
      "[236 139 848 974]\n",
      "[308 175 802 883]\n",
      "[251 222 820 903]\n"
     ]
    },
    {
     "name": "stderr",
     "output_type": "stream",
     "text": [
      "preprocessing: 7732it [05:56, 18.19it/s]"
     ]
    },
    {
     "name": "stdout",
     "output_type": "stream",
     "text": [
      "[231 163 777 969]\n",
      "[ 139  137  771 1009]\n",
      "[223 186 794 916]\n",
      "[257 225 836 989]\n"
     ]
    },
    {
     "name": "stderr",
     "output_type": "stream",
     "text": [
      "\r",
      "preprocessing: 7734it [05:56, 18.00it/s]"
     ]
    },
    {
     "name": "stdout",
     "output_type": "stream",
     "text": [
      "[193 127 748 927]\n",
      "[251 163 839 922]\n",
      "[227 165 828 996]\n",
      "[220 200 769 884]\n"
     ]
    },
    {
     "name": "stderr",
     "output_type": "stream",
     "text": [
      "preprocessing: 7738it [05:56, 18.09it/s]"
     ]
    },
    {
     "name": "stdout",
     "output_type": "stream",
     "text": [
      "[254 208 788 936]\n",
      "[105 102 745 960]\n",
      "[235 131 933 928]\n"
     ]
    },
    {
     "name": "stderr",
     "output_type": "stream",
     "text": [
      "preprocessing: 7742it [05:56, 17.93it/s]"
     ]
    },
    {
     "name": "stdout",
     "output_type": "stream",
     "text": [
      "[233 160 788 941]\n",
      "[244 191 832 994]\n",
      "[162 114 821 863]\n",
      "[248 207 790 981]\n"
     ]
    },
    {
     "name": "stderr",
     "output_type": "stream",
     "text": [
      "preprocessing: 7746it [05:57, 18.43it/s]"
     ]
    },
    {
     "name": "stdout",
     "output_type": "stream",
     "text": [
      "[202 147 833 871]\n",
      "[318 255 896 918]\n",
      "[228 197 820 837]\n",
      "[213 132 812 919]\n",
      "[280 225 868 935]\n"
     ]
    },
    {
     "name": "stderr",
     "output_type": "stream",
     "text": [
      "preprocessing: 7751it [05:57, 19.18it/s]"
     ]
    },
    {
     "name": "stdout",
     "output_type": "stream",
     "text": [
      "[179 168 763 907]\n",
      "[232 203 835 966]\n",
      "[ 40  90 751 908]\n",
      "[168 170 764 951]\n",
      "[239 109 781 860]\n"
     ]
    },
    {
     "name": "stderr",
     "output_type": "stream",
     "text": [
      "preprocessing: 7757it [05:57, 18.40it/s]"
     ]
    },
    {
     "name": "stdout",
     "output_type": "stream",
     "text": [
      "[137 180 773 947]\n",
      "[265 165 909 857]\n",
      "[205 157 801 910]\n",
      "[ 70 148 768 920]\n"
     ]
    },
    {
     "name": "stderr",
     "output_type": "stream",
     "text": [
      "preprocessing: 7761it [05:57, 18.10it/s]"
     ]
    },
    {
     "name": "stdout",
     "output_type": "stream",
     "text": [
      "[260 143 850 921]\n",
      "[284 235 790 893]\n",
      "[191 119 769 932]\n",
      "[152 177 779 944]\n"
     ]
    },
    {
     "name": "stderr",
     "output_type": "stream",
     "text": [
      "preprocessing: 7765it [05:58, 18.18it/s]"
     ]
    },
    {
     "name": "stdout",
     "output_type": "stream",
     "text": [
      "[221 186 783 823]\n",
      "[111  68 764 868]\n",
      "[314 199 916 877]\n",
      "[239 211 793 992]\n"
     ]
    },
    {
     "name": "stderr",
     "output_type": "stream",
     "text": [
      "preprocessing: 7769it [05:58, 18.07it/s]"
     ]
    },
    {
     "name": "stdout",
     "output_type": "stream",
     "text": [
      "[264 168 798 952]\n",
      "[185 171 752 892]\n",
      "[164 160 746 926]\n",
      "[270  97 897 868]\n"
     ]
    },
    {
     "name": "stderr",
     "output_type": "stream",
     "text": [
      "preprocessing: 7773it [05:58, 17.98it/s]"
     ]
    },
    {
     "name": "stdout",
     "output_type": "stream",
     "text": [
      "[228 197 743 881]\n",
      "[190 238 779 876]\n",
      "[240 201 795 970]\n",
      "[229 142 826 953]\n"
     ]
    },
    {
     "name": "stderr",
     "output_type": "stream",
     "text": [
      "preprocessing: 7777it [05:58, 18.41it/s]"
     ]
    },
    {
     "name": "stdout",
     "output_type": "stream",
     "text": [
      "[192 148 781 935]\n",
      "[243 208 780 894]\n",
      "[275 172 881 945]\n",
      "[174 115 746 923]\n"
     ]
    },
    {
     "name": "stderr",
     "output_type": "stream",
     "text": [
      "preprocessing: 7781it [05:58, 18.63it/s]"
     ]
    },
    {
     "name": "stdout",
     "output_type": "stream",
     "text": [
      "[197 185 756 872]\n",
      "[206 203 762 954]\n",
      "[295 197 837 981]\n",
      "[275 193 858 910]\n"
     ]
    },
    {
     "name": "stderr",
     "output_type": "stream",
     "text": [
      "preprocessing: 7785it [05:59, 18.66it/s]"
     ]
    },
    {
     "name": "stdout",
     "output_type": "stream",
     "text": [
      "[253 183 804 950]\n",
      "[198 182 828 942]\n",
      "[189 135 874 932]\n",
      "[ 98 153 755 907]\n"
     ]
    },
    {
     "name": "stderr",
     "output_type": "stream",
     "text": [
      "\r",
      "preprocessing: 7788it [05:59, 18.94it/s]"
     ]
    },
    {
     "name": "stdout",
     "output_type": "stream",
     "text": [
      "[243 227 804 946]\n",
      "[159 170 763 841]\n",
      "[228 175 772 910]\n",
      "[268 142 927 908]\n"
     ]
    },
    {
     "name": "stderr",
     "output_type": "stream",
     "text": [
      "preprocessing: 7792it [05:59, 18.31it/s]"
     ]
    },
    {
     "name": "stdout",
     "output_type": "stream",
     "text": [
      "[231 165 790 940]\n",
      "[196 159 797 957]\n",
      "[206 152 850 929]\n",
      "[161 157 822 873]\n"
     ]
    },
    {
     "name": "stderr",
     "output_type": "stream",
     "text": [
      "preprocessing: 7796it [05:59, 17.92it/s]"
     ]
    },
    {
     "name": "stdout",
     "output_type": "stream",
     "text": [
      "[222 142 856 957]\n",
      "[220 172 771 908]\n",
      "[329 143 869 878]\n",
      "[181 138 722 859]\n"
     ]
    },
    {
     "name": "stderr",
     "output_type": "stream",
     "text": [
      "preprocessing: 7800it [06:00, 16.24it/s]"
     ]
    },
    {
     "name": "stdout",
     "output_type": "stream",
     "text": [
      "[282 203 784 924]\n",
      "[107 132 731 918]\n",
      "[239 207 783 963]\n"
     ]
    },
    {
     "name": "stderr",
     "output_type": "stream",
     "text": [
      "\r",
      "preprocessing: 7802it [06:00, 16.52it/s]"
     ]
    },
    {
     "name": "stdout",
     "output_type": "stream",
     "text": [
      "[234 223 834 964]\n",
      "[286 180 855 983]\n",
      "[226 185 814 905]\n",
      "[108 113 744 952]\n",
      "[254 148 834 896]\n"
     ]
    },
    {
     "name": "stderr",
     "output_type": "stream",
     "text": [
      "preprocessing: 7808it [06:00, 18.76it/s]"
     ]
    },
    {
     "name": "stdout",
     "output_type": "stream",
     "text": [
      "[280 204 780 919]\n",
      "[155 173 759 921]\n",
      "[ 96 117 712 906]\n",
      "[267 234 822 981]\n",
      "[326 197 893 940]\n"
     ]
    },
    {
     "name": "stderr",
     "output_type": "stream",
     "text": [
      "preprocessing: 7814it [06:00, 18.43it/s]"
     ]
    },
    {
     "name": "stdout",
     "output_type": "stream",
     "text": [
      "[216 234 792 947]\n",
      "[272 198 788 788]\n",
      "[251  64 892 907]\n",
      "[137 122 760 944]\n"
     ]
    },
    {
     "name": "stderr",
     "output_type": "stream",
     "text": [
      "preprocessing: 7818it [06:01, 18.51it/s]"
     ]
    },
    {
     "name": "stdout",
     "output_type": "stream",
     "text": [
      "[321 216 927 893]\n",
      "[231 209 803 852]\n",
      "[276 200 838 972]\n",
      "[125 122 724 900]\n"
     ]
    },
    {
     "name": "stderr",
     "output_type": "stream",
     "text": [
      "preprocessing: 7822it [06:01, 18.19it/s]"
     ]
    },
    {
     "name": "stdout",
     "output_type": "stream",
     "text": [
      "[253 211 790 927]\n",
      "[202 197 791 925]\n",
      "[270 171 908 903]\n",
      "[265 194 849 944]\n"
     ]
    },
    {
     "name": "stderr",
     "output_type": "stream",
     "text": [
      "preprocessing: 7826it [06:01, 18.51it/s]"
     ]
    },
    {
     "name": "stdout",
     "output_type": "stream",
     "text": [
      "[199 147 851 906]\n",
      "[296 161 868 937]\n",
      "[175 180 781 949]\n",
      "[168 227 771 955]\n"
     ]
    },
    {
     "name": "stderr",
     "output_type": "stream",
     "text": [
      "preprocessing: 7830it [06:01, 17.68it/s]"
     ]
    },
    {
     "name": "stdout",
     "output_type": "stream",
     "text": [
      "[177 166 772 891]\n",
      "[298 166 868 923]\n",
      "[171 159 663 874]\n",
      "[157 187 759 938]\n"
     ]
    },
    {
     "name": "stderr",
     "output_type": "stream",
     "text": [
      "preprocessing: 7834it [06:01, 17.09it/s]"
     ]
    },
    {
     "name": "stdout",
     "output_type": "stream",
     "text": [
      "[231 144 819 899]\n",
      "[246 169 790 940]\n",
      "[268 184 833 940]\n",
      "[236 190 807 886]\n"
     ]
    },
    {
     "name": "stderr",
     "output_type": "stream",
     "text": [
      "preprocessing: 7838it [06:02, 17.45it/s]"
     ]
    },
    {
     "name": "stdout",
     "output_type": "stream",
     "text": [
      "[168 149 774 934]\n",
      "[206 111 791 926]\n",
      "[188 140 767 881]\n",
      "[ 52 118 718 921]\n"
     ]
    },
    {
     "name": "stderr",
     "output_type": "stream",
     "text": [
      "preprocessing: 7842it [06:02, 17.89it/s]"
     ]
    },
    {
     "name": "stdout",
     "output_type": "stream",
     "text": [
      "[160 173 770 962]\n",
      "[274 223 848 961]\n",
      "[156 225 802 920]\n",
      "[160 165 794 962]\n"
     ]
    },
    {
     "name": "stderr",
     "output_type": "stream",
     "text": [
      "\r",
      "preprocessing: 7845it [06:02, 18.78it/s]"
     ]
    },
    {
     "name": "stdout",
     "output_type": "stream",
     "text": [
      "[157 127 728 838]\n",
      "[271 195 880 842]\n",
      "[181 157 753 882]\n",
      "[222 110 871 964]\n"
     ]
    },
    {
     "name": "stderr",
     "output_type": "stream",
     "text": [
      "preprocessing: 7850it [06:02, 19.18it/s]"
     ]
    },
    {
     "name": "stdout",
     "output_type": "stream",
     "text": [
      "[328 186 927 879]\n",
      "[172 112 782 945]\n",
      "[342 220 946 933]\n",
      "[201 172 771 919]\n",
      "[208 240 785 898]\n"
     ]
    },
    {
     "name": "stderr",
     "output_type": "stream",
     "text": [
      "preprocessing: 7854it [06:02, 19.14it/s]"
     ]
    },
    {
     "name": "stdout",
     "output_type": "stream",
     "text": [
      "[207 186 769 957]\n",
      "[246 213 776 913]\n",
      "[144 142 770 913]\n",
      "[235 207 796 948]\n"
     ]
    },
    {
     "name": "stderr",
     "output_type": "stream",
     "text": [
      "preprocessing: 7858it [06:03, 18.67it/s]"
     ]
    },
    {
     "name": "stdout",
     "output_type": "stream",
     "text": [
      "[189 194 738 947]\n",
      "[263 171 866 950]\n",
      "[249  41 871 911]\n",
      "[240 221 744 935]\n"
     ]
    },
    {
     "name": "stderr",
     "output_type": "stream",
     "text": [
      "preprocessing: 7862it [06:03, 17.92it/s]"
     ]
    },
    {
     "name": "stdout",
     "output_type": "stream",
     "text": [
      "[269 187 861 929]\n",
      "[236 199 794 900]\n",
      "[234 170 858 953]\n",
      "[253 179 782 919]\n"
     ]
    },
    {
     "name": "stderr",
     "output_type": "stream",
     "text": [
      "preprocessing: 7866it [06:03, 17.55it/s]"
     ]
    },
    {
     "name": "stdout",
     "output_type": "stream",
     "text": [
      "[ 89 177 743 914]\n",
      "[334 188 958 885]\n",
      "[205 180 762 954]\n",
      "[206 158 873 927]\n"
     ]
    },
    {
     "name": "stderr",
     "output_type": "stream",
     "text": [
      "preprocessing: 7870it [06:03, 17.42it/s]"
     ]
    },
    {
     "name": "stdout",
     "output_type": "stream",
     "text": [
      "[199 209 751 944]\n",
      "[240 213 791 948]\n",
      "[212 191 784 949]\n",
      "[255 206 819 897]\n"
     ]
    },
    {
     "name": "stderr",
     "output_type": "stream",
     "text": [
      "preprocessing: 7874it [06:04, 17.43it/s]"
     ]
    },
    {
     "name": "stdout",
     "output_type": "stream",
     "text": [
      "[227 214 782 951]\n",
      "[206 143 781 979]\n",
      "[250 170 721 900]\n",
      "[196 177 783 963]\n"
     ]
    },
    {
     "name": "stderr",
     "output_type": "stream",
     "text": [
      "preprocessing: 7878it [06:04, 18.03it/s]"
     ]
    },
    {
     "name": "stdout",
     "output_type": "stream",
     "text": [
      "[146 156 763 909]\n",
      "[182 148 800 977]\n",
      "[205 180 807 907]\n",
      "[163 165 763 930]\n"
     ]
    },
    {
     "name": "stderr",
     "output_type": "stream",
     "text": [
      "preprocessing: 7882it [06:04, 18.15it/s]"
     ]
    },
    {
     "name": "stdout",
     "output_type": "stream",
     "text": [
      "[224 151 848 930]\n",
      "[214 241 794 910]\n",
      "[237 176 839 953]\n",
      "[249 128 849 875]\n"
     ]
    },
    {
     "name": "stderr",
     "output_type": "stream",
     "text": [
      "preprocessing: 7886it [06:04, 18.16it/s]"
     ]
    },
    {
     "name": "stdout",
     "output_type": "stream",
     "text": [
      "[306 132 968 940]\n",
      "[271 150 808 955]\n",
      "[250 209 819 926]\n",
      "[139 170 763 885]\n"
     ]
    },
    {
     "name": "stderr",
     "output_type": "stream",
     "text": [
      "preprocessing: 7890it [06:05, 17.72it/s]"
     ]
    },
    {
     "name": "stdout",
     "output_type": "stream",
     "text": [
      "[277 173 845 989]\n",
      "[212  86 819 800]\n",
      "[241 218 769 900]\n",
      "[256 211 822 961]\n"
     ]
    },
    {
     "name": "stderr",
     "output_type": "stream",
     "text": [
      "preprocessing: 7895it [06:05, 18.22it/s]"
     ]
    },
    {
     "name": "stdout",
     "output_type": "stream",
     "text": [
      "[306 148 914 899]\n",
      "[202 152 769 895]\n",
      "[282 195 871 946]\n",
      "[274 168 804 969]\n"
     ]
    },
    {
     "name": "stderr",
     "output_type": "stream",
     "text": [
      "preprocessing: 7899it [06:05, 18.27it/s]"
     ]
    },
    {
     "name": "stdout",
     "output_type": "stream",
     "text": [
      "[169 172 808 869]\n",
      "[218 181 763 885]\n",
      "[206 176 779 965]\n",
      "[211 183 808 947]\n"
     ]
    },
    {
     "name": "stderr",
     "output_type": "stream",
     "text": [
      "\r",
      "preprocessing: 7901it [06:05, 14.86it/s]"
     ]
    },
    {
     "name": "stdout",
     "output_type": "stream",
     "text": [
      "[229 163 840 957]\n",
      "[289 189 902 892]\n"
     ]
    },
    {
     "name": "stderr",
     "output_type": "stream",
     "text": [
      "\r",
      "preprocessing: 7903it [06:05, 15.51it/s]"
     ]
    },
    {
     "name": "stdout",
     "output_type": "stream",
     "text": [
      "[261 177 811 956]\n",
      "[240 207 808 896]\n",
      "[131 204 710 890]\n"
     ]
    },
    {
     "name": "stderr",
     "output_type": "stream",
     "text": [
      "preprocessing: 7909it [06:06, 18.78it/s]"
     ]
    },
    {
     "name": "stdout",
     "output_type": "stream",
     "text": [
      "[236 121 836 944]\n",
      "[149 180 769 926]\n",
      "[ 84 104 754 946]\n",
      "[240 207 832 923]\n",
      "[232 151 787 928]\n"
     ]
    },
    {
     "name": "stderr",
     "output_type": "stream",
     "text": [
      "preprocessing: 7915it [06:06, 18.58it/s]"
     ]
    },
    {
     "name": "stdout",
     "output_type": "stream",
     "text": [
      "[113 139 744 901]\n",
      "[116 127 761 950]\n",
      "[ 99 169 698 901]\n",
      "[254 138 930 959]\n"
     ]
    },
    {
     "name": "stderr",
     "output_type": "stream",
     "text": [
      "preprocessing: 7919it [06:06, 18.01it/s]"
     ]
    },
    {
     "name": "stdout",
     "output_type": "stream",
     "text": [
      "[276 194 799 944]\n",
      "[224 193 766 944]\n",
      "[265 178 800 952]\n",
      "[280 193 778 921]\n"
     ]
    },
    {
     "name": "stderr",
     "output_type": "stream",
     "text": [
      "preprocessing: 7923it [06:06, 18.58it/s]"
     ]
    },
    {
     "name": "stdout",
     "output_type": "stream",
     "text": [
      "[275 102 896 821]\n",
      "[194 167 772 929]\n",
      "[234 188 778 945]\n",
      "[168 171 770 965]\n"
     ]
    },
    {
     "name": "stderr",
     "output_type": "stream",
     "text": [
      "\r",
      "preprocessing: 7925it [06:06, 18.50it/s]"
     ]
    },
    {
     "name": "stdout",
     "output_type": "stream",
     "text": [
      "[265 174 822 855]\n",
      "[198 201 766 997]\n",
      "[256 206 835 940]\n",
      "[203 175 834 988]\n",
      "[230 200 809 937]\n"
     ]
    },
    {
     "name": "stderr",
     "output_type": "stream",
     "text": [
      "preprocessing: 7932it [06:07, 18.15it/s]"
     ]
    },
    {
     "name": "stdout",
     "output_type": "stream",
     "text": [
      "[183 184 757 916]\n",
      "[213 199 751 941]\n",
      "[315 183 888 951]\n",
      "[168 136 751 932]\n"
     ]
    },
    {
     "name": "stderr",
     "output_type": "stream",
     "text": [
      "preprocessing: 7936it [06:07, 17.96it/s]"
     ]
    },
    {
     "name": "stdout",
     "output_type": "stream",
     "text": [
      "[226 200 733 909]\n",
      "[245 121 826 891]\n",
      "[329 224 884 846]\n",
      "[129 177 845 951]\n"
     ]
    },
    {
     "name": "stderr",
     "output_type": "stream",
     "text": [
      "preprocessing: 7940it [06:07, 17.92it/s]"
     ]
    },
    {
     "name": "stdout",
     "output_type": "stream",
     "text": [
      "[318 165 961 923]\n",
      "[225 173 774 952]\n",
      "[186 267 697 830]\n",
      "[309 187 897 822]\n"
     ]
    },
    {
     "name": "stderr",
     "output_type": "stream",
     "text": [
      "preprocessing: 7944it [06:08, 17.90it/s]"
     ]
    },
    {
     "name": "stdout",
     "output_type": "stream",
     "text": [
      "[250 168 779 938]\n",
      "[244 204 767 919]\n",
      "[290 185 912 930]\n",
      "[197 150 771 925]\n"
     ]
    },
    {
     "name": "stderr",
     "output_type": "stream",
     "text": [
      "preprocessing: 7948it [06:08, 17.70it/s]"
     ]
    },
    {
     "name": "stdout",
     "output_type": "stream",
     "text": [
      "[241 206 838 914]\n",
      "[267 164 897 874]\n",
      "[226 133 840 913]\n",
      "[147 188 773 904]\n"
     ]
    },
    {
     "name": "stderr",
     "output_type": "stream",
     "text": [
      "preprocessing: 7952it [06:08, 17.74it/s]"
     ]
    },
    {
     "name": "stdout",
     "output_type": "stream",
     "text": [
      "[180 122 786 820]\n",
      "[148 169 727 945]\n",
      "[136 111 788 864]\n",
      "[148 231 685 916]\n"
     ]
    },
    {
     "name": "stderr",
     "output_type": "stream",
     "text": [
      "preprocessing: 7956it [06:08, 17.45it/s]"
     ]
    },
    {
     "name": "stdout",
     "output_type": "stream",
     "text": [
      "[158 130 787 963]\n",
      "[295 150 873 856]\n",
      "[138 172 749 942]\n",
      "[197 159 772 902]\n"
     ]
    },
    {
     "name": "stderr",
     "output_type": "stream",
     "text": [
      "\r",
      "preprocessing: 7958it [06:08, 17.36it/s]"
     ]
    },
    {
     "name": "stdout",
     "output_type": "stream",
     "text": [
      "[227 105 851 938]\n",
      "[258 166 867 956]\n",
      "[126 194 685 944]\n"
     ]
    },
    {
     "name": "stderr",
     "output_type": "stream",
     "text": [
      "preprocessing: 7963it [06:09, 18.74it/s]"
     ]
    },
    {
     "name": "stdout",
     "output_type": "stream",
     "text": [
      "[285 208 748 920]\n",
      "[236 187 775 918]\n",
      "[356 181 930 931]\n",
      "[247 161 809 940]\n",
      "[312 163 958 868]\n"
     ]
    },
    {
     "name": "stderr",
     "output_type": "stream",
     "text": [
      "preprocessing: 7969it [06:09, 19.88it/s]"
     ]
    },
    {
     "name": "stdout",
     "output_type": "stream",
     "text": [
      "[127 133 805 936]\n",
      "[365 180 895 947]\n",
      "[228 277 760 823]\n",
      "[ 84 110 738 938]\n"
     ]
    },
    {
     "name": "stderr",
     "output_type": "stream",
     "text": [
      "\r",
      "preprocessing: 7972it [06:09, 20.08it/s]"
     ]
    },
    {
     "name": "stdout",
     "output_type": "stream",
     "text": [
      "[215 213 818 922]\n",
      "[ 73 175 733 934]\n",
      "[242 199 770 887]\n",
      "[248 201 827 900]\n",
      "[287 180 858 908]\n"
     ]
    },
    {
     "name": "stderr",
     "output_type": "stream",
     "text": [
      "preprocessing: 7978it [06:09, 20.48it/s]"
     ]
    },
    {
     "name": "stdout",
     "output_type": "stream",
     "text": [
      "[256 184 814 955]\n",
      "[293 197 837 990]\n",
      "[271 222 899 918]\n",
      "[222 214 797 940]\n",
      "[271 194 888 897]\n"
     ]
    },
    {
     "name": "stderr",
     "output_type": "stream",
     "text": [
      "preprocessing: 7983it [06:10, 19.41it/s]"
     ]
    },
    {
     "name": "stdout",
     "output_type": "stream",
     "text": [
      "[227 253 767 918]\n",
      "[202 153 796 869]\n",
      "[277 254 821 913]\n",
      "[117 150 795 902]\n"
     ]
    },
    {
     "name": "stderr",
     "output_type": "stream",
     "text": [
      "\r",
      "preprocessing: 7985it [06:10, 19.01it/s]"
     ]
    },
    {
     "name": "stdout",
     "output_type": "stream",
     "text": [
      "[259 187 844 987]\n",
      "[277 148 822 777]\n",
      "[317 141 933 857]\n",
      "[216 158 760 916]\n"
     ]
    },
    {
     "name": "stderr",
     "output_type": "stream",
     "text": [
      "preprocessing: 7991it [06:10, 18.54it/s]"
     ]
    },
    {
     "name": "stdout",
     "output_type": "stream",
     "text": [
      "[262 121 930 906]\n",
      "[274 208 827 924]\n",
      "[204 221 756 927]\n",
      "[291 169 892 876]\n"
     ]
    },
    {
     "name": "stderr",
     "output_type": "stream",
     "text": [
      "\r",
      "preprocessing: 7993it [06:10, 18.52it/s]"
     ]
    },
    {
     "name": "stdout",
     "output_type": "stream",
     "text": [
      "[238 200 794 923]\n",
      "[252 189 859 808]\n",
      "[250 148 810 922]\n",
      "[279 211 802 914]\n"
     ]
    },
    {
     "name": "stderr",
     "output_type": "stream",
     "text": [
      "preprocessing: 7998it [06:10, 19.15it/s]"
     ]
    },
    {
     "name": "stdout",
     "output_type": "stream",
     "text": [
      "[217 143 858 943]\n",
      "[217 198 805 899]\n",
      "[220 120 811 834]\n",
      "[206 174 787 950]\n"
     ]
    },
    {
     "name": "stderr",
     "output_type": "stream",
     "text": [
      "\r",
      "preprocessing: 8000it [06:11, 17.49it/s]"
     ]
    },
    {
     "name": "stdout",
     "output_type": "stream",
     "text": [
      "[237 169 810 995]\n",
      "[114 153 751 938]\n",
      "[299 126 945 837]\n"
     ]
    },
    {
     "name": "stderr",
     "output_type": "stream",
     "text": [
      "preprocessing: 8005it [06:11, 17.50it/s]"
     ]
    },
    {
     "name": "stdout",
     "output_type": "stream",
     "text": [
      "[240 205 800 950]\n",
      "[239 280 783 926]\n",
      "[111  82 710 925]\n",
      "[156 107 736 924]\n",
      "[354 225 939 828]\n"
     ]
    },
    {
     "name": "stderr",
     "output_type": "stream",
     "text": [
      "preprocessing: 8011it [06:11, 20.43it/s]"
     ]
    },
    {
     "name": "stdout",
     "output_type": "stream",
     "text": [
      "[277 136 920 944]\n",
      "[181 188 792 794]\n",
      "[184 202 749 836]\n",
      "[169 144 747 885]\n",
      "[202 176 776 932]\n"
     ]
    },
    {
     "name": "stderr",
     "output_type": "stream",
     "text": [
      "\r",
      "preprocessing: 8014it [06:11, 20.66it/s]"
     ]
    },
    {
     "name": "stdout",
     "output_type": "stream",
     "text": [
      "[281 120 918 979]\n",
      "[230 201 797 947]\n",
      "[232 182 773 917]\n",
      "[231 145 796 952]\n",
      "[329 164 914 846]\n"
     ]
    },
    {
     "name": "stderr",
     "output_type": "stream",
     "text": [
      "preprocessing: 8020it [06:12, 19.38it/s]"
     ]
    },
    {
     "name": "stdout",
     "output_type": "stream",
     "text": [
      "[246 205 823 912]\n",
      "[231 191 775 819]\n",
      "[113 161 744 885]\n",
      "[230 184 818 946]\n"
     ]
    },
    {
     "name": "stderr",
     "output_type": "stream",
     "text": [
      "preprocessing: 8024it [06:12, 19.29it/s]"
     ]
    },
    {
     "name": "stdout",
     "output_type": "stream",
     "text": [
      "[232 168 817 906]\n",
      "[179 175 808 919]\n",
      "[272 108 918 911]\n",
      "[217 171 877 891]\n",
      "[297 154 845 857]\n"
     ]
    },
    {
     "name": "stderr",
     "output_type": "stream",
     "text": [
      "preprocessing: 8030it [06:12, 18.94it/s]"
     ]
    },
    {
     "name": "stdout",
     "output_type": "stream",
     "text": [
      "[224 201 795 955]\n",
      "[325 160 910 878]\n",
      "[285 198 929 938]\n",
      "[269 195 775 939]\n"
     ]
    },
    {
     "name": "stderr",
     "output_type": "stream",
     "text": [
      "\r",
      "preprocessing: 8032it [06:12, 19.19it/s]"
     ]
    },
    {
     "name": "stdout",
     "output_type": "stream",
     "text": [
      "[195 162 833 914]\n",
      "[287 184 819 906]\n",
      "[340 206 842 925]\n",
      "[256 146 897 933]\n",
      "[274 169 836 904]\n"
     ]
    },
    {
     "name": "stderr",
     "output_type": "stream",
     "text": [
      "preprocessing: 8038it [06:12, 19.38it/s]"
     ]
    },
    {
     "name": "stdout",
     "output_type": "stream",
     "text": [
      "[178 149 733 948]\n",
      "[290 189 850 920]\n",
      "[173 145 786 836]\n",
      "[184 179 808 978]\n"
     ]
    },
    {
     "name": "stderr",
     "output_type": "stream",
     "text": [
      "preprocessing: 8042it [06:13, 19.19it/s]"
     ]
    },
    {
     "name": "stdout",
     "output_type": "stream",
     "text": [
      "[136 186 758 883]\n",
      "[257 155 865 947]\n",
      "[197 217 764 927]\n",
      "[166 202 795 887]\n"
     ]
    },
    {
     "name": "stderr",
     "output_type": "stream",
     "text": [
      "preprocessing: 8046it [06:13, 19.08it/s]"
     ]
    },
    {
     "name": "stdout",
     "output_type": "stream",
     "text": [
      "[230 278 811 948]\n",
      "[362 193 896 916]\n",
      "[203 214 739 899]\n",
      "[ 96 191 710 872]\n"
     ]
    },
    {
     "name": "stderr",
     "output_type": "stream",
     "text": [
      "preprocessing: 8050it [06:13, 18.20it/s]"
     ]
    },
    {
     "name": "stdout",
     "output_type": "stream",
     "text": [
      "[258 170 816 941]\n",
      "[239 227 811 915]\n",
      "[273 125 857 965]\n",
      "[197 213 799 968]\n"
     ]
    },
    {
     "name": "stderr",
     "output_type": "stream",
     "text": [
      "preprocessing: 8054it [06:13, 18.51it/s]"
     ]
    },
    {
     "name": "stdout",
     "output_type": "stream",
     "text": [
      "[221 197 768 952]\n",
      "[248  86 825 836]\n",
      "[182 192 797 997]\n",
      "[291 156 814 850]\n"
     ]
    },
    {
     "name": "stderr",
     "output_type": "stream",
     "text": [
      "preprocessing: 8059it [06:14, 19.07it/s]"
     ]
    },
    {
     "name": "stdout",
     "output_type": "stream",
     "text": [
      "[232 216 808 912]\n",
      "[234 199 786 773]\n",
      "[271 146 915 939]\n",
      "[258 205 831 983]\n"
     ]
    },
    {
     "name": "stderr",
     "output_type": "stream",
     "text": [
      "preprocessing: 8063it [06:14, 18.65it/s]"
     ]
    },
    {
     "name": "stdout",
     "output_type": "stream",
     "text": [
      "[169 165 768 995]\n",
      "[260 176 788 918]\n",
      "[152 207 735 928]\n",
      "[208 136 803 859]\n",
      "[267 167 791 925]\n"
     ]
    },
    {
     "name": "stderr",
     "output_type": "stream",
     "text": [
      "preprocessing: 8068it [06:14, 18.88it/s]"
     ]
    },
    {
     "name": "stdout",
     "output_type": "stream",
     "text": [
      "[191 181 775 956]\n",
      "[265 157 838 967]\n",
      "[335 200 917 941]\n",
      "[236 195 826 952]\n"
     ]
    },
    {
     "name": "stderr",
     "output_type": "stream",
     "text": [
      "preprocessing: 8072it [06:14, 19.21it/s]"
     ]
    },
    {
     "name": "stdout",
     "output_type": "stream",
     "text": [
      "[106 142 752 963]\n",
      "[273 161 865 832]\n",
      "[222 196 786 932]\n",
      "[233 161 846 837]\n"
     ]
    },
    {
     "name": "stderr",
     "output_type": "stream",
     "text": [
      "preprocessing: 8076it [06:14, 19.07it/s]"
     ]
    },
    {
     "name": "stdout",
     "output_type": "stream",
     "text": [
      "[227 179 823 983]\n",
      "[261 172 831 797]\n",
      "[297 204 729 865]\n",
      "[297 192 847 829]\n"
     ]
    },
    {
     "name": "stderr",
     "output_type": "stream",
     "text": [
      "preprocessing: 8080it [06:15, 19.10it/s]"
     ]
    },
    {
     "name": "stdout",
     "output_type": "stream",
     "text": [
      "[137 128 754 921]\n",
      "[123 124 753 932]\n",
      "[194 118 837 794]\n",
      "[248 204 764 879]\n",
      "[258 232 868 932]\n"
     ]
    },
    {
     "name": "stderr",
     "output_type": "stream",
     "text": [
      "preprocessing: 8084it [06:15, 19.00it/s]"
     ]
    },
    {
     "name": "stdout",
     "output_type": "stream",
     "text": [
      "[265 213 859 923]\n",
      "[128 207 747 927]\n",
      "[269 207 819 958]\n",
      "[287 182 887 885]\n"
     ]
    },
    {
     "name": "stderr",
     "output_type": "stream",
     "text": [
      "preprocessing: 8089it [06:15, 19.16it/s]"
     ]
    },
    {
     "name": "stdout",
     "output_type": "stream",
     "text": [
      "[193 185 741 876]\n",
      "[251 181 808 789]\n",
      "[162  97 759 980]\n",
      "[329 169 951 819]\n"
     ]
    },
    {
     "name": "stderr",
     "output_type": "stream",
     "text": [
      "preprocessing: 8093it [06:15, 18.58it/s]"
     ]
    },
    {
     "name": "stdout",
     "output_type": "stream",
     "text": [
      "[202 126 811 913]\n",
      "[254 155 788 891]\n",
      "[143 138 729 939]\n",
      "[255 228 861 965]\n"
     ]
    },
    {
     "name": "stderr",
     "output_type": "stream",
     "text": [
      "preprocessing: 8097it [06:16, 17.88it/s]"
     ]
    },
    {
     "name": "stdout",
     "output_type": "stream",
     "text": [
      "[253 214 788 960]\n",
      "[259 192 882 859]\n",
      "[259 180 854 953]\n",
      "[170 165 744 895]\n"
     ]
    },
    {
     "name": "stderr",
     "output_type": "stream",
     "text": [
      "\r",
      "preprocessing: 8099it [06:16, 17.31it/s]"
     ]
    },
    {
     "name": "stdout",
     "output_type": "stream",
     "text": [
      "[231 126 796 839]\n",
      "[213 159 878 964]\n",
      "[253 188 813 945]\n"
     ]
    },
    {
     "name": "stderr",
     "output_type": "stream",
     "text": [
      "preprocessing: 8103it [06:16, 15.29it/s]"
     ]
    },
    {
     "name": "stdout",
     "output_type": "stream",
     "text": [
      "[193 138 790 922]\n",
      "[107 129 750 927]\n",
      "[221 222 776 933]\n",
      "[225 184 761 953]\n"
     ]
    },
    {
     "name": "stderr",
     "output_type": "stream",
     "text": [
      "preprocessing: 8109it [06:16, 18.87it/s]"
     ]
    },
    {
     "name": "stdout",
     "output_type": "stream",
     "text": [
      "[111 141 792 926]\n",
      "[129 134 785 979]\n",
      "[ 367  171 1003  906]\n",
      "[237 174 823 887]\n",
      "[168 173 761 924]\n"
     ]
    },
    {
     "name": "stderr",
     "output_type": "stream",
     "text": [
      "\r",
      "preprocessing: 8112it [06:16, 19.93it/s]"
     ]
    },
    {
     "name": "stdout",
     "output_type": "stream",
     "text": [
      "[193 173 772 872]\n",
      "[154 137 766 946]\n",
      "[300 138 930 912]\n",
      "[269 210 829 949]\n"
     ]
    },
    {
     "name": "stderr",
     "output_type": "stream",
     "text": [
      "preprocessing: 8118it [06:17, 19.97it/s]"
     ]
    },
    {
     "name": "stdout",
     "output_type": "stream",
     "text": [
      "[150 134 827 899]\n",
      "[197 137 850 892]\n",
      "[261 154 838 956]\n",
      "[206 240 815 802]\n"
     ]
    },
    {
     "name": "stderr",
     "output_type": "stream",
     "text": [
      "preprocessing: 8123it [06:17, 19.69it/s]"
     ]
    },
    {
     "name": "stdout",
     "output_type": "stream",
     "text": [
      "[237 201 772 941]\n",
      "[263 200 842 939]\n",
      "[ 92 163 754 950]\n",
      "[287 177 937 901]\n"
     ]
    },
    {
     "name": "stderr",
     "output_type": "stream",
     "text": [
      "\r",
      "preprocessing: 8126it [06:17, 19.80it/s]"
     ]
    },
    {
     "name": "stdout",
     "output_type": "stream",
     "text": [
      "[226 113 853 925]\n",
      "[206 110 905 892]\n",
      "[290 210 894 974]\n",
      "[209 190 850 883]\n"
     ]
    },
    {
     "name": "stderr",
     "output_type": "stream",
     "text": [
      "preprocessing: 8131it [06:17, 19.60it/s]"
     ]
    },
    {
     "name": "stdout",
     "output_type": "stream",
     "text": [
      "[266 220 797 924]\n",
      "[136 151 734 911]\n",
      "[197 181 791 947]\n",
      "[312 150 920 928]\n"
     ]
    },
    {
     "name": "stderr",
     "output_type": "stream",
     "text": [
      "preprocessing: 8135it [06:18, 19.52it/s]"
     ]
    },
    {
     "name": "stdout",
     "output_type": "stream",
     "text": [
      "[210 148 860 908]\n",
      "[247 175 790 924]\n",
      "[255 128 905 874]\n",
      "[255 177 805 910]\n"
     ]
    },
    {
     "name": "stderr",
     "output_type": "stream",
     "text": [
      "preprocessing: 8139it [06:18, 18.74it/s]"
     ]
    },
    {
     "name": "stdout",
     "output_type": "stream",
     "text": [
      "[238 189 822 971]\n",
      "[256 196 838 935]\n",
      "[291 173 893 961]\n",
      "[232 186 794 983]\n"
     ]
    },
    {
     "name": "stderr",
     "output_type": "stream",
     "text": [
      "preprocessing: 8143it [06:18, 17.79it/s]"
     ]
    },
    {
     "name": "stdout",
     "output_type": "stream",
     "text": [
      "[ 86 154 746 939]\n",
      "[250 153 847 940]\n",
      "[177 165 761 933]\n",
      "[159 142 741 880]\n"
     ]
    },
    {
     "name": "stderr",
     "output_type": "stream",
     "text": [
      "preprocessing: 8147it [06:18, 18.02it/s]"
     ]
    },
    {
     "name": "stdout",
     "output_type": "stream",
     "text": [
      "[154 117 721 983]\n",
      "[236 106 803 891]\n",
      "[ 69 100 725 832]\n",
      "[270 194 776 928]\n"
     ]
    },
    {
     "name": "stderr",
     "output_type": "stream",
     "text": [
      "preprocessing: 8151it [06:19, 17.88it/s]"
     ]
    },
    {
     "name": "stdout",
     "output_type": "stream",
     "text": [
      "[245 192 831 997]\n",
      "[228 207 781 943]\n",
      "[231 205 783 888]\n",
      "[309 169 996 850]\n"
     ]
    },
    {
     "name": "stderr",
     "output_type": "stream",
     "text": [
      "preprocessing: 8155it [06:19, 17.73it/s]"
     ]
    },
    {
     "name": "stdout",
     "output_type": "stream",
     "text": [
      "[261 204 858 932]\n",
      "[331 177 925 956]\n",
      "[294 182 879 960]\n",
      "[111 198 754 939]\n"
     ]
    },
    {
     "name": "stderr",
     "output_type": "stream",
     "text": [
      "preprocessing: 8159it [06:19, 17.96it/s]"
     ]
    },
    {
     "name": "stdout",
     "output_type": "stream",
     "text": [
      "[254 177 828 939]\n",
      "[130 187 764 948]\n",
      "[162 158 737 929]\n",
      "[252 132 816 898]\n"
     ]
    },
    {
     "name": "stderr",
     "output_type": "stream",
     "text": [
      "preprocessing: 8163it [06:19, 18.73it/s]"
     ]
    },
    {
     "name": "stdout",
     "output_type": "stream",
     "text": [
      "[179 162 876 935]\n",
      "[252 189 844 936]\n",
      "[232 215 764 945]\n",
      "[202 139 782 928]\n"
     ]
    },
    {
     "name": "stderr",
     "output_type": "stream",
     "text": [
      "preprocessing: 8167it [06:19, 18.71it/s]"
     ]
    },
    {
     "name": "stdout",
     "output_type": "stream",
     "text": [
      "[170 181 737 914]\n",
      "[ 84 142 666 828]\n",
      "[243 216 808 895]\n",
      "[281 176 844 908]\n"
     ]
    },
    {
     "name": "stderr",
     "output_type": "stream",
     "text": [
      "preprocessing: 8171it [06:20, 18.83it/s]"
     ]
    },
    {
     "name": "stdout",
     "output_type": "stream",
     "text": [
      "[199 142 812 897]\n",
      "[257 223 852 972]\n",
      "[233 185 804 900]\n",
      "[241 204 788 900]\n"
     ]
    },
    {
     "name": "stderr",
     "output_type": "stream",
     "text": [
      "preprocessing: 8175it [06:20, 18.46it/s]"
     ]
    },
    {
     "name": "stdout",
     "output_type": "stream",
     "text": [
      "[107  60 784 903]\n",
      "[140 154 763 946]\n",
      "[191 169 738 923]\n",
      "[309 191 904 943]\n"
     ]
    },
    {
     "name": "stderr",
     "output_type": "stream",
     "text": [
      "preprocessing: 8179it [06:20, 17.81it/s]"
     ]
    },
    {
     "name": "stdout",
     "output_type": "stream",
     "text": [
      "[166 142 769 870]\n",
      "[108 254 690 858]\n",
      "[136 130 811 975]\n",
      "[210 202 790 957]\n"
     ]
    },
    {
     "name": "stderr",
     "output_type": "stream",
     "text": [
      "preprocessing: 8183it [06:20, 17.25it/s]"
     ]
    },
    {
     "name": "stdout",
     "output_type": "stream",
     "text": [
      "[212 154 805 896]\n",
      "[237 165 792 968]\n",
      "[181 205 759 879]\n",
      "[303 215 858 951]\n"
     ]
    },
    {
     "name": "stderr",
     "output_type": "stream",
     "text": [
      "preprocessing: 8187it [06:21, 17.25it/s]"
     ]
    },
    {
     "name": "stdout",
     "output_type": "stream",
     "text": [
      "[222 198 784 983]\n",
      "[400 164 985 822]\n",
      "[210 178 813 943]\n",
      "[231 167 809 974]\n"
     ]
    },
    {
     "name": "stderr",
     "output_type": "stream",
     "text": [
      "preprocessing: 8191it [06:21, 17.24it/s]"
     ]
    },
    {
     "name": "stdout",
     "output_type": "stream",
     "text": [
      "[198 143 820 947]\n",
      "[284 142 919 930]\n",
      "[124  74 755 823]\n",
      "[105 123 725 901]\n"
     ]
    },
    {
     "name": "stderr",
     "output_type": "stream",
     "text": [
      "preprocessing: 8195it [06:21, 17.42it/s]"
     ]
    },
    {
     "name": "stdout",
     "output_type": "stream",
     "text": [
      "[251 243 813 925]\n",
      "[232 214 781 875]\n",
      "[ 89 179 747 988]\n",
      "[269 170 795 913]\n"
     ]
    },
    {
     "name": "stderr",
     "output_type": "stream",
     "text": [
      "preprocessing: 8199it [06:21, 17.09it/s]"
     ]
    },
    {
     "name": "stdout",
     "output_type": "stream",
     "text": [
      "[189 157 742 941]\n",
      "[211 163 766 961]\n",
      "[202 211 815 940]\n",
      "[283 173 930 893]\n"
     ]
    },
    {
     "name": "stderr",
     "output_type": "stream",
     "text": [
      "preprocessing: 8204it [06:22, 17.11it/s]"
     ]
    },
    {
     "name": "stdout",
     "output_type": "stream",
     "text": [
      "[213 215 761 946]\n",
      "[183 120 819 961]\n",
      "[187 161 800 922]\n",
      "[128  86 756 885]\n"
     ]
    },
    {
     "name": "stderr",
     "output_type": "stream",
     "text": [
      "preprocessing: 8208it [06:22, 17.69it/s]"
     ]
    },
    {
     "name": "stdout",
     "output_type": "stream",
     "text": [
      "[203 177 870 937]\n",
      "[ 90 154 725 952]\n",
      "[106 165 785 917]\n",
      "[309 281 840 930]\n"
     ]
    },
    {
     "name": "stderr",
     "output_type": "stream",
     "text": [
      "preprocessing: 8212it [06:22, 18.34it/s]"
     ]
    },
    {
     "name": "stdout",
     "output_type": "stream",
     "text": [
      "[104 124 761 836]\n",
      "[215 156 777 933]\n",
      "[274 185 802 875]\n",
      "[ 93 138 767 897]\n"
     ]
    },
    {
     "name": "stderr",
     "output_type": "stream",
     "text": [
      "preprocessing: 8216it [06:22, 18.05it/s]"
     ]
    },
    {
     "name": "stdout",
     "output_type": "stream",
     "text": [
      "[265 181 835 914]\n",
      "[388 206 930 886]\n",
      "[260 141 827 986]\n",
      "[216 207 792 886]\n"
     ]
    },
    {
     "name": "stderr",
     "output_type": "stream",
     "text": [
      "preprocessing: 8220it [06:22, 18.25it/s]"
     ]
    },
    {
     "name": "stdout",
     "output_type": "stream",
     "text": [
      "[253 192 874 863]\n",
      "[165 157 727 935]\n",
      "[247 187 817 923]\n",
      "[279 189 800 898]\n"
     ]
    },
    {
     "name": "stderr",
     "output_type": "stream",
     "text": [
      "preprocessing: 8224it [06:23, 18.24it/s]"
     ]
    },
    {
     "name": "stdout",
     "output_type": "stream",
     "text": [
      "[265 223 839 883]\n",
      "[291 183 953 847]\n",
      "[282 175 814 910]\n",
      "[273 185 876 932]\n"
     ]
    },
    {
     "name": "stderr",
     "output_type": "stream",
     "text": [
      "\r",
      "preprocessing: 8226it [06:23, 18.32it/s]"
     ]
    },
    {
     "name": "stdout",
     "output_type": "stream",
     "text": [
      "[249 144 845 907]\n",
      "[274 226 835 961]\n",
      "[333 139 885 888]\n",
      "[224 135 827 935]\n"
     ]
    },
    {
     "name": "stderr",
     "output_type": "stream",
     "text": [
      "preprocessing: 8231it [06:23, 18.45it/s]"
     ]
    },
    {
     "name": "stdout",
     "output_type": "stream",
     "text": [
      "[250  95 904 835]\n",
      "[295 187 836 901]\n",
      "[212 189 774 865]\n",
      "[175 116 778 973]\n"
     ]
    },
    {
     "name": "stderr",
     "output_type": "stream",
     "text": [
      "preprocessing: 8235it [06:23, 18.62it/s]"
     ]
    },
    {
     "name": "stdout",
     "output_type": "stream",
     "text": [
      "[214 213 748 973]\n",
      "[249 185 839 952]\n",
      "[124  85 767 896]\n",
      "[230 147 808 872]\n"
     ]
    },
    {
     "name": "stderr",
     "output_type": "stream",
     "text": [
      "preprocessing: 8239it [06:23, 18.61it/s]"
     ]
    },
    {
     "name": "stdout",
     "output_type": "stream",
     "text": [
      "[220  87 787 892]\n",
      "[168 199 749 938]\n",
      "[ 97 115 756 929]\n",
      "[241 221 812 819]\n"
     ]
    },
    {
     "name": "stderr",
     "output_type": "stream",
     "text": [
      "preprocessing: 8243it [06:24, 18.89it/s]"
     ]
    },
    {
     "name": "stdout",
     "output_type": "stream",
     "text": [
      "[312 181 972 904]\n",
      "[259  88 913 897]\n",
      "[259 187 825 953]\n"
     ]
    },
    {
     "name": "stderr",
     "output_type": "stream",
     "text": [
      "preprocessing: 8247it [06:24, 18.51it/s]"
     ]
    },
    {
     "name": "stdout",
     "output_type": "stream",
     "text": [
      "[264 189 865 898]\n",
      "[162 122 734 968]\n",
      "[255 160 902 953]\n",
      "[277 205 842 912]\n"
     ]
    },
    {
     "name": "stderr",
     "output_type": "stream",
     "text": [
      "preprocessing: 8251it [06:24, 18.71it/s]"
     ]
    },
    {
     "name": "stdout",
     "output_type": "stream",
     "text": [
      "[222 216 763 938]\n",
      "[269 191 804 867]\n",
      "[154 154 753 901]\n",
      "[276 207 878 993]\n"
     ]
    },
    {
     "name": "stderr",
     "output_type": "stream",
     "text": [
      "preprocessing: 8255it [06:24, 18.93it/s]"
     ]
    },
    {
     "name": "stdout",
     "output_type": "stream",
     "text": [
      "[256 181 829 906]\n",
      "[194 117 844 951]\n",
      "[299 146 984 881]\n",
      "[143 190 721 927]\n"
     ]
    },
    {
     "name": "stderr",
     "output_type": "stream",
     "text": [
      "preprocessing: 8259it [06:24, 18.43it/s]"
     ]
    },
    {
     "name": "stdout",
     "output_type": "stream",
     "text": [
      "[157 109 767 920]\n",
      "[ 83  40 749 904]\n",
      "[210 113 829 968]\n",
      "[222 223 806 921]\n"
     ]
    },
    {
     "name": "stderr",
     "output_type": "stream",
     "text": [
      "preprocessing: 8263it [06:25, 18.55it/s]"
     ]
    },
    {
     "name": "stdout",
     "output_type": "stream",
     "text": [
      "[297 166 888 855]\n",
      "[286 185 739 941]\n",
      "[185 148 752 903]\n",
      "[267 221 838 921]\n"
     ]
    },
    {
     "name": "stderr",
     "output_type": "stream",
     "text": [
      "preprocessing: 8268it [06:25, 18.84it/s]"
     ]
    },
    {
     "name": "stdout",
     "output_type": "stream",
     "text": [
      "[201 169 833 890]\n",
      "[154 114 780 923]\n",
      "[179  93 832 892]\n",
      "[265 232 822 951]\n"
     ]
    },
    {
     "name": "stderr",
     "output_type": "stream",
     "text": [
      "preprocessing: 8272it [06:25, 19.06it/s]"
     ]
    },
    {
     "name": "stdout",
     "output_type": "stream",
     "text": [
      "[187 164 749 952]\n",
      "[200 100 845 963]\n",
      "[293 194 912 935]\n",
      "[229 179 767 838]\n"
     ]
    },
    {
     "name": "stderr",
     "output_type": "stream",
     "text": [
      "preprocessing: 8276it [06:25, 18.91it/s]"
     ]
    },
    {
     "name": "stdout",
     "output_type": "stream",
     "text": [
      "[193 176 818 904]\n",
      "[154 183 762 894]\n",
      "[256 231 844 923]\n",
      "[166 148 733 888]\n"
     ]
    },
    {
     "name": "stderr",
     "output_type": "stream",
     "text": [
      "preprocessing: 8280it [06:26, 19.20it/s]"
     ]
    },
    {
     "name": "stdout",
     "output_type": "stream",
     "text": [
      "[226 182 826 956]\n",
      "[163  89 934 891]\n",
      "[310 212 893 951]\n",
      "[148 194 764 930]\n"
     ]
    },
    {
     "name": "stderr",
     "output_type": "stream",
     "text": [
      "preprocessing: 8284it [06:26, 18.74it/s]"
     ]
    },
    {
     "name": "stdout",
     "output_type": "stream",
     "text": [
      "[162 134 788 888]\n",
      "[218 194 758 911]\n",
      "[140 165 715 895]\n",
      "[254 159 865 977]\n"
     ]
    },
    {
     "name": "stderr",
     "output_type": "stream",
     "text": [
      "preprocessing: 8288it [06:26, 18.79it/s]"
     ]
    },
    {
     "name": "stdout",
     "output_type": "stream",
     "text": [
      "[298 155 908 937]\n",
      "[ 80 127 755 907]\n",
      "[199 168 794 970]\n",
      "[277 209 782 945]\n"
     ]
    },
    {
     "name": "stderr",
     "output_type": "stream",
     "text": [
      "\r",
      "preprocessing: 8290it [06:26, 18.58it/s]"
     ]
    },
    {
     "name": "stdout",
     "output_type": "stream",
     "text": [
      "[263 109 885 882]\n",
      "[123 154 771 962]\n",
      "[  62  118  768 1008]\n",
      "[219 148 810 946]\n",
      "[253 201 780 932]\n"
     ]
    },
    {
     "name": "stderr",
     "output_type": "stream",
     "text": [
      "preprocessing: 8297it [06:26, 19.01it/s]"
     ]
    },
    {
     "name": "stdout",
     "output_type": "stream",
     "text": [
      "[239  67 955 923]\n",
      "[238 255 780 975]\n",
      "[229 162 790 942]\n",
      "[235 104 807 858]\n"
     ]
    },
    {
     "name": "stderr",
     "output_type": "stream",
     "text": [
      "\r",
      "preprocessing: 8299it [06:27, 18.78it/s]"
     ]
    },
    {
     "name": "stdout",
     "output_type": "stream",
     "text": [
      "[208 156 791 946]\n",
      "[153 140 741 938]\n",
      "[197 224 778 913]\n"
     ]
    },
    {
     "name": "stderr",
     "output_type": "stream",
     "text": [
      "preprocessing: 8303it [06:27, 16.99it/s]"
     ]
    },
    {
     "name": "stdout",
     "output_type": "stream",
     "text": [
      "[274 204 883 939]\n",
      "[281 160 922 890]\n",
      "[ 88 109 721 901]\n",
      "[272 239 865 940]\n"
     ]
    },
    {
     "name": "stderr",
     "output_type": "stream",
     "text": [
      "preprocessing: 8309it [06:27, 19.90it/s]"
     ]
    },
    {
     "name": "stdout",
     "output_type": "stream",
     "text": [
      "[157 154 770 864]\n",
      "[302 184 865 907]\n",
      "[271  98 968 901]\n",
      "[254 156 756 866]\n",
      "[267 198 832 892]\n"
     ]
    },
    {
     "name": "stderr",
     "output_type": "stream",
     "text": [
      "\r",
      "preprocessing: 8312it [06:27, 20.67it/s]"
     ]
    },
    {
     "name": "stdout",
     "output_type": "stream",
     "text": [
      "[182 128 781 978]\n",
      "[262 201 802 940]\n",
      "[209 187 771 916]\n",
      "[111 169 764 923]\n",
      "[161 159 792 943]\n"
     ]
    },
    {
     "name": "stderr",
     "output_type": "stream",
     "text": [
      "preprocessing: 8318it [06:28, 19.13it/s]"
     ]
    },
    {
     "name": "stdout",
     "output_type": "stream",
     "text": [
      "[268 138 843 901]\n",
      "[343 198 966 833]\n",
      "[273 203 844 909]\n"
     ]
    },
    {
     "name": "stderr",
     "output_type": "stream",
     "text": [
      "preprocessing: 8322it [06:28, 18.67it/s]"
     ]
    },
    {
     "name": "stdout",
     "output_type": "stream",
     "text": [
      "[242 207 792 878]\n",
      "[238 187 820 907]\n",
      "[245 228 832 939]\n",
      "[294 118 954 900]\n"
     ]
    },
    {
     "name": "stderr",
     "output_type": "stream",
     "text": [
      "preprocessing: 8326it [06:28, 18.56it/s]"
     ]
    },
    {
     "name": "stdout",
     "output_type": "stream",
     "text": [
      "[237 260 836 965]\n",
      "[238 280 798 804]\n",
      "[390 154 970 800]\n",
      "[160 182 766 905]\n"
     ]
    },
    {
     "name": "stderr",
     "output_type": "stream",
     "text": [
      "preprocessing: 8330it [06:28, 18.68it/s]"
     ]
    },
    {
     "name": "stdout",
     "output_type": "stream",
     "text": [
      "[251 191 812 921]\n",
      "[215 183 826 927]\n",
      "[169 126 718 897]\n",
      "[276 200 859 939]\n"
     ]
    },
    {
     "name": "stderr",
     "output_type": "stream",
     "text": [
      "preprocessing: 8334it [06:28, 18.92it/s]"
     ]
    },
    {
     "name": "stdout",
     "output_type": "stream",
     "text": [
      "[243 147 831 903]\n",
      "[163 173 771 877]\n",
      "[135 153 713 924]\n",
      "[163 161 704 924]\n"
     ]
    },
    {
     "name": "stderr",
     "output_type": "stream",
     "text": [
      "preprocessing: 8338it [06:29, 18.93it/s]"
     ]
    },
    {
     "name": "stdout",
     "output_type": "stream",
     "text": [
      "[266 171 860 981]\n",
      "[ 74 171 687 841]\n",
      "[151 140 773 880]\n",
      "[197 124 819 967]\n"
     ]
    },
    {
     "name": "stderr",
     "output_type": "stream",
     "text": [
      "preprocessing: 8342it [06:29, 18.58it/s]"
     ]
    },
    {
     "name": "stdout",
     "output_type": "stream",
     "text": [
      "[274 198 908 953]\n",
      "[183 141 746 947]\n",
      "[227 219 807 864]\n",
      "[260 191 784 898]\n"
     ]
    },
    {
     "name": "stderr",
     "output_type": "stream",
     "text": [
      "preprocessing: 8346it [06:29, 19.22it/s]"
     ]
    },
    {
     "name": "stdout",
     "output_type": "stream",
     "text": [
      "[316 177 849 817]\n",
      "[236 207 823 895]\n",
      "[176 229 756 915]\n",
      "[229 211 786 914]\n"
     ]
    },
    {
     "name": "stderr",
     "output_type": "stream",
     "text": [
      "preprocessing: 8350it [06:29, 18.79it/s]"
     ]
    },
    {
     "name": "stdout",
     "output_type": "stream",
     "text": [
      "[214 167 796 917]\n",
      "[166  62 765 876]\n",
      "[228 201 783 934]\n",
      "[247 218 781 938]\n"
     ]
    },
    {
     "name": "stderr",
     "output_type": "stream",
     "text": [
      "preprocessing: 8354it [06:30, 18.71it/s]"
     ]
    },
    {
     "name": "stdout",
     "output_type": "stream",
     "text": [
      "[176 185 808 905]\n",
      "[210 224 775 892]\n",
      "[175 149 840 937]\n",
      "[259 209 811 948]\n"
     ]
    },
    {
     "name": "stderr",
     "output_type": "stream",
     "text": [
      "preprocessing: 8358it [06:30, 18.83it/s]"
     ]
    },
    {
     "name": "stdout",
     "output_type": "stream",
     "text": [
      "[234 195 780 945]\n",
      "[268  81 920 806]\n",
      "[258 209 826 936]\n",
      "[254 191 771 864]\n"
     ]
    },
    {
     "name": "stderr",
     "output_type": "stream",
     "text": [
      "preprocessing: 8362it [06:30, 18.16it/s]"
     ]
    },
    {
     "name": "stdout",
     "output_type": "stream",
     "text": [
      "[226 214 758 979]\n",
      "[233 204 767 930]\n",
      "[329 176 895 905]\n",
      "[275 197 817 944]\n"
     ]
    },
    {
     "name": "stderr",
     "output_type": "stream",
     "text": [
      "\r",
      "preprocessing: 8364it [06:30, 17.69it/s]"
     ]
    },
    {
     "name": "stdout",
     "output_type": "stream",
     "text": [
      "[278 196 853 948]\n",
      "[227 177 815 949]\n",
      "[119 114 694 921]\n",
      "[162 116 836 979]\n"
     ]
    },
    {
     "name": "stderr",
     "output_type": "stream",
     "text": [
      "preprocessing: 8368it [06:30, 17.47it/s]"
     ]
    },
    {
     "name": "stdout",
     "output_type": "stream",
     "text": [
      "[209 148 810 933]\n",
      "[230 185 791 830]\n",
      "[146 113 745 809]\n",
      "[208 195 827 998]\n"
     ]
    },
    {
     "name": "stderr",
     "output_type": "stream",
     "text": [
      "preprocessing: 8374it [06:31, 16.62it/s]"
     ]
    },
    {
     "name": "stdout",
     "output_type": "stream",
     "text": [
      "[290 168 852 939]\n",
      "[233 189 764 834]\n",
      "[140 214 777 898]\n",
      "[258 198 820 995]\n"
     ]
    },
    {
     "name": "stderr",
     "output_type": "stream",
     "text": [
      "\r",
      "preprocessing: 8376it [06:31, 16.96it/s]"
     ]
    },
    {
     "name": "stdout",
     "output_type": "stream",
     "text": [
      "[253 194 783 885]\n",
      "[216 119 826 956]\n",
      "[220 217 770 969]\n",
      "[254 203 793 872]\n"
     ]
    },
    {
     "name": "stderr",
     "output_type": "stream",
     "text": [
      "preprocessing: 8380it [06:31, 16.64it/s]"
     ]
    },
    {
     "name": "stdout",
     "output_type": "stream",
     "text": [
      "[189 226 752 920]\n",
      "[130 161 744 893]\n",
      "[240 169 793 937]\n",
      "[200 255 737 892]\n"
     ]
    },
    {
     "name": "stderr",
     "output_type": "stream",
     "text": [
      "preprocessing: 8386it [06:31, 17.15it/s]"
     ]
    },
    {
     "name": "stdout",
     "output_type": "stream",
     "text": [
      "[232 200 816 966]\n",
      "[269 220 835 976]\n",
      "[111 145 739 928]\n",
      "[204 121 780 919]\n"
     ]
    },
    {
     "name": "stderr",
     "output_type": "stream",
     "text": [
      "preprocessing: 8390it [06:32, 17.35it/s]"
     ]
    },
    {
     "name": "stdout",
     "output_type": "stream",
     "text": [
      "[ 41  99 754 927]\n",
      "[194 151 789 900]\n",
      "[108 142 736 901]\n",
      "[246  88 924 946]\n"
     ]
    },
    {
     "name": "stderr",
     "output_type": "stream",
     "text": [
      "preprocessing: 8394it [06:32, 17.42it/s]"
     ]
    },
    {
     "name": "stdout",
     "output_type": "stream",
     "text": [
      "[171 191 779 890]\n",
      "[190 108 821 968]\n",
      "[126 125 747 915]\n",
      "[233 211 759 924]\n"
     ]
    },
    {
     "name": "stderr",
     "output_type": "stream",
     "text": [
      "preprocessing: 8398it [06:32, 17.05it/s]"
     ]
    },
    {
     "name": "stdout",
     "output_type": "stream",
     "text": [
      "[296 226 876 797]\n",
      "[218 145 808 962]\n",
      "[207  46 833 880]\n",
      "[236 151 809 923]\n"
     ]
    },
    {
     "name": "stderr",
     "output_type": "stream",
     "text": [
      "\r",
      "preprocessing: 8400it [06:32, 15.37it/s]"
     ]
    },
    {
     "name": "stdout",
     "output_type": "stream",
     "text": [
      "[ 216  180  821 1001]\n",
      "[ 72  96 721 848]\n",
      "[158 135 800 955]\n"
     ]
    },
    {
     "name": "stderr",
     "output_type": "stream",
     "text": [
      "preprocessing: 8404it [06:32, 16.06it/s]"
     ]
    },
    {
     "name": "stdout",
     "output_type": "stream",
     "text": [
      "[283 151 989 933]\n",
      "[288 218 831 956]\n",
      "[178 170 769 939]\n",
      "[182 186 801 985]\n"
     ]
    },
    {
     "name": "stderr",
     "output_type": "stream",
     "text": [
      "preprocessing: 8408it [06:33, 16.74it/s]"
     ]
    },
    {
     "name": "stdout",
     "output_type": "stream",
     "text": [
      "[209 109 831 885]\n",
      "[228  77 940 838]\n",
      "[226 215 820 933]\n",
      "[125 177 648 951]\n"
     ]
    },
    {
     "name": "stderr",
     "output_type": "stream",
     "text": [
      "preprocessing: 8412it [06:33, 16.65it/s]"
     ]
    },
    {
     "name": "stdout",
     "output_type": "stream",
     "text": [
      "[205 151 800 951]\n",
      "[307 112 920 860]\n",
      "[274 195 850 940]\n"
     ]
    },
    {
     "name": "stderr",
     "output_type": "stream",
     "text": [
      "preprocessing: 8416it [06:33, 16.85it/s]"
     ]
    },
    {
     "name": "stdout",
     "output_type": "stream",
     "text": [
      "[110 172 761 856]\n",
      "[244 169 794 933]\n",
      "[186 155 773 916]\n",
      "[279  53 954 854]\n"
     ]
    },
    {
     "name": "stderr",
     "output_type": "stream",
     "text": [
      "preprocessing: 8420it [06:33, 17.04it/s]"
     ]
    },
    {
     "name": "stdout",
     "output_type": "stream",
     "text": [
      "[225 144 828 929]\n",
      "[235 159 792 859]\n",
      "[191 246 742 926]\n",
      "[128 143 762 922]\n"
     ]
    },
    {
     "name": "stderr",
     "output_type": "stream",
     "text": [
      "preprocessing: 8424it [06:34, 16.37it/s]"
     ]
    },
    {
     "name": "stdout",
     "output_type": "stream",
     "text": [
      "[250 220 811 925]\n",
      "[340 182 966 894]\n",
      "[276 192 747 916]\n",
      "[230 243 775 978]\n"
     ]
    },
    {
     "name": "stderr",
     "output_type": "stream",
     "text": [
      "preprocessing: 8428it [06:34, 15.91it/s]"
     ]
    },
    {
     "name": "stdout",
     "output_type": "stream",
     "text": [
      "[164 147 799 907]\n",
      "[230 188 764 906]\n",
      "[211 110 818 797]\n",
      "[219 167 790 930]\n"
     ]
    },
    {
     "name": "stderr",
     "output_type": "stream",
     "text": [
      "preprocessing: 8432it [06:34, 16.32it/s]"
     ]
    },
    {
     "name": "stdout",
     "output_type": "stream",
     "text": [
      "[258 199 790 943]\n",
      "[101  94 731 900]\n",
      "[302 179 947 870]\n",
      "[277 150 966 914]\n"
     ]
    },
    {
     "name": "stderr",
     "output_type": "stream",
     "text": [
      "preprocessing: 8436it [06:34, 16.44it/s]"
     ]
    },
    {
     "name": "stdout",
     "output_type": "stream",
     "text": [
      "[217 184 761 935]\n",
      "[239 230 799 964]\n",
      "[201 207 847 960]\n",
      "[303 192 954 838]\n"
     ]
    },
    {
     "name": "stderr",
     "output_type": "stream",
     "text": [
      "preprocessing: 8440it [06:35, 16.24it/s]"
     ]
    },
    {
     "name": "stdout",
     "output_type": "stream",
     "text": [
      "[248 160 881 839]\n",
      "[230 192 778 923]\n",
      "[274 171 897 875]\n",
      "[206 123 856 928]\n"
     ]
    },
    {
     "name": "stderr",
     "output_type": "stream",
     "text": [
      "preprocessing: 8444it [06:35, 16.37it/s]"
     ]
    },
    {
     "name": "stdout",
     "output_type": "stream",
     "text": [
      "[ 225  224  783 1010]\n",
      "[255 202 788 957]\n",
      "[329 158 926 888]\n",
      "[300 201 893 933]\n"
     ]
    },
    {
     "name": "stderr",
     "output_type": "stream",
     "text": [
      "preprocessing: 8448it [06:35, 16.13it/s]"
     ]
    },
    {
     "name": "stdout",
     "output_type": "stream",
     "text": [
      "[357 119 988 873]\n",
      "[278 218 868 937]\n",
      "[287 208 790 878]\n",
      "[213 144 805 844]\n"
     ]
    },
    {
     "name": "stderr",
     "output_type": "stream",
     "text": [
      "preprocessing: 8452it [06:35, 16.40it/s]"
     ]
    },
    {
     "name": "stdout",
     "output_type": "stream",
     "text": [
      "[189 162 789 929]\n",
      "[193 194 790 915]\n",
      "[244 165 922 974]\n",
      "[240 179 786 936]\n"
     ]
    },
    {
     "name": "stderr",
     "output_type": "stream",
     "text": [
      "preprocessing: 8456it [06:36, 16.47it/s]"
     ]
    },
    {
     "name": "stdout",
     "output_type": "stream",
     "text": [
      "[252 195 866 956]\n",
      "[195 137 742 839]\n",
      "[299 179 864 890]\n",
      "[248 194 788 910]\n"
     ]
    },
    {
     "name": "stderr",
     "output_type": "stream",
     "text": [
      "preprocessing: 8460it [06:36, 16.66it/s]"
     ]
    },
    {
     "name": "stdout",
     "output_type": "stream",
     "text": [
      "[186 140 737 823]\n",
      "[254 162 806 898]\n",
      "[227 196 816 750]\n",
      "[346 210 977 825]\n"
     ]
    },
    {
     "name": "stderr",
     "output_type": "stream",
     "text": [
      "preprocessing: 8464it [06:36, 16.59it/s]"
     ]
    },
    {
     "name": "stdout",
     "output_type": "stream",
     "text": [
      "[220 106 853 951]\n",
      "[342 180 910 909]\n",
      "[235 116 829 917]\n",
      "[299 175 842 955]\n"
     ]
    },
    {
     "name": "stderr",
     "output_type": "stream",
     "text": [
      "preprocessing: 8468it [06:36, 16.76it/s]"
     ]
    },
    {
     "name": "stdout",
     "output_type": "stream",
     "text": [
      "[130 176 749 936]\n",
      "[240 192 746 895]\n",
      "[248 120 825 923]\n",
      "[289 178 913 945]\n"
     ]
    },
    {
     "name": "stderr",
     "output_type": "stream",
     "text": [
      "preprocessing: 8472it [06:37, 16.74it/s]"
     ]
    },
    {
     "name": "stdout",
     "output_type": "stream",
     "text": [
      "[235 218 775 915]\n",
      "[205 183 789 945]\n",
      "[264 130 909 890]\n",
      "[309 160 887 900]\n"
     ]
    },
    {
     "name": "stderr",
     "output_type": "stream",
     "text": [
      "preprocessing: 8476it [06:37, 16.45it/s]"
     ]
    },
    {
     "name": "stdout",
     "output_type": "stream",
     "text": [
      "[163 127 804 799]\n",
      "[261 176 835 943]\n",
      "[ 66 102 803 846]\n",
      "[143 190 676 861]\n"
     ]
    },
    {
     "name": "stderr",
     "output_type": "stream",
     "text": [
      "preprocessing: 8480it [06:37, 16.42it/s]"
     ]
    },
    {
     "name": "stdout",
     "output_type": "stream",
     "text": [
      "[141 134 748 890]\n",
      "[159 162 754 930]\n",
      "[222 138 846 986]\n",
      "[261 199 816 939]\n"
     ]
    },
    {
     "name": "stderr",
     "output_type": "stream",
     "text": [
      "preprocessing: 8484it [06:37, 16.05it/s]"
     ]
    },
    {
     "name": "stdout",
     "output_type": "stream",
     "text": [
      "[278 190 827 901]\n",
      "[274 204 887 927]\n",
      "[256 217 776 948]\n",
      "[ 86 126 750 945]\n"
     ]
    },
    {
     "name": "stderr",
     "output_type": "stream",
     "text": [
      "preprocessing: 8488it [06:38, 16.58it/s]"
     ]
    },
    {
     "name": "stdout",
     "output_type": "stream",
     "text": [
      "[270 184 851 949]\n",
      "[146 154 785 958]\n",
      "[115 162 760 942]\n",
      "[290 222 756 897]\n"
     ]
    },
    {
     "name": "stderr",
     "output_type": "stream",
     "text": [
      "preprocessing: 8492it [06:38, 16.63it/s]"
     ]
    },
    {
     "name": "stdout",
     "output_type": "stream",
     "text": [
      "[ 322   87 1017  946]\n",
      "[273 216 834 946]\n",
      "[195 174 784 916]\n",
      "[235 236 791 943]\n"
     ]
    },
    {
     "name": "stderr",
     "output_type": "stream",
     "text": [
      "preprocessing: 8496it [06:38, 16.60it/s]"
     ]
    },
    {
     "name": "stdout",
     "output_type": "stream",
     "text": [
      "[181 165 793 874]\n",
      "[218 147 753 942]\n",
      "[169 148 807 887]\n",
      "[263 205 782 911]\n"
     ]
    },
    {
     "name": "stderr",
     "output_type": "stream",
     "text": [
      "preprocessing: 8500it [06:38, 14.70it/s]"
     ]
    },
    {
     "name": "stdout",
     "output_type": "stream",
     "text": [
      "[245 152 722 912]\n",
      "[240 215 813 914]\n",
      "[301 170 958 860]\n"
     ]
    },
    {
     "name": "stderr",
     "output_type": "stream",
     "text": [
      "preprocessing: 8504it [06:39, 16.09it/s]"
     ]
    },
    {
     "name": "stdout",
     "output_type": "stream",
     "text": [
      "[ 67 111 745 912]\n",
      "[ 90 117 722 873]\n",
      "[237 205 770 920]\n",
      "[167 106 752 851]\n"
     ]
    },
    {
     "name": "stderr",
     "output_type": "stream",
     "text": [
      "\r",
      "preprocessing: 8506it [06:39, 16.68it/s]"
     ]
    },
    {
     "name": "stdout",
     "output_type": "stream",
     "text": [
      "[306 116 951 899]\n",
      "[123 124 767 878]\n",
      "[277 173 826 876]\n",
      "[221 142 800 949]\n"
     ]
    },
    {
     "name": "stderr",
     "output_type": "stream",
     "text": [
      "preprocessing: 8510it [06:39, 16.71it/s]"
     ]
    },
    {
     "name": "stdout",
     "output_type": "stream",
     "text": [
      "[ 92 148 739 963]\n",
      "[ 45  60 733 934]\n",
      "[265 167 891 873]\n",
      "[297 209 804 876]\n"
     ]
    },
    {
     "name": "stderr",
     "output_type": "stream",
     "text": [
      "preprocessing: 8516it [06:39, 16.59it/s]"
     ]
    },
    {
     "name": "stdout",
     "output_type": "stream",
     "text": [
      "[ 47 112 746 908]\n",
      "[305 171 910 939]\n",
      "[ 98 165 771 963]\n",
      "[262 187 861 891]\n"
     ]
    },
    {
     "name": "stderr",
     "output_type": "stream",
     "text": [
      "preprocessing: 8520it [06:40, 17.04it/s]"
     ]
    },
    {
     "name": "stdout",
     "output_type": "stream",
     "text": [
      "[190 214 788 920]\n",
      "[117 150 771 876]\n",
      "[110 170 811 975]\n",
      "[275 198 900 941]\n"
     ]
    },
    {
     "name": "stderr",
     "output_type": "stream",
     "text": [
      "preprocessing: 8524it [06:40, 17.05it/s]"
     ]
    },
    {
     "name": "stdout",
     "output_type": "stream",
     "text": [
      "[104 122 767 928]\n",
      "[288 238 845 914]\n",
      "[285 169 844 946]\n",
      "[159 170 785 919]\n"
     ]
    },
    {
     "name": "stderr",
     "output_type": "stream",
     "text": [
      "\r",
      "preprocessing: 8526it [06:40, 16.85it/s]"
     ]
    },
    {
     "name": "stdout",
     "output_type": "stream",
     "text": [
      "[224 145 770 892]\n",
      "[154 204 758 922]\n",
      "[215  95 822 927]\n",
      "[331 208 915 831]\n"
     ]
    },
    {
     "name": "stderr",
     "output_type": "stream",
     "text": [
      "preprocessing: 8530it [06:40, 16.57it/s]"
     ]
    },
    {
     "name": "stdout",
     "output_type": "stream",
     "text": [
      "[262 146 974 910]\n",
      "[176 140 760 907]\n",
      "[301 134 904 797]\n",
      "[136 119 772 934]\n"
     ]
    },
    {
     "name": "stderr",
     "output_type": "stream",
     "text": [
      "preprocessing: 8536it [06:40, 16.60it/s]"
     ]
    },
    {
     "name": "stdout",
     "output_type": "stream",
     "text": [
      "[233 185 795 957]\n",
      "[174 160 785 941]\n",
      "[217 167 772 907]\n",
      "[216 105 822 933]\n"
     ]
    },
    {
     "name": "stderr",
     "output_type": "stream",
     "text": [
      "\r",
      "preprocessing: 8538it [06:41, 15.45it/s]"
     ]
    },
    {
     "name": "stdout",
     "output_type": "stream",
     "text": [
      "[226 125 777 959]\n",
      "[229 177 808 894]\n",
      "[193 181 787 788]\n",
      "[162 103 767 922]\n"
     ]
    },
    {
     "name": "stderr",
     "output_type": "stream",
     "text": [
      "preprocessing: 8544it [06:41, 17.03it/s]"
     ]
    },
    {
     "name": "stdout",
     "output_type": "stream",
     "text": [
      "[207 178 748 889]\n",
      "[197 176 755 966]\n",
      "[268  72 967 845]\n",
      "[261 176 808 899]\n"
     ]
    },
    {
     "name": "stderr",
     "output_type": "stream",
     "text": [
      "preprocessing: 8548it [06:41, 17.12it/s]"
     ]
    },
    {
     "name": "stdout",
     "output_type": "stream",
     "text": [
      "[231 132 782 911]\n",
      "[226 199 777 951]\n",
      "[253 223 800 907]\n",
      "[262 188 865 906]\n"
     ]
    },
    {
     "name": "stderr",
     "output_type": "stream",
     "text": [
      "\r",
      "preprocessing: 8550it [06:41, 16.98it/s]"
     ]
    },
    {
     "name": "stdout",
     "output_type": "stream",
     "text": [
      "[231 208 787 996]\n",
      "[304 190 860 909]\n",
      "[252  77 890 884]\n",
      "[254 169 877 937]\n"
     ]
    },
    {
     "name": "stderr",
     "output_type": "stream",
     "text": [
      "preprocessing: 8554it [06:42, 16.54it/s]"
     ]
    },
    {
     "name": "stdout",
     "output_type": "stream",
     "text": [
      "[255 194 845 825]\n",
      "[199  26 901 906]\n",
      "[169  51 709 914]\n",
      "[217 211 756 916]\n"
     ]
    },
    {
     "name": "stderr",
     "output_type": "stream",
     "text": [
      "preprocessing: 8558it [06:42, 16.59it/s]"
     ]
    },
    {
     "name": "stdout",
     "output_type": "stream",
     "text": [
      "[209 154 770 793]\n",
      "[242 124 864 861]\n",
      "[226 201 755 902]\n",
      "[121 148 715 912]\n"
     ]
    },
    {
     "name": "stderr",
     "output_type": "stream",
     "text": [
      "preprocessing: 8562it [06:42, 16.53it/s]"
     ]
    },
    {
     "name": "stdout",
     "output_type": "stream",
     "text": [
      "[231 195 771 931]\n",
      "[168 219 770 861]\n",
      "[286 182 853 875]\n",
      "[197 181 773 949]\n"
     ]
    },
    {
     "name": "stderr",
     "output_type": "stream",
     "text": [
      "preprocessing: 8566it [06:42, 16.03it/s]"
     ]
    },
    {
     "name": "stdout",
     "output_type": "stream",
     "text": [
      "[217 101 832 946]\n",
      "[237 121 779 934]\n",
      "[171 134 739 930]\n",
      "[229 159 828 981]\n"
     ]
    },
    {
     "name": "stderr",
     "output_type": "stream",
     "text": [
      "preprocessing: 8572it [06:43, 16.26it/s]"
     ]
    },
    {
     "name": "stdout",
     "output_type": "stream",
     "text": [
      "[237 110 875 959]\n",
      "[210 132 796 988]\n",
      "[109 195 670 918]\n",
      "[104 119 758 927]\n"
     ]
    },
    {
     "name": "stderr",
     "output_type": "stream",
     "text": [
      "\r",
      "preprocessing: 8574it [06:43, 15.98it/s]"
     ]
    },
    {
     "name": "stdout",
     "output_type": "stream",
     "text": [
      "[137 157 763 877]\n",
      "[238 181 930 888]\n",
      "[261 184 778 920]\n",
      "[175 110 778 915]\n"
     ]
    },
    {
     "name": "stderr",
     "output_type": "stream",
     "text": [
      "preprocessing: 8578it [06:43, 16.31it/s]"
     ]
    },
    {
     "name": "stdout",
     "output_type": "stream",
     "text": [
      "[ 97 128 771 911]\n",
      "[251 183 781 963]\n",
      "[146 154 774 913]\n",
      "[252 198 787 778]\n"
     ]
    },
    {
     "name": "stderr",
     "output_type": "stream",
     "text": [
      "preprocessing: 8582it [06:43, 16.20it/s]"
     ]
    },
    {
     "name": "stdout",
     "output_type": "stream",
     "text": [
      "[285 139 844 928]\n",
      "[273 144 884 939]\n",
      "[ 87 137 763 950]\n",
      "[205 120 805 889]\n"
     ]
    },
    {
     "name": "stderr",
     "output_type": "stream",
     "text": [
      "preprocessing: 8588it [06:44, 16.97it/s]"
     ]
    },
    {
     "name": "stdout",
     "output_type": "stream",
     "text": [
      "[327 129 866 927]\n",
      "[251 219 793 970]\n",
      "[178 128 761 908]\n",
      "[277 209 854 904]\n"
     ]
    },
    {
     "name": "stderr",
     "output_type": "stream",
     "text": [
      "\r",
      "preprocessing: 8590it [06:44, 17.05it/s]"
     ]
    },
    {
     "name": "stdout",
     "output_type": "stream",
     "text": [
      "[276 165 942 900]\n",
      "[191 128 828 881]\n",
      "[190 177 842 983]\n",
      "[296 181 903 867]\n"
     ]
    },
    {
     "name": "stderr",
     "output_type": "stream",
     "text": [
      "preprocessing: 8596it [06:44, 16.70it/s]"
     ]
    },
    {
     "name": "stdout",
     "output_type": "stream",
     "text": [
      "[239 211 772 956]\n",
      "[238 246 844 953]\n",
      "[316 136 953 825]\n",
      "[132  52 760 879]\n"
     ]
    },
    {
     "name": "stderr",
     "output_type": "stream",
     "text": [
      "\r",
      "preprocessing: 8598it [06:44, 16.27it/s]"
     ]
    },
    {
     "name": "stdout",
     "output_type": "stream",
     "text": [
      "[174 100 801 972]\n",
      "[263 179 853 902]\n",
      "[220 113 834 924]\n",
      "[ 69 143 659 901]\n"
     ]
    },
    {
     "name": "stderr",
     "output_type": "stream",
     "text": [
      "preprocessing: 8604it [06:45, 15.78it/s]"
     ]
    },
    {
     "name": "stdout",
     "output_type": "stream",
     "text": [
      "[154 167 758 926]\n",
      "[165 163 760 884]\n",
      "[272 181 837 866]\n",
      "[215 190 839 946]\n"
     ]
    },
    {
     "name": "stderr",
     "output_type": "stream",
     "text": [
      "preprocessing: 8608it [06:45, 16.57it/s]"
     ]
    },
    {
     "name": "stdout",
     "output_type": "stream",
     "text": [
      "[337 203 890 853]\n",
      "[332 136 901 874]\n",
      "[112 148 731 944]\n",
      "[295 201 848 844]\n"
     ]
    },
    {
     "name": "stderr",
     "output_type": "stream",
     "text": [
      "preprocessing: 8612it [06:45, 17.09it/s]"
     ]
    },
    {
     "name": "stdout",
     "output_type": "stream",
     "text": [
      "[ 68 142 768 919]\n",
      "[198 193 820 959]\n",
      "[232 255 811 902]\n",
      "[131 140 721 985]\n"
     ]
    },
    {
     "name": "stderr",
     "output_type": "stream",
     "text": [
      "preprocessing: 8616it [06:45, 17.23it/s]"
     ]
    },
    {
     "name": "stdout",
     "output_type": "stream",
     "text": [
      "[237 216 834 932]\n",
      "[253 200 791 855]\n",
      "[348 185 908 888]\n",
      "[242 154 817 953]\n"
     ]
    },
    {
     "name": "stderr",
     "output_type": "stream",
     "text": [
      "preprocessing: 8620it [06:46, 17.00it/s]"
     ]
    },
    {
     "name": "stdout",
     "output_type": "stream",
     "text": [
      "[296  92 976 905]\n",
      "[245 192 824 863]\n",
      "[236 180 778 939]\n",
      "[161 170 758 921]\n"
     ]
    },
    {
     "name": "stderr",
     "output_type": "stream",
     "text": [
      "\r",
      "preprocessing: 8622it [06:46, 16.98it/s]"
     ]
    },
    {
     "name": "stdout",
     "output_type": "stream",
     "text": [
      "[226 149 813 946]\n",
      "[246 199 802 954]\n",
      "[254 230 800 995]\n",
      "[176 168 801 864]\n"
     ]
    },
    {
     "name": "stderr",
     "output_type": "stream",
     "text": [
      "preprocessing: 8626it [06:46, 16.99it/s]"
     ]
    },
    {
     "name": "stdout",
     "output_type": "stream",
     "text": [
      "[273 223 803 994]\n",
      "[ 94  92 751 911]\n",
      "[304 205 799 929]\n",
      "[289  67 899 851]\n"
     ]
    },
    {
     "name": "stderr",
     "output_type": "stream",
     "text": [
      "preprocessing: 8630it [06:46, 16.52it/s]"
     ]
    },
    {
     "name": "stdout",
     "output_type": "stream",
     "text": [
      "[130 140 758 922]\n",
      "[241  94 854 924]\n",
      "[282 167 872 890]\n",
      "[272 194 823 841]\n"
     ]
    },
    {
     "name": "stderr",
     "output_type": "stream",
     "text": [
      "preprocessing: 8636it [06:47, 17.14it/s]"
     ]
    },
    {
     "name": "stdout",
     "output_type": "stream",
     "text": [
      "[180 203 857 988]\n",
      "[267 146 912 964]\n",
      "[310 192 891 945]\n",
      "[185 166 797 947]\n"
     ]
    },
    {
     "name": "stderr",
     "output_type": "stream",
     "text": [
      "\r",
      "preprocessing: 8638it [06:47, 17.25it/s]"
     ]
    },
    {
     "name": "stdout",
     "output_type": "stream",
     "text": [
      "[333 220 878 907]\n",
      "[176 127 823 934]\n",
      "[240 203 826 951]\n",
      "[232 215 779 929]\n"
     ]
    },
    {
     "name": "stderr",
     "output_type": "stream",
     "text": [
      "preprocessing: 8643it [06:47, 17.96it/s]"
     ]
    },
    {
     "name": "stdout",
     "output_type": "stream",
     "text": [
      "[274 130 822 933]\n",
      "[244 196 799 927]\n",
      "[279 174 899 913]\n",
      "[306 139 891 923]\n"
     ]
    },
    {
     "name": "stderr",
     "output_type": "stream",
     "text": [
      "preprocessing: 8647it [06:47, 17.21it/s]"
     ]
    },
    {
     "name": "stdout",
     "output_type": "stream",
     "text": [
      "[221 115 819 853]\n",
      "[224 108 826 902]\n",
      "[255 202 795 911]\n",
      "[ 79 146 692 898]\n"
     ]
    },
    {
     "name": "stderr",
     "output_type": "stream",
     "text": [
      "preprocessing: 8651it [06:47, 17.47it/s]"
     ]
    },
    {
     "name": "stdout",
     "output_type": "stream",
     "text": [
      "[322 157 885 892]\n",
      "[184 201 758 950]\n",
      "[285 229 844 984]\n",
      "[202 113 823 942]\n",
      "[164 188 781 888]\n"
     ]
    },
    {
     "name": "stderr",
     "output_type": "stream",
     "text": [
      "preprocessing: 8656it [06:48, 18.84it/s]"
     ]
    },
    {
     "name": "stdout",
     "output_type": "stream",
     "text": [
      "[240 222 778 909]\n",
      "[241 186 802 938]\n",
      "[219 222 805 953]\n",
      "[236 163 818 945]\n"
     ]
    },
    {
     "name": "stderr",
     "output_type": "stream",
     "text": [
      "preprocessing: 8660it [06:48, 18.03it/s]"
     ]
    },
    {
     "name": "stdout",
     "output_type": "stream",
     "text": [
      "[322 217 886 885]\n",
      "[231 150 824 883]\n",
      "[116 180 745 937]\n",
      "[236 227 870 875]\n"
     ]
    },
    {
     "name": "stderr",
     "output_type": "stream",
     "text": [
      "preprocessing: 8664it [06:48, 17.82it/s]"
     ]
    },
    {
     "name": "stdout",
     "output_type": "stream",
     "text": [
      "[ 97 162 668 886]\n",
      "[ 62 146 752 853]\n",
      "[227 196 746 901]\n",
      "[131 145 712 949]\n"
     ]
    },
    {
     "name": "stderr",
     "output_type": "stream",
     "text": [
      "preprocessing: 8668it [06:48, 18.20it/s]"
     ]
    },
    {
     "name": "stdout",
     "output_type": "stream",
     "text": [
      "[221 149 779 920]\n",
      "[231 192 839 912]\n",
      "[287 197 912 876]\n",
      "[275 167 843 938]\n"
     ]
    },
    {
     "name": "stderr",
     "output_type": "stream",
     "text": [
      "preprocessing: 8672it [06:48, 18.66it/s]"
     ]
    },
    {
     "name": "stdout",
     "output_type": "stream",
     "text": [
      "[252 155 899 832]\n",
      "[164 156 789 925]\n",
      "[251 208 799 918]\n",
      "[260 291 830 934]\n"
     ]
    },
    {
     "name": "stderr",
     "output_type": "stream",
     "text": [
      "preprocessing: 8676it [06:49, 18.44it/s]"
     ]
    },
    {
     "name": "stdout",
     "output_type": "stream",
     "text": [
      "[303 177 931 956]\n",
      "[174 181 746 924]\n",
      "[201 207 783 843]\n",
      "[257 136 835 942]\n"
     ]
    },
    {
     "name": "stderr",
     "output_type": "stream",
     "text": [
      "preprocessing: 8680it [06:49, 16.97it/s]"
     ]
    },
    {
     "name": "stdout",
     "output_type": "stream",
     "text": [
      "[378 147 917 836]\n",
      "[239 208 872 816]\n",
      "[226 190 797 919]\n",
      "[222 189 765 872]\n"
     ]
    },
    {
     "name": "stderr",
     "output_type": "stream",
     "text": [
      "preprocessing: 8684it [06:49, 16.37it/s]"
     ]
    },
    {
     "name": "stdout",
     "output_type": "stream",
     "text": [
      "[226 218 749 964]\n",
      "[208 121 773 967]\n",
      "[181 179 780 955]\n",
      "[206 205 786 915]\n"
     ]
    },
    {
     "name": "stderr",
     "output_type": "stream",
     "text": [
      "preprocessing: 8688it [06:49, 17.04it/s]"
     ]
    },
    {
     "name": "stdout",
     "output_type": "stream",
     "text": [
      "[261 227 767 869]\n",
      "[217 180 781 954]\n",
      "[324 156 881 884]\n"
     ]
    },
    {
     "name": "stderr",
     "output_type": "stream",
     "text": [
      "preprocessing: 8692it [06:50, 17.51it/s]"
     ]
    },
    {
     "name": "stdout",
     "output_type": "stream",
     "text": [
      "[234 180 784 942]\n",
      "[243 170 825 891]\n",
      "[299 163 926 863]\n",
      "[292 142 830 953]\n"
     ]
    },
    {
     "name": "stderr",
     "output_type": "stream",
     "text": [
      "preprocessing: 8696it [06:50, 18.23it/s]"
     ]
    },
    {
     "name": "stdout",
     "output_type": "stream",
     "text": [
      "[115 153 725 911]\n",
      "[198 276 739 920]\n",
      "[210 174 798 917]\n",
      "[261 205 818 929]\n"
     ]
    },
    {
     "name": "stderr",
     "output_type": "stream",
     "text": [
      "preprocessing: 8700it [06:50, 16.19it/s]"
     ]
    },
    {
     "name": "stdout",
     "output_type": "stream",
     "text": [
      "[112  79 782 900]\n",
      "[203 224 776 918]\n",
      "[179 158 768 972]\n"
     ]
    },
    {
     "name": "stderr",
     "output_type": "stream",
     "text": [
      "\r",
      "preprocessing: 8702it [06:50, 16.64it/s]"
     ]
    },
    {
     "name": "stdout",
     "output_type": "stream",
     "text": [
      "[264 197 796 893]\n",
      "[266 147 858 986]\n",
      "[237 145 788 890]\n",
      "[122 137 778 962]\n"
     ]
    },
    {
     "name": "stderr",
     "output_type": "stream",
     "text": [
      "preprocessing: 8708it [06:51, 18.54it/s]"
     ]
    },
    {
     "name": "stdout",
     "output_type": "stream",
     "text": [
      "[229 169 844 993]\n",
      "[289 103 905 807]\n",
      "[239 194 821 936]\n",
      "[200 115 791 873]\n"
     ]
    },
    {
     "name": "stderr",
     "output_type": "stream",
     "text": [
      "\r",
      "preprocessing: 8711it [06:51, 18.83it/s]"
     ]
    },
    {
     "name": "stdout",
     "output_type": "stream",
     "text": [
      "[354 204 857 868]\n",
      "[208 150 803 881]\n",
      "[114 176 692 863]\n",
      "[257 136 832 960]\n"
     ]
    },
    {
     "name": "stderr",
     "output_type": "stream",
     "text": [
      "preprocessing: 8715it [06:51, 18.87it/s]"
     ]
    },
    {
     "name": "stdout",
     "output_type": "stream",
     "text": [
      "[251 139 840 938]\n",
      "[ 84 211 699 910]\n",
      "[260 223 819 934]\n",
      "[335 175 971 848]\n"
     ]
    },
    {
     "name": "stderr",
     "output_type": "stream",
     "text": [
      "preprocessing: 8719it [06:51, 18.94it/s]"
     ]
    },
    {
     "name": "stdout",
     "output_type": "stream",
     "text": [
      "[231 180 823 875]\n",
      "[221 194 797 903]\n",
      "[335 181 942 871]\n",
      "[261 152 851 978]\n"
     ]
    },
    {
     "name": "stderr",
     "output_type": "stream",
     "text": [
      "preprocessing: 8723it [06:51, 17.90it/s]"
     ]
    },
    {
     "name": "stdout",
     "output_type": "stream",
     "text": [
      "[250 131 936 888]\n",
      "[151 154 731 931]\n",
      "[269 198 806 944]\n",
      "[147 125 786 940]\n"
     ]
    },
    {
     "name": "stderr",
     "output_type": "stream",
     "text": [
      "preprocessing: 8727it [06:52, 17.45it/s]"
     ]
    },
    {
     "name": "stdout",
     "output_type": "stream",
     "text": [
      "[224 224 739 934]\n",
      "[215 147 836 945]\n",
      "[202 223 830 900]\n",
      "[177 214 787 917]\n"
     ]
    },
    {
     "name": "stderr",
     "output_type": "stream",
     "text": [
      "preprocessing: 8731it [06:52, 16.89it/s]"
     ]
    },
    {
     "name": "stdout",
     "output_type": "stream",
     "text": [
      "[279 142 879 819]\n",
      "[212 147 769 892]\n",
      "[188 202 786 980]\n",
      "[242 170 802 821]\n"
     ]
    },
    {
     "name": "stderr",
     "output_type": "stream",
     "text": [
      "preprocessing: 8735it [06:52, 16.69it/s]"
     ]
    },
    {
     "name": "stdout",
     "output_type": "stream",
     "text": [
      "[201 195 770 954]\n",
      "[248 206 798 949]\n",
      "[181 194 759 967]\n",
      "[113  89 755 905]\n"
     ]
    },
    {
     "name": "stderr",
     "output_type": "stream",
     "text": [
      "preprocessing: 8739it [06:52, 16.72it/s]"
     ]
    },
    {
     "name": "stdout",
     "output_type": "stream",
     "text": [
      "[220 207 765 918]\n",
      "[272 163 857 834]\n",
      "[308 160 907 863]\n",
      "[293 162 877 896]\n"
     ]
    },
    {
     "name": "stderr",
     "output_type": "stream",
     "text": [
      "preprocessing: 8743it [06:53, 16.74it/s]"
     ]
    },
    {
     "name": "stdout",
     "output_type": "stream",
     "text": [
      "[220 111 824 968]\n",
      "[106 207 679 966]\n",
      "[107  80 738 817]\n",
      "[208 144 805 969]\n"
     ]
    },
    {
     "name": "stderr",
     "output_type": "stream",
     "text": [
      "preprocessing: 8747it [06:53, 16.56it/s]"
     ]
    },
    {
     "name": "stdout",
     "output_type": "stream",
     "text": [
      "[125 139 736 891]\n",
      "[222 196 791 938]\n",
      "[257 153 836 915]\n",
      "[205 135 758 862]\n"
     ]
    },
    {
     "name": "stderr",
     "output_type": "stream",
     "text": [
      "preprocessing: 8751it [06:53, 15.58it/s]"
     ]
    },
    {
     "name": "stdout",
     "output_type": "stream",
     "text": [
      "[237 211 812 965]\n",
      "[238 214 803 921]\n",
      "[260 197 840 875]\n"
     ]
    },
    {
     "name": "stderr",
     "output_type": "stream",
     "text": [
      "preprocessing: 8755it [06:53, 16.62it/s]"
     ]
    },
    {
     "name": "stdout",
     "output_type": "stream",
     "text": [
      "[287 205 844 944]\n",
      "[182 204 799 911]\n",
      "[158 211 799 965]\n",
      "[243 180 826 906]\n"
     ]
    },
    {
     "name": "stderr",
     "output_type": "stream",
     "text": [
      "\r",
      "preprocessing: 8758it [06:53, 17.99it/s]"
     ]
    },
    {
     "name": "stdout",
     "output_type": "stream",
     "text": [
      "[266 198 833 907]\n",
      "[244 151 802 974]\n",
      "[226 123 886 873]\n",
      "[137 120 763 957]\n",
      "[204 180 826 989]\n"
     ]
    },
    {
     "name": "stderr",
     "output_type": "stream",
     "text": [
      "preprocessing: 8764it [06:54, 17.84it/s]"
     ]
    },
    {
     "name": "stdout",
     "output_type": "stream",
     "text": [
      "[211 233 749 925]\n",
      "[188 148 754 993]\n",
      "[190 207 772 927]\n",
      "[277 161 913 873]\n"
     ]
    },
    {
     "name": "stderr",
     "output_type": "stream",
     "text": [
      "preprocessing: 8768it [06:54, 17.33it/s]"
     ]
    },
    {
     "name": "stdout",
     "output_type": "stream",
     "text": [
      "[268 222 834 884]\n",
      "[225 212 784 944]\n",
      "[150 152 754 945]\n",
      "[236 203 786 896]\n"
     ]
    },
    {
     "name": "stderr",
     "output_type": "stream",
     "text": [
      "preprocessing: 8772it [06:54, 17.41it/s]"
     ]
    },
    {
     "name": "stdout",
     "output_type": "stream",
     "text": [
      "[308 226 869 907]\n",
      "[141 179 770 932]\n",
      "[248 194 809 886]\n",
      "[170 185 843 977]\n"
     ]
    },
    {
     "name": "stderr",
     "output_type": "stream",
     "text": [
      "\r",
      "preprocessing: 8774it [06:54, 17.00it/s]"
     ]
    },
    {
     "name": "stdout",
     "output_type": "stream",
     "text": [
      "[216 200 777 960]\n",
      "[287 139 908 895]\n",
      "[134 117 748 955]\n",
      "[217 199 762 916]\n"
     ]
    },
    {
     "name": "stderr",
     "output_type": "stream",
     "text": [
      "preprocessing: 8778it [06:55, 16.69it/s]"
     ]
    },
    {
     "name": "stdout",
     "output_type": "stream",
     "text": [
      "[224 131 820 864]\n",
      "[291 211 802 921]\n",
      "[245 193 814 957]\n",
      "[145 128 737 949]\n"
     ]
    },
    {
     "name": "stderr",
     "output_type": "stream",
     "text": [
      "preprocessing: 8782it [06:55, 16.00it/s]"
     ]
    },
    {
     "name": "stdout",
     "output_type": "stream",
     "text": [
      "[213 206 735 919]\n",
      "[187 144 801 857]\n",
      "[ 70 174 679 889]\n"
     ]
    },
    {
     "name": "stderr",
     "output_type": "stream",
     "text": [
      "preprocessing: 8788it [06:55, 16.12it/s]"
     ]
    },
    {
     "name": "stdout",
     "output_type": "stream",
     "text": [
      "[240 200 772 923]\n",
      "[147 133 785 945]\n",
      "[164 186 758 880]\n",
      "[238 183 825 959]\n"
     ]
    },
    {
     "name": "stderr",
     "output_type": "stream",
     "text": [
      "\r",
      "preprocessing: 8790it [06:55, 16.06it/s]"
     ]
    },
    {
     "name": "stdout",
     "output_type": "stream",
     "text": [
      "[309 193 952 855]\n",
      "[240 226 796 951]\n",
      "[192 168 777 966]\n",
      "[295 152 920 910]\n"
     ]
    },
    {
     "name": "stderr",
     "output_type": "stream",
     "text": [
      "preprocessing: 8794it [06:56, 16.34it/s]"
     ]
    },
    {
     "name": "stdout",
     "output_type": "stream",
     "text": [
      "[230 164 790 929]\n",
      "[254 167 868 972]\n",
      "[258 176 834 941]\n",
      "[338 226 902 967]\n"
     ]
    },
    {
     "name": "stderr",
     "output_type": "stream",
     "text": [
      "preprocessing: 8798it [06:56, 16.57it/s]"
     ]
    },
    {
     "name": "stdout",
     "output_type": "stream",
     "text": [
      "[249 163 855 854]\n",
      "[305 192 934 858]\n",
      "[278 179 854 968]\n",
      "[214 142 802 914]\n"
     ]
    },
    {
     "name": "stderr",
     "output_type": "stream",
     "text": [
      "preprocessing: 8804it [06:56, 15.52it/s]"
     ]
    },
    {
     "name": "stdout",
     "output_type": "stream",
     "text": [
      "[226 181 775 924]\n",
      "[252 127 968 952]\n",
      "[241 127 864 911]\n",
      "[321 149 884 944]\n"
     ]
    },
    {
     "name": "stderr",
     "output_type": "stream",
     "text": [
      "\r",
      "preprocessing: 8806it [06:56, 16.57it/s]"
     ]
    },
    {
     "name": "stdout",
     "output_type": "stream",
     "text": [
      "[ 91 167 739 907]\n",
      "[274 176 851 904]\n",
      "[187 213 782 884]\n",
      "[204 106 770 901]\n",
      "[275 148 814 899]\n"
     ]
    },
    {
     "name": "stderr",
     "output_type": "stream",
     "text": [
      "preprocessing: 8813it [06:57, 18.19it/s]"
     ]
    },
    {
     "name": "stdout",
     "output_type": "stream",
     "text": [
      "[200 164 811 944]\n",
      "[ 73 159 711 907]\n",
      "[283 205 817 946]\n",
      "[195 185 781 954]\n"
     ]
    },
    {
     "name": "stderr",
     "output_type": "stream",
     "text": [
      "\r",
      "preprocessing: 8815it [06:57, 17.82it/s]"
     ]
    },
    {
     "name": "stdout",
     "output_type": "stream",
     "text": [
      "[244 129 806 907]\n",
      "[181 187 787 960]\n",
      "[312 156 857 934]\n",
      "[218 171 842 956]\n"
     ]
    },
    {
     "name": "stderr",
     "output_type": "stream",
     "text": [
      "preprocessing: 8821it [06:57, 17.10it/s]"
     ]
    },
    {
     "name": "stdout",
     "output_type": "stream",
     "text": [
      "[247 197 784 894]\n",
      "[246 144 851 955]\n",
      "[222 204 831 847]\n",
      "[343 255 768 850]\n"
     ]
    },
    {
     "name": "stderr",
     "output_type": "stream",
     "text": [
      "\r",
      "preprocessing: 8823it [06:57, 16.32it/s]"
     ]
    },
    {
     "name": "stdout",
     "output_type": "stream",
     "text": [
      "[ 72 161 762 880]\n",
      "[281 208 848 825]\n",
      "[280 204 821 937]\n",
      "[213 157 847 928]\n"
     ]
    },
    {
     "name": "stderr",
     "output_type": "stream",
     "text": [
      "preprocessing: 8827it [06:58, 16.06it/s]"
     ]
    },
    {
     "name": "stdout",
     "output_type": "stream",
     "text": [
      "[309 184 989 873]\n",
      "[243 204 847 949]\n",
      "[291 163 879 826]\n",
      "[171 109 848 936]\n"
     ]
    },
    {
     "name": "stderr",
     "output_type": "stream",
     "text": [
      "preprocessing: 8831it [06:58, 16.11it/s]"
     ]
    },
    {
     "name": "stdout",
     "output_type": "stream",
     "text": [
      "[271 193 831 936]\n",
      "[231 205 844 920]\n",
      "[111 138 754 882]\n",
      "[215 160 800 867]\n"
     ]
    },
    {
     "name": "stderr",
     "output_type": "stream",
     "text": [
      "preprocessing: 8837it [06:58, 16.35it/s]"
     ]
    },
    {
     "name": "stdout",
     "output_type": "stream",
     "text": [
      "[298 194 923 906]\n",
      "[166  56 728 905]\n",
      "[252 179 821 941]\n",
      "[305 102 938 867]\n"
     ]
    },
    {
     "name": "stderr",
     "output_type": "stream",
     "text": [
      "preprocessing: 8841it [06:58, 16.77it/s]"
     ]
    },
    {
     "name": "stdout",
     "output_type": "stream",
     "text": [
      "[292 192 878 907]\n",
      "[249 174 840 963]\n",
      "[241 234 838 978]\n",
      "[316 172 901 863]\n"
     ]
    },
    {
     "name": "stderr",
     "output_type": "stream",
     "text": [
      "preprocessing: 8845it [06:59, 17.08it/s]"
     ]
    },
    {
     "name": "stdout",
     "output_type": "stream",
     "text": [
      "[250 177 827 948]\n",
      "[238 176 806 953]\n",
      "[248 213 808 897]\n",
      "[307 198 844 904]\n"
     ]
    },
    {
     "name": "stderr",
     "output_type": "stream",
     "text": [
      "preprocessing: 8849it [06:59, 17.06it/s]"
     ]
    },
    {
     "name": "stdout",
     "output_type": "stream",
     "text": [
      "[128 208 785 968]\n",
      "[210 166 806 913]\n",
      "[287 231 754 899]\n",
      "[251 181 836 830]\n"
     ]
    },
    {
     "name": "stderr",
     "output_type": "stream",
     "text": [
      "preprocessing: 8853it [06:59, 16.94it/s]"
     ]
    },
    {
     "name": "stdout",
     "output_type": "stream",
     "text": [
      "[286 187 909 894]\n",
      "[294 139 913 872]\n",
      "[187 231 746 908]\n",
      "[288 225 854 916]\n"
     ]
    },
    {
     "name": "stderr",
     "output_type": "stream",
     "text": [
      "\r",
      "preprocessing: 8855it [06:59, 16.78it/s]"
     ]
    },
    {
     "name": "stdout",
     "output_type": "stream",
     "text": [
      "[246 198 772 925]\n",
      "[126 138 738 976]\n",
      "[218 145 782 933]\n",
      "[224 168 803 794]\n"
     ]
    },
    {
     "name": "stderr",
     "output_type": "stream",
     "text": [
      "preprocessing: 8861it [07:00, 16.57it/s]"
     ]
    },
    {
     "name": "stdout",
     "output_type": "stream",
     "text": [
      "[276 161 831 905]\n",
      "[308 133 954 814]\n",
      "[336 134 984 861]\n",
      "[227 163 812 920]\n"
     ]
    },
    {
     "name": "stderr",
     "output_type": "stream",
     "text": [
      "\r",
      "preprocessing: 8863it [07:00, 16.28it/s]"
     ]
    },
    {
     "name": "stdout",
     "output_type": "stream",
     "text": [
      "[255 186 817 921]\n",
      "[236 194 830 895]\n",
      "[153 169 755 874]\n",
      "[254 196 848 974]\n"
     ]
    },
    {
     "name": "stderr",
     "output_type": "stream",
     "text": [
      "preprocessing: 8867it [07:00, 16.21it/s]"
     ]
    },
    {
     "name": "stdout",
     "output_type": "stream",
     "text": [
      "[234 221 782 916]\n",
      "[134 191 768 932]\n",
      "[145 141 772 913]\n",
      "[168 156 748 948]\n"
     ]
    },
    {
     "name": "stderr",
     "output_type": "stream",
     "text": [
      "preprocessing: 8873it [07:00, 16.31it/s]"
     ]
    },
    {
     "name": "stdout",
     "output_type": "stream",
     "text": [
      "[166 136 723 908]\n",
      "[346 178 895 913]\n",
      "[342 181 930 886]\n",
      "[206 147 827 893]\n"
     ]
    },
    {
     "name": "stderr",
     "output_type": "stream",
     "text": [
      "preprocessing: 8877it [07:01, 16.75it/s]"
     ]
    },
    {
     "name": "stdout",
     "output_type": "stream",
     "text": [
      "[201 177 775 887]\n",
      "[272 196 884 944]\n",
      "[221 158 796 929]\n",
      "[266 151 815 908]\n"
     ]
    },
    {
     "name": "stderr",
     "output_type": "stream",
     "text": [
      "preprocessing: 8881it [07:01, 16.77it/s]"
     ]
    },
    {
     "name": "stdout",
     "output_type": "stream",
     "text": [
      "[248 184 767 903]\n",
      "[ 203  144  959 1012]\n",
      "[172 129 734 905]\n",
      "[188 210 751 970]\n"
     ]
    },
    {
     "name": "stderr",
     "output_type": "stream",
     "text": [
      "preprocessing: 8885it [07:01, 16.43it/s]"
     ]
    },
    {
     "name": "stdout",
     "output_type": "stream",
     "text": [
      "[144 128 783 878]\n",
      "[195 193 771 900]\n",
      "[150 169 773 936]\n",
      "[227 119 830 953]\n"
     ]
    },
    {
     "name": "stderr",
     "output_type": "stream",
     "text": [
      "preprocessing: 8889it [07:01, 16.39it/s]"
     ]
    },
    {
     "name": "stdout",
     "output_type": "stream",
     "text": [
      "[232 158 772 914]\n",
      "[317 165 952 951]\n",
      "[292 156 861 857]\n",
      "[170 196 752 930]\n"
     ]
    },
    {
     "name": "stderr",
     "output_type": "stream",
     "text": [
      "\r",
      "preprocessing: 8891it [07:01, 16.30it/s]"
     ]
    },
    {
     "name": "stdout",
     "output_type": "stream",
     "text": [
      "[347 188 863 893]\n",
      "[142 136 762 967]\n",
      "[128 154 770 909]\n",
      "[173 123 867 900]\n"
     ]
    },
    {
     "name": "stderr",
     "output_type": "stream",
     "text": [
      "preprocessing: 8895it [07:02, 16.30it/s]"
     ]
    },
    {
     "name": "stdout",
     "output_type": "stream",
     "text": [
      "[355 182 938 844]\n",
      "[196 182 785 851]\n",
      "[222 190 828 907]\n",
      "[207 147 866 890]\n"
     ]
    },
    {
     "name": "stderr",
     "output_type": "stream",
     "text": [
      "preprocessing: 8899it [07:02, 16.32it/s]"
     ]
    },
    {
     "name": "stdout",
     "output_type": "stream",
     "text": [
      "[248 194 830 958]\n",
      "[266 212 847 926]\n",
      "[ 92 171 738 881]\n"
     ]
    },
    {
     "name": "stderr",
     "output_type": "stream",
     "text": [
      "preprocessing: 8903it [07:02, 14.87it/s]"
     ]
    },
    {
     "name": "stdout",
     "output_type": "stream",
     "text": [
      "[218 193 772 936]\n",
      "[310 198 911 948]\n",
      "[301 194 895 978]\n",
      "[271 191 827 900]\n"
     ]
    },
    {
     "name": "stderr",
     "output_type": "stream",
     "text": [
      "preprocessing: 8908it [07:03, 17.37it/s]"
     ]
    },
    {
     "name": "stdout",
     "output_type": "stream",
     "text": [
      "[210 147 802 955]\n",
      "[178 138 768 924]\n",
      "[286 230 878 979]\n",
      "[303 123 961 869]\n",
      "[241 175 834 952]\n"
     ]
    },
    {
     "name": "stderr",
     "output_type": "stream",
     "text": [
      "preprocessing: 8912it [07:03, 17.49it/s]"
     ]
    },
    {
     "name": "stdout",
     "output_type": "stream",
     "text": [
      "[278  63 936 865]\n",
      "[150 209 804 950]\n",
      "[295 215 816 876]\n",
      "[163 181 739 915]\n"
     ]
    },
    {
     "name": "stderr",
     "output_type": "stream",
     "text": [
      "preprocessing: 8916it [07:03, 16.98it/s]"
     ]
    },
    {
     "name": "stdout",
     "output_type": "stream",
     "text": [
      "[ 45 127 664 849]\n",
      "[248 197 836 936]\n",
      "[267 201 751 923]\n",
      "[233 124 906 952]\n"
     ]
    },
    {
     "name": "stderr",
     "output_type": "stream",
     "text": [
      "preprocessing: 8920it [07:03, 16.44it/s]"
     ]
    },
    {
     "name": "stdout",
     "output_type": "stream",
     "text": [
      "[195 147 814 902]\n",
      "[351 190 902 924]\n",
      "[254 197 829 914]\n",
      "[181 205 689 896]\n"
     ]
    },
    {
     "name": "stderr",
     "output_type": "stream",
     "text": [
      "preprocessing: 8924it [07:03, 16.76it/s]"
     ]
    },
    {
     "name": "stdout",
     "output_type": "stream",
     "text": [
      "[236 184 836 982]\n",
      "[191 134 825 954]\n",
      "[273 164 850 868]\n",
      "[193 223 743 922]\n"
     ]
    },
    {
     "name": "stderr",
     "output_type": "stream",
     "text": [
      "preprocessing: 8928it [07:04, 16.82it/s]"
     ]
    },
    {
     "name": "stdout",
     "output_type": "stream",
     "text": [
      "[199 151 819 851]\n",
      "[250 195 867 980]\n",
      "[420 119 927 813]\n",
      "[235 228 806 937]\n"
     ]
    },
    {
     "name": "stderr",
     "output_type": "stream",
     "text": [
      "preprocessing: 8932it [07:04, 16.59it/s]"
     ]
    },
    {
     "name": "stdout",
     "output_type": "stream",
     "text": [
      "[225 176 800 921]\n",
      "[213 210 788 890]\n",
      "[182 177 732 940]\n",
      "[239 127 831 888]\n"
     ]
    },
    {
     "name": "stderr",
     "output_type": "stream",
     "text": [
      "preprocessing: 8936it [07:04, 16.52it/s]"
     ]
    },
    {
     "name": "stdout",
     "output_type": "stream",
     "text": [
      "[207 177 764 801]\n",
      "[136 129 746 924]\n",
      "[272 202 820 902]\n",
      "[226  62 804 879]\n"
     ]
    },
    {
     "name": "stderr",
     "output_type": "stream",
     "text": [
      "preprocessing: 8940it [07:04, 16.33it/s]"
     ]
    },
    {
     "name": "stdout",
     "output_type": "stream",
     "text": [
      "[121 134 712 898]\n",
      "[273 197 821 989]\n",
      "[139 131 866 934]\n",
      "[136 174 737 909]\n"
     ]
    },
    {
     "name": "stderr",
     "output_type": "stream",
     "text": [
      "preprocessing: 8944it [07:05, 16.44it/s]"
     ]
    },
    {
     "name": "stdout",
     "output_type": "stream",
     "text": [
      "[240 227 829 904]\n",
      "[231 201 797 876]\n",
      "[237 186 792 977]\n",
      "[226 134 783 864]\n"
     ]
    },
    {
     "name": "stderr",
     "output_type": "stream",
     "text": [
      "preprocessing: 8948it [07:05, 16.29it/s]"
     ]
    },
    {
     "name": "stdout",
     "output_type": "stream",
     "text": [
      "[206 191 810 861]\n",
      "[271 231 848 972]\n",
      "[101 107 774 907]\n",
      "[266 212 822 958]\n"
     ]
    },
    {
     "name": "stderr",
     "output_type": "stream",
     "text": [
      "preprocessing: 8952it [07:05, 17.18it/s]"
     ]
    },
    {
     "name": "stdout",
     "output_type": "stream",
     "text": [
      "[ 75 126 731 916]\n",
      "[267 139 954 878]\n",
      "[115 151 741 985]\n",
      "[171 166 782 909]\n"
     ]
    },
    {
     "name": "stderr",
     "output_type": "stream",
     "text": [
      "preprocessing: 8956it [07:05, 16.96it/s]"
     ]
    },
    {
     "name": "stdout",
     "output_type": "stream",
     "text": [
      "[215 131 797 917]\n",
      "[454 226 910 704]\n",
      "[170 124 778 895]\n",
      "[214 173 799 962]\n"
     ]
    },
    {
     "name": "stderr",
     "output_type": "stream",
     "text": [
      "preprocessing: 8960it [07:06, 16.45it/s]"
     ]
    },
    {
     "name": "stdout",
     "output_type": "stream",
     "text": [
      "[168 160 790 946]\n",
      "[101 100 721 917]\n",
      "[179 128 884 943]\n",
      "[226 225 764 913]\n"
     ]
    },
    {
     "name": "stderr",
     "output_type": "stream",
     "text": [
      "preprocessing: 8964it [07:06, 16.32it/s]"
     ]
    },
    {
     "name": "stdout",
     "output_type": "stream",
     "text": [
      "[ 90 110 746 881]\n",
      "[263 124 806 927]\n",
      "[252 185 778 839]\n",
      "[265 218 769 910]\n"
     ]
    },
    {
     "name": "stderr",
     "output_type": "stream",
     "text": [
      "preprocessing: 8968it [07:06, 16.22it/s]"
     ]
    },
    {
     "name": "stdout",
     "output_type": "stream",
     "text": [
      "[279 211 896 907]\n",
      "[168 188 745 921]\n",
      "[274 196 754 885]\n",
      "[174 162 773 947]\n"
     ]
    },
    {
     "name": "stderr",
     "output_type": "stream",
     "text": [
      "preprocessing: 8972it [07:06, 16.73it/s]"
     ]
    },
    {
     "name": "stdout",
     "output_type": "stream",
     "text": [
      "[142 112 690 924]\n",
      "[293 197 877 961]\n",
      "[194 206 747 905]\n",
      "[272 185 939 936]\n"
     ]
    },
    {
     "name": "stderr",
     "output_type": "stream",
     "text": [
      "preprocessing: 8976it [07:07, 16.37it/s]"
     ]
    },
    {
     "name": "stdout",
     "output_type": "stream",
     "text": [
      "[259 221 794 856]\n",
      "[246 194 778 921]\n",
      "[213 131 844 916]\n"
     ]
    },
    {
     "name": "stderr",
     "output_type": "stream",
     "text": [
      "preprocessing: 8980it [07:07, 16.00it/s]"
     ]
    },
    {
     "name": "stdout",
     "output_type": "stream",
     "text": [
      "[354 228 938 897]\n",
      "[164 265 768 926]\n",
      "[203 144 799 903]\n",
      "[229 168 840 876]\n"
     ]
    },
    {
     "name": "stderr",
     "output_type": "stream",
     "text": [
      "preprocessing: 8984it [07:07, 15.72it/s]"
     ]
    },
    {
     "name": "stdout",
     "output_type": "stream",
     "text": [
      "[284 207 867 859]\n",
      "[290 215 842 859]\n",
      "[ 42 171 722 895]\n"
     ]
    },
    {
     "name": "stderr",
     "output_type": "stream",
     "text": [
      "\r",
      "preprocessing: 8986it [07:07, 15.83it/s]"
     ]
    },
    {
     "name": "stdout",
     "output_type": "stream",
     "text": [
      "[ 93 176 679 874]\n",
      "[239 208 775 840]\n",
      "[289 240 850 972]\n",
      "[176 201 766 924]\n"
     ]
    },
    {
     "name": "stderr",
     "output_type": "stream",
     "text": [
      "preprocessing: 8990it [07:08, 16.08it/s]"
     ]
    },
    {
     "name": "stdout",
     "output_type": "stream",
     "text": [
      "[261 178 817 853]\n",
      "[237 149 849 905]\n",
      "[118 141 731 899]\n",
      "[210 190 754 952]\n"
     ]
    },
    {
     "name": "stderr",
     "output_type": "stream",
     "text": [
      "preprocessing: 8994it [07:08, 16.38it/s]"
     ]
    },
    {
     "name": "stdout",
     "output_type": "stream",
     "text": [
      "[304 198 932 925]\n",
      "[238 152 825 959]\n",
      "[ 13  11 262 285]\n",
      "[ 68 140 779 884]\n"
     ]
    },
    {
     "name": "stderr",
     "output_type": "stream",
     "text": [
      "preprocessing: 8998it [07:08, 16.50it/s]"
     ]
    },
    {
     "name": "stdout",
     "output_type": "stream",
     "text": [
      "[197 161 819 944]\n",
      "[116 175 722 976]\n",
      "[246 190 797 902]\n",
      "[228 106 826 915]\n"
     ]
    },
    {
     "name": "stderr",
     "output_type": "stream",
     "text": [
      "preprocessing: 9004it [07:08, 15.59it/s]"
     ]
    },
    {
     "name": "stdout",
     "output_type": "stream",
     "text": [
      "[275 140 928 878]\n",
      "[288 147 862 904]\n",
      "[248 186 829 946]\n",
      "[252 131 825 946]\n"
     ]
    },
    {
     "name": "stderr",
     "output_type": "stream",
     "text": [
      "\r",
      "preprocessing: 9006it [07:09, 15.72it/s]"
     ]
    },
    {
     "name": "stdout",
     "output_type": "stream",
     "text": [
      "[293 189 859 910]\n",
      "[289 190 825 871]\n",
      "[113 140 759 907]\n",
      "[216 181 785 924]\n"
     ]
    },
    {
     "name": "stderr",
     "output_type": "stream",
     "text": [
      "preprocessing: 9010it [07:09, 16.12it/s]"
     ]
    },
    {
     "name": "stdout",
     "output_type": "stream",
     "text": [
      "[252 242 705 875]\n",
      "[139 164 757 885]\n",
      "[250 144 787 939]\n",
      "[172 164 803 859]\n"
     ]
    },
    {
     "name": "stderr",
     "output_type": "stream",
     "text": [
      "preprocessing: 9016it [07:09, 16.67it/s]"
     ]
    },
    {
     "name": "stdout",
     "output_type": "stream",
     "text": [
      "[222 174 784 913]\n",
      "[225 180 775 878]\n",
      "[218 174 828 954]\n",
      "[230 208 832 953]\n"
     ]
    },
    {
     "name": "stderr",
     "output_type": "stream",
     "text": [
      "preprocessing: 9020it [07:09, 16.83it/s]"
     ]
    },
    {
     "name": "stdout",
     "output_type": "stream",
     "text": [
      "[319 178 880 888]\n",
      "[237 196 821 843]\n",
      "[205 121 769 926]\n",
      "[202 136 821 973]\n"
     ]
    },
    {
     "name": "stderr",
     "output_type": "stream",
     "text": [
      "preprocessing: 9024it [07:10, 16.68it/s]"
     ]
    },
    {
     "name": "stdout",
     "output_type": "stream",
     "text": [
      "[257 197 831 954]\n",
      "[157 178 758 862]\n",
      "[233 120 851 902]\n",
      "[207 147 820 947]\n"
     ]
    },
    {
     "name": "stderr",
     "output_type": "stream",
     "text": [
      "preprocessing: 9028it [07:10, 16.30it/s]"
     ]
    },
    {
     "name": "stdout",
     "output_type": "stream",
     "text": [
      "[272 216 841 963]\n",
      "[298 104 998 892]\n",
      "[222 171 850 976]\n",
      "[242 219 778 952]\n"
     ]
    },
    {
     "name": "stderr",
     "output_type": "stream",
     "text": [
      "preprocessing: 9032it [07:10, 16.52it/s]"
     ]
    },
    {
     "name": "stdout",
     "output_type": "stream",
     "text": [
      "[254 184 830 927]\n",
      "[261 215 820 910]\n",
      "[ 73 130 743 929]\n",
      "[281 181 814 923]\n"
     ]
    },
    {
     "name": "stderr",
     "output_type": "stream",
     "text": [
      "\r",
      "preprocessing: 9034it [07:10, 16.49it/s]"
     ]
    },
    {
     "name": "stdout",
     "output_type": "stream",
     "text": [
      "[268 202 816 896]\n",
      "[332 113 915 930]\n",
      "[243 254 764 892]\n",
      "[227 137 786 830]\n"
     ]
    },
    {
     "name": "stderr",
     "output_type": "stream",
     "text": [
      "preprocessing: 9040it [07:11, 16.67it/s]"
     ]
    },
    {
     "name": "stdout",
     "output_type": "stream",
     "text": [
      "[190 147 792 982]\n",
      "[192 122 806 929]\n",
      "[242 229 841 883]\n",
      "[143 226 688 958]\n"
     ]
    },
    {
     "name": "stderr",
     "output_type": "stream",
     "text": [
      "\r",
      "preprocessing: 9042it [07:11, 16.86it/s]"
     ]
    },
    {
     "name": "stdout",
     "output_type": "stream",
     "text": [
      "[251 165 875 927]\n",
      "[272 221 795 820]\n",
      "[127 156 718 931]\n",
      "[226 172 835 908]\n"
     ]
    },
    {
     "name": "stderr",
     "output_type": "stream",
     "text": [
      "preprocessing: 9048it [07:11, 16.72it/s]"
     ]
    },
    {
     "name": "stdout",
     "output_type": "stream",
     "text": [
      "[205 220 763 880]\n",
      "[221 183 763 900]\n",
      "[257 209 818 815]\n",
      "[173 142 761 943]\n"
     ]
    },
    {
     "name": "stderr",
     "output_type": "stream",
     "text": [
      "\r",
      "preprocessing: 9050it [07:11, 16.37it/s]"
     ]
    },
    {
     "name": "stdout",
     "output_type": "stream",
     "text": [
      "[268 153 830 965]\n",
      "[266 165 852 891]\n",
      "[256 127 898 920]\n",
      "[277 212 836 924]\n"
     ]
    },
    {
     "name": "stderr",
     "output_type": "stream",
     "text": [
      "preprocessing: 9056it [07:12, 16.52it/s]"
     ]
    },
    {
     "name": "stdout",
     "output_type": "stream",
     "text": [
      "[ 42  98 745 931]\n",
      "[167 162 742 930]\n",
      "[292 205 865 910]\n",
      "[193 144 786 947]\n"
     ]
    },
    {
     "name": "stderr",
     "output_type": "stream",
     "text": [
      "preprocessing: 9060it [07:12, 17.13it/s]"
     ]
    },
    {
     "name": "stdout",
     "output_type": "stream",
     "text": [
      "[221 226 771 893]\n",
      "[262  33 961 811]\n",
      "[241 199 772 925]\n",
      "[312 184 907 956]\n"
     ]
    },
    {
     "name": "stderr",
     "output_type": "stream",
     "text": [
      "\r",
      "preprocessing: 9062it [07:12, 16.90it/s]"
     ]
    },
    {
     "name": "stdout",
     "output_type": "stream",
     "text": [
      "[116 136 724 897]\n",
      "[328 207 924 947]\n",
      "[272 194 870 952]\n",
      "[138 176 700 931]\n"
     ]
    },
    {
     "name": "stderr",
     "output_type": "stream",
     "text": [
      "preprocessing: 9068it [07:12, 16.51it/s]"
     ]
    },
    {
     "name": "stdout",
     "output_type": "stream",
     "text": [
      "[214 177 821 875]\n",
      "[226 168 781 882]\n",
      "[227 173 825 934]\n",
      "[238 206 782 859]\n"
     ]
    },
    {
     "name": "stderr",
     "output_type": "stream",
     "text": [
      "\r",
      "preprocessing: 9070it [07:12, 16.56it/s]"
     ]
    },
    {
     "name": "stdout",
     "output_type": "stream",
     "text": [
      "[141 114 774 981]\n",
      "[224 259 780 925]\n",
      "[276 162 838 952]\n",
      "[249 188 778 938]\n"
     ]
    },
    {
     "name": "stderr",
     "output_type": "stream",
     "text": [
      "preprocessing: 9074it [07:13, 16.23it/s]"
     ]
    },
    {
     "name": "stdout",
     "output_type": "stream",
     "text": [
      "[162 134 758 913]\n",
      "[337 205 887 914]\n",
      "[ 85 163 762 906]\n",
      "[312 193 896 845]\n"
     ]
    },
    {
     "name": "stderr",
     "output_type": "stream",
     "text": [
      "preprocessing: 9080it [07:13, 16.19it/s]"
     ]
    },
    {
     "name": "stdout",
     "output_type": "stream",
     "text": [
      "[285 183 846 859]\n",
      "[277 210 840 918]\n",
      "[ 90  95 738 895]\n",
      "[323 221 951 936]\n"
     ]
    },
    {
     "name": "stderr",
     "output_type": "stream",
     "text": [
      "\r",
      "preprocessing: 9082it [07:13, 15.95it/s]"
     ]
    },
    {
     "name": "stdout",
     "output_type": "stream",
     "text": [
      "[261 196 792 958]\n",
      "[252 188 799 918]\n",
      "[192 193 795 974]\n",
      "[242 185 878 972]\n"
     ]
    },
    {
     "name": "stderr",
     "output_type": "stream",
     "text": [
      "preprocessing: 9088it [07:14, 16.05it/s]"
     ]
    },
    {
     "name": "stdout",
     "output_type": "stream",
     "text": [
      "[294 168 909 956]\n",
      "[110 133 778 925]\n",
      "[184 146 775 918]\n",
      "[228 211 824 929]\n"
     ]
    },
    {
     "name": "stderr",
     "output_type": "stream",
     "text": [
      "\r",
      "preprocessing: 9090it [07:14, 16.22it/s]"
     ]
    },
    {
     "name": "stdout",
     "output_type": "stream",
     "text": [
      "[211 128 830 868]\n",
      "[189 128 782 901]\n",
      "[224 158 772 910]\n",
      "[283 204 824 912]\n"
     ]
    },
    {
     "name": "stderr",
     "output_type": "stream",
     "text": [
      "preprocessing: 9094it [07:14, 15.66it/s]"
     ]
    },
    {
     "name": "stdout",
     "output_type": "stream",
     "text": [
      "[254 194 795 960]\n",
      "[249 234 860 904]\n",
      "[152 166 758 894]\n",
      "[108  80 754 821]\n"
     ]
    },
    {
     "name": "stderr",
     "output_type": "stream",
     "text": [
      "preprocessing: 9098it [07:14, 16.12it/s]"
     ]
    },
    {
     "name": "stdout",
     "output_type": "stream",
     "text": [
      "[185 124 844 960]\n",
      "[158 136 772 930]\n",
      "[299 142 820 853]\n",
      "[263 183 830 839]\n"
     ]
    },
    {
     "name": "stderr",
     "output_type": "stream",
     "text": [
      "preprocessing: 9102it [07:14, 15.31it/s]"
     ]
    },
    {
     "name": "stdout",
     "output_type": "stream",
     "text": [
      "[278 247 856 957]\n",
      "[259 219 791 931]\n",
      "[229 131 909 951]\n",
      "[ 46 115 731 956]\n"
     ]
    },
    {
     "name": "stderr",
     "output_type": "stream",
     "text": [
      "preprocessing: 9106it [07:15, 15.95it/s]"
     ]
    },
    {
     "name": "stdout",
     "output_type": "stream",
     "text": [
      "[212 187 713 857]\n",
      "[124  50 806 823]\n",
      "[267 196 810 929]\n",
      "[245 118 866 809]\n"
     ]
    },
    {
     "name": "stderr",
     "output_type": "stream",
     "text": [
      "preprocessing: 9112it [07:15, 16.65it/s]"
     ]
    },
    {
     "name": "stdout",
     "output_type": "stream",
     "text": [
      "[248 189 841 967]\n",
      "[287 173 889 952]\n",
      "[271 167 873 882]\n",
      "[234 214 777 922]\n"
     ]
    },
    {
     "name": "stderr",
     "output_type": "stream",
     "text": [
      "\r",
      "preprocessing: 9114it [07:15, 16.65it/s]"
     ]
    },
    {
     "name": "stdout",
     "output_type": "stream",
     "text": [
      "[166 168 745 945]\n",
      "[214 220 757 937]\n",
      "[251 207 760 922]\n",
      "[256 195 801 924]\n"
     ]
    },
    {
     "name": "stderr",
     "output_type": "stream",
     "text": [
      "preprocessing: 9120it [07:15, 16.81it/s]"
     ]
    },
    {
     "name": "stdout",
     "output_type": "stream",
     "text": [
      "[192 157 822 926]\n",
      "[171 144 779 976]\n",
      "[161 220 743 852]\n"
     ]
    },
    {
     "name": "stderr",
     "output_type": "stream",
     "text": [
      "\r",
      "preprocessing: 9122it [07:16, 16.42it/s]"
     ]
    },
    {
     "name": "stdout",
     "output_type": "stream",
     "text": [
      "[228 209 777 939]\n",
      "[ 93  74 729 928]\n",
      "[263 208 830 893]\n",
      "[299 151 911 961]\n"
     ]
    },
    {
     "name": "stderr",
     "output_type": "stream",
     "text": [
      "preprocessing: 9126it [07:16, 16.20it/s]"
     ]
    },
    {
     "name": "stdout",
     "output_type": "stream",
     "text": [
      "[187 140 785 898]\n",
      "[372 176 911 861]\n",
      "[246 148 793 884]\n",
      "[207 159 790 791]\n"
     ]
    },
    {
     "name": "stderr",
     "output_type": "stream",
     "text": [
      "preprocessing: 9130it [07:16, 16.37it/s]"
     ]
    },
    {
     "name": "stdout",
     "output_type": "stream",
     "text": [
      "[134 186 783 930]\n",
      "[226 197 758 871]\n",
      "[209 127 806 876]\n",
      "[124  39 724 930]\n"
     ]
    },
    {
     "name": "stderr",
     "output_type": "stream",
     "text": [
      "preprocessing: 9134it [07:16, 15.64it/s]"
     ]
    },
    {
     "name": "stdout",
     "output_type": "stream",
     "text": [
      "[148 167 732 870]\n",
      "[268 191 855 886]\n",
      "[247 186 770 966]\n",
      "[290 112 922 904]\n"
     ]
    },
    {
     "name": "stderr",
     "output_type": "stream",
     "text": [
      "preprocessing: 9138it [07:17, 15.98it/s]"
     ]
    },
    {
     "name": "stdout",
     "output_type": "stream",
     "text": [
      "[241 204 798 942]\n",
      "[178 198 773 947]\n",
      "[183 181 778 943]\n",
      "[144 149 782 850]\n"
     ]
    },
    {
     "name": "stderr",
     "output_type": "stream",
     "text": [
      "preprocessing: 9142it [07:17, 16.04it/s]"
     ]
    },
    {
     "name": "stdout",
     "output_type": "stream",
     "text": [
      "[174 155 779 988]\n",
      "[162 168 781 924]\n",
      "[258 199 803 876]\n",
      "[205 164 803 969]\n"
     ]
    },
    {
     "name": "stderr",
     "output_type": "stream",
     "text": [
      "preprocessing: 9146it [07:17, 15.97it/s]"
     ]
    },
    {
     "name": "stdout",
     "output_type": "stream",
     "text": [
      "[244 196 770 887]\n",
      "[298 131 907 916]\n",
      "[242 203 796 939]\n",
      "[193 196 749 868]\n"
     ]
    },
    {
     "name": "stderr",
     "output_type": "stream",
     "text": [
      "preprocessing: 9150it [07:17, 16.04it/s]"
     ]
    },
    {
     "name": "stdout",
     "output_type": "stream",
     "text": [
      "[198 177 805 967]\n",
      "[245 228 812 937]\n",
      "[ 78 214 723 978]\n",
      "[239 148 856 981]\n"
     ]
    },
    {
     "name": "stderr",
     "output_type": "stream",
     "text": [
      "preprocessing: 9154it [07:18, 15.94it/s]"
     ]
    },
    {
     "name": "stdout",
     "output_type": "stream",
     "text": [
      "[300 200 759 933]\n",
      "[254 214 811 927]\n",
      "[ 233  180  795 1008]\n",
      "[192 212 773 924]\n"
     ]
    },
    {
     "name": "stderr",
     "output_type": "stream",
     "text": [
      "preprocessing: 9158it [07:18, 15.59it/s]"
     ]
    },
    {
     "name": "stdout",
     "output_type": "stream",
     "text": [
      "[194 141 802 976]\n",
      "[219 152 774 984]\n",
      "[107  85 772 948]\n"
     ]
    },
    {
     "name": "stderr",
     "output_type": "stream",
     "text": [
      "preprocessing: 9162it [07:18, 15.78it/s]"
     ]
    },
    {
     "name": "stdout",
     "output_type": "stream",
     "text": [
      "[186 164 746 938]\n",
      "[143 100 770 959]\n",
      "[235 171 770 890]\n",
      "[225 134 869 921]\n"
     ]
    },
    {
     "name": "stderr",
     "output_type": "stream",
     "text": [
      "preprocessing: 9166it [07:18, 15.91it/s]"
     ]
    },
    {
     "name": "stdout",
     "output_type": "stream",
     "text": [
      "[222 183 794 876]\n",
      "[176 156 785 918]\n",
      "[301 246 877 894]\n",
      "[103 109 751 911]\n"
     ]
    },
    {
     "name": "stderr",
     "output_type": "stream",
     "text": [
      "preprocessing: 9170it [07:19, 16.22it/s]"
     ]
    },
    {
     "name": "stdout",
     "output_type": "stream",
     "text": [
      "[259 208 829 954]\n",
      "[252 190 829 958]\n",
      "[260 174 885 909]\n",
      "[126 163 780 905]\n"
     ]
    },
    {
     "name": "stderr",
     "output_type": "stream",
     "text": [
      "preprocessing: 9174it [07:19, 16.01it/s]"
     ]
    },
    {
     "name": "stdout",
     "output_type": "stream",
     "text": [
      "[208 157 794 988]\n",
      "[181 175 813 917]\n",
      "[260 186 800 947]\n",
      "[153 154 775 919]\n"
     ]
    },
    {
     "name": "stderr",
     "output_type": "stream",
     "text": [
      "preprocessing: 9178it [07:19, 16.00it/s]"
     ]
    },
    {
     "name": "stdout",
     "output_type": "stream",
     "text": [
      "[115 112 807 922]\n",
      "[ 59 102 725 842]\n",
      "[287 194 818 870]\n",
      "[164 141 737 858]\n"
     ]
    },
    {
     "name": "stderr",
     "output_type": "stream",
     "text": [
      "preprocessing: 9182it [07:19, 16.10it/s]"
     ]
    },
    {
     "name": "stdout",
     "output_type": "stream",
     "text": [
      "[169 253 739 931]\n",
      "[200 124 817 957]\n",
      "[263 182 839 929]\n",
      "[279 143 904 987]\n"
     ]
    },
    {
     "name": "stderr",
     "output_type": "stream",
     "text": [
      "preprocessing: 9186it [07:20, 15.88it/s]"
     ]
    },
    {
     "name": "stdout",
     "output_type": "stream",
     "text": [
      "[137 133 770 915]\n",
      "[ 85 119 712 856]\n",
      "[277 188 803 857]\n",
      "[195 138 833 901]\n"
     ]
    },
    {
     "name": "stderr",
     "output_type": "stream",
     "text": [
      "preprocessing: 9190it [07:20, 15.97it/s]"
     ]
    },
    {
     "name": "stdout",
     "output_type": "stream",
     "text": [
      "[288 196 828 925]\n",
      "[239  83 930 847]\n",
      "[241 144 771 931]\n",
      "[ 62 114 761 900]\n"
     ]
    },
    {
     "name": "stderr",
     "output_type": "stream",
     "text": [
      "preprocessing: 9194it [07:20, 15.78it/s]"
     ]
    },
    {
     "name": "stdout",
     "output_type": "stream",
     "text": [
      "[241 188 797 950]\n",
      "[205 152 805 853]\n",
      "[144 156 759 953]\n",
      "[221 218 810 945]\n"
     ]
    },
    {
     "name": "stderr",
     "output_type": "stream",
     "text": [
      "preprocessing: 9198it [07:20, 16.14it/s]"
     ]
    },
    {
     "name": "stdout",
     "output_type": "stream",
     "text": [
      "[273 184 788 918]\n",
      "[266 198 844 915]\n",
      "[276 201 838 936]\n",
      "[269 197 880 964]\n"
     ]
    },
    {
     "name": "stderr",
     "output_type": "stream",
     "text": [
      "preprocessing: 9204it [07:21, 15.43it/s]"
     ]
    },
    {
     "name": "stdout",
     "output_type": "stream",
     "text": [
      "[280 157 837 840]\n",
      "[351 232 888 913]\n",
      "[277 175 920 898]\n",
      "[173 163 771 927]\n"
     ]
    },
    {
     "name": "stderr",
     "output_type": "stream",
     "text": [
      "\r",
      "preprocessing: 9206it [07:21, 15.93it/s]"
     ]
    },
    {
     "name": "stdout",
     "output_type": "stream",
     "text": [
      "[248 184 825 962]\n",
      "[136 118 738 859]\n",
      "[178 111 774 849]\n",
      "[267 227 782 918]\n"
     ]
    },
    {
     "name": "stderr",
     "output_type": "stream",
     "text": [
      "preprocessing: 9210it [07:21, 15.96it/s]"
     ]
    },
    {
     "name": "stdout",
     "output_type": "stream",
     "text": [
      "[263 204 838 921]\n",
      "[212 210 752 939]\n",
      "[301 199 855 931]\n",
      "[270 200 905 851]\n"
     ]
    },
    {
     "name": "stderr",
     "output_type": "stream",
     "text": [
      "preprocessing: 9214it [07:21, 16.13it/s]"
     ]
    },
    {
     "name": "stdout",
     "output_type": "stream",
     "text": [
      "[221 194 783 928]\n",
      "[133 214 759 976]\n",
      "[278 182 801 850]\n",
      "[263 144 734 897]\n"
     ]
    },
    {
     "name": "stderr",
     "output_type": "stream",
     "text": [
      "preprocessing: 9218it [07:22, 16.30it/s]"
     ]
    },
    {
     "name": "stdout",
     "output_type": "stream",
     "text": [
      "[252 206 817 943]\n",
      "[256 182 793 946]\n",
      "[191 171 769 955]\n",
      "[316 187 849 847]\n"
     ]
    },
    {
     "name": "stderr",
     "output_type": "stream",
     "text": [
      "preprocessing: 9222it [07:22, 16.27it/s]"
     ]
    },
    {
     "name": "stdout",
     "output_type": "stream",
     "text": [
      "[199 205 770 907]\n",
      "[316 192 957 932]\n",
      "[264 101 898 987]\n",
      "[308 229 901 905]\n"
     ]
    },
    {
     "name": "stderr",
     "output_type": "stream",
     "text": [
      "preprocessing: 9226it [07:22, 16.19it/s]"
     ]
    },
    {
     "name": "stdout",
     "output_type": "stream",
     "text": [
      "[210 157 934 881]\n",
      "[176 212 781 971]\n",
      "[166 194 784 943]\n",
      "[170 151 746 914]\n"
     ]
    },
    {
     "name": "stderr",
     "output_type": "stream",
     "text": [
      "preprocessing: 9232it [07:22, 16.51it/s]"
     ]
    },
    {
     "name": "stdout",
     "output_type": "stream",
     "text": [
      "[189  87 847 893]\n",
      "[302  85 968 954]\n",
      "[291 189 831 937]\n",
      "[231 126 825 901]\n"
     ]
    },
    {
     "name": "stderr",
     "output_type": "stream",
     "text": [
      "\r",
      "preprocessing: 9234it [07:23, 16.37it/s]"
     ]
    },
    {
     "name": "stdout",
     "output_type": "stream",
     "text": [
      "[253 182 739 891]\n",
      "[223 183 772 932]\n",
      "[217 163 820 973]\n",
      "[156 153 746 919]\n"
     ]
    },
    {
     "name": "stderr",
     "output_type": "stream",
     "text": [
      "preprocessing: 9240it [07:23, 16.54it/s]"
     ]
    },
    {
     "name": "stdout",
     "output_type": "stream",
     "text": [
      "[144 162 767 925]\n",
      "[249 208 793 918]\n",
      "[239 163 790 880]\n",
      "[271 253 798 923]\n"
     ]
    },
    {
     "name": "stderr",
     "output_type": "stream",
     "text": [
      "\r",
      "preprocessing: 9242it [07:23, 16.36it/s]"
     ]
    },
    {
     "name": "stdout",
     "output_type": "stream",
     "text": [
      "[206 116 839 847]\n",
      "[268 191 857 997]\n",
      "[232 183 833 940]\n",
      "[175 201 744 873]\n"
     ]
    },
    {
     "name": "stderr",
     "output_type": "stream",
     "text": [
      "preprocessing: 9246it [07:23, 16.39it/s]"
     ]
    },
    {
     "name": "stdout",
     "output_type": "stream",
     "text": [
      "[243 201 869 961]\n",
      "[252 196 836 911]\n",
      "[157 146 822 917]\n"
     ]
    },
    {
     "name": "stderr",
     "output_type": "stream",
     "text": [
      "preprocessing: 9250it [07:24, 16.31it/s]"
     ]
    },
    {
     "name": "stdout",
     "output_type": "stream",
     "text": [
      "[327 141 877 903]\n",
      "[312 128 817 846]\n",
      "[238 174 818 951]\n",
      "[199 149 802 968]\n"
     ]
    },
    {
     "name": "stderr",
     "output_type": "stream",
     "text": [
      "preprocessing: 9254it [07:24, 16.43it/s]"
     ]
    },
    {
     "name": "stdout",
     "output_type": "stream",
     "text": [
      "[202 193 783 970]\n",
      "[256 186 863 935]\n",
      "[194 141 815 958]\n",
      "[281 149 840 958]\n"
     ]
    },
    {
     "name": "stderr",
     "output_type": "stream",
     "text": [
      "preprocessing: 9258it [07:24, 16.01it/s]"
     ]
    },
    {
     "name": "stdout",
     "output_type": "stream",
     "text": [
      "[126 217 761 881]\n",
      "[312 186 955 941]\n",
      "[145 133 775 921]\n",
      "[157 185 797 967]\n"
     ]
    },
    {
     "name": "stderr",
     "output_type": "stream",
     "text": [
      "preprocessing: 9262it [07:24, 15.75it/s]"
     ]
    },
    {
     "name": "stdout",
     "output_type": "stream",
     "text": [
      "[239 145 767 941]\n",
      "[184 124 823 914]\n",
      "[366 183 948 901]\n",
      "[199 116 787 919]\n"
     ]
    },
    {
     "name": "stderr",
     "output_type": "stream",
     "text": [
      "preprocessing: 9266it [07:25, 15.44it/s]"
     ]
    },
    {
     "name": "stdout",
     "output_type": "stream",
     "text": [
      "[286 118 923 810]\n",
      "[223 203 789 791]\n",
      "[210 152 838 979]\n",
      "[229 234 771 980]\n"
     ]
    },
    {
     "name": "stderr",
     "output_type": "stream",
     "text": [
      "preprocessing: 9270it [07:25, 15.66it/s]"
     ]
    },
    {
     "name": "stdout",
     "output_type": "stream",
     "text": [
      "[197  97 843 883]\n",
      "[294 172 927 834]\n",
      "[148 189 779 984]\n"
     ]
    },
    {
     "name": "stderr",
     "output_type": "stream",
     "text": [
      "preprocessing: 9274it [07:25, 15.64it/s]"
     ]
    },
    {
     "name": "stdout",
     "output_type": "stream",
     "text": [
      "[290 184 828 976]\n",
      "[273 143 840 915]\n",
      "[292 219 789 927]\n",
      "[244 185 797 929]\n"
     ]
    },
    {
     "name": "stderr",
     "output_type": "stream",
     "text": [
      "preprocessing: 9278it [07:25, 15.42it/s]"
     ]
    },
    {
     "name": "stdout",
     "output_type": "stream",
     "text": [
      "[315  66 913 840]\n",
      "[261  83 921 917]\n",
      "[224 186 789 923]\n",
      "[219 251 823 964]\n"
     ]
    },
    {
     "name": "stderr",
     "output_type": "stream",
     "text": [
      "\r",
      "preprocessing: 9280it [07:26, 15.40it/s]"
     ]
    },
    {
     "name": "stdout",
     "output_type": "stream",
     "text": [
      "[177 191 775 907]\n",
      "[263 211 808 871]\n",
      "[226 172 800 900]\n"
     ]
    },
    {
     "name": "stderr",
     "output_type": "stream",
     "text": [
      "preprocessing: 9284it [07:26, 15.53it/s]"
     ]
    },
    {
     "name": "stdout",
     "output_type": "stream",
     "text": [
      "[206 198 754 898]\n",
      "[ 300   80 1019  917]\n",
      "[267 163 836 854]\n",
      "[275 202 843 936]\n"
     ]
    },
    {
     "name": "stderr",
     "output_type": "stream",
     "text": [
      "preprocessing: 9288it [07:26, 15.25it/s]"
     ]
    },
    {
     "name": "stdout",
     "output_type": "stream",
     "text": [
      "[149 175 684 948]\n",
      "[192 201 774 835]\n",
      "[336 148 913 902]\n",
      "[272 183 840 910]\n"
     ]
    },
    {
     "name": "stderr",
     "output_type": "stream",
     "text": [
      "preprocessing: 9292it [07:26, 15.58it/s]"
     ]
    },
    {
     "name": "stdout",
     "output_type": "stream",
     "text": [
      "[285 169 868 945]\n",
      "[215 188 810 965]\n",
      "[179 165 752 908]\n"
     ]
    },
    {
     "name": "stderr",
     "output_type": "stream",
     "text": [
      "preprocessing: 9296it [07:27, 15.75it/s]"
     ]
    },
    {
     "name": "stdout",
     "output_type": "stream",
     "text": [
      "[181 181 788 920]\n",
      "[ 76 102 743 966]\n",
      "[217 166 847 952]\n",
      "[170 222 765 973]\n"
     ]
    },
    {
     "name": "stderr",
     "output_type": "stream",
     "text": [
      "preprocessing: 9300it [07:27, 14.17it/s]"
     ]
    },
    {
     "name": "stdout",
     "output_type": "stream",
     "text": [
      "[282 196 755 936]\n",
      "[305 140 796 900]\n",
      "[258 126 862 918]\n"
     ]
    },
    {
     "name": "stderr",
     "output_type": "stream",
     "text": [
      "\r",
      "preprocessing: 9302it [07:27, 13.64it/s]"
     ]
    },
    {
     "name": "stdout",
     "output_type": "stream",
     "text": [
      "[245 182 768 900]\n",
      "[155 172 670 936]\n",
      "[255 188 842 899]\n",
      "[240 200 772 966]\n"
     ]
    },
    {
     "name": "stderr",
     "output_type": "stream",
     "text": [
      "preprocessing: 9306it [07:27, 14.86it/s]"
     ]
    },
    {
     "name": "stdout",
     "output_type": "stream",
     "text": [
      "[165 122 788 940]\n",
      "[ 72 156 727 943]\n",
      "[215 158 783 940]\n",
      "[270 181 843 941]\n"
     ]
    },
    {
     "name": "stderr",
     "output_type": "stream",
     "text": [
      "preprocessing: 9312it [07:28, 15.61it/s]"
     ]
    },
    {
     "name": "stdout",
     "output_type": "stream",
     "text": [
      "[195 162 748 864]\n",
      "[199 157 810 943]\n",
      "[208 153 783 870]\n",
      "[199 147 785 891]\n"
     ]
    },
    {
     "name": "stderr",
     "output_type": "stream",
     "text": [
      "preprocessing: 9316it [07:28, 16.17it/s]"
     ]
    },
    {
     "name": "stdout",
     "output_type": "stream",
     "text": [
      "[215 202 811 880]\n",
      "[309 186 901 824]\n",
      "[217 222 774 882]\n",
      "[148 119 784 945]\n"
     ]
    },
    {
     "name": "stderr",
     "output_type": "stream",
     "text": [
      "preprocessing: 9320it [07:28, 16.22it/s]"
     ]
    },
    {
     "name": "stdout",
     "output_type": "stream",
     "text": [
      "[261 216 838 957]\n",
      "[211 129 774 904]\n",
      "[230  78 803 879]\n",
      "[202 118 790 930]\n"
     ]
    },
    {
     "name": "stderr",
     "output_type": "stream",
     "text": [
      "\r",
      "preprocessing: 9322it [07:28, 15.90it/s]"
     ]
    },
    {
     "name": "stdout",
     "output_type": "stream",
     "text": [
      "[225 183 786 971]\n",
      "[192 173 785 915]\n",
      "[278 196 828 970]\n",
      "[203 254 782 881]\n"
     ]
    },
    {
     "name": "stderr",
     "output_type": "stream",
     "text": [
      "preprocessing: 9326it [07:29, 15.89it/s]"
     ]
    },
    {
     "name": "stdout",
     "output_type": "stream",
     "text": [
      "[157  66 800 958]\n",
      "[345 189 935 943]\n",
      "[296 184 864 870]\n",
      "[284 219 855 865]\n"
     ]
    },
    {
     "name": "stderr",
     "output_type": "stream",
     "text": [
      "preprocessing: 9332it [07:29, 16.14it/s]"
     ]
    },
    {
     "name": "stdout",
     "output_type": "stream",
     "text": [
      "[156 146 772 902]\n",
      "[186 150 779 907]\n",
      "[234 185 792 942]\n",
      "[276 181 899 894]\n"
     ]
    },
    {
     "name": "stderr",
     "output_type": "stream",
     "text": [
      "\r",
      "preprocessing: 9334it [07:29, 16.00it/s]"
     ]
    },
    {
     "name": "stdout",
     "output_type": "stream",
     "text": [
      "[301 185 937 890]\n",
      "[311 205 858 956]\n",
      "[223 148 784 904]\n",
      "[276 205 826 898]\n"
     ]
    },
    {
     "name": "stderr",
     "output_type": "stream",
     "text": [
      "preprocessing: 9338it [07:29, 16.28it/s]"
     ]
    },
    {
     "name": "stdout",
     "output_type": "stream",
     "text": [
      "[221 193 762 906]\n",
      "[296 169 894 869]\n",
      "[168 173 775 935]\n",
      "[111  91 773 924]\n"
     ]
    },
    {
     "name": "stderr",
     "output_type": "stream",
     "text": [
      "preprocessing: 9342it [07:29, 16.48it/s]"
     ]
    },
    {
     "name": "stdout",
     "output_type": "stream",
     "text": [
      "[252 202 828 955]\n",
      "[139 168 784 901]\n",
      "[241 175 877 980]\n",
      "[301  99 984 818]\n"
     ]
    },
    {
     "name": "stderr",
     "output_type": "stream",
     "text": [
      "preprocessing: 9346it [07:30, 16.61it/s]"
     ]
    },
    {
     "name": "stdout",
     "output_type": "stream",
     "text": [
      "[165 135 794 900]\n",
      "[320 130 932 940]\n",
      "[130 114 730 884]\n",
      "[143 143 756 880]\n"
     ]
    },
    {
     "name": "stderr",
     "output_type": "stream",
     "text": [
      "preprocessing: 9350it [07:30, 15.93it/s]"
     ]
    },
    {
     "name": "stdout",
     "output_type": "stream",
     "text": [
      "[247 172 760 871]\n",
      "[300 170 916 887]\n",
      "[164 105 818 918]\n",
      "[151 155 806 914]\n"
     ]
    },
    {
     "name": "stderr",
     "output_type": "stream",
     "text": [
      "preprocessing: 9356it [07:30, 16.59it/s]"
     ]
    },
    {
     "name": "stdout",
     "output_type": "stream",
     "text": [
      "[220 200 776 842]\n",
      "[127 164 681 889]\n",
      "[278 189 858 916]\n",
      "[145 178 646 739]\n"
     ]
    },
    {
     "name": "stderr",
     "output_type": "stream",
     "text": [
      "\r",
      "preprocessing: 9358it [07:30, 16.03it/s]"
     ]
    },
    {
     "name": "stdout",
     "output_type": "stream",
     "text": [
      "[232 138 815 890]\n",
      "[ 81 113 728 887]\n",
      "[280 182 883 880]\n",
      "[241 230 818 964]\n"
     ]
    },
    {
     "name": "stderr",
     "output_type": "stream",
     "text": [
      "preprocessing: 9364it [07:31, 16.21it/s]"
     ]
    },
    {
     "name": "stdout",
     "output_type": "stream",
     "text": [
      "[220 147 795 911]\n",
      "[255 119 889 919]\n",
      "[140 159 757 908]\n",
      "[302 182 870 977]\n"
     ]
    },
    {
     "name": "stderr",
     "output_type": "stream",
     "text": [
      "\r",
      "preprocessing: 9366it [07:31, 16.20it/s]"
     ]
    },
    {
     "name": "stdout",
     "output_type": "stream",
     "text": [
      "[130 201 943 902]\n",
      "[175 152 787 903]\n",
      "[179 145 784 948]\n",
      "[189 146 814 964]\n"
     ]
    },
    {
     "name": "stderr",
     "output_type": "stream",
     "text": [
      "preprocessing: 9370it [07:31, 16.26it/s]"
     ]
    },
    {
     "name": "stdout",
     "output_type": "stream",
     "text": [
      "[210 204 765 934]\n",
      "[197 163 816 946]\n",
      "[235 182 830 986]\n",
      "[243 167 807 926]\n"
     ]
    },
    {
     "name": "stderr",
     "output_type": "stream",
     "text": [
      "preprocessing: 9374it [07:31, 16.36it/s]"
     ]
    },
    {
     "name": "stdout",
     "output_type": "stream",
     "text": [
      "[205 223 771 946]\n",
      "[154 194 756 962]\n",
      "[235 198 754 955]\n",
      "[160 151 776 941]\n"
     ]
    },
    {
     "name": "stderr",
     "output_type": "stream",
     "text": [
      "preprocessing: 9378it [07:32, 16.38it/s]"
     ]
    },
    {
     "name": "stdout",
     "output_type": "stream",
     "text": [
      "[250 171 771 961]\n",
      "[293 134 785 900]\n",
      "[134 181 743 945]\n",
      "[ 304  222  875 1002]\n"
     ]
    },
    {
     "name": "stderr",
     "output_type": "stream",
     "text": [
      "preprocessing: 9382it [07:32, 16.19it/s]"
     ]
    },
    {
     "name": "stdout",
     "output_type": "stream",
     "text": [
      "[205 144 789 942]\n",
      "[116 147 728 890]\n",
      "[242 161 793 868]\n"
     ]
    },
    {
     "name": "stderr",
     "output_type": "stream",
     "text": [
      "preprocessing: 9386it [07:32, 16.13it/s]"
     ]
    },
    {
     "name": "stdout",
     "output_type": "stream",
     "text": [
      "[180 189 774 922]\n",
      "[256 191 782 959]\n",
      "[237 214 825 932]\n",
      "[229 226 809 956]\n"
     ]
    },
    {
     "name": "stderr",
     "output_type": "stream",
     "text": [
      "preprocessing: 9390it [07:32, 16.15it/s]"
     ]
    },
    {
     "name": "stdout",
     "output_type": "stream",
     "text": [
      "[242 212 802 925]\n",
      "[ 81  74 762 911]\n",
      "[208 122 824 957]\n",
      "[239 220 819 923]\n"
     ]
    },
    {
     "name": "stderr",
     "output_type": "stream",
     "text": [
      "preprocessing: 9394it [07:33, 16.02it/s]"
     ]
    },
    {
     "name": "stdout",
     "output_type": "stream",
     "text": [
      "[334 227 875 776]\n",
      "[ 48 158 706 910]\n",
      "[182 131 750 879]\n",
      "[265 199 825 942]\n"
     ]
    },
    {
     "name": "stderr",
     "output_type": "stream",
     "text": [
      "preprocessing: 9398it [07:33, 15.87it/s]"
     ]
    },
    {
     "name": "stdout",
     "output_type": "stream",
     "text": [
      "[232 196 776 965]\n",
      "[250 187 827 912]\n",
      "[ 68 102 780 921]\n"
     ]
    },
    {
     "name": "stderr",
     "output_type": "stream",
     "text": [
      "\r",
      "preprocessing: 9400it [07:33, 14.54it/s]"
     ]
    },
    {
     "name": "stdout",
     "output_type": "stream",
     "text": [
      "[150 126 704 849]\n",
      "[255 147 832 911]\n",
      "[204 176 824 939]\n"
     ]
    },
    {
     "name": "stderr",
     "output_type": "stream",
     "text": [
      "preprocessing: 9404it [07:33, 15.37it/s]"
     ]
    },
    {
     "name": "stdout",
     "output_type": "stream",
     "text": [
      "[303 137 848 890]\n",
      "[270 145 848 907]\n",
      "[149 142 798 954]\n",
      "[125 155 657 873]\n"
     ]
    },
    {
     "name": "stderr",
     "output_type": "stream",
     "text": [
      "preprocessing: 9408it [07:34, 15.33it/s]"
     ]
    },
    {
     "name": "stdout",
     "output_type": "stream",
     "text": [
      "[228 129 831 976]\n",
      "[225 180 802 948]\n",
      "[247 210 782 924]\n",
      "[166 216 741 970]\n"
     ]
    },
    {
     "name": "stderr",
     "output_type": "stream",
     "text": [
      "preprocessing: 9412it [07:34, 15.78it/s]"
     ]
    },
    {
     "name": "stdout",
     "output_type": "stream",
     "text": [
      "[206 204 760 919]\n",
      "[243 192 831 924]\n",
      "[189 117 789 815]\n",
      "[197 187 802 937]\n"
     ]
    },
    {
     "name": "stderr",
     "output_type": "stream",
     "text": [
      "preprocessing: 9416it [07:34, 16.21it/s]"
     ]
    },
    {
     "name": "stdout",
     "output_type": "stream",
     "text": [
      "[216  90 830 945]\n",
      "[212 180 779 893]\n",
      "[159 144 668 898]\n",
      "[208 148 846 959]\n"
     ]
    },
    {
     "name": "stderr",
     "output_type": "stream",
     "text": [
      "preprocessing: 9420it [07:34, 16.07it/s]"
     ]
    },
    {
     "name": "stdout",
     "output_type": "stream",
     "text": [
      "[209 192 765 962]\n",
      "[135 115 767 928]\n",
      "[280 199 884 919]\n"
     ]
    },
    {
     "name": "stderr",
     "output_type": "stream",
     "text": [
      "\r",
      "preprocessing: 9422it [07:34, 15.95it/s]"
     ]
    },
    {
     "name": "stdout",
     "output_type": "stream",
     "text": [
      "[251 152 807 932]\n",
      "[293 179 963 926]\n",
      "[228 133 877 968]\n",
      "[236 179 817 972]\n"
     ]
    },
    {
     "name": "stderr",
     "output_type": "stream",
     "text": [
      "preprocessing: 9426it [07:35, 15.45it/s]"
     ]
    },
    {
     "name": "stdout",
     "output_type": "stream",
     "text": [
      "[230 197 780 967]\n",
      "[182 174 772 890]\n",
      "[144 156 806 895]\n",
      "[174  93 806 918]\n"
     ]
    },
    {
     "name": "stderr",
     "output_type": "stream",
     "text": [
      "preprocessing: 9430it [07:35, 15.84it/s]"
     ]
    },
    {
     "name": "stdout",
     "output_type": "stream",
     "text": [
      "[224 213 763 921]\n",
      "[285 182 787 862]\n",
      "[252 224 723 956]\n",
      "[222 103 811 984]\n"
     ]
    },
    {
     "name": "stderr",
     "output_type": "stream",
     "text": [
      "preprocessing: 9434it [07:35, 15.92it/s]"
     ]
    },
    {
     "name": "stdout",
     "output_type": "stream",
     "text": [
      "[271 222 829 930]\n",
      "[269 185 866 916]\n",
      "[196 189 785 955]\n",
      "[262 168 826 953]\n"
     ]
    },
    {
     "name": "stderr",
     "output_type": "stream",
     "text": [
      "preprocessing: 9440it [07:36, 16.40it/s]"
     ]
    },
    {
     "name": "stdout",
     "output_type": "stream",
     "text": [
      "[128 117 703 827]\n",
      "[228 120 788 833]\n",
      "[249 191 762 927]\n",
      "[287 208 796 849]\n"
     ]
    },
    {
     "name": "stderr",
     "output_type": "stream",
     "text": [
      "\r",
      "preprocessing: 9442it [07:36, 16.48it/s]"
     ]
    },
    {
     "name": "stdout",
     "output_type": "stream",
     "text": [
      "[196 216 800 984]\n",
      "[224 192 798 916]\n",
      "[269 140 835 835]\n",
      "[272 110 987 873]\n"
     ]
    },
    {
     "name": "stderr",
     "output_type": "stream",
     "text": [
      "preprocessing: 9446it [07:36, 15.80it/s]"
     ]
    },
    {
     "name": "stdout",
     "output_type": "stream",
     "text": [
      "[224 218 792 942]\n",
      "[273 204 739 799]\n",
      "[268 174 807 923]\n",
      "[238 215 807 912]\n"
     ]
    },
    {
     "name": "stderr",
     "output_type": "stream",
     "text": [
      "preprocessing: 9450it [07:36, 15.65it/s]"
     ]
    },
    {
     "name": "stdout",
     "output_type": "stream",
     "text": [
      "[287 189 882 924]\n",
      "[148 130 774 948]\n",
      "[277 138 854 935]\n",
      "[232 152 797 968]\n"
     ]
    },
    {
     "name": "stderr",
     "output_type": "stream",
     "text": [
      "preprocessing: 9456it [07:37, 16.11it/s]"
     ]
    },
    {
     "name": "stdout",
     "output_type": "stream",
     "text": [
      "[262 212 828 925]\n",
      "[169 162 769 900]\n",
      "[242 198 792 942]\n",
      "[308 175 903 855]\n"
     ]
    },
    {
     "name": "stderr",
     "output_type": "stream",
     "text": [
      "\r",
      "preprocessing: 9458it [07:37, 16.33it/s]"
     ]
    },
    {
     "name": "stdout",
     "output_type": "stream",
     "text": [
      "[356 184 937 882]\n",
      "[296 204 865 909]\n",
      "[286 160 842 899]\n",
      "[250 203 765 867]\n"
     ]
    },
    {
     "name": "stderr",
     "output_type": "stream",
     "text": [
      "preprocessing: 9462it [07:37, 15.99it/s]"
     ]
    },
    {
     "name": "stdout",
     "output_type": "stream",
     "text": [
      "[189 116 923 936]\n",
      "[256 151 824 948]\n",
      "[196 162 860 836]\n",
      "[240 146 825 925]\n"
     ]
    },
    {
     "name": "stderr",
     "output_type": "stream",
     "text": [
      "preprocessing: 9466it [07:37, 15.99it/s]"
     ]
    },
    {
     "name": "stdout",
     "output_type": "stream",
     "text": [
      "[289 223 797 896]\n",
      "[215 132 797 887]\n",
      "[316 229 883 931]\n",
      "[267 148 881 929]"
     ]
    },
    {
     "name": "stderr",
     "output_type": "stream",
     "text": [
      "preprocessing: 9470it [07:37, 15.99it/s]"
     ]
    },
    {
     "name": "stdout",
     "output_type": "stream",
     "text": [
      "\n",
      "[103  90 740 911]\n",
      "[285 184 787 941]\n",
      "[228 183 775 981]\n"
     ]
    },
    {
     "name": "stderr",
     "output_type": "stream",
     "text": [
      "preprocessing: 9474it [07:38, 15.51it/s]"
     ]
    },
    {
     "name": "stdout",
     "output_type": "stream",
     "text": [
      "[143 189 753 939]\n",
      "[189 170 748 921]\n",
      "[248 179 792 912]\n"
     ]
    },
    {
     "name": "stderr",
     "output_type": "stream",
     "text": [
      "preprocessing: 9478it [07:38, 16.04it/s]"
     ]
    },
    {
     "name": "stdout",
     "output_type": "stream",
     "text": [
      "[223 153 843 929]\n",
      "[ 80 132 733 810]\n",
      "[206 187 805 913]\n",
      "[272 197 804 935]\n"
     ]
    },
    {
     "name": "stderr",
     "output_type": "stream",
     "text": [
      "\r",
      "preprocessing: 9480it [07:38, 16.12it/s]"
     ]
    },
    {
     "name": "stdout",
     "output_type": "stream",
     "text": [
      "[147 192 706 906]\n",
      "[175 137 766 941]\n",
      "[292 198 900 942]\n",
      "[172 160 814 848]\n"
     ]
    },
    {
     "name": "stderr",
     "output_type": "stream",
     "text": [
      "preprocessing: 9484it [07:38, 16.06it/s]"
     ]
    },
    {
     "name": "stdout",
     "output_type": "stream",
     "text": [
      "[164 150 769 957]\n",
      "[207 138 800 926]\n",
      "[108 139 751 849]\n",
      "[270 150 953 909]\n"
     ]
    },
    {
     "name": "stderr",
     "output_type": "stream",
     "text": [
      "preprocessing: 9490it [07:39, 16.51it/s]"
     ]
    },
    {
     "name": "stdout",
     "output_type": "stream",
     "text": [
      "[178 116 742 859]\n",
      "[268 135 848 906]\n",
      "[214 189 740 928]\n",
      "[242 192 799 893]\n"
     ]
    },
    {
     "name": "stderr",
     "output_type": "stream",
     "text": [
      "\r",
      "preprocessing: 9492it [07:39, 16.34it/s]"
     ]
    },
    {
     "name": "stdout",
     "output_type": "stream",
     "text": [
      "[236 191 776 951]\n",
      "[125 117 760 925]\n",
      "[199 170 759 883]\n",
      "[ 98 157 767 956]\n"
     ]
    },
    {
     "name": "stderr",
     "output_type": "stream",
     "text": [
      "preprocessing: 9496it [07:39, 16.38it/s]"
     ]
    },
    {
     "name": "stdout",
     "output_type": "stream",
     "text": [
      "[238 199 856 902]\n",
      "[135 122 760 888]\n",
      "[  0   0 292 500]\n"
     ]
    },
    {
     "name": "stderr",
     "output_type": "stream",
     "text": [
      "preprocessing: 9500it [07:39, 14.74it/s]"
     ]
    },
    {
     "name": "stdout",
     "output_type": "stream",
     "text": [
      "[279 202 845 894]\n",
      "[269 187 866 947]\n",
      "[258 186 858 839]\n"
     ]
    },
    {
     "name": "stderr",
     "output_type": "stream",
     "text": [
      "\r",
      "preprocessing: 9502it [07:40, 15.35it/s]"
     ]
    },
    {
     "name": "stdout",
     "output_type": "stream",
     "text": [
      "[308 145 899 935]\n",
      "[247 164 754 863]\n",
      "[261 114 984 899]\n",
      "[216 175 832 938]\n"
     ]
    },
    {
     "name": "stderr",
     "output_type": "stream",
     "text": [
      "preprocessing: 9506it [07:40, 15.35it/s]"
     ]
    },
    {
     "name": "stdout",
     "output_type": "stream",
     "text": [
      "[254 201 813 890]\n",
      "[252 260 823 970]\n",
      "[143  78 776 942]\n",
      "[115 127 739 877]\n"
     ]
    },
    {
     "name": "stderr",
     "output_type": "stream",
     "text": [
      "preprocessing: 9510it [07:40, 15.63it/s]"
     ]
    },
    {
     "name": "stdout",
     "output_type": "stream",
     "text": [
      "[224 131 828 968]\n",
      "[311 144 910 908]\n",
      "[270 205 799 932]\n",
      "[261 210 857 930]\n"
     ]
    },
    {
     "name": "stderr",
     "output_type": "stream",
     "text": [
      "preprocessing: 9514it [07:40, 15.52it/s]"
     ]
    },
    {
     "name": "stdout",
     "output_type": "stream",
     "text": [
      "[148  79 799 912]\n",
      "[288 107 929 915]\n",
      "[240 272 822 852]\n",
      "[125 168 754 896]\n"
     ]
    },
    {
     "name": "stderr",
     "output_type": "stream",
     "text": [
      "preprocessing: 9518it [07:41, 16.07it/s]"
     ]
    },
    {
     "name": "stdout",
     "output_type": "stream",
     "text": [
      "[218 155 763 973]\n",
      "[246 144 778 863]\n",
      "[249 189 785 920]\n",
      "[221 191 792 890]\n"
     ]
    },
    {
     "name": "stderr",
     "output_type": "stream",
     "text": [
      "preprocessing: 9522it [07:41, 16.38it/s]"
     ]
    },
    {
     "name": "stdout",
     "output_type": "stream",
     "text": [
      "[295 208 845 886]\n",
      "[284 107 904 913]\n",
      "[239 179 793 914]\n",
      "[211  84 773 961]\n"
     ]
    },
    {
     "name": "stderr",
     "output_type": "stream",
     "text": [
      "preprocessing: 9526it [07:41, 15.66it/s]"
     ]
    },
    {
     "name": "stdout",
     "output_type": "stream",
     "text": [
      "[280 196 881 925]\n",
      "[230 181 797 898]\n",
      "[124 176 749 874]\n",
      "[264 128 985 876]\n"
     ]
    },
    {
     "name": "stderr",
     "output_type": "stream",
     "text": [
      "preprocessing: 9530it [07:41, 16.12it/s]"
     ]
    },
    {
     "name": "stdout",
     "output_type": "stream",
     "text": [
      "[197 148 829 910]\n",
      "[145 192 767 931]\n",
      "[206 134 803 949]\n",
      "[234 239 819 963]\n"
     ]
    },
    {
     "name": "stderr",
     "output_type": "stream",
     "text": [
      "preprocessing: 9534it [07:42, 15.91it/s]"
     ]
    },
    {
     "name": "stdout",
     "output_type": "stream",
     "text": [
      "[144 165 777 956]\n",
      "[238 214 822 931]\n",
      "[261 179 834 911]\n",
      "[290 193 781 924]\n"
     ]
    },
    {
     "name": "stderr",
     "output_type": "stream",
     "text": [
      "preprocessing: 9540it [07:42, 16.56it/s]"
     ]
    },
    {
     "name": "stdout",
     "output_type": "stream",
     "text": [
      "[275 184 766 858]\n",
      "[249 183 811 941]\n",
      "[259 203 886 921]\n",
      "[231 219 761 951]\n"
     ]
    },
    {
     "name": "stderr",
     "output_type": "stream",
     "text": [
      "preprocessing: 9544it [07:42, 16.60it/s]"
     ]
    },
    {
     "name": "stdout",
     "output_type": "stream",
     "text": [
      "[156 180 823 869]\n",
      "[159 169 732 942]\n",
      "[182 160 774 892]\n",
      "[189 123 841 973]\n"
     ]
    },
    {
     "name": "stderr",
     "output_type": "stream",
     "text": [
      "preprocessing: 9548it [07:42, 16.93it/s]"
     ]
    },
    {
     "name": "stdout",
     "output_type": "stream",
     "text": [
      "[275 187 886 915]\n",
      "[199 198 829 951]\n",
      "[281  76 936 885]\n",
      "[283 136 905 933]\n"
     ]
    },
    {
     "name": "stderr",
     "output_type": "stream",
     "text": [
      "preprocessing: 9552it [07:43, 17.20it/s]"
     ]
    },
    {
     "name": "stdout",
     "output_type": "stream",
     "text": [
      "[229 186 760 851]\n",
      "[ 190  176  807 1002]\n",
      "[314 180 900 799]\n",
      "[249 203 845 935]\n"
     ]
    },
    {
     "name": "stderr",
     "output_type": "stream",
     "text": [
      "\r",
      "preprocessing: 9554it [07:43, 16.52it/s]"
     ]
    },
    {
     "name": "stdout",
     "output_type": "stream",
     "text": [
      "[217 110 769 811]\n",
      "[151 118 768 976]\n",
      "[200  70 788 891]\n",
      "[303 162 879 816]\n"
     ]
    },
    {
     "name": "stderr",
     "output_type": "stream",
     "text": [
      "preprocessing: 9560it [07:43, 16.48it/s]"
     ]
    },
    {
     "name": "stdout",
     "output_type": "stream",
     "text": [
      "[219 151 775 899]\n",
      "[311 192 913 853]\n",
      "[270 158 755 905]\n",
      "[212 165 783 927]\n"
     ]
    },
    {
     "name": "stderr",
     "output_type": "stream",
     "text": [
      "preprocessing: 9564it [07:43, 17.64it/s]"
     ]
    },
    {
     "name": "stdout",
     "output_type": "stream",
     "text": [
      "[177 172 797 956]\n",
      "[313 151 907 877]\n",
      "[258 190 767 888]\n",
      "[275 158 861 938]\n"
     ]
    },
    {
     "name": "stderr",
     "output_type": "stream",
     "text": [
      "preprocessing: 9568it [07:44, 18.01it/s]"
     ]
    },
    {
     "name": "stdout",
     "output_type": "stream",
     "text": [
      "[224 208 764 839]\n",
      "[214 148 859 920]\n",
      "[217 163 811 909]\n",
      "[256 205 832 953]\n"
     ]
    },
    {
     "name": "stderr",
     "output_type": "stream",
     "text": [
      "preprocessing: 9572it [07:44, 17.89it/s]"
     ]
    },
    {
     "name": "stdout",
     "output_type": "stream",
     "text": [
      "[118 140 784 935]\n",
      "[229 147 885 924]\n",
      "[334 168 855 847]\n",
      "[190  99 846 931]\n"
     ]
    },
    {
     "name": "stderr",
     "output_type": "stream",
     "text": [
      "preprocessing: 9576it [07:44, 16.99it/s]"
     ]
    },
    {
     "name": "stdout",
     "output_type": "stream",
     "text": [
      "[307 204 856 841]\n",
      "[274 179 806 937]\n",
      "[179 135 832 978]\n"
     ]
    },
    {
     "name": "stderr",
     "output_type": "stream",
     "text": [
      "preprocessing: 9580it [07:44, 16.66it/s]"
     ]
    },
    {
     "name": "stdout",
     "output_type": "stream",
     "text": [
      "[284 189 964 887]\n",
      "[220 211 761 939]\n",
      "[145 196 782 953]\n",
      "[229 182 803 971]\n"
     ]
    },
    {
     "name": "stderr",
     "output_type": "stream",
     "text": [
      "\r",
      "preprocessing: 9582it [07:44, 16.64it/s]"
     ]
    },
    {
     "name": "stdout",
     "output_type": "stream",
     "text": [
      "[230 193 738 854]\n",
      "[184 160 784 892]\n",
      "[122 177 732 953]\n",
      "[363 207 914 763]\n"
     ]
    },
    {
     "name": "stderr",
     "output_type": "stream",
     "text": [
      "preprocessing: 9586it [07:45, 16.30it/s]"
     ]
    },
    {
     "name": "stdout",
     "output_type": "stream",
     "text": [
      "[189 127 781 906]\n",
      "[275 163 878 931]\n",
      "[246 202 810 916]\n",
      "[268 214 831 950]\n"
     ]
    },
    {
     "name": "stderr",
     "output_type": "stream",
     "text": [
      "preprocessing: 9592it [07:45, 16.54it/s]"
     ]
    },
    {
     "name": "stdout",
     "output_type": "stream",
     "text": [
      "[ 84 102 771 939]\n",
      "[227 122 903 907]\n",
      "[ 84 145 713 894]\n",
      "[125 156 764 893]\n"
     ]
    },
    {
     "name": "stderr",
     "output_type": "stream",
     "text": [
      "\r",
      "preprocessing: 9594it [07:45, 16.58it/s]"
     ]
    },
    {
     "name": "stdout",
     "output_type": "stream",
     "text": [
      "[ 98  87 756 932]\n",
      "[252 168 822 930]\n",
      "[205 197 828 903]\n",
      "[188 193 735 832]\n"
     ]
    },
    {
     "name": "stderr",
     "output_type": "stream",
     "text": [
      "preprocessing: 9598it [07:45, 16.69it/s]"
     ]
    },
    {
     "name": "stdout",
     "output_type": "stream",
     "text": [
      "[171 173 758 904]\n",
      "[ 30 118 747 916]\n",
      "[259 161 847 907]\n",
      "[237 252 778 894]\n"
     ]
    },
    {
     "name": "stderr",
     "output_type": "stream",
     "text": [
      "preprocessing: 9602it [07:46, 14.73it/s]"
     ]
    },
    {
     "name": "stdout",
     "output_type": "stream",
     "text": [
      "[233 182 793 814]\n",
      "[259 187 893 935]\n",
      "[375 157 921 836]\n",
      "[290 227 863 964]\n"
     ]
    },
    {
     "name": "stderr",
     "output_type": "stream",
     "text": [
      "preprocessing: 9606it [07:46, 15.37it/s]"
     ]
    },
    {
     "name": "stdout",
     "output_type": "stream",
     "text": [
      "[224 213 777 925]\n",
      "[ 91 118 721 907]\n",
      "[329 144 970 938]\n"
     ]
    },
    {
     "name": "stderr",
     "output_type": "stream",
     "text": [
      "preprocessing: 9610it [07:46, 15.55it/s]"
     ]
    },
    {
     "name": "stdout",
     "output_type": "stream",
     "text": [
      "[194 167 776 942]\n",
      "[ 92 147 771 831]\n",
      "[276 217 806 951]\n",
      "[185 175 839 943]\n"
     ]
    },
    {
     "name": "stderr",
     "output_type": "stream",
     "text": [
      "preprocessing: 9614it [07:46, 15.48it/s]"
     ]
    },
    {
     "name": "stdout",
     "output_type": "stream",
     "text": [
      "[238 128 841 954]\n",
      "[162 172 772 932]\n",
      "[235 155 822 964]\n",
      "[272 167 851 921]\n"
     ]
    },
    {
     "name": "stderr",
     "output_type": "stream",
     "text": [
      "preprocessing: 9618it [07:47, 15.63it/s]"
     ]
    },
    {
     "name": "stdout",
     "output_type": "stream",
     "text": [
      "[205 128 781 887]\n",
      "[246 179 881 946]\n",
      "[210 191 819 926]\n",
      "[141 171 740 936]\n"
     ]
    },
    {
     "name": "stderr",
     "output_type": "stream",
     "text": [
      "preprocessing: 9622it [07:47, 15.73it/s]"
     ]
    },
    {
     "name": "stdout",
     "output_type": "stream",
     "text": [
      "[310 191 927 929]\n",
      "[204 181 746 953]\n",
      "[139 152 733 874]\n",
      "[ 93 159 749 905]\n"
     ]
    },
    {
     "name": "stderr",
     "output_type": "stream",
     "text": [
      "preprocessing: 9626it [07:47, 15.69it/s]"
     ]
    },
    {
     "name": "stdout",
     "output_type": "stream",
     "text": [
      "[267 182 859 957]\n",
      "[225 205 804 919]\n",
      "[273 138 939 905]\n",
      "[328 229 931 916]\n"
     ]
    },
    {
     "name": "stderr",
     "output_type": "stream",
     "text": [
      "preprocessing: 9630it [07:47, 16.02it/s]"
     ]
    },
    {
     "name": "stdout",
     "output_type": "stream",
     "text": [
      "[205 217 714 780]\n",
      "[173 166 775 849]\n",
      "[259 197 853 940]\n"
     ]
    },
    {
     "name": "stderr",
     "output_type": "stream",
     "text": [
      "preprocessing: 9634it [07:48, 15.26it/s]"
     ]
    },
    {
     "name": "stdout",
     "output_type": "stream",
     "text": [
      "[225 218 764 888]\n",
      "[278 167 946 837]\n",
      "[286 220 809 893]\n",
      "[282 189 830 911]\n"
     ]
    },
    {
     "name": "stderr",
     "output_type": "stream",
     "text": [
      "preprocessing: 9638it [07:48, 15.76it/s]"
     ]
    },
    {
     "name": "stdout",
     "output_type": "stream",
     "text": [
      "[289 193 853 907]\n",
      "[172 164 774 854]\n",
      "[228 190 745 947]\n",
      "[228 187 806 928]\n"
     ]
    },
    {
     "name": "stderr",
     "output_type": "stream",
     "text": [
      "preprocessing: 9642it [07:48, 16.00it/s]"
     ]
    },
    {
     "name": "stdout",
     "output_type": "stream",
     "text": [
      "[253 196 771 877]\n",
      "[346 187 911 901]\n",
      "[135 164 796 993]\n",
      "[289 177 872 948]\n"
     ]
    },
    {
     "name": "stderr",
     "output_type": "stream",
     "text": [
      "\r",
      "preprocessing: 9644it [07:48, 16.01it/s]"
     ]
    },
    {
     "name": "stdout",
     "output_type": "stream",
     "text": [
      "[305 141 937 870]\n",
      "[231 173 795 927]\n",
      "[278 202 846 925]\n"
     ]
    },
    {
     "name": "stderr",
     "output_type": "stream",
     "text": [
      "preprocessing: 9648it [07:49, 15.43it/s]"
     ]
    },
    {
     "name": "stdout",
     "output_type": "stream",
     "text": [
      "[134 190 759 949]\n",
      "[224 201 770 958]\n",
      "[279 192 840 899]\n"
     ]
    },
    {
     "name": "stderr",
     "output_type": "stream",
     "text": [
      "preprocessing: 9652it [07:49, 15.35it/s]"
     ]
    },
    {
     "name": "stdout",
     "output_type": "stream",
     "text": [
      "[256 181 807 911]\n",
      "[163 171 776 956]\n",
      "[242 120 878 975]\n",
      "[221 204 767 928]\n"
     ]
    },
    {
     "name": "stderr",
     "output_type": "stream",
     "text": [
      "preprocessing: 9656it [07:49, 15.54it/s]"
     ]
    },
    {
     "name": "stdout",
     "output_type": "stream",
     "text": [
      "[204 208 747 941]\n",
      "[145 109 711 931]\n",
      "[293 175 836 972]\n",
      "[227 199 780 943]\n"
     ]
    },
    {
     "name": "stderr",
     "output_type": "stream",
     "text": [
      "preprocessing: 9660it [07:49, 15.52it/s]"
     ]
    },
    {
     "name": "stdout",
     "output_type": "stream",
     "text": [
      "[157 181 730 915]\n",
      "[306 198 854 949]\n",
      "[370 108 945 810]\n",
      "[199 150 754 973]\n"
     ]
    },
    {
     "name": "stderr",
     "output_type": "stream",
     "text": [
      "preprocessing: 9664it [07:50, 15.55it/s]"
     ]
    },
    {
     "name": "stdout",
     "output_type": "stream",
     "text": [
      "[231 212 772 899]\n",
      "[264 185 812 936]\n",
      "[186 217 724 932]\n"
     ]
    },
    {
     "name": "stderr",
     "output_type": "stream",
     "text": [
      "\r",
      "preprocessing: 9666it [07:50, 15.40it/s]"
     ]
    },
    {
     "name": "stdout",
     "output_type": "stream",
     "text": [
      "[292 156 876 927]\n",
      "[175 131 840 947]\n",
      "[ 74 106 714 902]\n",
      "[252 180 786 911]\n"
     ]
    },
    {
     "name": "stderr",
     "output_type": "stream",
     "text": [
      "preprocessing: 9670it [07:50, 15.59it/s]"
     ]
    },
    {
     "name": "stdout",
     "output_type": "stream",
     "text": [
      "[287 216 852 920]\n",
      "[266 158 854 904]\n",
      "[161 146 761 966]\n",
      "[216 206 769 973]\n"
     ]
    },
    {
     "name": "stderr",
     "output_type": "stream",
     "text": [
      "preprocessing: 9674it [07:50, 15.64it/s]"
     ]
    },
    {
     "name": "stdout",
     "output_type": "stream",
     "text": [
      "[235 167 828 937]\n",
      "[270 183 806 916]\n",
      "[273 131 941 906]\n"
     ]
    },
    {
     "name": "stderr",
     "output_type": "stream",
     "text": [
      "preprocessing: 9678it [07:50, 15.57it/s]"
     ]
    },
    {
     "name": "stdout",
     "output_type": "stream",
     "text": [
      "[220 148 860 919]\n",
      "[148 174 780 963]\n",
      "[264 191 823 926]\n",
      "[150 166 739 906]\n"
     ]
    },
    {
     "name": "stderr",
     "output_type": "stream",
     "text": [
      "preprocessing: 9682it [07:51, 15.73it/s]"
     ]
    },
    {
     "name": "stdout",
     "output_type": "stream",
     "text": [
      "[272 203 845 921]\n",
      "[212 136 784 901]\n",
      "[223 213 846 947]\n",
      "[147 122 758 817]\n"
     ]
    },
    {
     "name": "stderr",
     "output_type": "stream",
     "text": [
      "preprocessing: 9686it [07:51, 15.53it/s]"
     ]
    },
    {
     "name": "stdout",
     "output_type": "stream",
     "text": [
      "[181 180 755 912]\n",
      "[129  98 712 879]\n",
      "[169 228 662 859]\n",
      "[ 77 124 736 851]\n"
     ]
    },
    {
     "name": "stderr",
     "output_type": "stream",
     "text": [
      "preprocessing: 9690it [07:51, 15.80it/s]"
     ]
    },
    {
     "name": "stdout",
     "output_type": "stream",
     "text": [
      "[268 208 869 884]\n",
      "[244 125 864 912]\n",
      "[264 137 920 891]\n",
      "[126 186 747 970]\n"
     ]
    },
    {
     "name": "stderr",
     "output_type": "stream",
     "text": [
      "preprocessing: 9694it [07:52, 15.53it/s]"
     ]
    },
    {
     "name": "stdout",
     "output_type": "stream",
     "text": [
      "[226 196 779 964]\n",
      "[205 150 790 854]\n",
      "[246 202 804 981]\n",
      "[269 185 805 951]\n"
     ]
    },
    {
     "name": "stderr",
     "output_type": "stream",
     "text": [
      "preprocessing: 9698it [07:52, 15.63it/s]"
     ]
    },
    {
     "name": "stdout",
     "output_type": "stream",
     "text": [
      "[286 175 890 846]\n",
      "[170 190 771 918]\n",
      "[209 130 756 839]\n",
      "[277 239 757 932]\n"
     ]
    },
    {
     "name": "stderr",
     "output_type": "stream",
     "text": [
      "\r",
      "preprocessing: 9700it [07:52, 14.16it/s]"
     ]
    },
    {
     "name": "stdout",
     "output_type": "stream",
     "text": [
      "[116 195 725 948]\n",
      "[290 188 907 951]\n",
      "[152 164 682 852]\n"
     ]
    },
    {
     "name": "stderr",
     "output_type": "stream",
     "text": [
      "preprocessing: 9704it [07:52, 14.82it/s]"
     ]
    },
    {
     "name": "stdout",
     "output_type": "stream",
     "text": [
      "[265 226 763 963]\n",
      "[233 205 796 973]\n",
      "[343 214 940 960]\n",
      "[331 228 799 876]\n"
     ]
    },
    {
     "name": "stderr",
     "output_type": "stream",
     "text": [
      "preprocessing: 9708it [07:52, 15.25it/s]"
     ]
    },
    {
     "name": "stdout",
     "output_type": "stream",
     "text": [
      "[237 181 799 907]\n",
      "[269 278 849 955]\n",
      "[108 157 670 906]\n",
      "[203 105 783 927]\n"
     ]
    },
    {
     "name": "stderr",
     "output_type": "stream",
     "text": [
      "preprocessing: 9712it [07:53, 15.66it/s]"
     ]
    },
    {
     "name": "stdout",
     "output_type": "stream",
     "text": [
      "[262 192 822 896]\n",
      "[357 174 843 797]\n",
      "[252 209 785 974]\n",
      "[295 155 853 927]\n"
     ]
    },
    {
     "name": "stderr",
     "output_type": "stream",
     "text": [
      "preprocessing: 9716it [07:53, 15.67it/s]"
     ]
    },
    {
     "name": "stdout",
     "output_type": "stream",
     "text": [
      "[ 94 133 733 894]\n",
      "[234 179 881 932]\n",
      "[187 151 815 959]\n",
      "[193 187 768 943]\n"
     ]
    },
    {
     "name": "stderr",
     "output_type": "stream",
     "text": [
      "preprocessing: 9720it [07:53, 15.91it/s]"
     ]
    },
    {
     "name": "stdout",
     "output_type": "stream",
     "text": [
      "[192 201 750 924]\n",
      "[124 152 708 945]\n",
      "[304 174 905 868]\n",
      "[258  71 866 915]\n"
     ]
    },
    {
     "name": "stderr",
     "output_type": "stream",
     "text": [
      "preprocessing: 9724it [07:53, 15.58it/s]"
     ]
    },
    {
     "name": "stdout",
     "output_type": "stream",
     "text": [
      "[131 151 703 912]\n",
      "[263 225 794 918]\n",
      "[248 216 835 947]\n",
      "[259 116 926 893]\n"
     ]
    },
    {
     "name": "stderr",
     "output_type": "stream",
     "text": [
      "preprocessing: 9728it [07:54, 15.48it/s]"
     ]
    },
    {
     "name": "stdout",
     "output_type": "stream",
     "text": [
      "[126 155 727 925]\n",
      "[137 160 763 892]\n",
      "[ 88 193 684 915]\n",
      "[247 196 831 902]\n"
     ]
    },
    {
     "name": "stderr",
     "output_type": "stream",
     "text": [
      "preprocessing: 9732it [07:54, 15.47it/s]"
     ]
    },
    {
     "name": "stdout",
     "output_type": "stream",
     "text": [
      "[265 189 766 927]\n",
      "[159 182 781 987]\n",
      "[220 202 799 949]\n",
      "[249 159 832 886]\n"
     ]
    },
    {
     "name": "stderr",
     "output_type": "stream",
     "text": [
      "preprocessing: 9736it [07:54, 15.79it/s]"
     ]
    },
    {
     "name": "stdout",
     "output_type": "stream",
     "text": [
      "[ 201  179  860 1024]\n",
      "[210 206 799 939]\n",
      "[279 191 794 898]\n",
      "[283 150 864 927]\n"
     ]
    },
    {
     "name": "stderr",
     "output_type": "stream",
     "text": [
      "preprocessing: 9740it [07:54, 15.49it/s]"
     ]
    },
    {
     "name": "stdout",
     "output_type": "stream",
     "text": [
      "[243 192 824 983]\n",
      "[345 177 927 853]\n",
      "[186 127 803 900]\n",
      "[236 186 771 943]\n"
     ]
    },
    {
     "name": "stderr",
     "output_type": "stream",
     "text": [
      "preprocessing: 9744it [07:55, 15.81it/s]"
     ]
    },
    {
     "name": "stdout",
     "output_type": "stream",
     "text": [
      "[206 189 788 971]\n",
      "[220 132 792 882]\n",
      "[202 139 769 901]\n"
     ]
    },
    {
     "name": "stderr",
     "output_type": "stream",
     "text": [
      "preprocessing: 9748it [07:55, 15.86it/s]"
     ]
    },
    {
     "name": "stdout",
     "output_type": "stream",
     "text": [
      "[242 149 817 905]\n",
      "[ 281  227  912 1024]\n",
      "[189 166 757 902]\n",
      "[239 196 789 930]\n"
     ]
    },
    {
     "name": "stderr",
     "output_type": "stream",
     "text": [
      "preprocessing: 9752it [07:55, 16.08it/s]"
     ]
    },
    {
     "name": "stdout",
     "output_type": "stream",
     "text": [
      "[158 157 746 897]\n",
      "[238 103 855 860]\n",
      "[188 177 786 945]\n",
      "[193 148 794 918]\n"
     ]
    },
    {
     "name": "stderr",
     "output_type": "stream",
     "text": [
      "preprocessing: 9756it [07:55, 15.82it/s]"
     ]
    },
    {
     "name": "stdout",
     "output_type": "stream",
     "text": [
      "[261 128 885 864]\n",
      "[231 172 818 823]\n",
      "[197 163 744 915]\n",
      "[ 223  224  867 1022]\n"
     ]
    },
    {
     "name": "stderr",
     "output_type": "stream",
     "text": [
      "preprocessing: 9760it [07:56, 15.83it/s]"
     ]
    },
    {
     "name": "stdout",
     "output_type": "stream",
     "text": [
      "[224 176 880 853]\n",
      "[214 163 793 950]\n",
      "[303 139 932 890]\n",
      "[256 188 824 969]\n"
     ]
    },
    {
     "name": "stderr",
     "output_type": "stream",
     "text": [
      "preprocessing: 9764it [07:56, 15.42it/s]"
     ]
    },
    {
     "name": "stdout",
     "output_type": "stream",
     "text": [
      "[282 119 900 932]\n",
      "[160 167 735 872]\n",
      "[378  85 937 864]\n",
      "[219 148 811 952]\n"
     ]
    },
    {
     "name": "stderr",
     "output_type": "stream",
     "text": [
      "preprocessing: 9768it [07:56, 15.59it/s]"
     ]
    },
    {
     "name": "stdout",
     "output_type": "stream",
     "text": [
      "[205 133 767 894]\n",
      "[191 131 789 961]\n",
      "[290 226 801 893]\n",
      "[196 154 776 910]\n"
     ]
    },
    {
     "name": "stderr",
     "output_type": "stream",
     "text": [
      "preprocessing: 9772it [07:57, 15.57it/s]"
     ]
    },
    {
     "name": "stdout",
     "output_type": "stream",
     "text": [
      "[309 197 869 827]\n",
      "[ 90 193 707 856]\n",
      "[ 69 106 753 936]\n",
      "[311  84 888 863]\n"
     ]
    },
    {
     "name": "stderr",
     "output_type": "stream",
     "text": [
      "preprocessing: 9776it [07:57, 15.36it/s]"
     ]
    },
    {
     "name": "stdout",
     "output_type": "stream",
     "text": [
      "[ 230  151  845 1000]\n",
      "[219 182 811 958]\n",
      "[130 114 766 949]\n",
      "[233 209 763 915]\n"
     ]
    },
    {
     "name": "stderr",
     "output_type": "stream",
     "text": [
      "preprocessing: 9780it [07:57, 15.81it/s]"
     ]
    },
    {
     "name": "stdout",
     "output_type": "stream",
     "text": [
      "[193 175 799 937]\n",
      "[279 202 834 932]\n",
      "[136 137 743 947]\n"
     ]
    },
    {
     "name": "stderr",
     "output_type": "stream",
     "text": [
      "\r",
      "preprocessing: 9782it [07:57, 15.48it/s]"
     ]
    },
    {
     "name": "stdout",
     "output_type": "stream",
     "text": [
      "[209 178 762 874]\n",
      "[264 173 765 820]\n",
      "[179 195 730 940]\n",
      "[219 118 844 859]\n"
     ]
    },
    {
     "name": "stderr",
     "output_type": "stream",
     "text": [
      "preprocessing: 9786it [07:57, 15.59it/s]"
     ]
    },
    {
     "name": "stdout",
     "output_type": "stream",
     "text": [
      "[320 205 875 923]\n",
      "[168 135 758 960]\n",
      "[232 176 777 796]\n",
      "[275 197 815 915]\n"
     ]
    },
    {
     "name": "stderr",
     "output_type": "stream",
     "text": [
      "preprocessing: 9790it [07:58, 14.76it/s]"
     ]
    },
    {
     "name": "stdout",
     "output_type": "stream",
     "text": [
      "[224 186 762 904]\n",
      "[226 150 778 959]\n",
      "[255 184 873 901]\n",
      "[ 42 270 355 654]\n"
     ]
    },
    {
     "name": "stderr",
     "output_type": "stream",
     "text": [
      "preprocessing: 9794it [07:58, 15.59it/s]"
     ]
    },
    {
     "name": "stdout",
     "output_type": "stream",
     "text": [
      "[116 213 656 833]\n",
      "[195 175 789 932]\n",
      "[259 178 853 946]\n",
      "[224 105 959 961]\n"
     ]
    },
    {
     "name": "stderr",
     "output_type": "stream",
     "text": [
      "preprocessing: 9798it [07:58, 15.50it/s]"
     ]
    },
    {
     "name": "stdout",
     "output_type": "stream",
     "text": [
      "[157 168 773 932]\n",
      "[193  70 762 952]\n",
      "[177 166 767 965]\n",
      "[173 148 749 961]\n"
     ]
    },
    {
     "name": "stderr",
     "output_type": "stream",
     "text": [
      "preprocessing: 9802it [07:59, 13.76it/s]"
     ]
    },
    {
     "name": "stdout",
     "output_type": "stream",
     "text": [
      "[207 185 773 924]\n",
      "[121  60 790 921]\n",
      "[324 162 938 833]\n"
     ]
    },
    {
     "name": "stderr",
     "output_type": "stream",
     "text": [
      "preprocessing: 9806it [07:59, 14.66it/s]"
     ]
    },
    {
     "name": "stdout",
     "output_type": "stream",
     "text": [
      "[134 121 742 927]\n",
      "[216 188 813 963]\n",
      "[106 159 666 850]\n",
      "[136 155 743 913]\n"
     ]
    },
    {
     "name": "stderr",
     "output_type": "stream",
     "text": [
      "preprocessing: 9810it [07:59, 15.02it/s]"
     ]
    },
    {
     "name": "stdout",
     "output_type": "stream",
     "text": [
      "[241 190 776 878]\n",
      "[154 159 742 951]\n",
      "[271 192 831 906]\n",
      "[267 193 819 937]\n"
     ]
    },
    {
     "name": "stderr",
     "output_type": "stream",
     "text": [
      "preprocessing: 9814it [07:59, 15.10it/s]"
     ]
    },
    {
     "name": "stdout",
     "output_type": "stream",
     "text": [
      "[197 171 803 871]\n",
      "[224 192 796 961]\n",
      "[245 196 801 996]\n",
      "[226 226 770 929]\n"
     ]
    },
    {
     "name": "stderr",
     "output_type": "stream",
     "text": [
      "preprocessing: 9818it [08:00, 15.38it/s]"
     ]
    },
    {
     "name": "stdout",
     "output_type": "stream",
     "text": [
      "[199 187 749 945]\n",
      "[231 199 823 955]\n",
      "[242 236 766 904]\n"
     ]
    },
    {
     "name": "stderr",
     "output_type": "stream",
     "text": [
      "\r",
      "preprocessing: 9820it [08:00, 14.86it/s]"
     ]
    },
    {
     "name": "stdout",
     "output_type": "stream",
     "text": [
      "[302 176 843 848]\n",
      "[242 120 812 812]\n",
      "[191 180 802 938]\n",
      "[176 177 750 927]\n"
     ]
    },
    {
     "name": "stderr",
     "output_type": "stream",
     "text": [
      "preprocessing: 9826it [08:00, 15.67it/s]"
     ]
    },
    {
     "name": "stdout",
     "output_type": "stream",
     "text": [
      "[235 167 815 967]\n",
      "[225 262 772 944]\n",
      "[224 149 822 929]\n",
      "[241 124 961 909]\n"
     ]
    },
    {
     "name": "stderr",
     "output_type": "stream",
     "text": [
      "\r",
      "preprocessing: 9828it [08:00, 15.96it/s]"
     ]
    },
    {
     "name": "stdout",
     "output_type": "stream",
     "text": [
      "[252 142 895 956]\n",
      "[255 194 784 992]\n",
      "[221 206 740 895]\n"
     ]
    },
    {
     "name": "stderr",
     "output_type": "stream",
     "text": [
      "preprocessing: 9832it [08:00, 15.34it/s]"
     ]
    },
    {
     "name": "stdout",
     "output_type": "stream",
     "text": [
      "[225 186 794 951]\n",
      "[193 225 751 914]\n",
      "[222 210 802 897]\n",
      "[123 132 769 931]\n"
     ]
    },
    {
     "name": "stderr",
     "output_type": "stream",
     "text": [
      "preprocessing: 9836it [08:01, 15.50it/s]"
     ]
    },
    {
     "name": "stdout",
     "output_type": "stream",
     "text": [
      "[235 184 794 964]\n",
      "[254 178 823 916]\n",
      "[229 196 802 889]\n",
      "[102 136 712 876]\n"
     ]
    },
    {
     "name": "stderr",
     "output_type": "stream",
     "text": [
      "preprocessing: 9840it [08:01, 15.56it/s]"
     ]
    },
    {
     "name": "stdout",
     "output_type": "stream",
     "text": [
      "[183 167 766 925]\n",
      "[187 184 744 952]\n",
      "[278 203 848 972]\n",
      "[272 216 800 954]\n"
     ]
    },
    {
     "name": "stderr",
     "output_type": "stream",
     "text": [
      "preprocessing: 9844it [08:01, 15.31it/s]"
     ]
    },
    {
     "name": "stdout",
     "output_type": "stream",
     "text": [
      "[ 81 108 735 882]\n",
      "[187 138 790 906]\n",
      "[241 191 810 902]\n"
     ]
    },
    {
     "name": "stderr",
     "output_type": "stream",
     "text": [
      "\r",
      "preprocessing: 9846it [08:01, 15.26it/s]"
     ]
    },
    {
     "name": "stdout",
     "output_type": "stream",
     "text": [
      "[134 132 726 905]\n",
      "[193 158 821 811]\n",
      "[219 148 777 923]\n",
      "[129 183 723 824]\n"
     ]
    },
    {
     "name": "stderr",
     "output_type": "stream",
     "text": [
      "preprocessing: 9850it [08:02, 15.28it/s]"
     ]
    },
    {
     "name": "stdout",
     "output_type": "stream",
     "text": [
      "[152 182 756 935]\n",
      "[248 197 875 874]\n",
      "[215 147 824 897]\n"
     ]
    },
    {
     "name": "stderr",
     "output_type": "stream",
     "text": [
      "preprocessing: 9854it [08:02, 15.09it/s]"
     ]
    },
    {
     "name": "stdout",
     "output_type": "stream",
     "text": [
      "[156 173 780 959]\n",
      "[208 160 790 934]\n",
      "[239 241 814 876]\n",
      "[250 184 826 845]\n"
     ]
    },
    {
     "name": "stderr",
     "output_type": "stream",
     "text": [
      "preprocessing: 9858it [08:02, 15.91it/s]"
     ]
    },
    {
     "name": "stdout",
     "output_type": "stream",
     "text": [
      "[240 207 791 939]\n",
      "[188 214 792 965]\n",
      "[199 167 786 917]\n",
      "[187 200 757 949]\n"
     ]
    },
    {
     "name": "stderr",
     "output_type": "stream",
     "text": [
      "preprocessing: 9862it [08:02, 15.64it/s]"
     ]
    },
    {
     "name": "stdout",
     "output_type": "stream",
     "text": [
      "[273 248 850 856]\n",
      "[279 179 751 865]\n",
      "[102 106 734 974]\n"
     ]
    },
    {
     "name": "stderr",
     "output_type": "stream",
     "text": [
      "preprocessing: 9866it [08:03, 16.04it/s]"
     ]
    },
    {
     "name": "stdout",
     "output_type": "stream",
     "text": [
      "[300 161 831 831]\n",
      "[237 215 794 955]\n",
      "[251 212 782 935]\n",
      "[252 161 724 901]\n",
      "[232 199 801 914]\n"
     ]
    },
    {
     "name": "stderr",
     "output_type": "stream",
     "text": [
      "preprocessing: 9870it [08:03, 15.58it/s]"
     ]
    },
    {
     "name": "stdout",
     "output_type": "stream",
     "text": [
      "[158 127 792 967]\n",
      "[140 168 776 879]\n",
      "[ 198  215  748 1003]\n"
     ]
    },
    {
     "name": "stderr",
     "output_type": "stream",
     "text": [
      "\r",
      "preprocessing: 9872it [08:03, 15.51it/s]"
     ]
    },
    {
     "name": "stdout",
     "output_type": "stream",
     "text": [
      "[265 227 783 899]\n",
      "[294 254 829 880]\n",
      "[248 192 761 927]\n",
      "[160 156 745 932]\n"
     ]
    },
    {
     "name": "stderr",
     "output_type": "stream",
     "text": [
      "preprocessing: 9876it [08:03, 15.45it/s]"
     ]
    },
    {
     "name": "stdout",
     "output_type": "stream",
     "text": [
      "[219 253 759 947]\n",
      "[326 185 904 919]\n",
      "[272 152 938 831]\n",
      "[ 289  219 1016  835]\n"
     ]
    },
    {
     "name": "stderr",
     "output_type": "stream",
     "text": [
      "preprocessing: 9880it [08:04, 15.50it/s]"
     ]
    },
    {
     "name": "stdout",
     "output_type": "stream",
     "text": [
      "[269 173 817 959]\n",
      "[278 204 730 904]\n",
      "[206 163 791 906]\n"
     ]
    },
    {
     "name": "stderr",
     "output_type": "stream",
     "text": [
      "preprocessing: 9884it [08:04, 15.39it/s]"
     ]
    },
    {
     "name": "stdout",
     "output_type": "stream",
     "text": [
      "[250 180 887 922]\n",
      "[201  92 792 885]\n",
      "[119 120 767 944]\n",
      "[209 157 790 844]\n"
     ]
    },
    {
     "name": "stderr",
     "output_type": "stream",
     "text": [
      "preprocessing: 9888it [08:04, 15.31it/s]"
     ]
    },
    {
     "name": "stdout",
     "output_type": "stream",
     "text": [
      "[213 191 805 836]\n",
      "[246 186 862 938]\n",
      "[152 180 765 900]\n"
     ]
    },
    {
     "name": "stderr",
     "output_type": "stream",
     "text": [
      "\r",
      "preprocessing: 9890it [08:04, 15.10it/s]"
     ]
    },
    {
     "name": "stdout",
     "output_type": "stream",
     "text": [
      "[275 177 837 939]\n",
      "[190 213 731 982]\n",
      "[183 223 740 788]\n"
     ]
    },
    {
     "name": "stderr",
     "output_type": "stream",
     "text": [
      "preprocessing: 9894it [08:05, 14.99it/s]"
     ]
    },
    {
     "name": "stdout",
     "output_type": "stream",
     "text": [
      "[ 79 194 745 889]\n",
      "[209 199 811 948]\n",
      "[359 158 987 886]\n"
     ]
    },
    {
     "name": "stderr",
     "output_type": "stream",
     "text": [
      "\r",
      "preprocessing: 9896it [08:05, 14.45it/s]"
     ]
    },
    {
     "name": "stdout",
     "output_type": "stream",
     "text": [
      "[166 199 777 955]\n",
      "[206 156 798 873]\n",
      "[266 217 851 978]\n"
     ]
    },
    {
     "name": "stderr",
     "output_type": "stream",
     "text": [
      "preprocessing: 9900it [08:05, 13.83it/s]"
     ]
    },
    {
     "name": "stdout",
     "output_type": "stream",
     "text": [
      "[268 102 951 945]\n",
      "[268 197 833 890]\n",
      "[157 151 781 950]\n"
     ]
    },
    {
     "name": "stderr",
     "output_type": "stream",
     "text": [
      "\r",
      "preprocessing: 9902it [08:05, 14.06it/s]"
     ]
    },
    {
     "name": "stdout",
     "output_type": "stream",
     "text": [
      "[189 143 793 907]\n",
      "[271 195 820 836]\n",
      "[236 164 810 879]\n",
      "[129 123 736 911]\n"
     ]
    },
    {
     "name": "stderr",
     "output_type": "stream",
     "text": [
      "preprocessing: 9906it [08:05, 14.90it/s]"
     ]
    },
    {
     "name": "stdout",
     "output_type": "stream",
     "text": [
      "[325 186 938 807]\n",
      "[283 186 914 948]\n",
      "[135 164 719 880]\n",
      "[246 144 805 865]\n"
     ]
    },
    {
     "name": "stderr",
     "output_type": "stream",
     "text": [
      "preprocessing: 9910it [08:06, 15.25it/s]"
     ]
    },
    {
     "name": "stdout",
     "output_type": "stream",
     "text": [
      "[242 121 898 858]\n",
      "[ 59 223 664 882]\n",
      "[251 212 808 936]\n",
      "[225 153 807 959]\n"
     ]
    },
    {
     "name": "stderr",
     "output_type": "stream",
     "text": [
      "preprocessing: 9914it [08:06, 15.15it/s]"
     ]
    },
    {
     "name": "stdout",
     "output_type": "stream",
     "text": [
      "[269 187 946 900]\n",
      "[210  90 792 918]\n",
      "[160 149 780 904]\n"
     ]
    },
    {
     "name": "stderr",
     "output_type": "stream",
     "text": [
      "preprocessing: 9918it [08:06, 15.19it/s]"
     ]
    },
    {
     "name": "stdout",
     "output_type": "stream",
     "text": [
      "[289 191 920 916]\n",
      "[223 131 871 896]\n",
      "[293 165 909 846]\n",
      "[141 131 728 883]\n"
     ]
    },
    {
     "name": "stderr",
     "output_type": "stream",
     "text": [
      "preprocessing: 9922it [08:06, 15.36it/s]"
     ]
    },
    {
     "name": "stdout",
     "output_type": "stream",
     "text": [
      "[206 143 794 902]\n",
      "[173 197 854 889]\n",
      "[272 178 837 961]\n",
      "[ 88 143 734 939]\n"
     ]
    },
    {
     "name": "stderr",
     "output_type": "stream",
     "text": [
      "preprocessing: 9926it [08:07, 15.41it/s]"
     ]
    },
    {
     "name": "stdout",
     "output_type": "stream",
     "text": [
      "[152 153 805 931]\n",
      "[189 139 804 851]\n",
      "[127 163 794 969]\n",
      "[109 162 776 882]\n"
     ]
    },
    {
     "name": "stderr",
     "output_type": "stream",
     "text": [
      "preprocessing: 9930it [08:07, 15.33it/s]"
     ]
    },
    {
     "name": "stdout",
     "output_type": "stream",
     "text": [
      "[269 192 910 929]\n",
      "[135 162 722 905]\n",
      "[257 181 826 954]\n"
     ]
    },
    {
     "name": "stderr",
     "output_type": "stream",
     "text": [
      "\r",
      "preprocessing: 9932it [08:07, 15.56it/s]"
     ]
    },
    {
     "name": "stdout",
     "output_type": "stream",
     "text": [
      "[173 140 836 953]\n",
      "[151 160 785 959]\n",
      "[220 212 757 955]\n"
     ]
    },
    {
     "name": "stderr",
     "output_type": "stream",
     "text": [
      "preprocessing: 9936it [08:07, 15.55it/s]"
     ]
    },
    {
     "name": "stdout",
     "output_type": "stream",
     "text": [
      "[182 156 773 938]\n",
      "[341 204 924 868]\n",
      "[294 161 775 923]\n"
     ]
    },
    {
     "name": "stderr",
     "output_type": "stream",
     "text": [
      "\r",
      "preprocessing: 9938it [08:07, 15.58it/s]"
     ]
    },
    {
     "name": "stdout",
     "output_type": "stream",
     "text": [
      "[214 215 742 948]\n",
      "[134 182 812 892]\n",
      "[222 193 753 870]\n",
      "[ 90 193 708 923]\n"
     ]
    },
    {
     "name": "stderr",
     "output_type": "stream",
     "text": [
      "preprocessing: 9942it [08:08, 15.14it/s]"
     ]
    },
    {
     "name": "stdout",
     "output_type": "stream",
     "text": [
      "[141 109 752 973]\n",
      "[106 125 761 968]\n",
      "[229 152 831 914]\n"
     ]
    },
    {
     "name": "stderr",
     "output_type": "stream",
     "text": [
      "preprocessing: 9946it [08:08, 15.28it/s]"
     ]
    },
    {
     "name": "stdout",
     "output_type": "stream",
     "text": [
      "[275 146 867 913]\n",
      "[174 140 756 912]\n",
      "[278 169 880 838]\n",
      "[179 185 746 935]\n"
     ]
    },
    {
     "name": "stderr",
     "output_type": "stream",
     "text": [
      "preprocessing: 9950it [08:08, 15.04it/s]"
     ]
    },
    {
     "name": "stdout",
     "output_type": "stream",
     "text": [
      "[129 141 759 887]\n",
      "[265  76 907 960]\n",
      "[103 109 769 909]\n",
      "[235 213 767 865]\n"
     ]
    },
    {
     "name": "stderr",
     "output_type": "stream",
     "text": [
      "preprocessing: 9954it [08:08, 15.24it/s]"
     ]
    },
    {
     "name": "stdout",
     "output_type": "stream",
     "text": [
      "[283 195 922 889]\n",
      "[195 182 765 881]\n",
      "[138 113 814 906]\n"
     ]
    },
    {
     "name": "stderr",
     "output_type": "stream",
     "text": [
      "\r",
      "preprocessing: 9956it [08:09, 15.57it/s]"
     ]
    },
    {
     "name": "stdout",
     "output_type": "stream",
     "text": [
      "[190 167 793 931]\n",
      "[228 143 794 769]\n",
      "[251 204 819 928]\n",
      "[261 175 865 908]\n"
     ]
    },
    {
     "name": "stderr",
     "output_type": "stream",
     "text": [
      "preprocessing: 9960it [08:09, 15.32it/s]"
     ]
    },
    {
     "name": "stdout",
     "output_type": "stream",
     "text": [
      "[231 199 785 964]\n",
      "[254 177 777 928]\n",
      "[218 195 777 989]\n",
      "[421 161 932 843]\n"
     ]
    },
    {
     "name": "stderr",
     "output_type": "stream",
     "text": [
      "preprocessing: 9964it [08:09, 15.56it/s]"
     ]
    },
    {
     "name": "stdout",
     "output_type": "stream",
     "text": [
      "[277 181 816 896]\n",
      "[124 166 711 930]\n",
      "[270 160 775 920]\n",
      "[200 219 772 718]\n"
     ]
    },
    {
     "name": "stderr",
     "output_type": "stream",
     "text": [
      "preprocessing: 9968it [08:09, 15.42it/s]"
     ]
    },
    {
     "name": "stdout",
     "output_type": "stream",
     "text": [
      "[218 121 819 951]\n",
      "[ 93 147 758 900]\n",
      "[261  94 915 977]\n"
     ]
    },
    {
     "name": "stderr",
     "output_type": "stream",
     "text": [
      "preprocessing: 9972it [08:10, 15.38it/s]"
     ]
    },
    {
     "name": "stdout",
     "output_type": "stream",
     "text": [
      "[132 163 760 957]\n",
      "[287 216 787 887]\n",
      "[174 176 782 995]\n",
      "[215 198 774 859]\n"
     ]
    },
    {
     "name": "stderr",
     "output_type": "stream",
     "text": [
      "preprocessing: 9976it [08:10, 15.29it/s]"
     ]
    },
    {
     "name": "stdout",
     "output_type": "stream",
     "text": [
      "[ 91 157 774 908]\n",
      "[ 44 180 703 852]\n",
      "[259 133 856 861]\n",
      "[259 152 795 933]\n"
     ]
    },
    {
     "name": "stderr",
     "output_type": "stream",
     "text": [
      "preprocessing: 9980it [08:10, 15.52it/s]"
     ]
    },
    {
     "name": "stdout",
     "output_type": "stream",
     "text": [
      "[220 180 833 929]\n",
      "[112 153 740 894]\n",
      "[237 195 777 931]\n"
     ]
    },
    {
     "name": "stderr",
     "output_type": "stream",
     "text": [
      "\r",
      "preprocessing: 9982it [08:10, 15.30it/s]"
     ]
    },
    {
     "name": "stdout",
     "output_type": "stream",
     "text": [
      "[167 136 749 833]\n",
      "[227 146 808 956]\n",
      "[225 136 788 967]\n",
      "[149 121 785 969]\n"
     ]
    },
    {
     "name": "stderr",
     "output_type": "stream",
     "text": [
      "preprocessing: 9986it [08:11, 15.25it/s]"
     ]
    },
    {
     "name": "stdout",
     "output_type": "stream",
     "text": [
      "[217 120 794 914]\n",
      "[ 86 177 721 938]\n",
      "[293 217 852 945]\n",
      "[293 233 850 952]\n"
     ]
    },
    {
     "name": "stderr",
     "output_type": "stream",
     "text": [
      "preprocessing: 9990it [08:11, 15.30it/s]"
     ]
    },
    {
     "name": "stdout",
     "output_type": "stream",
     "text": [
      "[251 195 771 898]\n",
      "[216 218 759 938]\n",
      "[ 91  83 754 921]\n",
      "[269 177 829 909]\n"
     ]
    },
    {
     "name": "stderr",
     "output_type": "stream",
     "text": [
      "preprocessing: 9994it [08:11, 15.34it/s]"
     ]
    },
    {
     "name": "stdout",
     "output_type": "stream",
     "text": [
      "[233 196 822 945]\n",
      "[260 192 873 930]\n",
      "[163 190 756 913]\n"
     ]
    },
    {
     "name": "stderr",
     "output_type": "stream",
     "text": [
      "preprocessing: 9998it [08:11, 15.37it/s]"
     ]
    },
    {
     "name": "stdout",
     "output_type": "stream",
     "text": [
      "[210 239 768 832]\n",
      "[ 267  103 1008  887]\n",
      "[302 201 853 931]\n",
      "[274 102 983 877]\n"
     ]
    },
    {
     "name": "stderr",
     "output_type": "stream",
     "text": [
      "preprocessing: 10000it [08:12, 20.32it/s]"
     ]
    },
    {
     "name": "stdout",
     "output_type": "stream",
     "text": [
      "[233 204 775 948]\n"
     ]
    },
    {
     "name": "stderr",
     "output_type": "stream",
     "text": [
      "\n"
     ]
    }
   ],
   "source": [
    "#len(images_path)\n",
    "\n",
    "data_img = []\n",
    "label_img = []\n",
    "i = 0\n",
    "for path, label in tqdm(zip(images_path, labels), desc='preprocessing'):\n",
    "    img = cv2.imread(path)\n",
    "    process_img = datapreprocess(img)\n",
    "    if process_img is not None:\n",
    "        data_img.append(process_img)\n",
    "        label_img.append(label)\n",
    "        \n",
    "    i += 1\n",
    "    if i%100 == 0:\n",
    "        gc.collect()"
   ]
  },
  {
   "cell_type": "code",
   "execution_count": 22,
   "id": "56129183",
   "metadata": {},
   "outputs": [],
   "source": [
    "X = np.array(data_img)\n",
    "y = np.array(label_img)"
   ]
  },
  {
   "cell_type": "code",
   "execution_count": 23,
   "id": "1e9233c5",
   "metadata": {},
   "outputs": [
    {
     "data": {
      "text/plain": [
       "((9959, 100, 100, 3), (9959,))"
      ]
     },
     "execution_count": 23,
     "metadata": {},
     "output_type": "execute_result"
    }
   ],
   "source": [
    "X.shape, y.shape"
   ]
  },
  {
   "cell_type": "code",
   "execution_count": 24,
   "id": "4b872e33",
   "metadata": {},
   "outputs": [],
   "source": [
    "np.savez('./data/data_preprocess.npz', X, y)"
   ]
  },
  {
   "cell_type": "code",
   "execution_count": null,
   "id": "d8d86335",
   "metadata": {},
   "outputs": [],
   "source": []
  },
  {
   "cell_type": "code",
   "execution_count": null,
   "id": "11b760d2",
   "metadata": {},
   "outputs": [],
   "source": []
  }
 ],
 "metadata": {
  "kernelspec": {
   "display_name": "Python 3 (ipykernel)",
   "language": "python",
   "name": "python3"
  },
  "language_info": {
   "codemirror_mode": {
    "name": "ipython",
    "version": 3
   },
   "file_extension": ".py",
   "mimetype": "text/x-python",
   "name": "python",
   "nbconvert_exporter": "python",
   "pygments_lexer": "ipython3",
   "version": "3.10.3"
  }
 },
 "nbformat": 4,
 "nbformat_minor": 5
}
