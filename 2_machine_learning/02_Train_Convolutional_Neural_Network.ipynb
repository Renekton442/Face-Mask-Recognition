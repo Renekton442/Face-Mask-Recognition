{
 "cells": [
  {
   "cell_type": "markdown",
   "id": "8336da7d",
   "metadata": {},
   "source": [
    "## Train Deep Learning Model"
   ]
  },
  {
   "cell_type": "markdown",
   "id": "50227054",
   "metadata": {},
   "source": [
    "### step-1 load the preprocess data"
   ]
  },
  {
   "cell_type": "code",
   "execution_count": 1,
   "id": "a311b6b3",
   "metadata": {},
   "outputs": [],
   "source": [
    "import os\n",
    "import numpy as np\n",
    "import cv2\n",
    "import gc"
   ]
  },
  {
   "cell_type": "code",
   "execution_count": 2,
   "id": "c5c4bde5",
   "metadata": {},
   "outputs": [],
   "source": [
    "# load the preprocessed data\n",
    "data = np.load('./data/data_preprocess.npz')"
   ]
  },
  {
   "cell_type": "code",
   "execution_count": 3,
   "id": "949e8123",
   "metadata": {},
   "outputs": [],
   "source": [
    "X = data['arr_0']\n",
    "y = data['arr_1']"
   ]
  },
  {
   "cell_type": "code",
   "execution_count": 4,
   "id": "8e4558e4",
   "metadata": {},
   "outputs": [
    {
     "data": {
      "text/plain": [
       "((9959, 100, 100, 3), (9959,))"
      ]
     },
     "execution_count": 4,
     "metadata": {},
     "output_type": "execute_result"
    }
   ],
   "source": [
    "X.shape, y.shape"
   ]
  },
  {
   "cell_type": "markdown",
   "id": "3bf84e28",
   "metadata": {},
   "source": [
    "### Preprocessing \"y\""
   ]
  },
  {
   "cell_type": "code",
   "execution_count": 5,
   "id": "d704e6ac",
   "metadata": {},
   "outputs": [
    {
     "data": {
      "text/plain": [
       "array(['Mask', 'Mask_Chin', 'Mask_Mouth_Chin', 'Mask_Nose_Mouth'],\n",
       "      dtype='<U15')"
      ]
     },
     "execution_count": 5,
     "metadata": {},
     "output_type": "execute_result"
    }
   ],
   "source": [
    "np.unique(y)"
   ]
  },
  {
   "cell_type": "code",
   "execution_count": 6,
   "id": "bc63d572",
   "metadata": {},
   "outputs": [],
   "source": [
    "from sklearn.preprocessing import OneHotEncoder"
   ]
  },
  {
   "cell_type": "code",
   "execution_count": 7,
   "id": "dd8951e8",
   "metadata": {},
   "outputs": [],
   "source": [
    "onehot = OneHotEncoder()\n",
    "y_onehot = onehot.fit_transform(y.reshape(-1,1))"
   ]
  },
  {
   "cell_type": "code",
   "execution_count": 8,
   "id": "ca569741",
   "metadata": {},
   "outputs": [],
   "source": [
    "y_array = y_onehot.toarray()"
   ]
  },
  {
   "cell_type": "markdown",
   "id": "08798255",
   "metadata": {},
   "source": [
    "### Split the Data into Train and Test sets"
   ]
  },
  {
   "cell_type": "code",
   "execution_count": 9,
   "id": "eea32408",
   "metadata": {},
   "outputs": [],
   "source": [
    "from sklearn.model_selection import train_test_split\n",
    "x_train, x_test, y_train, y_test = train_test_split(X,y_array,test_size=0.2,random_state=42)"
   ]
  },
  {
   "cell_type": "code",
   "execution_count": 10,
   "id": "40129ec5",
   "metadata": {},
   "outputs": [
    {
     "data": {
      "text/plain": [
       "((7967, 100, 100, 3), (1992, 100, 100, 3), (7967, 4), (1992, 4))"
      ]
     },
     "execution_count": 10,
     "metadata": {},
     "output_type": "execute_result"
    }
   ],
   "source": [
    "x_train.shape, x_test.shape, y_train.shape, y_test.shape"
   ]
  },
  {
   "cell_type": "markdown",
   "id": "1f9b4293",
   "metadata": {},
   "source": [
    "### Deep Learning Model"
   ]
  },
  {
   "cell_type": "code",
   "execution_count": 11,
   "id": "ec3197eb",
   "metadata": {},
   "outputs": [
    {
     "data": {
      "text/plain": [
       "array([[0., 0., 1., 0.],\n",
       "       [0., 0., 0., 1.],\n",
       "       [0., 0., 0., 1.],\n",
       "       ...,\n",
       "       [0., 0., 1., 0.],\n",
       "       [1., 0., 0., 0.],\n",
       "       [0., 0., 1., 0.]])"
      ]
     },
     "execution_count": 11,
     "metadata": {},
     "output_type": "execute_result"
    }
   ],
   "source": [
    "y_train"
   ]
  },
  {
   "cell_type": "code",
   "execution_count": 12,
   "id": "05ad97c2",
   "metadata": {},
   "outputs": [],
   "source": [
    "cv2.imshow('a',x_train[-2])\n",
    "cv2.waitKey()\n",
    "cv2.destroyAllWindows()"
   ]
  },
  {
   "cell_type": "code",
   "execution_count": 13,
   "id": "309cbc21",
   "metadata": {},
   "outputs": [],
   "source": [
    "import tensorflow as tf\n",
    "from tensorflow.keras import layers\n",
    "from tensorflow.keras import Sequential"
   ]
  },
  {
   "cell_type": "code",
   "execution_count": 14,
   "id": "bfc34898",
   "metadata": {},
   "outputs": [],
   "source": [
    "# convolution neural network\n",
    "\n",
    "model = Sequential([\n",
    "    layers.Conv2D(16,3,padding='same',input_shape=(100,100,3),activation='relu'),\n",
    "    layers.MaxPool2D(),\n",
    "    layers.Conv2D(32,3,padding='same',activation='relu'),\n",
    "    layers.MaxPool2D(),\n",
    "    layers.Conv2D(64,3,padding='same',activation='relu'),\n",
    "    layers.MaxPool2D(),\n",
    "    layers.Flatten(),\n",
    "    layers.Dense(192,activation='relu'),\n",
    "    layers.Dense(28,activation='relu'),\n",
    "    layers.Dense(4,activation='sigmoid')\n",
    "])\n",
    "\n",
    "\n",
    "# compiling CNN\n",
    "model.compile(optimizer=tf.keras.optimizers.Adam(learning_rate=0.001),\n",
    "              loss=tf.keras.losses.categorical_crossentropy,metrics=['accuracy'])"
   ]
  },
  {
   "cell_type": "code",
   "execution_count": 15,
   "id": "6a67e474",
   "metadata": {},
   "outputs": [
    {
     "name": "stdout",
     "output_type": "stream",
     "text": [
      "Model: \"sequential\"\n",
      "_________________________________________________________________\n",
      " Layer (type)                Output Shape              Param #   \n",
      "=================================================================\n",
      " conv2d (Conv2D)             (None, 100, 100, 16)      448       \n",
      "                                                                 \n",
      " max_pooling2d (MaxPooling2D  (None, 50, 50, 16)       0         \n",
      " )                                                               \n",
      "                                                                 \n",
      " conv2d_1 (Conv2D)           (None, 50, 50, 32)        4640      \n",
      "                                                                 \n",
      " max_pooling2d_1 (MaxPooling  (None, 25, 25, 32)       0         \n",
      " 2D)                                                             \n",
      "                                                                 \n",
      " conv2d_2 (Conv2D)           (None, 25, 25, 64)        18496     \n",
      "                                                                 \n",
      " max_pooling2d_2 (MaxPooling  (None, 12, 12, 64)       0         \n",
      " 2D)                                                             \n",
      "                                                                 \n",
      " flatten (Flatten)           (None, 9216)              0         \n",
      "                                                                 \n",
      " dense (Dense)               (None, 192)               1769664   \n",
      "                                                                 \n",
      " dense_1 (Dense)             (None, 28)                5404      \n",
      "                                                                 \n",
      " dense_2 (Dense)             (None, 4)                 116       \n",
      "                                                                 \n",
      "=================================================================\n",
      "Total params: 1,798,768\n",
      "Trainable params: 1,798,768\n",
      "Non-trainable params: 0\n",
      "_________________________________________________________________\n"
     ]
    }
   ],
   "source": [
    "model.summary()"
   ]
  },
  {
   "cell_type": "code",
   "execution_count": 16,
   "id": "4c85f95b",
   "metadata": {},
   "outputs": [
    {
     "name": "stdout",
     "output_type": "stream",
     "text": [
      "Epoch 1/20\n",
      "266/266 [==============================] - 18s 68ms/step - loss: 0.2157 - accuracy: 0.9208 - val_loss: 0.0791 - val_accuracy: 0.9749\n",
      "Epoch 2/20\n",
      "266/266 [==============================] - 18s 68ms/step - loss: 0.0680 - accuracy: 0.9784 - val_loss: 0.0755 - val_accuracy: 0.9754\n",
      "Epoch 3/20\n",
      "266/266 [==============================] - 21s 78ms/step - loss: 0.0412 - accuracy: 0.9866 - val_loss: 0.0452 - val_accuracy: 0.9869\n",
      "Epoch 4/20\n",
      "266/266 [==============================] - 20s 75ms/step - loss: 0.0333 - accuracy: 0.9891 - val_loss: 0.0694 - val_accuracy: 0.9804\n",
      "Epoch 5/20\n",
      "266/266 [==============================] - 20s 76ms/step - loss: 0.0217 - accuracy: 0.9922 - val_loss: 0.0539 - val_accuracy: 0.9834\n",
      "Epoch 6/20\n",
      "266/266 [==============================] - 19s 73ms/step - loss: 0.0195 - accuracy: 0.9935 - val_loss: 0.0463 - val_accuracy: 0.9890\n",
      "Epoch 7/20\n",
      "266/266 [==============================] - 18s 68ms/step - loss: 0.0085 - accuracy: 0.9971 - val_loss: 0.0655 - val_accuracy: 0.9859\n",
      "Epoch 8/20\n",
      "266/266 [==============================] - 18s 68ms/step - loss: 0.0139 - accuracy: 0.9955 - val_loss: 0.0444 - val_accuracy: 0.9885\n",
      "Epoch 9/20\n",
      "266/266 [==============================] - 20s 75ms/step - loss: 0.0133 - accuracy: 0.9950 - val_loss: 0.0686 - val_accuracy: 0.9829\n",
      "Epoch 10/20\n",
      "266/266 [==============================] - 21s 78ms/step - loss: 0.0040 - accuracy: 0.9987 - val_loss: 0.0575 - val_accuracy: 0.9895\n",
      "Epoch 11/20\n",
      "266/266 [==============================] - 19s 72ms/step - loss: 1.5658e-04 - accuracy: 1.0000 - val_loss: 0.0609 - val_accuracy: 0.9905\n",
      "Epoch 12/20\n",
      "266/266 [==============================] - 18s 69ms/step - loss: 4.6353e-05 - accuracy: 1.0000 - val_loss: 0.0620 - val_accuracy: 0.9905\n",
      "Epoch 13/20\n",
      "266/266 [==============================] - 18s 69ms/step - loss: 2.9431e-05 - accuracy: 1.0000 - val_loss: 0.0633 - val_accuracy: 0.9900\n",
      "Epoch 14/20\n",
      "266/266 [==============================] - 18s 69ms/step - loss: 2.1678e-05 - accuracy: 1.0000 - val_loss: 0.0645 - val_accuracy: 0.9900\n",
      "Epoch 15/20\n",
      "266/266 [==============================] - 18s 69ms/step - loss: 1.6631e-05 - accuracy: 1.0000 - val_loss: 0.0663 - val_accuracy: 0.9900\n",
      "Epoch 16/20\n",
      "266/266 [==============================] - 20s 75ms/step - loss: 1.3266e-05 - accuracy: 1.0000 - val_loss: 0.0666 - val_accuracy: 0.9900\n",
      "Epoch 17/20\n",
      "266/266 [==============================] - 19s 72ms/step - loss: 1.0631e-05 - accuracy: 1.0000 - val_loss: 0.0683 - val_accuracy: 0.9900\n",
      "Epoch 18/20\n",
      "266/266 [==============================] - 19s 70ms/step - loss: 8.7136e-06 - accuracy: 1.0000 - val_loss: 0.0694 - val_accuracy: 0.9900\n",
      "Epoch 19/20\n",
      "266/266 [==============================] - 19s 70ms/step - loss: 7.2066e-06 - accuracy: 1.0000 - val_loss: 0.0706 - val_accuracy: 0.9900\n",
      "Epoch 20/20\n",
      "266/266 [==============================] - 19s 70ms/step - loss: 5.9477e-06 - accuracy: 1.0000 - val_loss: 0.0717 - val_accuracy: 0.9900\n"
     ]
    }
   ],
   "source": [
    "# Training CNN\n",
    "history = model.fit(x=x_train,y=y_train,validation_data=(x_test,y_test),batch_size=30,epochs=20)"
   ]
  },
  {
   "cell_type": "code",
   "execution_count": 17,
   "id": "7f17d44e",
   "metadata": {},
   "outputs": [
    {
     "data": {
      "image/png": "[encoded data removed]",
      "text/plain": [
       "<Figure size 432x288 with 1 Axes>"
      ]
     },
     "metadata": {
      "needs_background": "light"
     },
     "output_type": "display_data"
    },
    {
     "data": {
      "image/png": "[encoded data removed]",
      "text/plain": [
       "<Figure size 432x288 with 1 Axes>"
      ]
     },
     "metadata": {
      "needs_background": "light"
     },
     "output_type": "display_data"
    }
   ],
   "source": [
    "import pandas as pd\n",
    "import matplotlib.pyplot as plt\n",
    "\n",
    "history_df = pd.DataFrame(history.history)\n",
    "\n",
    "history_df\n",
    "\n",
    "history_df[['loss','val_loss']].plot(kind='line')\n",
    "plt.xlabel('Epochs')\n",
    "plt.ylabel('Loss')\n",
    "plt.xticks(list(range(10)),list(range(1,11)))\n",
    "plt.show()\n",
    "\n",
    "history_df[['accuracy','val_accuracy']].plot(kind='line')\n",
    "plt.xlabel('Epochs')\n",
    "plt.ylabel('Accuracy')\n",
    "plt.xticks(list(range(10)),list(range(1,11)))\n",
    "plt.show()\n",
    "\n"
   ]
  },
  {
   "cell_type": "code",
   "execution_count": 18,
   "id": "f2644c9d",
   "metadata": {},
   "outputs": [
    {
     "name": "stdout",
     "output_type": "stream",
     "text": [
      "INFO:tensorflow:Assets written to: face_cnn_model\\assets\n"
     ]
    }
   ],
   "source": [
    "# Save CNN Model\n",
    "model.save('face_cnn_model')\n",
    "\n"
   ]
  },
  {
   "cell_type": "code",
   "execution_count": 19,
   "id": "83494eff",
   "metadata": {},
   "outputs": [
    {
     "data": {
      "text/plain": [
       "[array(['Mask', 'Mask_Chin', 'Mask_Mouth_Chin', 'Mask_Nose_Mouth'],\n",
       "       dtype='<U15')]"
      ]
     },
     "execution_count": 19,
     "metadata": {},
     "output_type": "execute_result"
    }
   ],
   "source": [
    "onehot.categories_"
   ]
  }
 ],
 "metadata": {
  "kernelspec": {
   "display_name": "Python 3 (ipykernel)",
   "language": "python",
   "name": "python3"
  },
  "language_info": {
   "codemirror_mode": {
    "name": "ipython",
    "version": 3
   },
   "file_extension": ".py",
   "mimetype": "text/x-python",
   "name": "python",
   "nbconvert_exporter": "python",
   "pygments_lexer": "ipython3",
   "version": "3.10.3"
  }
 },
 "nbformat": 4,
 "nbformat_minor": 5
}
